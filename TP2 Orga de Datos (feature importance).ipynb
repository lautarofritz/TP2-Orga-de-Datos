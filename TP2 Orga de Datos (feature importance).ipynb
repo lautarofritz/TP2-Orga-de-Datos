{
 "cells": [
  {
   "cell_type": "code",
   "execution_count": 1,
   "metadata": {},
   "outputs": [],
   "source": [
    "import pandas as pd\n",
    "import numpy as np\n",
    "import matplotlib.pyplot as plt\n",
    "from sklearn import datasets\n",
    "from sklearn.preprocessing import LabelEncoder\n",
    "from sklearn.model_selection import train_test_split\n",
    "from sklearn.neighbors import KNeighborsRegressor\n",
    "from xgboost import XGBRegressor\n",
    "from sklearn.model_selection import GridSearchCV\n",
    "from sklearn.model_selection import RandomizedSearchCV\n",
    "from bayes_opt import BayesianOptimization\n",
    "import category_encoders as ce\n",
    "from sklearn.ensemble import VotingRegressor\n",
    "from sklearn.ensemble import RandomForestRegressor"
   ]
  },
  {
   "cell_type": "code",
   "execution_count": 2,
   "metadata": {},
   "outputs": [],
   "source": [
    "train = pd.read_csv(r'train.csv', index_col=0)\n",
    "test = pd.read_csv(r'test.csv', index_col=0)"
   ]
  },
  {
   "cell_type": "code",
   "execution_count": 3,
   "metadata": {},
   "outputs": [],
   "source": [
    "#metrica\n",
    "def MAE(actual, pred):\n",
    "    return (np.mean(np.absolute(actual - pred)))"
   ]
  },
  {
   "cell_type": "markdown",
   "metadata": {},
   "source": [
    "## Preprocesamiento"
   ]
  },
  {
   "cell_type": "code",
   "execution_count": 4,
   "metadata": {},
   "outputs": [
    {
     "data": {
      "text/plain": [
       "titulo                          5387\n",
       "descripcion                     1619\n",
       "tipodepropiedad                   46\n",
       "direccion                      53072\n",
       "ciudad                           372\n",
       "provincia                        155\n",
       "antiguedad                     43555\n",
       "habitaciones                   22471\n",
       "garages                        37765\n",
       "banos                          26221\n",
       "metroscubiertos                17400\n",
       "metrostotales                  51467\n",
       "idzona                         28621\n",
       "lat                           123488\n",
       "lng                           123488\n",
       "fecha                              0\n",
       "gimnasio                           0\n",
       "usosmultiples                      0\n",
       "piscina                            0\n",
       "escuelascercanas                   0\n",
       "centroscomercialescercanos         0\n",
       "precio                             0\n",
       "dtype: int64"
      ]
     },
     "execution_count": 4,
     "metadata": {},
     "output_type": "execute_result"
    }
   ],
   "source": [
    "train.isnull().sum()"
   ]
  },
  {
   "cell_type": "code",
   "execution_count": 5,
   "metadata": {},
   "outputs": [
    {
     "data": {
      "text/plain": [
       "titulo                         1378\n",
       "descripcion                     401\n",
       "tipodepropiedad                   7\n",
       "direccion                     13191\n",
       "ciudad                           83\n",
       "provincia                        42\n",
       "antiguedad                    10714\n",
       "habitaciones                   5628\n",
       "garages                        9323\n",
       "banos                          6554\n",
       "metroscubiertos                4299\n",
       "metrostotales                 12655\n",
       "idzona                         7179\n",
       "lat                           30695\n",
       "lng                           30695\n",
       "fecha                             0\n",
       "gimnasio                          0\n",
       "usosmultiples                     0\n",
       "piscina                           0\n",
       "escuelascercanas                  0\n",
       "centroscomercialescercanos        0\n",
       "dtype: int64"
      ]
     },
     "execution_count": 5,
     "metadata": {},
     "output_type": "execute_result"
    }
   ],
   "source": [
    "test.isnull().sum()"
   ]
  },
  {
   "cell_type": "code",
   "execution_count": 6,
   "metadata": {},
   "outputs": [],
   "source": [
    "train['provincia'] = train['provincia'].fillna('Distrito Federal') #valor mas frecuente\n",
    "test['provincia'] = test['provincia'].fillna('Distrito Federal')\n",
    "train['tipodepropiedad'] = train['tipodepropiedad'].fillna('Casa') #valor mas frecuente\n",
    "test['tipodepropiedad'] = test['tipodepropiedad'].fillna('Casa')\n",
    "\n",
    "train['descripcion'] = train['descripcion'].fillna('-')\n",
    "test['descripcion'] = test['descripcion'].fillna('-')\n",
    "\n",
    "train = train.fillna(0)\n",
    "test = test.fillna(0)"
   ]
  },
  {
   "cell_type": "code",
   "execution_count": 7,
   "metadata": {},
   "outputs": [
    {
     "name": "stdout",
     "output_type": "stream",
     "text": [
      "(240000, 22)\n",
      "(60000, 21)\n"
     ]
    }
   ],
   "source": [
    "print(train.shape)\n",
    "print(test.shape)"
   ]
  },
  {
   "cell_type": "markdown",
   "metadata": {},
   "source": [
    "## Feature Engineering"
   ]
  },
  {
   "cell_type": "markdown",
   "metadata": {},
   "source": [
    "### One Hot Encoding"
   ]
  },
  {
   "cell_type": "code",
   "execution_count": 8,
   "metadata": {},
   "outputs": [],
   "source": [
    "one_hot_enc = ce.OneHotEncoder()\n",
    "one_hot_encoded = one_hot_enc.fit_transform(train['provincia'])\n",
    "train = train.join(one_hot_encoded)\n",
    "del train['provincia']\n",
    "\n",
    "one_hot_encoded = one_hot_enc.transform(test['provincia'])\n",
    "test = test.join(one_hot_encoded)\n",
    "del test['provincia']"
   ]
  },
  {
   "cell_type": "code",
   "execution_count": 9,
   "metadata": {},
   "outputs": [],
   "source": [
    "one_hot_enc = ce.OneHotEncoder()\n",
    "one_hot_encoded = one_hot_enc.fit_transform(train['tipodepropiedad'])\n",
    "train = train.join(one_hot_encoded)\n",
    "del train['tipodepropiedad']\n",
    "\n",
    "one_hot_encoded = one_hot_enc.transform(test['tipodepropiedad'])\n",
    "test = test.join(one_hot_encoded)\n",
    "del test['tipodepropiedad']"
   ]
  },
  {
   "cell_type": "markdown",
   "metadata": {},
   "source": [
    "### Target Encoding"
   ]
  },
  {
   "cell_type": "code",
   "execution_count": 10,
   "metadata": {},
   "outputs": [
    {
     "name": "stdout",
     "output_type": "stream",
     "text": [
      "(240000, 76)\n",
      "(60000, 75)\n"
     ]
    }
   ],
   "source": [
    "print(train.shape)\n",
    "print(test.shape)"
   ]
  },
  {
   "cell_type": "code",
   "execution_count": 11,
   "metadata": {},
   "outputs": [],
   "source": [
    "X = train.drop('precio', axis = 1)\n",
    "y = train['precio']\n",
    "target_enc = ce.TargetEncoder(cols=['idzona', 'ciudad'])\n",
    "train = target_enc.fit_transform(X, y)\n",
    "train['precio'] = y"
   ]
  },
  {
   "cell_type": "code",
   "execution_count": 12,
   "metadata": {},
   "outputs": [],
   "source": [
    "test = target_enc.transform(test)"
   ]
  },
  {
   "cell_type": "code",
   "execution_count": 13,
   "metadata": {},
   "outputs": [
    {
     "name": "stdout",
     "output_type": "stream",
     "text": [
      "(240000, 76)\n",
      "(60000, 75)\n"
     ]
    }
   ],
   "source": [
    "print(train.shape)\n",
    "print(test.shape)"
   ]
  },
  {
   "cell_type": "markdown",
   "metadata": {},
   "source": [
    "### Agregando Features"
   ]
  },
  {
   "cell_type": "markdown",
   "metadata": {},
   "source": [
    "#### Avenida"
   ]
  },
  {
   "cell_type": "code",
   "execution_count": 14,
   "metadata": {},
   "outputs": [],
   "source": [
    "def avenida(st):\n",
    "    return (\"av.\" in st) or (\"avenida\" in st) or  (\"av \" in st)"
   ]
  },
  {
   "cell_type": "code",
   "execution_count": 15,
   "metadata": {
    "scrolled": true
   },
   "outputs": [],
   "source": [
    "test = test.astype({\"direccion\":\"str\"})\n",
    "train = train.astype({\"direccion\":\"str\"})\n",
    "\n",
    "test[\"direccion\"] = test[\"direccion\"].apply(str.lower)\n",
    "test[\"avenida\"] = test[\"direccion\"].map(avenida)\n",
    "\n",
    "train[\"direccion\"] = train[\"direccion\"].apply(str.lower)\n",
    "train[\"avenida\"] = train[\"direccion\"].map(avenida)\n",
    "\n",
    "test = test.astype({\"avenida\":\"uint8\"})\n",
    "train = train.astype({\"avenida\":\"uint8\"})"
   ]
  },
  {
   "cell_type": "markdown",
   "metadata": {},
   "source": [
    "#### Cantidad de amenities"
   ]
  },
  {
   "cell_type": "code",
   "execution_count": 16,
   "metadata": {},
   "outputs": [],
   "source": [
    "train['cant_amenities'] = train['usosmultiples'] + train['piscina'] + train['gimnasio']\n",
    "test['cant_amenities'] = test['usosmultiples'] + test['piscina'] + test['gimnasio']"
   ]
  },
  {
   "cell_type": "markdown",
   "metadata": {},
   "source": [
    "#### Año de publicación"
   ]
  },
  {
   "cell_type": "code",
   "execution_count": 17,
   "metadata": {},
   "outputs": [],
   "source": [
    "train['fecha'] = pd.to_datetime(train['fecha'])\n",
    "train['ano'] = train['fecha'].dt.year\n",
    "\n",
    "test['fecha'] = pd.to_datetime(test['fecha'])\n",
    "test['ano'] = test['fecha'].dt.year"
   ]
  },
  {
   "cell_type": "markdown",
   "metadata": {},
   "source": [
    "#### De la descripción"
   ]
  },
  {
   "cell_type": "code",
   "execution_count": 18,
   "metadata": {},
   "outputs": [],
   "source": [
    "buena_ubicacion = ['buena ubicacion', 'buena ubicación', 'excelente ubicación', 'excelente ubicacion', 'bien ubicada', 'bien ubicado']\n",
    "train['buena_ubicacion'] = train['descripcion'].apply(lambda x: 1 if any(word in x for word in buena_ubicacion ) else 0)\n",
    "test['buena_ubicacion'] = test['descripcion'].apply(lambda x: 1 if any(word in x for word in buena_ubicacion ) else 0)"
   ]
  },
  {
   "cell_type": "code",
   "execution_count": 19,
   "metadata": {},
   "outputs": [],
   "source": [
    "luminoso = ['luminoso', 'luminosa']\n",
    "train['luminoso'] = train['descripcion'].apply(lambda x: 1 if any(word in x for word in luminoso ) else 0)\n",
    "test['luminoso'] = test['descripcion'].apply(lambda x: 1 if any(word in x for word in luminoso ) else 0)"
   ]
  },
  {
   "cell_type": "code",
   "execution_count": 20,
   "metadata": {},
   "outputs": [],
   "source": [
    "jardin = ['jardin', 'jardín', 'parque', 'patio']\n",
    "train['jardin'] = train['descripcion'].apply(lambda x: 1 if any(word in x for word in luminoso ) else 0)\n",
    "test['jardin'] = test['descripcion'].apply(lambda x: 1 if any(word in x for word in luminoso ) else 0)"
   ]
  },
  {
   "cell_type": "code",
   "execution_count": 21,
   "metadata": {},
   "outputs": [],
   "source": [
    "balcon = ['balcon', 'balcón', 'terraza']\n",
    "train['balcon'] = train['descripcion'].apply(lambda x: 1 if any(word in x for word in luminoso ) else 0)\n",
    "test['balcon'] = test['descripcion'].apply(lambda x: 1 if any(word in x for word in luminoso ) else 0)"
   ]
  },
  {
   "cell_type": "markdown",
   "metadata": {},
   "source": [
    "#### Cercanías"
   ]
  },
  {
   "cell_type": "code",
   "execution_count": 22,
   "metadata": {},
   "outputs": [],
   "source": [
    "train['centroscomercialescercanos'] = train['centroscomercialescercanos'].map({1:2, 0:0})\n",
    "test['centroscomercialescercanos'] = test['centroscomercialescercanos'].map({1:2, 0:0})"
   ]
  },
  {
   "cell_type": "code",
   "execution_count": 23,
   "metadata": {},
   "outputs": [],
   "source": [
    "train['cercanias'] = train['centroscomercialescercanos'] + train['escuelascercanas']\n",
    "train['cercanias'] = train['cercanias'].astype(str)\n",
    "\n",
    "test['cercanias'] = test['centroscomercialescercanos'] + test['escuelascercanas']\n",
    "test['cercanias'] = test['cercanias'].astype(str)"
   ]
  },
  {
   "cell_type": "code",
   "execution_count": 24,
   "metadata": {},
   "outputs": [],
   "source": [
    "train = train.join(pd.get_dummies(train['cercanias'], prefix = 'cercania'))\n",
    "del train['cercanias']\n",
    "\n",
    "test = test.join(pd.get_dummies(test['cercanias'], prefix = 'cercania'))\n",
    "del test['cercanias']"
   ]
  },
  {
   "cell_type": "markdown",
   "metadata": {},
   "source": [
    "### Borrando columnas innecesarias"
   ]
  },
  {
   "cell_type": "code",
   "execution_count": 25,
   "metadata": {},
   "outputs": [],
   "source": [
    "del train['lat']\n",
    "del train['lng']\n",
    "del train['descripcion']\n",
    "del train['titulo']\n",
    "del train['direccion']\n",
    "del train['fecha']\n",
    "\n",
    "del test['lat']\n",
    "del test['lng']\n",
    "del test['descripcion']\n",
    "del test['titulo']\n",
    "del test['direccion']\n",
    "del test['fecha']"
   ]
  },
  {
   "cell_type": "code",
   "execution_count": 26,
   "metadata": {},
   "outputs": [
    {
     "name": "stdout",
     "output_type": "stream",
     "text": [
      "(240000, 81)\n",
      "(60000, 80)\n"
     ]
    }
   ],
   "source": [
    "print(train.shape)\n",
    "print(test.shape)"
   ]
  },
  {
   "cell_type": "markdown",
   "metadata": {},
   "source": [
    "### Dividiendo por año"
   ]
  },
  {
   "cell_type": "code",
   "execution_count": 27,
   "metadata": {},
   "outputs": [],
   "source": [
    "train_2012 = train[train['ano'] == 2012]\n",
    "train_2013 = train[train['ano'] == 2013]\n",
    "train_2014 = train[train['ano'] == 2014]\n",
    "train_2015 = train[train['ano'] == 2015]\n",
    "train_2016 = train[train['ano'] == 2016]\n",
    "\n",
    "test_2012 = test[test['ano'] == 2012]\n",
    "test_2013 = test[test['ano'] == 2013]\n",
    "test_2014 = test[test['ano'] == 2014]\n",
    "test_2015 = test[test['ano'] == 2015]\n",
    "test_2016 = test[test['ano'] == 2016]"
   ]
  },
  {
   "cell_type": "markdown",
   "metadata": {},
   "source": [
    "## Definiendo tamaños de los sets"
   ]
  },
  {
   "cell_type": "code",
   "execution_count": 28,
   "metadata": {},
   "outputs": [],
   "source": [
    "def train_set(train,test):\n",
    "    X = train.drop(['precio'], axis=1)\n",
    "    y = train['precio']\n",
    "    X_train, X_val, y_train, y_val = train_test_split(X, y, test_size=0.25, random_state=1)\n",
    "    print(\"Train shapes: X = \" + str(X_train.shape) + \" y = \" + str(y_train.shape))\n",
    "    print(\"Validation shapes: X = \" + str(X_val.shape) +  \" y = \" + str(y_val.shape))\n",
    "    print(\"Test shape: \" + str(test.shape))\n",
    "    return X, y, X_val, y_val"
   ]
  },
  {
   "cell_type": "code",
   "execution_count": 29,
   "metadata": {},
   "outputs": [
    {
     "name": "stdout",
     "output_type": "stream",
     "text": [
      "Train shapes: X = (17650, 80) y = (17650,)\n",
      "Validation shapes: X = (5884, 80) y = (5884,)\n",
      "Test shape: (5899, 80)\n",
      "Train shapes: X = (22789, 80) y = (22789,)\n",
      "Validation shapes: X = (7597, 80) y = (7597,)\n",
      "Test shape: (7592, 80)\n",
      "Train shapes: X = (30429, 80) y = (30429,)\n",
      "Validation shapes: X = (10143, 80) y = (10143,)\n",
      "Test shape: (10018, 80)\n",
      "Train shapes: X = (38602, 80) y = (38602,)\n",
      "Validation shapes: X = (12868, 80) y = (12868,)\n",
      "Test shape: (13017, 80)\n",
      "Train shapes: X = (70528, 80) y = (70528,)\n",
      "Validation shapes: X = (23510, 80) y = (23510,)\n",
      "Test shape: (23474, 80)\n"
     ]
    }
   ],
   "source": [
    "x_2012, y_2012, x_2012_val, y_2012_val = train_set(train_2012,test_2012)\n",
    "x_2013, y_2013, x_2013_val, y_2013_val = train_set(train_2013,test_2013)\n",
    "x_2014, y_2014, x_2014_val, y_2014_val = train_set(train_2014,test_2014)\n",
    "x_2015, y_2015, x_2015_val, y_2015_val = train_set(train_2015,test_2015)\n",
    "x_2016, y_2016, x_2016_val, y_2016_val = train_set(train_2016,test_2016)"
   ]
  },
  {
   "cell_type": "markdown",
   "metadata": {},
   "source": [
    "## KNN"
   ]
  },
  {
   "cell_type": "code",
   "execution_count": 27,
   "metadata": {},
   "outputs": [],
   "source": [
    "def KNN(train, param_grid):\n",
    "    KNN = KNeighborsRegressor()\n",
    "    X = train.drop(['precio'], axis=1)\n",
    "    y = train['precio']\n",
    "    grid = GridSearchCV(KNN, param_grid, cv=5, scoring='neg_mean_absolute_error')\n",
    "    grid.fit(X, y)\n",
    "    KNN = grid.best_estimator_\n",
    "    print(grid.best_params_)\n",
    "    print(grid.best_score_)\n",
    "    return KNN"
   ]
  },
  {
   "cell_type": "code",
   "execution_count": null,
   "metadata": {
    "scrolled": true
   },
   "outputs": [],
   "source": [
    "k_valores = list(range(1, 21))\n",
    "param_grid = dict(n_neighbors=k_valores)\n",
    "KNN_2012 = KNN(x_2012, param_grid)\n",
    "KNN_2013 = KNN(x_2013, param_grid)\n",
    "KNN_2014 = KNN(x_2014, param_grid)\n",
    "KNN_2015 = KNN(x_2015, param_grid)\n",
    "KNN_2016 = KNN(x_2016, param_grid)"
   ]
  },
  {
   "cell_type": "markdown",
   "metadata": {},
   "source": [
    "## LIGHTGBM"
   ]
  },
  {
   "cell_type": "markdown",
   "metadata": {},
   "source": [
    "### Tuneo de hiperparámetros"
   ]
  },
  {
   "cell_type": "code",
   "execution_count": 38,
   "metadata": {},
   "outputs": [],
   "source": [
    "import lightgbm\n",
    "def lgb_eval(num_leaves, feature_fraction, bagging_fraction, max_depth, min_split_gain, min_child_weight, learning_rate, seed,n_estimators):\n",
    "    params = {}\n",
    "    params['metric'] = 'rmse'\n",
    "    params[\"seed\"] = int(seed)\n",
    "    params[\"learning_rate\"] = learning_rate\n",
    "    params[\"num_leaves\"] = int(round(num_leaves))\n",
    "    params['feature_fraction'] = max(min(feature_fraction, 1), 0)\n",
    "    params['bagging_fraction'] = max(min(bagging_fraction, 1), 0)\n",
    "    params['max_depth'] = int(round(max_depth))\n",
    "    params['min_split_gain'] = min_split_gain\n",
    "    params['min_child_weight'] = min_child_weight\n",
    "    params[\"n_estimators\"] = int(n_estimators)\n",
    "    cv_result = lightgbm.cv(params, dtrain, nfold=5, num_boost_round=100)\n",
    "    # Used around 1000 boosting rounds in the full model\n",
    "    #cv_result = lightgbm.cv(params, dtrain, num_boost_round=100, nfold=3, seed=20)    \n",
    "    \n",
    "    # Bayesian optimization only knows how to maximize, not minimize, so return the negative RMSE\n",
    "    return max(cv_result['rmse-mean'])"
   ]
  },
  {
   "cell_type": "code",
   "execution_count": 39,
   "metadata": {},
   "outputs": [],
   "source": [
    "def optimize_lgbm(sett):\n",
    "    dtrain = sett\n",
    "    lightgbm_bo = BayesianOptimization(lgb_eval, {'num_leaves': (24, 45),\n",
    "                                        'feature_fraction': (0.1, 0.9),\n",
    "                                        'bagging_fraction': (0.8, 1),\n",
    "                                        'max_depth': (5, 8.99),\n",
    "                                        'min_split_gain': (0.001, 0.1),\n",
    "                                        'min_child_weight': (5, 50),\n",
    "                                        \"learning_rate\" : (0.01, 0.07),\n",
    "                                        \"seed\":(10,50),\n",
    "                                        \"n_estimators\":(100,1000)          \n",
    "                                        }, random_state=0)\n",
    "    # Se probo con 3 puntos iniciales y 10 iteraciones, deberiamos probar con mas en ambas\n",
    "    # La prox iteracion en casa probar 100 y 10000\n",
    "    lightgbm_bo.maximize(init_points=3, n_iter=10, acq='ei')\n",
    "    params = lightgbm_bo.max['params']\n",
    "    params['max_depth'] = int(params['max_depth'])\n",
    "    params[\"seed\"] = int(params[\"seed\"])\n",
    "    params[\"n_estimators\"] = int(params[\"n_estimators\"])\n",
    "    return params"
   ]
  },
  {
   "cell_type": "code",
   "execution_count": 40,
   "metadata": {},
   "outputs": [],
   "source": [
    "feature_set = list(x_2012.columns)\n",
    "dtrain_2012 = lightgbm.Dataset(x_2012, label=y_2012,feature_name=feature_set)\n",
    "feature_set = list(x_2013.columns)\n",
    "dtrain_2013 = lightgbm.Dataset(x_2013, label=y_2013,feature_name=feature_set)\n",
    "feature_set = list(x_2014.columns)\n",
    "dtrain_2014 = lightgbm.Dataset(x_2014, label=y_2014,feature_name=feature_set)\n",
    "feature_set = list(x_2015.columns)\n",
    "dtrain_2015 = lightgbm.Dataset(x_2015, label=y_2015,feature_name=feature_set)\n",
    "feature_set = list(x_2016.columns)\n",
    "dtrain_2016 = lightgbm.Dataset(x_2016, label=y_2016,feature_name=feature_set)\n"
   ]
  },
  {
   "cell_type": "code",
   "execution_count": 41,
   "metadata": {},
   "outputs": [
    {
     "name": "stdout",
     "output_type": "stream",
     "text": [
      "|   iter    |  target   | baggin... | featur... | learni... | max_depth | min_ch... | min_sp... | n_esti... | num_le... |   seed    |\n",
      "-------------------------------------------------------------------------------------------------------------------------------------\n"
     ]
    },
    {
     "name": "stderr",
     "output_type": "stream",
     "text": [
      "/home/lautaro/.local/lib/python3.6/site-packages/lightgbm/engine.py:503: UserWarning: Found `n_estimators` in params. Will use it instead of argument\n",
      "  warnings.warn(\"Found `{}` in params. Will use it instead of argument\".format(alias))\n",
      "/home/lautaro/.local/lib/python3.6/site-packages/sklearn/model_selection/_split.py:657: Warning: The least populated class in y has only 1 members, which is too few. The minimum number of members in any class cannot be less than n_splits=5.\n",
      "  % (min_groups, self.n_splits)), Warning)\n"
     ]
    },
    {
     "name": "stdout",
     "output_type": "stream",
     "text": [
      "| \u001b[0m 1       \u001b[0m | \u001b[0m 1.727e+0\u001b[0m | \u001b[0m 0.9098  \u001b[0m | \u001b[0m 0.6722  \u001b[0m | \u001b[0m 0.04617 \u001b[0m | \u001b[0m 7.174   \u001b[0m | \u001b[0m 24.06   \u001b[0m | \u001b[0m 0.06494 \u001b[0m | \u001b[0m 493.8   \u001b[0m | \u001b[0m 42.73   \u001b[0m | \u001b[0m 48.55   \u001b[0m |\n"
     ]
    },
    {
     "name": "stderr",
     "output_type": "stream",
     "text": [
      "/home/lautaro/.local/lib/python3.6/site-packages/lightgbm/engine.py:503: UserWarning: Found `n_estimators` in params. Will use it instead of argument\n",
      "  warnings.warn(\"Found `{}` in params. Will use it instead of argument\".format(alias))\n",
      "/home/lautaro/.local/lib/python3.6/site-packages/sklearn/model_selection/_split.py:657: Warning: The least populated class in y has only 1 members, which is too few. The minimum number of members in any class cannot be less than n_splits=5.\n",
      "  % (min_groups, self.n_splits)), Warning)\n"
     ]
    },
    {
     "name": "stdout",
     "output_type": "stream",
     "text": [
      "| \u001b[95m 2       \u001b[0m | \u001b[95m 1.739e+0\u001b[0m | \u001b[95m 0.8767  \u001b[0m | \u001b[95m 0.7334  \u001b[0m | \u001b[95m 0.04173 \u001b[0m | \u001b[95m 7.266   \u001b[0m | \u001b[95m 46.65   \u001b[0m | \u001b[95m 0.008033\u001b[0m | \u001b[95m 178.4   \u001b[0m | \u001b[95m 24.42   \u001b[0m | \u001b[95m 43.3    \u001b[0m |\n"
     ]
    },
    {
     "name": "stderr",
     "output_type": "stream",
     "text": [
      "/home/lautaro/.local/lib/python3.6/site-packages/lightgbm/engine.py:503: UserWarning: Found `n_estimators` in params. Will use it instead of argument\n",
      "  warnings.warn(\"Found `{}` in params. Will use it instead of argument\".format(alias))\n",
      "/home/lautaro/.local/lib/python3.6/site-packages/sklearn/model_selection/_split.py:657: Warning: The least populated class in y has only 1 members, which is too few. The minimum number of members in any class cannot be less than n_splits=5.\n",
      "  % (min_groups, self.n_splits)), Warning)\n"
     ]
    },
    {
     "name": "stdout",
     "output_type": "stream",
     "text": [
      "| \u001b[0m 3       \u001b[0m | \u001b[0m 1.702e+0\u001b[0m | \u001b[0m 0.9556  \u001b[0m | \u001b[0m 0.796   \u001b[0m | \u001b[0m 0.06872 \u001b[0m | \u001b[0m 8.189   \u001b[0m | \u001b[0m 25.77   \u001b[0m | \u001b[0m 0.07827 \u001b[0m | \u001b[0m 206.4   \u001b[0m | \u001b[0m 37.44   \u001b[0m | \u001b[0m 15.73   \u001b[0m |\n"
     ]
    },
    {
     "name": "stderr",
     "output_type": "stream",
     "text": [
      "/home/lautaro/.local/lib/python3.6/site-packages/lightgbm/engine.py:503: UserWarning: Found `n_estimators` in params. Will use it instead of argument\n",
      "  warnings.warn(\"Found `{}` in params. Will use it instead of argument\".format(alias))\n",
      "/home/lautaro/.local/lib/python3.6/site-packages/sklearn/model_selection/_split.py:657: Warning: The least populated class in y has only 1 members, which is too few. The minimum number of members in any class cannot be less than n_splits=5.\n",
      "  % (min_groups, self.n_splits)), Warning)\n"
     ]
    },
    {
     "name": "stdout",
     "output_type": "stream",
     "text": [
      "| \u001b[95m 4       \u001b[0m | \u001b[95m 1.772e+0\u001b[0m | \u001b[95m 0.8844  \u001b[0m | \u001b[95m 0.2402  \u001b[0m | \u001b[95m 0.01921 \u001b[0m | \u001b[95m 8.225   \u001b[0m | \u001b[95m 9.211   \u001b[0m | \u001b[95m 0.001068\u001b[0m | \u001b[95m 749.3   \u001b[0m | \u001b[95m 30.28   \u001b[0m | \u001b[95m 39.33   \u001b[0m |\n"
     ]
    },
    {
     "name": "stderr",
     "output_type": "stream",
     "text": [
      "/home/lautaro/.local/lib/python3.6/site-packages/lightgbm/engine.py:503: UserWarning: Found `n_estimators` in params. Will use it instead of argument\n",
      "  warnings.warn(\"Found `{}` in params. Will use it instead of argument\".format(alias))\n",
      "/home/lautaro/.local/lib/python3.6/site-packages/sklearn/model_selection/_split.py:657: Warning: The least populated class in y has only 1 members, which is too few. The minimum number of members in any class cannot be less than n_splits=5.\n",
      "  % (min_groups, self.n_splits)), Warning)\n"
     ]
    },
    {
     "name": "stdout",
     "output_type": "stream",
     "text": [
      "| \u001b[0m 5       \u001b[0m | \u001b[0m 1.761e+0\u001b[0m | \u001b[0m 0.8595  \u001b[0m | \u001b[0m 0.843   \u001b[0m | \u001b[0m 0.01736 \u001b[0m | \u001b[0m 5.968   \u001b[0m | \u001b[0m 23.52   \u001b[0m | \u001b[0m 0.03308 \u001b[0m | \u001b[0m 615.2   \u001b[0m | \u001b[0m 28.82   \u001b[0m | \u001b[0m 47.88   \u001b[0m |\n"
     ]
    },
    {
     "name": "stderr",
     "output_type": "stream",
     "text": [
      "/home/lautaro/.local/lib/python3.6/site-packages/lightgbm/engine.py:503: UserWarning: Found `n_estimators` in params. Will use it instead of argument\n",
      "  warnings.warn(\"Found `{}` in params. Will use it instead of argument\".format(alias))\n",
      "/home/lautaro/.local/lib/python3.6/site-packages/sklearn/model_selection/_split.py:657: Warning: The least populated class in y has only 1 members, which is too few. The minimum number of members in any class cannot be less than n_splits=5.\n",
      "  % (min_groups, self.n_splits)), Warning)\n"
     ]
    },
    {
     "name": "stdout",
     "output_type": "stream",
     "text": [
      "| \u001b[0m 6       \u001b[0m | \u001b[0m 1.755e+0\u001b[0m | \u001b[0m 0.9116  \u001b[0m | \u001b[0m 0.6652  \u001b[0m | \u001b[0m 0.0291  \u001b[0m | \u001b[0m 6.534   \u001b[0m | \u001b[0m 18.14   \u001b[0m | \u001b[0m 0.06617 \u001b[0m | \u001b[0m 609.8   \u001b[0m | \u001b[0m 29.32   \u001b[0m | \u001b[0m 45.58   \u001b[0m |\n"
     ]
    },
    {
     "name": "stderr",
     "output_type": "stream",
     "text": [
      "/home/lautaro/.local/lib/python3.6/site-packages/lightgbm/engine.py:503: UserWarning: Found `n_estimators` in params. Will use it instead of argument\n",
      "  warnings.warn(\"Found `{}` in params. Will use it instead of argument\".format(alias))\n",
      "/home/lautaro/.local/lib/python3.6/site-packages/sklearn/model_selection/_split.py:657: Warning: The least populated class in y has only 1 members, which is too few. The minimum number of members in any class cannot be less than n_splits=5.\n",
      "  % (min_groups, self.n_splits)), Warning)\n"
     ]
    },
    {
     "name": "stdout",
     "output_type": "stream",
     "text": [
      "| \u001b[0m 7       \u001b[0m | \u001b[0m 1.711e+0\u001b[0m | \u001b[0m 0.9396  \u001b[0m | \u001b[0m 0.2106  \u001b[0m | \u001b[0m 0.06445 \u001b[0m | \u001b[0m 7.494   \u001b[0m | \u001b[0m 34.7    \u001b[0m | \u001b[0m 0.06542 \u001b[0m | \u001b[0m 662.8   \u001b[0m | \u001b[0m 28.8    \u001b[0m | \u001b[0m 36.39   \u001b[0m |\n"
     ]
    },
    {
     "name": "stderr",
     "output_type": "stream",
     "text": [
      "/home/lautaro/.local/lib/python3.6/site-packages/lightgbm/engine.py:503: UserWarning: Found `n_estimators` in params. Will use it instead of argument\n",
      "  warnings.warn(\"Found `{}` in params. Will use it instead of argument\".format(alias))\n",
      "/home/lautaro/.local/lib/python3.6/site-packages/sklearn/model_selection/_split.py:657: Warning: The least populated class in y has only 1 members, which is too few. The minimum number of members in any class cannot be less than n_splits=5.\n",
      "  % (min_groups, self.n_splits)), Warning)\n"
     ]
    },
    {
     "name": "stdout",
     "output_type": "stream",
     "text": [
      "| \u001b[0m 8       \u001b[0m | \u001b[0m 1.722e+0\u001b[0m | \u001b[0m 0.9603  \u001b[0m | \u001b[0m 0.865   \u001b[0m | \u001b[0m 0.05059 \u001b[0m | \u001b[0m 6.625   \u001b[0m | \u001b[0m 21.06   \u001b[0m | \u001b[0m 0.02608 \u001b[0m | \u001b[0m 141.6   \u001b[0m | \u001b[0m 36.43   \u001b[0m | \u001b[0m 18.61   \u001b[0m |\n"
     ]
    },
    {
     "name": "stderr",
     "output_type": "stream",
     "text": [
      "/home/lautaro/.local/lib/python3.6/site-packages/lightgbm/engine.py:503: UserWarning: Found `n_estimators` in params. Will use it instead of argument\n",
      "  warnings.warn(\"Found `{}` in params. Will use it instead of argument\".format(alias))\n",
      "/home/lautaro/.local/lib/python3.6/site-packages/sklearn/model_selection/_split.py:657: Warning: The least populated class in y has only 1 members, which is too few. The minimum number of members in any class cannot be less than n_splits=5.\n",
      "  % (min_groups, self.n_splits)), Warning)\n"
     ]
    },
    {
     "name": "stdout",
     "output_type": "stream",
     "text": [
      "| \u001b[0m 9       \u001b[0m | \u001b[0m 1.713e+0\u001b[0m | \u001b[0m 0.9577  \u001b[0m | \u001b[0m 0.6611  \u001b[0m | \u001b[0m 0.05888 \u001b[0m | \u001b[0m 7.25    \u001b[0m | \u001b[0m 41.3    \u001b[0m | \u001b[0m 0.07923 \u001b[0m | \u001b[0m 836.8   \u001b[0m | \u001b[0m 32.23   \u001b[0m | \u001b[0m 37.26   \u001b[0m |\n"
     ]
    },
    {
     "name": "stderr",
     "output_type": "stream",
     "text": [
      "/home/lautaro/.local/lib/python3.6/site-packages/lightgbm/engine.py:503: UserWarning: Found `n_estimators` in params. Will use it instead of argument\n",
      "  warnings.warn(\"Found `{}` in params. Will use it instead of argument\".format(alias))\n",
      "/home/lautaro/.local/lib/python3.6/site-packages/sklearn/model_selection/_split.py:657: Warning: The least populated class in y has only 1 members, which is too few. The minimum number of members in any class cannot be less than n_splits=5.\n",
      "  % (min_groups, self.n_splits)), Warning)\n"
     ]
    },
    {
     "name": "stdout",
     "output_type": "stream",
     "text": [
      "| \u001b[0m 10      \u001b[0m | \u001b[0m 1.758e+0\u001b[0m | \u001b[0m 0.8575  \u001b[0m | \u001b[0m 0.2975  \u001b[0m | \u001b[0m 0.03868 \u001b[0m | \u001b[0m 5.398   \u001b[0m | \u001b[0m 40.28   \u001b[0m | \u001b[0m 0.09882 \u001b[0m | \u001b[0m 179.3   \u001b[0m | \u001b[0m 25.36   \u001b[0m | \u001b[0m 38.65   \u001b[0m |\n"
     ]
    },
    {
     "name": "stderr",
     "output_type": "stream",
     "text": [
      "/home/lautaro/.local/lib/python3.6/site-packages/lightgbm/engine.py:503: UserWarning: Found `n_estimators` in params. Will use it instead of argument\n",
      "  warnings.warn(\"Found `{}` in params. Will use it instead of argument\".format(alias))\n",
      "/home/lautaro/.local/lib/python3.6/site-packages/sklearn/model_selection/_split.py:657: Warning: The least populated class in y has only 1 members, which is too few. The minimum number of members in any class cannot be less than n_splits=5.\n",
      "  % (min_groups, self.n_splits)), Warning)\n"
     ]
    },
    {
     "name": "stdout",
     "output_type": "stream",
     "text": [
      "| \u001b[0m 11      \u001b[0m | \u001b[0m 1.759e+0\u001b[0m | \u001b[0m 0.951   \u001b[0m | \u001b[0m 0.6561  \u001b[0m | \u001b[0m 0.02132 \u001b[0m | \u001b[0m 8.973   \u001b[0m | \u001b[0m 41.21   \u001b[0m | \u001b[0m 0.04594 \u001b[0m | \u001b[0m 289.4   \u001b[0m | \u001b[0m 26.45   \u001b[0m | \u001b[0m 28.42   \u001b[0m |\n"
     ]
    },
    {
     "name": "stderr",
     "output_type": "stream",
     "text": [
      "/home/lautaro/.local/lib/python3.6/site-packages/lightgbm/engine.py:503: UserWarning: Found `n_estimators` in params. Will use it instead of argument\n",
      "  warnings.warn(\"Found `{}` in params. Will use it instead of argument\".format(alias))\n",
      "/home/lautaro/.local/lib/python3.6/site-packages/sklearn/model_selection/_split.py:657: Warning: The least populated class in y has only 1 members, which is too few. The minimum number of members in any class cannot be less than n_splits=5.\n",
      "  % (min_groups, self.n_splits)), Warning)\n"
     ]
    },
    {
     "name": "stdout",
     "output_type": "stream",
     "text": [
      "| \u001b[0m 12      \u001b[0m | \u001b[0m 1.766e+0\u001b[0m | \u001b[0m 0.8457  \u001b[0m | \u001b[0m 0.4622  \u001b[0m | \u001b[0m 0.01581 \u001b[0m | \u001b[0m 6.111   \u001b[0m | \u001b[0m 28.36   \u001b[0m | \u001b[0m 0.05396 \u001b[0m | \u001b[0m 754.0   \u001b[0m | \u001b[0m 38.65   \u001b[0m | \u001b[0m 44.3    \u001b[0m |\n"
     ]
    },
    {
     "name": "stderr",
     "output_type": "stream",
     "text": [
      "/home/lautaro/.local/lib/python3.6/site-packages/lightgbm/engine.py:503: UserWarning: Found `n_estimators` in params. Will use it instead of argument\n",
      "  warnings.warn(\"Found `{}` in params. Will use it instead of argument\".format(alias))\n",
      "/home/lautaro/.local/lib/python3.6/site-packages/sklearn/model_selection/_split.py:657: Warning: The least populated class in y has only 1 members, which is too few. The minimum number of members in any class cannot be less than n_splits=5.\n",
      "  % (min_groups, self.n_splits)), Warning)\n"
     ]
    },
    {
     "name": "stdout",
     "output_type": "stream",
     "text": [
      "| \u001b[0m 13      \u001b[0m | \u001b[0m 1.73e+06\u001b[0m | \u001b[0m 0.853   \u001b[0m | \u001b[0m 0.4545  \u001b[0m | \u001b[0m 0.0522  \u001b[0m | \u001b[0m 5.427   \u001b[0m | \u001b[0m 38.43   \u001b[0m | \u001b[0m 0.001316\u001b[0m | \u001b[0m 103.9   \u001b[0m | \u001b[0m 33.05   \u001b[0m | \u001b[0m 13.05   \u001b[0m |\n",
      "=====================================================================================================================================\n",
      "|   iter    |  target   | baggin... | featur... | learni... | max_depth | min_ch... | min_sp... | n_esti... | num_le... |   seed    |\n",
      "-------------------------------------------------------------------------------------------------------------------------------------\n"
     ]
    },
    {
     "name": "stderr",
     "output_type": "stream",
     "text": [
      "/home/lautaro/.local/lib/python3.6/site-packages/lightgbm/engine.py:503: UserWarning: Found `n_estimators` in params. Will use it instead of argument\n",
      "  warnings.warn(\"Found `{}` in params. Will use it instead of argument\".format(alias))\n",
      "/home/lautaro/.local/lib/python3.6/site-packages/sklearn/model_selection/_split.py:657: Warning: The least populated class in y has only 1 members, which is too few. The minimum number of members in any class cannot be less than n_splits=5.\n",
      "  % (min_groups, self.n_splits)), Warning)\n"
     ]
    },
    {
     "name": "stdout",
     "output_type": "stream",
     "text": [
      "| \u001b[0m 1       \u001b[0m | \u001b[0m 1.787e+0\u001b[0m | \u001b[0m 0.9098  \u001b[0m | \u001b[0m 0.6722  \u001b[0m | \u001b[0m 0.04617 \u001b[0m | \u001b[0m 7.174   \u001b[0m | \u001b[0m 24.06   \u001b[0m | \u001b[0m 0.06494 \u001b[0m | \u001b[0m 493.8   \u001b[0m | \u001b[0m 42.73   \u001b[0m | \u001b[0m 48.55   \u001b[0m |\n"
     ]
    },
    {
     "name": "stderr",
     "output_type": "stream",
     "text": [
      "/home/lautaro/.local/lib/python3.6/site-packages/lightgbm/engine.py:503: UserWarning: Found `n_estimators` in params. Will use it instead of argument\n",
      "  warnings.warn(\"Found `{}` in params. Will use it instead of argument\".format(alias))\n",
      "/home/lautaro/.local/lib/python3.6/site-packages/sklearn/model_selection/_split.py:657: Warning: The least populated class in y has only 1 members, which is too few. The minimum number of members in any class cannot be less than n_splits=5.\n",
      "  % (min_groups, self.n_splits)), Warning)\n"
     ]
    },
    {
     "name": "stdout",
     "output_type": "stream",
     "text": [
      "| \u001b[95m 2       \u001b[0m | \u001b[95m 1.801e+0\u001b[0m | \u001b[95m 0.8767  \u001b[0m | \u001b[95m 0.7334  \u001b[0m | \u001b[95m 0.04173 \u001b[0m | \u001b[95m 7.266   \u001b[0m | \u001b[95m 46.65   \u001b[0m | \u001b[95m 0.008033\u001b[0m | \u001b[95m 178.4   \u001b[0m | \u001b[95m 24.42   \u001b[0m | \u001b[95m 43.3    \u001b[0m |\n"
     ]
    },
    {
     "name": "stderr",
     "output_type": "stream",
     "text": [
      "/home/lautaro/.local/lib/python3.6/site-packages/lightgbm/engine.py:503: UserWarning: Found `n_estimators` in params. Will use it instead of argument\n",
      "  warnings.warn(\"Found `{}` in params. Will use it instead of argument\".format(alias))\n",
      "/home/lautaro/.local/lib/python3.6/site-packages/sklearn/model_selection/_split.py:657: Warning: The least populated class in y has only 1 members, which is too few. The minimum number of members in any class cannot be less than n_splits=5.\n",
      "  % (min_groups, self.n_splits)), Warning)\n"
     ]
    },
    {
     "name": "stdout",
     "output_type": "stream",
     "text": [
      "| \u001b[0m 3       \u001b[0m | \u001b[0m 1.76e+06\u001b[0m | \u001b[0m 0.9556  \u001b[0m | \u001b[0m 0.796   \u001b[0m | \u001b[0m 0.06872 \u001b[0m | \u001b[0m 8.189   \u001b[0m | \u001b[0m 25.77   \u001b[0m | \u001b[0m 0.07827 \u001b[0m | \u001b[0m 206.4   \u001b[0m | \u001b[0m 37.44   \u001b[0m | \u001b[0m 15.73   \u001b[0m |\n"
     ]
    },
    {
     "name": "stderr",
     "output_type": "stream",
     "text": [
      "/home/lautaro/.local/lib/python3.6/site-packages/lightgbm/engine.py:503: UserWarning: Found `n_estimators` in params. Will use it instead of argument\n",
      "  warnings.warn(\"Found `{}` in params. Will use it instead of argument\".format(alias))\n",
      "/home/lautaro/.local/lib/python3.6/site-packages/sklearn/model_selection/_split.py:657: Warning: The least populated class in y has only 1 members, which is too few. The minimum number of members in any class cannot be less than n_splits=5.\n",
      "  % (min_groups, self.n_splits)), Warning)\n"
     ]
    },
    {
     "name": "stdout",
     "output_type": "stream",
     "text": [
      "| \u001b[95m 4       \u001b[0m | \u001b[95m 1.839e+0\u001b[0m | \u001b[95m 0.8844  \u001b[0m | \u001b[95m 0.2402  \u001b[0m | \u001b[95m 0.01921 \u001b[0m | \u001b[95m 8.225   \u001b[0m | \u001b[95m 9.211   \u001b[0m | \u001b[95m 0.001068\u001b[0m | \u001b[95m 749.3   \u001b[0m | \u001b[95m 30.28   \u001b[0m | \u001b[95m 39.33   \u001b[0m |\n"
     ]
    },
    {
     "name": "stderr",
     "output_type": "stream",
     "text": [
      "/home/lautaro/.local/lib/python3.6/site-packages/lightgbm/engine.py:503: UserWarning: Found `n_estimators` in params. Will use it instead of argument\n",
      "  warnings.warn(\"Found `{}` in params. Will use it instead of argument\".format(alias))\n",
      "/home/lautaro/.local/lib/python3.6/site-packages/sklearn/model_selection/_split.py:657: Warning: The least populated class in y has only 1 members, which is too few. The minimum number of members in any class cannot be less than n_splits=5.\n",
      "  % (min_groups, self.n_splits)), Warning)\n"
     ]
    },
    {
     "name": "stdout",
     "output_type": "stream",
     "text": [
      "| \u001b[0m 5       \u001b[0m | \u001b[0m 1.826e+0\u001b[0m | \u001b[0m 0.8595  \u001b[0m | \u001b[0m 0.843   \u001b[0m | \u001b[0m 0.01736 \u001b[0m | \u001b[0m 5.968   \u001b[0m | \u001b[0m 23.52   \u001b[0m | \u001b[0m 0.03308 \u001b[0m | \u001b[0m 615.2   \u001b[0m | \u001b[0m 28.82   \u001b[0m | \u001b[0m 47.88   \u001b[0m |\n"
     ]
    },
    {
     "name": "stderr",
     "output_type": "stream",
     "text": [
      "/home/lautaro/.local/lib/python3.6/site-packages/lightgbm/engine.py:503: UserWarning: Found `n_estimators` in params. Will use it instead of argument\n",
      "  warnings.warn(\"Found `{}` in params. Will use it instead of argument\".format(alias))\n",
      "/home/lautaro/.local/lib/python3.6/site-packages/sklearn/model_selection/_split.py:657: Warning: The least populated class in y has only 1 members, which is too few. The minimum number of members in any class cannot be less than n_splits=5.\n",
      "  % (min_groups, self.n_splits)), Warning)\n"
     ]
    },
    {
     "name": "stdout",
     "output_type": "stream",
     "text": [
      "| \u001b[0m 6       \u001b[0m | \u001b[0m 1.819e+0\u001b[0m | \u001b[0m 0.9116  \u001b[0m | \u001b[0m 0.6652  \u001b[0m | \u001b[0m 0.0291  \u001b[0m | \u001b[0m 6.534   \u001b[0m | \u001b[0m 18.14   \u001b[0m | \u001b[0m 0.06617 \u001b[0m | \u001b[0m 609.8   \u001b[0m | \u001b[0m 29.32   \u001b[0m | \u001b[0m 45.58   \u001b[0m |\n"
     ]
    },
    {
     "name": "stderr",
     "output_type": "stream",
     "text": [
      "/home/lautaro/.local/lib/python3.6/site-packages/lightgbm/engine.py:503: UserWarning: Found `n_estimators` in params. Will use it instead of argument\n",
      "  warnings.warn(\"Found `{}` in params. Will use it instead of argument\".format(alias))\n",
      "/home/lautaro/.local/lib/python3.6/site-packages/sklearn/model_selection/_split.py:657: Warning: The least populated class in y has only 1 members, which is too few. The minimum number of members in any class cannot be less than n_splits=5.\n",
      "  % (min_groups, self.n_splits)), Warning)\n"
     ]
    },
    {
     "name": "stdout",
     "output_type": "stream",
     "text": [
      "| \u001b[0m 7       \u001b[0m | \u001b[0m 1.768e+0\u001b[0m | \u001b[0m 0.9396  \u001b[0m | \u001b[0m 0.2106  \u001b[0m | \u001b[0m 0.06445 \u001b[0m | \u001b[0m 7.494   \u001b[0m | \u001b[0m 34.7    \u001b[0m | \u001b[0m 0.06542 \u001b[0m | \u001b[0m 662.8   \u001b[0m | \u001b[0m 28.8    \u001b[0m | \u001b[0m 36.39   \u001b[0m |\n"
     ]
    },
    {
     "name": "stderr",
     "output_type": "stream",
     "text": [
      "/home/lautaro/.local/lib/python3.6/site-packages/lightgbm/engine.py:503: UserWarning: Found `n_estimators` in params. Will use it instead of argument\n",
      "  warnings.warn(\"Found `{}` in params. Will use it instead of argument\".format(alias))\n",
      "/home/lautaro/.local/lib/python3.6/site-packages/sklearn/model_selection/_split.py:657: Warning: The least populated class in y has only 1 members, which is too few. The minimum number of members in any class cannot be less than n_splits=5.\n",
      "  % (min_groups, self.n_splits)), Warning)\n"
     ]
    },
    {
     "name": "stdout",
     "output_type": "stream",
     "text": [
      "| \u001b[0m 8       \u001b[0m | \u001b[0m 1.783e+0\u001b[0m | \u001b[0m 0.9603  \u001b[0m | \u001b[0m 0.865   \u001b[0m | \u001b[0m 0.05059 \u001b[0m | \u001b[0m 6.625   \u001b[0m | \u001b[0m 21.06   \u001b[0m | \u001b[0m 0.02608 \u001b[0m | \u001b[0m 141.6   \u001b[0m | \u001b[0m 36.43   \u001b[0m | \u001b[0m 18.61   \u001b[0m |\n"
     ]
    },
    {
     "name": "stderr",
     "output_type": "stream",
     "text": [
      "/home/lautaro/.local/lib/python3.6/site-packages/lightgbm/engine.py:503: UserWarning: Found `n_estimators` in params. Will use it instead of argument\n",
      "  warnings.warn(\"Found `{}` in params. Will use it instead of argument\".format(alias))\n",
      "/home/lautaro/.local/lib/python3.6/site-packages/sklearn/model_selection/_split.py:657: Warning: The least populated class in y has only 1 members, which is too few. The minimum number of members in any class cannot be less than n_splits=5.\n",
      "  % (min_groups, self.n_splits)), Warning)\n"
     ]
    },
    {
     "name": "stdout",
     "output_type": "stream",
     "text": [
      "| \u001b[0m 9       \u001b[0m | \u001b[0m 1.774e+0\u001b[0m | \u001b[0m 0.9577  \u001b[0m | \u001b[0m 0.6611  \u001b[0m | \u001b[0m 0.05888 \u001b[0m | \u001b[0m 7.25    \u001b[0m | \u001b[0m 41.3    \u001b[0m | \u001b[0m 0.07923 \u001b[0m | \u001b[0m 836.8   \u001b[0m | \u001b[0m 32.23   \u001b[0m | \u001b[0m 37.26   \u001b[0m |\n"
     ]
    },
    {
     "name": "stderr",
     "output_type": "stream",
     "text": [
      "/home/lautaro/.local/lib/python3.6/site-packages/lightgbm/engine.py:503: UserWarning: Found `n_estimators` in params. Will use it instead of argument\n",
      "  warnings.warn(\"Found `{}` in params. Will use it instead of argument\".format(alias))\n",
      "/home/lautaro/.local/lib/python3.6/site-packages/sklearn/model_selection/_split.py:657: Warning: The least populated class in y has only 1 members, which is too few. The minimum number of members in any class cannot be less than n_splits=5.\n",
      "  % (min_groups, self.n_splits)), Warning)\n"
     ]
    },
    {
     "name": "stdout",
     "output_type": "stream",
     "text": [
      "| \u001b[0m 10      \u001b[0m | \u001b[0m 1.826e+0\u001b[0m | \u001b[0m 0.8575  \u001b[0m | \u001b[0m 0.2975  \u001b[0m | \u001b[0m 0.03868 \u001b[0m | \u001b[0m 5.398   \u001b[0m | \u001b[0m 40.28   \u001b[0m | \u001b[0m 0.09882 \u001b[0m | \u001b[0m 179.3   \u001b[0m | \u001b[0m 25.36   \u001b[0m | \u001b[0m 38.65   \u001b[0m |\n"
     ]
    },
    {
     "name": "stderr",
     "output_type": "stream",
     "text": [
      "/home/lautaro/.local/lib/python3.6/site-packages/lightgbm/engine.py:503: UserWarning: Found `n_estimators` in params. Will use it instead of argument\n",
      "  warnings.warn(\"Found `{}` in params. Will use it instead of argument\".format(alias))\n",
      "/home/lautaro/.local/lib/python3.6/site-packages/sklearn/model_selection/_split.py:657: Warning: The least populated class in y has only 1 members, which is too few. The minimum number of members in any class cannot be less than n_splits=5.\n",
      "  % (min_groups, self.n_splits)), Warning)\n"
     ]
    },
    {
     "name": "stdout",
     "output_type": "stream",
     "text": [
      "| \u001b[0m 11      \u001b[0m | \u001b[0m 1.823e+0\u001b[0m | \u001b[0m 0.951   \u001b[0m | \u001b[0m 0.6561  \u001b[0m | \u001b[0m 0.02132 \u001b[0m | \u001b[0m 8.973   \u001b[0m | \u001b[0m 41.21   \u001b[0m | \u001b[0m 0.04594 \u001b[0m | \u001b[0m 289.4   \u001b[0m | \u001b[0m 26.45   \u001b[0m | \u001b[0m 28.42   \u001b[0m |\n"
     ]
    },
    {
     "name": "stderr",
     "output_type": "stream",
     "text": [
      "/home/lautaro/.local/lib/python3.6/site-packages/lightgbm/engine.py:503: UserWarning: Found `n_estimators` in params. Will use it instead of argument\n",
      "  warnings.warn(\"Found `{}` in params. Will use it instead of argument\".format(alias))\n",
      "/home/lautaro/.local/lib/python3.6/site-packages/sklearn/model_selection/_split.py:657: Warning: The least populated class in y has only 1 members, which is too few. The minimum number of members in any class cannot be less than n_splits=5.\n",
      "  % (min_groups, self.n_splits)), Warning)\n"
     ]
    },
    {
     "name": "stdout",
     "output_type": "stream",
     "text": [
      "| \u001b[0m 12      \u001b[0m | \u001b[0m 1.83e+06\u001b[0m | \u001b[0m 0.8457  \u001b[0m | \u001b[0m 0.4622  \u001b[0m | \u001b[0m 0.01581 \u001b[0m | \u001b[0m 6.111   \u001b[0m | \u001b[0m 28.36   \u001b[0m | \u001b[0m 0.05396 \u001b[0m | \u001b[0m 754.0   \u001b[0m | \u001b[0m 38.65   \u001b[0m | \u001b[0m 44.3    \u001b[0m |\n"
     ]
    },
    {
     "name": "stderr",
     "output_type": "stream",
     "text": [
      "/home/lautaro/.local/lib/python3.6/site-packages/lightgbm/engine.py:503: UserWarning: Found `n_estimators` in params. Will use it instead of argument\n",
      "  warnings.warn(\"Found `{}` in params. Will use it instead of argument\".format(alias))\n",
      "/home/lautaro/.local/lib/python3.6/site-packages/sklearn/model_selection/_split.py:657: Warning: The least populated class in y has only 1 members, which is too few. The minimum number of members in any class cannot be less than n_splits=5.\n",
      "  % (min_groups, self.n_splits)), Warning)\n"
     ]
    },
    {
     "name": "stdout",
     "output_type": "stream",
     "text": [
      "| \u001b[0m 13      \u001b[0m | \u001b[0m 1.791e+0\u001b[0m | \u001b[0m 0.853   \u001b[0m | \u001b[0m 0.4545  \u001b[0m | \u001b[0m 0.0522  \u001b[0m | \u001b[0m 5.427   \u001b[0m | \u001b[0m 38.43   \u001b[0m | \u001b[0m 0.001316\u001b[0m | \u001b[0m 103.9   \u001b[0m | \u001b[0m 33.05   \u001b[0m | \u001b[0m 13.05   \u001b[0m |\n",
      "=====================================================================================================================================\n",
      "|   iter    |  target   | baggin... | featur... | learni... | max_depth | min_ch... | min_sp... | n_esti... | num_le... |   seed    |\n",
      "-------------------------------------------------------------------------------------------------------------------------------------\n"
     ]
    },
    {
     "name": "stderr",
     "output_type": "stream",
     "text": [
      "/home/lautaro/.local/lib/python3.6/site-packages/lightgbm/engine.py:503: UserWarning: Found `n_estimators` in params. Will use it instead of argument\n",
      "  warnings.warn(\"Found `{}` in params. Will use it instead of argument\".format(alias))\n",
      "/home/lautaro/.local/lib/python3.6/site-packages/sklearn/model_selection/_split.py:657: Warning: The least populated class in y has only 1 members, which is too few. The minimum number of members in any class cannot be less than n_splits=5.\n",
      "  % (min_groups, self.n_splits)), Warning)\n"
     ]
    },
    {
     "name": "stdout",
     "output_type": "stream",
     "text": [
      "| \u001b[0m 1       \u001b[0m | \u001b[0m 1.921e+0\u001b[0m | \u001b[0m 0.9098  \u001b[0m | \u001b[0m 0.6722  \u001b[0m | \u001b[0m 0.04617 \u001b[0m | \u001b[0m 7.174   \u001b[0m | \u001b[0m 24.06   \u001b[0m | \u001b[0m 0.06494 \u001b[0m | \u001b[0m 493.8   \u001b[0m | \u001b[0m 42.73   \u001b[0m | \u001b[0m 48.55   \u001b[0m |\n"
     ]
    },
    {
     "name": "stderr",
     "output_type": "stream",
     "text": [
      "/home/lautaro/.local/lib/python3.6/site-packages/lightgbm/engine.py:503: UserWarning: Found `n_estimators` in params. Will use it instead of argument\n",
      "  warnings.warn(\"Found `{}` in params. Will use it instead of argument\".format(alias))\n",
      "/home/lautaro/.local/lib/python3.6/site-packages/sklearn/model_selection/_split.py:657: Warning: The least populated class in y has only 1 members, which is too few. The minimum number of members in any class cannot be less than n_splits=5.\n",
      "  % (min_groups, self.n_splits)), Warning)\n"
     ]
    },
    {
     "name": "stdout",
     "output_type": "stream",
     "text": [
      "| \u001b[95m 2       \u001b[0m | \u001b[95m 1.934e+0\u001b[0m | \u001b[95m 0.8767  \u001b[0m | \u001b[95m 0.7334  \u001b[0m | \u001b[95m 0.04173 \u001b[0m | \u001b[95m 7.266   \u001b[0m | \u001b[95m 46.65   \u001b[0m | \u001b[95m 0.008033\u001b[0m | \u001b[95m 178.4   \u001b[0m | \u001b[95m 24.42   \u001b[0m | \u001b[95m 43.3    \u001b[0m |\n"
     ]
    },
    {
     "name": "stderr",
     "output_type": "stream",
     "text": [
      "/home/lautaro/.local/lib/python3.6/site-packages/lightgbm/engine.py:503: UserWarning: Found `n_estimators` in params. Will use it instead of argument\n",
      "  warnings.warn(\"Found `{}` in params. Will use it instead of argument\".format(alias))\n",
      "/home/lautaro/.local/lib/python3.6/site-packages/sklearn/model_selection/_split.py:657: Warning: The least populated class in y has only 1 members, which is too few. The minimum number of members in any class cannot be less than n_splits=5.\n",
      "  % (min_groups, self.n_splits)), Warning)\n"
     ]
    },
    {
     "name": "stdout",
     "output_type": "stream",
     "text": [
      "| \u001b[0m 3       \u001b[0m | \u001b[0m 1.893e+0\u001b[0m | \u001b[0m 0.9556  \u001b[0m | \u001b[0m 0.796   \u001b[0m | \u001b[0m 0.06872 \u001b[0m | \u001b[0m 8.189   \u001b[0m | \u001b[0m 25.77   \u001b[0m | \u001b[0m 0.07827 \u001b[0m | \u001b[0m 206.4   \u001b[0m | \u001b[0m 37.44   \u001b[0m | \u001b[0m 15.73   \u001b[0m |\n"
     ]
    },
    {
     "name": "stderr",
     "output_type": "stream",
     "text": [
      "/home/lautaro/.local/lib/python3.6/site-packages/lightgbm/engine.py:503: UserWarning: Found `n_estimators` in params. Will use it instead of argument\n",
      "  warnings.warn(\"Found `{}` in params. Will use it instead of argument\".format(alias))\n",
      "/home/lautaro/.local/lib/python3.6/site-packages/sklearn/model_selection/_split.py:657: Warning: The least populated class in y has only 1 members, which is too few. The minimum number of members in any class cannot be less than n_splits=5.\n",
      "  % (min_groups, self.n_splits)), Warning)\n"
     ]
    },
    {
     "name": "stdout",
     "output_type": "stream",
     "text": [
      "| \u001b[95m 4       \u001b[0m | \u001b[95m 1.98e+06\u001b[0m | \u001b[95m 0.8844  \u001b[0m | \u001b[95m 0.2402  \u001b[0m | \u001b[95m 0.01921 \u001b[0m | \u001b[95m 8.225   \u001b[0m | \u001b[95m 9.211   \u001b[0m | \u001b[95m 0.001068\u001b[0m | \u001b[95m 749.3   \u001b[0m | \u001b[95m 30.28   \u001b[0m | \u001b[95m 39.33   \u001b[0m |\n"
     ]
    },
    {
     "name": "stderr",
     "output_type": "stream",
     "text": [
      "/home/lautaro/.local/lib/python3.6/site-packages/lightgbm/engine.py:503: UserWarning: Found `n_estimators` in params. Will use it instead of argument\n",
      "  warnings.warn(\"Found `{}` in params. Will use it instead of argument\".format(alias))\n",
      "/home/lautaro/.local/lib/python3.6/site-packages/sklearn/model_selection/_split.py:657: Warning: The least populated class in y has only 1 members, which is too few. The minimum number of members in any class cannot be less than n_splits=5.\n",
      "  % (min_groups, self.n_splits)), Warning)\n"
     ]
    },
    {
     "name": "stdout",
     "output_type": "stream",
     "text": [
      "| \u001b[0m 5       \u001b[0m | \u001b[0m 1.959e+0\u001b[0m | \u001b[0m 0.8595  \u001b[0m | \u001b[0m 0.843   \u001b[0m | \u001b[0m 0.01736 \u001b[0m | \u001b[0m 5.968   \u001b[0m | \u001b[0m 23.52   \u001b[0m | \u001b[0m 0.03308 \u001b[0m | \u001b[0m 615.2   \u001b[0m | \u001b[0m 28.82   \u001b[0m | \u001b[0m 47.88   \u001b[0m |\n"
     ]
    },
    {
     "name": "stderr",
     "output_type": "stream",
     "text": [
      "/home/lautaro/.local/lib/python3.6/site-packages/lightgbm/engine.py:503: UserWarning: Found `n_estimators` in params. Will use it instead of argument\n",
      "  warnings.warn(\"Found `{}` in params. Will use it instead of argument\".format(alias))\n",
      "/home/lautaro/.local/lib/python3.6/site-packages/sklearn/model_selection/_split.py:657: Warning: The least populated class in y has only 1 members, which is too few. The minimum number of members in any class cannot be less than n_splits=5.\n",
      "  % (min_groups, self.n_splits)), Warning)\n"
     ]
    },
    {
     "name": "stdout",
     "output_type": "stream",
     "text": [
      "| \u001b[0m 6       \u001b[0m | \u001b[0m 1.953e+0\u001b[0m | \u001b[0m 0.9116  \u001b[0m | \u001b[0m 0.6652  \u001b[0m | \u001b[0m 0.0291  \u001b[0m | \u001b[0m 6.534   \u001b[0m | \u001b[0m 18.14   \u001b[0m | \u001b[0m 0.06617 \u001b[0m | \u001b[0m 609.8   \u001b[0m | \u001b[0m 29.32   \u001b[0m | \u001b[0m 45.58   \u001b[0m |\n"
     ]
    },
    {
     "name": "stderr",
     "output_type": "stream",
     "text": [
      "/home/lautaro/.local/lib/python3.6/site-packages/lightgbm/engine.py:503: UserWarning: Found `n_estimators` in params. Will use it instead of argument\n",
      "  warnings.warn(\"Found `{}` in params. Will use it instead of argument\".format(alias))\n",
      "/home/lautaro/.local/lib/python3.6/site-packages/sklearn/model_selection/_split.py:657: Warning: The least populated class in y has only 1 members, which is too few. The minimum number of members in any class cannot be less than n_splits=5.\n",
      "  % (min_groups, self.n_splits)), Warning)\n"
     ]
    },
    {
     "name": "stdout",
     "output_type": "stream",
     "text": [
      "| \u001b[0m 7       \u001b[0m | \u001b[0m 1.913e+0\u001b[0m | \u001b[0m 0.9396  \u001b[0m | \u001b[0m 0.2106  \u001b[0m | \u001b[0m 0.06445 \u001b[0m | \u001b[0m 7.494   \u001b[0m | \u001b[0m 34.7    \u001b[0m | \u001b[0m 0.06542 \u001b[0m | \u001b[0m 662.8   \u001b[0m | \u001b[0m 28.8    \u001b[0m | \u001b[0m 36.39   \u001b[0m |\n"
     ]
    },
    {
     "name": "stderr",
     "output_type": "stream",
     "text": [
      "/home/lautaro/.local/lib/python3.6/site-packages/lightgbm/engine.py:503: UserWarning: Found `n_estimators` in params. Will use it instead of argument\n",
      "  warnings.warn(\"Found `{}` in params. Will use it instead of argument\".format(alias))\n",
      "/home/lautaro/.local/lib/python3.6/site-packages/sklearn/model_selection/_split.py:657: Warning: The least populated class in y has only 1 members, which is too few. The minimum number of members in any class cannot be less than n_splits=5.\n",
      "  % (min_groups, self.n_splits)), Warning)\n"
     ]
    },
    {
     "name": "stdout",
     "output_type": "stream",
     "text": [
      "| \u001b[0m 8       \u001b[0m | \u001b[0m 1.916e+0\u001b[0m | \u001b[0m 0.9603  \u001b[0m | \u001b[0m 0.865   \u001b[0m | \u001b[0m 0.05059 \u001b[0m | \u001b[0m 6.625   \u001b[0m | \u001b[0m 21.06   \u001b[0m | \u001b[0m 0.02608 \u001b[0m | \u001b[0m 141.6   \u001b[0m | \u001b[0m 36.43   \u001b[0m | \u001b[0m 18.61   \u001b[0m |\n"
     ]
    },
    {
     "name": "stderr",
     "output_type": "stream",
     "text": [
      "/home/lautaro/.local/lib/python3.6/site-packages/lightgbm/engine.py:503: UserWarning: Found `n_estimators` in params. Will use it instead of argument\n",
      "  warnings.warn(\"Found `{}` in params. Will use it instead of argument\".format(alias))\n",
      "/home/lautaro/.local/lib/python3.6/site-packages/sklearn/model_selection/_split.py:657: Warning: The least populated class in y has only 1 members, which is too few. The minimum number of members in any class cannot be less than n_splits=5.\n",
      "  % (min_groups, self.n_splits)), Warning)\n"
     ]
    },
    {
     "name": "stdout",
     "output_type": "stream",
     "text": [
      "| \u001b[0m 9       \u001b[0m | \u001b[0m 1.907e+0\u001b[0m | \u001b[0m 0.9577  \u001b[0m | \u001b[0m 0.6611  \u001b[0m | \u001b[0m 0.05888 \u001b[0m | \u001b[0m 7.25    \u001b[0m | \u001b[0m 41.3    \u001b[0m | \u001b[0m 0.07923 \u001b[0m | \u001b[0m 836.8   \u001b[0m | \u001b[0m 32.23   \u001b[0m | \u001b[0m 37.26   \u001b[0m |\n"
     ]
    },
    {
     "name": "stderr",
     "output_type": "stream",
     "text": [
      "/home/lautaro/.local/lib/python3.6/site-packages/lightgbm/engine.py:503: UserWarning: Found `n_estimators` in params. Will use it instead of argument\n",
      "  warnings.warn(\"Found `{}` in params. Will use it instead of argument\".format(alias))\n",
      "/home/lautaro/.local/lib/python3.6/site-packages/sklearn/model_selection/_split.py:657: Warning: The least populated class in y has only 1 members, which is too few. The minimum number of members in any class cannot be less than n_splits=5.\n",
      "  % (min_groups, self.n_splits)), Warning)\n"
     ]
    },
    {
     "name": "stdout",
     "output_type": "stream",
     "text": [
      "| \u001b[0m 10      \u001b[0m | \u001b[0m 1.956e+0\u001b[0m | \u001b[0m 0.8575  \u001b[0m | \u001b[0m 0.2975  \u001b[0m | \u001b[0m 0.03868 \u001b[0m | \u001b[0m 5.398   \u001b[0m | \u001b[0m 40.28   \u001b[0m | \u001b[0m 0.09882 \u001b[0m | \u001b[0m 179.3   \u001b[0m | \u001b[0m 25.36   \u001b[0m | \u001b[0m 38.65   \u001b[0m |\n"
     ]
    },
    {
     "name": "stderr",
     "output_type": "stream",
     "text": [
      "/home/lautaro/.local/lib/python3.6/site-packages/lightgbm/engine.py:503: UserWarning: Found `n_estimators` in params. Will use it instead of argument\n",
      "  warnings.warn(\"Found `{}` in params. Will use it instead of argument\".format(alias))\n",
      "/home/lautaro/.local/lib/python3.6/site-packages/sklearn/model_selection/_split.py:657: Warning: The least populated class in y has only 1 members, which is too few. The minimum number of members in any class cannot be less than n_splits=5.\n",
      "  % (min_groups, self.n_splits)), Warning)\n"
     ]
    },
    {
     "name": "stdout",
     "output_type": "stream",
     "text": [
      "| \u001b[0m 11      \u001b[0m | \u001b[0m 1.956e+0\u001b[0m | \u001b[0m 0.951   \u001b[0m | \u001b[0m 0.6561  \u001b[0m | \u001b[0m 0.02132 \u001b[0m | \u001b[0m 8.973   \u001b[0m | \u001b[0m 41.21   \u001b[0m | \u001b[0m 0.04594 \u001b[0m | \u001b[0m 289.4   \u001b[0m | \u001b[0m 26.45   \u001b[0m | \u001b[0m 28.42   \u001b[0m |\n"
     ]
    },
    {
     "name": "stderr",
     "output_type": "stream",
     "text": [
      "/home/lautaro/.local/lib/python3.6/site-packages/lightgbm/engine.py:503: UserWarning: Found `n_estimators` in params. Will use it instead of argument\n",
      "  warnings.warn(\"Found `{}` in params. Will use it instead of argument\".format(alias))\n",
      "/home/lautaro/.local/lib/python3.6/site-packages/sklearn/model_selection/_split.py:657: Warning: The least populated class in y has only 1 members, which is too few. The minimum number of members in any class cannot be less than n_splits=5.\n",
      "  % (min_groups, self.n_splits)), Warning)\n"
     ]
    },
    {
     "name": "stdout",
     "output_type": "stream",
     "text": [
      "| \u001b[0m 12      \u001b[0m | \u001b[0m 1.963e+0\u001b[0m | \u001b[0m 0.8457  \u001b[0m | \u001b[0m 0.4622  \u001b[0m | \u001b[0m 0.01581 \u001b[0m | \u001b[0m 6.111   \u001b[0m | \u001b[0m 28.36   \u001b[0m | \u001b[0m 0.05396 \u001b[0m | \u001b[0m 754.0   \u001b[0m | \u001b[0m 38.65   \u001b[0m | \u001b[0m 44.3    \u001b[0m |\n"
     ]
    },
    {
     "name": "stderr",
     "output_type": "stream",
     "text": [
      "/home/lautaro/.local/lib/python3.6/site-packages/lightgbm/engine.py:503: UserWarning: Found `n_estimators` in params. Will use it instead of argument\n",
      "  warnings.warn(\"Found `{}` in params. Will use it instead of argument\".format(alias))\n",
      "/home/lautaro/.local/lib/python3.6/site-packages/sklearn/model_selection/_split.py:657: Warning: The least populated class in y has only 1 members, which is too few. The minimum number of members in any class cannot be less than n_splits=5.\n",
      "  % (min_groups, self.n_splits)), Warning)\n"
     ]
    },
    {
     "name": "stdout",
     "output_type": "stream",
     "text": [
      "| \u001b[0m 13      \u001b[0m | \u001b[0m 1.921e+0\u001b[0m | \u001b[0m 0.853   \u001b[0m | \u001b[0m 0.4545  \u001b[0m | \u001b[0m 0.0522  \u001b[0m | \u001b[0m 5.427   \u001b[0m | \u001b[0m 38.43   \u001b[0m | \u001b[0m 0.001316\u001b[0m | \u001b[0m 103.9   \u001b[0m | \u001b[0m 33.05   \u001b[0m | \u001b[0m 13.05   \u001b[0m |\n",
      "=====================================================================================================================================\n",
      "|   iter    |  target   | baggin... | featur... | learni... | max_depth | min_ch... | min_sp... | n_esti... | num_le... |   seed    |\n",
      "-------------------------------------------------------------------------------------------------------------------------------------\n"
     ]
    },
    {
     "name": "stderr",
     "output_type": "stream",
     "text": [
      "/home/lautaro/.local/lib/python3.6/site-packages/lightgbm/engine.py:503: UserWarning: Found `n_estimators` in params. Will use it instead of argument\n",
      "  warnings.warn(\"Found `{}` in params. Will use it instead of argument\".format(alias))\n",
      "/home/lautaro/.local/lib/python3.6/site-packages/sklearn/model_selection/_split.py:657: Warning: The least populated class in y has only 1 members, which is too few. The minimum number of members in any class cannot be less than n_splits=5.\n",
      "  % (min_groups, self.n_splits)), Warning)\n"
     ]
    },
    {
     "name": "stdout",
     "output_type": "stream",
     "text": [
      "| \u001b[0m 1       \u001b[0m | \u001b[0m 2.121e+0\u001b[0m | \u001b[0m 0.9098  \u001b[0m | \u001b[0m 0.6722  \u001b[0m | \u001b[0m 0.04617 \u001b[0m | \u001b[0m 7.174   \u001b[0m | \u001b[0m 24.06   \u001b[0m | \u001b[0m 0.06494 \u001b[0m | \u001b[0m 493.8   \u001b[0m | \u001b[0m 42.73   \u001b[0m | \u001b[0m 48.55   \u001b[0m |\n"
     ]
    },
    {
     "name": "stderr",
     "output_type": "stream",
     "text": [
      "/home/lautaro/.local/lib/python3.6/site-packages/lightgbm/engine.py:503: UserWarning: Found `n_estimators` in params. Will use it instead of argument\n",
      "  warnings.warn(\"Found `{}` in params. Will use it instead of argument\".format(alias))\n",
      "/home/lautaro/.local/lib/python3.6/site-packages/sklearn/model_selection/_split.py:657: Warning: The least populated class in y has only 1 members, which is too few. The minimum number of members in any class cannot be less than n_splits=5.\n",
      "  % (min_groups, self.n_splits)), Warning)\n"
     ]
    },
    {
     "name": "stdout",
     "output_type": "stream",
     "text": [
      "| \u001b[95m 2       \u001b[0m | \u001b[95m 2.134e+0\u001b[0m | \u001b[95m 0.8767  \u001b[0m | \u001b[95m 0.7334  \u001b[0m | \u001b[95m 0.04173 \u001b[0m | \u001b[95m 7.266   \u001b[0m | \u001b[95m 46.65   \u001b[0m | \u001b[95m 0.008033\u001b[0m | \u001b[95m 178.4   \u001b[0m | \u001b[95m 24.42   \u001b[0m | \u001b[95m 43.3    \u001b[0m |\n"
     ]
    },
    {
     "name": "stderr",
     "output_type": "stream",
     "text": [
      "/home/lautaro/.local/lib/python3.6/site-packages/lightgbm/engine.py:503: UserWarning: Found `n_estimators` in params. Will use it instead of argument\n",
      "  warnings.warn(\"Found `{}` in params. Will use it instead of argument\".format(alias))\n",
      "/home/lautaro/.local/lib/python3.6/site-packages/sklearn/model_selection/_split.py:657: Warning: The least populated class in y has only 1 members, which is too few. The minimum number of members in any class cannot be less than n_splits=5.\n",
      "  % (min_groups, self.n_splits)), Warning)\n"
     ]
    },
    {
     "name": "stdout",
     "output_type": "stream",
     "text": [
      "| \u001b[0m 3       \u001b[0m | \u001b[0m 2.089e+0\u001b[0m | \u001b[0m 0.9556  \u001b[0m | \u001b[0m 0.796   \u001b[0m | \u001b[0m 0.06872 \u001b[0m | \u001b[0m 8.189   \u001b[0m | \u001b[0m 25.77   \u001b[0m | \u001b[0m 0.07827 \u001b[0m | \u001b[0m 206.4   \u001b[0m | \u001b[0m 37.44   \u001b[0m | \u001b[0m 15.73   \u001b[0m |\n"
     ]
    },
    {
     "name": "stderr",
     "output_type": "stream",
     "text": [
      "/home/lautaro/.local/lib/python3.6/site-packages/lightgbm/engine.py:503: UserWarning: Found `n_estimators` in params. Will use it instead of argument\n",
      "  warnings.warn(\"Found `{}` in params. Will use it instead of argument\".format(alias))\n",
      "/home/lautaro/.local/lib/python3.6/site-packages/sklearn/model_selection/_split.py:657: Warning: The least populated class in y has only 1 members, which is too few. The minimum number of members in any class cannot be less than n_splits=5.\n",
      "  % (min_groups, self.n_splits)), Warning)\n"
     ]
    },
    {
     "name": "stdout",
     "output_type": "stream",
     "text": [
      "| \u001b[95m 4       \u001b[0m | \u001b[95m 2.166e+0\u001b[0m | \u001b[95m 0.8844  \u001b[0m | \u001b[95m 0.2402  \u001b[0m | \u001b[95m 0.01921 \u001b[0m | \u001b[95m 8.225   \u001b[0m | \u001b[95m 9.211   \u001b[0m | \u001b[95m 0.001068\u001b[0m | \u001b[95m 749.3   \u001b[0m | \u001b[95m 30.28   \u001b[0m | \u001b[95m 39.33   \u001b[0m |\n"
     ]
    },
    {
     "name": "stderr",
     "output_type": "stream",
     "text": [
      "/home/lautaro/.local/lib/python3.6/site-packages/lightgbm/engine.py:503: UserWarning: Found `n_estimators` in params. Will use it instead of argument\n",
      "  warnings.warn(\"Found `{}` in params. Will use it instead of argument\".format(alias))\n",
      "/home/lautaro/.local/lib/python3.6/site-packages/sklearn/model_selection/_split.py:657: Warning: The least populated class in y has only 1 members, which is too few. The minimum number of members in any class cannot be less than n_splits=5.\n",
      "  % (min_groups, self.n_splits)), Warning)\n"
     ]
    },
    {
     "name": "stdout",
     "output_type": "stream",
     "text": [
      "| \u001b[0m 5       \u001b[0m | \u001b[0m 2.164e+0\u001b[0m | \u001b[0m 0.8595  \u001b[0m | \u001b[0m 0.843   \u001b[0m | \u001b[0m 0.01736 \u001b[0m | \u001b[0m 5.968   \u001b[0m | \u001b[0m 23.52   \u001b[0m | \u001b[0m 0.03308 \u001b[0m | \u001b[0m 615.2   \u001b[0m | \u001b[0m 28.82   \u001b[0m | \u001b[0m 47.88   \u001b[0m |\n"
     ]
    },
    {
     "name": "stderr",
     "output_type": "stream",
     "text": [
      "/home/lautaro/.local/lib/python3.6/site-packages/lightgbm/engine.py:503: UserWarning: Found `n_estimators` in params. Will use it instead of argument\n",
      "  warnings.warn(\"Found `{}` in params. Will use it instead of argument\".format(alias))\n",
      "/home/lautaro/.local/lib/python3.6/site-packages/sklearn/model_selection/_split.py:657: Warning: The least populated class in y has only 1 members, which is too few. The minimum number of members in any class cannot be less than n_splits=5.\n",
      "  % (min_groups, self.n_splits)), Warning)\n"
     ]
    },
    {
     "name": "stdout",
     "output_type": "stream",
     "text": [
      "| \u001b[0m 6       \u001b[0m | \u001b[0m 2.154e+0\u001b[0m | \u001b[0m 0.9116  \u001b[0m | \u001b[0m 0.6652  \u001b[0m | \u001b[0m 0.0291  \u001b[0m | \u001b[0m 6.534   \u001b[0m | \u001b[0m 18.14   \u001b[0m | \u001b[0m 0.06617 \u001b[0m | \u001b[0m 609.8   \u001b[0m | \u001b[0m 29.32   \u001b[0m | \u001b[0m 45.58   \u001b[0m |\n"
     ]
    },
    {
     "name": "stderr",
     "output_type": "stream",
     "text": [
      "/home/lautaro/.local/lib/python3.6/site-packages/lightgbm/engine.py:503: UserWarning: Found `n_estimators` in params. Will use it instead of argument\n",
      "  warnings.warn(\"Found `{}` in params. Will use it instead of argument\".format(alias))\n",
      "/home/lautaro/.local/lib/python3.6/site-packages/sklearn/model_selection/_split.py:657: Warning: The least populated class in y has only 1 members, which is too few. The minimum number of members in any class cannot be less than n_splits=5.\n",
      "  % (min_groups, self.n_splits)), Warning)\n"
     ]
    },
    {
     "name": "stdout",
     "output_type": "stream",
     "text": [
      "| \u001b[0m 7       \u001b[0m | \u001b[0m 2.146e+0\u001b[0m | \u001b[0m 0.9396  \u001b[0m | \u001b[0m 0.2106  \u001b[0m | \u001b[0m 0.06445 \u001b[0m | \u001b[0m 7.494   \u001b[0m | \u001b[0m 34.7    \u001b[0m | \u001b[0m 0.06542 \u001b[0m | \u001b[0m 662.8   \u001b[0m | \u001b[0m 28.8    \u001b[0m | \u001b[0m 36.39   \u001b[0m |\n"
     ]
    },
    {
     "name": "stderr",
     "output_type": "stream",
     "text": [
      "/home/lautaro/.local/lib/python3.6/site-packages/lightgbm/engine.py:503: UserWarning: Found `n_estimators` in params. Will use it instead of argument\n",
      "  warnings.warn(\"Found `{}` in params. Will use it instead of argument\".format(alias))\n",
      "/home/lautaro/.local/lib/python3.6/site-packages/sklearn/model_selection/_split.py:657: Warning: The least populated class in y has only 1 members, which is too few. The minimum number of members in any class cannot be less than n_splits=5.\n",
      "  % (min_groups, self.n_splits)), Warning)\n"
     ]
    },
    {
     "name": "stdout",
     "output_type": "stream",
     "text": [
      "| \u001b[0m 8       \u001b[0m | \u001b[0m 2.116e+0\u001b[0m | \u001b[0m 0.9603  \u001b[0m | \u001b[0m 0.865   \u001b[0m | \u001b[0m 0.05059 \u001b[0m | \u001b[0m 6.625   \u001b[0m | \u001b[0m 21.06   \u001b[0m | \u001b[0m 0.02608 \u001b[0m | \u001b[0m 141.6   \u001b[0m | \u001b[0m 36.43   \u001b[0m | \u001b[0m 18.61   \u001b[0m |\n"
     ]
    },
    {
     "name": "stderr",
     "output_type": "stream",
     "text": [
      "/home/lautaro/.local/lib/python3.6/site-packages/lightgbm/engine.py:503: UserWarning: Found `n_estimators` in params. Will use it instead of argument\n",
      "  warnings.warn(\"Found `{}` in params. Will use it instead of argument\".format(alias))\n",
      "/home/lautaro/.local/lib/python3.6/site-packages/sklearn/model_selection/_split.py:657: Warning: The least populated class in y has only 1 members, which is too few. The minimum number of members in any class cannot be less than n_splits=5.\n",
      "  % (min_groups, self.n_splits)), Warning)\n"
     ]
    },
    {
     "name": "stdout",
     "output_type": "stream",
     "text": [
      "| \u001b[0m 9       \u001b[0m | \u001b[0m 2.105e+0\u001b[0m | \u001b[0m 0.9577  \u001b[0m | \u001b[0m 0.6611  \u001b[0m | \u001b[0m 0.05888 \u001b[0m | \u001b[0m 7.25    \u001b[0m | \u001b[0m 41.3    \u001b[0m | \u001b[0m 0.07923 \u001b[0m | \u001b[0m 836.8   \u001b[0m | \u001b[0m 32.23   \u001b[0m | \u001b[0m 37.26   \u001b[0m |\n"
     ]
    },
    {
     "name": "stderr",
     "output_type": "stream",
     "text": [
      "/home/lautaro/.local/lib/python3.6/site-packages/lightgbm/engine.py:503: UserWarning: Found `n_estimators` in params. Will use it instead of argument\n",
      "  warnings.warn(\"Found `{}` in params. Will use it instead of argument\".format(alias))\n",
      "/home/lautaro/.local/lib/python3.6/site-packages/sklearn/model_selection/_split.py:657: Warning: The least populated class in y has only 1 members, which is too few. The minimum number of members in any class cannot be less than n_splits=5.\n",
      "  % (min_groups, self.n_splits)), Warning)\n"
     ]
    },
    {
     "name": "stdout",
     "output_type": "stream",
     "text": [
      "| \u001b[0m 10      \u001b[0m | \u001b[0m 2.162e+0\u001b[0m | \u001b[0m 0.8575  \u001b[0m | \u001b[0m 0.2975  \u001b[0m | \u001b[0m 0.03868 \u001b[0m | \u001b[0m 5.398   \u001b[0m | \u001b[0m 40.28   \u001b[0m | \u001b[0m 0.09882 \u001b[0m | \u001b[0m 179.3   \u001b[0m | \u001b[0m 25.36   \u001b[0m | \u001b[0m 38.65   \u001b[0m |\n"
     ]
    },
    {
     "name": "stderr",
     "output_type": "stream",
     "text": [
      "/home/lautaro/.local/lib/python3.6/site-packages/lightgbm/engine.py:503: UserWarning: Found `n_estimators` in params. Will use it instead of argument\n",
      "  warnings.warn(\"Found `{}` in params. Will use it instead of argument\".format(alias))\n",
      "/home/lautaro/.local/lib/python3.6/site-packages/sklearn/model_selection/_split.py:657: Warning: The least populated class in y has only 1 members, which is too few. The minimum number of members in any class cannot be less than n_splits=5.\n",
      "  % (min_groups, self.n_splits)), Warning)\n"
     ]
    },
    {
     "name": "stdout",
     "output_type": "stream",
     "text": [
      "| \u001b[0m 11      \u001b[0m | \u001b[0m 2.16e+06\u001b[0m | \u001b[0m 0.951   \u001b[0m | \u001b[0m 0.6561  \u001b[0m | \u001b[0m 0.02132 \u001b[0m | \u001b[0m 8.973   \u001b[0m | \u001b[0m 41.21   \u001b[0m | \u001b[0m 0.04594 \u001b[0m | \u001b[0m 289.4   \u001b[0m | \u001b[0m 26.45   \u001b[0m | \u001b[0m 28.42   \u001b[0m |\n"
     ]
    },
    {
     "name": "stderr",
     "output_type": "stream",
     "text": [
      "/home/lautaro/.local/lib/python3.6/site-packages/lightgbm/engine.py:503: UserWarning: Found `n_estimators` in params. Will use it instead of argument\n",
      "  warnings.warn(\"Found `{}` in params. Will use it instead of argument\".format(alias))\n",
      "/home/lautaro/.local/lib/python3.6/site-packages/sklearn/model_selection/_split.py:657: Warning: The least populated class in y has only 1 members, which is too few. The minimum number of members in any class cannot be less than n_splits=5.\n",
      "  % (min_groups, self.n_splits)), Warning)\n"
     ]
    },
    {
     "name": "stdout",
     "output_type": "stream",
     "text": [
      "| \u001b[95m 12      \u001b[0m | \u001b[95m 2.168e+0\u001b[0m | \u001b[95m 0.8457  \u001b[0m | \u001b[95m 0.4622  \u001b[0m | \u001b[95m 0.01581 \u001b[0m | \u001b[95m 6.111   \u001b[0m | \u001b[95m 28.36   \u001b[0m | \u001b[95m 0.05396 \u001b[0m | \u001b[95m 754.0   \u001b[0m | \u001b[95m 38.65   \u001b[0m | \u001b[95m 44.3    \u001b[0m |\n"
     ]
    },
    {
     "name": "stderr",
     "output_type": "stream",
     "text": [
      "/home/lautaro/.local/lib/python3.6/site-packages/lightgbm/engine.py:503: UserWarning: Found `n_estimators` in params. Will use it instead of argument\n",
      "  warnings.warn(\"Found `{}` in params. Will use it instead of argument\".format(alias))\n",
      "/home/lautaro/.local/lib/python3.6/site-packages/sklearn/model_selection/_split.py:657: Warning: The least populated class in y has only 1 members, which is too few. The minimum number of members in any class cannot be less than n_splits=5.\n",
      "  % (min_groups, self.n_splits)), Warning)\n"
     ]
    },
    {
     "name": "stdout",
     "output_type": "stream",
     "text": [
      "| \u001b[0m 13      \u001b[0m | \u001b[0m 2.122e+0\u001b[0m | \u001b[0m 0.853   \u001b[0m | \u001b[0m 0.4545  \u001b[0m | \u001b[0m 0.0522  \u001b[0m | \u001b[0m 5.427   \u001b[0m | \u001b[0m 38.43   \u001b[0m | \u001b[0m 0.001316\u001b[0m | \u001b[0m 103.9   \u001b[0m | \u001b[0m 33.05   \u001b[0m | \u001b[0m 13.05   \u001b[0m |\n",
      "=====================================================================================================================================\n",
      "|   iter    |  target   | baggin... | featur... | learni... | max_depth | min_ch... | min_sp... | n_esti... | num_le... |   seed    |\n",
      "-------------------------------------------------------------------------------------------------------------------------------------\n"
     ]
    },
    {
     "name": "stderr",
     "output_type": "stream",
     "text": [
      "/home/lautaro/.local/lib/python3.6/site-packages/lightgbm/engine.py:503: UserWarning: Found `n_estimators` in params. Will use it instead of argument\n",
      "  warnings.warn(\"Found `{}` in params. Will use it instead of argument\".format(alias))\n",
      "/home/lautaro/.local/lib/python3.6/site-packages/sklearn/model_selection/_split.py:657: Warning: The least populated class in y has only 1 members, which is too few. The minimum number of members in any class cannot be less than n_splits=5.\n",
      "  % (min_groups, self.n_splits)), Warning)\n"
     ]
    },
    {
     "name": "stdout",
     "output_type": "stream",
     "text": [
      "| \u001b[0m 1       \u001b[0m | \u001b[0m 2.254e+0\u001b[0m | \u001b[0m 0.9098  \u001b[0m | \u001b[0m 0.6722  \u001b[0m | \u001b[0m 0.04617 \u001b[0m | \u001b[0m 7.174   \u001b[0m | \u001b[0m 24.06   \u001b[0m | \u001b[0m 0.06494 \u001b[0m | \u001b[0m 493.8   \u001b[0m | \u001b[0m 42.73   \u001b[0m | \u001b[0m 48.55   \u001b[0m |\n"
     ]
    },
    {
     "name": "stderr",
     "output_type": "stream",
     "text": [
      "/home/lautaro/.local/lib/python3.6/site-packages/lightgbm/engine.py:503: UserWarning: Found `n_estimators` in params. Will use it instead of argument\n",
      "  warnings.warn(\"Found `{}` in params. Will use it instead of argument\".format(alias))\n",
      "/home/lautaro/.local/lib/python3.6/site-packages/sklearn/model_selection/_split.py:657: Warning: The least populated class in y has only 1 members, which is too few. The minimum number of members in any class cannot be less than n_splits=5.\n",
      "  % (min_groups, self.n_splits)), Warning)\n"
     ]
    },
    {
     "name": "stdout",
     "output_type": "stream",
     "text": [
      "| \u001b[95m 2       \u001b[0m | \u001b[95m 2.267e+0\u001b[0m | \u001b[95m 0.8767  \u001b[0m | \u001b[95m 0.7334  \u001b[0m | \u001b[95m 0.04173 \u001b[0m | \u001b[95m 7.266   \u001b[0m | \u001b[95m 46.65   \u001b[0m | \u001b[95m 0.008033\u001b[0m | \u001b[95m 178.4   \u001b[0m | \u001b[95m 24.42   \u001b[0m | \u001b[95m 43.3    \u001b[0m |\n"
     ]
    },
    {
     "name": "stderr",
     "output_type": "stream",
     "text": [
      "/home/lautaro/.local/lib/python3.6/site-packages/lightgbm/engine.py:503: UserWarning: Found `n_estimators` in params. Will use it instead of argument\n",
      "  warnings.warn(\"Found `{}` in params. Will use it instead of argument\".format(alias))\n",
      "/home/lautaro/.local/lib/python3.6/site-packages/sklearn/model_selection/_split.py:657: Warning: The least populated class in y has only 1 members, which is too few. The minimum number of members in any class cannot be less than n_splits=5.\n",
      "  % (min_groups, self.n_splits)), Warning)\n"
     ]
    },
    {
     "name": "stdout",
     "output_type": "stream",
     "text": [
      "| \u001b[0m 3       \u001b[0m | \u001b[0m 2.22e+06\u001b[0m | \u001b[0m 0.9556  \u001b[0m | \u001b[0m 0.796   \u001b[0m | \u001b[0m 0.06872 \u001b[0m | \u001b[0m 8.189   \u001b[0m | \u001b[0m 25.77   \u001b[0m | \u001b[0m 0.07827 \u001b[0m | \u001b[0m 206.4   \u001b[0m | \u001b[0m 37.44   \u001b[0m | \u001b[0m 15.73   \u001b[0m |\n"
     ]
    },
    {
     "name": "stderr",
     "output_type": "stream",
     "text": [
      "/home/lautaro/.local/lib/python3.6/site-packages/lightgbm/engine.py:503: UserWarning: Found `n_estimators` in params. Will use it instead of argument\n",
      "  warnings.warn(\"Found `{}` in params. Will use it instead of argument\".format(alias))\n",
      "/home/lautaro/.local/lib/python3.6/site-packages/sklearn/model_selection/_split.py:657: Warning: The least populated class in y has only 1 members, which is too few. The minimum number of members in any class cannot be less than n_splits=5.\n",
      "  % (min_groups, self.n_splits)), Warning)\n"
     ]
    },
    {
     "name": "stdout",
     "output_type": "stream",
     "text": [
      "| \u001b[95m 4       \u001b[0m | \u001b[95m 2.313e+0\u001b[0m | \u001b[95m 0.8844  \u001b[0m | \u001b[95m 0.2402  \u001b[0m | \u001b[95m 0.01921 \u001b[0m | \u001b[95m 8.225   \u001b[0m | \u001b[95m 9.211   \u001b[0m | \u001b[95m 0.001068\u001b[0m | \u001b[95m 749.3   \u001b[0m | \u001b[95m 30.28   \u001b[0m | \u001b[95m 39.33   \u001b[0m |\n"
     ]
    },
    {
     "name": "stderr",
     "output_type": "stream",
     "text": [
      "/home/lautaro/.local/lib/python3.6/site-packages/lightgbm/engine.py:503: UserWarning: Found `n_estimators` in params. Will use it instead of argument\n",
      "  warnings.warn(\"Found `{}` in params. Will use it instead of argument\".format(alias))\n",
      "/home/lautaro/.local/lib/python3.6/site-packages/sklearn/model_selection/_split.py:657: Warning: The least populated class in y has only 1 members, which is too few. The minimum number of members in any class cannot be less than n_splits=5.\n",
      "  % (min_groups, self.n_splits)), Warning)\n"
     ]
    },
    {
     "name": "stdout",
     "output_type": "stream",
     "text": [
      "| \u001b[0m 5       \u001b[0m | \u001b[0m 2.299e+0\u001b[0m | \u001b[0m 0.8595  \u001b[0m | \u001b[0m 0.843   \u001b[0m | \u001b[0m 0.01736 \u001b[0m | \u001b[0m 5.968   \u001b[0m | \u001b[0m 23.52   \u001b[0m | \u001b[0m 0.03308 \u001b[0m | \u001b[0m 615.2   \u001b[0m | \u001b[0m 28.82   \u001b[0m | \u001b[0m 47.88   \u001b[0m |\n"
     ]
    },
    {
     "name": "stderr",
     "output_type": "stream",
     "text": [
      "/home/lautaro/.local/lib/python3.6/site-packages/lightgbm/engine.py:503: UserWarning: Found `n_estimators` in params. Will use it instead of argument\n",
      "  warnings.warn(\"Found `{}` in params. Will use it instead of argument\".format(alias))\n",
      "/home/lautaro/.local/lib/python3.6/site-packages/sklearn/model_selection/_split.py:657: Warning: The least populated class in y has only 1 members, which is too few. The minimum number of members in any class cannot be less than n_splits=5.\n",
      "  % (min_groups, self.n_splits)), Warning)\n"
     ]
    },
    {
     "name": "stdout",
     "output_type": "stream",
     "text": [
      "| \u001b[0m 6       \u001b[0m | \u001b[0m 2.291e+0\u001b[0m | \u001b[0m 0.9116  \u001b[0m | \u001b[0m 0.6652  \u001b[0m | \u001b[0m 0.0291  \u001b[0m | \u001b[0m 6.534   \u001b[0m | \u001b[0m 18.14   \u001b[0m | \u001b[0m 0.06617 \u001b[0m | \u001b[0m 609.8   \u001b[0m | \u001b[0m 29.32   \u001b[0m | \u001b[0m 45.58   \u001b[0m |\n"
     ]
    },
    {
     "name": "stderr",
     "output_type": "stream",
     "text": [
      "/home/lautaro/.local/lib/python3.6/site-packages/lightgbm/engine.py:503: UserWarning: Found `n_estimators` in params. Will use it instead of argument\n",
      "  warnings.warn(\"Found `{}` in params. Will use it instead of argument\".format(alias))\n",
      "/home/lautaro/.local/lib/python3.6/site-packages/sklearn/model_selection/_split.py:657: Warning: The least populated class in y has only 1 members, which is too few. The minimum number of members in any class cannot be less than n_splits=5.\n",
      "  % (min_groups, self.n_splits)), Warning)\n"
     ]
    },
    {
     "name": "stdout",
     "output_type": "stream",
     "text": [
      "| \u001b[0m 7       \u001b[0m | \u001b[0m 2.259e+0\u001b[0m | \u001b[0m 0.9396  \u001b[0m | \u001b[0m 0.2106  \u001b[0m | \u001b[0m 0.06445 \u001b[0m | \u001b[0m 7.494   \u001b[0m | \u001b[0m 34.7    \u001b[0m | \u001b[0m 0.06542 \u001b[0m | \u001b[0m 662.8   \u001b[0m | \u001b[0m 28.8    \u001b[0m | \u001b[0m 36.39   \u001b[0m |\n"
     ]
    },
    {
     "name": "stderr",
     "output_type": "stream",
     "text": [
      "/home/lautaro/.local/lib/python3.6/site-packages/lightgbm/engine.py:503: UserWarning: Found `n_estimators` in params. Will use it instead of argument\n",
      "  warnings.warn(\"Found `{}` in params. Will use it instead of argument\".format(alias))\n",
      "/home/lautaro/.local/lib/python3.6/site-packages/sklearn/model_selection/_split.py:657: Warning: The least populated class in y has only 1 members, which is too few. The minimum number of members in any class cannot be less than n_splits=5.\n",
      "  % (min_groups, self.n_splits)), Warning)\n"
     ]
    },
    {
     "name": "stdout",
     "output_type": "stream",
     "text": [
      "| \u001b[0m 8       \u001b[0m | \u001b[0m 2.248e+0\u001b[0m | \u001b[0m 0.9603  \u001b[0m | \u001b[0m 0.865   \u001b[0m | \u001b[0m 0.05059 \u001b[0m | \u001b[0m 6.625   \u001b[0m | \u001b[0m 21.06   \u001b[0m | \u001b[0m 0.02608 \u001b[0m | \u001b[0m 141.6   \u001b[0m | \u001b[0m 36.43   \u001b[0m | \u001b[0m 18.61   \u001b[0m |\n"
     ]
    },
    {
     "name": "stderr",
     "output_type": "stream",
     "text": [
      "/home/lautaro/.local/lib/python3.6/site-packages/lightgbm/engine.py:503: UserWarning: Found `n_estimators` in params. Will use it instead of argument\n",
      "  warnings.warn(\"Found `{}` in params. Will use it instead of argument\".format(alias))\n",
      "/home/lautaro/.local/lib/python3.6/site-packages/sklearn/model_selection/_split.py:657: Warning: The least populated class in y has only 1 members, which is too few. The minimum number of members in any class cannot be less than n_splits=5.\n",
      "  % (min_groups, self.n_splits)), Warning)\n"
     ]
    },
    {
     "name": "stdout",
     "output_type": "stream",
     "text": [
      "| \u001b[0m 9       \u001b[0m | \u001b[0m 2.237e+0\u001b[0m | \u001b[0m 0.9577  \u001b[0m | \u001b[0m 0.6611  \u001b[0m | \u001b[0m 0.05888 \u001b[0m | \u001b[0m 7.25    \u001b[0m | \u001b[0m 41.3    \u001b[0m | \u001b[0m 0.07923 \u001b[0m | \u001b[0m 836.8   \u001b[0m | \u001b[0m 32.23   \u001b[0m | \u001b[0m 37.26   \u001b[0m |\n"
     ]
    },
    {
     "name": "stderr",
     "output_type": "stream",
     "text": [
      "/home/lautaro/.local/lib/python3.6/site-packages/lightgbm/engine.py:503: UserWarning: Found `n_estimators` in params. Will use it instead of argument\n",
      "  warnings.warn(\"Found `{}` in params. Will use it instead of argument\".format(alias))\n",
      "/home/lautaro/.local/lib/python3.6/site-packages/sklearn/model_selection/_split.py:657: Warning: The least populated class in y has only 1 members, which is too few. The minimum number of members in any class cannot be less than n_splits=5.\n",
      "  % (min_groups, self.n_splits)), Warning)\n"
     ]
    },
    {
     "name": "stdout",
     "output_type": "stream",
     "text": [
      "| \u001b[0m 10      \u001b[0m | \u001b[0m 2.297e+0\u001b[0m | \u001b[0m 0.8575  \u001b[0m | \u001b[0m 0.2975  \u001b[0m | \u001b[0m 0.03868 \u001b[0m | \u001b[0m 5.398   \u001b[0m | \u001b[0m 40.28   \u001b[0m | \u001b[0m 0.09882 \u001b[0m | \u001b[0m 179.3   \u001b[0m | \u001b[0m 25.36   \u001b[0m | \u001b[0m 38.65   \u001b[0m |\n"
     ]
    },
    {
     "name": "stderr",
     "output_type": "stream",
     "text": [
      "/home/lautaro/.local/lib/python3.6/site-packages/lightgbm/engine.py:503: UserWarning: Found `n_estimators` in params. Will use it instead of argument\n",
      "  warnings.warn(\"Found `{}` in params. Will use it instead of argument\".format(alias))\n",
      "/home/lautaro/.local/lib/python3.6/site-packages/sklearn/model_selection/_split.py:657: Warning: The least populated class in y has only 1 members, which is too few. The minimum number of members in any class cannot be less than n_splits=5.\n",
      "  % (min_groups, self.n_splits)), Warning)\n"
     ]
    },
    {
     "name": "stdout",
     "output_type": "stream",
     "text": [
      "| \u001b[0m 11      \u001b[0m | \u001b[0m 2.295e+0\u001b[0m | \u001b[0m 0.951   \u001b[0m | \u001b[0m 0.6561  \u001b[0m | \u001b[0m 0.02132 \u001b[0m | \u001b[0m 8.973   \u001b[0m | \u001b[0m 41.21   \u001b[0m | \u001b[0m 0.04594 \u001b[0m | \u001b[0m 289.4   \u001b[0m | \u001b[0m 26.45   \u001b[0m | \u001b[0m 28.42   \u001b[0m |\n"
     ]
    },
    {
     "name": "stderr",
     "output_type": "stream",
     "text": [
      "/home/lautaro/.local/lib/python3.6/site-packages/lightgbm/engine.py:503: UserWarning: Found `n_estimators` in params. Will use it instead of argument\n",
      "  warnings.warn(\"Found `{}` in params. Will use it instead of argument\".format(alias))\n",
      "/home/lautaro/.local/lib/python3.6/site-packages/sklearn/model_selection/_split.py:657: Warning: The least populated class in y has only 1 members, which is too few. The minimum number of members in any class cannot be less than n_splits=5.\n",
      "  % (min_groups, self.n_splits)), Warning)\n"
     ]
    },
    {
     "name": "stdout",
     "output_type": "stream",
     "text": [
      "| \u001b[0m 12      \u001b[0m | \u001b[0m 2.303e+0\u001b[0m | \u001b[0m 0.8457  \u001b[0m | \u001b[0m 0.4622  \u001b[0m | \u001b[0m 0.01581 \u001b[0m | \u001b[0m 6.111   \u001b[0m | \u001b[0m 28.36   \u001b[0m | \u001b[0m 0.05396 \u001b[0m | \u001b[0m 754.0   \u001b[0m | \u001b[0m 38.65   \u001b[0m | \u001b[0m 44.3    \u001b[0m |\n"
     ]
    },
    {
     "name": "stderr",
     "output_type": "stream",
     "text": [
      "/home/lautaro/.local/lib/python3.6/site-packages/lightgbm/engine.py:503: UserWarning: Found `n_estimators` in params. Will use it instead of argument\n",
      "  warnings.warn(\"Found `{}` in params. Will use it instead of argument\".format(alias))\n",
      "/home/lautaro/.local/lib/python3.6/site-packages/sklearn/model_selection/_split.py:657: Warning: The least populated class in y has only 1 members, which is too few. The minimum number of members in any class cannot be less than n_splits=5.\n",
      "  % (min_groups, self.n_splits)), Warning)\n"
     ]
    },
    {
     "name": "stdout",
     "output_type": "stream",
     "text": [
      "| \u001b[0m 13      \u001b[0m | \u001b[0m 2.253e+0\u001b[0m | \u001b[0m 0.853   \u001b[0m | \u001b[0m 0.4545  \u001b[0m | \u001b[0m 0.0522  \u001b[0m | \u001b[0m 5.427   \u001b[0m | \u001b[0m 38.43   \u001b[0m | \u001b[0m 0.001316\u001b[0m | \u001b[0m 103.9   \u001b[0m | \u001b[0m 33.05   \u001b[0m | \u001b[0m 13.05   \u001b[0m |\n",
      "=====================================================================================================================================\n"
     ]
    }
   ],
   "source": [
    "dtrain = dtrain_2012\n",
    "params_2012 = optimize_lgbm(dtrain_2012)\n",
    "dtrain = dtrain_2013\n",
    "params_2013 = optimize_lgbm(dtrain_2013)\n",
    "dtrain = dtrain_2014\n",
    "params_2014 = optimize_lgbm(dtrain_2014)\n",
    "dtrain = dtrain_2015\n",
    "params_2015 = optimize_lgbm(dtrain_2015)\n",
    "dtrain = dtrain_2016\n",
    "params_2016 = optimize_lgbm(dtrain_2016)"
   ]
  },
  {
   "cell_type": "code",
   "execution_count": 47,
   "metadata": {},
   "outputs": [
    {
     "name": "stdout",
     "output_type": "stream",
     "text": [
      "{'bagging_fraction': 0.8456530825090609, 'feature_fraction': 0.4622280183459735, 'learning_rate': 0.01580539093297958, 'max_depth': 6, 'min_child_weight': 28.361441126886234, 'min_split_gain': 0.05396292555909297, 'n_estimators': 754, 'num_leaves': 38.6539753385936, 'seed': 44}\n"
     ]
    }
   ],
   "source": [
    "print(params_2015)"
   ]
  },
  {
   "cell_type": "markdown",
   "metadata": {},
   "source": [
    "### Entrenando los modelos"
   ]
  },
  {
   "cell_type": "code",
   "execution_count": 48,
   "metadata": {},
   "outputs": [],
   "source": [
    "from lightgbm import LGBMRegressor as lgbm\n",
    "def fabrica_lgbm(params):\n",
    "    best_lgbm_model = lgbm(#colsample_bytree=params[\"colsample_bytree\"],\n",
    "                 bagging_fracion=params[\"bagging_fraction\"],\n",
    "                 num_leaves=int(params[\"num_leaves\"]),                 \n",
    "                 learning_rate=params[\"learning_rate\"],\n",
    "                 max_depth=params[\"max_depth\"],\n",
    "                 min_child_weight=params[\"min_child_weight\"],\n",
    "                 n_estimators=params[\"n_estimators\"],                                                                    \n",
    "                 #reg_alpha=params[\"reg_alpha\"],\n",
    "                 #reg_lambda=params[\"reg_lambda\"],\n",
    "                 #subsample=params[\"subsample\"],\n",
    "                 seed=params[\"seed\"])\n",
    "    \n",
    "    return best_lgbm_model"
   ]
  },
  {
   "cell_type": "code",
   "execution_count": 49,
   "metadata": {},
   "outputs": [],
   "source": [
    "lgbm_2012 = fabrica_lgbm(params_2012)\n",
    "lgbm_2013 = fabrica_lgbm(params_2013)\n",
    "lgbm_2014 = fabrica_lgbm(params_2014)\n",
    "lgbm_2015 = fabrica_lgbm(params_2015)\n",
    "lgbm_2016 = fabrica_lgbm(params_2016)"
   ]
  },
  {
   "cell_type": "code",
   "execution_count": 50,
   "metadata": {},
   "outputs": [
    {
     "name": "stdout",
     "output_type": "stream",
     "text": [
      "MAE LGBM: 406024.91973549256\n"
     ]
    }
   ],
   "source": [
    "lgbm_2012.fit(x_2012,y_2012)\n",
    "lgbm_pred_val = lgbm_2012.predict(x_2012_val)\n",
    "lgbm_mae = MAE(y_2012_val, lgbm_pred_val)\n",
    "print(\"MAE LGBM: \" + str(lgbm_mae))"
   ]
  },
  {
   "cell_type": "code",
   "execution_count": 51,
   "metadata": {},
   "outputs": [
    {
     "name": "stdout",
     "output_type": "stream",
     "text": [
      "MAE LGBM: 407606.33905984863\n"
     ]
    }
   ],
   "source": [
    "lgbm_2013.fit(x_2013,y_2013)\n",
    "lgbm_pred_val = lgbm_2013.predict(x_2013_val)\n",
    "lgbm_mae = MAE(y_2013_val, lgbm_pred_val)\n",
    "print(\"MAE LGBM: \" + str(lgbm_mae))"
   ]
  },
  {
   "cell_type": "code",
   "execution_count": 52,
   "metadata": {},
   "outputs": [
    {
     "name": "stdout",
     "output_type": "stream",
     "text": [
      "MAE LGBM: 482616.50925858127\n"
     ]
    }
   ],
   "source": [
    "lgbm_2014.fit(x_2014,y_2014)\n",
    "lgbm_pred_val = lgbm_2014.predict(x_2014_val)\n",
    "lgbm_mae = MAE(y_2014_val, lgbm_pred_val)\n",
    "print(\"MAE LGBM: \" + str(lgbm_mae))"
   ]
  },
  {
   "cell_type": "code",
   "execution_count": 53,
   "metadata": {},
   "outputs": [
    {
     "name": "stdout",
     "output_type": "stream",
     "text": [
      "MAE LGBM: 534111.9699979337\n"
     ]
    }
   ],
   "source": [
    "lgbm_2015.fit(x_2015,y_2015)\n",
    "lgbm_pred_val = lgbm_2015.predict(x_2015_val)\n",
    "lgbm_mae = MAE(y_2015_val, lgbm_pred_val)\n",
    "print(\"MAE LGBM: \" + str(lgbm_mae))"
   ]
  },
  {
   "cell_type": "code",
   "execution_count": 54,
   "metadata": {},
   "outputs": [
    {
     "name": "stdout",
     "output_type": "stream",
     "text": [
      "MAE LGBM: 595856.9186336667\n"
     ]
    }
   ],
   "source": [
    "lgbm_2016.fit(x_2016,y_2016)\n",
    "lgbm_pred_val = lgbm_2016.predict(x_2016_val)\n",
    "lgbm_mae = MAE(y_2016_val, lgbm_pred_val)\n",
    "print(\"MAE LGBM: \" + str(lgbm_mae))"
   ]
  },
  {
   "cell_type": "code",
   "execution_count": 44,
   "metadata": {},
   "outputs": [],
   "source": [
    "res_2012 = lgbm_2012.predict(test_2012)\n",
    "res_2013 = lgbm_2013.predict(test_2013)\n",
    "res_2014 = lgbm_2014.predict(test_2014)\n",
    "res_2015 = lgbm_2015.predict(test_2015)\n",
    "res_2016 = lgbm_2016.predict(test_2016)"
   ]
  },
  {
   "cell_type": "markdown",
   "metadata": {},
   "source": [
    "### Feature Importance"
   ]
  },
  {
   "cell_type": "code",
   "execution_count": 59,
   "metadata": {},
   "outputs": [
    {
     "data": {
      "image/png": "[encoded data removed]",
      "text/plain": [
       "<Figure size 792x1008 with 1 Axes>"
      ]
     },
     "metadata": {},
     "output_type": "display_data"
    }
   ],
   "source": [
    "lightgbm.plot_importance(lgbm_2012, figsize=(11,14), title='Feature Importance (2012)');"
   ]
  },
  {
   "cell_type": "code",
   "execution_count": 60,
   "metadata": {},
   "outputs": [
    {
     "data": {
      "image/png": "[encoded data removed]",
      "text/plain": [
       "<Figure size 792x1008 with 1 Axes>"
      ]
     },
     "metadata": {},
     "output_type": "display_data"
    }
   ],
   "source": [
    "lightgbm.plot_importance(lgbm_2016, figsize=(11,14), title='Feature Importance (2016)');"
   ]
  },
  {
   "cell_type": "markdown",
   "metadata": {},
   "source": [
    "## XGBoost"
   ]
  },
  {
   "cell_type": "markdown",
   "metadata": {},
   "source": [
    "### Tuneo de hiperparámetros"
   ]
  },
  {
   "cell_type": "code",
   "execution_count": 61,
   "metadata": {},
   "outputs": [
    {
     "name": "stderr",
     "output_type": "stream",
     "text": [
      "/home/lautaro/.local/lib/python3.6/site-packages/xgboost/core.py:587: FutureWarning: Series.base is deprecated and will be removed in a future version\n",
      "  if getattr(data, 'base', None) is not None and \\\n",
      "/home/lautaro/.local/lib/python3.6/site-packages/xgboost/core.py:588: FutureWarning: Series.base is deprecated and will be removed in a future version\n",
      "  data.base is not None and isinstance(data, np.ndarray) \\\n"
     ]
    }
   ],
   "source": [
    "import xgboost as xgb\n",
    "\n",
    "dtrain_2012 = xgb.DMatrix(x_2012, label=y_2012)\n",
    "dtrain_2013 = xgb.DMatrix(x_2013, label=y_2013)\n",
    "dtrain_2014 = xgb.DMatrix(x_2014, label=y_2014)\n",
    "dtrain_2015 = xgb.DMatrix(x_2015, label=y_2015)\n",
    "dtrain_2016 = xgb.DMatrix(x_2016, label=y_2016)"
   ]
  },
  {
   "cell_type": "code",
   "execution_count": 62,
   "metadata": {},
   "outputs": [],
   "source": [
    "def xgb_evaluate(max_depth, gamma, colsample_bytree,seed,min_child_weight,n_estimators,\n",
    "                  reg_alpha,reg_lambda,subsample,learning_rate):\n",
    "    params = {'eval_metric': 'rmse',\n",
    "              'max_depth': int(max_depth),\n",
    "              'subsample': subsample,\n",
    "              'eta': 0.1,\n",
    "              'gamma': gamma,\n",
    "              'colsample_bytree': colsample_bytree,\n",
    "              \"seed\": int(seed),\n",
    "              \"min_child_weight\": min_child_weight,\n",
    "              \"n_estimators\": n_estimators,\n",
    "              \"reg_alpha\": reg_alpha,\n",
    "              \"reg_lambda\": reg_lambda,\n",
    "              \"learning_rate\": learning_rate\n",
    "             }\n",
    "    # Used around 1000 boosting rounds in the full model\n",
    "    cv_result = xgb.cv(params, dtrain, num_boost_round=100, nfold=3)    \n",
    "    \n",
    "    # Bayesian optimization only knows how to maximize, not minimize, so return the negative RMSE\n",
    "    return -1.0 * cv_result['test-rmse-mean'].iloc[-1]"
   ]
  },
  {
   "cell_type": "code",
   "execution_count": 63,
   "metadata": {},
   "outputs": [],
   "source": [
    "def optimize(sett):\n",
    "    dtrain = sett\n",
    "    xgb_bo = BayesianOptimization(xgb_evaluate, {'max_depth': (3, 7), \n",
    "                                             'gamma': (0, 1),\n",
    "                                             'colsample_bytree': (0.3, 0.9),\n",
    "                                             \"seed\": (10,50),\n",
    "                                             \"min_child_weight\": (0.4,1.5),\n",
    "                                             \"n_estimators\":(100,10000),                                                                    \n",
    "                                             \"reg_alpha\":(0.2,0.75),\n",
    "                                             \"reg_lambda\": (0.2,0.8),\n",
    "                                             \"subsample\" : (0.3, 0.8),\n",
    "                                             \"learning_rate\": (0.01,0.07),\n",
    "                                            })\n",
    "    # Se probo con 3 puntos iniciales y 10 iteraciones, deberiamos probar con mas en ambas\n",
    "    # La prox iteracion en casa probar 100 y 10000\n",
    "    xgb_bo.maximize(init_points=3, n_iter=10, acq='ei')\n",
    "    params = xgb_bo.max['params']\n",
    "    params['max_depth'] = int(params['max_depth'])\n",
    "    params[\"seed\"] = int(params[\"seed\"])\n",
    "    params[\"n_estimators\"] = int(params[\"n_estimators\"])\n",
    "    return params"
   ]
  },
  {
   "cell_type": "code",
   "execution_count": 64,
   "metadata": {
    "scrolled": true
   },
   "outputs": [
    {
     "name": "stdout",
     "output_type": "stream",
     "text": [
      "|   iter    |  target   | colsam... |   gamma   | learni... | max_depth | min_ch... | n_esti... | reg_alpha | reg_la... |   seed    | subsample |\n",
      "-------------------------------------------------------------------------------------------------------------------------------------------------\n",
      "| \u001b[0m 1       \u001b[0m | \u001b[0m-9.253e+0\u001b[0m | \u001b[0m 0.3988  \u001b[0m | \u001b[0m 0.6329  \u001b[0m | \u001b[0m 0.04436 \u001b[0m | \u001b[0m 4.332   \u001b[0m | \u001b[0m 0.5284  \u001b[0m | \u001b[0m 2.014e+0\u001b[0m | \u001b[0m 0.4796  \u001b[0m | \u001b[0m 0.5848  \u001b[0m | \u001b[0m 12.2    \u001b[0m | \u001b[0m 0.5697  \u001b[0m |\n",
      "| \u001b[0m 2       \u001b[0m | \u001b[0m-1.116e+0\u001b[0m | \u001b[0m 0.7031  \u001b[0m | \u001b[0m 0.5461  \u001b[0m | \u001b[0m 0.0166  \u001b[0m | \u001b[0m 4.006   \u001b[0m | \u001b[0m 1.087   \u001b[0m | \u001b[0m 8.764e+0\u001b[0m | \u001b[0m 0.4121  \u001b[0m | \u001b[0m 0.7523  \u001b[0m | \u001b[0m 26.35   \u001b[0m | \u001b[0m 0.657   \u001b[0m |\n",
      "| \u001b[0m 3       \u001b[0m | \u001b[0m-1.277e+0\u001b[0m | \u001b[0m 0.8382  \u001b[0m | \u001b[0m 0.3709  \u001b[0m | \u001b[0m 0.01367 \u001b[0m | \u001b[0m 3.113   \u001b[0m | \u001b[0m 0.835   \u001b[0m | \u001b[0m 3.826e+0\u001b[0m | \u001b[0m 0.646   \u001b[0m | \u001b[0m 0.2289  \u001b[0m | \u001b[0m 20.82   \u001b[0m | \u001b[0m 0.5337  \u001b[0m |\n",
      "| \u001b[0m 4       \u001b[0m | \u001b[0m-9.66e+05\u001b[0m | \u001b[0m 0.5004  \u001b[0m | \u001b[0m 0.8534  \u001b[0m | \u001b[0m 0.041   \u001b[0m | \u001b[0m 3.044   \u001b[0m | \u001b[0m 1.037   \u001b[0m | \u001b[0m 2.135e+0\u001b[0m | \u001b[0m 0.4713  \u001b[0m | \u001b[0m 0.2046  \u001b[0m | \u001b[0m 16.62   \u001b[0m | \u001b[0m 0.3578  \u001b[0m |\n",
      "| \u001b[0m 5       \u001b[0m | \u001b[0m-9.745e+0\u001b[0m | \u001b[0m 0.3091  \u001b[0m | \u001b[0m 0.5412  \u001b[0m | \u001b[0m 0.02828 \u001b[0m | \u001b[0m 5.854   \u001b[0m | \u001b[0m 0.495   \u001b[0m | \u001b[0m 8.654e+0\u001b[0m | \u001b[0m 0.4426  \u001b[0m | \u001b[0m 0.2519  \u001b[0m | \u001b[0m 22.64   \u001b[0m | \u001b[0m 0.571   \u001b[0m |\n",
      "| \u001b[95m 6       \u001b[0m | \u001b[95m-8.507e+0\u001b[0m | \u001b[95m 0.7045  \u001b[0m | \u001b[95m 0.8734  \u001b[0m | \u001b[95m 0.06935 \u001b[0m | \u001b[95m 5.412   \u001b[0m | \u001b[95m 1.376   \u001b[0m | \u001b[95m 2.018e+0\u001b[0m | \u001b[95m 0.5257  \u001b[0m | \u001b[95m 0.2979  \u001b[0m | \u001b[95m 13.31   \u001b[0m | \u001b[95m 0.6984  \u001b[0m |\n",
      "| \u001b[0m 7       \u001b[0m | \u001b[0m-8.814e+0\u001b[0m | \u001b[0m 0.5147  \u001b[0m | \u001b[0m 0.3455  \u001b[0m | \u001b[0m 0.04473 \u001b[0m | \u001b[0m 5.06    \u001b[0m | \u001b[0m 0.6494  \u001b[0m | \u001b[0m 6.16e+03\u001b[0m | \u001b[0m 0.2363  \u001b[0m | \u001b[0m 0.552   \u001b[0m | \u001b[0m 45.27   \u001b[0m | \u001b[0m 0.4749  \u001b[0m |\n",
      "| \u001b[0m 8       \u001b[0m | \u001b[0m-8.837e+0\u001b[0m | \u001b[0m 0.6498  \u001b[0m | \u001b[0m 0.8063  \u001b[0m | \u001b[0m 0.03784 \u001b[0m | \u001b[0m 5.258   \u001b[0m | \u001b[0m 0.853   \u001b[0m | \u001b[0m 5.926e+0\u001b[0m | \u001b[0m 0.3924  \u001b[0m | \u001b[0m 0.7745  \u001b[0m | \u001b[0m 46.73   \u001b[0m | \u001b[0m 0.3797  \u001b[0m |\n",
      "| \u001b[95m 9       \u001b[0m | \u001b[95m-8.409e+0\u001b[0m | \u001b[95m 0.7842  \u001b[0m | \u001b[95m 0.3688  \u001b[0m | \u001b[95m 0.06434 \u001b[0m | \u001b[95m 6.2     \u001b[0m | \u001b[95m 0.7001  \u001b[0m | \u001b[95m 5.971e+0\u001b[0m | \u001b[95m 0.7345  \u001b[0m | \u001b[95m 0.4055  \u001b[0m | \u001b[95m 39.05   \u001b[0m | \u001b[95m 0.6078  \u001b[0m |\n",
      "| \u001b[0m 10      \u001b[0m | \u001b[0m-1.368e+0\u001b[0m | \u001b[0m 0.3428  \u001b[0m | \u001b[0m 0.6911  \u001b[0m | \u001b[0m 0.01287 \u001b[0m | \u001b[0m 3.332   \u001b[0m | \u001b[0m 0.9918  \u001b[0m | \u001b[0m 4.272e+0\u001b[0m | \u001b[0m 0.2253  \u001b[0m | \u001b[0m 0.7508  \u001b[0m | \u001b[0m 30.69   \u001b[0m | \u001b[0m 0.5557  \u001b[0m |\n",
      "| \u001b[0m 11      \u001b[0m | \u001b[0m-9.478e+0\u001b[0m | \u001b[0m 0.469   \u001b[0m | \u001b[0m 0.9845  \u001b[0m | \u001b[0m 0.05285 \u001b[0m | \u001b[0m 3.152   \u001b[0m | \u001b[0m 1.347   \u001b[0m | \u001b[0m 4.548e+0\u001b[0m | \u001b[0m 0.2752  \u001b[0m | \u001b[0m 0.3805  \u001b[0m | \u001b[0m 41.59   \u001b[0m | \u001b[0m 0.635   \u001b[0m |\n",
      "| \u001b[0m 12      \u001b[0m | \u001b[0m-8.805e+0\u001b[0m | \u001b[0m 0.3341  \u001b[0m | \u001b[0m 0.4896  \u001b[0m | \u001b[0m 0.06319 \u001b[0m | \u001b[0m 5.911   \u001b[0m | \u001b[0m 1.284   \u001b[0m | \u001b[0m 2.593e+0\u001b[0m | \u001b[0m 0.7308  \u001b[0m | \u001b[0m 0.7914  \u001b[0m | \u001b[0m 12.58   \u001b[0m | \u001b[0m 0.6949  \u001b[0m |\n",
      "| \u001b[0m 13      \u001b[0m | \u001b[0m-1.362e+0\u001b[0m | \u001b[0m 0.6141  \u001b[0m | \u001b[0m 0.5184  \u001b[0m | \u001b[0m 0.01205 \u001b[0m | \u001b[0m 3.207   \u001b[0m | \u001b[0m 0.8255  \u001b[0m | \u001b[0m 8.958e+0\u001b[0m | \u001b[0m 0.4039  \u001b[0m | \u001b[0m 0.3064  \u001b[0m | \u001b[0m 47.35   \u001b[0m | \u001b[0m 0.5914  \u001b[0m |\n",
      "=================================================================================================================================================\n",
      "|   iter    |  target   | colsam... |   gamma   | learni... | max_depth | min_ch... | n_esti... | reg_alpha | reg_la... |   seed    | subsample |\n",
      "-------------------------------------------------------------------------------------------------------------------------------------------------\n",
      "| \u001b[0m 1       \u001b[0m | \u001b[0m-8.695e+0\u001b[0m | \u001b[0m 0.5046  \u001b[0m | \u001b[0m 0.2067  \u001b[0m | \u001b[0m 0.03554 \u001b[0m | \u001b[0m 5.747   \u001b[0m | \u001b[0m 0.8514  \u001b[0m | \u001b[0m 3.905e+0\u001b[0m | \u001b[0m 0.4699  \u001b[0m | \u001b[0m 0.6326  \u001b[0m | \u001b[0m 35.52   \u001b[0m | \u001b[0m 0.7899  \u001b[0m |\n",
      "| \u001b[95m 2       \u001b[0m | \u001b[95m-8.377e+0\u001b[0m | \u001b[95m 0.7562  \u001b[0m | \u001b[95m 0.833   \u001b[0m | \u001b[95m 0.05831 \u001b[0m | \u001b[95m 5.662   \u001b[0m | \u001b[95m 0.6992  \u001b[0m | \u001b[95m 8.611e+0\u001b[0m | \u001b[95m 0.3923  \u001b[0m | \u001b[95m 0.4889  \u001b[0m | \u001b[95m 15.81   \u001b[0m | \u001b[95m 0.4501  \u001b[0m |\n",
      "| \u001b[0m 3       \u001b[0m | \u001b[0m-9.493e+0\u001b[0m | \u001b[0m 0.5817  \u001b[0m | \u001b[0m 0.5848  \u001b[0m | \u001b[0m 0.03834 \u001b[0m | \u001b[0m 3.995   \u001b[0m | \u001b[0m 1.494   \u001b[0m | \u001b[0m 637.3   \u001b[0m | \u001b[0m 0.4957  \u001b[0m | \u001b[0m 0.6373  \u001b[0m | \u001b[0m 13.45   \u001b[0m | \u001b[0m 0.7605  \u001b[0m |\n",
      "| \u001b[0m 4       \u001b[0m | \u001b[0m-9.702e+0\u001b[0m | \u001b[0m 0.3349  \u001b[0m | \u001b[0m 0.000886\u001b[0m | \u001b[0m 0.02984 \u001b[0m | \u001b[0m 4.422   \u001b[0m | \u001b[0m 0.8257  \u001b[0m | \u001b[0m 4.564e+0\u001b[0m | \u001b[0m 0.3527  \u001b[0m | \u001b[0m 0.3106  \u001b[0m | \u001b[0m 28.89   \u001b[0m | \u001b[0m 0.6368  \u001b[0m |\n",
      "| \u001b[0m 5       \u001b[0m | \u001b[0m-1.031e+0\u001b[0m | \u001b[0m 0.742   \u001b[0m | \u001b[0m 0.1826  \u001b[0m | \u001b[0m 0.02487 \u001b[0m | \u001b[0m 3.024   \u001b[0m | \u001b[0m 1.27    \u001b[0m | \u001b[0m 9.526e+0\u001b[0m | \u001b[0m 0.5581  \u001b[0m | \u001b[0m 0.5691  \u001b[0m | \u001b[0m 10.53   \u001b[0m | \u001b[0m 0.7915  \u001b[0m |\n",
      "| \u001b[0m 6       \u001b[0m | \u001b[0m-8.993e+0\u001b[0m | \u001b[0m 0.6757  \u001b[0m | \u001b[0m 0.3685  \u001b[0m | \u001b[0m 0.06611 \u001b[0m | \u001b[0m 3.765   \u001b[0m | \u001b[0m 0.4099  \u001b[0m | \u001b[0m 8.807e+0\u001b[0m | \u001b[0m 0.2691  \u001b[0m | \u001b[0m 0.7543  \u001b[0m | \u001b[0m 22.34   \u001b[0m | \u001b[0m 0.5233  \u001b[0m |\n",
      "| \u001b[0m 7       \u001b[0m | \u001b[0m-9.038e+0\u001b[0m | \u001b[0m 0.7742  \u001b[0m | \u001b[0m 0.9767  \u001b[0m | \u001b[0m 0.06284 \u001b[0m | \u001b[0m 3.084   \u001b[0m | \u001b[0m 0.7774  \u001b[0m | \u001b[0m 4.604e+0\u001b[0m | \u001b[0m 0.6551  \u001b[0m | \u001b[0m 0.2818  \u001b[0m | \u001b[0m 11.26   \u001b[0m | \u001b[0m 0.4354  \u001b[0m |\n",
      "| \u001b[0m 8       \u001b[0m | \u001b[0m-9.899e+0\u001b[0m | \u001b[0m 0.8466  \u001b[0m | \u001b[0m 0.6369  \u001b[0m | \u001b[0m 0.01978 \u001b[0m | \u001b[0m 5.982   \u001b[0m | \u001b[0m 0.7644  \u001b[0m | \u001b[0m 6.317e+0\u001b[0m | \u001b[0m 0.5188  \u001b[0m | \u001b[0m 0.63    \u001b[0m | \u001b[0m 42.52   \u001b[0m | \u001b[0m 0.3947  \u001b[0m |\n",
      "| \u001b[0m 9       \u001b[0m | \u001b[0m-9.917e+0\u001b[0m | \u001b[0m 0.6959  \u001b[0m | \u001b[0m 0.2162  \u001b[0m | \u001b[0m 0.01973 \u001b[0m | \u001b[0m 5.333   \u001b[0m | \u001b[0m 1.341   \u001b[0m | \u001b[0m 1.508e+0\u001b[0m | \u001b[0m 0.2778  \u001b[0m | \u001b[0m 0.2216  \u001b[0m | \u001b[0m 23.85   \u001b[0m | \u001b[0m 0.329   \u001b[0m |\n",
      "| \u001b[0m 10      \u001b[0m | \u001b[0m-8.564e+0\u001b[0m | \u001b[0m 0.6767  \u001b[0m | \u001b[0m 0.3446  \u001b[0m | \u001b[0m 0.03062 \u001b[0m | \u001b[0m 6.765   \u001b[0m | \u001b[0m 1.063   \u001b[0m | \u001b[0m 4.272e+0\u001b[0m | \u001b[0m 0.6252  \u001b[0m | \u001b[0m 0.3431  \u001b[0m | \u001b[0m 24.52   \u001b[0m | \u001b[0m 0.6186  \u001b[0m |\n",
      "| \u001b[0m 11      \u001b[0m | \u001b[0m-1.042e+0\u001b[0m | \u001b[0m 0.6     \u001b[0m | \u001b[0m 0.3988  \u001b[0m | \u001b[0m 0.02397 \u001b[0m | \u001b[0m 3.3     \u001b[0m | \u001b[0m 0.5456  \u001b[0m | \u001b[0m 118.3   \u001b[0m | \u001b[0m 0.2596  \u001b[0m | \u001b[0m 0.3092  \u001b[0m | \u001b[0m 37.07   \u001b[0m | \u001b[0m 0.4028  \u001b[0m |\n",
      "| \u001b[95m 12      \u001b[0m | \u001b[95m-8.241e+0\u001b[0m | \u001b[95m 0.8744  \u001b[0m | \u001b[95m 0.1956  \u001b[0m | \u001b[95m 0.06475 \u001b[0m | \u001b[95m 6.186   \u001b[0m | \u001b[95m 1.462   \u001b[0m | \u001b[95m 7.25e+03\u001b[0m | \u001b[95m 0.5008  \u001b[0m | \u001b[95m 0.2203  \u001b[0m | \u001b[95m 22.83   \u001b[0m | \u001b[95m 0.3425  \u001b[0m |\n",
      "| \u001b[0m 13      \u001b[0m | \u001b[0m-8.887e+0\u001b[0m | \u001b[0m 0.7884  \u001b[0m | \u001b[0m 0.55    \u001b[0m | \u001b[0m 0.03913 \u001b[0m | \u001b[0m 4.282   \u001b[0m | \u001b[0m 0.9275  \u001b[0m | \u001b[0m 2.513e+0\u001b[0m | \u001b[0m 0.5891  \u001b[0m | \u001b[0m 0.2352  \u001b[0m | \u001b[0m 45.91   \u001b[0m | \u001b[0m 0.5744  \u001b[0m |\n",
      "=================================================================================================================================================\n",
      "|   iter    |  target   | colsam... |   gamma   | learni... | max_depth | min_ch... | n_esti... | reg_alpha | reg_la... |   seed    | subsample |\n",
      "-------------------------------------------------------------------------------------------------------------------------------------------------\n",
      "| \u001b[0m 1       \u001b[0m | \u001b[0m-1.026e+0\u001b[0m | \u001b[0m 0.6888  \u001b[0m | \u001b[0m 0.2728  \u001b[0m | \u001b[0m 0.03305 \u001b[0m | \u001b[0m 4.768   \u001b[0m | \u001b[0m 1.431   \u001b[0m | \u001b[0m 252.4   \u001b[0m | \u001b[0m 0.5013  \u001b[0m | \u001b[0m 0.6177  \u001b[0m | \u001b[0m 24.05   \u001b[0m | \u001b[0m 0.7836  \u001b[0m |\n",
      "| \u001b[0m 2       \u001b[0m | \u001b[0m-1.032e+0\u001b[0m | \u001b[0m 0.7226  \u001b[0m | \u001b[0m 0.6846  \u001b[0m | \u001b[0m 0.03173 \u001b[0m | \u001b[0m 4.649   \u001b[0m | \u001b[0m 1.077   \u001b[0m | \u001b[0m 1.229e+0\u001b[0m | \u001b[0m 0.2524  \u001b[0m | \u001b[0m 0.3908  \u001b[0m | \u001b[0m 21.48   \u001b[0m | \u001b[0m 0.6288  \u001b[0m |\n",
      "| \u001b[0m 3       \u001b[0m | \u001b[0m-1.063e+0\u001b[0m | \u001b[0m 0.8945  \u001b[0m | \u001b[0m 0.3807  \u001b[0m | \u001b[0m 0.0386  \u001b[0m | \u001b[0m 3.671   \u001b[0m | \u001b[0m 0.9666  \u001b[0m | \u001b[0m 9.118e+0\u001b[0m | \u001b[0m 0.3777  \u001b[0m | \u001b[0m 0.2204  \u001b[0m | \u001b[0m 43.14   \u001b[0m | \u001b[0m 0.6339  \u001b[0m |\n"
     ]
    },
    {
     "name": "stdout",
     "output_type": "stream",
     "text": [
      "| \u001b[0m 4       \u001b[0m | \u001b[0m-1.201e+0\u001b[0m | \u001b[0m 0.5396  \u001b[0m | \u001b[0m 0.4717  \u001b[0m | \u001b[0m 0.0169  \u001b[0m | \u001b[0m 5.357   \u001b[0m | \u001b[0m 1.479   \u001b[0m | \u001b[0m 253.3   \u001b[0m | \u001b[0m 0.3572  \u001b[0m | \u001b[0m 0.7402  \u001b[0m | \u001b[0m 23.03   \u001b[0m | \u001b[0m 0.4623  \u001b[0m |\n",
      "| \u001b[0m 5       \u001b[0m | \u001b[0m-1.438e+0\u001b[0m | \u001b[0m 0.7351  \u001b[0m | \u001b[0m 0.2754  \u001b[0m | \u001b[0m 0.01105 \u001b[0m | \u001b[0m 6.417   \u001b[0m | \u001b[0m 1.1     \u001b[0m | \u001b[0m 2.338e+0\u001b[0m | \u001b[0m 0.5866  \u001b[0m | \u001b[0m 0.6147  \u001b[0m | \u001b[0m 23.43   \u001b[0m | \u001b[0m 0.3256  \u001b[0m |\n",
      "| \u001b[95m 6       \u001b[0m | \u001b[95m-9.332e+0\u001b[0m | \u001b[95m 0.8191  \u001b[0m | \u001b[95m 0.1375  \u001b[0m | \u001b[95m 0.06961 \u001b[0m | \u001b[95m 5.919   \u001b[0m | \u001b[95m 0.759   \u001b[0m | \u001b[95m 766.5   \u001b[0m | \u001b[95m 0.2059  \u001b[0m | \u001b[95m 0.5052  \u001b[0m | \u001b[95m 23.5    \u001b[0m | \u001b[95m 0.5211  \u001b[0m |\n",
      "| \u001b[0m 7       \u001b[0m | \u001b[0m-9.749e+0\u001b[0m | \u001b[0m 0.4531  \u001b[0m | \u001b[0m 0.1345  \u001b[0m | \u001b[0m 0.06647 \u001b[0m | \u001b[0m 4.629   \u001b[0m | \u001b[0m 1.477   \u001b[0m | \u001b[0m 1.422e+0\u001b[0m | \u001b[0m 0.5036  \u001b[0m | \u001b[0m 0.4184  \u001b[0m | \u001b[0m 17.51   \u001b[0m | \u001b[0m 0.6724  \u001b[0m |\n",
      "| \u001b[0m 8       \u001b[0m | \u001b[0m-1.099e+0\u001b[0m | \u001b[0m 0.591   \u001b[0m | \u001b[0m 0.01524 \u001b[0m | \u001b[0m 0.03177 \u001b[0m | \u001b[0m 3.388   \u001b[0m | \u001b[0m 1.37    \u001b[0m | \u001b[0m 8.053e+0\u001b[0m | \u001b[0m 0.5177  \u001b[0m | \u001b[0m 0.769   \u001b[0m | \u001b[0m 48.92   \u001b[0m | \u001b[0m 0.6008  \u001b[0m |\n",
      "| \u001b[0m 9       \u001b[0m | \u001b[0m-1.04e+06\u001b[0m | \u001b[0m 0.3599  \u001b[0m | \u001b[0m 0.01765 \u001b[0m | \u001b[0m 0.05737 \u001b[0m | \u001b[0m 3.672   \u001b[0m | \u001b[0m 1.133   \u001b[0m | \u001b[0m 5.271e+0\u001b[0m | \u001b[0m 0.7257  \u001b[0m | \u001b[0m 0.5698  \u001b[0m | \u001b[0m 40.28   \u001b[0m | \u001b[0m 0.3828  \u001b[0m |\n",
      "| \u001b[0m 10      \u001b[0m | \u001b[0m-1.07e+06\u001b[0m | \u001b[0m 0.5584  \u001b[0m | \u001b[0m 0.03849 \u001b[0m | \u001b[0m 0.03856 \u001b[0m | \u001b[0m 3.58    \u001b[0m | \u001b[0m 1.472   \u001b[0m | \u001b[0m 1.936e+0\u001b[0m | \u001b[0m 0.6942  \u001b[0m | \u001b[0m 0.637   \u001b[0m | \u001b[0m 49.16   \u001b[0m | \u001b[0m 0.6982  \u001b[0m |\n",
      "| \u001b[0m 11      \u001b[0m | \u001b[0m-1.469e+0\u001b[0m | \u001b[0m 0.8191  \u001b[0m | \u001b[0m 0.228   \u001b[0m | \u001b[0m 0.01159 \u001b[0m | \u001b[0m 4.265   \u001b[0m | \u001b[0m 1.19    \u001b[0m | \u001b[0m 5.069e+0\u001b[0m | \u001b[0m 0.3847  \u001b[0m | \u001b[0m 0.6498  \u001b[0m | \u001b[0m 33.42   \u001b[0m | \u001b[0m 0.6307  \u001b[0m |\n",
      "| \u001b[0m 12      \u001b[0m | \u001b[0m-9.777e+0\u001b[0m | \u001b[0m 0.8117  \u001b[0m | \u001b[0m 0.5847  \u001b[0m | \u001b[0m 0.05354 \u001b[0m | \u001b[0m 4.806   \u001b[0m | \u001b[0m 1.153   \u001b[0m | \u001b[0m 5.934e+0\u001b[0m | \u001b[0m 0.3813  \u001b[0m | \u001b[0m 0.2161  \u001b[0m | \u001b[0m 21.91   \u001b[0m | \u001b[0m 0.6232  \u001b[0m |\n",
      "| \u001b[0m 13      \u001b[0m | \u001b[0m-1.017e+0\u001b[0m | \u001b[0m 0.7318  \u001b[0m | \u001b[0m 0.5824  \u001b[0m | \u001b[0m 0.03487 \u001b[0m | \u001b[0m 4.213   \u001b[0m | \u001b[0m 1.083   \u001b[0m | \u001b[0m 884.2   \u001b[0m | \u001b[0m 0.2789  \u001b[0m | \u001b[0m 0.5372  \u001b[0m | \u001b[0m 18.06   \u001b[0m | \u001b[0m 0.4594  \u001b[0m |\n",
      "=================================================================================================================================================\n",
      "|   iter    |  target   | colsam... |   gamma   | learni... | max_depth | min_ch... | n_esti... | reg_alpha | reg_la... |   seed    | subsample |\n",
      "-------------------------------------------------------------------------------------------------------------------------------------------------\n",
      "| \u001b[0m 1       \u001b[0m | \u001b[0m-1.079e+0\u001b[0m | \u001b[0m 0.474   \u001b[0m | \u001b[0m 0.6774  \u001b[0m | \u001b[0m 0.06509 \u001b[0m | \u001b[0m 3.745   \u001b[0m | \u001b[0m 1.237   \u001b[0m | \u001b[0m 3.451e+0\u001b[0m | \u001b[0m 0.4215  \u001b[0m | \u001b[0m 0.3066  \u001b[0m | \u001b[0m 11.25   \u001b[0m | \u001b[0m 0.5049  \u001b[0m |\n",
      "| \u001b[95m 2       \u001b[0m | \u001b[95m-1.022e+0\u001b[0m | \u001b[95m 0.3481  \u001b[0m | \u001b[95m 0.9092  \u001b[0m | \u001b[95m 0.03972 \u001b[0m | \u001b[95m 6.29    \u001b[0m | \u001b[95m 0.6819  \u001b[0m | \u001b[95m 8.412e+0\u001b[0m | \u001b[95m 0.7316  \u001b[0m | \u001b[95m 0.5604  \u001b[0m | \u001b[95m 17.02   \u001b[0m | \u001b[95m 0.6019  \u001b[0m |\n",
      "| \u001b[0m 3       \u001b[0m | \u001b[0m-1.034e+0\u001b[0m | \u001b[0m 0.6803  \u001b[0m | \u001b[0m 0.107   \u001b[0m | \u001b[0m 0.05325 \u001b[0m | \u001b[0m 4.195   \u001b[0m | \u001b[0m 1.096   \u001b[0m | \u001b[0m 2.378e+0\u001b[0m | \u001b[0m 0.6832  \u001b[0m | \u001b[0m 0.2749  \u001b[0m | \u001b[0m 39.07   \u001b[0m | \u001b[0m 0.7763  \u001b[0m |\n",
      "| \u001b[95m 4       \u001b[0m | \u001b[95m-9.678e+0\u001b[0m | \u001b[95m 0.5329  \u001b[0m | \u001b[95m 0.8986  \u001b[0m | \u001b[95m 0.05433 \u001b[0m | \u001b[95m 6.169   \u001b[0m | \u001b[95m 0.7849  \u001b[0m | \u001b[95m 325.9   \u001b[0m | \u001b[95m 0.446   \u001b[0m | \u001b[95m 0.4325  \u001b[0m | \u001b[95m 43.34   \u001b[0m | \u001b[95m 0.535   \u001b[0m |\n",
      "| \u001b[0m 5       \u001b[0m | \u001b[0m-1.343e+0\u001b[0m | \u001b[0m 0.7918  \u001b[0m | \u001b[0m 0.8178  \u001b[0m | \u001b[0m 0.01943 \u001b[0m | \u001b[0m 3.636   \u001b[0m | \u001b[0m 0.6691  \u001b[0m | \u001b[0m 3.582e+0\u001b[0m | \u001b[0m 0.3612  \u001b[0m | \u001b[0m 0.5928  \u001b[0m | \u001b[0m 33.31   \u001b[0m | \u001b[0m 0.5409  \u001b[0m |\n",
      "| \u001b[95m 6       \u001b[0m | \u001b[95m-9.644e+0\u001b[0m | \u001b[95m 0.7676  \u001b[0m | \u001b[95m 0.01833 \u001b[0m | \u001b[95m 0.06277 \u001b[0m | \u001b[95m 6.378   \u001b[0m | \u001b[95m 0.8008  \u001b[0m | \u001b[95m 7.282e+0\u001b[0m | \u001b[95m 0.2509  \u001b[0m | \u001b[95m 0.2428  \u001b[0m | \u001b[95m 48.05   \u001b[0m | \u001b[95m 0.4484  \u001b[0m |\n",
      "| \u001b[0m 7       \u001b[0m | \u001b[0m-9.835e+0\u001b[0m | \u001b[0m 0.5441  \u001b[0m | \u001b[0m 0.1491  \u001b[0m | \u001b[0m 0.04567 \u001b[0m | \u001b[0m 6.187   \u001b[0m | \u001b[0m 0.6987  \u001b[0m | \u001b[0m 7.937e+0\u001b[0m | \u001b[0m 0.3883  \u001b[0m | \u001b[0m 0.7087  \u001b[0m | \u001b[0m 34.38   \u001b[0m | \u001b[0m 0.3453  \u001b[0m |\n",
      "| \u001b[0m 8       \u001b[0m | \u001b[0m-1.037e+0\u001b[0m | \u001b[0m 0.6364  \u001b[0m | \u001b[0m 0.9332  \u001b[0m | \u001b[0m 0.03384 \u001b[0m | \u001b[0m 5.671   \u001b[0m | \u001b[0m 1.171   \u001b[0m | \u001b[0m 3.381e+0\u001b[0m | \u001b[0m 0.5354  \u001b[0m | \u001b[0m 0.323   \u001b[0m | \u001b[0m 35.98   \u001b[0m | \u001b[0m 0.6579  \u001b[0m |\n",
      "| \u001b[0m 9       \u001b[0m | \u001b[0m-1.007e+0\u001b[0m | \u001b[0m 0.3658  \u001b[0m | \u001b[0m 0.2278  \u001b[0m | \u001b[0m 0.05911 \u001b[0m | \u001b[0m 5.298   \u001b[0m | \u001b[0m 0.8701  \u001b[0m | \u001b[0m 6.113e+0\u001b[0m | \u001b[0m 0.4527  \u001b[0m | \u001b[0m 0.615   \u001b[0m | \u001b[0m 20.22   \u001b[0m | \u001b[0m 0.6171  \u001b[0m |\n",
      "| \u001b[0m 10      \u001b[0m | \u001b[0m-9.928e+0\u001b[0m | \u001b[0m 0.5473  \u001b[0m | \u001b[0m 0.6119  \u001b[0m | \u001b[0m 0.03921 \u001b[0m | \u001b[0m 6.42    \u001b[0m | \u001b[0m 0.6578  \u001b[0m | \u001b[0m 6.654e+0\u001b[0m | \u001b[0m 0.5428  \u001b[0m | \u001b[0m 0.2208  \u001b[0m | \u001b[0m 17.21   \u001b[0m | \u001b[0m 0.624   \u001b[0m |\n",
      "| \u001b[0m 11      \u001b[0m | \u001b[0m-9.853e+0\u001b[0m | \u001b[0m 0.8129  \u001b[0m | \u001b[0m 0.7197  \u001b[0m | \u001b[0m 0.06762 \u001b[0m | \u001b[0m 5.335   \u001b[0m | \u001b[0m 1.231   \u001b[0m | \u001b[0m 4.893e+0\u001b[0m | \u001b[0m 0.5857  \u001b[0m | \u001b[0m 0.4143  \u001b[0m | \u001b[0m 44.6    \u001b[0m | \u001b[0m 0.4301  \u001b[0m |\n",
      "| \u001b[0m 12      \u001b[0m | \u001b[0m-1.04e+06\u001b[0m | \u001b[0m 0.5073  \u001b[0m | \u001b[0m 0.8602  \u001b[0m | \u001b[0m 0.05352 \u001b[0m | \u001b[0m 4.729   \u001b[0m | \u001b[0m 0.4664  \u001b[0m | \u001b[0m 3.627e+0\u001b[0m | \u001b[0m 0.5882  \u001b[0m | \u001b[0m 0.7973  \u001b[0m | \u001b[0m 22.0    \u001b[0m | \u001b[0m 0.3436  \u001b[0m |\n",
      "| \u001b[0m 13      \u001b[0m | \u001b[0m-1.098e+0\u001b[0m | \u001b[0m 0.3977  \u001b[0m | \u001b[0m 0.9306  \u001b[0m | \u001b[0m 0.0575  \u001b[0m | \u001b[0m 3.628   \u001b[0m | \u001b[0m 1.077   \u001b[0m | \u001b[0m 469.6   \u001b[0m | \u001b[0m 0.5222  \u001b[0m | \u001b[0m 0.3108  \u001b[0m | \u001b[0m 49.74   \u001b[0m | \u001b[0m 0.3918  \u001b[0m |\n",
      "=================================================================================================================================================\n",
      "|   iter    |  target   | colsam... |   gamma   | learni... | max_depth | min_ch... | n_esti... | reg_alpha | reg_la... |   seed    | subsample |\n",
      "-------------------------------------------------------------------------------------------------------------------------------------------------\n",
      "| \u001b[0m 1       \u001b[0m | \u001b[0m-1.383e+0\u001b[0m | \u001b[0m 0.4471  \u001b[0m | \u001b[0m 0.3348  \u001b[0m | \u001b[0m 0.01685 \u001b[0m | \u001b[0m 6.313   \u001b[0m | \u001b[0m 0.4479  \u001b[0m | \u001b[0m 898.4   \u001b[0m | \u001b[0m 0.6214  \u001b[0m | \u001b[0m 0.4748  \u001b[0m | \u001b[0m 46.28   \u001b[0m | \u001b[0m 0.6785  \u001b[0m |\n",
      "| \u001b[95m 2       \u001b[0m | \u001b[95m-1.122e+0\u001b[0m | \u001b[95m 0.8102  \u001b[0m | \u001b[95m 0.07274 \u001b[0m | \u001b[95m 0.05078 \u001b[0m | \u001b[95m 4.46    \u001b[0m | \u001b[95m 1.069   \u001b[0m | \u001b[95m 6.295e+0\u001b[0m | \u001b[95m 0.2966  \u001b[0m | \u001b[95m 0.3192  \u001b[0m | \u001b[95m 11.43   \u001b[0m | \u001b[95m 0.4958  \u001b[0m |\n",
      "| \u001b[95m 3       \u001b[0m | \u001b[95m-1.08e+06\u001b[0m | \u001b[95m 0.8479  \u001b[0m | \u001b[95m 0.1478  \u001b[0m | \u001b[95m 0.05011 \u001b[0m | \u001b[95m 5.964   \u001b[0m | \u001b[95m 0.9507  \u001b[0m | \u001b[95m 2.521e+0\u001b[0m | \u001b[95m 0.5569  \u001b[0m | \u001b[95m 0.6478  \u001b[0m | \u001b[95m 30.54   \u001b[0m | \u001b[95m 0.3804  \u001b[0m |\n",
      "| \u001b[0m 4       \u001b[0m | \u001b[0m-1.289e+0\u001b[0m | \u001b[0m 0.7443  \u001b[0m | \u001b[0m 0.8671  \u001b[0m | \u001b[0m 0.02996 \u001b[0m | \u001b[0m 3.245   \u001b[0m | \u001b[0m 1.062   \u001b[0m | \u001b[0m 9.809e+0\u001b[0m | \u001b[0m 0.75    \u001b[0m | \u001b[0m 0.6103  \u001b[0m | \u001b[0m 38.16   \u001b[0m | \u001b[0m 0.7791  \u001b[0m |\n",
      "| \u001b[95m 5       \u001b[0m | \u001b[95m-1.036e+0\u001b[0m | \u001b[95m 0.5448  \u001b[0m | \u001b[95m 0.3461  \u001b[0m | \u001b[95m 0.0662  \u001b[0m | \u001b[95m 6.5     \u001b[0m | \u001b[95m 0.5999  \u001b[0m | \u001b[95m 6.028e+0\u001b[0m | \u001b[95m 0.4382  \u001b[0m | \u001b[95m 0.6656  \u001b[0m | \u001b[95m 10.65   \u001b[0m | \u001b[95m 0.5309  \u001b[0m |\n",
      "| \u001b[0m 6       \u001b[0m | \u001b[0m-1.242e+0\u001b[0m | \u001b[0m 0.867   \u001b[0m | \u001b[0m 0.4967  \u001b[0m | \u001b[0m 0.02604 \u001b[0m | \u001b[0m 4.851   \u001b[0m | \u001b[0m 1.369   \u001b[0m | \u001b[0m 3.523e+0\u001b[0m | \u001b[0m 0.3826  \u001b[0m | \u001b[0m 0.3412  \u001b[0m | \u001b[0m 32.89   \u001b[0m | \u001b[0m 0.607   \u001b[0m |\n",
      "| \u001b[0m 7       \u001b[0m | \u001b[0m-1.141e+0\u001b[0m | \u001b[0m 0.7247  \u001b[0m | \u001b[0m 0.3862  \u001b[0m | \u001b[0m 0.04288 \u001b[0m | \u001b[0m 4.666   \u001b[0m | \u001b[0m 0.6064  \u001b[0m | \u001b[0m 6.796e+0\u001b[0m | \u001b[0m 0.5915  \u001b[0m | \u001b[0m 0.4643  \u001b[0m | \u001b[0m 36.92   \u001b[0m | \u001b[0m 0.5779  \u001b[0m |\n"
     ]
    },
    {
     "name": "stdout",
     "output_type": "stream",
     "text": [
      "| \u001b[0m 8       \u001b[0m | \u001b[0m-1.091e+0\u001b[0m | \u001b[0m 0.7082  \u001b[0m | \u001b[0m 0.6747  \u001b[0m | \u001b[0m 0.03291 \u001b[0m | \u001b[0m 6.718   \u001b[0m | \u001b[0m 0.5845  \u001b[0m | \u001b[0m 8.253e+0\u001b[0m | \u001b[0m 0.5954  \u001b[0m | \u001b[0m 0.6507  \u001b[0m | \u001b[0m 47.02   \u001b[0m | \u001b[0m 0.4009  \u001b[0m |\n",
      "| \u001b[0m 9       \u001b[0m | \u001b[0m-1.123e+0\u001b[0m | \u001b[0m 0.404   \u001b[0m | \u001b[0m 0.9987  \u001b[0m | \u001b[0m 0.03798 \u001b[0m | \u001b[0m 5.625   \u001b[0m | \u001b[0m 1.258   \u001b[0m | \u001b[0m 4.098e+0\u001b[0m | \u001b[0m 0.2752  \u001b[0m | \u001b[0m 0.3128  \u001b[0m | \u001b[0m 38.36   \u001b[0m | \u001b[0m 0.5019  \u001b[0m |\n",
      "| \u001b[0m 10      \u001b[0m | \u001b[0m-1.44e+06\u001b[0m | \u001b[0m 0.3663  \u001b[0m | \u001b[0m 0.07369 \u001b[0m | \u001b[0m 0.02124 \u001b[0m | \u001b[0m 3.513   \u001b[0m | \u001b[0m 1.19    \u001b[0m | \u001b[0m 8.255e+0\u001b[0m | \u001b[0m 0.5256  \u001b[0m | \u001b[0m 0.3303  \u001b[0m | \u001b[0m 44.24   \u001b[0m | \u001b[0m 0.5946  \u001b[0m |\n",
      "| \u001b[0m 11      \u001b[0m | \u001b[0m-1.186e+0\u001b[0m | \u001b[0m 0.7964  \u001b[0m | \u001b[0m 0.7931  \u001b[0m | \u001b[0m 0.05171 \u001b[0m | \u001b[0m 3.447   \u001b[0m | \u001b[0m 0.8404  \u001b[0m | \u001b[0m 4.174e+0\u001b[0m | \u001b[0m 0.6944  \u001b[0m | \u001b[0m 0.629   \u001b[0m | \u001b[0m 47.55   \u001b[0m | \u001b[0m 0.7211  \u001b[0m |\n",
      "| \u001b[0m 12      \u001b[0m | \u001b[0m-1.099e+0\u001b[0m | \u001b[0m 0.8788  \u001b[0m | \u001b[0m 0.6897  \u001b[0m | \u001b[0m 0.04097 \u001b[0m | \u001b[0m 5.145   \u001b[0m | \u001b[0m 0.4904  \u001b[0m | \u001b[0m 3.425e+0\u001b[0m | \u001b[0m 0.5853  \u001b[0m | \u001b[0m 0.4691  \u001b[0m | \u001b[0m 29.33   \u001b[0m | \u001b[0m 0.3175  \u001b[0m |\n",
      "| \u001b[0m 13      \u001b[0m | \u001b[0m-1.918e+0\u001b[0m | \u001b[0m 0.3805  \u001b[0m | \u001b[0m 0.4826  \u001b[0m | \u001b[0m 0.0107  \u001b[0m | \u001b[0m 3.843   \u001b[0m | \u001b[0m 0.9523  \u001b[0m | \u001b[0m 4.611e+0\u001b[0m | \u001b[0m 0.3891  \u001b[0m | \u001b[0m 0.5447  \u001b[0m | \u001b[0m 26.93   \u001b[0m | \u001b[0m 0.7698  \u001b[0m |\n",
      "=================================================================================================================================================\n"
     ]
    }
   ],
   "source": [
    "dtrain = dtrain_2012\n",
    "params_2012 = optimize(dtrain_2012)\n",
    "dtrain = dtrain_2013\n",
    "params_2013 = optimize(dtrain_2013)\n",
    "dtrain = dtrain_2014\n",
    "params_2014 = optimize(dtrain_2014)\n",
    "dtrain = dtrain_2015\n",
    "params_2015 = optimize(dtrain_2015)\n",
    "dtrain = dtrain_2016\n",
    "params_2016 = optimize(dtrain_2016)"
   ]
  },
  {
   "cell_type": "markdown",
   "metadata": {},
   "source": [
    "### Entrenando los modelos"
   ]
  },
  {
   "cell_type": "code",
   "execution_count": 65,
   "metadata": {},
   "outputs": [],
   "source": [
    "def fabrica_XGB(params):\n",
    "    best_xgb_model = XGBRegressor(colsample_bytree=params[\"colsample_bytree\"],\n",
    "                 gamma=params[\"gamma\"],                 \n",
    "                 learning_rate=params[\"learning_rate\"],\n",
    "                 max_depth=params[\"max_depth\"],\n",
    "                 min_child_weight=params[\"min_child_weight\"],\n",
    "                 n_estimators=params[\"n_estimators\"],                                                                    \n",
    "                 reg_alpha=params[\"reg_alpha\"],\n",
    "                 reg_lambda=params[\"reg_lambda\"],\n",
    "                 subsample=params[\"subsample\"],\n",
    "                 seed=params[\"seed\"])\n",
    "    \n",
    "    return best_xgb_model"
   ]
  },
  {
   "cell_type": "code",
   "execution_count": 66,
   "metadata": {},
   "outputs": [],
   "source": [
    "XGB_2012 = fabrica_XGB(params_2012)\n",
    "XGB_2013 = fabrica_XGB(params_2013)\n",
    "XGB_2014 = fabrica_XGB(params_2014)\n",
    "XGB_2015 = fabrica_XGB(params_2015)\n",
    "XGB_2016 = fabrica_XGB(params_2016)"
   ]
  },
  {
   "cell_type": "code",
   "execution_count": 67,
   "metadata": {},
   "outputs": [
    {
     "name": "stderr",
     "output_type": "stream",
     "text": [
      "/home/lautaro/.local/lib/python3.6/site-packages/xgboost/core.py:587: FutureWarning: Series.base is deprecated and will be removed in a future version\n",
      "  if getattr(data, 'base', None) is not None and \\\n",
      "/home/lautaro/.local/lib/python3.6/site-packages/xgboost/core.py:588: FutureWarning: Series.base is deprecated and will be removed in a future version\n",
      "  data.base is not None and isinstance(data, np.ndarray) \\\n"
     ]
    },
    {
     "name": "stdout",
     "output_type": "stream",
     "text": [
      "[18:42:41] WARNING: /workspace/src/objective/regression_obj.cu:152: reg:linear is now deprecated in favor of reg:squarederror.\n",
      "MAE XGB: 70108.38328783566\n"
     ]
    }
   ],
   "source": [
    "XGB_2012.fit(x_2012,y_2012)\n",
    "XGB_pred_val = XGB_2012.predict(x_2012_val)\n",
    "XGB_mae = MAE(y_2012_val, XGB_pred_val)\n",
    "print(\"MAE XGB: \" + str(XGB_mae))"
   ]
  },
  {
   "cell_type": "code",
   "execution_count": null,
   "metadata": {},
   "outputs": [],
   "source": [
    "XGB_2013.fit(x_2013,y_2013)\n",
    "XGB_pred_val = XGB_2013.predict(x_2013_val)\n",
    "XGB_mae = MAE(y_2013_val, XGB_pred_val)\n",
    "print(\"MAE XGB: \" + str(XGB_mae))"
   ]
  },
  {
   "cell_type": "code",
   "execution_count": null,
   "metadata": {},
   "outputs": [],
   "source": [
    "XGB_2014.fit(x_2014,y_2014)\n",
    "XGB_pred_val = XGB_2014.predict(x_2014_val)\n",
    "XGB_mae = MAE(y_2014_val, XGB_pred_val)\n",
    "print(\"MAE XGB: \" + str(XGB_mae))"
   ]
  },
  {
   "cell_type": "code",
   "execution_count": null,
   "metadata": {},
   "outputs": [],
   "source": [
    "XGB_2015.fit(x_2015,y_2015)\n",
    "XGB_pred_val = XGB_2015.predict(x_2015_val)\n",
    "XGB_mae = MAE(y_2015_val, XGB_pred_val)\n",
    "print(\"MAE XGB: \" + str(XGB_mae))"
   ]
  },
  {
   "cell_type": "code",
   "execution_count": null,
   "metadata": {},
   "outputs": [],
   "source": [
    "XGB_2016.fit(x_2016,y_2016)\n",
    "XGB_pred_val = XGB_2016.predict(x_2016_val)\n",
    "XGB_mae = MAE(y_2016_val, XGB_pred_val)\n",
    "print(\"MAE XGB: \" + str(XGB_mae))"
   ]
  },
  {
   "cell_type": "markdown",
   "metadata": {},
   "source": [
    "## Random Forest"
   ]
  },
  {
   "cell_type": "markdown",
   "metadata": {},
   "source": [
    "### Feature Importance"
   ]
  },
  {
   "cell_type": "code",
   "execution_count": 30,
   "metadata": {},
   "outputs": [],
   "source": [
    "X = train.drop(['precio'], axis=1)\n",
    "y = train['precio']\n",
    "X_train, X_val, y_train, y_val = train_test_split(X, y, test_size=0.25, random_state=1)"
   ]
  },
  {
   "cell_type": "code",
   "execution_count": 32,
   "metadata": {},
   "outputs": [
    {
     "name": "stderr",
     "output_type": "stream",
     "text": [
      "/home/lautaro/.local/lib/python3.6/site-packages/sklearn/ensemble/forest.py:245: FutureWarning: The default value of n_estimators will change from 10 in version 0.20 to 100 in 0.22.\n",
      "  \"10 in version 0.20 to 100 in 0.22.\", FutureWarning)\n"
     ]
    },
    {
     "data": {
      "text/plain": [
       "RandomForestRegressor(bootstrap=True, criterion='mse', max_depth=None,\n",
       "                      max_features='auto', max_leaf_nodes=None,\n",
       "                      min_impurity_decrease=0.0, min_impurity_split=None,\n",
       "                      min_samples_leaf=1, min_samples_split=2,\n",
       "                      min_weight_fraction_leaf=0.0, n_estimators=10,\n",
       "                      n_jobs=None, oob_score=False, random_state=42, verbose=0,\n",
       "                      warm_start=False)"
      ]
     },
     "execution_count": 32,
     "metadata": {},
     "output_type": "execute_result"
    }
   ],
   "source": [
    "rf_features = RandomForestRegressor(random_state=42)\n",
    "rf_features.fit(X_train, y_train)"
   ]
  },
  {
   "cell_type": "code",
   "execution_count": 33,
   "metadata": {},
   "outputs": [
    {
     "name": "stdout",
     "output_type": "stream",
     "text": [
      "Variable: idzona               Importance: 0.47329565718895966\n",
      "Variable: metroscubiertos      Importance: 0.21009621733652883\n",
      "Variable: metrostotales        Importance: 0.059899188455267684\n",
      "Variable: ciudad               Importance: 0.05227174487540433\n",
      "Variable: antiguedad           Importance: 0.02678074777460749\n",
      "Variable: ano                  Importance: 0.026449945105023902\n",
      "Variable: banos                Importance: 0.018199514152946857\n",
      "Variable: habitaciones         Importance: 0.014957642782856356\n",
      "Variable: tipodepropiedad_4    Importance: 0.013665069360578269\n",
      "Variable: provincia_1          Importance: 0.013274686238192734\n",
      "Variable: tipodepropiedad_1    Importance: 0.010896991570626104\n",
      "Variable: garages              Importance: 0.0108246946056091\n",
      "Variable: tipodepropiedad_9    Importance: 0.006819235961923398\n",
      "Variable: tipodepropiedad_3    Importance: 0.00584819093612393\n",
      "Variable: provincia_3          Importance: 0.004032075774866648\n",
      "Variable: tipodepropiedad_5    Importance: 0.004010561640123981\n",
      "Variable: cant_amenities       Importance: 0.003419619910583982\n",
      "Variable: buena_ubicacion      Importance: 0.0029537517938975706\n",
      "Variable: avenida              Importance: 0.0026406914822291734\n",
      "Variable: piscina              Importance: 0.0020730420764788265\n",
      "Variable: tipodepropiedad_6    Importance: 0.0019985316390610953\n",
      "Variable: tipodepropiedad_2    Importance: 0.001901937704059042\n",
      "Variable: provincia_2          Importance: 0.0019012580943542287\n",
      "Variable: cercania_0.0         Importance: 0.0018748579198335756\n",
      "Variable: centroscomercialescercanos Importance: 0.0018464532485092046\n",
      "Variable: escuelascercanas     Importance: 0.0018108893070839921\n",
      "Variable: cercania_3.0         Importance: 0.0018090193267876417\n",
      "Variable: provincia_8          Importance: 0.0015960624347471299\n",
      "Variable: gimnasio             Importance: 0.001568065243878388\n",
      "Variable: cercania_1.0         Importance: 0.0013141550139881572\n",
      "Variable: cercania_2.0         Importance: 0.0012353585168581203\n",
      "Variable: tipodepropiedad_8    Importance: 0.0011845575692476036\n",
      "Variable: provincia_12         Importance: 0.0011600919083312685\n",
      "Variable: tipodepropiedad_12   Importance: 0.0011223432531469635\n",
      "Variable: tipodepropiedad_19   Importance: 0.0010687010010998542\n",
      "Variable: usosmultiples        Importance: 0.0010091853928194008\n",
      "Variable: provincia_11         Importance: 0.0009985798646412138\n",
      "Variable: provincia_5          Importance: 0.000851049731648389\n",
      "Variable: provincia_13         Importance: 0.000834485664358587\n",
      "Variable: provincia_14         Importance: 0.0007797962739849208\n",
      "Variable: provincia_9          Importance: 0.0007455530185374764\n",
      "Variable: provincia_18         Importance: 0.0006772209857286296\n",
      "Variable: provincia_7          Importance: 0.0006138351364209361\n",
      "Variable: provincia_16         Importance: 0.0006061347713838262\n",
      "Variable: provincia_19         Importance: 0.0005886468226434652\n",
      "Variable: tipodepropiedad_10   Importance: 0.00044594286503944443\n",
      "Variable: tipodepropiedad_16   Importance: 0.00037541479721202314\n",
      "Variable: provincia_28         Importance: 0.000360458172837255\n",
      "Variable: provincia_15         Importance: 0.0003442964874182185\n",
      "Variable: provincia_29         Importance: 0.00030582399211157946\n",
      "Variable: provincia_17         Importance: 0.0003051946141309298\n",
      "Variable: tipodepropiedad_7    Importance: 0.0003040397241384719\n",
      "Variable: provincia_4          Importance: 0.00030144601659310664\n",
      "Variable: provincia_25         Importance: 0.0002579710322082834\n",
      "Variable: tipodepropiedad_18   Importance: 0.00025744970289221165\n",
      "Variable: provincia_21         Importance: 0.0002409181084570141\n",
      "Variable: provincia_22         Importance: 0.00023566207954052936\n",
      "Variable: tipodepropiedad_13   Importance: 0.00022761196794987814\n",
      "Variable: provincia_27         Importance: 0.00021946665060648636\n",
      "Variable: tipodepropiedad_14   Importance: 0.00021830242955417538\n",
      "Variable: provincia_10         Importance: 0.0002045894748475535\n",
      "Variable: tipodepropiedad_21   Importance: 0.00020340021911818837\n",
      "Variable: provincia_24         Importance: 0.00020236438725562667\n",
      "Variable: provincia_6          Importance: 0.00018211628955935933\n",
      "Variable: provincia_30         Importance: 0.0001666254436905377\n",
      "Variable: tipodepropiedad_11   Importance: 0.00015253804148734489\n",
      "Variable: provincia_20         Importance: 0.00012379646551558676\n",
      "Variable: provincia_32         Importance: 0.00012084918744830953\n",
      "Variable: tipodepropiedad_20   Importance: 0.00010446066293283063\n",
      "Variable: luminoso             Importance: 0.00010241297852082545\n",
      "Variable: jardin               Importance: 8.977666854255513e-05\n",
      "Variable: balcon               Importance: 8.722273705768404e-05\n",
      "Variable: provincia_26         Importance: 8.624660640585115e-05\n",
      "Variable: provincia_31         Importance: 8.50054891188296e-05\n",
      "Variable: provincia_23         Importance: 7.638068075765943e-05\n",
      "Variable: tipodepropiedad_17   Importance: 5.406318464871679e-05\n",
      "Variable: tipodepropiedad_15   Importance: 4.8436547683591806e-05\n",
      "Variable: tipodepropiedad_22   Importance: 3.486026126474552e-06\n",
      "Variable: tipodepropiedad_24   Importance: 1.9140261102569125e-07\n",
      "Variable: tipodepropiedad_23   Importance: 0.0\n"
     ]
    },
    {
     "data": {
      "text/plain": [
       "[None,\n",
       " None,\n",
       " None,\n",
       " None,\n",
       " None,\n",
       " None,\n",
       " None,\n",
       " None,\n",
       " None,\n",
       " None,\n",
       " None,\n",
       " None,\n",
       " None,\n",
       " None,\n",
       " None,\n",
       " None,\n",
       " None,\n",
       " None,\n",
       " None,\n",
       " None,\n",
       " None,\n",
       " None,\n",
       " None,\n",
       " None,\n",
       " None,\n",
       " None,\n",
       " None,\n",
       " None,\n",
       " None,\n",
       " None,\n",
       " None,\n",
       " None,\n",
       " None,\n",
       " None,\n",
       " None,\n",
       " None,\n",
       " None,\n",
       " None,\n",
       " None,\n",
       " None,\n",
       " None,\n",
       " None,\n",
       " None,\n",
       " None,\n",
       " None,\n",
       " None,\n",
       " None,\n",
       " None,\n",
       " None,\n",
       " None,\n",
       " None,\n",
       " None,\n",
       " None,\n",
       " None,\n",
       " None,\n",
       " None,\n",
       " None,\n",
       " None,\n",
       " None,\n",
       " None,\n",
       " None,\n",
       " None,\n",
       " None,\n",
       " None,\n",
       " None,\n",
       " None,\n",
       " None,\n",
       " None,\n",
       " None,\n",
       " None,\n",
       " None,\n",
       " None,\n",
       " None,\n",
       " None,\n",
       " None,\n",
       " None,\n",
       " None,\n",
       " None,\n",
       " None,\n",
       " None]"
      ]
     },
     "execution_count": 33,
     "metadata": {},
     "output_type": "execute_result"
    }
   ],
   "source": [
    "feature_list = list(X_train.columns)\n",
    "importances = list(rf_features.feature_importances_)\n",
    "feature_importances = [(feature, importance) for feature, importance in zip(feature_list, importances)]\n",
    "feature_importances = sorted(feature_importances, key = lambda x: x[1], reverse = True)\n",
    "[print('Variable: {:20} Importance: {}'.format(*pair)) for pair in feature_importances]"
   ]
  },
  {
   "cell_type": "code",
   "execution_count": 34,
   "metadata": {},
   "outputs": [
    {
     "data": {
      "image/png": "[encoded data removed]",
      "text/plain": [
       "<Figure size 1440x720 with 1 Axes>"
      ]
     },
     "metadata": {},
     "output_type": "display_data"
    }
   ],
   "source": [
    "x_values = list(range(len(importances)))\n",
    "sorted_importances = [importance[1] for importance in feature_importances]\n",
    "sorted_features = [importance[0] for importance in feature_importances]\n",
    "cumulative_importances = np.cumsum(sorted_importances)\n",
    "plt.figure(figsize=(20,10)) \n",
    "plt.plot(x_values, cumulative_importances, 'g.-')\n",
    "plt.grid(True)\n",
    "plt.hlines(y = 0.975, xmin=0, xmax=len(sorted_importances), color = 'r', linestyles = 'dashed')\n",
    "plt.xticks(x_values, sorted_features, rotation = 'vertical')\n",
    "plt.xlabel('Variable'); plt.ylabel('Importancia acumulada'); plt.title('Importancias acumuladas');"
   ]
  },
  {
   "cell_type": "markdown",
   "metadata": {},
   "source": [
    "### Entrenando los modelos"
   ]
  },
  {
   "cell_type": "code",
   "execution_count": 30,
   "metadata": {},
   "outputs": [],
   "source": [
    "def fabrica_RF(train, param_grid):\n",
    "    X = train.drop(['precio'], axis=1)\n",
    "    y = train['precio']\n",
    "    RF = RandomForestRegressor(random_state=42)\n",
    "    grid = GridSearchCV(RF, param_grid, cv=4, scoring='neg_mean_absolute_error')\n",
    "    grid.fit(train, train_y)\n",
    "    RF = grid.best_estimator_\n",
    "    print(grid.best_params_)\n",
    "    print(grid.best_score_)\n",
    "    return RF"
   ]
  },
  {
   "cell_type": "code",
   "execution_count": 31,
   "metadata": {},
   "outputs": [],
   "source": [
    "param_grid = {\n",
    "    'n_estimators': [100, 200, 300]\n",
    "}"
   ]
  },
  {
   "cell_type": "code",
   "execution_count": 70,
   "metadata": {},
   "outputs": [
    {
     "ename": "KeyError",
     "evalue": "\"['precio'] not found in axis\"",
     "output_type": "error",
     "traceback": [
      "\u001b[0;31m---------------------------------------------------------------------------\u001b[0m",
      "\u001b[0;31mKeyError\u001b[0m                                  Traceback (most recent call last)",
      "\u001b[0;32m<ipython-input-70-b986572977cb>\u001b[0m in \u001b[0;36m<module>\u001b[0;34m()\u001b[0m\n\u001b[0;32m----> 1\u001b[0;31m \u001b[0mrf_2012\u001b[0m \u001b[0;34m=\u001b[0m \u001b[0mfabrica_RF\u001b[0m\u001b[0;34m(\u001b[0m\u001b[0mx_2012\u001b[0m\u001b[0;34m,\u001b[0m \u001b[0mparam_grid\u001b[0m\u001b[0;34m)\u001b[0m\u001b[0;34m\u001b[0m\u001b[0;34m\u001b[0m\u001b[0m\n\u001b[0m",
      "\u001b[0;32m<ipython-input-68-736b874bc278>\u001b[0m in \u001b[0;36mfabrica_RF\u001b[0;34m(train, param_grid)\u001b[0m\n\u001b[1;32m      1\u001b[0m \u001b[0;32mdef\u001b[0m \u001b[0mfabrica_RF\u001b[0m\u001b[0;34m(\u001b[0m\u001b[0mtrain\u001b[0m\u001b[0;34m,\u001b[0m \u001b[0mparam_grid\u001b[0m\u001b[0;34m)\u001b[0m\u001b[0;34m:\u001b[0m\u001b[0;34m\u001b[0m\u001b[0;34m\u001b[0m\u001b[0m\n\u001b[1;32m      2\u001b[0m     \u001b[0mRF\u001b[0m \u001b[0;34m=\u001b[0m \u001b[0mRandomForestRegressor\u001b[0m\u001b[0;34m(\u001b[0m\u001b[0mrandom_state\u001b[0m\u001b[0;34m=\u001b[0m\u001b[0;36m42\u001b[0m\u001b[0;34m)\u001b[0m\u001b[0;34m\u001b[0m\u001b[0;34m\u001b[0m\u001b[0m\n\u001b[0;32m----> 3\u001b[0;31m     \u001b[0mX\u001b[0m \u001b[0;34m=\u001b[0m \u001b[0mtrain\u001b[0m\u001b[0;34m.\u001b[0m\u001b[0mdrop\u001b[0m\u001b[0;34m(\u001b[0m\u001b[0;34m[\u001b[0m\u001b[0;34m'precio'\u001b[0m\u001b[0;34m]\u001b[0m\u001b[0;34m,\u001b[0m \u001b[0maxis\u001b[0m\u001b[0;34m=\u001b[0m\u001b[0;36m1\u001b[0m\u001b[0;34m)\u001b[0m\u001b[0;34m\u001b[0m\u001b[0;34m\u001b[0m\u001b[0m\n\u001b[0m\u001b[1;32m      4\u001b[0m     \u001b[0my\u001b[0m \u001b[0;34m=\u001b[0m \u001b[0mtrain\u001b[0m\u001b[0;34m[\u001b[0m\u001b[0;34m'precio'\u001b[0m\u001b[0;34m]\u001b[0m\u001b[0;34m\u001b[0m\u001b[0;34m\u001b[0m\u001b[0m\n\u001b[1;32m      5\u001b[0m     \u001b[0mgrid\u001b[0m \u001b[0;34m=\u001b[0m \u001b[0mGridSearchCV\u001b[0m\u001b[0;34m(\u001b[0m\u001b[0mRF\u001b[0m\u001b[0;34m,\u001b[0m \u001b[0mparam_grid\u001b[0m\u001b[0;34m,\u001b[0m \u001b[0mcv\u001b[0m\u001b[0;34m=\u001b[0m\u001b[0;36m4\u001b[0m\u001b[0;34m,\u001b[0m \u001b[0mscoring\u001b[0m\u001b[0;34m=\u001b[0m\u001b[0;34m'neg_mean_absolute_error'\u001b[0m\u001b[0;34m)\u001b[0m\u001b[0;34m\u001b[0m\u001b[0;34m\u001b[0m\u001b[0m\n",
      "\u001b[0;32m/home/lautaro/.local/lib/python3.6/site-packages/pandas/core/frame.py\u001b[0m in \u001b[0;36mdrop\u001b[0;34m(self, labels, axis, index, columns, level, inplace, errors)\u001b[0m\n\u001b[1;32m   4115\u001b[0m             \u001b[0mlevel\u001b[0m\u001b[0;34m=\u001b[0m\u001b[0mlevel\u001b[0m\u001b[0;34m,\u001b[0m\u001b[0;34m\u001b[0m\u001b[0;34m\u001b[0m\u001b[0m\n\u001b[1;32m   4116\u001b[0m             \u001b[0minplace\u001b[0m\u001b[0;34m=\u001b[0m\u001b[0minplace\u001b[0m\u001b[0;34m,\u001b[0m\u001b[0;34m\u001b[0m\u001b[0;34m\u001b[0m\u001b[0m\n\u001b[0;32m-> 4117\u001b[0;31m             \u001b[0merrors\u001b[0m\u001b[0;34m=\u001b[0m\u001b[0merrors\u001b[0m\u001b[0;34m,\u001b[0m\u001b[0;34m\u001b[0m\u001b[0;34m\u001b[0m\u001b[0m\n\u001b[0m\u001b[1;32m   4118\u001b[0m         )\n\u001b[1;32m   4119\u001b[0m \u001b[0;34m\u001b[0m\u001b[0m\n",
      "\u001b[0;32m/home/lautaro/.local/lib/python3.6/site-packages/pandas/core/generic.py\u001b[0m in \u001b[0;36mdrop\u001b[0;34m(self, labels, axis, index, columns, level, inplace, errors)\u001b[0m\n\u001b[1;32m   3912\u001b[0m         \u001b[0;32mfor\u001b[0m \u001b[0maxis\u001b[0m\u001b[0;34m,\u001b[0m \u001b[0mlabels\u001b[0m \u001b[0;32min\u001b[0m \u001b[0maxes\u001b[0m\u001b[0;34m.\u001b[0m\u001b[0mitems\u001b[0m\u001b[0;34m(\u001b[0m\u001b[0;34m)\u001b[0m\u001b[0;34m:\u001b[0m\u001b[0;34m\u001b[0m\u001b[0;34m\u001b[0m\u001b[0m\n\u001b[1;32m   3913\u001b[0m             \u001b[0;32mif\u001b[0m \u001b[0mlabels\u001b[0m \u001b[0;32mis\u001b[0m \u001b[0;32mnot\u001b[0m \u001b[0;32mNone\u001b[0m\u001b[0;34m:\u001b[0m\u001b[0;34m\u001b[0m\u001b[0;34m\u001b[0m\u001b[0m\n\u001b[0;32m-> 3914\u001b[0;31m                 \u001b[0mobj\u001b[0m \u001b[0;34m=\u001b[0m \u001b[0mobj\u001b[0m\u001b[0;34m.\u001b[0m\u001b[0m_drop_axis\u001b[0m\u001b[0;34m(\u001b[0m\u001b[0mlabels\u001b[0m\u001b[0;34m,\u001b[0m \u001b[0maxis\u001b[0m\u001b[0;34m,\u001b[0m \u001b[0mlevel\u001b[0m\u001b[0;34m=\u001b[0m\u001b[0mlevel\u001b[0m\u001b[0;34m,\u001b[0m \u001b[0merrors\u001b[0m\u001b[0;34m=\u001b[0m\u001b[0merrors\u001b[0m\u001b[0;34m)\u001b[0m\u001b[0;34m\u001b[0m\u001b[0;34m\u001b[0m\u001b[0m\n\u001b[0m\u001b[1;32m   3915\u001b[0m \u001b[0;34m\u001b[0m\u001b[0m\n\u001b[1;32m   3916\u001b[0m         \u001b[0;32mif\u001b[0m \u001b[0minplace\u001b[0m\u001b[0;34m:\u001b[0m\u001b[0;34m\u001b[0m\u001b[0;34m\u001b[0m\u001b[0m\n",
      "\u001b[0;32m/home/lautaro/.local/lib/python3.6/site-packages/pandas/core/generic.py\u001b[0m in \u001b[0;36m_drop_axis\u001b[0;34m(self, labels, axis, level, errors)\u001b[0m\n\u001b[1;32m   3944\u001b[0m                 \u001b[0mnew_axis\u001b[0m \u001b[0;34m=\u001b[0m \u001b[0maxis\u001b[0m\u001b[0;34m.\u001b[0m\u001b[0mdrop\u001b[0m\u001b[0;34m(\u001b[0m\u001b[0mlabels\u001b[0m\u001b[0;34m,\u001b[0m \u001b[0mlevel\u001b[0m\u001b[0;34m=\u001b[0m\u001b[0mlevel\u001b[0m\u001b[0;34m,\u001b[0m \u001b[0merrors\u001b[0m\u001b[0;34m=\u001b[0m\u001b[0merrors\u001b[0m\u001b[0;34m)\u001b[0m\u001b[0;34m\u001b[0m\u001b[0;34m\u001b[0m\u001b[0m\n\u001b[1;32m   3945\u001b[0m             \u001b[0;32melse\u001b[0m\u001b[0;34m:\u001b[0m\u001b[0;34m\u001b[0m\u001b[0;34m\u001b[0m\u001b[0m\n\u001b[0;32m-> 3946\u001b[0;31m                 \u001b[0mnew_axis\u001b[0m \u001b[0;34m=\u001b[0m \u001b[0maxis\u001b[0m\u001b[0;34m.\u001b[0m\u001b[0mdrop\u001b[0m\u001b[0;34m(\u001b[0m\u001b[0mlabels\u001b[0m\u001b[0;34m,\u001b[0m \u001b[0merrors\u001b[0m\u001b[0;34m=\u001b[0m\u001b[0merrors\u001b[0m\u001b[0;34m)\u001b[0m\u001b[0;34m\u001b[0m\u001b[0;34m\u001b[0m\u001b[0m\n\u001b[0m\u001b[1;32m   3947\u001b[0m             \u001b[0mresult\u001b[0m \u001b[0;34m=\u001b[0m \u001b[0mself\u001b[0m\u001b[0;34m.\u001b[0m\u001b[0mreindex\u001b[0m\u001b[0;34m(\u001b[0m\u001b[0;34m**\u001b[0m\u001b[0;34m{\u001b[0m\u001b[0maxis_name\u001b[0m\u001b[0;34m:\u001b[0m \u001b[0mnew_axis\u001b[0m\u001b[0;34m}\u001b[0m\u001b[0;34m)\u001b[0m\u001b[0;34m\u001b[0m\u001b[0;34m\u001b[0m\u001b[0m\n\u001b[1;32m   3948\u001b[0m \u001b[0;34m\u001b[0m\u001b[0m\n",
      "\u001b[0;32m/home/lautaro/.local/lib/python3.6/site-packages/pandas/core/indexes/base.py\u001b[0m in \u001b[0;36mdrop\u001b[0;34m(self, labels, errors)\u001b[0m\n\u001b[1;32m   5338\u001b[0m         \u001b[0;32mif\u001b[0m \u001b[0mmask\u001b[0m\u001b[0;34m.\u001b[0m\u001b[0many\u001b[0m\u001b[0;34m(\u001b[0m\u001b[0;34m)\u001b[0m\u001b[0;34m:\u001b[0m\u001b[0;34m\u001b[0m\u001b[0;34m\u001b[0m\u001b[0m\n\u001b[1;32m   5339\u001b[0m             \u001b[0;32mif\u001b[0m \u001b[0merrors\u001b[0m \u001b[0;34m!=\u001b[0m \u001b[0;34m\"ignore\"\u001b[0m\u001b[0;34m:\u001b[0m\u001b[0;34m\u001b[0m\u001b[0;34m\u001b[0m\u001b[0m\n\u001b[0;32m-> 5340\u001b[0;31m                 \u001b[0;32mraise\u001b[0m \u001b[0mKeyError\u001b[0m\u001b[0;34m(\u001b[0m\u001b[0;34m\"{} not found in axis\"\u001b[0m\u001b[0;34m.\u001b[0m\u001b[0mformat\u001b[0m\u001b[0;34m(\u001b[0m\u001b[0mlabels\u001b[0m\u001b[0;34m[\u001b[0m\u001b[0mmask\u001b[0m\u001b[0;34m]\u001b[0m\u001b[0;34m)\u001b[0m\u001b[0;34m)\u001b[0m\u001b[0;34m\u001b[0m\u001b[0;34m\u001b[0m\u001b[0m\n\u001b[0m\u001b[1;32m   5341\u001b[0m             \u001b[0mindexer\u001b[0m \u001b[0;34m=\u001b[0m \u001b[0mindexer\u001b[0m\u001b[0;34m[\u001b[0m\u001b[0;34m~\u001b[0m\u001b[0mmask\u001b[0m\u001b[0;34m]\u001b[0m\u001b[0;34m\u001b[0m\u001b[0;34m\u001b[0m\u001b[0m\n\u001b[1;32m   5342\u001b[0m         \u001b[0;32mreturn\u001b[0m \u001b[0mself\u001b[0m\u001b[0;34m.\u001b[0m\u001b[0mdelete\u001b[0m\u001b[0;34m(\u001b[0m\u001b[0mindexer\u001b[0m\u001b[0;34m)\u001b[0m\u001b[0;34m\u001b[0m\u001b[0;34m\u001b[0m\u001b[0m\n",
      "\u001b[0;31mKeyError\u001b[0m: \"['precio'] not found in axis\""
     ]
    }
   ],
   "source": [
    "rf_2012 = fabrica_RF(train_2012, param_grid)"
   ]
  },
  {
   "cell_type": "code",
   "execution_count": 51,
   "metadata": {},
   "outputs": [
    {
     "name": "stdout",
     "output_type": "stream",
     "text": [
      "{'n_estimators': 300}\n",
      "-454293.34004936565\n"
     ]
    }
   ],
   "source": [
    "rf_2013 = fabrica_RF(train_2013, param_grid)"
   ]
  },
  {
   "cell_type": "code",
   "execution_count": 45,
   "metadata": {},
   "outputs": [
    {
     "name": "stdout",
     "output_type": "stream",
     "text": [
      "{'n_estimators': 300}\n",
      "-517081.3317439341\n"
     ]
    }
   ],
   "source": [
    "rf_2014 = fabrica_RF(train_2014, param_grid)"
   ]
  },
  {
   "cell_type": "code",
   "execution_count": 46,
   "metadata": {},
   "outputs": [
    {
     "name": "stdout",
     "output_type": "stream",
     "text": [
      "{'n_estimators': 300}\n",
      "-546887.6856364366\n"
     ]
    }
   ],
   "source": [
    "rf_2015 = fabrica_RF(train_2015, param_grid)"
   ]
  },
  {
   "cell_type": "code",
   "execution_count": 44,
   "metadata": {},
   "outputs": [
    {
     "name": "stdout",
     "output_type": "stream",
     "text": [
      "{'n_estimators': 300}\n",
      "-581579.9190220906\n"
     ]
    }
   ],
   "source": [
    "rf_2016 = fabrica_RF(train_2016, param_grid)"
   ]
  },
  {
   "cell_type": "code",
   "execution_count": 52,
   "metadata": {},
   "outputs": [],
   "source": [
    "res_2012 = rf_2012.predict(test_2012)\n",
    "res_2013 = rf_2013.predict(test_2013)\n",
    "res_2014 = rf_2014.predict(test_2014)\n",
    "res_2015 = rf_2015.predict(test_2015)\n",
    "res_2016 = rf_2016.predict(test_2016)"
   ]
  },
  {
   "cell_type": "markdown",
   "metadata": {},
   "source": [
    "## Ensembles"
   ]
  },
  {
   "cell_type": "code",
   "execution_count": null,
   "metadata": {},
   "outputs": [],
   "source": [
    "ensemble2012 = VotingRegressor([('rf', rf_2012), ('xgb', XGB_2012),('lgbm', lgbm_2012)])\n",
    "ensemble2013 = VotingRegressor([('rf', rf_2013), ('xgb', XGB_2013),('lgbm', lgbm_2013)])\n",
    "ensemble2014 = VotingRegressor([('rf', rf_2014), ('xgb', XGB_2014),('lgbm', lgbm_2014)])\n",
    "ensemble2015 = VotingRegressor([('rf', rf_2015), ('xgb', XGB_2015),('lgbm', lgbm_2015)])\n",
    "ensemble2016 = VotingRegressor([('rf', rf_2016), ('xgb', XGB_2016),('lgbm', lgbm_2016)])"
   ]
  },
  {
   "cell_type": "code",
   "execution_count": 56,
   "metadata": {},
   "outputs": [
    {
     "name": "stdout",
     "output_type": "stream",
     "text": [
      "MAE Ensemble: 281267.91291405365\n"
     ]
    }
   ],
   "source": [
    "ensemble2012.fit(x_2012, y_2012)\n",
    "en_pred_val = ensemble2012.predict(x_2012_val)\n",
    "en_mae = MAE(y_2012_val, en_pred_val)\n",
    "print(\"MAE Ensemble: \" + str(en_mae))"
   ]
  },
  {
   "cell_type": "code",
   "execution_count": 58,
   "metadata": {},
   "outputs": [
    {
     "name": "stdout",
     "output_type": "stream",
     "text": [
      "MAE Ensemble: 279493.94242746645\n"
     ]
    }
   ],
   "source": [
    "ensemble2013.fit(x_2013, y_2013)\n",
    "en_pred_val = ensemble2013.predict(x_2013_val)\n",
    "en_mae = MAE(y_2013_val, en_pred_val)\n",
    "print(\"MAE Ensemble: \" + str(en_mae))"
   ]
  },
  {
   "cell_type": "code",
   "execution_count": 59,
   "metadata": {},
   "outputs": [
    {
     "name": "stdout",
     "output_type": "stream",
     "text": [
      "MAE Ensemble: 327185.51345922425\n"
     ]
    }
   ],
   "source": [
    "ensemble2014.fit(x_2014, y_2014)\n",
    "en_pred_val = ensemble2014.predict(x_2014_val)\n",
    "en_mae = MAE(y_2014_val, en_pred_val)\n",
    "print(\"MAE Ensemble: \" + str(en_mae))"
   ]
  },
  {
   "cell_type": "code",
   "execution_count": 60,
   "metadata": {},
   "outputs": [
    {
     "name": "stdout",
     "output_type": "stream",
     "text": [
      "MAE Ensemble: 357962.1142812169\n"
     ]
    }
   ],
   "source": [
    "ensemble2015.fit(x_2015, y_2015)\n",
    "en_pred_val = ensemble2015.predict(x_2015_val)\n",
    "en_mae = MAE(y_2015_val, en_pred_val)\n",
    "print(\"MAE Ensemble: \" + str(en_mae))"
   ]
  },
  {
   "cell_type": "code",
   "execution_count": null,
   "metadata": {},
   "outputs": [],
   "source": [
    "ensemble2016.fit(x_2016, y_2016)\n",
    "en_pred_val = ensemble2016.predict(x_2016_val)\n",
    "en_mae = MAE(y_2016_val, en_pred_val)\n",
    "print(\"MAE Ensemble: \" + str(en_mae))"
   ]
  },
  {
   "cell_type": "code",
   "execution_count": 41,
   "metadata": {},
   "outputs": [],
   "source": [
    "res_2012 = ensemble2012.predict(test_2012)\n",
    "res_2013 = ensemble2013.predict(test_2013)\n",
    "res_2014 = ensemble2014.predict(test_2014)\n",
    "res_2015 = ensemble2015.predict(test_2015)\n",
    "res_2016 = ensemble2016.predict(test_2016)"
   ]
  },
  {
   "cell_type": "code",
   "execution_count": 45,
   "metadata": {},
   "outputs": [],
   "source": [
    "res_2012 = pd.DataFrame(res_2012, index=test_2012.index, columns=['precio'])\n",
    "res_2012 = res_2012.rename(columns={'precio':'target'})\n",
    "\n",
    "res_2013 = pd.DataFrame(res_2013, index=test_2013.index, columns=['precio'])\n",
    "res_2013 = res_2013.rename(columns={'precio':'target'})\n",
    "\n",
    "res_2014 = pd.DataFrame(res_2014, index=test_2014.index, columns=['precio'])\n",
    "res_2014 = res_2014.rename(columns={'precio':'target'})\n",
    "\n",
    "res_2015 = pd.DataFrame(res_2015, index=test_2015.index, columns=['precio'])\n",
    "res_2015 = res_2015.rename(columns={'precio':'target'})\n",
    "\n",
    "res_2016 = pd.DataFrame(res_2016, index=test_2016.index, columns=['precio'])\n",
    "res_2016 = res_2016.rename(columns={'precio':'target'})"
   ]
  },
  {
   "cell_type": "code",
   "execution_count": 47,
   "metadata": {},
   "outputs": [],
   "source": [
    "res = res_2012.append(res_2013).append(res_2014).append(res_2015).append(res_2016)\n",
    "res.to_csv(\"workshop-submission-lgbm.csv\", header=True)"
   ]
  },
  {
   "cell_type": "code",
   "execution_count": null,
   "metadata": {},
   "outputs": [],
   "source": []
  }
 ],
 "metadata": {
  "kernelspec": {
   "display_name": "Python 3",
   "language": "python",
   "name": "python3"
  },
  "language_info": {
   "codemirror_mode": {
    "name": "ipython",
    "version": 3
   },
   "file_extension": ".py",
   "mimetype": "text/x-python",
   "name": "python",
   "nbconvert_exporter": "python",
   "pygments_lexer": "ipython3",
   "version": "3.6.8"
  }
 },
 "nbformat": 4,
 "nbformat_minor": 2
}
