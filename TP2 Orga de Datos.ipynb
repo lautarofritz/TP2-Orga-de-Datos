{
 "cells": [
  {
   "cell_type": "code",
   "execution_count": 1,
   "metadata": {},
   "outputs": [],
   "source": [
    "import pandas as pd\n",
    "import numpy as np\n",
    "import matplotlib as plt\n",
    "from sklearn import datasets\n",
    "from sklearn.preprocessing import Imputer\n",
    "from sklearn.preprocessing import LabelEncoder\n",
    "from sklearn.preprocessing import OneHotEncoder\n",
    "from sklearn.model_selection import train_test_split\n",
    "from sklearn.dummy import DummyRegressor\n",
    "from sklearn.linear_model import LinearRegression\n",
    "from sklearn.tree import DecisionTreeRegressor\n",
    "from sklearn.neighbors import KNeighborsRegressor\n",
    "from xgboost import XGBRegressor"
   ]
  },
  {
   "cell_type": "code",
   "execution_count": 2,
   "metadata": {},
   "outputs": [],
   "source": [
    "train = pd.read_csv(r'Escritorio/Orga/train.csv', index_col=0)\n",
    "test = pd.read_csv(r'Escritorio/Orga/test.csv', index_col=0)\n",
    "rta = pd.read_csv(r'Escritorio/Orga/ejemploRespuesta.csv')"
   ]
  },
  {
   "cell_type": "code",
   "execution_count": 3,
   "metadata": {},
   "outputs": [],
   "source": [
    "#metrica\n",
    "def MAE(actual, pred):\n",
    "    return (np.mean(np.absolute(actual - pred)))"
   ]
  },
  {
   "cell_type": "markdown",
   "metadata": {},
   "source": [
    "## Preprocesamiento"
   ]
  },
  {
   "cell_type": "code",
   "execution_count": 4,
   "metadata": {},
   "outputs": [],
   "source": [
    "#habria que hacer otra cosa con los NaNs\n",
    "train = train.fillna(0)\n",
    "test = test.fillna(0)"
   ]
  },
  {
   "cell_type": "markdown",
   "metadata": {},
   "source": [
    "## Agregando algunas Features"
   ]
  },
  {
   "cell_type": "code",
   "execution_count": 5,
   "metadata": {},
   "outputs": [],
   "source": [
    "#hay que agregar los features al test set?\n",
    "train['cant_amenities'] = train['usosmultiples'] + train['piscina'] + train['gimnasio']\n",
    "test['cant_amenities'] = test['usosmultiples'] + test['piscina'] + test['gimnasio']"
   ]
  },
  {
   "cell_type": "code",
   "execution_count": 6,
   "metadata": {},
   "outputs": [],
   "source": [
    "def features_descripcion(lista_features, train, test):\n",
    "    for i in range(len(lista_features)):\n",
    "        train[lista_features[i]] = train['descripcion'].str.contains(lista_features[i], regex=False).astype(bool)\n",
    "        test[lista_features[i]] = test['descripcion'].str.contains(lista_features[i], regex=False).astype(bool)\n",
    "    return train, test"
   ]
  },
  {
   "cell_type": "code",
   "execution_count": 7,
   "metadata": {},
   "outputs": [],
   "source": [
    "lista_features = ['luminoso', 'jardin', 'terraza', 'patio', 'balcón']\n",
    "train, test = features_descripcion(lista_features, train, test)"
   ]
  },
  {
   "cell_type": "code",
   "execution_count": 8,
   "metadata": {},
   "outputs": [],
   "source": [
    "train['fecha'] = pd.to_datetime(train['fecha'])\n",
    "test['fecha'] = pd.to_datetime(test['fecha'])"
   ]
  },
  {
   "cell_type": "code",
   "execution_count": 9,
   "metadata": {},
   "outputs": [],
   "source": [
    "train['año_y_mes'] = train['fecha'].map(lambda x: 100 * x.year + x.month).astype(str)\n",
    "test['año_y_mes'] = test['fecha'].map(lambda x: 100 * x.year + x.month).astype(str)"
   ]
  },
  {
   "cell_type": "code",
   "execution_count": 10,
   "metadata": {},
   "outputs": [],
   "source": [
    "encoder = LabelEncoder()\n",
    "encode_cols = ['tipodepropiedad', 'provincia', 'ciudad', 'año_y_mes']\n",
    "train[encode_cols] = train[encode_cols].astype(str)\n",
    "test[encode_cols] = test[encode_cols].astype(str)"
   ]
  },
  {
   "cell_type": "code",
   "execution_count": 11,
   "metadata": {},
   "outputs": [],
   "source": [
    "encoded_train = train[encode_cols].apply(encoder.fit_transform)\n",
    "encoded_test = test[encode_cols].apply(encoder.fit_transform)"
   ]
  },
  {
   "cell_type": "code",
   "execution_count": 12,
   "metadata": {},
   "outputs": [],
   "source": [
    "#el idzona ya es un encode en si mismo, solo lo paso a string porque lo toma como float\n",
    "train['idzona'] = train['idzona'].astype(str)\n",
    "test['idzona'] = test['idzona'].astype(str)"
   ]
  },
  {
   "cell_type": "code",
   "execution_count": 13,
   "metadata": {},
   "outputs": [
    {
     "data": {
      "text/html": [
       "<div>\n",
       "<style scoped>\n",
       "    .dataframe tbody tr th:only-of-type {\n",
       "        vertical-align: middle;\n",
       "    }\n",
       "\n",
       "    .dataframe tbody tr th {\n",
       "        vertical-align: top;\n",
       "    }\n",
       "\n",
       "    .dataframe thead th {\n",
       "        text-align: right;\n",
       "    }\n",
       "</style>\n",
       "<table border=\"1\" class=\"dataframe\">\n",
       "  <thead>\n",
       "    <tr style=\"text-align: right;\">\n",
       "      <th></th>\n",
       "      <th>tipo_encode</th>\n",
       "      <th>prov_encode</th>\n",
       "      <th>ciudad_encode</th>\n",
       "      <th>año_y_mes_encode</th>\n",
       "    </tr>\n",
       "    <tr>\n",
       "      <th>id</th>\n",
       "      <th></th>\n",
       "      <th></th>\n",
       "      <th></th>\n",
       "      <th></th>\n",
       "    </tr>\n",
       "  </thead>\n",
       "  <tbody>\n",
       "    <tr>\n",
       "      <td>254099</td>\n",
       "      <td>1</td>\n",
       "      <td>9</td>\n",
       "      <td>94</td>\n",
       "      <td>43</td>\n",
       "    </tr>\n",
       "    <tr>\n",
       "      <td>53461</td>\n",
       "      <td>4</td>\n",
       "      <td>9</td>\n",
       "      <td>371</td>\n",
       "      <td>17</td>\n",
       "    </tr>\n",
       "    <tr>\n",
       "      <td>247984</td>\n",
       "      <td>3</td>\n",
       "      <td>15</td>\n",
       "      <td>768</td>\n",
       "      <td>45</td>\n",
       "    </tr>\n",
       "    <tr>\n",
       "      <td>209067</td>\n",
       "      <td>3</td>\n",
       "      <td>11</td>\n",
       "      <td>862</td>\n",
       "      <td>2</td>\n",
       "    </tr>\n",
       "    <tr>\n",
       "      <td>185997</td>\n",
       "      <td>1</td>\n",
       "      <td>15</td>\n",
       "      <td>852</td>\n",
       "      <td>53</td>\n",
       "    </tr>\n",
       "    <tr>\n",
       "      <td>...</td>\n",
       "      <td>...</td>\n",
       "      <td>...</td>\n",
       "      <td>...</td>\n",
       "      <td>...</td>\n",
       "    </tr>\n",
       "    <tr>\n",
       "      <td>119879</td>\n",
       "      <td>3</td>\n",
       "      <td>11</td>\n",
       "      <td>862</td>\n",
       "      <td>37</td>\n",
       "    </tr>\n",
       "    <tr>\n",
       "      <td>259178</td>\n",
       "      <td>3</td>\n",
       "      <td>11</td>\n",
       "      <td>767</td>\n",
       "      <td>30</td>\n",
       "    </tr>\n",
       "    <tr>\n",
       "      <td>131932</td>\n",
       "      <td>1</td>\n",
       "      <td>9</td>\n",
       "      <td>94</td>\n",
       "      <td>38</td>\n",
       "    </tr>\n",
       "    <tr>\n",
       "      <td>146867</td>\n",
       "      <td>3</td>\n",
       "      <td>9</td>\n",
       "      <td>334</td>\n",
       "      <td>35</td>\n",
       "    </tr>\n",
       "    <tr>\n",
       "      <td>121958</td>\n",
       "      <td>1</td>\n",
       "      <td>9</td>\n",
       "      <td>207</td>\n",
       "      <td>41</td>\n",
       "    </tr>\n",
       "  </tbody>\n",
       "</table>\n",
       "<p>240000 rows × 4 columns</p>\n",
       "</div>"
      ],
      "text/plain": [
       "       tipo_encode prov_encode ciudad_encode año_y_mes_encode\n",
       "id                                                           \n",
       "254099           1           9            94               43\n",
       "53461            4           9           371               17\n",
       "247984           3          15           768               45\n",
       "209067           3          11           862                2\n",
       "185997           1          15           852               53\n",
       "...            ...         ...           ...              ...\n",
       "119879           3          11           862               37\n",
       "259178           3          11           767               30\n",
       "131932           1           9            94               38\n",
       "146867           3           9           334               35\n",
       "121958           1           9           207               41\n",
       "\n",
       "[240000 rows x 4 columns]"
      ]
     },
     "execution_count": 13,
     "metadata": {},
     "output_type": "execute_result"
    }
   ],
   "source": [
    "encoded_train['tipo_encode'] = encoded_train['tipodepropiedad'].astype(str)\n",
    "encoded_train['prov_encode'] = encoded_train['provincia'].astype(str)\n",
    "encoded_train['ciudad_encode'] = encoded_train['ciudad'].astype(str)\n",
    "encoded_train['año_y_mes_encode'] = encoded_train['año_y_mes'].astype(str)\n",
    "del encoded_train['tipodepropiedad']\n",
    "del encoded_train['provincia']\n",
    "del encoded_train['ciudad']\n",
    "del encoded_train['año_y_mes']\n",
    "encoded_train"
   ]
  },
  {
   "cell_type": "code",
   "execution_count": 14,
   "metadata": {},
   "outputs": [
    {
     "data": {
      "text/html": [
       "<div>\n",
       "<style scoped>\n",
       "    .dataframe tbody tr th:only-of-type {\n",
       "        vertical-align: middle;\n",
       "    }\n",
       "\n",
       "    .dataframe tbody tr th {\n",
       "        vertical-align: top;\n",
       "    }\n",
       "\n",
       "    .dataframe thead th {\n",
       "        text-align: right;\n",
       "    }\n",
       "</style>\n",
       "<table border=\"1\" class=\"dataframe\">\n",
       "  <thead>\n",
       "    <tr style=\"text-align: right;\">\n",
       "      <th></th>\n",
       "      <th>tipo_encode</th>\n",
       "      <th>prov_encode</th>\n",
       "      <th>ciudad_encode</th>\n",
       "      <th>año_y_mes_encode</th>\n",
       "    </tr>\n",
       "    <tr>\n",
       "      <th>id</th>\n",
       "      <th></th>\n",
       "      <th></th>\n",
       "      <th></th>\n",
       "      <th></th>\n",
       "    </tr>\n",
       "  </thead>\n",
       "  <tbody>\n",
       "    <tr>\n",
       "      <td>4941</td>\n",
       "      <td>3</td>\n",
       "      <td>9</td>\n",
       "      <td>284</td>\n",
       "      <td>18</td>\n",
       "    </tr>\n",
       "    <tr>\n",
       "      <td>51775</td>\n",
       "      <td>1</td>\n",
       "      <td>31</td>\n",
       "      <td>299</td>\n",
       "      <td>45</td>\n",
       "    </tr>\n",
       "    <tr>\n",
       "      <td>115253</td>\n",
       "      <td>1</td>\n",
       "      <td>9</td>\n",
       "      <td>138</td>\n",
       "      <td>40</td>\n",
       "    </tr>\n",
       "    <tr>\n",
       "      <td>299321</td>\n",
       "      <td>1</td>\n",
       "      <td>13</td>\n",
       "      <td>6</td>\n",
       "      <td>39</td>\n",
       "    </tr>\n",
       "    <tr>\n",
       "      <td>173570</td>\n",
       "      <td>3</td>\n",
       "      <td>11</td>\n",
       "      <td>517</td>\n",
       "      <td>19</td>\n",
       "    </tr>\n",
       "    <tr>\n",
       "      <td>...</td>\n",
       "      <td>...</td>\n",
       "      <td>...</td>\n",
       "      <td>...</td>\n",
       "      <td>...</td>\n",
       "    </tr>\n",
       "    <tr>\n",
       "      <td>75094</td>\n",
       "      <td>3</td>\n",
       "      <td>9</td>\n",
       "      <td>532</td>\n",
       "      <td>44</td>\n",
       "    </tr>\n",
       "    <tr>\n",
       "      <td>171847</td>\n",
       "      <td>3</td>\n",
       "      <td>11</td>\n",
       "      <td>162</td>\n",
       "      <td>57</td>\n",
       "    </tr>\n",
       "    <tr>\n",
       "      <td>138313</td>\n",
       "      <td>3</td>\n",
       "      <td>19</td>\n",
       "      <td>188</td>\n",
       "      <td>35</td>\n",
       "    </tr>\n",
       "    <tr>\n",
       "      <td>271268</td>\n",
       "      <td>3</td>\n",
       "      <td>22</td>\n",
       "      <td>352</td>\n",
       "      <td>57</td>\n",
       "    </tr>\n",
       "    <tr>\n",
       "      <td>72612</td>\n",
       "      <td>3</td>\n",
       "      <td>15</td>\n",
       "      <td>564</td>\n",
       "      <td>13</td>\n",
       "    </tr>\n",
       "  </tbody>\n",
       "</table>\n",
       "<p>60000 rows × 4 columns</p>\n",
       "</div>"
      ],
      "text/plain": [
       "       tipo_encode prov_encode ciudad_encode año_y_mes_encode\n",
       "id                                                           \n",
       "4941             3           9           284               18\n",
       "51775            1          31           299               45\n",
       "115253           1           9           138               40\n",
       "299321           1          13             6               39\n",
       "173570           3          11           517               19\n",
       "...            ...         ...           ...              ...\n",
       "75094            3           9           532               44\n",
       "171847           3          11           162               57\n",
       "138313           3          19           188               35\n",
       "271268           3          22           352               57\n",
       "72612            3          15           564               13\n",
       "\n",
       "[60000 rows x 4 columns]"
      ]
     },
     "execution_count": 14,
     "metadata": {},
     "output_type": "execute_result"
    }
   ],
   "source": [
    "encoded_test['tipo_encode'] = encoded_test['tipodepropiedad'].astype(str)\n",
    "encoded_test['prov_encode'] = encoded_test['provincia'].astype(str)\n",
    "encoded_test['ciudad_encode'] = encoded_test['ciudad'].astype(str)\n",
    "encoded_test['año_y_mes_encode'] = encoded_test['año_y_mes'].astype(str)\n",
    "del encoded_test['tipodepropiedad']\n",
    "del encoded_test['provincia']\n",
    "del encoded_test['ciudad']\n",
    "del encoded_test['año_y_mes']\n",
    "encoded_test"
   ]
  },
  {
   "cell_type": "code",
   "execution_count": 15,
   "metadata": {},
   "outputs": [
    {
     "name": "stderr",
     "output_type": "stream",
     "text": [
      "/home/lautaro/.local/lib/python3.6/site-packages/sklearn/preprocessing/_encoders.py:415: FutureWarning: The handling of integer data will change in version 0.22. Currently, the categories are determined based on the range [0, max(values)], while in the future they will be determined based on the unique values.\n",
      "If you want the future behaviour and silence this warning, you can specify \"categories='auto'\".\n",
      "In case you used a LabelEncoder before this OneHotEncoder to convert the categories to integers, then you can now use the OneHotEncoder directly.\n",
      "  warnings.warn(msg, FutureWarning)\n",
      "/home/lautaro/.local/lib/python3.6/site-packages/sklearn/preprocessing/_encoders.py:415: FutureWarning: The handling of integer data will change in version 0.22. Currently, the categories are determined based on the range [0, max(values)], while in the future they will be determined based on the unique values.\n",
      "If you want the future behaviour and silence this warning, you can specify \"categories='auto'\".\n",
      "In case you used a LabelEncoder before this OneHotEncoder to convert the categories to integers, then you can now use the OneHotEncoder directly.\n",
      "  warnings.warn(msg, FutureWarning)\n"
     ]
    }
   ],
   "source": [
    "encoder = OneHotEncoder()\n",
    "encode_cols = ['prov_encode', 'tipo_encode', 'ciudad_encode', 'año_y_mes_encode']\n",
    "onehot_train = encoder.fit_transform(encoded_train[encode_cols])\n",
    "onehot_test = encoder.fit_transform(encoded_train[encode_cols])"
   ]
  },
  {
   "cell_type": "code",
   "execution_count": 16,
   "metadata": {},
   "outputs": [],
   "source": [
    "onehot_train = onehot_train.toarray()\n",
    "onehot_test = onehot_test.toarray()"
   ]
  },
  {
   "cell_type": "code",
   "execution_count": 18,
   "metadata": {},
   "outputs": [],
   "source": [
    "onehot_train = pd.DataFrame(onehot_train)\n",
    "onehot_test = pd.DataFrame(onehot_test)"
   ]
  },
  {
   "cell_type": "code",
   "execution_count": 20,
   "metadata": {},
   "outputs": [],
   "source": [
    "train_final = train.join(onehot_train)\n",
    "test_final = test.join(onehot_test)"
   ]
  },
  {
   "cell_type": "code",
   "execution_count": 21,
   "metadata": {},
   "outputs": [
    {
     "data": {
      "text/html": [
       "<div>\n",
       "<style scoped>\n",
       "    .dataframe tbody tr th:only-of-type {\n",
       "        vertical-align: middle;\n",
       "    }\n",
       "\n",
       "    .dataframe tbody tr th {\n",
       "        vertical-align: top;\n",
       "    }\n",
       "\n",
       "    .dataframe thead th {\n",
       "        text-align: right;\n",
       "    }\n",
       "</style>\n",
       "<table border=\"1\" class=\"dataframe\">\n",
       "  <thead>\n",
       "    <tr style=\"text-align: right;\">\n",
       "      <th></th>\n",
       "      <th>titulo</th>\n",
       "      <th>descripcion</th>\n",
       "      <th>tipodepropiedad</th>\n",
       "      <th>direccion</th>\n",
       "      <th>ciudad</th>\n",
       "      <th>provincia</th>\n",
       "      <th>antiguedad</th>\n",
       "      <th>habitaciones</th>\n",
       "      <th>garages</th>\n",
       "      <th>banos</th>\n",
       "      <th>...</th>\n",
       "      <th>centroscomercialescercanos</th>\n",
       "      <th>precio</th>\n",
       "      <th>cant_amenities</th>\n",
       "      <th>luminoso</th>\n",
       "      <th>jardin</th>\n",
       "      <th>terraza</th>\n",
       "      <th>patio</th>\n",
       "      <th>balcón</th>\n",
       "      <th>año_y_mes</th>\n",
       "      <th>0</th>\n",
       "    </tr>\n",
       "    <tr>\n",
       "      <th>id</th>\n",
       "      <th></th>\n",
       "      <th></th>\n",
       "      <th></th>\n",
       "      <th></th>\n",
       "      <th></th>\n",
       "      <th></th>\n",
       "      <th></th>\n",
       "      <th></th>\n",
       "      <th></th>\n",
       "      <th></th>\n",
       "      <th></th>\n",
       "      <th></th>\n",
       "      <th></th>\n",
       "      <th></th>\n",
       "      <th></th>\n",
       "      <th></th>\n",
       "      <th></th>\n",
       "      <th></th>\n",
       "      <th></th>\n",
       "      <th></th>\n",
       "      <th></th>\n",
       "    </tr>\n",
       "  </thead>\n",
       "  <tbody>\n",
       "    <tr>\n",
       "      <td>254099</td>\n",
       "      <td>depto. tipo a-402</td>\n",
       "      <td>depto. interior de 80.15m2, consta de sala com...</td>\n",
       "      <td>Apartamento</td>\n",
       "      <td>Avenida Division del Norte 2005</td>\n",
       "      <td>Benito Juárez</td>\n",
       "      <td>Distrito Federal</td>\n",
       "      <td>0.0</td>\n",
       "      <td>2.0</td>\n",
       "      <td>1.0</td>\n",
       "      <td>2.0</td>\n",
       "      <td>...</td>\n",
       "      <td>0.0</td>\n",
       "      <td>2273000.0</td>\n",
       "      <td>0.0</td>\n",
       "      <td>False</td>\n",
       "      <td>False</td>\n",
       "      <td>False</td>\n",
       "      <td>False</td>\n",
       "      <td>False</td>\n",
       "      <td>201508</td>\n",
       "      <td>NaN</td>\n",
       "    </tr>\n",
       "    <tr>\n",
       "      <td>53461</td>\n",
       "      <td>condominio horizontal en venta</td>\n",
       "      <td>&lt;p&gt;entre sonora y guerrero, atr&amp;aacute;s del h...</td>\n",
       "      <td>Casa en condominio</td>\n",
       "      <td>AV. MEXICO</td>\n",
       "      <td>La Magdalena Contreras</td>\n",
       "      <td>Distrito Federal</td>\n",
       "      <td>10.0</td>\n",
       "      <td>3.0</td>\n",
       "      <td>2.0</td>\n",
       "      <td>2.0</td>\n",
       "      <td>...</td>\n",
       "      <td>1.0</td>\n",
       "      <td>3600000.0</td>\n",
       "      <td>0.0</td>\n",
       "      <td>False</td>\n",
       "      <td>False</td>\n",
       "      <td>True</td>\n",
       "      <td>False</td>\n",
       "      <td>False</td>\n",
       "      <td>201306</td>\n",
       "      <td>(0, 13)\\t1.0\\n  (0, 34)\\t1.0\\n  (0, 65)\\t1.0...</td>\n",
       "    </tr>\n",
       "    <tr>\n",
       "      <td>247984</td>\n",
       "      <td>casa en venta urbi 3 recamaras tonala</td>\n",
       "      <td>descripcion \\nla mejor ubicacion residencial e...</td>\n",
       "      <td>Casa</td>\n",
       "      <td>Urbi Tonala</td>\n",
       "      <td>Tonalá</td>\n",
       "      <td>Jalisco</td>\n",
       "      <td>5.0</td>\n",
       "      <td>3.0</td>\n",
       "      <td>2.0</td>\n",
       "      <td>2.0</td>\n",
       "      <td>...</td>\n",
       "      <td>0.0</td>\n",
       "      <td>1200000.0</td>\n",
       "      <td>0.0</td>\n",
       "      <td>False</td>\n",
       "      <td>True</td>\n",
       "      <td>False</td>\n",
       "      <td>True</td>\n",
       "      <td>False</td>\n",
       "      <td>201510</td>\n",
       "      <td>NaN</td>\n",
       "    </tr>\n",
       "    <tr>\n",
       "      <td>209067</td>\n",
       "      <td>casa sola en toluca zinacantepec con credito i...</td>\n",
       "      <td>casa en privada con caseta de vigilancia casas...</td>\n",
       "      <td>Casa</td>\n",
       "      <td>IGNACIO MANUEL ALTAMIRANO 128</td>\n",
       "      <td>Zinacantepec</td>\n",
       "      <td>Edo. de México</td>\n",
       "      <td>1.0</td>\n",
       "      <td>2.0</td>\n",
       "      <td>1.0</td>\n",
       "      <td>1.0</td>\n",
       "      <td>...</td>\n",
       "      <td>1.0</td>\n",
       "      <td>650000.0</td>\n",
       "      <td>0.0</td>\n",
       "      <td>False</td>\n",
       "      <td>False</td>\n",
       "      <td>False</td>\n",
       "      <td>False</td>\n",
       "      <td>False</td>\n",
       "      <td>201203</td>\n",
       "      <td>(0, 23)\\t1.0\\n  (0, 34)\\t1.0\\n  (0, 174)\\t1....</td>\n",
       "    </tr>\n",
       "    <tr>\n",
       "      <td>185997</td>\n",
       "      <td>paseos del sol</td>\n",
       "      <td>bonito departamento en excelentes condiciones ...</td>\n",
       "      <td>Apartamento</td>\n",
       "      <td>PASEOS DEL SOL</td>\n",
       "      <td>Zapopan</td>\n",
       "      <td>Jalisco</td>\n",
       "      <td>10.0</td>\n",
       "      <td>2.0</td>\n",
       "      <td>1.0</td>\n",
       "      <td>1.0</td>\n",
       "      <td>...</td>\n",
       "      <td>0.0</td>\n",
       "      <td>1150000.0</td>\n",
       "      <td>0.0</td>\n",
       "      <td>False</td>\n",
       "      <td>False</td>\n",
       "      <td>False</td>\n",
       "      <td>False</td>\n",
       "      <td>False</td>\n",
       "      <td>201606</td>\n",
       "      <td>(0, 9)\\t1.0\\n  (0, 34)\\t1.0\\n  (0, 476)\\t1.0...</td>\n",
       "    </tr>\n",
       "    <tr>\n",
       "      <td>...</td>\n",
       "      <td>...</td>\n",
       "      <td>...</td>\n",
       "      <td>...</td>\n",
       "      <td>...</td>\n",
       "      <td>...</td>\n",
       "      <td>...</td>\n",
       "      <td>...</td>\n",
       "      <td>...</td>\n",
       "      <td>...</td>\n",
       "      <td>...</td>\n",
       "      <td>...</td>\n",
       "      <td>...</td>\n",
       "      <td>...</td>\n",
       "      <td>...</td>\n",
       "      <td>...</td>\n",
       "      <td>...</td>\n",
       "      <td>...</td>\n",
       "      <td>...</td>\n",
       "      <td>...</td>\n",
       "      <td>...</td>\n",
       "      <td>...</td>\n",
       "    </tr>\n",
       "    <tr>\n",
       "      <td>119879</td>\n",
       "      <td>bonita casas de 2 recamaras a 10 minutos del c...</td>\n",
       "      <td>vendo casa en bosques de ica residencial a 10 ...</td>\n",
       "      <td>Casa</td>\n",
       "      <td>BOSQUES</td>\n",
       "      <td>Zinacantepec</td>\n",
       "      <td>Edo. de México</td>\n",
       "      <td>0.0</td>\n",
       "      <td>2.0</td>\n",
       "      <td>2.0</td>\n",
       "      <td>1.0</td>\n",
       "      <td>...</td>\n",
       "      <td>0.0</td>\n",
       "      <td>650000.0</td>\n",
       "      <td>0.0</td>\n",
       "      <td>False</td>\n",
       "      <td>False</td>\n",
       "      <td>False</td>\n",
       "      <td>True</td>\n",
       "      <td>False</td>\n",
       "      <td>201502</td>\n",
       "      <td>(0, 23)\\t1.0\\n  (0, 36)\\t1.0\\n  (0, 174)\\t1....</td>\n",
       "    </tr>\n",
       "    <tr>\n",
       "      <td>259178</td>\n",
       "      <td>casa en condominio a 10 min. del centro de toluca</td>\n",
       "      <td>casa con un jardin amplio, un cuarto de servic...</td>\n",
       "      <td>Casa</td>\n",
       "      <td>Filiberto Navas 325</td>\n",
       "      <td>Toluca</td>\n",
       "      <td>Edo. de México</td>\n",
       "      <td>0.0</td>\n",
       "      <td>3.0</td>\n",
       "      <td>3.0</td>\n",
       "      <td>3.0</td>\n",
       "      <td>...</td>\n",
       "      <td>1.0</td>\n",
       "      <td>1940000.0</td>\n",
       "      <td>0.0</td>\n",
       "      <td>False</td>\n",
       "      <td>True</td>\n",
       "      <td>False</td>\n",
       "      <td>False</td>\n",
       "      <td>False</td>\n",
       "      <td>201407</td>\n",
       "      <td>NaN</td>\n",
       "    </tr>\n",
       "    <tr>\n",
       "      <td>131932</td>\n",
       "      <td>nicolas san juan</td>\n",
       "      <td>departamento con excelente ubicación, muy cerc...</td>\n",
       "      <td>Apartamento</td>\n",
       "      <td>Nicolas San Juan</td>\n",
       "      <td>Benito Juárez</td>\n",
       "      <td>Distrito Federal</td>\n",
       "      <td>20.0</td>\n",
       "      <td>2.0</td>\n",
       "      <td>1.0</td>\n",
       "      <td>2.0</td>\n",
       "      <td>...</td>\n",
       "      <td>0.0</td>\n",
       "      <td>3400000.0</td>\n",
       "      <td>0.0</td>\n",
       "      <td>False</td>\n",
       "      <td>False</td>\n",
       "      <td>False</td>\n",
       "      <td>False</td>\n",
       "      <td>False</td>\n",
       "      <td>201503</td>\n",
       "      <td>(0, 15)\\t1.0\\n  (0, 36)\\t1.0\\n  (0, 572)\\t1....</td>\n",
       "    </tr>\n",
       "    <tr>\n",
       "      <td>146867</td>\n",
       "      <td>casa sola. javier rojo gomez.</td>\n",
       "      <td>casa sola, dividida en cuatro departamentos de...</td>\n",
       "      <td>Casa</td>\n",
       "      <td>Javier Rojo Gomez 120</td>\n",
       "      <td>Iztapalapa</td>\n",
       "      <td>Distrito Federal</td>\n",
       "      <td>20.0</td>\n",
       "      <td>4.0</td>\n",
       "      <td>0.0</td>\n",
       "      <td>4.0</td>\n",
       "      <td>...</td>\n",
       "      <td>1.0</td>\n",
       "      <td>2890000.0</td>\n",
       "      <td>1.0</td>\n",
       "      <td>False</td>\n",
       "      <td>False</td>\n",
       "      <td>False</td>\n",
       "      <td>False</td>\n",
       "      <td>False</td>\n",
       "      <td>201412</td>\n",
       "      <td>(0, 11)\\t1.0\\n  (0, 36)\\t1.0\\n  (0, 740)\\t1....</td>\n",
       "    </tr>\n",
       "    <tr>\n",
       "      <td>121958</td>\n",
       "      <td>departamento en bosques de las lomas  / av. st...</td>\n",
       "      <td>id:19816, muy bonito e iluminado departamento,...</td>\n",
       "      <td>Apartamento</td>\n",
       "      <td>AVE. STIM</td>\n",
       "      <td>Cuajimalpa de Morelos</td>\n",
       "      <td>Distrito Federal</td>\n",
       "      <td>1.0</td>\n",
       "      <td>3.0</td>\n",
       "      <td>2.0</td>\n",
       "      <td>2.0</td>\n",
       "      <td>...</td>\n",
       "      <td>0.0</td>\n",
       "      <td>3650000.0</td>\n",
       "      <td>0.0</td>\n",
       "      <td>False</td>\n",
       "      <td>False</td>\n",
       "      <td>False</td>\n",
       "      <td>False</td>\n",
       "      <td>True</td>\n",
       "      <td>201506</td>\n",
       "      <td>(0, 9)\\t1.0\\n  (0, 36)\\t1.0\\n  (0, 261)\\t1.0...</td>\n",
       "    </tr>\n",
       "  </tbody>\n",
       "</table>\n",
       "<p>240000 rows × 30 columns</p>\n",
       "</div>"
      ],
      "text/plain": [
       "                                                   titulo  \\\n",
       "id                                                          \n",
       "254099                                  depto. tipo a-402   \n",
       "53461                      condominio horizontal en venta   \n",
       "247984              casa en venta urbi 3 recamaras tonala   \n",
       "209067  casa sola en toluca zinacantepec con credito i...   \n",
       "185997                                     paseos del sol   \n",
       "...                                                   ...   \n",
       "119879  bonita casas de 2 recamaras a 10 minutos del c...   \n",
       "259178  casa en condominio a 10 min. del centro de toluca   \n",
       "131932                                   nicolas san juan   \n",
       "146867                      casa sola. javier rojo gomez.   \n",
       "121958  departamento en bosques de las lomas  / av. st...   \n",
       "\n",
       "                                              descripcion     tipodepropiedad  \\\n",
       "id                                                                              \n",
       "254099  depto. interior de 80.15m2, consta de sala com...         Apartamento   \n",
       "53461   <p>entre sonora y guerrero, atr&aacute;s del h...  Casa en condominio   \n",
       "247984  descripcion \\nla mejor ubicacion residencial e...                Casa   \n",
       "209067  casa en privada con caseta de vigilancia casas...                Casa   \n",
       "185997  bonito departamento en excelentes condiciones ...         Apartamento   \n",
       "...                                                   ...                 ...   \n",
       "119879  vendo casa en bosques de ica residencial a 10 ...                Casa   \n",
       "259178  casa con un jardin amplio, un cuarto de servic...                Casa   \n",
       "131932  departamento con excelente ubicación, muy cerc...         Apartamento   \n",
       "146867  casa sola, dividida en cuatro departamentos de...                Casa   \n",
       "121958  id:19816, muy bonito e iluminado departamento,...         Apartamento   \n",
       "\n",
       "                              direccion                  ciudad  \\\n",
       "id                                                                \n",
       "254099  Avenida Division del Norte 2005           Benito Juárez   \n",
       "53461                        AV. MEXICO  La Magdalena Contreras   \n",
       "247984                      Urbi Tonala                  Tonalá   \n",
       "209067    IGNACIO MANUEL ALTAMIRANO 128            Zinacantepec   \n",
       "185997                  PASEOS DEL SOL                  Zapopan   \n",
       "...                                 ...                     ...   \n",
       "119879                          BOSQUES            Zinacantepec   \n",
       "259178              Filiberto Navas 325                  Toluca   \n",
       "131932                 Nicolas San Juan           Benito Juárez   \n",
       "146867            Javier Rojo Gomez 120              Iztapalapa   \n",
       "121958                        AVE. STIM   Cuajimalpa de Morelos   \n",
       "\n",
       "               provincia  antiguedad  habitaciones  garages  banos  ...  \\\n",
       "id                                                                  ...   \n",
       "254099  Distrito Federal         0.0           2.0      1.0    2.0  ...   \n",
       "53461   Distrito Federal        10.0           3.0      2.0    2.0  ...   \n",
       "247984           Jalisco         5.0           3.0      2.0    2.0  ...   \n",
       "209067    Edo. de México         1.0           2.0      1.0    1.0  ...   \n",
       "185997           Jalisco        10.0           2.0      1.0    1.0  ...   \n",
       "...                  ...         ...           ...      ...    ...  ...   \n",
       "119879    Edo. de México         0.0           2.0      2.0    1.0  ...   \n",
       "259178    Edo. de México         0.0           3.0      3.0    3.0  ...   \n",
       "131932  Distrito Federal        20.0           2.0      1.0    2.0  ...   \n",
       "146867  Distrito Federal        20.0           4.0      0.0    4.0  ...   \n",
       "121958  Distrito Federal         1.0           3.0      2.0    2.0  ...   \n",
       "\n",
       "        centroscomercialescercanos     precio cant_amenities  luminoso  \\\n",
       "id                                                                       \n",
       "254099                         0.0  2273000.0            0.0     False   \n",
       "53461                          1.0  3600000.0            0.0     False   \n",
       "247984                         0.0  1200000.0            0.0     False   \n",
       "209067                         1.0   650000.0            0.0     False   \n",
       "185997                         0.0  1150000.0            0.0     False   \n",
       "...                            ...        ...            ...       ...   \n",
       "119879                         0.0   650000.0            0.0     False   \n",
       "259178                         1.0  1940000.0            0.0     False   \n",
       "131932                         0.0  3400000.0            0.0     False   \n",
       "146867                         1.0  2890000.0            1.0     False   \n",
       "121958                         0.0  3650000.0            0.0     False   \n",
       "\n",
       "        jardin terraza  patio  balcón  año_y_mes  \\\n",
       "id                                                 \n",
       "254099   False   False  False   False     201508   \n",
       "53461    False    True  False   False     201306   \n",
       "247984    True   False   True   False     201510   \n",
       "209067   False   False  False   False     201203   \n",
       "185997   False   False  False   False     201606   \n",
       "...        ...     ...    ...     ...        ...   \n",
       "119879   False   False   True   False     201502   \n",
       "259178    True   False  False   False     201407   \n",
       "131932   False   False  False   False     201503   \n",
       "146867   False   False  False   False     201412   \n",
       "121958   False   False  False    True     201506   \n",
       "\n",
       "                                                        0  \n",
       "id                                                         \n",
       "254099                                                NaN  \n",
       "53461     (0, 13)\\t1.0\\n  (0, 34)\\t1.0\\n  (0, 65)\\t1.0...  \n",
       "247984                                                NaN  \n",
       "209067    (0, 23)\\t1.0\\n  (0, 34)\\t1.0\\n  (0, 174)\\t1....  \n",
       "185997    (0, 9)\\t1.0\\n  (0, 34)\\t1.0\\n  (0, 476)\\t1.0...  \n",
       "...                                                   ...  \n",
       "119879    (0, 23)\\t1.0\\n  (0, 36)\\t1.0\\n  (0, 174)\\t1....  \n",
       "259178                                                NaN  \n",
       "131932    (0, 15)\\t1.0\\n  (0, 36)\\t1.0\\n  (0, 572)\\t1....  \n",
       "146867    (0, 11)\\t1.0\\n  (0, 36)\\t1.0\\n  (0, 740)\\t1....  \n",
       "121958    (0, 9)\\t1.0\\n  (0, 36)\\t1.0\\n  (0, 261)\\t1.0...  \n",
       "\n",
       "[240000 rows x 30 columns]"
      ]
     },
     "execution_count": 21,
     "metadata": {},
     "output_type": "execute_result"
    }
   ],
   "source": [
    "train_final"
   ]
  },
  {
   "cell_type": "code",
   "execution_count": 16,
   "metadata": {},
   "outputs": [
    {
     "name": "stdout",
     "output_type": "stream",
     "text": [
      "Train shapes: X=(180000, 24) y=(180000,)\n",
      "Validation shapes: X=(60000, 24)  y=(60000,)\n",
      "Test shape: (60000, 24)\n"
     ]
    }
   ],
   "source": [
    "drop_cols = ['fecha', 'ciudad', 'tipodepropiedad', 'provincia', 'titulo', 'descripcion', 'direccion']\n",
    "X = train_final.drop(['precio'] + drop_cols, axis=1)\n",
    "y = train_final['precio']\n",
    "X_train, X_val, y_train, y_val = train_test_split(X, y, test_size=0.25, random_state=1)\n",
    "test_final = test_final.drop(drop_cols, axis=1)\n",
    "print(f\"Train shapes: X={X_train.shape} y={y_train.shape}\")\n",
    "print(f\"Validation shapes: X={X_val.shape}  y={y_val.shape}\")\n",
    "print(f\"Test shape: {test_final.shape}\")"
   ]
  },
  {
   "cell_type": "markdown",
   "metadata": {},
   "source": [
    "## KNN "
   ]
  },
  {
   "cell_type": "code",
   "execution_count": 19,
   "metadata": {},
   "outputs": [
    {
     "data": {
      "text/plain": [
       "KNeighborsRegressor(algorithm='auto', leaf_size=30, metric='minkowski',\n",
       "                    metric_params=None, n_jobs=None, n_neighbors=12, p=2,\n",
       "                    weights='uniform')"
      ]
     },
     "execution_count": 19,
     "metadata": {},
     "output_type": "execute_result"
    }
   ],
   "source": [
    "neigh = KNeighborsRegressor(n_neighbors=12)\n",
    "neigh.fit(X_train, y_train) "
   ]
  },
  {
   "cell_type": "code",
   "execution_count": 20,
   "metadata": {},
   "outputs": [],
   "source": [
    "KNN_pred_val = neigh.predict(X_val)"
   ]
  },
  {
   "cell_type": "code",
   "execution_count": 21,
   "metadata": {},
   "outputs": [
    {
     "name": "stdout",
     "output_type": "stream",
     "text": [
      "MAE KNN: 734047.37565\n"
     ]
    }
   ],
   "source": [
    "KNN_mae = MAE(y_val, KNN_pred_val)\n",
    "print(f\"MAE KNN: {KNN_mae:.5f}\")"
   ]
  },
  {
   "cell_type": "code",
   "execution_count": 23,
   "metadata": {},
   "outputs": [],
   "source": [
    "KNN_pred_test = neigh.predict(test_final)"
   ]
  },
  {
   "cell_type": "code",
   "execution_count": 24,
   "metadata": {},
   "outputs": [
    {
     "data": {
      "text/html": [
       "<div>\n",
       "<style scoped>\n",
       "    .dataframe tbody tr th:only-of-type {\n",
       "        vertical-align: middle;\n",
       "    }\n",
       "\n",
       "    .dataframe tbody tr th {\n",
       "        vertical-align: top;\n",
       "    }\n",
       "\n",
       "    .dataframe thead th {\n",
       "        text-align: right;\n",
       "    }\n",
       "</style>\n",
       "<table border=\"1\" class=\"dataframe\">\n",
       "  <thead>\n",
       "    <tr style=\"text-align: right;\">\n",
       "      <th></th>\n",
       "      <th>target</th>\n",
       "    </tr>\n",
       "    <tr>\n",
       "      <th>id</th>\n",
       "      <th></th>\n",
       "    </tr>\n",
       "  </thead>\n",
       "  <tbody>\n",
       "    <tr>\n",
       "      <td>4941</td>\n",
       "      <td>3.771234e+06</td>\n",
       "    </tr>\n",
       "    <tr>\n",
       "      <td>51775</td>\n",
       "      <td>5.448333e+05</td>\n",
       "    </tr>\n",
       "    <tr>\n",
       "      <td>115253</td>\n",
       "      <td>1.145408e+06</td>\n",
       "    </tr>\n",
       "    <tr>\n",
       "      <td>299321</td>\n",
       "      <td>8.852073e+05</td>\n",
       "    </tr>\n",
       "    <tr>\n",
       "      <td>173570</td>\n",
       "      <td>6.623333e+05</td>\n",
       "    </tr>\n",
       "  </tbody>\n",
       "</table>\n",
       "</div>"
      ],
      "text/plain": [
       "              target\n",
       "id                  \n",
       "4941    3.771234e+06\n",
       "51775   5.448333e+05\n",
       "115253  1.145408e+06\n",
       "299321  8.852073e+05\n",
       "173570  6.623333e+05"
      ]
     },
     "metadata": {},
     "output_type": "display_data"
    }
   ],
   "source": [
    "res = pd.DataFrame(KNN_pred_test, index=test.index, columns=['precio'])\n",
    "res = res.rename(columns={'precio':'target'})\n",
    "display(res.head())\n",
    "res.to_csv(\"workshop-submission-KNN.csv\", header=True)"
   ]
  },
  {
   "cell_type": "markdown",
   "metadata": {},
   "source": [
    "## XGBoost"
   ]
  },
  {
   "cell_type": "code",
   "execution_count": 21,
   "metadata": {},
   "outputs": [
    {
     "ename": "ValueError",
     "evalue": "DataFrame.dtypes for data must be int, float or bool.\n                Did not expect the data types in fields idzona, año_y_mes, tipo_encode, prov_encode, ciudad_encode",
     "output_type": "error",
     "traceback": [
      "\u001b[0;31m---------------------------------------------------------------------------\u001b[0m",
      "\u001b[0;31mValueError\u001b[0m                                Traceback (most recent call last)",
      "\u001b[0;32m<ipython-input-21-bc8cd1441184>\u001b[0m in \u001b[0;36m<module>\u001b[0;34m()\u001b[0m\n\u001b[1;32m     11\u001b[0m                  \u001b[0mseed\u001b[0m\u001b[0;34m=\u001b[0m\u001b[0;36m42\u001b[0m\u001b[0;34m,\u001b[0m\u001b[0;34m\u001b[0m\u001b[0;34m\u001b[0m\u001b[0m\n\u001b[1;32m     12\u001b[0m                  objective ='reg:squarederror')\n\u001b[0;32m---> 13\u001b[0;31m \u001b[0mbest_xgb_model\u001b[0m\u001b[0;34m.\u001b[0m\u001b[0mfit\u001b[0m\u001b[0;34m(\u001b[0m\u001b[0mX_train\u001b[0m\u001b[0;34m,\u001b[0m\u001b[0my_train\u001b[0m\u001b[0;34m)\u001b[0m\u001b[0;34m\u001b[0m\u001b[0;34m\u001b[0m\u001b[0m\n\u001b[0m",
      "\u001b[0;32m/home/lautaro/.local/lib/python3.6/site-packages/xgboost/sklearn.py\u001b[0m in \u001b[0;36mfit\u001b[0;34m(self, X, y, sample_weight, eval_set, eval_metric, early_stopping_rounds, verbose, xgb_model, sample_weight_eval_set, callbacks)\u001b[0m\n\u001b[1;32m    358\u001b[0m                                    missing=self.missing, nthread=self.n_jobs)\n\u001b[1;32m    359\u001b[0m         \u001b[0;32melse\u001b[0m\u001b[0;34m:\u001b[0m\u001b[0;34m\u001b[0m\u001b[0;34m\u001b[0m\u001b[0m\n\u001b[0;32m--> 360\u001b[0;31m             \u001b[0mtrainDmatrix\u001b[0m \u001b[0;34m=\u001b[0m \u001b[0mDMatrix\u001b[0m\u001b[0;34m(\u001b[0m\u001b[0mX\u001b[0m\u001b[0;34m,\u001b[0m \u001b[0mlabel\u001b[0m\u001b[0;34m=\u001b[0m\u001b[0my\u001b[0m\u001b[0;34m,\u001b[0m \u001b[0mmissing\u001b[0m\u001b[0;34m=\u001b[0m\u001b[0mself\u001b[0m\u001b[0;34m.\u001b[0m\u001b[0mmissing\u001b[0m\u001b[0;34m,\u001b[0m \u001b[0mnthread\u001b[0m\u001b[0;34m=\u001b[0m\u001b[0mself\u001b[0m\u001b[0;34m.\u001b[0m\u001b[0mn_jobs\u001b[0m\u001b[0;34m)\u001b[0m\u001b[0;34m\u001b[0m\u001b[0;34m\u001b[0m\u001b[0m\n\u001b[0m\u001b[1;32m    361\u001b[0m \u001b[0;34m\u001b[0m\u001b[0m\n\u001b[1;32m    362\u001b[0m         \u001b[0mevals_result\u001b[0m \u001b[0;34m=\u001b[0m \u001b[0;34m{\u001b[0m\u001b[0;34m}\u001b[0m\u001b[0;34m\u001b[0m\u001b[0;34m\u001b[0m\u001b[0m\n",
      "\u001b[0;32m/home/lautaro/.local/lib/python3.6/site-packages/xgboost/core.py\u001b[0m in \u001b[0;36m__init__\u001b[0;34m(self, data, label, missing, weight, silent, feature_names, feature_types, nthread)\u001b[0m\n\u001b[1;32m    378\u001b[0m         data, feature_names, feature_types = _maybe_pandas_data(data,\n\u001b[1;32m    379\u001b[0m                                                                 \u001b[0mfeature_names\u001b[0m\u001b[0;34m,\u001b[0m\u001b[0;34m\u001b[0m\u001b[0;34m\u001b[0m\u001b[0m\n\u001b[0;32m--> 380\u001b[0;31m                                                                 feature_types)\n\u001b[0m\u001b[1;32m    381\u001b[0m \u001b[0;34m\u001b[0m\u001b[0m\n\u001b[1;32m    382\u001b[0m         data, feature_names, feature_types = _maybe_dt_data(data,\n",
      "\u001b[0;32m/home/lautaro/.local/lib/python3.6/site-packages/xgboost/core.py\u001b[0m in \u001b[0;36m_maybe_pandas_data\u001b[0;34m(data, feature_names, feature_types)\u001b[0m\n\u001b[1;32m    237\u001b[0m         msg = \"\"\"DataFrame.dtypes for data must be int, float or bool.\n\u001b[1;32m    238\u001b[0m                 Did not expect the data types in fields \"\"\"\n\u001b[0;32m--> 239\u001b[0;31m         \u001b[0;32mraise\u001b[0m \u001b[0mValueError\u001b[0m\u001b[0;34m(\u001b[0m\u001b[0mmsg\u001b[0m \u001b[0;34m+\u001b[0m \u001b[0;34m', '\u001b[0m\u001b[0;34m.\u001b[0m\u001b[0mjoin\u001b[0m\u001b[0;34m(\u001b[0m\u001b[0mbad_fields\u001b[0m\u001b[0;34m)\u001b[0m\u001b[0;34m)\u001b[0m\u001b[0;34m\u001b[0m\u001b[0;34m\u001b[0m\u001b[0m\n\u001b[0m\u001b[1;32m    240\u001b[0m \u001b[0;34m\u001b[0m\u001b[0m\n\u001b[1;32m    241\u001b[0m     \u001b[0;32mif\u001b[0m \u001b[0mfeature_names\u001b[0m \u001b[0;32mis\u001b[0m \u001b[0;32mNone\u001b[0m\u001b[0;34m:\u001b[0m\u001b[0;34m\u001b[0m\u001b[0;34m\u001b[0m\u001b[0m\n",
      "\u001b[0;31mValueError\u001b[0m: DataFrame.dtypes for data must be int, float or bool.\n                Did not expect the data types in fields idzona, año_y_mes, tipo_encode, prov_encode, ciudad_encode"
     ]
    }
   ],
   "source": [
    "#tome los hiperparametros de una pagina cualquiera\n",
    "best_xgb_model = XGBRegressor(colsample_bytree=0.4,\n",
    "                 gamma=0,                 \n",
    "                 learning_rate=0.07,\n",
    "                 max_depth=3,\n",
    "                 min_child_weight=1.5,\n",
    "                 n_estimators=10000,                                                                    \n",
    "                 reg_alpha=0.75,\n",
    "                 reg_lambda=0.45,\n",
    "                 subsample=0.6,\n",
    "                 seed=42)\n",
    "best_xgb_model.fit(X_train,y_train)"
   ]
  },
  {
   "cell_type": "code",
   "execution_count": 20,
   "metadata": {},
   "outputs": [],
   "source": [
    "XGB_pred_val = best_xgb_model.predict(X_val)"
   ]
  },
  {
   "cell_type": "code",
   "execution_count": 21,
   "metadata": {},
   "outputs": [
    {
     "name": "stdout",
     "output_type": "stream",
     "text": [
      "MAE XGB: 604941.97929\n"
     ]
    }
   ],
   "source": [
    "XGB_mae = MAE(y_val, XGB_pred_val)\n",
    "print(f\"MAE XGB: {XGB_mae:.5f}\")"
   ]
  },
  {
   "cell_type": "code",
   "execution_count": 32,
   "metadata": {},
   "outputs": [],
   "source": [
    "XGB_pred_test = best_xgb_model.predict(test_final)"
   ]
  },
  {
   "cell_type": "code",
   "execution_count": 33,
   "metadata": {},
   "outputs": [
    {
     "data": {
      "text/html": [
       "<div>\n",
       "<style scoped>\n",
       "    .dataframe tbody tr th:only-of-type {\n",
       "        vertical-align: middle;\n",
       "    }\n",
       "\n",
       "    .dataframe tbody tr th {\n",
       "        vertical-align: top;\n",
       "    }\n",
       "\n",
       "    .dataframe thead th {\n",
       "        text-align: right;\n",
       "    }\n",
       "</style>\n",
       "<table border=\"1\" class=\"dataframe\">\n",
       "  <thead>\n",
       "    <tr style=\"text-align: right;\">\n",
       "      <th></th>\n",
       "      <th>target</th>\n",
       "    </tr>\n",
       "    <tr>\n",
       "      <th>id</th>\n",
       "      <th></th>\n",
       "    </tr>\n",
       "  </thead>\n",
       "  <tbody>\n",
       "    <tr>\n",
       "      <td>4941</td>\n",
       "      <td>6.163901e+06</td>\n",
       "    </tr>\n",
       "    <tr>\n",
       "      <td>51775</td>\n",
       "      <td>1.002955e+06</td>\n",
       "    </tr>\n",
       "    <tr>\n",
       "      <td>115253</td>\n",
       "      <td>2.177441e+06</td>\n",
       "    </tr>\n",
       "    <tr>\n",
       "      <td>299321</td>\n",
       "      <td>1.683117e+06</td>\n",
       "    </tr>\n",
       "    <tr>\n",
       "      <td>173570</td>\n",
       "      <td>8.430522e+05</td>\n",
       "    </tr>\n",
       "  </tbody>\n",
       "</table>\n",
       "</div>"
      ],
      "text/plain": [
       "              target\n",
       "id                  \n",
       "4941    6.163901e+06\n",
       "51775   1.002955e+06\n",
       "115253  2.177441e+06\n",
       "299321  1.683117e+06\n",
       "173570  8.430522e+05"
      ]
     },
     "metadata": {},
     "output_type": "display_data"
    }
   ],
   "source": [
    "res = pd.DataFrame(XGB_pred_test, index=test.index, columns=['precio'])\n",
    "res = res.rename(columns={'precio':'target'})\n",
    "display(res.head())\n",
    "res.to_csv(\"workshop-submission-XGB.csv\", header=True)"
   ]
  },
  {
   "cell_type": "code",
   "execution_count": null,
   "metadata": {},
   "outputs": [],
   "source": [
    "#a partir de aca no le den bola, copie y pegue cosas del notebook de Navent"
   ]
  },
  {
   "cell_type": "markdown",
   "metadata": {},
   "source": [
    "## DummyRegressor"
   ]
  },
  {
   "cell_type": "code",
   "execution_count": 4,
   "metadata": {},
   "outputs": [],
   "source": [
    "drop_cols = ['fecha', 'ciudad', 'idzona', 'tipodepropiedad', 'provincia', 'titulo', 'descripcion', 'direccion']\n",
    "X = train.drop(['precio'] + drop_cols, axis=1)\n",
    "y = train['precio']\n",
    "X_train, X_test, y_train, y_test = train_test_split(X, y, test_size=0.25, random_state=1)"
   ]
  },
  {
   "cell_type": "code",
   "execution_count": 12,
   "metadata": {},
   "outputs": [],
   "source": [
    "dummy = DummyRegressor(strategy='mean').fit(X_train, y_train)\n",
    "pred = dummy.predict(X_test)"
   ]
  },
  {
   "cell_type": "code",
   "execution_count": 13,
   "metadata": {},
   "outputs": [
    {
     "name": "stdout",
     "output_type": "stream",
     "text": [
      "Promedio de precios del train set: 2536913.142061111\n",
      "Primeras 3 predicciones: [2536913.14206111 2536913.14206111 2536913.14206111]\n"
     ]
    }
   ],
   "source": [
    "print(f\"Promedio de precios del train set: {y_train.mean()}\")\n",
    "print(f\"Primeras 3 predicciones: {pred[:3]}\")"
   ]
  },
  {
   "cell_type": "code",
   "execution_count": 16,
   "metadata": {},
   "outputs": [
    {
     "name": "stdout",
     "output_type": "stream",
     "text": [
      "MAE DummyRegressor: 1602549.96274\n"
     ]
    }
   ],
   "source": [
    "dummy_mae = MAE(y_test, pred)\n",
    "print(f\"MAE DummyRegressor: {dummy_mae:.5f}\")"
   ]
  },
  {
   "cell_type": "markdown",
   "metadata": {},
   "source": [
    "## Regresión Lineal"
   ]
  },
  {
   "cell_type": "code",
   "execution_count": 4,
   "metadata": {},
   "outputs": [
    {
     "name": "stdout",
     "output_type": "stream",
     "text": [
      "Train shapes: X=(180000, 1) y=(180000,)\n",
      "Test  shapes: X=(60000, 1)  y=(60000,)\n"
     ]
    }
   ],
   "source": [
    "X = train[['metroscubiertos']]\n",
    "y = train['precio']\n",
    "X_train, X_test, y_train, y_test = train_test_split(X, y, test_size=0.25, random_state=1)\n",
    "print(f\"Train shapes: X={X_train.shape} y={y_train.shape}\")\n",
    "print(f\"Test  shapes: X={X_test.shape}  y={y_test.shape}\")"
   ]
  },
  {
   "cell_type": "code",
   "execution_count": 12,
   "metadata": {},
   "outputs": [
    {
     "name": "stderr",
     "output_type": "stream",
     "text": [
      "/home/lautaro/.local/lib/python3.6/site-packages/sklearn/utils/deprecation.py:66: DeprecationWarning: Class Imputer is deprecated; Imputer was deprecated in version 0.20 and will be removed in 0.22. Import impute.SimpleImputer from sklearn instead.\n",
      "  warnings.warn(msg, category=DeprecationWarning)\n",
      "/usr/lib/python3/dist-packages/ipykernel_launcher.py:2: SettingWithCopyWarning: \n",
      "A value is trying to be set on a copy of a slice from a DataFrame.\n",
      "Try using .loc[row_indexer,col_indexer] = value instead\n",
      "\n",
      "See the caveats in the documentation: http://pandas.pydata.org/pandas-docs/stable/user_guide/indexing.html#returning-a-view-versus-a-copy\n",
      "  \n",
      "/usr/lib/python3/dist-packages/ipykernel_launcher.py:3: SettingWithCopyWarning: \n",
      "A value is trying to be set on a copy of a slice from a DataFrame.\n",
      "Try using .loc[row_indexer,col_indexer] = value instead\n",
      "\n",
      "See the caveats in the documentation: http://pandas.pydata.org/pandas-docs/stable/user_guide/indexing.html#returning-a-view-versus-a-copy\n",
      "  This is separate from the ipykernel package so we can avoid doing imports until\n"
     ]
    }
   ],
   "source": [
    "imp = Imputer()\n",
    "X_train['metroscubiertos'] = imp.fit_transform(X_train[['metroscubiertos']])\n",
    "X_test['metroscubiertos'] = imp.transform(X_test[['metroscubiertos']])"
   ]
  },
  {
   "cell_type": "code",
   "execution_count": 23,
   "metadata": {},
   "outputs": [],
   "source": [
    "linear_model = LinearRegression().fit(X_train, y_train)\n",
    "pred = linear_model.predict(X_test)"
   ]
  },
  {
   "cell_type": "code",
   "execution_count": 24,
   "metadata": {},
   "outputs": [
    {
     "name": "stdout",
     "output_type": "stream",
     "text": [
      "MAE Linear: 1191167.10603\n"
     ]
    }
   ],
   "source": [
    "linear_mae = MAE(y_test, pred)\n",
    "print(f\"MAE Linear: {linear_mae:.5f}\")"
   ]
  },
  {
   "cell_type": "code",
   "execution_count": null,
   "metadata": {},
   "outputs": [],
   "source": [
    "-------------------------------------------------------------------------------------------------------------------------"
   ]
  },
  {
   "cell_type": "code",
   "execution_count": 50,
   "metadata": {},
   "outputs": [
    {
     "name": "stderr",
     "output_type": "stream",
     "text": [
      "/home/lautaro/.local/lib/python3.6/site-packages/sklearn/utils/deprecation.py:66: DeprecationWarning: Class Imputer is deprecated; Imputer was deprecated in version 0.20 and will be removed in 0.22. Import impute.SimpleImputer from sklearn instead.\n",
      "  warnings.warn(msg, category=DeprecationWarning)\n"
     ]
    },
    {
     "data": {
      "text/html": [
       "<div>\n",
       "<style scoped>\n",
       "    .dataframe tbody tr th:only-of-type {\n",
       "        vertical-align: middle;\n",
       "    }\n",
       "\n",
       "    .dataframe tbody tr th {\n",
       "        vertical-align: top;\n",
       "    }\n",
       "\n",
       "    .dataframe thead th {\n",
       "        text-align: right;\n",
       "    }\n",
       "</style>\n",
       "<table border=\"1\" class=\"dataframe\">\n",
       "  <thead>\n",
       "    <tr style=\"text-align: right;\">\n",
       "      <th></th>\n",
       "      <th>target</th>\n",
       "    </tr>\n",
       "    <tr>\n",
       "      <th>id</th>\n",
       "      <th></th>\n",
       "    </tr>\n",
       "  </thead>\n",
       "  <tbody>\n",
       "    <tr>\n",
       "      <td>4941</td>\n",
       "      <td>4.200756e+06</td>\n",
       "    </tr>\n",
       "    <tr>\n",
       "      <td>51775</td>\n",
       "      <td>1.112322e+06</td>\n",
       "    </tr>\n",
       "    <tr>\n",
       "      <td>115253</td>\n",
       "      <td>1.377424e+06</td>\n",
       "    </tr>\n",
       "    <tr>\n",
       "      <td>299321</td>\n",
       "      <td>1.364169e+06</td>\n",
       "    </tr>\n",
       "    <tr>\n",
       "      <td>173570</td>\n",
       "      <td>1.284638e+06</td>\n",
       "    </tr>\n",
       "  </tbody>\n",
       "</table>\n",
       "</div>"
      ],
      "text/plain": [
       "              target\n",
       "id                  \n",
       "4941    4.200756e+06\n",
       "51775   1.112322e+06\n",
       "115253  1.377424e+06\n",
       "299321  1.364169e+06\n",
       "173570  1.284638e+06"
      ]
     },
     "metadata": {},
     "output_type": "display_data"
    }
   ],
   "source": [
    "# Imputamos los NaNs\n",
    "imp = Imputer()\n",
    "train['metroscubiertos'] = imp.fit_transform(train[['metroscubiertos']])\n",
    "test['metroscubiertos'] = imp.transform(test[['metroscubiertos']])\n",
    "\n",
    "linear_pred = LinearRegression()\\\n",
    "                    .fit(train[['metroscubiertos']], train['precio'])\\\n",
    "                    .predict(test[['metroscubiertos']])\n",
    "\n",
    "res = pd.DataFrame(linear_pred, index=test.index, columns=['precio'])\n",
    "res = res.rename(columns={'precio':'target'})\n",
    "display(res.head())\n",
    "res.to_csv(\"workshop-submission-linear.csv\", header=True) # RMSLE=0.65487"
   ]
  }
 ],
 "metadata": {
  "kernelspec": {
   "display_name": "Python 3",
   "language": "python",
   "name": "python3"
  },
  "language_info": {
   "codemirror_mode": {
    "name": "ipython",
    "version": 3
   },
   "file_extension": ".py",
   "mimetype": "text/x-python",
   "name": "python",
   "nbconvert_exporter": "python",
   "pygments_lexer": "ipython3",
   "version": "3.6.8"
  }
 },
 "nbformat": 4,
 "nbformat_minor": 2
}
