{
 "cells": [
  {
   "cell_type": "code",
   "execution_count": 58,
   "metadata": {},
   "outputs": [],
   "source": [
    "import pandas as pd\n",
    "import numpy as np\n",
    "import matplotlib as plt\n",
    "from sklearn import datasets\n",
    "from sklearn.preprocessing import LabelEncoder\n",
    "from sklearn.model_selection import train_test_split\n",
    "from sklearn.neighbors import KNeighborsRegressor\n",
    "from xgboost import XGBRegressor\n",
    "from sklearn.model_selection import GridSearchCV\n",
    "from sklearn.model_selection import RandomizedSearchCV\n",
    "from bayes_opt import BayesianOptimization\n",
    "import category_encoders as ce\n",
    "from sklearn.ensemble import VotingRegressor\n",
    "from sklearn.ensemble import RandomForestRegressor"
   ]
  },
  {
   "cell_type": "code",
   "execution_count": 2,
   "metadata": {},
   "outputs": [],
   "source": [
    "train = pd.read_csv(r'Orga/train.csv', index_col=0)\n",
    "test = pd.read_csv(r'Orga/test.csv', index_col=0)"
   ]
  },
  {
   "cell_type": "code",
   "execution_count": 3,
   "metadata": {},
   "outputs": [],
   "source": [
    "#metrica\n",
    "def MAE(actual, pred):\n",
    "    return (np.mean(np.absolute(actual - pred)))"
   ]
  },
  {
   "cell_type": "markdown",
   "metadata": {},
   "source": [
    "## Preprocesamiento"
   ]
  },
  {
   "cell_type": "code",
   "execution_count": 4,
   "metadata": {},
   "outputs": [
    {
     "data": {
      "text/plain": [
       "titulo                          5387\n",
       "descripcion                     1619\n",
       "tipodepropiedad                   46\n",
       "direccion                      53072\n",
       "ciudad                           372\n",
       "provincia                        155\n",
       "antiguedad                     43555\n",
       "habitaciones                   22471\n",
       "garages                        37765\n",
       "banos                          26221\n",
       "metroscubiertos                17400\n",
       "metrostotales                  51467\n",
       "idzona                         28621\n",
       "lat                           123488\n",
       "lng                           123488\n",
       "fecha                              0\n",
       "gimnasio                           0\n",
       "usosmultiples                      0\n",
       "piscina                            0\n",
       "escuelascercanas                   0\n",
       "centroscomercialescercanos         0\n",
       "precio                             0\n",
       "dtype: int64"
      ]
     },
     "execution_count": 4,
     "metadata": {},
     "output_type": "execute_result"
    }
   ],
   "source": [
    "train.isnull().sum()"
   ]
  },
  {
   "cell_type": "code",
   "execution_count": 5,
   "metadata": {},
   "outputs": [
    {
     "data": {
      "text/plain": [
       "titulo                         1378\n",
       "descripcion                     401\n",
       "tipodepropiedad                   7\n",
       "direccion                     13191\n",
       "ciudad                           83\n",
       "provincia                        42\n",
       "antiguedad                    10714\n",
       "habitaciones                   5628\n",
       "garages                        9323\n",
       "banos                          6554\n",
       "metroscubiertos                4299\n",
       "metrostotales                 12655\n",
       "idzona                         7179\n",
       "lat                           30695\n",
       "lng                           30695\n",
       "fecha                             0\n",
       "gimnasio                          0\n",
       "usosmultiples                     0\n",
       "piscina                           0\n",
       "escuelascercanas                  0\n",
       "centroscomercialescercanos        0\n",
       "dtype: int64"
      ]
     },
     "execution_count": 5,
     "metadata": {},
     "output_type": "execute_result"
    }
   ],
   "source": [
    "test.isnull().sum()"
   ]
  },
  {
   "cell_type": "code",
   "execution_count": 6,
   "metadata": {},
   "outputs": [],
   "source": [
    "train['provincia'] = train['provincia'].fillna('Distrito Federal') #valor mas frecuente\n",
    "test['provincia'] = test['provincia'].fillna('Distrito Federal')\n",
    "train['tipodepropiedad'] = train['tipodepropiedad'].fillna('Casa') #valor mas frecuente\n",
    "test['tipodepropiedad'] = test['tipodepropiedad'].fillna('Casa')\n",
    "\n",
    "train['descripcion'] = train['descripcion'].fillna('-')\n",
    "test['descripcion'] = test['descripcion'].fillna('-')\n",
    "\n",
    "train = train.fillna(0)\n",
    "test = test.fillna(0)"
   ]
  },
  {
   "cell_type": "code",
   "execution_count": 7,
   "metadata": {},
   "outputs": [
    {
     "name": "stdout",
     "output_type": "stream",
     "text": [
      "(240000, 22)\n",
      "(60000, 21)\n"
     ]
    }
   ],
   "source": [
    "print(train.shape)\n",
    "print(test.shape)"
   ]
  },
  {
   "cell_type": "markdown",
   "metadata": {},
   "source": [
    "## Feature Engineering"
   ]
  },
  {
   "cell_type": "markdown",
   "metadata": {},
   "source": [
    "### One Hot Encoding"
   ]
  },
  {
   "cell_type": "code",
   "execution_count": 8,
   "metadata": {},
   "outputs": [],
   "source": [
    "one_hot_enc = ce.OneHotEncoder()\n",
    "one_hot_encoded = one_hot_enc.fit_transform(train['provincia'])\n",
    "train = train.join(one_hot_encoded.add_suffix('_oh'))\n",
    "del train['provincia']\n",
    "\n",
    "one_hot_encoded = one_hot_enc.transform(test['provincia'])\n",
    "test = test.join(one_hot_encoded.add_suffix('_oh'))\n",
    "del test['provincia']"
   ]
  },
  {
   "cell_type": "code",
   "execution_count": 9,
   "metadata": {},
   "outputs": [],
   "source": [
    "one_hot_enc = ce.OneHotEncoder()\n",
    "one_hot_encoded = one_hot_enc.fit_transform(train['tipodepropiedad'])\n",
    "train = train.join(one_hot_encoded.add_suffix('_oh'))\n",
    "del train['tipodepropiedad']\n",
    "\n",
    "one_hot_encoded = one_hot_enc.transform(test['tipodepropiedad'])\n",
    "test = test.join(one_hot_encoded.add_suffix('_oh'))\n",
    "del test['tipodepropiedad']"
   ]
  },
  {
   "cell_type": "markdown",
   "metadata": {},
   "source": [
    "### Target Encoding"
   ]
  },
  {
   "cell_type": "code",
   "execution_count": 10,
   "metadata": {},
   "outputs": [
    {
     "name": "stdout",
     "output_type": "stream",
     "text": [
      "(240000, 76)\n",
      "(60000, 75)\n"
     ]
    }
   ],
   "source": [
    "print(train.shape)\n",
    "print(test.shape)"
   ]
  },
  {
   "cell_type": "code",
   "execution_count": 11,
   "metadata": {},
   "outputs": [],
   "source": [
    "X = train.drop('precio', axis = 1)\n",
    "y = train['precio']\n",
    "target_enc = ce.TargetEncoder(cols=['idzona', 'ciudad'])\n",
    "train = target_enc.fit_transform(X, y)\n",
    "train['precio'] = y"
   ]
  },
  {
   "cell_type": "code",
   "execution_count": 12,
   "metadata": {},
   "outputs": [],
   "source": [
    "test = target_enc.transform(test)"
   ]
  },
  {
   "cell_type": "code",
   "execution_count": 13,
   "metadata": {},
   "outputs": [
    {
     "name": "stdout",
     "output_type": "stream",
     "text": [
      "(240000, 76)\n",
      "(60000, 75)\n"
     ]
    }
   ],
   "source": [
    "print(train.shape)\n",
    "print(test.shape)"
   ]
  },
  {
   "cell_type": "markdown",
   "metadata": {},
   "source": [
    "### Agregando Features"
   ]
  },
  {
   "cell_type": "markdown",
   "metadata": {},
   "source": [
    "#### Cantidad de amenities"
   ]
  },
  {
   "cell_type": "code",
   "execution_count": 14,
   "metadata": {},
   "outputs": [],
   "source": [
    "train['cant_amenities'] = train['usosmultiples'] + train['piscina'] + train['gimnasio']\n",
    "test['cant_amenities'] = test['usosmultiples'] + test['piscina'] + test['gimnasio']"
   ]
  },
  {
   "cell_type": "markdown",
   "metadata": {},
   "source": [
    "#### Año de publicación"
   ]
  },
  {
   "cell_type": "code",
   "execution_count": 15,
   "metadata": {},
   "outputs": [],
   "source": [
    "train['fecha'] = pd.to_datetime(train['fecha'])\n",
    "train['año'] = train['fecha'].dt.year\n",
    "\n",
    "test['fecha'] = pd.to_datetime(test['fecha'])\n",
    "test['año'] = test['fecha'].dt.year"
   ]
  },
  {
   "cell_type": "markdown",
   "metadata": {},
   "source": [
    "#### De la descripción"
   ]
  },
  {
   "cell_type": "code",
   "execution_count": 16,
   "metadata": {},
   "outputs": [],
   "source": [
    "buena_ubicacion = ['buena ubicacion', 'buena ubicación', 'excelente ubicación', 'excelente ubicacion', 'bien ubicada', 'bien ubicado']\n",
    "train['buena_ubicacion'] = train['descripcion'].apply(lambda x: 1 if any(word in x for word in buena_ubicacion ) else 0)\n",
    "test['buena_ubicacion'] = test['descripcion'].apply(lambda x: 1 if any(word in x for word in buena_ubicacion ) else 0)"
   ]
  },
  {
   "cell_type": "code",
   "execution_count": 17,
   "metadata": {},
   "outputs": [],
   "source": [
    "luminoso = ['luminoso', 'luminosa']\n",
    "train['luminoso'] = train['descripcion'].apply(lambda x: 1 if any(word in x for word in luminoso ) else 0)\n",
    "test['luminoso'] = test['descripcion'].apply(lambda x: 1 if any(word in x for word in luminoso ) else 0)"
   ]
  },
  {
   "cell_type": "code",
   "execution_count": 18,
   "metadata": {},
   "outputs": [],
   "source": [
    "jardin = ['jardin', 'jardín', 'parque', 'patio']\n",
    "train['jardin'] = train['descripcion'].apply(lambda x: 1 if any(word in x for word in luminoso ) else 0)\n",
    "test['jardin'] = test['descripcion'].apply(lambda x: 1 if any(word in x for word in luminoso ) else 0)"
   ]
  },
  {
   "cell_type": "code",
   "execution_count": 19,
   "metadata": {},
   "outputs": [],
   "source": [
    "balcon = ['balcon', 'balcón', 'terraza']\n",
    "train['balcon'] = train['descripcion'].apply(lambda x: 1 if any(word in x for word in luminoso ) else 0)\n",
    "test['balcon'] = test['descripcion'].apply(lambda x: 1 if any(word in x for word in luminoso ) else 0)"
   ]
  },
  {
   "cell_type": "markdown",
   "metadata": {},
   "source": [
    "#### Cercanías"
   ]
  },
  {
   "cell_type": "code",
   "execution_count": 21,
   "metadata": {},
   "outputs": [],
   "source": [
    "train['centroscomercialescercanos'] = train['centroscomercialescercanos'].map({1:2, 0:0})\n",
    "test['centroscomercialescercanos'] = test['centroscomercialescercanos'].map({1:2, 0:0})"
   ]
  },
  {
   "cell_type": "code",
   "execution_count": 22,
   "metadata": {},
   "outputs": [],
   "source": [
    "train['cercanias'] = train['centroscomercialescercanos'] + train['escuelascercanas']\n",
    "train['cercanias'] = train['cercanias'].astype(str)\n",
    "\n",
    "test['cercanias'] = test['centroscomercialescercanos'] + test['escuelascercanas']\n",
    "test['cercanias'] = test['cercanias'].astype(str)"
   ]
  },
  {
   "cell_type": "code",
   "execution_count": 23,
   "metadata": {},
   "outputs": [],
   "source": [
    "train = train.join(pd.get_dummies(train['cercanias'], prefix = 'cercania'))\n",
    "del train['cercanias']\n",
    "\n",
    "test = test.join(pd.get_dummies(test['cercanias'], prefix = 'cercania'))\n",
    "del test['cercanias']"
   ]
  },
  {
   "cell_type": "markdown",
   "metadata": {},
   "source": [
    "### Borrando columnas innecesarias"
   ]
  },
  {
   "cell_type": "code",
   "execution_count": 24,
   "metadata": {},
   "outputs": [],
   "source": [
    "del train['lat']\n",
    "del train['lng']\n",
    "del train['descripcion']\n",
    "del train['titulo']\n",
    "del train['direccion']\n",
    "del train['fecha']\n",
    "\n",
    "del test['lat']\n",
    "del test['lng']\n",
    "del test['descripcion']\n",
    "del test['titulo']\n",
    "del test['direccion']\n",
    "del test['fecha']"
   ]
  },
  {
   "cell_type": "code",
   "execution_count": 25,
   "metadata": {},
   "outputs": [
    {
     "name": "stdout",
     "output_type": "stream",
     "text": [
      "(240000, 80)\n",
      "(60000, 79)\n"
     ]
    }
   ],
   "source": [
    "print(train.shape)\n",
    "print(test.shape)"
   ]
  },
  {
   "cell_type": "markdown",
   "metadata": {},
   "source": [
    "### Dividiendo por año"
   ]
  },
  {
   "cell_type": "code",
   "execution_count": 26,
   "metadata": {},
   "outputs": [],
   "source": [
    "train_2012 = train[train['año'] == 2012]\n",
    "train_2013 = train[train['año'] == 2013]\n",
    "train_2014 = train[train['año'] == 2014]\n",
    "train_2015 = train[train['año'] == 2015]\n",
    "train_2016 = train[train['año'] == 2016]\n",
    "\n",
    "test_2012 = test[test['año'] == 2012]\n",
    "test_2013 = test[test['año'] == 2013]\n",
    "test_2014 = test[test['año'] == 2014]\n",
    "test_2015 = test[test['año'] == 2015]\n",
    "test_2016 = test[test['año'] == 2016]"
   ]
  },
  {
   "cell_type": "markdown",
   "metadata": {},
   "source": [
    "## KNN"
   ]
  },
  {
   "cell_type": "code",
   "execution_count": 27,
   "metadata": {},
   "outputs": [],
   "source": [
    "def KNN(train, param_grid):\n",
    "    KNN = KNeighborsRegressor()\n",
    "    X = train.drop(['precio'], axis=1)\n",
    "    y = train['precio']\n",
    "    grid = GridSearchCV(KNN, param_grid, cv=5, scoring='neg_mean_absolute_error')\n",
    "    grid.fit(X, y)\n",
    "    KNN = grid.best_estimator_\n",
    "    print(grid.best_params_)\n",
    "    print(grid.best_score_)\n",
    "    return KNN"
   ]
  },
  {
   "cell_type": "code",
   "execution_count": null,
   "metadata": {
    "scrolled": true
   },
   "outputs": [],
   "source": [
    "k_valores = list(range(1, 21))\n",
    "param_grid = dict(n_neighbors=k_valores)\n",
    "KNN_2012 = KNN(train_2012, param_grid)\n",
    "KNN_2013 = KNN(train_2013, param_grid)\n",
    "KNN_2014 = KNN(train_2014, param_grid)\n",
    "KNN_2015 = KNN(train_2015, param_grid)\n",
    "KNN_2016 = KNN(train_2016, param_grid)"
   ]
  },
  {
   "cell_type": "markdown",
   "metadata": {},
   "source": [
    "## XGBoost"
   ]
  },
  {
   "cell_type": "markdown",
   "metadata": {},
   "source": [
    "### Tuneo de hiperparámetros"
   ]
  },
  {
   "cell_type": "code",
   "execution_count": 28,
   "metadata": {},
   "outputs": [],
   "source": [
    "def train_set(train,test):\n",
    "    X = train.drop(['precio'], axis=1)\n",
    "    y = train['precio']\n",
    "    X_train, X_val, y_train, y_val = train_test_split(X, y, test_size=0.4, random_state=1)\n",
    "    print(\"Train shapes: X = \" + str(X_train.shape) + \" y = \" + str(y_train.shape))\n",
    "    print(\"Validation shapes: X = \" + str(X_val.shape) +  \" y = \" + str(y_val.shape))\n",
    "    print(\"Test shape: \" + str(test.shape))\n",
    "    return X, y, X_val, y_val"
   ]
  },
  {
   "cell_type": "code",
   "execution_count": 29,
   "metadata": {},
   "outputs": [
    {
     "name": "stdout",
     "output_type": "stream",
     "text": [
      "Train shapes: X = (14120, 79) y = (14120,)\n",
      "Validation shapes: X = (9414, 79) y = (9414,)\n",
      "Test shape: (5899, 79)\n",
      "Train shapes: X = (18231, 79) y = (18231,)\n",
      "Validation shapes: X = (12155, 79) y = (12155,)\n",
      "Test shape: (7592, 79)\n",
      "Train shapes: X = (24343, 79) y = (24343,)\n",
      "Validation shapes: X = (16229, 79) y = (16229,)\n",
      "Test shape: (10018, 79)\n",
      "Train shapes: X = (30882, 79) y = (30882,)\n",
      "Validation shapes: X = (20588, 79) y = (20588,)\n",
      "Test shape: (13017, 79)\n",
      "Train shapes: X = (56422, 79) y = (56422,)\n",
      "Validation shapes: X = (37616, 79) y = (37616,)\n",
      "Test shape: (23474, 79)\n"
     ]
    }
   ],
   "source": [
    "x_2012, y_2012, x_2012_val, y_2012_val = train_set(train_2012,test_2012)\n",
    "x_2013, y_2013, x_2013_val, y_2013_val = train_set(train_2013,test_2013)\n",
    "x_2014, y_2014, x_2014_val, y_2014_val = train_set(train_2014,test_2014)\n",
    "x_2015, y_2015, x_2015_val, y_2015_val = train_set(train_2015,test_2015)\n",
    "x_2016, y_2016, x_2016_val, y_2016_val = train_set(train_2016,test_2016)"
   ]
  },
  {
   "cell_type": "code",
   "execution_count": 30,
   "metadata": {},
   "outputs": [],
   "source": [
    "def xgb_evaluate(max_depth, gamma, colsample_bytree,seed,min_child_weight,n_estimators,\n",
    "                  reg_alpha,reg_lambda,subsample,learning_rate):\n",
    "    params = {'eval_metric': 'rmse',\n",
    "              'max_depth': int(max_depth),\n",
    "              'subsample': subsample,\n",
    "              'eta': 0.1,\n",
    "              'gamma': gamma,\n",
    "              'colsample_bytree': colsample_bytree,\n",
    "              \"seed\": int(seed),\n",
    "              \"min_child_weight\": min_child_weight,\n",
    "              \"n_estimators\": n_estimators,\n",
    "              \"reg_alpha\": reg_alpha,\n",
    "              \"reg_lambda\": reg_lambda,\n",
    "              \"learning_rate\": learning_rate\n",
    "             }\n",
    "    # Used around 1000 boosting rounds in the full model\n",
    "    cv_result = xgb.cv(params, dtrain, num_boost_round=100, nfold=3)    \n",
    "    \n",
    "    # Bayesian optimization only knows how to maximize, not minimize, so return the negative RMSE\n",
    "    return -1.0 * cv_result['test-rmse-mean'].iloc[-1]"
   ]
  },
  {
   "cell_type": "code",
   "execution_count": 31,
   "metadata": {},
   "outputs": [],
   "source": [
    "def optimize(sett):\n",
    "    dtrain = sett\n",
    "    xgb_bo = BayesianOptimization(xgb_evaluate, {'max_depth': (3, 7), \n",
    "                                             'gamma': (0, 1),\n",
    "                                             'colsample_bytree': (0.3, 0.9),\n",
    "                                             \"seed\": (10,50),\n",
    "                                             \"min_child_weight\": (0.4,1.5),\n",
    "                                             \"n_estimators\":(100,10000),                                                                    \n",
    "                                             \"reg_alpha\":(0.2,0.75),\n",
    "                                             \"reg_lambda\": (0.2,0.8),\n",
    "                                             \"subsample\" : (0.3, 0.8),\n",
    "                                             \"learning_rate\": (0.01,0.07),\n",
    "                                            })\n",
    "    # Se probo con 3 puntos iniciales y 10 iteraciones, deberiamos probar con mas en ambas\n",
    "    # La prox iteracion en casa probar 100 y 10000\n",
    "    xgb_bo.maximize(init_points=3, n_iter=10, acq='ei')\n",
    "    params = xgb_bo.max['params']\n",
    "    params['max_depth'] = int(params['max_depth'])\n",
    "    params[\"seed\"] = int(params[\"seed\"])\n",
    "    params[\"n_estimators\"] = int(params[\"n_estimators\"])\n",
    "    return params"
   ]
  },
  {
   "cell_type": "code",
   "execution_count": 32,
   "metadata": {},
   "outputs": [
    {
     "name": "stderr",
     "output_type": "stream",
     "text": [
      "/home/lautaro/.local/lib/python3.6/site-packages/xgboost/core.py:587: FutureWarning: Series.base is deprecated and will be removed in a future version\n",
      "  if getattr(data, 'base', None) is not None and \\\n",
      "/home/lautaro/.local/lib/python3.6/site-packages/xgboost/core.py:588: FutureWarning: Series.base is deprecated and will be removed in a future version\n",
      "  data.base is not None and isinstance(data, np.ndarray) \\\n"
     ]
    }
   ],
   "source": [
    "import xgboost as xgb\n",
    "\n",
    "dtrain_2012 = xgb.DMatrix(x_2012, label=y_2012)\n",
    "dtrain_2013 = xgb.DMatrix(x_2013, label=y_2013)\n",
    "dtrain_2014 = xgb.DMatrix(x_2014, label=y_2014)\n",
    "dtrain_2015 = xgb.DMatrix(x_2015, label=y_2015)\n",
    "dtrain_2016 = xgb.DMatrix(x_2016, label=y_2016)"
   ]
  },
  {
   "cell_type": "code",
   "execution_count": 33,
   "metadata": {
    "scrolled": true
   },
   "outputs": [
    {
     "name": "stdout",
     "output_type": "stream",
     "text": [
      "|   iter    |  target   | colsam... |   gamma   | learni... | max_depth | min_ch... | n_esti... | reg_alpha | reg_la... |   seed    | subsample |\n",
      "-------------------------------------------------------------------------------------------------------------------------------------------------\n",
      "| \u001b[0m 1       \u001b[0m | \u001b[0m-8.509e+0\u001b[0m | \u001b[0m 0.7917  \u001b[0m | \u001b[0m 0.4141  \u001b[0m | \u001b[0m 0.05016 \u001b[0m | \u001b[0m 6.436   \u001b[0m | \u001b[0m 0.878   \u001b[0m | \u001b[0m 2.321e+0\u001b[0m | \u001b[0m 0.275   \u001b[0m | \u001b[0m 0.6328  \u001b[0m | \u001b[0m 20.29   \u001b[0m | \u001b[0m 0.4794  \u001b[0m |\n",
      "| \u001b[0m 2       \u001b[0m | \u001b[0m-1.374e+0\u001b[0m | \u001b[0m 0.3899  \u001b[0m | \u001b[0m 0.7415  \u001b[0m | \u001b[0m 0.01067 \u001b[0m | \u001b[0m 6.607   \u001b[0m | \u001b[0m 0.9903  \u001b[0m | \u001b[0m 5.272e+0\u001b[0m | \u001b[0m 0.4276  \u001b[0m | \u001b[0m 0.6156  \u001b[0m | \u001b[0m 15.54   \u001b[0m | \u001b[0m 0.7937  \u001b[0m |\n",
      "| \u001b[0m 3       \u001b[0m | \u001b[0m-9.08e+05\u001b[0m | \u001b[0m 0.4872  \u001b[0m | \u001b[0m 0.3818  \u001b[0m | \u001b[0m 0.03285 \u001b[0m | \u001b[0m 5.813   \u001b[0m | \u001b[0m 0.5812  \u001b[0m | \u001b[0m 3.867e+0\u001b[0m | \u001b[0m 0.2576  \u001b[0m | \u001b[0m 0.4213  \u001b[0m | \u001b[0m 26.97   \u001b[0m | \u001b[0m 0.7455  \u001b[0m |\n",
      "| \u001b[0m 4       \u001b[0m | \u001b[0m-1.115e+0\u001b[0m | \u001b[0m 0.3797  \u001b[0m | \u001b[0m 0.1561  \u001b[0m | \u001b[0m 0.02256 \u001b[0m | \u001b[0m 3.021   \u001b[0m | \u001b[0m 0.648   \u001b[0m | \u001b[0m 1.227e+0\u001b[0m | \u001b[0m 0.3939  \u001b[0m | \u001b[0m 0.4359  \u001b[0m | \u001b[0m 42.81   \u001b[0m | \u001b[0m 0.307   \u001b[0m |\n",
      "| \u001b[0m 5       \u001b[0m | \u001b[0m-9.814e+0\u001b[0m | \u001b[0m 0.796   \u001b[0m | \u001b[0m 0.06684 \u001b[0m | \u001b[0m 0.03289 \u001b[0m | \u001b[0m 3.423   \u001b[0m | \u001b[0m 0.7747  \u001b[0m | \u001b[0m 6.608e+0\u001b[0m | \u001b[0m 0.6122  \u001b[0m | \u001b[0m 0.2551  \u001b[0m | \u001b[0m 38.79   \u001b[0m | \u001b[0m 0.5976  \u001b[0m |\n",
      "| \u001b[0m 6       \u001b[0m | \u001b[0m-9.909e+0\u001b[0m | \u001b[0m 0.7371  \u001b[0m | \u001b[0m 0.3044  \u001b[0m | \u001b[0m 0.02038 \u001b[0m | \u001b[0m 5.566   \u001b[0m | \u001b[0m 0.6975  \u001b[0m | \u001b[0m 3.687e+0\u001b[0m | \u001b[0m 0.2292  \u001b[0m | \u001b[0m 0.2036  \u001b[0m | \u001b[0m 27.73   \u001b[0m | \u001b[0m 0.5072  \u001b[0m |\n",
      "| \u001b[0m 7       \u001b[0m | \u001b[0m-9.575e+0\u001b[0m | \u001b[0m 0.3109  \u001b[0m | \u001b[0m 0.5701  \u001b[0m | \u001b[0m 0.05697 \u001b[0m | \u001b[0m 3.707   \u001b[0m | \u001b[0m 1.054   \u001b[0m | \u001b[0m 7.289e+0\u001b[0m | \u001b[0m 0.2918  \u001b[0m | \u001b[0m 0.6774  \u001b[0m | \u001b[0m 24.98   \u001b[0m | \u001b[0m 0.3977  \u001b[0m |\n",
      "| \u001b[0m 8       \u001b[0m | \u001b[0m-8.738e+0\u001b[0m | \u001b[0m 0.8928  \u001b[0m | \u001b[0m 0.1445  \u001b[0m | \u001b[0m 0.04304 \u001b[0m | \u001b[0m 5.902   \u001b[0m | \u001b[0m 0.9061  \u001b[0m | \u001b[0m 2.06e+03\u001b[0m | \u001b[0m 0.3089  \u001b[0m | \u001b[0m 0.7893  \u001b[0m | \u001b[0m 37.96   \u001b[0m | \u001b[0m 0.5575  \u001b[0m |\n",
      "| \u001b[0m 9       \u001b[0m | \u001b[0m-8.527e+0\u001b[0m | \u001b[0m 0.815   \u001b[0m | \u001b[0m 0.3509  \u001b[0m | \u001b[0m 0.04824 \u001b[0m | \u001b[0m 6.311   \u001b[0m | \u001b[0m 0.8843  \u001b[0m | \u001b[0m 2.26e+03\u001b[0m | \u001b[0m 0.283   \u001b[0m | \u001b[0m 0.6696  \u001b[0m | \u001b[0m 24.46   \u001b[0m | \u001b[0m 0.4977  \u001b[0m |\n",
      "| \u001b[0m 10      \u001b[0m | \u001b[0m-8.533e+0\u001b[0m | \u001b[0m 0.6996  \u001b[0m | \u001b[0m 0.5258  \u001b[0m | \u001b[0m 0.04501 \u001b[0m | \u001b[0m 6.26    \u001b[0m | \u001b[0m 1.272   \u001b[0m | \u001b[0m 2.302e+0\u001b[0m | \u001b[0m 0.5684  \u001b[0m | \u001b[0m 0.4907  \u001b[0m | \u001b[0m 20.26   \u001b[0m | \u001b[0m 0.5736  \u001b[0m |\n",
      "| \u001b[0m 11      \u001b[0m | \u001b[0m-1.158e+0\u001b[0m | \u001b[0m 0.613   \u001b[0m | \u001b[0m 0.4224  \u001b[0m | \u001b[0m 0.0136  \u001b[0m | \u001b[0m 6.813   \u001b[0m | \u001b[0m 1.253   \u001b[0m | \u001b[0m 2.341e+0\u001b[0m | \u001b[0m 0.2425  \u001b[0m | \u001b[0m 0.3137  \u001b[0m | \u001b[0m 28.86   \u001b[0m | \u001b[0m 0.7716  \u001b[0m |\n",
      "| \u001b[0m 12      \u001b[0m | \u001b[0m-9.461e+0\u001b[0m | \u001b[0m 0.8766  \u001b[0m | \u001b[0m 0.08501 \u001b[0m | \u001b[0m 0.04395 \u001b[0m | \u001b[0m 3.072   \u001b[0m | \u001b[0m 0.5475  \u001b[0m | \u001b[0m 6.151e+0\u001b[0m | \u001b[0m 0.6411  \u001b[0m | \u001b[0m 0.477   \u001b[0m | \u001b[0m 29.9    \u001b[0m | \u001b[0m 0.3875  \u001b[0m |\n",
      "| \u001b[0m 13      \u001b[0m | \u001b[0m-9.029e+0\u001b[0m | \u001b[0m 0.4138  \u001b[0m | \u001b[0m 0.974   \u001b[0m | \u001b[0m 0.05957 \u001b[0m | \u001b[0m 4.157   \u001b[0m | \u001b[0m 1.499   \u001b[0m | \u001b[0m 3.155e+0\u001b[0m | \u001b[0m 0.398   \u001b[0m | \u001b[0m 0.4595  \u001b[0m | \u001b[0m 15.41   \u001b[0m | \u001b[0m 0.3467  \u001b[0m |\n",
      "=================================================================================================================================================\n",
      "|   iter    |  target   | colsam... |   gamma   | learni... | max_depth | min_ch... | n_esti... | reg_alpha | reg_la... |   seed    | subsample |\n",
      "-------------------------------------------------------------------------------------------------------------------------------------------------\n",
      "| \u001b[0m 1       \u001b[0m | \u001b[0m-1.074e+0\u001b[0m | \u001b[0m 0.6046  \u001b[0m | \u001b[0m 0.2346  \u001b[0m | \u001b[0m 0.02163 \u001b[0m | \u001b[0m 3.365   \u001b[0m | \u001b[0m 0.8228  \u001b[0m | \u001b[0m 7.599e+0\u001b[0m | \u001b[0m 0.5698  \u001b[0m | \u001b[0m 0.3067  \u001b[0m | \u001b[0m 29.65   \u001b[0m | \u001b[0m 0.3791  \u001b[0m |\n",
      "| \u001b[95m 2       \u001b[0m | \u001b[95m-1.015e+0\u001b[0m | \u001b[95m 0.7419  \u001b[0m | \u001b[95m 0.9428  \u001b[0m | \u001b[95m 0.02652 \u001b[0m | \u001b[95m 3.284   \u001b[0m | \u001b[95m 1.021   \u001b[0m | \u001b[95m 9.376e+0\u001b[0m | \u001b[95m 0.4281  \u001b[0m | \u001b[95m 0.3287  \u001b[0m | \u001b[95m 19.96   \u001b[0m | \u001b[95m 0.7846  \u001b[0m |\n",
      "| \u001b[95m 3       \u001b[0m | \u001b[95m-9.345e+0\u001b[0m | \u001b[95m 0.3202  \u001b[0m | \u001b[95m 0.564   \u001b[0m | \u001b[95m 0.0587  \u001b[0m | \u001b[95m 3.63    \u001b[0m | \u001b[95m 1.258   \u001b[0m | \u001b[95m 6.462e+0\u001b[0m | \u001b[95m 0.3176  \u001b[0m | \u001b[95m 0.3959  \u001b[0m | \u001b[95m 40.28   \u001b[0m | \u001b[95m 0.5077  \u001b[0m |\n",
      "| \u001b[0m 4       \u001b[0m | \u001b[0m-9.362e+0\u001b[0m | \u001b[0m 0.352   \u001b[0m | \u001b[0m 0.7227  \u001b[0m | \u001b[0m 0.05171 \u001b[0m | \u001b[0m 3.531   \u001b[0m | \u001b[0m 1.369   \u001b[0m | \u001b[0m 1.994e+0\u001b[0m | \u001b[0m 0.5418  \u001b[0m | \u001b[0m 0.4252  \u001b[0m | \u001b[0m 35.99   \u001b[0m | \u001b[0m 0.4863  \u001b[0m |\n",
      "| \u001b[95m 5       \u001b[0m | \u001b[95m-9.23e+05\u001b[0m | \u001b[95m 0.3369  \u001b[0m | \u001b[95m 0.4657  \u001b[0m | \u001b[95m 0.06038 \u001b[0m | \u001b[95m 3.548   \u001b[0m | \u001b[95m 0.7208  \u001b[0m | \u001b[95m 8.695e+0\u001b[0m | \u001b[95m 0.623   \u001b[0m | \u001b[95m 0.3832  \u001b[0m | \u001b[95m 24.06   \u001b[0m | \u001b[95m 0.5056  \u001b[0m |\n",
      "| \u001b[0m 6       \u001b[0m | \u001b[0m-1.015e+0\u001b[0m | \u001b[0m 0.8394  \u001b[0m | \u001b[0m 0.3621  \u001b[0m | \u001b[0m 0.02598 \u001b[0m | \u001b[0m 3.447   \u001b[0m | \u001b[0m 0.884   \u001b[0m | \u001b[0m 5.017e+0\u001b[0m | \u001b[0m 0.5656  \u001b[0m | \u001b[0m 0.2496  \u001b[0m | \u001b[0m 17.59   \u001b[0m | \u001b[0m 0.5772  \u001b[0m |\n",
      "| \u001b[95m 7       \u001b[0m | \u001b[95m-8.604e+0\u001b[0m | \u001b[95m 0.3154  \u001b[0m | \u001b[95m 0.8586  \u001b[0m | \u001b[95m 0.05728 \u001b[0m | \u001b[95m 5.532   \u001b[0m | \u001b[95m 0.4008  \u001b[0m | \u001b[95m 5.586e+0\u001b[0m | \u001b[95m 0.3789  \u001b[0m | \u001b[95m 0.4871  \u001b[0m | \u001b[95m 31.48   \u001b[0m | \u001b[95m 0.4522  \u001b[0m |\n",
      "| \u001b[95m 8       \u001b[0m | \u001b[95m-8.312e+0\u001b[0m | \u001b[95m 0.3746  \u001b[0m | \u001b[95m 0.4706  \u001b[0m | \u001b[95m 0.06891 \u001b[0m | \u001b[95m 6.785   \u001b[0m | \u001b[95m 0.5385  \u001b[0m | \u001b[95m 2.482e+0\u001b[0m | \u001b[95m 0.3506  \u001b[0m | \u001b[95m 0.4368  \u001b[0m | \u001b[95m 49.31   \u001b[0m | \u001b[95m 0.3401  \u001b[0m |\n",
      "| \u001b[0m 9       \u001b[0m | \u001b[0m-8.717e+0\u001b[0m | \u001b[0m 0.457   \u001b[0m | \u001b[0m 0.03025 \u001b[0m | \u001b[0m 0.03044 \u001b[0m | \u001b[0m 6.495   \u001b[0m | \u001b[0m 0.9373  \u001b[0m | \u001b[0m 815.2   \u001b[0m | \u001b[0m 0.6809  \u001b[0m | \u001b[0m 0.6805  \u001b[0m | \u001b[0m 19.22   \u001b[0m | \u001b[0m 0.799   \u001b[0m |\n",
      "| \u001b[0m 10      \u001b[0m | \u001b[0m-1.323e+0\u001b[0m | \u001b[0m 0.6851  \u001b[0m | \u001b[0m 0.592   \u001b[0m | \u001b[0m 0.01071 \u001b[0m | \u001b[0m 6.171   \u001b[0m | \u001b[0m 1.485   \u001b[0m | \u001b[0m 7.621e+0\u001b[0m | \u001b[0m 0.5417  \u001b[0m | \u001b[0m 0.7822  \u001b[0m | \u001b[0m 28.11   \u001b[0m | \u001b[0m 0.4472  \u001b[0m |\n",
      "| \u001b[0m 11      \u001b[0m | \u001b[0m-9.598e+0\u001b[0m | \u001b[0m 0.6391  \u001b[0m | \u001b[0m 0.317   \u001b[0m | \u001b[0m 0.01993 \u001b[0m | \u001b[0m 6.102   \u001b[0m | \u001b[0m 1.301   \u001b[0m | \u001b[0m 1.306e+0\u001b[0m | \u001b[0m 0.6713  \u001b[0m | \u001b[0m 0.275   \u001b[0m | \u001b[0m 47.49   \u001b[0m | \u001b[0m 0.7496  \u001b[0m |\n",
      "| \u001b[0m 12      \u001b[0m | \u001b[0m-8.584e+0\u001b[0m | \u001b[0m 0.6357  \u001b[0m | \u001b[0m 0.5291  \u001b[0m | \u001b[0m 0.06963 \u001b[0m | \u001b[0m 4.975   \u001b[0m | \u001b[0m 0.4146  \u001b[0m | \u001b[0m 1.767e+0\u001b[0m | \u001b[0m 0.5894  \u001b[0m | \u001b[0m 0.5511  \u001b[0m | \u001b[0m 44.88   \u001b[0m | \u001b[0m 0.5861  \u001b[0m |\n",
      "| \u001b[0m 13      \u001b[0m | \u001b[0m-8.601e+0\u001b[0m | \u001b[0m 0.34    \u001b[0m | \u001b[0m 0.2004  \u001b[0m | \u001b[0m 0.05347 \u001b[0m | \u001b[0m 5.323   \u001b[0m | \u001b[0m 1.06    \u001b[0m | \u001b[0m 4.584e+0\u001b[0m | \u001b[0m 0.4418  \u001b[0m | \u001b[0m 0.4842  \u001b[0m | \u001b[0m 42.28   \u001b[0m | \u001b[0m 0.4672  \u001b[0m |\n",
      "=================================================================================================================================================\n",
      "|   iter    |  target   | colsam... |   gamma   | learni... | max_depth | min_ch... | n_esti... | reg_alpha | reg_la... |   seed    | subsample |\n",
      "-------------------------------------------------------------------------------------------------------------------------------------------------\n",
      "| \u001b[0m 1       \u001b[0m | \u001b[0m-1.003e+0\u001b[0m | \u001b[0m 0.678   \u001b[0m | \u001b[0m 0.9095  \u001b[0m | \u001b[0m 0.02972 \u001b[0m | \u001b[0m 5.366   \u001b[0m | \u001b[0m 0.4466  \u001b[0m | \u001b[0m 7.237e+0\u001b[0m | \u001b[0m 0.2884  \u001b[0m | \u001b[0m 0.7544  \u001b[0m | \u001b[0m 11.99   \u001b[0m | \u001b[0m 0.5291  \u001b[0m |\n",
      "| \u001b[95m 2       \u001b[0m | \u001b[95m-9.393e+0\u001b[0m | \u001b[95m 0.8656  \u001b[0m | \u001b[95m 0.8628  \u001b[0m | \u001b[95m 0.03974 \u001b[0m | \u001b[95m 6.626   \u001b[0m | \u001b[95m 1.252   \u001b[0m | \u001b[95m 6.544e+0\u001b[0m | \u001b[95m 0.2315  \u001b[0m | \u001b[95m 0.5245  \u001b[0m | \u001b[95m 46.62   \u001b[0m | \u001b[95m 0.5815  \u001b[0m |\n",
      "| \u001b[0m 3       \u001b[0m | \u001b[0m-1.036e+0\u001b[0m | \u001b[0m 0.8339  \u001b[0m | \u001b[0m 0.5078  \u001b[0m | \u001b[0m 0.0489  \u001b[0m | \u001b[0m 3.079   \u001b[0m | \u001b[0m 1.356   \u001b[0m | \u001b[0m 681.0   \u001b[0m | \u001b[0m 0.3858  \u001b[0m | \u001b[0m 0.7723  \u001b[0m | \u001b[0m 13.48   \u001b[0m | \u001b[0m 0.5014  \u001b[0m |\n"
     ]
    },
    {
     "name": "stdout",
     "output_type": "stream",
     "text": [
      "| \u001b[0m 4       \u001b[0m | \u001b[0m-1.025e+0\u001b[0m | \u001b[0m 0.3491  \u001b[0m | \u001b[0m 0.5575  \u001b[0m | \u001b[0m 0.06492 \u001b[0m | \u001b[0m 3.559   \u001b[0m | \u001b[0m 1.47    \u001b[0m | \u001b[0m 408.6   \u001b[0m | \u001b[0m 0.4765  \u001b[0m | \u001b[0m 0.6454  \u001b[0m | \u001b[0m 19.13   \u001b[0m | \u001b[0m 0.3657  \u001b[0m |\n",
      "| \u001b[0m 5       \u001b[0m | \u001b[0m-1.04e+06\u001b[0m | \u001b[0m 0.7005  \u001b[0m | \u001b[0m 0.8194  \u001b[0m | \u001b[0m 0.04574 \u001b[0m | \u001b[0m 3.79    \u001b[0m | \u001b[0m 0.7593  \u001b[0m | \u001b[0m 4.631e+0\u001b[0m | \u001b[0m 0.5427  \u001b[0m | \u001b[0m 0.6937  \u001b[0m | \u001b[0m 25.6    \u001b[0m | \u001b[0m 0.5833  \u001b[0m |\n",
      "| \u001b[0m 6       \u001b[0m | \u001b[0m-1.021e+0\u001b[0m | \u001b[0m 0.8712  \u001b[0m | \u001b[0m 0.8589  \u001b[0m | \u001b[0m 0.03359 \u001b[0m | \u001b[0m 4.547   \u001b[0m | \u001b[0m 0.7072  \u001b[0m | \u001b[0m 6.572e+0\u001b[0m | \u001b[0m 0.5827  \u001b[0m | \u001b[0m 0.5438  \u001b[0m | \u001b[0m 37.57   \u001b[0m | \u001b[0m 0.3588  \u001b[0m |\n",
      "| \u001b[0m 7       \u001b[0m | \u001b[0m-1.068e+0\u001b[0m | \u001b[0m 0.3157  \u001b[0m | \u001b[0m 0.7945  \u001b[0m | \u001b[0m 0.04778 \u001b[0m | \u001b[0m 3.386   \u001b[0m | \u001b[0m 0.5781  \u001b[0m | \u001b[0m 7.624e+0\u001b[0m | \u001b[0m 0.4924  \u001b[0m | \u001b[0m 0.2497  \u001b[0m | \u001b[0m 23.55   \u001b[0m | \u001b[0m 0.751   \u001b[0m |\n",
      "| \u001b[0m 8       \u001b[0m | \u001b[0m-9.857e+0\u001b[0m | \u001b[0m 0.4681  \u001b[0m | \u001b[0m 0.8413  \u001b[0m | \u001b[0m 0.0544  \u001b[0m | \u001b[0m 4.287   \u001b[0m | \u001b[0m 1.137   \u001b[0m | \u001b[0m 5.406e+0\u001b[0m | \u001b[0m 0.7472  \u001b[0m | \u001b[0m 0.3315  \u001b[0m | \u001b[0m 38.0    \u001b[0m | \u001b[0m 0.4147  \u001b[0m |\n",
      "| \u001b[0m 9       \u001b[0m | \u001b[0m-1.094e+0\u001b[0m | \u001b[0m 0.464   \u001b[0m | \u001b[0m 0.5656  \u001b[0m | \u001b[0m 0.02511 \u001b[0m | \u001b[0m 4.424   \u001b[0m | \u001b[0m 0.5028  \u001b[0m | \u001b[0m 9.961e+0\u001b[0m | \u001b[0m 0.2516  \u001b[0m | \u001b[0m 0.6219  \u001b[0m | \u001b[0m 18.59   \u001b[0m | \u001b[0m 0.4509  \u001b[0m |\n",
      "| \u001b[0m 10      \u001b[0m | \u001b[0m-1.01e+06\u001b[0m | \u001b[0m 0.6176  \u001b[0m | \u001b[0m 0.5006  \u001b[0m | \u001b[0m 0.02866 \u001b[0m | \u001b[0m 5.424   \u001b[0m | \u001b[0m 1.002   \u001b[0m | \u001b[0m 1.413e+0\u001b[0m | \u001b[0m 0.3795  \u001b[0m | \u001b[0m 0.5893  \u001b[0m | \u001b[0m 16.78   \u001b[0m | \u001b[0m 0.5991  \u001b[0m |\n",
      "| \u001b[0m 11      \u001b[0m | \u001b[0m-9.514e+0\u001b[0m | \u001b[0m 0.8046  \u001b[0m | \u001b[0m 0.5844  \u001b[0m | \u001b[0m 0.05122 \u001b[0m | \u001b[0m 5.372   \u001b[0m | \u001b[0m 0.8774  \u001b[0m | \u001b[0m 8.337e+0\u001b[0m | \u001b[0m 0.3442  \u001b[0m | \u001b[0m 0.4706  \u001b[0m | \u001b[0m 36.37   \u001b[0m | \u001b[0m 0.3838  \u001b[0m |\n",
      "| \u001b[0m 12      \u001b[0m | \u001b[0m-1.01e+06\u001b[0m | \u001b[0m 0.4779  \u001b[0m | \u001b[0m 0.01539 \u001b[0m | \u001b[0m 0.04022 \u001b[0m | \u001b[0m 4.999   \u001b[0m | \u001b[0m 1.171   \u001b[0m | \u001b[0m 435.9   \u001b[0m | \u001b[0m 0.4897  \u001b[0m | \u001b[0m 0.5531  \u001b[0m | \u001b[0m 10.39   \u001b[0m | \u001b[0m 0.6175  \u001b[0m |\n",
      "| \u001b[0m 13      \u001b[0m | \u001b[0m-1.408e+0\u001b[0m | \u001b[0m 0.6796  \u001b[0m | \u001b[0m 0.147   \u001b[0m | \u001b[0m 0.01192 \u001b[0m | \u001b[0m 5.338   \u001b[0m | \u001b[0m 1.153   \u001b[0m | \u001b[0m 7.68e+03\u001b[0m | \u001b[0m 0.3664  \u001b[0m | \u001b[0m 0.3339  \u001b[0m | \u001b[0m 20.79   \u001b[0m | \u001b[0m 0.4632  \u001b[0m |\n",
      "=================================================================================================================================================\n",
      "|   iter    |  target   | colsam... |   gamma   | learni... | max_depth | min_ch... | n_esti... | reg_alpha | reg_la... |   seed    | subsample |\n",
      "-------------------------------------------------------------------------------------------------------------------------------------------------\n",
      "| \u001b[0m 1       \u001b[0m | \u001b[0m-1.014e+0\u001b[0m | \u001b[0m 0.8076  \u001b[0m | \u001b[0m 0.604   \u001b[0m | \u001b[0m 0.04268 \u001b[0m | \u001b[0m 5.378   \u001b[0m | \u001b[0m 1.129   \u001b[0m | \u001b[0m 4.698e+0\u001b[0m | \u001b[0m 0.4789  \u001b[0m | \u001b[0m 0.7424  \u001b[0m | \u001b[0m 43.79   \u001b[0m | \u001b[0m 0.3238  \u001b[0m |\n",
      "| \u001b[95m 2       \u001b[0m | \u001b[95m-9.826e+0\u001b[0m | \u001b[95m 0.6734  \u001b[0m | \u001b[95m 0.1326  \u001b[0m | \u001b[95m 0.06999 \u001b[0m | \u001b[95m 5.083   \u001b[0m | \u001b[95m 0.9729  \u001b[0m | \u001b[95m 3.242e+0\u001b[0m | \u001b[95m 0.7295  \u001b[0m | \u001b[95m 0.5797  \u001b[0m | \u001b[95m 33.73   \u001b[0m | \u001b[95m 0.4046  \u001b[0m |\n",
      "| \u001b[95m 3       \u001b[0m | \u001b[95m-9.636e+0\u001b[0m | \u001b[95m 0.4469  \u001b[0m | \u001b[95m 0.4869  \u001b[0m | \u001b[95m 0.06995 \u001b[0m | \u001b[95m 6.609   \u001b[0m | \u001b[95m 0.5414  \u001b[0m | \u001b[95m 4.25e+03\u001b[0m | \u001b[95m 0.5899  \u001b[0m | \u001b[95m 0.4891  \u001b[0m | \u001b[95m 23.2    \u001b[0m | \u001b[95m 0.6215  \u001b[0m |\n",
      "| \u001b[0m 4       \u001b[0m | \u001b[0m-9.76e+05\u001b[0m | \u001b[0m 0.7231  \u001b[0m | \u001b[0m 0.3344  \u001b[0m | \u001b[0m 0.05261 \u001b[0m | \u001b[0m 6.425   \u001b[0m | \u001b[0m 1.117   \u001b[0m | \u001b[0m 4.03e+03\u001b[0m | \u001b[0m 0.6538  \u001b[0m | \u001b[0m 0.7303  \u001b[0m | \u001b[0m 13.09   \u001b[0m | \u001b[0m 0.3281  \u001b[0m |\n",
      "| \u001b[0m 5       \u001b[0m | \u001b[0m-9.776e+0\u001b[0m | \u001b[0m 0.4093  \u001b[0m | \u001b[0m 0.7032  \u001b[0m | \u001b[0m 0.05289 \u001b[0m | \u001b[0m 6.105   \u001b[0m | \u001b[0m 1.385   \u001b[0m | \u001b[0m 4.242e+0\u001b[0m | \u001b[0m 0.2611  \u001b[0m | \u001b[0m 0.2894  \u001b[0m | \u001b[0m 22.6    \u001b[0m | \u001b[0m 0.7002  \u001b[0m |\n",
      "| \u001b[0m 6       \u001b[0m | \u001b[0m-1.157e+0\u001b[0m | \u001b[0m 0.8767  \u001b[0m | \u001b[0m 0.8693  \u001b[0m | \u001b[0m 0.03388 \u001b[0m | \u001b[0m 3.088   \u001b[0m | \u001b[0m 1.002   \u001b[0m | \u001b[0m 5.197e+0\u001b[0m | \u001b[0m 0.2338  \u001b[0m | \u001b[0m 0.3084  \u001b[0m | \u001b[0m 26.57   \u001b[0m | \u001b[0m 0.4505  \u001b[0m |\n",
      "| \u001b[0m 7       \u001b[0m | \u001b[0m-1.246e+0\u001b[0m | \u001b[0m 0.6256  \u001b[0m | \u001b[0m 0.5668  \u001b[0m | \u001b[0m 0.02481 \u001b[0m | \u001b[0m 3.17    \u001b[0m | \u001b[0m 1.397   \u001b[0m | \u001b[0m 1.506e+0\u001b[0m | \u001b[0m 0.2555  \u001b[0m | \u001b[0m 0.2077  \u001b[0m | \u001b[0m 41.87   \u001b[0m | \u001b[0m 0.7691  \u001b[0m |\n",
      "| \u001b[0m 8       \u001b[0m | \u001b[0m-1.003e+0\u001b[0m | \u001b[0m 0.7641  \u001b[0m | \u001b[0m 0.1852  \u001b[0m | \u001b[0m 0.04742 \u001b[0m | \u001b[0m 5.519   \u001b[0m | \u001b[0m 0.6408  \u001b[0m | \u001b[0m 7.492e+0\u001b[0m | \u001b[0m 0.2203  \u001b[0m | \u001b[0m 0.4651  \u001b[0m | \u001b[0m 29.08   \u001b[0m | \u001b[0m 0.3177  \u001b[0m |\n",
      "| \u001b[0m 9       \u001b[0m | \u001b[0m-1.008e+0\u001b[0m | \u001b[0m 0.7156  \u001b[0m | \u001b[0m 0.2564  \u001b[0m | \u001b[0m 0.04317 \u001b[0m | \u001b[0m 5.892   \u001b[0m | \u001b[0m 1.164   \u001b[0m | \u001b[0m 8.093e+0\u001b[0m | \u001b[0m 0.7401  \u001b[0m | \u001b[0m 0.5586  \u001b[0m | \u001b[0m 14.1    \u001b[0m | \u001b[0m 0.6902  \u001b[0m |\n",
      "| \u001b[0m 10      \u001b[0m | \u001b[0m-1.001e+0\u001b[0m | \u001b[0m 0.611   \u001b[0m | \u001b[0m 0.6178  \u001b[0m | \u001b[0m 0.0349  \u001b[0m | \u001b[0m 6.059   \u001b[0m | \u001b[0m 1.419   \u001b[0m | \u001b[0m 9.449e+0\u001b[0m | \u001b[0m 0.5816  \u001b[0m | \u001b[0m 0.5627  \u001b[0m | \u001b[0m 33.61   \u001b[0m | \u001b[0m 0.5653  \u001b[0m |\n",
      "| \u001b[0m 11      \u001b[0m | \u001b[0m-1.089e+0\u001b[0m | \u001b[0m 0.5108  \u001b[0m | \u001b[0m 0.07964 \u001b[0m | \u001b[0m 0.02396 \u001b[0m | \u001b[0m 6.224   \u001b[0m | \u001b[0m 1.495   \u001b[0m | \u001b[0m 7.1e+03 \u001b[0m | \u001b[0m 0.3606  \u001b[0m | \u001b[0m 0.204   \u001b[0m | \u001b[0m 49.75   \u001b[0m | \u001b[0m 0.5392  \u001b[0m |\n",
      "| \u001b[0m 12      \u001b[0m | \u001b[0m-1.022e+0\u001b[0m | \u001b[0m 0.7037  \u001b[0m | \u001b[0m 0.7726  \u001b[0m | \u001b[0m 0.06352 \u001b[0m | \u001b[0m 4.177   \u001b[0m | \u001b[0m 0.8042  \u001b[0m | \u001b[0m 2.61e+03\u001b[0m | \u001b[0m 0.4226  \u001b[0m | \u001b[0m 0.5364  \u001b[0m | \u001b[0m 32.27   \u001b[0m | \u001b[0m 0.3543  \u001b[0m |\n",
      "| \u001b[0m 13      \u001b[0m | \u001b[0m-1.242e+0\u001b[0m | \u001b[0m 0.8326  \u001b[0m | \u001b[0m 0.9156  \u001b[0m | \u001b[0m 0.02021 \u001b[0m | \u001b[0m 4.039   \u001b[0m | \u001b[0m 0.9069  \u001b[0m | \u001b[0m 8.428e+0\u001b[0m | \u001b[0m 0.3887  \u001b[0m | \u001b[0m 0.6501  \u001b[0m | \u001b[0m 37.41   \u001b[0m | \u001b[0m 0.3851  \u001b[0m |\n",
      "=================================================================================================================================================\n",
      "|   iter    |  target   | colsam... |   gamma   | learni... | max_depth | min_ch... | n_esti... | reg_alpha | reg_la... |   seed    | subsample |\n",
      "-------------------------------------------------------------------------------------------------------------------------------------------------\n",
      "| \u001b[0m 1       \u001b[0m | \u001b[0m-1.393e+0\u001b[0m | \u001b[0m 0.7387  \u001b[0m | \u001b[0m 0.1195  \u001b[0m | \u001b[0m 0.01813 \u001b[0m | \u001b[0m 4.444   \u001b[0m | \u001b[0m 1.15    \u001b[0m | \u001b[0m 6.382e+0\u001b[0m | \u001b[0m 0.4488  \u001b[0m | \u001b[0m 0.3828  \u001b[0m | \u001b[0m 25.54   \u001b[0m | \u001b[0m 0.8     \u001b[0m |\n",
      "| \u001b[95m 2       \u001b[0m | \u001b[95m-1.043e+0\u001b[0m | \u001b[95m 0.7736  \u001b[0m | \u001b[95m 0.2525  \u001b[0m | \u001b[95m 0.05241 \u001b[0m | \u001b[95m 6.461   \u001b[0m | \u001b[95m 0.7791  \u001b[0m | \u001b[95m 934.2   \u001b[0m | \u001b[95m 0.2667  \u001b[0m | \u001b[95m 0.4272  \u001b[0m | \u001b[95m 34.71   \u001b[0m | \u001b[95m 0.5718  \u001b[0m |\n",
      "| \u001b[0m 3       \u001b[0m | \u001b[0m-1.185e+0\u001b[0m | \u001b[0m 0.4361  \u001b[0m | \u001b[0m 0.9257  \u001b[0m | \u001b[0m 0.05604 \u001b[0m | \u001b[0m 3.549   \u001b[0m | \u001b[0m 1.446   \u001b[0m | \u001b[0m 7.301e+0\u001b[0m | \u001b[0m 0.2898  \u001b[0m | \u001b[0m 0.2121  \u001b[0m | \u001b[0m 24.75   \u001b[0m | \u001b[0m 0.6079  \u001b[0m |\n",
      "| \u001b[0m 4       \u001b[0m | \u001b[0m-1.156e+0\u001b[0m | \u001b[0m 0.8968  \u001b[0m | \u001b[0m 0.6529  \u001b[0m | \u001b[0m 0.06782 \u001b[0m | \u001b[0m 3.671   \u001b[0m | \u001b[0m 0.4409  \u001b[0m | \u001b[0m 2.168e+0\u001b[0m | \u001b[0m 0.2412  \u001b[0m | \u001b[0m 0.249   \u001b[0m | \u001b[0m 25.88   \u001b[0m | \u001b[0m 0.7101  \u001b[0m |\n",
      "| \u001b[0m 5       \u001b[0m | \u001b[0m-1.136e+0\u001b[0m | \u001b[0m 0.4911  \u001b[0m | \u001b[0m 0.6268  \u001b[0m | \u001b[0m 0.04982 \u001b[0m | \u001b[0m 4.26    \u001b[0m | \u001b[0m 0.611   \u001b[0m | \u001b[0m 7.897e+0\u001b[0m | \u001b[0m 0.6051  \u001b[0m | \u001b[0m 0.2934  \u001b[0m | \u001b[0m 22.11   \u001b[0m | \u001b[0m 0.788   \u001b[0m |\n",
      "| \u001b[0m 6       \u001b[0m | \u001b[0m-1.159e+0\u001b[0m | \u001b[0m 0.6162  \u001b[0m | \u001b[0m 0.2448  \u001b[0m | \u001b[0m 0.02862 \u001b[0m | \u001b[0m 5.922   \u001b[0m | \u001b[0m 0.4977  \u001b[0m | \u001b[0m 935.2   \u001b[0m | \u001b[0m 0.5496  \u001b[0m | \u001b[0m 0.5363  \u001b[0m | \u001b[0m 34.48   \u001b[0m | \u001b[0m 0.4197  \u001b[0m |\n",
      "| \u001b[0m 7       \u001b[0m | \u001b[0m-1.241e+0\u001b[0m | \u001b[0m 0.8904  \u001b[0m | \u001b[0m 0.6971  \u001b[0m | \u001b[0m 0.02196 \u001b[0m | \u001b[0m 5.718   \u001b[0m | \u001b[0m 0.8532  \u001b[0m | \u001b[0m 9.362e+0\u001b[0m | \u001b[0m 0.3821  \u001b[0m | \u001b[0m 0.2419  \u001b[0m | \u001b[0m 20.14   \u001b[0m | \u001b[0m 0.6947  \u001b[0m |\n",
      "| \u001b[0m 8       \u001b[0m | \u001b[0m-1.183e+0\u001b[0m | \u001b[0m 0.383   \u001b[0m | \u001b[0m 0.1901  \u001b[0m | \u001b[0m 0.03593 \u001b[0m | \u001b[0m 4.762   \u001b[0m | \u001b[0m 1.141   \u001b[0m | \u001b[0m 8.591e+0\u001b[0m | \u001b[0m 0.3265  \u001b[0m | \u001b[0m 0.447   \u001b[0m | \u001b[0m 38.04   \u001b[0m | \u001b[0m 0.4633  \u001b[0m |\n"
     ]
    },
    {
     "name": "stdout",
     "output_type": "stream",
     "text": [
      "| \u001b[0m 9       \u001b[0m | \u001b[0m-1.091e+0\u001b[0m | \u001b[0m 0.4784  \u001b[0m | \u001b[0m 0.346   \u001b[0m | \u001b[0m 0.04949 \u001b[0m | \u001b[0m 5.967   \u001b[0m | \u001b[0m 1.015   \u001b[0m | \u001b[0m 1.952e+0\u001b[0m | \u001b[0m 0.5595  \u001b[0m | \u001b[0m 0.4017  \u001b[0m | \u001b[0m 17.46   \u001b[0m | \u001b[0m 0.5201  \u001b[0m |\n",
      "| \u001b[0m 10      \u001b[0m | \u001b[0m-1.593e+0\u001b[0m | \u001b[0m 0.7461  \u001b[0m | \u001b[0m 0.1456  \u001b[0m | \u001b[0m 0.01256 \u001b[0m | \u001b[0m 5.561   \u001b[0m | \u001b[0m 1.402   \u001b[0m | \u001b[0m 1.242e+0\u001b[0m | \u001b[0m 0.2261  \u001b[0m | \u001b[0m 0.4398  \u001b[0m | \u001b[0m 47.67   \u001b[0m | \u001b[0m 0.458   \u001b[0m |\n",
      "| \u001b[0m 11      \u001b[0m | \u001b[0m-1.175e+0\u001b[0m | \u001b[0m 0.364   \u001b[0m | \u001b[0m 0.994   \u001b[0m | \u001b[0m 0.03297 \u001b[0m | \u001b[0m 5.612   \u001b[0m | \u001b[0m 0.4802  \u001b[0m | \u001b[0m 4.134e+0\u001b[0m | \u001b[0m 0.6321  \u001b[0m | \u001b[0m 0.6458  \u001b[0m | \u001b[0m 22.47   \u001b[0m | \u001b[0m 0.5619  \u001b[0m |\n",
      "| \u001b[0m 12      \u001b[0m | \u001b[0m-1.51e+06\u001b[0m | \u001b[0m 0.4144  \u001b[0m | \u001b[0m 0.3442  \u001b[0m | \u001b[0m 0.01617 \u001b[0m | \u001b[0m 4.031   \u001b[0m | \u001b[0m 0.8503  \u001b[0m | \u001b[0m 4.977e+0\u001b[0m | \u001b[0m 0.5082  \u001b[0m | \u001b[0m 0.7982  \u001b[0m | \u001b[0m 46.79   \u001b[0m | \u001b[0m 0.7367  \u001b[0m |\n",
      "| \u001b[0m 13      \u001b[0m | \u001b[0m-1.166e+0\u001b[0m | \u001b[0m 0.8857  \u001b[0m | \u001b[0m 0.2015  \u001b[0m | \u001b[0m 0.03581 \u001b[0m | \u001b[0m 4.775   \u001b[0m | \u001b[0m 1.085   \u001b[0m | \u001b[0m 2.98e+03\u001b[0m | \u001b[0m 0.3426  \u001b[0m | \u001b[0m 0.7124  \u001b[0m | \u001b[0m 14.31   \u001b[0m | \u001b[0m 0.4915  \u001b[0m |\n",
      "=================================================================================================================================================\n"
     ]
    }
   ],
   "source": [
    "dtrain = dtrain_2012\n",
    "params_2012 = optimize(dtrain_2012)\n",
    "dtrain = dtrain_2013\n",
    "params_2013 = optimize(dtrain_2013)\n",
    "dtrain = dtrain_2014\n",
    "params_2014 = optimize(dtrain_2014)\n",
    "dtrain = dtrain_2015\n",
    "params_2015 = optimize(dtrain_2015)\n",
    "dtrain = dtrain_2016\n",
    "params_2016 = optimize(dtrain_2016)"
   ]
  },
  {
   "cell_type": "markdown",
   "metadata": {},
   "source": [
    "### Probando"
   ]
  },
  {
   "cell_type": "code",
   "execution_count": 49,
   "metadata": {},
   "outputs": [],
   "source": [
    "def fabrica_XGB(params):\n",
    "    best_xgb_model = XGBRegressor(colsample_bytree=params[\"colsample_bytree\"],\n",
    "                 gamma=params[\"gamma\"],                 \n",
    "                 learning_rate=params[\"learning_rate\"],\n",
    "                 max_depth=params[\"max_depth\"],\n",
    "                 min_child_weight=params[\"min_child_weight\"],\n",
    "                 n_estimators=params[\"n_estimators\"],                                                                    \n",
    "                 reg_alpha=params[\"reg_alpha\"],\n",
    "                 reg_lambda=params[\"reg_lambda\"],\n",
    "                 subsample=params[\"subsample\"],\n",
    "                 seed=params[\"seed\"])\n",
    "    \n",
    "    return best_xgb_model"
   ]
  },
  {
   "cell_type": "code",
   "execution_count": 50,
   "metadata": {},
   "outputs": [],
   "source": [
    "XGB_2012 = fabrica_XGB(params_2012)\n",
    "XGB_2013 = fabrica_XGB(params_2013)\n",
    "XGB_2014 = fabrica_XGB(params_2014)\n",
    "XGB_2015 = fabrica_XGB(params_2015)\n",
    "XGB_2016 = fabrica_XGB(params_2016)"
   ]
  },
  {
   "cell_type": "code",
   "execution_count": null,
   "metadata": {},
   "outputs": [],
   "source": [
    "XGB_2012.fit(x_2012,y_2012)\n",
    "XGB_pred_val = XGB_2012.predict(x_2012_val)\n",
    "XGB_mae = MAE(y_2012_val, XGB_pred_val)\n",
    "print(\"MAE XGB: \" + str(XGB_mae))"
   ]
  },
  {
   "cell_type": "code",
   "execution_count": null,
   "metadata": {},
   "outputs": [],
   "source": [
    "XGB_2013.fit(x_2013,y_2013)\n",
    "XGB_pred_val = XGB_2013.predict(x_2013_val)\n",
    "XGB_mae = MAE(y_2013_val, XGB_pred_val)\n",
    "print(\"MAE XGB: \" + str(XGB_mae))"
   ]
  },
  {
   "cell_type": "code",
   "execution_count": null,
   "metadata": {},
   "outputs": [],
   "source": [
    "XGB_2014.fit(x_2014,y_2014)\n",
    "XGB_pred_val = XGB_2014.predict(x_2014_val)\n",
    "XGB_mae = MAE(y_2014_val, XGB_pred_val)\n",
    "print(\"MAE XGB: \" + str(XGB_mae))"
   ]
  },
  {
   "cell_type": "code",
   "execution_count": null,
   "metadata": {},
   "outputs": [],
   "source": [
    "XGB_2015.fit(x_2015,y_2015)\n",
    "XGB_pred_val = XGB_2015.predict(x_2015_val)\n",
    "XGB_mae = MAE(y_2015_val, XGB_pred_val)\n",
    "print(\"MAE XGB: \" + str(XGB_mae))"
   ]
  },
  {
   "cell_type": "code",
   "execution_count": null,
   "metadata": {},
   "outputs": [],
   "source": [
    "XGB_2016.fit(x_2016,y_2016)\n",
    "XGB_pred_val = XGB_2016.predict(x_2016_val)\n",
    "XGB_mae = MAE(y_2016_val, XGB_pred_val)\n",
    "print(\"MAE XGB: \" + str(XGB_mae))"
   ]
  },
  {
   "cell_type": "markdown",
   "metadata": {},
   "source": [
    "## Random Forest"
   ]
  },
  {
   "cell_type": "code",
   "execution_count": 96,
   "metadata": {},
   "outputs": [],
   "source": [
    "def fabrica_RF(train, param_grid):\n",
    "    RF = RandomForestRegressor()\n",
    "    X = train.drop(['precio'], axis=1)\n",
    "    y = train['precio']\n",
    "    grid = GridSearchCV(RF, param_grid, cv=4, scoring='neg_mean_absolute_error')\n",
    "    grid.fit(X, y)\n",
    "    RF = grid.best_estimator_\n",
    "    print(grid.best_params_)\n",
    "    print(grid.best_score_)\n",
    "    return RF"
   ]
  },
  {
   "cell_type": "code",
   "execution_count": 94,
   "metadata": {},
   "outputs": [],
   "source": [
    "param_grid = {\n",
    "    'bootstrap': [True],\n",
    "    'max_depth': [80, 90, 100, 110],\n",
    "    'max_features': [2, 3],\n",
    "    'min_samples_leaf': [3, 4, 5],\n",
    "    'min_samples_split': [8, 10, 12],\n",
    "    'n_estimators': [100, 200, 300, 1000]\n",
    "}"
   ]
  },
  {
   "cell_type": "code",
   "execution_count": null,
   "metadata": {},
   "outputs": [],
   "source": [
    "rf_2012 = fabrica_RF(train_2012, param_grid)\n",
    "rf_2013 = fabrica_RF(train_2013, param_grid)\n",
    "rf_2014 = fabrica_RF(train_2014, param_grid)\n",
    "rf_2015 = fabrica_RF(train_2015, param_grid)\n",
    "rf_2016 = fabrica_RF(train_2016, param_grid)"
   ]
  },
  {
   "cell_type": "code",
   "execution_count": 100,
   "metadata": {},
   "outputs": [
    {
     "name": "stdout",
     "output_type": "stream",
     "text": [
      "MAE rf: 169045.0816290103\n"
     ]
    }
   ],
   "source": [
    "rf_2012 = RandomForestRegressor(n_estimators=200)\n",
    "rf_2012.fit(x_2012,y_2012)\n",
    "rf_pred_val = rf_2012.predict(x_2012_val)\n",
    "rf_mae = MAE(y_2012_val, rf_pred_val)\n",
    "print(\"MAE rf: \" + str(rf_mae))"
   ]
  },
  {
   "cell_type": "code",
   "execution_count": 101,
   "metadata": {},
   "outputs": [
    {
     "name": "stdout",
     "output_type": "stream",
     "text": [
      "MAE rf: 189368.06082819257\n"
     ]
    }
   ],
   "source": [
    "rf_2013 = RandomForestRegressor(n_estimators=200)\n",
    "rf_2013.fit(x_2013,y_2013)\n",
    "rf_pred_val = rf.predict(x_2013_val)\n",
    "rf_mae = MAE(y_2013_val, rf_pred_val)\n",
    "print(\"MAE rf: \" + str(rf_mae))"
   ]
  },
  {
   "cell_type": "code",
   "execution_count": 102,
   "metadata": {},
   "outputs": [
    {
     "name": "stdout",
     "output_type": "stream",
     "text": [
      "MAE rf: 578838.4877421026\n"
     ]
    }
   ],
   "source": [
    "rf_2014 = RandomForestRegressor(n_estimators=200)\n",
    "rf_2014.fit(x_2014,y_2014)\n",
    "rf_pred_val = rf.predict(x_2014_val)\n",
    "rf_mae = MAE(y_2014_val, rf_pred_val)\n",
    "print(\"MAE rf: \" + str(rf_mae))"
   ]
  },
  {
   "cell_type": "code",
   "execution_count": 103,
   "metadata": {},
   "outputs": [
    {
     "name": "stdout",
     "output_type": "stream",
     "text": [
      "MAE rf: 196881.86228367864\n"
     ]
    }
   ],
   "source": [
    "rf_2015 = RandomForestRegressor(n_estimators=200)\n",
    "rf_2015.fit(x_2015,y_2015)\n",
    "rf_pred_val = rf_2015.predict(x_2015_val)\n",
    "rf_mae = MAE(y_2015_val, rf_pred_val)\n",
    "print(\"MAE rf: \" + str(rf_mae))"
   ]
  },
  {
   "cell_type": "code",
   "execution_count": 104,
   "metadata": {},
   "outputs": [
    {
     "name": "stdout",
     "output_type": "stream",
     "text": [
      "MAE rf: 211762.03941005524\n"
     ]
    }
   ],
   "source": [
    "rf_2016 = RandomForestRegressor(n_estimators=200)\n",
    "rf_2016.fit(x_2016,y_2016)\n",
    "rf_pred_val = rf_2016.predict(x_2016_val)\n",
    "rf_mae = MAE(y_2016_val, rf_pred_val)\n",
    "print(\"MAE rf: \" + str(rf_mae))"
   ]
  },
  {
   "cell_type": "code",
   "execution_count": 105,
   "metadata": {},
   "outputs": [],
   "source": [
    "res_2012 = rf_2012.predict(test_2012)\n",
    "res_2013 = rf_2013.predict(test_2013)\n",
    "res_2014 = rf_2014.predict(test_2014)\n",
    "res_2015 = rf_2015.predict(test_2015)\n",
    "res_2016 = rf_2016.predict(test_2016)"
   ]
  },
  {
   "cell_type": "markdown",
   "metadata": {},
   "source": [
    "## Ensembles"
   ]
  },
  {
   "cell_type": "code",
   "execution_count": 51,
   "metadata": {},
   "outputs": [],
   "source": [
    "ensemble2012 = VotingRegressor([('rf', rf_2012), ('xgb', XGB_2012)])\n",
    "ensemble2013 = VotingRegressor([('rf', rf_2013), ('xgb', XGB_2013)])\n",
    "ensemble2014 = VotingRegressor([('rf', rf_2014), ('xgb', XGB_2014)])\n",
    "ensemble2015 = VotingRegressor([('rf', rf_2015), ('xgb', XGB_2015)])\n",
    "ensemble2016 = VotingRegressor([('rf', rf_2016), ('xgb', XGB_2016)])"
   ]
  },
  {
   "cell_type": "code",
   "execution_count": 52,
   "metadata": {},
   "outputs": [
    {
     "name": "stderr",
     "output_type": "stream",
     "text": [
      "/home/lautaro/.local/lib/python3.6/site-packages/xgboost/core.py:587: FutureWarning: Series.base is deprecated and will be removed in a future version\n",
      "  if getattr(data, 'base', None) is not None and \\\n",
      "/home/lautaro/.local/lib/python3.6/site-packages/xgboost/core.py:588: FutureWarning: Series.base is deprecated and will be removed in a future version\n",
      "  data.base is not None and isinstance(data, np.ndarray) \\\n"
     ]
    },
    {
     "name": "stdout",
     "output_type": "stream",
     "text": [
      "[02:28:57] WARNING: /workspace/src/objective/regression_obj.cu:152: reg:linear is now deprecated in favor of reg:squarederror.\n",
      "MAE Ensemble: 188340.2204186133\n"
     ]
    }
   ],
   "source": [
    "ensemble2012.fit(x_2012, y_2012)\n",
    "en_pred_val = ensemble2012.predict(x_2012_val)\n",
    "en_mae = MAE(y_2012_val, en_pred_val)\n",
    "print(\"MAE Ensemble: \" + str(en_mae))"
   ]
  },
  {
   "cell_type": "code",
   "execution_count": 53,
   "metadata": {},
   "outputs": [
    {
     "name": "stderr",
     "output_type": "stream",
     "text": [
      "/home/lautaro/.local/lib/python3.6/site-packages/xgboost/core.py:587: FutureWarning: Series.base is deprecated and will be removed in a future version\n",
      "  if getattr(data, 'base', None) is not None and \\\n",
      "/home/lautaro/.local/lib/python3.6/site-packages/xgboost/core.py:588: FutureWarning: Series.base is deprecated and will be removed in a future version\n",
      "  data.base is not None and isinstance(data, np.ndarray) \\\n"
     ]
    },
    {
     "name": "stdout",
     "output_type": "stream",
     "text": [
      "[02:34:58] WARNING: /workspace/src/objective/regression_obj.cu:152: reg:linear is now deprecated in favor of reg:squarederror.\n",
      "MAE Ensemble: 200539.49388936692\n"
     ]
    }
   ],
   "source": [
    "ensemble2013.fit(x_2013, y_2013)\n",
    "en_pred_val = ensemble2013.predict(x_2013_val)\n",
    "en_mae = MAE(y_2013_val, en_pred_val)\n",
    "print(\"MAE Ensemble: \" + str(en_mae))"
   ]
  },
  {
   "cell_type": "code",
   "execution_count": null,
   "metadata": {},
   "outputs": [],
   "source": [
    "ensemble2014.fit(x_2014, y_2014)\n",
    "en_pred_val = ensemble2014.predict(x_2014_val)\n",
    "en_mae = MAE(y_2014_val, en_pred_val)\n",
    "print(\"MAE Ensemble: \" + str(en_mae))"
   ]
  },
  {
   "cell_type": "code",
   "execution_count": 37,
   "metadata": {},
   "outputs": [
    {
     "name": "stderr",
     "output_type": "stream",
     "text": [
      "/home/lautaro/.local/lib/python3.6/site-packages/xgboost/core.py:587: FutureWarning: Series.base is deprecated and will be removed in a future version\n",
      "  if getattr(data, 'base', None) is not None and \\\n",
      "/home/lautaro/.local/lib/python3.6/site-packages/xgboost/core.py:588: FutureWarning: Series.base is deprecated and will be removed in a future version\n",
      "  data.base is not None and isinstance(data, np.ndarray) \\\n"
     ]
    },
    {
     "name": "stdout",
     "output_type": "stream",
     "text": [
      "[17:19:26] WARNING: /workspace/src/objective/regression_obj.cu:152: reg:linear is now deprecated in favor of reg:squarederror.\n",
      "MAE Ensemble: 558606.4336739318\n"
     ]
    }
   ],
   "source": [
    "ensemble2015.fit(x_2015, y_2015)\n",
    "en_pred_val = ensemble2015.predict(x_2015_val)\n",
    "en_mae = MAE(y_2015_val, en_pred_val)\n",
    "print(\"MAE Ensemble: \" + str(en_mae))"
   ]
  },
  {
   "cell_type": "code",
   "execution_count": 38,
   "metadata": {},
   "outputs": [
    {
     "name": "stderr",
     "output_type": "stream",
     "text": [
      "/home/lautaro/.local/lib/python3.6/site-packages/xgboost/core.py:587: FutureWarning: Series.base is deprecated and will be removed in a future version\n",
      "  if getattr(data, 'base', None) is not None and \\\n",
      "/home/lautaro/.local/lib/python3.6/site-packages/xgboost/core.py:588: FutureWarning: Series.base is deprecated and will be removed in a future version\n",
      "  data.base is not None and isinstance(data, np.ndarray) \\\n"
     ]
    },
    {
     "name": "stdout",
     "output_type": "stream",
     "text": [
      "[17:30:53] WARNING: /workspace/src/objective/regression_obj.cu:152: reg:linear is now deprecated in favor of reg:squarederror.\n",
      "MAE Ensemble: 701516.6280770054\n"
     ]
    }
   ],
   "source": [
    "ensemble2016.fit(x_2016, y_2016)\n",
    "en_pred_val = ensemble2016.predict(x_2016_val)\n",
    "en_mae = MAE(y_2016_val, en_pred_val)\n",
    "print(\"MAE Ensemble: \" + str(en_mae))"
   ]
  },
  {
   "cell_type": "code",
   "execution_count": 41,
   "metadata": {},
   "outputs": [],
   "source": [
    "res_2012 = ensemble2012.predict(test_2012)\n",
    "res_2013 = ensemble2013.predict(test_2013)\n",
    "res_2014 = ensemble2014.predict(test_2014)\n",
    "res_2015 = ensemble2015.predict(test_2015)\n",
    "res_2016 = ensemble2016.predict(test_2016)"
   ]
  },
  {
   "cell_type": "code",
   "execution_count": 106,
   "metadata": {},
   "outputs": [],
   "source": [
    "res_2012 = pd.DataFrame(res_2012, index=test_2012.index, columns=['precio'])\n",
    "res_2012 = res_2012.rename(columns={'precio':'target'})\n",
    "\n",
    "res_2013 = pd.DataFrame(res_2013, index=test_2013.index, columns=['precio'])\n",
    "res_2013 = res_2013.rename(columns={'precio':'target'})\n",
    "\n",
    "res_2014 = pd.DataFrame(res_2014, index=test_2014.index, columns=['precio'])\n",
    "res_2014 = res_2014.rename(columns={'precio':'target'})\n",
    "\n",
    "res_2015 = pd.DataFrame(res_2015, index=test_2015.index, columns=['precio'])\n",
    "res_2015 = res_2015.rename(columns={'precio':'target'})\n",
    "\n",
    "res_2016 = pd.DataFrame(res_2016, index=test_2016.index, columns=['precio'])\n",
    "res_2016 = res_2016.rename(columns={'precio':'target'})"
   ]
  },
  {
   "cell_type": "code",
   "execution_count": 107,
   "metadata": {},
   "outputs": [],
   "source": [
    "res = res_2012.append(res_2013).append(res_2014).append(res_2015).append(res_2016)\n",
    "res.to_csv(\"workshop-submission-rf.csv\", header=True)"
   ]
  }
 ],
 "metadata": {
  "kernelspec": {
   "display_name": "Python 3",
   "language": "python",
   "name": "python3"
  },
  "language_info": {
   "codemirror_mode": {
    "name": "ipython",
    "version": 3
   },
   "file_extension": ".py",
   "mimetype": "text/x-python",
   "name": "python",
   "nbconvert_exporter": "python",
   "pygments_lexer": "ipython3",
   "version": "3.6.8"
  }
 },
 "nbformat": 4,
 "nbformat_minor": 2
}
