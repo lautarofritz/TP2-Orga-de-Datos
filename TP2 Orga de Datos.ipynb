{
 "cells": [
  {
   "cell_type": "code",
   "execution_count": 197,
   "metadata": {},
   "outputs": [],
   "source": [
    "import pandas as pd\n",
    "import numpy as np\n",
    "import matplotlib as plt\n",
    "from sklearn import datasets\n",
    "from sklearn.preprocessing import LabelEncoder\n",
    "from sklearn.model_selection import train_test_split\n",
    "from sklearn.neighbors import KNeighborsRegressor\n",
    "from xgboost import XGBRegressor\n",
    "from sklearn.model_selection import GridSearchCV\n",
    "from sklearn.model_selection import RandomizedSearchCV\n",
    "from bayes_opt import BayesianOptimization\n",
    "import category_encoders as ce\n",
    "from sklearn.ensemble import VotingRegressor\n",
    "from sklearn.ensemble import RandomForestRegressor"
   ]
  },
  {
   "cell_type": "code",
   "execution_count": 198,
   "metadata": {},
   "outputs": [],
   "source": [
    "train = pd.read_csv(r'train.csv', index_col=0)\n",
    "test = pd.read_csv(r'test.csv', index_col=0)"
   ]
  },
  {
   "cell_type": "code",
   "execution_count": 199,
   "metadata": {},
   "outputs": [],
   "source": [
    "#metrica\n",
    "def MAE(actual, pred):\n",
    "    return (np.mean(np.absolute(actual - pred)))"
   ]
  },
  {
   "cell_type": "markdown",
   "metadata": {},
   "source": [
    "## Preprocesamiento"
   ]
  },
  {
   "cell_type": "code",
   "execution_count": 200,
   "metadata": {},
   "outputs": [
    {
     "data": {
      "text/plain": [
       "titulo                          5387\n",
       "descripcion                     1619\n",
       "tipodepropiedad                   46\n",
       "direccion                      53072\n",
       "ciudad                           372\n",
       "provincia                        155\n",
       "antiguedad                     43555\n",
       "habitaciones                   22471\n",
       "garages                        37765\n",
       "banos                          26221\n",
       "metroscubiertos                17400\n",
       "metrostotales                  51467\n",
       "idzona                         28621\n",
       "lat                           123488\n",
       "lng                           123488\n",
       "fecha                              0\n",
       "gimnasio                           0\n",
       "usosmultiples                      0\n",
       "piscina                            0\n",
       "escuelascercanas                   0\n",
       "centroscomercialescercanos         0\n",
       "precio                             0\n",
       "dtype: int64"
      ]
     },
     "execution_count": 200,
     "metadata": {},
     "output_type": "execute_result"
    }
   ],
   "source": [
    "train.isnull().sum()"
   ]
  },
  {
   "cell_type": "code",
   "execution_count": 201,
   "metadata": {},
   "outputs": [
    {
     "data": {
      "text/plain": [
       "titulo                         1378\n",
       "descripcion                     401\n",
       "tipodepropiedad                   7\n",
       "direccion                     13191\n",
       "ciudad                           83\n",
       "provincia                        42\n",
       "antiguedad                    10714\n",
       "habitaciones                   5628\n",
       "garages                        9323\n",
       "banos                          6554\n",
       "metroscubiertos                4299\n",
       "metrostotales                 12655\n",
       "idzona                         7179\n",
       "lat                           30695\n",
       "lng                           30695\n",
       "fecha                             0\n",
       "gimnasio                          0\n",
       "usosmultiples                     0\n",
       "piscina                           0\n",
       "escuelascercanas                  0\n",
       "centroscomercialescercanos        0\n",
       "dtype: int64"
      ]
     },
     "execution_count": 201,
     "metadata": {},
     "output_type": "execute_result"
    }
   ],
   "source": [
    "test.isnull().sum()"
   ]
  },
  {
   "cell_type": "code",
   "execution_count": 202,
   "metadata": {},
   "outputs": [],
   "source": [
    "train['provincia'] = train['provincia'].fillna('Distrito Federal') #valor mas frecuente\n",
    "test['provincia'] = test['provincia'].fillna('Distrito Federal')\n",
    "train['tipodepropiedad'] = train['tipodepropiedad'].fillna('Casa') #valor mas frecuente\n",
    "test['tipodepropiedad'] = test['tipodepropiedad'].fillna('Casa')\n",
    "\n",
    "train['descripcion'] = train['descripcion'].fillna('-')\n",
    "test['descripcion'] = test['descripcion'].fillna('-')\n",
    "\n",
    "train = train.fillna(0)\n",
    "test = test.fillna(0)"
   ]
  },
  {
   "cell_type": "code",
   "execution_count": 203,
   "metadata": {},
   "outputs": [
    {
     "name": "stdout",
     "output_type": "stream",
     "text": [
      "(240000, 22)\n",
      "(60000, 21)\n"
     ]
    }
   ],
   "source": [
    "print(train.shape)\n",
    "print(test.shape)"
   ]
  },
  {
   "cell_type": "markdown",
   "metadata": {},
   "source": [
    "## Feature Engineering"
   ]
  },
  {
   "cell_type": "markdown",
   "metadata": {},
   "source": [
    "### One Hot Encoding"
   ]
  },
  {
   "cell_type": "code",
   "execution_count": 204,
   "metadata": {},
   "outputs": [],
   "source": [
    "one_hot_enc = ce.OneHotEncoder()\n",
    "one_hot_encoded = one_hot_enc.fit_transform(train['provincia'])\n",
    "train = train.join(one_hot_encoded)\n",
    "del train['provincia']\n",
    "\n",
    "one_hot_encoded = one_hot_enc.transform(test['provincia'])\n",
    "test = test.join(one_hot_encoded)\n",
    "del test['provincia']"
   ]
  },
  {
   "cell_type": "code",
   "execution_count": 205,
   "metadata": {},
   "outputs": [],
   "source": [
    "one_hot_enc = ce.OneHotEncoder()\n",
    "one_hot_encoded = one_hot_enc.fit_transform(train['tipodepropiedad'])\n",
    "train = train.join(one_hot_encoded)\n",
    "del train['tipodepropiedad']\n",
    "\n",
    "one_hot_encoded = one_hot_enc.transform(test['tipodepropiedad'])\n",
    "test = test.join(one_hot_encoded)\n",
    "del test['tipodepropiedad']"
   ]
  },
  {
   "cell_type": "markdown",
   "metadata": {},
   "source": [
    "### Target Encoding"
   ]
  },
  {
   "cell_type": "code",
   "execution_count": 206,
   "metadata": {},
   "outputs": [
    {
     "name": "stdout",
     "output_type": "stream",
     "text": [
      "(240000, 76)\n",
      "(60000, 75)\n"
     ]
    }
   ],
   "source": [
    "print(train.shape)\n",
    "print(test.shape)"
   ]
  },
  {
   "cell_type": "code",
   "execution_count": 207,
   "metadata": {},
   "outputs": [],
   "source": [
    "X = train.drop('precio', axis = 1)\n",
    "y = train['precio']\n",
    "target_enc = ce.TargetEncoder(cols=['idzona', 'ciudad'])\n",
    "train = target_enc.fit_transform(X, y)\n",
    "train['precio'] = y"
   ]
  },
  {
   "cell_type": "code",
   "execution_count": 208,
   "metadata": {},
   "outputs": [],
   "source": [
    "test = target_enc.transform(test)"
   ]
  },
  {
   "cell_type": "code",
   "execution_count": 209,
   "metadata": {},
   "outputs": [
    {
     "name": "stdout",
     "output_type": "stream",
     "text": [
      "(240000, 76)\n",
      "(60000, 75)\n"
     ]
    }
   ],
   "source": [
    "print(train.shape)\n",
    "print(test.shape)"
   ]
  },
  {
   "cell_type": "markdown",
   "metadata": {},
   "source": [
    "### Agregando Features"
   ]
  },
  {
   "cell_type": "markdown",
   "metadata": {},
   "source": [
    "#### Avenida"
   ]
  },
  {
   "cell_type": "code",
   "execution_count": 210,
   "metadata": {},
   "outputs": [],
   "source": [
    "def avenida(st):\n",
    "    return (\"av.\" in st) or (\"avenida\" in st) or  (\"av \" in st)"
   ]
  },
  {
   "cell_type": "code",
   "execution_count": 211,
   "metadata": {
    "scrolled": true
   },
   "outputs": [],
   "source": [
    "test = test.astype({\"direccion\":\"str\"})\n",
    "train = train.astype({\"direccion\":\"str\"})\n",
    "\n",
    "test[\"direccion\"] = test[\"direccion\"].apply(str.lower)\n",
    "test[\"avenida\"] = test[\"direccion\"].map(avenida)\n",
    "\n",
    "train[\"direccion\"] = train[\"direccion\"].apply(str.lower)\n",
    "train[\"avenida\"] = train[\"direccion\"].map(avenida)\n",
    "\n",
    "test = test.astype({\"avenida\":\"uint8\"})\n",
    "train = train.astype({\"avenida\":\"uint8\"})"
   ]
  },
  {
   "cell_type": "markdown",
   "metadata": {},
   "source": [
    "#### Cantidad de amenities"
   ]
  },
  {
   "cell_type": "code",
   "execution_count": 212,
   "metadata": {},
   "outputs": [],
   "source": [
    "train['cant_amenities'] = train['usosmultiples'] + train['piscina'] + train['gimnasio']\n",
    "test['cant_amenities'] = test['usosmultiples'] + test['piscina'] + test['gimnasio']"
   ]
  },
  {
   "cell_type": "markdown",
   "metadata": {},
   "source": [
    "#### Año de publicación"
   ]
  },
  {
   "cell_type": "code",
   "execution_count": 213,
   "metadata": {},
   "outputs": [],
   "source": [
    "train['fecha'] = pd.to_datetime(train['fecha'])\n",
    "train['ano'] = train['fecha'].dt.year\n",
    "\n",
    "test['fecha'] = pd.to_datetime(test['fecha'])\n",
    "test['ano'] = test['fecha'].dt.year"
   ]
  },
  {
   "cell_type": "markdown",
   "metadata": {},
   "source": [
    "#### De la descripción"
   ]
  },
  {
   "cell_type": "code",
   "execution_count": 214,
   "metadata": {},
   "outputs": [],
   "source": [
    "buena_ubicacion = ['buena ubicacion', 'buena ubicación', 'excelente ubicación', 'excelente ubicacion', 'bien ubicada', 'bien ubicado']\n",
    "train['buena_ubicacion'] = train['descripcion'].apply(lambda x: 1 if any(word in x for word in buena_ubicacion ) else 0)\n",
    "test['buena_ubicacion'] = test['descripcion'].apply(lambda x: 1 if any(word in x for word in buena_ubicacion ) else 0)"
   ]
  },
  {
   "cell_type": "code",
   "execution_count": 215,
   "metadata": {},
   "outputs": [],
   "source": [
    "luminoso = ['luminoso', 'luminosa']\n",
    "train['luminoso'] = train['descripcion'].apply(lambda x: 1 if any(word in x for word in luminoso ) else 0)\n",
    "test['luminoso'] = test['descripcion'].apply(lambda x: 1 if any(word in x for word in luminoso ) else 0)"
   ]
  },
  {
   "cell_type": "code",
   "execution_count": 216,
   "metadata": {},
   "outputs": [],
   "source": [
    "jardin = ['jardin', 'jardín', 'parque', 'patio']\n",
    "train['jardin'] = train['descripcion'].apply(lambda x: 1 if any(word in x for word in luminoso ) else 0)\n",
    "test['jardin'] = test['descripcion'].apply(lambda x: 1 if any(word in x for word in luminoso ) else 0)"
   ]
  },
  {
   "cell_type": "code",
   "execution_count": 217,
   "metadata": {},
   "outputs": [],
   "source": [
    "balcon = ['balcon', 'balcón', 'terraza']\n",
    "train['balcon'] = train['descripcion'].apply(lambda x: 1 if any(word in x for word in luminoso ) else 0)\n",
    "test['balcon'] = test['descripcion'].apply(lambda x: 1 if any(word in x for word in luminoso ) else 0)"
   ]
  },
  {
   "cell_type": "markdown",
   "metadata": {},
   "source": [
    "#### Cercanías"
   ]
  },
  {
   "cell_type": "code",
   "execution_count": 218,
   "metadata": {},
   "outputs": [],
   "source": [
    "train['centroscomercialescercanos'] = train['centroscomercialescercanos'].map({1:2, 0:0})\n",
    "test['centroscomercialescercanos'] = test['centroscomercialescercanos'].map({1:2, 0:0})"
   ]
  },
  {
   "cell_type": "code",
   "execution_count": 219,
   "metadata": {},
   "outputs": [],
   "source": [
    "train['cercanias'] = train['centroscomercialescercanos'] + train['escuelascercanas']\n",
    "train['cercanias'] = train['cercanias'].astype(str)\n",
    "\n",
    "test['cercanias'] = test['centroscomercialescercanos'] + test['escuelascercanas']\n",
    "test['cercanias'] = test['cercanias'].astype(str)"
   ]
  },
  {
   "cell_type": "code",
   "execution_count": 220,
   "metadata": {},
   "outputs": [],
   "source": [
    "train = train.join(pd.get_dummies(train['cercanias'], prefix = 'cercania'))\n",
    "del train['cercanias']\n",
    "\n",
    "test = test.join(pd.get_dummies(test['cercanias'], prefix = 'cercania'))\n",
    "del test['cercanias']"
   ]
  },
  {
   "cell_type": "markdown",
   "metadata": {},
   "source": [
    "### Borrando columnas innecesarias"
   ]
  },
  {
   "cell_type": "code",
   "execution_count": 221,
   "metadata": {},
   "outputs": [],
   "source": [
    "del train['lat']\n",
    "del train['lng']\n",
    "del train['descripcion']\n",
    "del train['titulo']\n",
    "del train['direccion']\n",
    "del train['fecha']\n",
    "\n",
    "del test['lat']\n",
    "del test['lng']\n",
    "del test['descripcion']\n",
    "del test['titulo']\n",
    "del test['direccion']\n",
    "del test['fecha']"
   ]
  },
  {
   "cell_type": "code",
   "execution_count": 222,
   "metadata": {},
   "outputs": [
    {
     "name": "stdout",
     "output_type": "stream",
     "text": [
      "(240000, 81)\n",
      "(60000, 80)\n"
     ]
    }
   ],
   "source": [
    "print(train.shape)\n",
    "print(test.shape)"
   ]
  },
  {
   "cell_type": "markdown",
   "metadata": {},
   "source": [
    "### Dividiendo por año"
   ]
  },
  {
   "cell_type": "code",
   "execution_count": 223,
   "metadata": {},
   "outputs": [],
   "source": [
    "train_2012 = train[train['ano'] == 2012]\n",
    "train_2013 = train[train['ano'] == 2013]\n",
    "train_2014 = train[train['ano'] == 2014]\n",
    "train_2015 = train[train['ano'] == 2015]\n",
    "train_2016 = train[train['ano'] == 2016]\n",
    "\n",
    "test_2012 = test[test['ano'] == 2012]\n",
    "test_2013 = test[test['ano'] == 2013]\n",
    "test_2014 = test[test['ano'] == 2014]\n",
    "test_2015 = test[test['ano'] == 2015]\n",
    "test_2016 = test[test['ano'] == 2016]"
   ]
  },
  {
   "cell_type": "markdown",
   "metadata": {},
   "source": [
    "## KNN"
   ]
  },
  {
   "cell_type": "code",
   "execution_count": 27,
   "metadata": {},
   "outputs": [],
   "source": [
    "def KNN(train, param_grid):\n",
    "    KNN = KNeighborsRegressor()\n",
    "    X = train.drop(['precio'], axis=1)\n",
    "    y = train['precio']\n",
    "    grid = GridSearchCV(KNN, param_grid, cv=5, scoring='neg_mean_absolute_error')\n",
    "    grid.fit(X, y)\n",
    "    KNN = grid.best_estimator_\n",
    "    print(grid.best_params_)\n",
    "    print(grid.best_score_)\n",
    "    return KNN"
   ]
  },
  {
   "cell_type": "code",
   "execution_count": null,
   "metadata": {
    "scrolled": true
   },
   "outputs": [],
   "source": [
    "k_valores = list(range(1, 21))\n",
    "param_grid = dict(n_neighbors=k_valores)\n",
    "KNN_2012 = KNN(train_2012, param_grid)\n",
    "KNN_2013 = KNN(train_2013, param_grid)\n",
    "KNN_2014 = KNN(train_2014, param_grid)\n",
    "KNN_2015 = KNN(train_2015, param_grid)\n",
    "KNN_2016 = KNN(train_2016, param_grid)"
   ]
  },
  {
   "cell_type": "markdown",
   "metadata": {},
   "source": [
    "## Definiendo tamaños de los sets"
   ]
  },
  {
   "cell_type": "code",
   "execution_count": 224,
   "metadata": {},
   "outputs": [],
   "source": [
    "def train_set(train,test):\n",
    "    X = train.drop(['precio'], axis=1)\n",
    "    y = train['precio']\n",
    "    X_train, X_val, y_train, y_val = train_test_split(X, y, test_size=0.25, random_state=1)\n",
    "    print(\"Train shapes: X = \" + str(X_train.shape) + \" y = \" + str(y_train.shape))\n",
    "    print(\"Validation shapes: X = \" + str(X_val.shape) +  \" y = \" + str(y_val.shape))\n",
    "    print(\"Test shape: \" + str(test.shape))\n",
    "    return X, y, X_val, y_val"
   ]
  },
  {
   "cell_type": "code",
   "execution_count": 225,
   "metadata": {},
   "outputs": [
    {
     "name": "stdout",
     "output_type": "stream",
     "text": [
      "Train shapes: X = (17650, 80) y = (17650,)\n",
      "Validation shapes: X = (5884, 80) y = (5884,)\n",
      "Test shape: (5899, 80)\n",
      "Train shapes: X = (22789, 80) y = (22789,)\n",
      "Validation shapes: X = (7597, 80) y = (7597,)\n",
      "Test shape: (7592, 80)\n",
      "Train shapes: X = (30429, 80) y = (30429,)\n",
      "Validation shapes: X = (10143, 80) y = (10143,)\n",
      "Test shape: (10018, 80)\n",
      "Train shapes: X = (38602, 80) y = (38602,)\n",
      "Validation shapes: X = (12868, 80) y = (12868,)\n",
      "Test shape: (13017, 80)\n",
      "Train shapes: X = (70528, 80) y = (70528,)\n",
      "Validation shapes: X = (23510, 80) y = (23510,)\n",
      "Test shape: (23474, 80)\n"
     ]
    }
   ],
   "source": [
    "x_2012, y_2012, x_2012_val, y_2012_val = train_set(train_2012,test_2012)\n",
    "x_2013, y_2013, x_2013_val, y_2013_val = train_set(train_2013,test_2013)\n",
    "x_2014, y_2014, x_2014_val, y_2014_val = train_set(train_2014,test_2014)\n",
    "x_2015, y_2015, x_2015_val, y_2015_val = train_set(train_2015,test_2015)\n",
    "x_2016, y_2016, x_2016_val, y_2016_val = train_set(train_2016,test_2016)"
   ]
  },
  {
   "cell_type": "markdown",
   "metadata": {},
   "source": [
    "## LIGHTGBM"
   ]
  },
  {
   "cell_type": "markdown",
   "metadata": {},
   "source": [
    "### Tuneo de hiperparámetros"
   ]
  },
  {
   "cell_type": "code",
   "execution_count": 226,
   "metadata": {},
   "outputs": [],
   "source": [
    "import lightgbm\n",
    "def lgb_eval(num_leaves, feature_fraction, bagging_fraction, max_depth, min_split_gain, min_child_weight, learning_rate, seed,n_estimators):\n",
    "    params = {}\n",
    "    params['metric'] = 'rmse'\n",
    "    params[\"seed\"] = int(seed)\n",
    "    params[\"learning_rate\"] = learning_rate\n",
    "    params[\"num_leaves\"] = int(round(num_leaves))\n",
    "    params['feature_fraction'] = max(min(feature_fraction, 1), 0)\n",
    "    params['bagging_fraction'] = max(min(bagging_fraction, 1), 0)\n",
    "    params['max_depth'] = int(round(max_depth))\n",
    "    params['min_split_gain'] = min_split_gain\n",
    "    params['min_child_weight'] = min_child_weight\n",
    "    params[\"n_estimators\"] = int(n_estimators)\n",
    "    cv_result = lightgbm.cv(params, dtrain, nfold=5, num_boost_round=100)\n",
    "    # Used around 1000 boosting rounds in the full model\n",
    "    #cv_result = lightgbm.cv(params, dtrain, num_boost_round=100, nfold=3, seed=20)    \n",
    "    \n",
    "    # Bayesian optimization only knows how to maximize, not minimize, so return the negative RMSE\n",
    "    return max(cv_result['rmse-mean'])"
   ]
  },
  {
   "cell_type": "code",
   "execution_count": 227,
   "metadata": {},
   "outputs": [],
   "source": [
    "def optimize_lgbm(sett):\n",
    "    dtrain = sett\n",
    "    lightgbm_bo = BayesianOptimization(lgb_eval, {'num_leaves': (24, 45),\n",
    "                                        'feature_fraction': (0.1, 0.9),\n",
    "                                        'bagging_fraction': (0.8, 1),\n",
    "                                        'max_depth': (5, 8.99),\n",
    "                                        'min_split_gain': (0.001, 0.1),\n",
    "                                        'min_child_weight': (5, 50),\n",
    "                                        \"learning_rate\" : (0.01, 0.07),\n",
    "                                        \"seed\":(10,50),\n",
    "                                        \"n_estimators\":(100,1000)          \n",
    "                                        }, random_state=0)\n",
    "    # Se probo con 3 puntos iniciales y 10 iteraciones, deberiamos probar con mas en ambas\n",
    "    # La prox iteracion en casa probar 100 y 10000\n",
    "    lightgbm_bo.maximize(init_points=3, n_iter=10, acq='ei')\n",
    "    params = lightgbm_bo.max['params']\n",
    "    params['max_depth'] = int(params['max_depth'])\n",
    "    params[\"seed\"] = int(params[\"seed\"])\n",
    "    params[\"n_estimators\"] = int(params[\"n_estimators\"])\n",
    "    return params"
   ]
  },
  {
   "cell_type": "code",
   "execution_count": 231,
   "metadata": {},
   "outputs": [],
   "source": [
    "feature_set = list(x_2012.columns)\n",
    "dtrain_2012 = lightgbm.Dataset(x_2012, label=y_2012,feature_name=feature_set)\n",
    "feature_set = list(x_2013.columns)\n",
    "dtrain_2013 = lightgbm.Dataset(x_2013, label=y_2013,feature_name=feature_set)\n",
    "feature_set = list(x_2014.columns)\n",
    "dtrain_2014 = lightgbm.Dataset(x_2014, label=y_2014,feature_name=feature_set)\n",
    "feature_set = list(x_2015.columns)\n",
    "dtrain_2015 = lightgbm.Dataset(x_2015, label=y_2015,feature_name=feature_set)\n",
    "feature_set = list(x_2016.columns)\n",
    "dtrain_2016 = lightgbm.Dataset(x_2016, label=y_2016,feature_name=feature_set)\n"
   ]
  },
  {
   "cell_type": "code",
   "execution_count": 232,
   "metadata": {},
   "outputs": [
    {
     "name": "stdout",
     "output_type": "stream",
     "text": [
      "|   iter    |  target   | baggin... | featur... | learni... | max_depth | min_ch... | min_sp... | n_esti... | num_le... |   seed    |\n",
      "-------------------------------------------------------------------------------------------------------------------------------------\n"
     ]
    },
    {
     "name": "stderr",
     "output_type": "stream",
     "text": [
      "/usr/local/lib/python3.5/dist-packages/lightgbm/engine.py:503: UserWarning: Found `n_estimators` in params. Will use it instead of argument\n",
      "  warnings.warn(\"Found `{}` in params. Will use it instead of argument\".format(alias))\n",
      "/usr/local/lib/python3.5/dist-packages/sklearn/model_selection/_split.py:657: Warning: The least populated class in y has only 1 members, which is too few. The minimum number of members in any class cannot be less than n_splits=5.\n",
      "  % (min_groups, self.n_splits)), Warning)\n"
     ]
    },
    {
     "name": "stdout",
     "output_type": "stream",
     "text": [
      "| \u001b[0m 1       \u001b[0m | \u001b[0m 1.727e+0\u001b[0m | \u001b[0m 0.9098  \u001b[0m | \u001b[0m 0.6722  \u001b[0m | \u001b[0m 0.04617 \u001b[0m | \u001b[0m 7.174   \u001b[0m | \u001b[0m 24.06   \u001b[0m | \u001b[0m 0.06494 \u001b[0m | \u001b[0m 493.8   \u001b[0m | \u001b[0m 42.73   \u001b[0m | \u001b[0m 48.55   \u001b[0m |\n"
     ]
    },
    {
     "name": "stderr",
     "output_type": "stream",
     "text": [
      "/usr/local/lib/python3.5/dist-packages/lightgbm/engine.py:503: UserWarning: Found `n_estimators` in params. Will use it instead of argument\n",
      "  warnings.warn(\"Found `{}` in params. Will use it instead of argument\".format(alias))\n",
      "/usr/local/lib/python3.5/dist-packages/sklearn/model_selection/_split.py:657: Warning: The least populated class in y has only 1 members, which is too few. The minimum number of members in any class cannot be less than n_splits=5.\n",
      "  % (min_groups, self.n_splits)), Warning)\n"
     ]
    },
    {
     "name": "stdout",
     "output_type": "stream",
     "text": [
      "| \u001b[95m 2       \u001b[0m | \u001b[95m 1.739e+0\u001b[0m | \u001b[95m 0.8767  \u001b[0m | \u001b[95m 0.7334  \u001b[0m | \u001b[95m 0.04173 \u001b[0m | \u001b[95m 7.266   \u001b[0m | \u001b[95m 46.65   \u001b[0m | \u001b[95m 0.008033\u001b[0m | \u001b[95m 178.4   \u001b[0m | \u001b[95m 24.42   \u001b[0m | \u001b[95m 43.3    \u001b[0m |\n"
     ]
    },
    {
     "name": "stderr",
     "output_type": "stream",
     "text": [
      "/usr/local/lib/python3.5/dist-packages/lightgbm/engine.py:503: UserWarning: Found `n_estimators` in params. Will use it instead of argument\n",
      "  warnings.warn(\"Found `{}` in params. Will use it instead of argument\".format(alias))\n",
      "/usr/local/lib/python3.5/dist-packages/sklearn/model_selection/_split.py:657: Warning: The least populated class in y has only 1 members, which is too few. The minimum number of members in any class cannot be less than n_splits=5.\n",
      "  % (min_groups, self.n_splits)), Warning)\n"
     ]
    },
    {
     "name": "stdout",
     "output_type": "stream",
     "text": [
      "| \u001b[0m 3       \u001b[0m | \u001b[0m 1.702e+0\u001b[0m | \u001b[0m 0.9556  \u001b[0m | \u001b[0m 0.796   \u001b[0m | \u001b[0m 0.06872 \u001b[0m | \u001b[0m 8.189   \u001b[0m | \u001b[0m 25.77   \u001b[0m | \u001b[0m 0.07827 \u001b[0m | \u001b[0m 206.4   \u001b[0m | \u001b[0m 37.44   \u001b[0m | \u001b[0m 15.73   \u001b[0m |\n"
     ]
    },
    {
     "name": "stderr",
     "output_type": "stream",
     "text": [
      "/usr/local/lib/python3.5/dist-packages/lightgbm/engine.py:503: UserWarning: Found `n_estimators` in params. Will use it instead of argument\n",
      "  warnings.warn(\"Found `{}` in params. Will use it instead of argument\".format(alias))\n",
      "/usr/local/lib/python3.5/dist-packages/sklearn/model_selection/_split.py:657: Warning: The least populated class in y has only 1 members, which is too few. The minimum number of members in any class cannot be less than n_splits=5.\n",
      "  % (min_groups, self.n_splits)), Warning)\n"
     ]
    },
    {
     "name": "stdout",
     "output_type": "stream",
     "text": [
      "| \u001b[95m 4       \u001b[0m | \u001b[95m 1.772e+0\u001b[0m | \u001b[95m 0.8844  \u001b[0m | \u001b[95m 0.2402  \u001b[0m | \u001b[95m 0.01921 \u001b[0m | \u001b[95m 8.225   \u001b[0m | \u001b[95m 9.211   \u001b[0m | \u001b[95m 0.001068\u001b[0m | \u001b[95m 749.3   \u001b[0m | \u001b[95m 30.28   \u001b[0m | \u001b[95m 39.33   \u001b[0m |\n"
     ]
    },
    {
     "name": "stderr",
     "output_type": "stream",
     "text": [
      "/usr/local/lib/python3.5/dist-packages/lightgbm/engine.py:503: UserWarning: Found `n_estimators` in params. Will use it instead of argument\n",
      "  warnings.warn(\"Found `{}` in params. Will use it instead of argument\".format(alias))\n",
      "/usr/local/lib/python3.5/dist-packages/sklearn/model_selection/_split.py:657: Warning: The least populated class in y has only 1 members, which is too few. The minimum number of members in any class cannot be less than n_splits=5.\n",
      "  % (min_groups, self.n_splits)), Warning)\n"
     ]
    },
    {
     "name": "stdout",
     "output_type": "stream",
     "text": [
      "| \u001b[0m 5       \u001b[0m | \u001b[0m 1.761e+0\u001b[0m | \u001b[0m 0.8595  \u001b[0m | \u001b[0m 0.843   \u001b[0m | \u001b[0m 0.01736 \u001b[0m | \u001b[0m 5.968   \u001b[0m | \u001b[0m 23.52   \u001b[0m | \u001b[0m 0.03308 \u001b[0m | \u001b[0m 615.2   \u001b[0m | \u001b[0m 28.82   \u001b[0m | \u001b[0m 47.88   \u001b[0m |\n"
     ]
    },
    {
     "name": "stderr",
     "output_type": "stream",
     "text": [
      "/usr/local/lib/python3.5/dist-packages/lightgbm/engine.py:503: UserWarning: Found `n_estimators` in params. Will use it instead of argument\n",
      "  warnings.warn(\"Found `{}` in params. Will use it instead of argument\".format(alias))\n",
      "/usr/local/lib/python3.5/dist-packages/sklearn/model_selection/_split.py:657: Warning: The least populated class in y has only 1 members, which is too few. The minimum number of members in any class cannot be less than n_splits=5.\n",
      "  % (min_groups, self.n_splits)), Warning)\n"
     ]
    },
    {
     "name": "stdout",
     "output_type": "stream",
     "text": [
      "| \u001b[0m 6       \u001b[0m | \u001b[0m 1.755e+0\u001b[0m | \u001b[0m 0.9116  \u001b[0m | \u001b[0m 0.6652  \u001b[0m | \u001b[0m 0.0291  \u001b[0m | \u001b[0m 6.534   \u001b[0m | \u001b[0m 18.14   \u001b[0m | \u001b[0m 0.06617 \u001b[0m | \u001b[0m 609.8   \u001b[0m | \u001b[0m 29.32   \u001b[0m | \u001b[0m 45.58   \u001b[0m |\n"
     ]
    },
    {
     "name": "stderr",
     "output_type": "stream",
     "text": [
      "/usr/local/lib/python3.5/dist-packages/lightgbm/engine.py:503: UserWarning: Found `n_estimators` in params. Will use it instead of argument\n",
      "  warnings.warn(\"Found `{}` in params. Will use it instead of argument\".format(alias))\n",
      "/usr/local/lib/python3.5/dist-packages/sklearn/model_selection/_split.py:657: Warning: The least populated class in y has only 1 members, which is too few. The minimum number of members in any class cannot be less than n_splits=5.\n",
      "  % (min_groups, self.n_splits)), Warning)\n"
     ]
    },
    {
     "name": "stdout",
     "output_type": "stream",
     "text": [
      "| \u001b[0m 7       \u001b[0m | \u001b[0m 1.711e+0\u001b[0m | \u001b[0m 0.9396  \u001b[0m | \u001b[0m 0.2106  \u001b[0m | \u001b[0m 0.06445 \u001b[0m | \u001b[0m 7.494   \u001b[0m | \u001b[0m 34.7    \u001b[0m | \u001b[0m 0.06542 \u001b[0m | \u001b[0m 662.8   \u001b[0m | \u001b[0m 28.8    \u001b[0m | \u001b[0m 36.39   \u001b[0m |\n"
     ]
    },
    {
     "name": "stderr",
     "output_type": "stream",
     "text": [
      "/usr/local/lib/python3.5/dist-packages/lightgbm/engine.py:503: UserWarning: Found `n_estimators` in params. Will use it instead of argument\n",
      "  warnings.warn(\"Found `{}` in params. Will use it instead of argument\".format(alias))\n",
      "/usr/local/lib/python3.5/dist-packages/sklearn/model_selection/_split.py:657: Warning: The least populated class in y has only 1 members, which is too few. The minimum number of members in any class cannot be less than n_splits=5.\n",
      "  % (min_groups, self.n_splits)), Warning)\n"
     ]
    },
    {
     "name": "stdout",
     "output_type": "stream",
     "text": [
      "| \u001b[0m 8       \u001b[0m | \u001b[0m 1.722e+0\u001b[0m | \u001b[0m 0.9603  \u001b[0m | \u001b[0m 0.865   \u001b[0m | \u001b[0m 0.05059 \u001b[0m | \u001b[0m 6.625   \u001b[0m | \u001b[0m 21.06   \u001b[0m | \u001b[0m 0.02608 \u001b[0m | \u001b[0m 141.6   \u001b[0m | \u001b[0m 36.43   \u001b[0m | \u001b[0m 18.61   \u001b[0m |\n"
     ]
    },
    {
     "name": "stderr",
     "output_type": "stream",
     "text": [
      "/usr/local/lib/python3.5/dist-packages/lightgbm/engine.py:503: UserWarning: Found `n_estimators` in params. Will use it instead of argument\n",
      "  warnings.warn(\"Found `{}` in params. Will use it instead of argument\".format(alias))\n",
      "/usr/local/lib/python3.5/dist-packages/sklearn/model_selection/_split.py:657: Warning: The least populated class in y has only 1 members, which is too few. The minimum number of members in any class cannot be less than n_splits=5.\n",
      "  % (min_groups, self.n_splits)), Warning)\n"
     ]
    },
    {
     "name": "stdout",
     "output_type": "stream",
     "text": [
      "| \u001b[0m 9       \u001b[0m | \u001b[0m 1.713e+0\u001b[0m | \u001b[0m 0.9577  \u001b[0m | \u001b[0m 0.6611  \u001b[0m | \u001b[0m 0.05888 \u001b[0m | \u001b[0m 7.25    \u001b[0m | \u001b[0m 41.3    \u001b[0m | \u001b[0m 0.07923 \u001b[0m | \u001b[0m 836.8   \u001b[0m | \u001b[0m 32.23   \u001b[0m | \u001b[0m 37.26   \u001b[0m |\n"
     ]
    },
    {
     "name": "stderr",
     "output_type": "stream",
     "text": [
      "/usr/local/lib/python3.5/dist-packages/lightgbm/engine.py:503: UserWarning: Found `n_estimators` in params. Will use it instead of argument\n",
      "  warnings.warn(\"Found `{}` in params. Will use it instead of argument\".format(alias))\n",
      "/usr/local/lib/python3.5/dist-packages/sklearn/model_selection/_split.py:657: Warning: The least populated class in y has only 1 members, which is too few. The minimum number of members in any class cannot be less than n_splits=5.\n",
      "  % (min_groups, self.n_splits)), Warning)\n"
     ]
    },
    {
     "name": "stdout",
     "output_type": "stream",
     "text": [
      "| \u001b[0m 10      \u001b[0m | \u001b[0m 1.758e+0\u001b[0m | \u001b[0m 0.8575  \u001b[0m | \u001b[0m 0.2975  \u001b[0m | \u001b[0m 0.03868 \u001b[0m | \u001b[0m 5.398   \u001b[0m | \u001b[0m 40.28   \u001b[0m | \u001b[0m 0.09882 \u001b[0m | \u001b[0m 179.3   \u001b[0m | \u001b[0m 25.36   \u001b[0m | \u001b[0m 38.65   \u001b[0m |\n"
     ]
    },
    {
     "name": "stderr",
     "output_type": "stream",
     "text": [
      "/usr/local/lib/python3.5/dist-packages/lightgbm/engine.py:503: UserWarning: Found `n_estimators` in params. Will use it instead of argument\n",
      "  warnings.warn(\"Found `{}` in params. Will use it instead of argument\".format(alias))\n",
      "/usr/local/lib/python3.5/dist-packages/sklearn/model_selection/_split.py:657: Warning: The least populated class in y has only 1 members, which is too few. The minimum number of members in any class cannot be less than n_splits=5.\n",
      "  % (min_groups, self.n_splits)), Warning)\n"
     ]
    },
    {
     "name": "stdout",
     "output_type": "stream",
     "text": [
      "| \u001b[0m 11      \u001b[0m | \u001b[0m 1.759e+0\u001b[0m | \u001b[0m 0.951   \u001b[0m | \u001b[0m 0.6561  \u001b[0m | \u001b[0m 0.02132 \u001b[0m | \u001b[0m 8.973   \u001b[0m | \u001b[0m 41.21   \u001b[0m | \u001b[0m 0.04594 \u001b[0m | \u001b[0m 289.4   \u001b[0m | \u001b[0m 26.45   \u001b[0m | \u001b[0m 28.42   \u001b[0m |\n"
     ]
    },
    {
     "name": "stderr",
     "output_type": "stream",
     "text": [
      "/usr/local/lib/python3.5/dist-packages/lightgbm/engine.py:503: UserWarning: Found `n_estimators` in params. Will use it instead of argument\n",
      "  warnings.warn(\"Found `{}` in params. Will use it instead of argument\".format(alias))\n",
      "/usr/local/lib/python3.5/dist-packages/sklearn/model_selection/_split.py:657: Warning: The least populated class in y has only 1 members, which is too few. The minimum number of members in any class cannot be less than n_splits=5.\n",
      "  % (min_groups, self.n_splits)), Warning)\n"
     ]
    },
    {
     "name": "stdout",
     "output_type": "stream",
     "text": [
      "| \u001b[0m 12      \u001b[0m | \u001b[0m 1.766e+0\u001b[0m | \u001b[0m 0.8457  \u001b[0m | \u001b[0m 0.4622  \u001b[0m | \u001b[0m 0.01581 \u001b[0m | \u001b[0m 6.111   \u001b[0m | \u001b[0m 28.36   \u001b[0m | \u001b[0m 0.05396 \u001b[0m | \u001b[0m 754.0   \u001b[0m | \u001b[0m 38.65   \u001b[0m | \u001b[0m 44.3    \u001b[0m |\n"
     ]
    },
    {
     "name": "stderr",
     "output_type": "stream",
     "text": [
      "/usr/local/lib/python3.5/dist-packages/lightgbm/engine.py:503: UserWarning: Found `n_estimators` in params. Will use it instead of argument\n",
      "  warnings.warn(\"Found `{}` in params. Will use it instead of argument\".format(alias))\n",
      "/usr/local/lib/python3.5/dist-packages/sklearn/model_selection/_split.py:657: Warning: The least populated class in y has only 1 members, which is too few. The minimum number of members in any class cannot be less than n_splits=5.\n",
      "  % (min_groups, self.n_splits)), Warning)\n"
     ]
    },
    {
     "name": "stdout",
     "output_type": "stream",
     "text": [
      "| \u001b[0m 13      \u001b[0m | \u001b[0m 1.73e+06\u001b[0m | \u001b[0m 0.853   \u001b[0m | \u001b[0m 0.4545  \u001b[0m | \u001b[0m 0.0522  \u001b[0m | \u001b[0m 5.427   \u001b[0m | \u001b[0m 38.43   \u001b[0m | \u001b[0m 0.001316\u001b[0m | \u001b[0m 103.9   \u001b[0m | \u001b[0m 33.05   \u001b[0m | \u001b[0m 13.05   \u001b[0m |\n",
      "=====================================================================================================================================\n",
      "|   iter    |  target   | baggin... | featur... | learni... | max_depth | min_ch... | min_sp... | n_esti... | num_le... |   seed    |\n",
      "-------------------------------------------------------------------------------------------------------------------------------------\n"
     ]
    },
    {
     "name": "stderr",
     "output_type": "stream",
     "text": [
      "/usr/local/lib/python3.5/dist-packages/lightgbm/engine.py:503: UserWarning: Found `n_estimators` in params. Will use it instead of argument\n",
      "  warnings.warn(\"Found `{}` in params. Will use it instead of argument\".format(alias))\n",
      "/usr/local/lib/python3.5/dist-packages/sklearn/model_selection/_split.py:657: Warning: The least populated class in y has only 1 members, which is too few. The minimum number of members in any class cannot be less than n_splits=5.\n",
      "  % (min_groups, self.n_splits)), Warning)\n"
     ]
    },
    {
     "name": "stdout",
     "output_type": "stream",
     "text": [
      "| \u001b[0m 1       \u001b[0m | \u001b[0m 1.787e+0\u001b[0m | \u001b[0m 0.9098  \u001b[0m | \u001b[0m 0.6722  \u001b[0m | \u001b[0m 0.04617 \u001b[0m | \u001b[0m 7.174   \u001b[0m | \u001b[0m 24.06   \u001b[0m | \u001b[0m 0.06494 \u001b[0m | \u001b[0m 493.8   \u001b[0m | \u001b[0m 42.73   \u001b[0m | \u001b[0m 48.55   \u001b[0m |\n"
     ]
    },
    {
     "name": "stderr",
     "output_type": "stream",
     "text": [
      "/usr/local/lib/python3.5/dist-packages/lightgbm/engine.py:503: UserWarning: Found `n_estimators` in params. Will use it instead of argument\n",
      "  warnings.warn(\"Found `{}` in params. Will use it instead of argument\".format(alias))\n",
      "/usr/local/lib/python3.5/dist-packages/sklearn/model_selection/_split.py:657: Warning: The least populated class in y has only 1 members, which is too few. The minimum number of members in any class cannot be less than n_splits=5.\n",
      "  % (min_groups, self.n_splits)), Warning)\n"
     ]
    },
    {
     "name": "stdout",
     "output_type": "stream",
     "text": [
      "| \u001b[95m 2       \u001b[0m | \u001b[95m 1.801e+0\u001b[0m | \u001b[95m 0.8767  \u001b[0m | \u001b[95m 0.7334  \u001b[0m | \u001b[95m 0.04173 \u001b[0m | \u001b[95m 7.266   \u001b[0m | \u001b[95m 46.65   \u001b[0m | \u001b[95m 0.008033\u001b[0m | \u001b[95m 178.4   \u001b[0m | \u001b[95m 24.42   \u001b[0m | \u001b[95m 43.3    \u001b[0m |\n"
     ]
    },
    {
     "name": "stderr",
     "output_type": "stream",
     "text": [
      "/usr/local/lib/python3.5/dist-packages/lightgbm/engine.py:503: UserWarning: Found `n_estimators` in params. Will use it instead of argument\n",
      "  warnings.warn(\"Found `{}` in params. Will use it instead of argument\".format(alias))\n",
      "/usr/local/lib/python3.5/dist-packages/sklearn/model_selection/_split.py:657: Warning: The least populated class in y has only 1 members, which is too few. The minimum number of members in any class cannot be less than n_splits=5.\n",
      "  % (min_groups, self.n_splits)), Warning)\n"
     ]
    },
    {
     "name": "stdout",
     "output_type": "stream",
     "text": [
      "| \u001b[0m 3       \u001b[0m | \u001b[0m 1.76e+06\u001b[0m | \u001b[0m 0.9556  \u001b[0m | \u001b[0m 0.796   \u001b[0m | \u001b[0m 0.06872 \u001b[0m | \u001b[0m 8.189   \u001b[0m | \u001b[0m 25.77   \u001b[0m | \u001b[0m 0.07827 \u001b[0m | \u001b[0m 206.4   \u001b[0m | \u001b[0m 37.44   \u001b[0m | \u001b[0m 15.73   \u001b[0m |\n"
     ]
    },
    {
     "name": "stderr",
     "output_type": "stream",
     "text": [
      "/usr/local/lib/python3.5/dist-packages/lightgbm/engine.py:503: UserWarning: Found `n_estimators` in params. Will use it instead of argument\n",
      "  warnings.warn(\"Found `{}` in params. Will use it instead of argument\".format(alias))\n",
      "/usr/local/lib/python3.5/dist-packages/sklearn/model_selection/_split.py:657: Warning: The least populated class in y has only 1 members, which is too few. The minimum number of members in any class cannot be less than n_splits=5.\n",
      "  % (min_groups, self.n_splits)), Warning)\n"
     ]
    },
    {
     "name": "stdout",
     "output_type": "stream",
     "text": [
      "| \u001b[95m 4       \u001b[0m | \u001b[95m 1.839e+0\u001b[0m | \u001b[95m 0.8844  \u001b[0m | \u001b[95m 0.2402  \u001b[0m | \u001b[95m 0.01921 \u001b[0m | \u001b[95m 8.225   \u001b[0m | \u001b[95m 9.211   \u001b[0m | \u001b[95m 0.001068\u001b[0m | \u001b[95m 749.3   \u001b[0m | \u001b[95m 30.28   \u001b[0m | \u001b[95m 39.33   \u001b[0m |\n"
     ]
    },
    {
     "name": "stderr",
     "output_type": "stream",
     "text": [
      "/usr/local/lib/python3.5/dist-packages/lightgbm/engine.py:503: UserWarning: Found `n_estimators` in params. Will use it instead of argument\n",
      "  warnings.warn(\"Found `{}` in params. Will use it instead of argument\".format(alias))\n",
      "/usr/local/lib/python3.5/dist-packages/sklearn/model_selection/_split.py:657: Warning: The least populated class in y has only 1 members, which is too few. The minimum number of members in any class cannot be less than n_splits=5.\n",
      "  % (min_groups, self.n_splits)), Warning)\n"
     ]
    },
    {
     "name": "stdout",
     "output_type": "stream",
     "text": [
      "| \u001b[0m 5       \u001b[0m | \u001b[0m 1.826e+0\u001b[0m | \u001b[0m 0.8595  \u001b[0m | \u001b[0m 0.843   \u001b[0m | \u001b[0m 0.01736 \u001b[0m | \u001b[0m 5.968   \u001b[0m | \u001b[0m 23.52   \u001b[0m | \u001b[0m 0.03308 \u001b[0m | \u001b[0m 615.2   \u001b[0m | \u001b[0m 28.82   \u001b[0m | \u001b[0m 47.88   \u001b[0m |\n"
     ]
    },
    {
     "name": "stderr",
     "output_type": "stream",
     "text": [
      "/usr/local/lib/python3.5/dist-packages/lightgbm/engine.py:503: UserWarning: Found `n_estimators` in params. Will use it instead of argument\n",
      "  warnings.warn(\"Found `{}` in params. Will use it instead of argument\".format(alias))\n",
      "/usr/local/lib/python3.5/dist-packages/sklearn/model_selection/_split.py:657: Warning: The least populated class in y has only 1 members, which is too few. The minimum number of members in any class cannot be less than n_splits=5.\n",
      "  % (min_groups, self.n_splits)), Warning)\n"
     ]
    },
    {
     "name": "stdout",
     "output_type": "stream",
     "text": [
      "| \u001b[0m 6       \u001b[0m | \u001b[0m 1.819e+0\u001b[0m | \u001b[0m 0.9116  \u001b[0m | \u001b[0m 0.6652  \u001b[0m | \u001b[0m 0.0291  \u001b[0m | \u001b[0m 6.534   \u001b[0m | \u001b[0m 18.14   \u001b[0m | \u001b[0m 0.06617 \u001b[0m | \u001b[0m 609.8   \u001b[0m | \u001b[0m 29.32   \u001b[0m | \u001b[0m 45.58   \u001b[0m |\n"
     ]
    },
    {
     "name": "stderr",
     "output_type": "stream",
     "text": [
      "/usr/local/lib/python3.5/dist-packages/lightgbm/engine.py:503: UserWarning: Found `n_estimators` in params. Will use it instead of argument\n",
      "  warnings.warn(\"Found `{}` in params. Will use it instead of argument\".format(alias))\n",
      "/usr/local/lib/python3.5/dist-packages/sklearn/model_selection/_split.py:657: Warning: The least populated class in y has only 1 members, which is too few. The minimum number of members in any class cannot be less than n_splits=5.\n",
      "  % (min_groups, self.n_splits)), Warning)\n"
     ]
    },
    {
     "name": "stdout",
     "output_type": "stream",
     "text": [
      "| \u001b[0m 7       \u001b[0m | \u001b[0m 1.768e+0\u001b[0m | \u001b[0m 0.9396  \u001b[0m | \u001b[0m 0.2106  \u001b[0m | \u001b[0m 0.06445 \u001b[0m | \u001b[0m 7.494   \u001b[0m | \u001b[0m 34.7    \u001b[0m | \u001b[0m 0.06542 \u001b[0m | \u001b[0m 662.8   \u001b[0m | \u001b[0m 28.8    \u001b[0m | \u001b[0m 36.39   \u001b[0m |\n"
     ]
    },
    {
     "name": "stderr",
     "output_type": "stream",
     "text": [
      "/usr/local/lib/python3.5/dist-packages/lightgbm/engine.py:503: UserWarning: Found `n_estimators` in params. Will use it instead of argument\n",
      "  warnings.warn(\"Found `{}` in params. Will use it instead of argument\".format(alias))\n",
      "/usr/local/lib/python3.5/dist-packages/sklearn/model_selection/_split.py:657: Warning: The least populated class in y has only 1 members, which is too few. The minimum number of members in any class cannot be less than n_splits=5.\n",
      "  % (min_groups, self.n_splits)), Warning)\n"
     ]
    },
    {
     "name": "stdout",
     "output_type": "stream",
     "text": [
      "| \u001b[0m 8       \u001b[0m | \u001b[0m 1.783e+0\u001b[0m | \u001b[0m 0.9603  \u001b[0m | \u001b[0m 0.865   \u001b[0m | \u001b[0m 0.05059 \u001b[0m | \u001b[0m 6.625   \u001b[0m | \u001b[0m 21.06   \u001b[0m | \u001b[0m 0.02608 \u001b[0m | \u001b[0m 141.6   \u001b[0m | \u001b[0m 36.43   \u001b[0m | \u001b[0m 18.61   \u001b[0m |\n"
     ]
    },
    {
     "name": "stderr",
     "output_type": "stream",
     "text": [
      "/usr/local/lib/python3.5/dist-packages/lightgbm/engine.py:503: UserWarning: Found `n_estimators` in params. Will use it instead of argument\n",
      "  warnings.warn(\"Found `{}` in params. Will use it instead of argument\".format(alias))\n",
      "/usr/local/lib/python3.5/dist-packages/sklearn/model_selection/_split.py:657: Warning: The least populated class in y has only 1 members, which is too few. The minimum number of members in any class cannot be less than n_splits=5.\n",
      "  % (min_groups, self.n_splits)), Warning)\n"
     ]
    },
    {
     "name": "stdout",
     "output_type": "stream",
     "text": [
      "| \u001b[0m 9       \u001b[0m | \u001b[0m 1.774e+0\u001b[0m | \u001b[0m 0.9577  \u001b[0m | \u001b[0m 0.6611  \u001b[0m | \u001b[0m 0.05888 \u001b[0m | \u001b[0m 7.25    \u001b[0m | \u001b[0m 41.3    \u001b[0m | \u001b[0m 0.07923 \u001b[0m | \u001b[0m 836.8   \u001b[0m | \u001b[0m 32.23   \u001b[0m | \u001b[0m 37.26   \u001b[0m |\n"
     ]
    },
    {
     "name": "stderr",
     "output_type": "stream",
     "text": [
      "/usr/local/lib/python3.5/dist-packages/lightgbm/engine.py:503: UserWarning: Found `n_estimators` in params. Will use it instead of argument\n",
      "  warnings.warn(\"Found `{}` in params. Will use it instead of argument\".format(alias))\n",
      "/usr/local/lib/python3.5/dist-packages/sklearn/model_selection/_split.py:657: Warning: The least populated class in y has only 1 members, which is too few. The minimum number of members in any class cannot be less than n_splits=5.\n",
      "  % (min_groups, self.n_splits)), Warning)\n"
     ]
    },
    {
     "name": "stdout",
     "output_type": "stream",
     "text": [
      "| \u001b[0m 10      \u001b[0m | \u001b[0m 1.826e+0\u001b[0m | \u001b[0m 0.8575  \u001b[0m | \u001b[0m 0.2975  \u001b[0m | \u001b[0m 0.03868 \u001b[0m | \u001b[0m 5.398   \u001b[0m | \u001b[0m 40.28   \u001b[0m | \u001b[0m 0.09882 \u001b[0m | \u001b[0m 179.3   \u001b[0m | \u001b[0m 25.36   \u001b[0m | \u001b[0m 38.65   \u001b[0m |\n"
     ]
    },
    {
     "name": "stderr",
     "output_type": "stream",
     "text": [
      "/usr/local/lib/python3.5/dist-packages/lightgbm/engine.py:503: UserWarning: Found `n_estimators` in params. Will use it instead of argument\n",
      "  warnings.warn(\"Found `{}` in params. Will use it instead of argument\".format(alias))\n",
      "/usr/local/lib/python3.5/dist-packages/sklearn/model_selection/_split.py:657: Warning: The least populated class in y has only 1 members, which is too few. The minimum number of members in any class cannot be less than n_splits=5.\n",
      "  % (min_groups, self.n_splits)), Warning)\n"
     ]
    },
    {
     "name": "stdout",
     "output_type": "stream",
     "text": [
      "| \u001b[0m 11      \u001b[0m | \u001b[0m 1.823e+0\u001b[0m | \u001b[0m 0.951   \u001b[0m | \u001b[0m 0.6561  \u001b[0m | \u001b[0m 0.02132 \u001b[0m | \u001b[0m 8.973   \u001b[0m | \u001b[0m 41.21   \u001b[0m | \u001b[0m 0.04594 \u001b[0m | \u001b[0m 289.4   \u001b[0m | \u001b[0m 26.45   \u001b[0m | \u001b[0m 28.42   \u001b[0m |\n"
     ]
    },
    {
     "name": "stderr",
     "output_type": "stream",
     "text": [
      "/usr/local/lib/python3.5/dist-packages/lightgbm/engine.py:503: UserWarning: Found `n_estimators` in params. Will use it instead of argument\n",
      "  warnings.warn(\"Found `{}` in params. Will use it instead of argument\".format(alias))\n",
      "/usr/local/lib/python3.5/dist-packages/sklearn/model_selection/_split.py:657: Warning: The least populated class in y has only 1 members, which is too few. The minimum number of members in any class cannot be less than n_splits=5.\n",
      "  % (min_groups, self.n_splits)), Warning)\n"
     ]
    },
    {
     "name": "stdout",
     "output_type": "stream",
     "text": [
      "| \u001b[0m 12      \u001b[0m | \u001b[0m 1.83e+06\u001b[0m | \u001b[0m 0.8457  \u001b[0m | \u001b[0m 0.4622  \u001b[0m | \u001b[0m 0.01581 \u001b[0m | \u001b[0m 6.111   \u001b[0m | \u001b[0m 28.36   \u001b[0m | \u001b[0m 0.05396 \u001b[0m | \u001b[0m 754.0   \u001b[0m | \u001b[0m 38.65   \u001b[0m | \u001b[0m 44.3    \u001b[0m |\n"
     ]
    },
    {
     "name": "stderr",
     "output_type": "stream",
     "text": [
      "/usr/local/lib/python3.5/dist-packages/lightgbm/engine.py:503: UserWarning: Found `n_estimators` in params. Will use it instead of argument\n",
      "  warnings.warn(\"Found `{}` in params. Will use it instead of argument\".format(alias))\n",
      "/usr/local/lib/python3.5/dist-packages/sklearn/model_selection/_split.py:657: Warning: The least populated class in y has only 1 members, which is too few. The minimum number of members in any class cannot be less than n_splits=5.\n",
      "  % (min_groups, self.n_splits)), Warning)\n"
     ]
    },
    {
     "name": "stdout",
     "output_type": "stream",
     "text": [
      "| \u001b[0m 13      \u001b[0m | \u001b[0m 1.791e+0\u001b[0m | \u001b[0m 0.853   \u001b[0m | \u001b[0m 0.4545  \u001b[0m | \u001b[0m 0.0522  \u001b[0m | \u001b[0m 5.427   \u001b[0m | \u001b[0m 38.43   \u001b[0m | \u001b[0m 0.001316\u001b[0m | \u001b[0m 103.9   \u001b[0m | \u001b[0m 33.05   \u001b[0m | \u001b[0m 13.05   \u001b[0m |\n",
      "=====================================================================================================================================\n",
      "|   iter    |  target   | baggin... | featur... | learni... | max_depth | min_ch... | min_sp... | n_esti... | num_le... |   seed    |\n",
      "-------------------------------------------------------------------------------------------------------------------------------------\n"
     ]
    },
    {
     "name": "stderr",
     "output_type": "stream",
     "text": [
      "/usr/local/lib/python3.5/dist-packages/lightgbm/engine.py:503: UserWarning: Found `n_estimators` in params. Will use it instead of argument\n",
      "  warnings.warn(\"Found `{}` in params. Will use it instead of argument\".format(alias))\n",
      "/usr/local/lib/python3.5/dist-packages/sklearn/model_selection/_split.py:657: Warning: The least populated class in y has only 1 members, which is too few. The minimum number of members in any class cannot be less than n_splits=5.\n",
      "  % (min_groups, self.n_splits)), Warning)\n"
     ]
    },
    {
     "name": "stdout",
     "output_type": "stream",
     "text": [
      "| \u001b[0m 1       \u001b[0m | \u001b[0m 1.921e+0\u001b[0m | \u001b[0m 0.9098  \u001b[0m | \u001b[0m 0.6722  \u001b[0m | \u001b[0m 0.04617 \u001b[0m | \u001b[0m 7.174   \u001b[0m | \u001b[0m 24.06   \u001b[0m | \u001b[0m 0.06494 \u001b[0m | \u001b[0m 493.8   \u001b[0m | \u001b[0m 42.73   \u001b[0m | \u001b[0m 48.55   \u001b[0m |\n"
     ]
    },
    {
     "name": "stderr",
     "output_type": "stream",
     "text": [
      "/usr/local/lib/python3.5/dist-packages/lightgbm/engine.py:503: UserWarning: Found `n_estimators` in params. Will use it instead of argument\n",
      "  warnings.warn(\"Found `{}` in params. Will use it instead of argument\".format(alias))\n",
      "/usr/local/lib/python3.5/dist-packages/sklearn/model_selection/_split.py:657: Warning: The least populated class in y has only 1 members, which is too few. The minimum number of members in any class cannot be less than n_splits=5.\n",
      "  % (min_groups, self.n_splits)), Warning)\n"
     ]
    },
    {
     "name": "stdout",
     "output_type": "stream",
     "text": [
      "| \u001b[95m 2       \u001b[0m | \u001b[95m 1.934e+0\u001b[0m | \u001b[95m 0.8767  \u001b[0m | \u001b[95m 0.7334  \u001b[0m | \u001b[95m 0.04173 \u001b[0m | \u001b[95m 7.266   \u001b[0m | \u001b[95m 46.65   \u001b[0m | \u001b[95m 0.008033\u001b[0m | \u001b[95m 178.4   \u001b[0m | \u001b[95m 24.42   \u001b[0m | \u001b[95m 43.3    \u001b[0m |\n"
     ]
    },
    {
     "name": "stderr",
     "output_type": "stream",
     "text": [
      "/usr/local/lib/python3.5/dist-packages/lightgbm/engine.py:503: UserWarning: Found `n_estimators` in params. Will use it instead of argument\n",
      "  warnings.warn(\"Found `{}` in params. Will use it instead of argument\".format(alias))\n",
      "/usr/local/lib/python3.5/dist-packages/sklearn/model_selection/_split.py:657: Warning: The least populated class in y has only 1 members, which is too few. The minimum number of members in any class cannot be less than n_splits=5.\n",
      "  % (min_groups, self.n_splits)), Warning)\n"
     ]
    },
    {
     "name": "stdout",
     "output_type": "stream",
     "text": [
      "| \u001b[0m 3       \u001b[0m | \u001b[0m 1.893e+0\u001b[0m | \u001b[0m 0.9556  \u001b[0m | \u001b[0m 0.796   \u001b[0m | \u001b[0m 0.06872 \u001b[0m | \u001b[0m 8.189   \u001b[0m | \u001b[0m 25.77   \u001b[0m | \u001b[0m 0.07827 \u001b[0m | \u001b[0m 206.4   \u001b[0m | \u001b[0m 37.44   \u001b[0m | \u001b[0m 15.73   \u001b[0m |\n"
     ]
    },
    {
     "name": "stderr",
     "output_type": "stream",
     "text": [
      "/usr/local/lib/python3.5/dist-packages/lightgbm/engine.py:503: UserWarning: Found `n_estimators` in params. Will use it instead of argument\n",
      "  warnings.warn(\"Found `{}` in params. Will use it instead of argument\".format(alias))\n",
      "/usr/local/lib/python3.5/dist-packages/sklearn/model_selection/_split.py:657: Warning: The least populated class in y has only 1 members, which is too few. The minimum number of members in any class cannot be less than n_splits=5.\n",
      "  % (min_groups, self.n_splits)), Warning)\n"
     ]
    },
    {
     "name": "stdout",
     "output_type": "stream",
     "text": [
      "| \u001b[95m 4       \u001b[0m | \u001b[95m 1.98e+06\u001b[0m | \u001b[95m 0.8844  \u001b[0m | \u001b[95m 0.2402  \u001b[0m | \u001b[95m 0.01921 \u001b[0m | \u001b[95m 8.225   \u001b[0m | \u001b[95m 9.211   \u001b[0m | \u001b[95m 0.001068\u001b[0m | \u001b[95m 749.3   \u001b[0m | \u001b[95m 30.28   \u001b[0m | \u001b[95m 39.33   \u001b[0m |\n"
     ]
    },
    {
     "name": "stderr",
     "output_type": "stream",
     "text": [
      "/usr/local/lib/python3.5/dist-packages/lightgbm/engine.py:503: UserWarning: Found `n_estimators` in params. Will use it instead of argument\n",
      "  warnings.warn(\"Found `{}` in params. Will use it instead of argument\".format(alias))\n",
      "/usr/local/lib/python3.5/dist-packages/sklearn/model_selection/_split.py:657: Warning: The least populated class in y has only 1 members, which is too few. The minimum number of members in any class cannot be less than n_splits=5.\n",
      "  % (min_groups, self.n_splits)), Warning)\n"
     ]
    },
    {
     "name": "stdout",
     "output_type": "stream",
     "text": [
      "| \u001b[0m 5       \u001b[0m | \u001b[0m 1.959e+0\u001b[0m | \u001b[0m 0.8595  \u001b[0m | \u001b[0m 0.843   \u001b[0m | \u001b[0m 0.01736 \u001b[0m | \u001b[0m 5.968   \u001b[0m | \u001b[0m 23.52   \u001b[0m | \u001b[0m 0.03308 \u001b[0m | \u001b[0m 615.2   \u001b[0m | \u001b[0m 28.82   \u001b[0m | \u001b[0m 47.88   \u001b[0m |\n"
     ]
    },
    {
     "name": "stderr",
     "output_type": "stream",
     "text": [
      "/usr/local/lib/python3.5/dist-packages/lightgbm/engine.py:503: UserWarning: Found `n_estimators` in params. Will use it instead of argument\n",
      "  warnings.warn(\"Found `{}` in params. Will use it instead of argument\".format(alias))\n",
      "/usr/local/lib/python3.5/dist-packages/sklearn/model_selection/_split.py:657: Warning: The least populated class in y has only 1 members, which is too few. The minimum number of members in any class cannot be less than n_splits=5.\n",
      "  % (min_groups, self.n_splits)), Warning)\n"
     ]
    },
    {
     "name": "stdout",
     "output_type": "stream",
     "text": [
      "| \u001b[0m 6       \u001b[0m | \u001b[0m 1.953e+0\u001b[0m | \u001b[0m 0.9116  \u001b[0m | \u001b[0m 0.6652  \u001b[0m | \u001b[0m 0.0291  \u001b[0m | \u001b[0m 6.534   \u001b[0m | \u001b[0m 18.14   \u001b[0m | \u001b[0m 0.06617 \u001b[0m | \u001b[0m 609.8   \u001b[0m | \u001b[0m 29.32   \u001b[0m | \u001b[0m 45.58   \u001b[0m |\n"
     ]
    },
    {
     "name": "stderr",
     "output_type": "stream",
     "text": [
      "/usr/local/lib/python3.5/dist-packages/lightgbm/engine.py:503: UserWarning: Found `n_estimators` in params. Will use it instead of argument\n",
      "  warnings.warn(\"Found `{}` in params. Will use it instead of argument\".format(alias))\n",
      "/usr/local/lib/python3.5/dist-packages/sklearn/model_selection/_split.py:657: Warning: The least populated class in y has only 1 members, which is too few. The minimum number of members in any class cannot be less than n_splits=5.\n",
      "  % (min_groups, self.n_splits)), Warning)\n"
     ]
    },
    {
     "name": "stdout",
     "output_type": "stream",
     "text": [
      "| \u001b[0m 7       \u001b[0m | \u001b[0m 1.913e+0\u001b[0m | \u001b[0m 0.9396  \u001b[0m | \u001b[0m 0.2106  \u001b[0m | \u001b[0m 0.06445 \u001b[0m | \u001b[0m 7.494   \u001b[0m | \u001b[0m 34.7    \u001b[0m | \u001b[0m 0.06542 \u001b[0m | \u001b[0m 662.8   \u001b[0m | \u001b[0m 28.8    \u001b[0m | \u001b[0m 36.39   \u001b[0m |\n"
     ]
    },
    {
     "name": "stderr",
     "output_type": "stream",
     "text": [
      "/usr/local/lib/python3.5/dist-packages/lightgbm/engine.py:503: UserWarning: Found `n_estimators` in params. Will use it instead of argument\n",
      "  warnings.warn(\"Found `{}` in params. Will use it instead of argument\".format(alias))\n",
      "/usr/local/lib/python3.5/dist-packages/sklearn/model_selection/_split.py:657: Warning: The least populated class in y has only 1 members, which is too few. The minimum number of members in any class cannot be less than n_splits=5.\n",
      "  % (min_groups, self.n_splits)), Warning)\n"
     ]
    },
    {
     "name": "stdout",
     "output_type": "stream",
     "text": [
      "| \u001b[0m 8       \u001b[0m | \u001b[0m 1.916e+0\u001b[0m | \u001b[0m 0.9603  \u001b[0m | \u001b[0m 0.865   \u001b[0m | \u001b[0m 0.05059 \u001b[0m | \u001b[0m 6.625   \u001b[0m | \u001b[0m 21.06   \u001b[0m | \u001b[0m 0.02608 \u001b[0m | \u001b[0m 141.6   \u001b[0m | \u001b[0m 36.43   \u001b[0m | \u001b[0m 18.61   \u001b[0m |\n"
     ]
    },
    {
     "name": "stderr",
     "output_type": "stream",
     "text": [
      "/usr/local/lib/python3.5/dist-packages/lightgbm/engine.py:503: UserWarning: Found `n_estimators` in params. Will use it instead of argument\n",
      "  warnings.warn(\"Found `{}` in params. Will use it instead of argument\".format(alias))\n",
      "/usr/local/lib/python3.5/dist-packages/sklearn/model_selection/_split.py:657: Warning: The least populated class in y has only 1 members, which is too few. The minimum number of members in any class cannot be less than n_splits=5.\n",
      "  % (min_groups, self.n_splits)), Warning)\n"
     ]
    },
    {
     "name": "stdout",
     "output_type": "stream",
     "text": [
      "| \u001b[0m 9       \u001b[0m | \u001b[0m 1.907e+0\u001b[0m | \u001b[0m 0.9577  \u001b[0m | \u001b[0m 0.6611  \u001b[0m | \u001b[0m 0.05888 \u001b[0m | \u001b[0m 7.25    \u001b[0m | \u001b[0m 41.3    \u001b[0m | \u001b[0m 0.07923 \u001b[0m | \u001b[0m 836.8   \u001b[0m | \u001b[0m 32.23   \u001b[0m | \u001b[0m 37.26   \u001b[0m |\n"
     ]
    },
    {
     "name": "stderr",
     "output_type": "stream",
     "text": [
      "/usr/local/lib/python3.5/dist-packages/lightgbm/engine.py:503: UserWarning: Found `n_estimators` in params. Will use it instead of argument\n",
      "  warnings.warn(\"Found `{}` in params. Will use it instead of argument\".format(alias))\n",
      "/usr/local/lib/python3.5/dist-packages/sklearn/model_selection/_split.py:657: Warning: The least populated class in y has only 1 members, which is too few. The minimum number of members in any class cannot be less than n_splits=5.\n",
      "  % (min_groups, self.n_splits)), Warning)\n"
     ]
    },
    {
     "name": "stdout",
     "output_type": "stream",
     "text": [
      "| \u001b[0m 10      \u001b[0m | \u001b[0m 1.956e+0\u001b[0m | \u001b[0m 0.8575  \u001b[0m | \u001b[0m 0.2975  \u001b[0m | \u001b[0m 0.03868 \u001b[0m | \u001b[0m 5.398   \u001b[0m | \u001b[0m 40.28   \u001b[0m | \u001b[0m 0.09882 \u001b[0m | \u001b[0m 179.3   \u001b[0m | \u001b[0m 25.36   \u001b[0m | \u001b[0m 38.65   \u001b[0m |\n"
     ]
    },
    {
     "name": "stderr",
     "output_type": "stream",
     "text": [
      "/usr/local/lib/python3.5/dist-packages/lightgbm/engine.py:503: UserWarning: Found `n_estimators` in params. Will use it instead of argument\n",
      "  warnings.warn(\"Found `{}` in params. Will use it instead of argument\".format(alias))\n",
      "/usr/local/lib/python3.5/dist-packages/sklearn/model_selection/_split.py:657: Warning: The least populated class in y has only 1 members, which is too few. The minimum number of members in any class cannot be less than n_splits=5.\n",
      "  % (min_groups, self.n_splits)), Warning)\n"
     ]
    },
    {
     "name": "stdout",
     "output_type": "stream",
     "text": [
      "| \u001b[0m 11      \u001b[0m | \u001b[0m 1.956e+0\u001b[0m | \u001b[0m 0.951   \u001b[0m | \u001b[0m 0.6561  \u001b[0m | \u001b[0m 0.02132 \u001b[0m | \u001b[0m 8.973   \u001b[0m | \u001b[0m 41.21   \u001b[0m | \u001b[0m 0.04594 \u001b[0m | \u001b[0m 289.4   \u001b[0m | \u001b[0m 26.45   \u001b[0m | \u001b[0m 28.42   \u001b[0m |\n"
     ]
    },
    {
     "name": "stderr",
     "output_type": "stream",
     "text": [
      "/usr/local/lib/python3.5/dist-packages/lightgbm/engine.py:503: UserWarning: Found `n_estimators` in params. Will use it instead of argument\n",
      "  warnings.warn(\"Found `{}` in params. Will use it instead of argument\".format(alias))\n",
      "/usr/local/lib/python3.5/dist-packages/sklearn/model_selection/_split.py:657: Warning: The least populated class in y has only 1 members, which is too few. The minimum number of members in any class cannot be less than n_splits=5.\n",
      "  % (min_groups, self.n_splits)), Warning)\n"
     ]
    },
    {
     "name": "stdout",
     "output_type": "stream",
     "text": [
      "| \u001b[0m 12      \u001b[0m | \u001b[0m 1.963e+0\u001b[0m | \u001b[0m 0.8457  \u001b[0m | \u001b[0m 0.4622  \u001b[0m | \u001b[0m 0.01581 \u001b[0m | \u001b[0m 6.111   \u001b[0m | \u001b[0m 28.36   \u001b[0m | \u001b[0m 0.05396 \u001b[0m | \u001b[0m 754.0   \u001b[0m | \u001b[0m 38.65   \u001b[0m | \u001b[0m 44.3    \u001b[0m |\n"
     ]
    },
    {
     "name": "stderr",
     "output_type": "stream",
     "text": [
      "/usr/local/lib/python3.5/dist-packages/lightgbm/engine.py:503: UserWarning: Found `n_estimators` in params. Will use it instead of argument\n",
      "  warnings.warn(\"Found `{}` in params. Will use it instead of argument\".format(alias))\n",
      "/usr/local/lib/python3.5/dist-packages/sklearn/model_selection/_split.py:657: Warning: The least populated class in y has only 1 members, which is too few. The minimum number of members in any class cannot be less than n_splits=5.\n",
      "  % (min_groups, self.n_splits)), Warning)\n"
     ]
    },
    {
     "name": "stdout",
     "output_type": "stream",
     "text": [
      "| \u001b[0m 13      \u001b[0m | \u001b[0m 1.921e+0\u001b[0m | \u001b[0m 0.853   \u001b[0m | \u001b[0m 0.4545  \u001b[0m | \u001b[0m 0.0522  \u001b[0m | \u001b[0m 5.427   \u001b[0m | \u001b[0m 38.43   \u001b[0m | \u001b[0m 0.001316\u001b[0m | \u001b[0m 103.9   \u001b[0m | \u001b[0m 33.05   \u001b[0m | \u001b[0m 13.05   \u001b[0m |\n",
      "=====================================================================================================================================\n",
      "|   iter    |  target   | baggin... | featur... | learni... | max_depth | min_ch... | min_sp... | n_esti... | num_le... |   seed    |\n",
      "-------------------------------------------------------------------------------------------------------------------------------------\n"
     ]
    },
    {
     "name": "stderr",
     "output_type": "stream",
     "text": [
      "/usr/local/lib/python3.5/dist-packages/lightgbm/engine.py:503: UserWarning: Found `n_estimators` in params. Will use it instead of argument\n",
      "  warnings.warn(\"Found `{}` in params. Will use it instead of argument\".format(alias))\n",
      "/usr/local/lib/python3.5/dist-packages/sklearn/model_selection/_split.py:657: Warning: The least populated class in y has only 1 members, which is too few. The minimum number of members in any class cannot be less than n_splits=5.\n",
      "  % (min_groups, self.n_splits)), Warning)\n"
     ]
    },
    {
     "name": "stdout",
     "output_type": "stream",
     "text": [
      "| \u001b[0m 1       \u001b[0m | \u001b[0m 2.121e+0\u001b[0m | \u001b[0m 0.9098  \u001b[0m | \u001b[0m 0.6722  \u001b[0m | \u001b[0m 0.04617 \u001b[0m | \u001b[0m 7.174   \u001b[0m | \u001b[0m 24.06   \u001b[0m | \u001b[0m 0.06494 \u001b[0m | \u001b[0m 493.8   \u001b[0m | \u001b[0m 42.73   \u001b[0m | \u001b[0m 48.55   \u001b[0m |\n"
     ]
    },
    {
     "name": "stderr",
     "output_type": "stream",
     "text": [
      "/usr/local/lib/python3.5/dist-packages/lightgbm/engine.py:503: UserWarning: Found `n_estimators` in params. Will use it instead of argument\n",
      "  warnings.warn(\"Found `{}` in params. Will use it instead of argument\".format(alias))\n",
      "/usr/local/lib/python3.5/dist-packages/sklearn/model_selection/_split.py:657: Warning: The least populated class in y has only 1 members, which is too few. The minimum number of members in any class cannot be less than n_splits=5.\n",
      "  % (min_groups, self.n_splits)), Warning)\n"
     ]
    },
    {
     "name": "stdout",
     "output_type": "stream",
     "text": [
      "| \u001b[95m 2       \u001b[0m | \u001b[95m 2.134e+0\u001b[0m | \u001b[95m 0.8767  \u001b[0m | \u001b[95m 0.7334  \u001b[0m | \u001b[95m 0.04173 \u001b[0m | \u001b[95m 7.266   \u001b[0m | \u001b[95m 46.65   \u001b[0m | \u001b[95m 0.008033\u001b[0m | \u001b[95m 178.4   \u001b[0m | \u001b[95m 24.42   \u001b[0m | \u001b[95m 43.3    \u001b[0m |\n"
     ]
    },
    {
     "name": "stderr",
     "output_type": "stream",
     "text": [
      "/usr/local/lib/python3.5/dist-packages/lightgbm/engine.py:503: UserWarning: Found `n_estimators` in params. Will use it instead of argument\n",
      "  warnings.warn(\"Found `{}` in params. Will use it instead of argument\".format(alias))\n",
      "/usr/local/lib/python3.5/dist-packages/sklearn/model_selection/_split.py:657: Warning: The least populated class in y has only 1 members, which is too few. The minimum number of members in any class cannot be less than n_splits=5.\n",
      "  % (min_groups, self.n_splits)), Warning)\n"
     ]
    },
    {
     "name": "stdout",
     "output_type": "stream",
     "text": [
      "| \u001b[0m 3       \u001b[0m | \u001b[0m 2.089e+0\u001b[0m | \u001b[0m 0.9556  \u001b[0m | \u001b[0m 0.796   \u001b[0m | \u001b[0m 0.06872 \u001b[0m | \u001b[0m 8.189   \u001b[0m | \u001b[0m 25.77   \u001b[0m | \u001b[0m 0.07827 \u001b[0m | \u001b[0m 206.4   \u001b[0m | \u001b[0m 37.44   \u001b[0m | \u001b[0m 15.73   \u001b[0m |\n"
     ]
    },
    {
     "name": "stderr",
     "output_type": "stream",
     "text": [
      "/usr/local/lib/python3.5/dist-packages/lightgbm/engine.py:503: UserWarning: Found `n_estimators` in params. Will use it instead of argument\n",
      "  warnings.warn(\"Found `{}` in params. Will use it instead of argument\".format(alias))\n",
      "/usr/local/lib/python3.5/dist-packages/sklearn/model_selection/_split.py:657: Warning: The least populated class in y has only 1 members, which is too few. The minimum number of members in any class cannot be less than n_splits=5.\n",
      "  % (min_groups, self.n_splits)), Warning)\n"
     ]
    },
    {
     "name": "stdout",
     "output_type": "stream",
     "text": [
      "| \u001b[95m 4       \u001b[0m | \u001b[95m 2.166e+0\u001b[0m | \u001b[95m 0.8844  \u001b[0m | \u001b[95m 0.2402  \u001b[0m | \u001b[95m 0.01921 \u001b[0m | \u001b[95m 8.225   \u001b[0m | \u001b[95m 9.211   \u001b[0m | \u001b[95m 0.001068\u001b[0m | \u001b[95m 749.3   \u001b[0m | \u001b[95m 30.28   \u001b[0m | \u001b[95m 39.33   \u001b[0m |\n"
     ]
    },
    {
     "name": "stderr",
     "output_type": "stream",
     "text": [
      "/usr/local/lib/python3.5/dist-packages/lightgbm/engine.py:503: UserWarning: Found `n_estimators` in params. Will use it instead of argument\n",
      "  warnings.warn(\"Found `{}` in params. Will use it instead of argument\".format(alias))\n",
      "/usr/local/lib/python3.5/dist-packages/sklearn/model_selection/_split.py:657: Warning: The least populated class in y has only 1 members, which is too few. The minimum number of members in any class cannot be less than n_splits=5.\n",
      "  % (min_groups, self.n_splits)), Warning)\n"
     ]
    },
    {
     "name": "stdout",
     "output_type": "stream",
     "text": [
      "| \u001b[0m 5       \u001b[0m | \u001b[0m 2.164e+0\u001b[0m | \u001b[0m 0.8595  \u001b[0m | \u001b[0m 0.843   \u001b[0m | \u001b[0m 0.01736 \u001b[0m | \u001b[0m 5.968   \u001b[0m | \u001b[0m 23.52   \u001b[0m | \u001b[0m 0.03308 \u001b[0m | \u001b[0m 615.2   \u001b[0m | \u001b[0m 28.82   \u001b[0m | \u001b[0m 47.88   \u001b[0m |\n"
     ]
    },
    {
     "name": "stderr",
     "output_type": "stream",
     "text": [
      "/usr/local/lib/python3.5/dist-packages/lightgbm/engine.py:503: UserWarning: Found `n_estimators` in params. Will use it instead of argument\n",
      "  warnings.warn(\"Found `{}` in params. Will use it instead of argument\".format(alias))\n",
      "/usr/local/lib/python3.5/dist-packages/sklearn/model_selection/_split.py:657: Warning: The least populated class in y has only 1 members, which is too few. The minimum number of members in any class cannot be less than n_splits=5.\n",
      "  % (min_groups, self.n_splits)), Warning)\n"
     ]
    },
    {
     "name": "stdout",
     "output_type": "stream",
     "text": [
      "| \u001b[0m 6       \u001b[0m | \u001b[0m 2.154e+0\u001b[0m | \u001b[0m 0.9116  \u001b[0m | \u001b[0m 0.6652  \u001b[0m | \u001b[0m 0.0291  \u001b[0m | \u001b[0m 6.534   \u001b[0m | \u001b[0m 18.14   \u001b[0m | \u001b[0m 0.06617 \u001b[0m | \u001b[0m 609.8   \u001b[0m | \u001b[0m 29.32   \u001b[0m | \u001b[0m 45.58   \u001b[0m |\n"
     ]
    },
    {
     "name": "stderr",
     "output_type": "stream",
     "text": [
      "/usr/local/lib/python3.5/dist-packages/lightgbm/engine.py:503: UserWarning: Found `n_estimators` in params. Will use it instead of argument\n",
      "  warnings.warn(\"Found `{}` in params. Will use it instead of argument\".format(alias))\n",
      "/usr/local/lib/python3.5/dist-packages/sklearn/model_selection/_split.py:657: Warning: The least populated class in y has only 1 members, which is too few. The minimum number of members in any class cannot be less than n_splits=5.\n",
      "  % (min_groups, self.n_splits)), Warning)\n"
     ]
    },
    {
     "name": "stdout",
     "output_type": "stream",
     "text": [
      "| \u001b[0m 7       \u001b[0m | \u001b[0m 2.146e+0\u001b[0m | \u001b[0m 0.9396  \u001b[0m | \u001b[0m 0.2106  \u001b[0m | \u001b[0m 0.06445 \u001b[0m | \u001b[0m 7.494   \u001b[0m | \u001b[0m 34.7    \u001b[0m | \u001b[0m 0.06542 \u001b[0m | \u001b[0m 662.8   \u001b[0m | \u001b[0m 28.8    \u001b[0m | \u001b[0m 36.39   \u001b[0m |\n"
     ]
    },
    {
     "name": "stderr",
     "output_type": "stream",
     "text": [
      "/usr/local/lib/python3.5/dist-packages/lightgbm/engine.py:503: UserWarning: Found `n_estimators` in params. Will use it instead of argument\n",
      "  warnings.warn(\"Found `{}` in params. Will use it instead of argument\".format(alias))\n",
      "/usr/local/lib/python3.5/dist-packages/sklearn/model_selection/_split.py:657: Warning: The least populated class in y has only 1 members, which is too few. The minimum number of members in any class cannot be less than n_splits=5.\n",
      "  % (min_groups, self.n_splits)), Warning)\n"
     ]
    },
    {
     "name": "stdout",
     "output_type": "stream",
     "text": [
      "| \u001b[0m 8       \u001b[0m | \u001b[0m 2.116e+0\u001b[0m | \u001b[0m 0.9603  \u001b[0m | \u001b[0m 0.865   \u001b[0m | \u001b[0m 0.05059 \u001b[0m | \u001b[0m 6.625   \u001b[0m | \u001b[0m 21.06   \u001b[0m | \u001b[0m 0.02608 \u001b[0m | \u001b[0m 141.6   \u001b[0m | \u001b[0m 36.43   \u001b[0m | \u001b[0m 18.61   \u001b[0m |\n"
     ]
    },
    {
     "name": "stderr",
     "output_type": "stream",
     "text": [
      "/usr/local/lib/python3.5/dist-packages/lightgbm/engine.py:503: UserWarning: Found `n_estimators` in params. Will use it instead of argument\n",
      "  warnings.warn(\"Found `{}` in params. Will use it instead of argument\".format(alias))\n",
      "/usr/local/lib/python3.5/dist-packages/sklearn/model_selection/_split.py:657: Warning: The least populated class in y has only 1 members, which is too few. The minimum number of members in any class cannot be less than n_splits=5.\n",
      "  % (min_groups, self.n_splits)), Warning)\n"
     ]
    },
    {
     "name": "stdout",
     "output_type": "stream",
     "text": [
      "| \u001b[0m 9       \u001b[0m | \u001b[0m 2.105e+0\u001b[0m | \u001b[0m 0.9577  \u001b[0m | \u001b[0m 0.6611  \u001b[0m | \u001b[0m 0.05888 \u001b[0m | \u001b[0m 7.25    \u001b[0m | \u001b[0m 41.3    \u001b[0m | \u001b[0m 0.07923 \u001b[0m | \u001b[0m 836.8   \u001b[0m | \u001b[0m 32.23   \u001b[0m | \u001b[0m 37.26   \u001b[0m |\n"
     ]
    },
    {
     "name": "stderr",
     "output_type": "stream",
     "text": [
      "/usr/local/lib/python3.5/dist-packages/lightgbm/engine.py:503: UserWarning: Found `n_estimators` in params. Will use it instead of argument\n",
      "  warnings.warn(\"Found `{}` in params. Will use it instead of argument\".format(alias))\n",
      "/usr/local/lib/python3.5/dist-packages/sklearn/model_selection/_split.py:657: Warning: The least populated class in y has only 1 members, which is too few. The minimum number of members in any class cannot be less than n_splits=5.\n",
      "  % (min_groups, self.n_splits)), Warning)\n"
     ]
    },
    {
     "name": "stdout",
     "output_type": "stream",
     "text": [
      "| \u001b[0m 10      \u001b[0m | \u001b[0m 2.162e+0\u001b[0m | \u001b[0m 0.8575  \u001b[0m | \u001b[0m 0.2975  \u001b[0m | \u001b[0m 0.03868 \u001b[0m | \u001b[0m 5.398   \u001b[0m | \u001b[0m 40.28   \u001b[0m | \u001b[0m 0.09882 \u001b[0m | \u001b[0m 179.3   \u001b[0m | \u001b[0m 25.36   \u001b[0m | \u001b[0m 38.65   \u001b[0m |\n"
     ]
    },
    {
     "name": "stderr",
     "output_type": "stream",
     "text": [
      "/usr/local/lib/python3.5/dist-packages/lightgbm/engine.py:503: UserWarning: Found `n_estimators` in params. Will use it instead of argument\n",
      "  warnings.warn(\"Found `{}` in params. Will use it instead of argument\".format(alias))\n",
      "/usr/local/lib/python3.5/dist-packages/sklearn/model_selection/_split.py:657: Warning: The least populated class in y has only 1 members, which is too few. The minimum number of members in any class cannot be less than n_splits=5.\n",
      "  % (min_groups, self.n_splits)), Warning)\n"
     ]
    },
    {
     "name": "stdout",
     "output_type": "stream",
     "text": [
      "| \u001b[0m 11      \u001b[0m | \u001b[0m 2.16e+06\u001b[0m | \u001b[0m 0.951   \u001b[0m | \u001b[0m 0.6561  \u001b[0m | \u001b[0m 0.02132 \u001b[0m | \u001b[0m 8.973   \u001b[0m | \u001b[0m 41.21   \u001b[0m | \u001b[0m 0.04594 \u001b[0m | \u001b[0m 289.4   \u001b[0m | \u001b[0m 26.45   \u001b[0m | \u001b[0m 28.42   \u001b[0m |\n"
     ]
    },
    {
     "name": "stderr",
     "output_type": "stream",
     "text": [
      "/usr/local/lib/python3.5/dist-packages/lightgbm/engine.py:503: UserWarning: Found `n_estimators` in params. Will use it instead of argument\n",
      "  warnings.warn(\"Found `{}` in params. Will use it instead of argument\".format(alias))\n",
      "/usr/local/lib/python3.5/dist-packages/sklearn/model_selection/_split.py:657: Warning: The least populated class in y has only 1 members, which is too few. The minimum number of members in any class cannot be less than n_splits=5.\n",
      "  % (min_groups, self.n_splits)), Warning)\n"
     ]
    },
    {
     "name": "stdout",
     "output_type": "stream",
     "text": [
      "| \u001b[95m 12      \u001b[0m | \u001b[95m 2.168e+0\u001b[0m | \u001b[95m 0.8457  \u001b[0m | \u001b[95m 0.4622  \u001b[0m | \u001b[95m 0.01581 \u001b[0m | \u001b[95m 6.111   \u001b[0m | \u001b[95m 28.36   \u001b[0m | \u001b[95m 0.05396 \u001b[0m | \u001b[95m 754.0   \u001b[0m | \u001b[95m 38.65   \u001b[0m | \u001b[95m 44.3    \u001b[0m |\n"
     ]
    },
    {
     "name": "stderr",
     "output_type": "stream",
     "text": [
      "/usr/local/lib/python3.5/dist-packages/lightgbm/engine.py:503: UserWarning: Found `n_estimators` in params. Will use it instead of argument\n",
      "  warnings.warn(\"Found `{}` in params. Will use it instead of argument\".format(alias))\n",
      "/usr/local/lib/python3.5/dist-packages/sklearn/model_selection/_split.py:657: Warning: The least populated class in y has only 1 members, which is too few. The minimum number of members in any class cannot be less than n_splits=5.\n",
      "  % (min_groups, self.n_splits)), Warning)\n"
     ]
    },
    {
     "name": "stdout",
     "output_type": "stream",
     "text": [
      "| \u001b[0m 13      \u001b[0m | \u001b[0m 2.122e+0\u001b[0m | \u001b[0m 0.853   \u001b[0m | \u001b[0m 0.4545  \u001b[0m | \u001b[0m 0.0522  \u001b[0m | \u001b[0m 5.427   \u001b[0m | \u001b[0m 38.43   \u001b[0m | \u001b[0m 0.001316\u001b[0m | \u001b[0m 103.9   \u001b[0m | \u001b[0m 33.05   \u001b[0m | \u001b[0m 13.05   \u001b[0m |\n",
      "=====================================================================================================================================\n",
      "|   iter    |  target   | baggin... | featur... | learni... | max_depth | min_ch... | min_sp... | n_esti... | num_le... |   seed    |\n",
      "-------------------------------------------------------------------------------------------------------------------------------------\n"
     ]
    },
    {
     "name": "stderr",
     "output_type": "stream",
     "text": [
      "/usr/local/lib/python3.5/dist-packages/lightgbm/engine.py:503: UserWarning: Found `n_estimators` in params. Will use it instead of argument\n",
      "  warnings.warn(\"Found `{}` in params. Will use it instead of argument\".format(alias))\n",
      "/usr/local/lib/python3.5/dist-packages/sklearn/model_selection/_split.py:657: Warning: The least populated class in y has only 1 members, which is too few. The minimum number of members in any class cannot be less than n_splits=5.\n",
      "  % (min_groups, self.n_splits)), Warning)\n"
     ]
    },
    {
     "name": "stdout",
     "output_type": "stream",
     "text": [
      "| \u001b[0m 1       \u001b[0m | \u001b[0m 2.254e+0\u001b[0m | \u001b[0m 0.9098  \u001b[0m | \u001b[0m 0.6722  \u001b[0m | \u001b[0m 0.04617 \u001b[0m | \u001b[0m 7.174   \u001b[0m | \u001b[0m 24.06   \u001b[0m | \u001b[0m 0.06494 \u001b[0m | \u001b[0m 493.8   \u001b[0m | \u001b[0m 42.73   \u001b[0m | \u001b[0m 48.55   \u001b[0m |\n"
     ]
    },
    {
     "name": "stderr",
     "output_type": "stream",
     "text": [
      "/usr/local/lib/python3.5/dist-packages/lightgbm/engine.py:503: UserWarning: Found `n_estimators` in params. Will use it instead of argument\n",
      "  warnings.warn(\"Found `{}` in params. Will use it instead of argument\".format(alias))\n",
      "/usr/local/lib/python3.5/dist-packages/sklearn/model_selection/_split.py:657: Warning: The least populated class in y has only 1 members, which is too few. The minimum number of members in any class cannot be less than n_splits=5.\n",
      "  % (min_groups, self.n_splits)), Warning)\n"
     ]
    },
    {
     "name": "stdout",
     "output_type": "stream",
     "text": [
      "| \u001b[95m 2       \u001b[0m | \u001b[95m 2.267e+0\u001b[0m | \u001b[95m 0.8767  \u001b[0m | \u001b[95m 0.7334  \u001b[0m | \u001b[95m 0.04173 \u001b[0m | \u001b[95m 7.266   \u001b[0m | \u001b[95m 46.65   \u001b[0m | \u001b[95m 0.008033\u001b[0m | \u001b[95m 178.4   \u001b[0m | \u001b[95m 24.42   \u001b[0m | \u001b[95m 43.3    \u001b[0m |\n"
     ]
    },
    {
     "name": "stderr",
     "output_type": "stream",
     "text": [
      "/usr/local/lib/python3.5/dist-packages/lightgbm/engine.py:503: UserWarning: Found `n_estimators` in params. Will use it instead of argument\n",
      "  warnings.warn(\"Found `{}` in params. Will use it instead of argument\".format(alias))\n",
      "/usr/local/lib/python3.5/dist-packages/sklearn/model_selection/_split.py:657: Warning: The least populated class in y has only 1 members, which is too few. The minimum number of members in any class cannot be less than n_splits=5.\n",
      "  % (min_groups, self.n_splits)), Warning)\n"
     ]
    },
    {
     "name": "stdout",
     "output_type": "stream",
     "text": [
      "| \u001b[0m 3       \u001b[0m | \u001b[0m 2.22e+06\u001b[0m | \u001b[0m 0.9556  \u001b[0m | \u001b[0m 0.796   \u001b[0m | \u001b[0m 0.06872 \u001b[0m | \u001b[0m 8.189   \u001b[0m | \u001b[0m 25.77   \u001b[0m | \u001b[0m 0.07827 \u001b[0m | \u001b[0m 206.4   \u001b[0m | \u001b[0m 37.44   \u001b[0m | \u001b[0m 15.73   \u001b[0m |\n"
     ]
    },
    {
     "name": "stderr",
     "output_type": "stream",
     "text": [
      "/usr/local/lib/python3.5/dist-packages/lightgbm/engine.py:503: UserWarning: Found `n_estimators` in params. Will use it instead of argument\n",
      "  warnings.warn(\"Found `{}` in params. Will use it instead of argument\".format(alias))\n",
      "/usr/local/lib/python3.5/dist-packages/sklearn/model_selection/_split.py:657: Warning: The least populated class in y has only 1 members, which is too few. The minimum number of members in any class cannot be less than n_splits=5.\n",
      "  % (min_groups, self.n_splits)), Warning)\n"
     ]
    },
    {
     "name": "stdout",
     "output_type": "stream",
     "text": [
      "| \u001b[95m 4       \u001b[0m | \u001b[95m 2.313e+0\u001b[0m | \u001b[95m 0.8844  \u001b[0m | \u001b[95m 0.2402  \u001b[0m | \u001b[95m 0.01921 \u001b[0m | \u001b[95m 8.225   \u001b[0m | \u001b[95m 9.211   \u001b[0m | \u001b[95m 0.001068\u001b[0m | \u001b[95m 749.3   \u001b[0m | \u001b[95m 30.28   \u001b[0m | \u001b[95m 39.33   \u001b[0m |\n"
     ]
    },
    {
     "name": "stderr",
     "output_type": "stream",
     "text": [
      "/usr/local/lib/python3.5/dist-packages/lightgbm/engine.py:503: UserWarning: Found `n_estimators` in params. Will use it instead of argument\n",
      "  warnings.warn(\"Found `{}` in params. Will use it instead of argument\".format(alias))\n",
      "/usr/local/lib/python3.5/dist-packages/sklearn/model_selection/_split.py:657: Warning: The least populated class in y has only 1 members, which is too few. The minimum number of members in any class cannot be less than n_splits=5.\n",
      "  % (min_groups, self.n_splits)), Warning)\n"
     ]
    },
    {
     "name": "stdout",
     "output_type": "stream",
     "text": [
      "| \u001b[0m 5       \u001b[0m | \u001b[0m 2.299e+0\u001b[0m | \u001b[0m 0.8595  \u001b[0m | \u001b[0m 0.843   \u001b[0m | \u001b[0m 0.01736 \u001b[0m | \u001b[0m 5.968   \u001b[0m | \u001b[0m 23.52   \u001b[0m | \u001b[0m 0.03308 \u001b[0m | \u001b[0m 615.2   \u001b[0m | \u001b[0m 28.82   \u001b[0m | \u001b[0m 47.88   \u001b[0m |\n"
     ]
    },
    {
     "name": "stderr",
     "output_type": "stream",
     "text": [
      "/usr/local/lib/python3.5/dist-packages/lightgbm/engine.py:503: UserWarning: Found `n_estimators` in params. Will use it instead of argument\n",
      "  warnings.warn(\"Found `{}` in params. Will use it instead of argument\".format(alias))\n",
      "/usr/local/lib/python3.5/dist-packages/sklearn/model_selection/_split.py:657: Warning: The least populated class in y has only 1 members, which is too few. The minimum number of members in any class cannot be less than n_splits=5.\n",
      "  % (min_groups, self.n_splits)), Warning)\n"
     ]
    },
    {
     "name": "stdout",
     "output_type": "stream",
     "text": [
      "| \u001b[0m 6       \u001b[0m | \u001b[0m 2.291e+0\u001b[0m | \u001b[0m 0.9116  \u001b[0m | \u001b[0m 0.6652  \u001b[0m | \u001b[0m 0.0291  \u001b[0m | \u001b[0m 6.534   \u001b[0m | \u001b[0m 18.14   \u001b[0m | \u001b[0m 0.06617 \u001b[0m | \u001b[0m 609.8   \u001b[0m | \u001b[0m 29.32   \u001b[0m | \u001b[0m 45.58   \u001b[0m |\n"
     ]
    },
    {
     "name": "stderr",
     "output_type": "stream",
     "text": [
      "/usr/local/lib/python3.5/dist-packages/lightgbm/engine.py:503: UserWarning: Found `n_estimators` in params. Will use it instead of argument\n",
      "  warnings.warn(\"Found `{}` in params. Will use it instead of argument\".format(alias))\n",
      "/usr/local/lib/python3.5/dist-packages/sklearn/model_selection/_split.py:657: Warning: The least populated class in y has only 1 members, which is too few. The minimum number of members in any class cannot be less than n_splits=5.\n",
      "  % (min_groups, self.n_splits)), Warning)\n"
     ]
    },
    {
     "name": "stdout",
     "output_type": "stream",
     "text": [
      "| \u001b[0m 7       \u001b[0m | \u001b[0m 2.259e+0\u001b[0m | \u001b[0m 0.9396  \u001b[0m | \u001b[0m 0.2106  \u001b[0m | \u001b[0m 0.06445 \u001b[0m | \u001b[0m 7.494   \u001b[0m | \u001b[0m 34.7    \u001b[0m | \u001b[0m 0.06542 \u001b[0m | \u001b[0m 662.8   \u001b[0m | \u001b[0m 28.8    \u001b[0m | \u001b[0m 36.39   \u001b[0m |\n"
     ]
    },
    {
     "name": "stderr",
     "output_type": "stream",
     "text": [
      "/usr/local/lib/python3.5/dist-packages/lightgbm/engine.py:503: UserWarning: Found `n_estimators` in params. Will use it instead of argument\n",
      "  warnings.warn(\"Found `{}` in params. Will use it instead of argument\".format(alias))\n",
      "/usr/local/lib/python3.5/dist-packages/sklearn/model_selection/_split.py:657: Warning: The least populated class in y has only 1 members, which is too few. The minimum number of members in any class cannot be less than n_splits=5.\n",
      "  % (min_groups, self.n_splits)), Warning)\n"
     ]
    },
    {
     "name": "stdout",
     "output_type": "stream",
     "text": [
      "| \u001b[0m 8       \u001b[0m | \u001b[0m 2.248e+0\u001b[0m | \u001b[0m 0.9603  \u001b[0m | \u001b[0m 0.865   \u001b[0m | \u001b[0m 0.05059 \u001b[0m | \u001b[0m 6.625   \u001b[0m | \u001b[0m 21.06   \u001b[0m | \u001b[0m 0.02608 \u001b[0m | \u001b[0m 141.6   \u001b[0m | \u001b[0m 36.43   \u001b[0m | \u001b[0m 18.61   \u001b[0m |\n"
     ]
    },
    {
     "name": "stderr",
     "output_type": "stream",
     "text": [
      "/usr/local/lib/python3.5/dist-packages/lightgbm/engine.py:503: UserWarning: Found `n_estimators` in params. Will use it instead of argument\n",
      "  warnings.warn(\"Found `{}` in params. Will use it instead of argument\".format(alias))\n",
      "/usr/local/lib/python3.5/dist-packages/sklearn/model_selection/_split.py:657: Warning: The least populated class in y has only 1 members, which is too few. The minimum number of members in any class cannot be less than n_splits=5.\n",
      "  % (min_groups, self.n_splits)), Warning)\n"
     ]
    },
    {
     "name": "stdout",
     "output_type": "stream",
     "text": [
      "| \u001b[0m 9       \u001b[0m | \u001b[0m 2.237e+0\u001b[0m | \u001b[0m 0.9577  \u001b[0m | \u001b[0m 0.6611  \u001b[0m | \u001b[0m 0.05888 \u001b[0m | \u001b[0m 7.25    \u001b[0m | \u001b[0m 41.3    \u001b[0m | \u001b[0m 0.07923 \u001b[0m | \u001b[0m 836.8   \u001b[0m | \u001b[0m 32.23   \u001b[0m | \u001b[0m 37.26   \u001b[0m |\n"
     ]
    },
    {
     "name": "stderr",
     "output_type": "stream",
     "text": [
      "/usr/local/lib/python3.5/dist-packages/lightgbm/engine.py:503: UserWarning: Found `n_estimators` in params. Will use it instead of argument\n",
      "  warnings.warn(\"Found `{}` in params. Will use it instead of argument\".format(alias))\n",
      "/usr/local/lib/python3.5/dist-packages/sklearn/model_selection/_split.py:657: Warning: The least populated class in y has only 1 members, which is too few. The minimum number of members in any class cannot be less than n_splits=5.\n",
      "  % (min_groups, self.n_splits)), Warning)\n"
     ]
    },
    {
     "name": "stdout",
     "output_type": "stream",
     "text": [
      "| \u001b[0m 10      \u001b[0m | \u001b[0m 2.297e+0\u001b[0m | \u001b[0m 0.8575  \u001b[0m | \u001b[0m 0.2975  \u001b[0m | \u001b[0m 0.03868 \u001b[0m | \u001b[0m 5.398   \u001b[0m | \u001b[0m 40.28   \u001b[0m | \u001b[0m 0.09882 \u001b[0m | \u001b[0m 179.3   \u001b[0m | \u001b[0m 25.36   \u001b[0m | \u001b[0m 38.65   \u001b[0m |\n"
     ]
    },
    {
     "name": "stderr",
     "output_type": "stream",
     "text": [
      "/usr/local/lib/python3.5/dist-packages/lightgbm/engine.py:503: UserWarning: Found `n_estimators` in params. Will use it instead of argument\n",
      "  warnings.warn(\"Found `{}` in params. Will use it instead of argument\".format(alias))\n",
      "/usr/local/lib/python3.5/dist-packages/sklearn/model_selection/_split.py:657: Warning: The least populated class in y has only 1 members, which is too few. The minimum number of members in any class cannot be less than n_splits=5.\n",
      "  % (min_groups, self.n_splits)), Warning)\n"
     ]
    },
    {
     "name": "stdout",
     "output_type": "stream",
     "text": [
      "| \u001b[0m 11      \u001b[0m | \u001b[0m 2.295e+0\u001b[0m | \u001b[0m 0.951   \u001b[0m | \u001b[0m 0.6561  \u001b[0m | \u001b[0m 0.02132 \u001b[0m | \u001b[0m 8.973   \u001b[0m | \u001b[0m 41.21   \u001b[0m | \u001b[0m 0.04594 \u001b[0m | \u001b[0m 289.4   \u001b[0m | \u001b[0m 26.45   \u001b[0m | \u001b[0m 28.42   \u001b[0m |\n"
     ]
    },
    {
     "name": "stderr",
     "output_type": "stream",
     "text": [
      "/usr/local/lib/python3.5/dist-packages/lightgbm/engine.py:503: UserWarning: Found `n_estimators` in params. Will use it instead of argument\n",
      "  warnings.warn(\"Found `{}` in params. Will use it instead of argument\".format(alias))\n",
      "/usr/local/lib/python3.5/dist-packages/sklearn/model_selection/_split.py:657: Warning: The least populated class in y has only 1 members, which is too few. The minimum number of members in any class cannot be less than n_splits=5.\n",
      "  % (min_groups, self.n_splits)), Warning)\n"
     ]
    },
    {
     "name": "stdout",
     "output_type": "stream",
     "text": [
      "| \u001b[0m 12      \u001b[0m | \u001b[0m 2.303e+0\u001b[0m | \u001b[0m 0.8457  \u001b[0m | \u001b[0m 0.4622  \u001b[0m | \u001b[0m 0.01581 \u001b[0m | \u001b[0m 6.111   \u001b[0m | \u001b[0m 28.36   \u001b[0m | \u001b[0m 0.05396 \u001b[0m | \u001b[0m 754.0   \u001b[0m | \u001b[0m 38.65   \u001b[0m | \u001b[0m 44.3    \u001b[0m |\n"
     ]
    },
    {
     "name": "stderr",
     "output_type": "stream",
     "text": [
      "/usr/local/lib/python3.5/dist-packages/lightgbm/engine.py:503: UserWarning: Found `n_estimators` in params. Will use it instead of argument\n",
      "  warnings.warn(\"Found `{}` in params. Will use it instead of argument\".format(alias))\n",
      "/usr/local/lib/python3.5/dist-packages/sklearn/model_selection/_split.py:657: Warning: The least populated class in y has only 1 members, which is too few. The minimum number of members in any class cannot be less than n_splits=5.\n",
      "  % (min_groups, self.n_splits)), Warning)\n"
     ]
    },
    {
     "name": "stdout",
     "output_type": "stream",
     "text": [
      "| \u001b[0m 13      \u001b[0m | \u001b[0m 2.253e+0\u001b[0m | \u001b[0m 0.853   \u001b[0m | \u001b[0m 0.4545  \u001b[0m | \u001b[0m 0.0522  \u001b[0m | \u001b[0m 5.427   \u001b[0m | \u001b[0m 38.43   \u001b[0m | \u001b[0m 0.001316\u001b[0m | \u001b[0m 103.9   \u001b[0m | \u001b[0m 33.05   \u001b[0m | \u001b[0m 13.05   \u001b[0m |\n",
      "=====================================================================================================================================\n"
     ]
    }
   ],
   "source": [
    "dtrain = dtrain_2012\n",
    "params_2012 = optimize_lgbm(dtrain_2012)\n",
    "dtrain = dtrain_2013\n",
    "params_2013 = optimize_lgbm(dtrain_2013)\n",
    "dtrain = dtrain_2014\n",
    "params_2014 = optimize_lgbm(dtrain_2014)\n",
    "dtrain = dtrain_2015\n",
    "params_2015 = optimize_lgbm(dtrain_2015)\n",
    "dtrain = dtrain_2016\n",
    "params_2016 = optimize_lgbm(dtrain_2016)"
   ]
  },
  {
   "cell_type": "code",
   "execution_count": 234,
   "metadata": {},
   "outputs": [
    {
     "name": "stdout",
     "output_type": "stream",
     "text": [
      "{'bagging_fraction': 0.8844396091027046, 'feature_fraction': 0.2401644436304009, 'learning_rate': 0.019208260134863285, 'num_leaves': 30.282236771792782, 'n_estimators': 749, 'min_split_gain': 0.0010676751915985497, 'max_depth': 8, 'min_child_weight': 9.211388287076087, 'seed': 39}\n"
     ]
    }
   ],
   "source": [
    "print(params_2016)"
   ]
  },
  {
   "cell_type": "code",
   "execution_count": 240,
   "metadata": {},
   "outputs": [],
   "source": [
    "from lightgbm import LGBMRegressor as lgbm\n",
    "def fabrica_lgbm(params):\n",
    "    best_lgbm_model = lgbm(#colsample_bytree=params[\"colsample_bytree\"],\n",
    "                 bagging_fracion=params[\"bagging_fraction\"],\n",
    "                 num_leaves=int(params[\"num_leaves\"]),                 \n",
    "                 learning_rate=params[\"learning_rate\"],\n",
    "                 max_depth=params[\"max_depth\"],\n",
    "                 min_child_weight=params[\"min_child_weight\"],\n",
    "                 n_estimators=params[\"n_estimators\"],                                                                    \n",
    "                 #reg_alpha=params[\"reg_alpha\"],\n",
    "                 #reg_lambda=params[\"reg_lambda\"],\n",
    "                 #subsample=params[\"subsample\"],\n",
    "                 seed=params[\"seed\"])\n",
    "    \n",
    "    return best_lgbm_model"
   ]
  },
  {
   "cell_type": "code",
   "execution_count": 241,
   "metadata": {},
   "outputs": [],
   "source": [
    "lgbm_2012 = fabrica_lgbm(params_2012)\n",
    "lgbm_2013 = fabrica_lgbm(params_2013)\n",
    "lgbm_2014 = fabrica_lgbm(params_2014)\n",
    "lgbm_2015 = fabrica_lgbm(params_2015)\n",
    "lgbm_2016 = fabrica_lgbm(params_2016)"
   ]
  },
  {
   "cell_type": "code",
   "execution_count": 243,
   "metadata": {},
   "outputs": [
    {
     "name": "stdout",
     "output_type": "stream",
     "text": [
      "MAE XGB: 406024.91973549256\n"
     ]
    }
   ],
   "source": [
    "lgbm_2012.fit(x_2012,y_2012)\n",
    "lgbm_pred_val = lgbm_2012.predict(x_2012_val)\n",
    "lgbm_mae = MAE(y_2012_val, lgbm_pred_val)\n",
    "print(\"MAE XGB: \" + str(lgbm_mae))"
   ]
  },
  {
   "cell_type": "code",
   "execution_count": 244,
   "metadata": {},
   "outputs": [
    {
     "name": "stdout",
     "output_type": "stream",
     "text": [
      "MAE XGB: 407606.33905984863\n"
     ]
    }
   ],
   "source": [
    "lgbm_2013.fit(x_2013,y_2013)\n",
    "lgbm_pred_val = lgbm_2013.predict(x_2013_val)\n",
    "lgbm_mae = MAE(y_2013_val, lgbm_pred_val)\n",
    "print(\"MAE XGB: \" + str(lgbm_mae))"
   ]
  },
  {
   "cell_type": "code",
   "execution_count": 245,
   "metadata": {},
   "outputs": [
    {
     "name": "stdout",
     "output_type": "stream",
     "text": [
      "MAE XGB: 482616.50925858127\n"
     ]
    }
   ],
   "source": [
    "lgbm_2014.fit(x_2014,y_2014)\n",
    "lgbm_pred_val = lgbm_2014.predict(x_2014_val)\n",
    "lgbm_mae = MAE(y_2014_val, lgbm_pred_val)\n",
    "print(\"MAE XGB: \" + str(lgbm_mae))"
   ]
  },
  {
   "cell_type": "code",
   "execution_count": 246,
   "metadata": {},
   "outputs": [
    {
     "name": "stdout",
     "output_type": "stream",
     "text": [
      "MAE XGB: 534111.9699979337\n"
     ]
    }
   ],
   "source": [
    "lgbm_2015.fit(x_2015,y_2015)\n",
    "lgbm_pred_val = lgbm_2015.predict(x_2015_val)\n",
    "lgbm_mae = MAE(y_2015_val, lgbm_pred_val)\n",
    "print(\"MAE XGB: \" + str(lgbm_mae))"
   ]
  },
  {
   "cell_type": "code",
   "execution_count": 247,
   "metadata": {},
   "outputs": [
    {
     "name": "stdout",
     "output_type": "stream",
     "text": [
      "MAE XGB: 595856.9186336667\n"
     ]
    }
   ],
   "source": [
    "lgbm_2016.fit(x_2016,y_2016)\n",
    "lgbm_pred_val = lgbm_2016.predict(x_2016_val)\n",
    "lgbm_mae = MAE(y_2016_val, lgbm_pred_val)\n",
    "print(\"MAE XGB: \" + str(lgbm_mae))"
   ]
  },
  {
   "cell_type": "markdown",
   "metadata": {},
   "source": [
    "## XGBoost"
   ]
  },
  {
   "cell_type": "markdown",
   "metadata": {},
   "source": [
    "### Tuneo de hiperparámetros"
   ]
  },
  {
   "cell_type": "code",
   "execution_count": 254,
   "metadata": {},
   "outputs": [
    {
     "name": "stderr",
     "output_type": "stream",
     "text": [
      "/usr/local/lib/python3.5/dist-packages/xgboost/core.py:587: FutureWarning: Series.base is deprecated and will be removed in a future version\n",
      "  if getattr(data, 'base', None) is not None and \\\n",
      "/usr/local/lib/python3.5/dist-packages/xgboost/core.py:588: FutureWarning: Series.base is deprecated and will be removed in a future version\n",
      "  data.base is not None and isinstance(data, np.ndarray) \\\n"
     ]
    }
   ],
   "source": [
    "import xgboost as xgb\n",
    "\n",
    "dtrain_2012 = xgb.DMatrix(x_2012, label=y_2012)\n",
    "dtrain_2013 = xgb.DMatrix(x_2013, label=y_2013)\n",
    "dtrain_2014 = xgb.DMatrix(x_2014, label=y_2014)\n",
    "dtrain_2015 = xgb.DMatrix(x_2015, label=y_2015)\n",
    "dtrain_2016 = xgb.DMatrix(x_2016, label=y_2016)"
   ]
  },
  {
   "cell_type": "code",
   "execution_count": 258,
   "metadata": {},
   "outputs": [],
   "source": [
    "def xgb_evaluate(max_depth, gamma, colsample_bytree,seed,min_child_weight,n_estimators,\n",
    "                  reg_alpha,reg_lambda,subsample,learning_rate):\n",
    "    params = {'eval_metric': 'rmse',\n",
    "              'max_depth': int(max_depth),\n",
    "              'subsample': subsample,\n",
    "              'eta': 0.1,\n",
    "              'gamma': gamma,\n",
    "              'colsample_bytree': colsample_bytree,\n",
    "              \"seed\": int(seed),\n",
    "              \"min_child_weight\": min_child_weight,\n",
    "              \"n_estimators\": n_estimators,\n",
    "              \"reg_alpha\": reg_alpha,\n",
    "              \"reg_lambda\": reg_lambda,\n",
    "              \"learning_rate\": learning_rate\n",
    "             }\n",
    "    # Used around 1000 boosting rounds in the full model\n",
    "    cv_result = xgb.cv(params, dtrain, num_boost_round=100, nfold=3)    \n",
    "    \n",
    "    # Bayesian optimization only knows how to maximize, not minimize, so return the negative RMSE\n",
    "    return -1.0 * cv_result['test-rmse-mean'].iloc[-1]"
   ]
  },
  {
   "cell_type": "code",
   "execution_count": 259,
   "metadata": {},
   "outputs": [],
   "source": [
    "def optimize(sett):\n",
    "    dtrain = sett\n",
    "    xgb_bo = BayesianOptimization(xgb_evaluate, {'max_depth': (3, 7), \n",
    "                                             'gamma': (0, 1),\n",
    "                                             'colsample_bytree': (0.3, 0.9),\n",
    "                                             \"seed\": (10,50),\n",
    "                                             \"min_child_weight\": (0.4,1.5),\n",
    "                                             \"n_estimators\":(100,10000),                                                                    \n",
    "                                             \"reg_alpha\":(0.2,0.75),\n",
    "                                             \"reg_lambda\": (0.2,0.8),\n",
    "                                             \"subsample\" : (0.3, 0.8),\n",
    "                                             \"learning_rate\": (0.01,0.07),\n",
    "                                            })\n",
    "    # Se probo con 3 puntos iniciales y 10 iteraciones, deberiamos probar con mas en ambas\n",
    "    # La prox iteracion en casa probar 100 y 10000\n",
    "    xgb_bo.maximize(init_points=3, n_iter=10, acq='ei')\n",
    "    params = xgb_bo.max['params']\n",
    "    params['max_depth'] = int(params['max_depth'])\n",
    "    params[\"seed\"] = int(params[\"seed\"])\n",
    "    params[\"n_estimators\"] = int(params[\"n_estimators\"])\n",
    "    return params"
   ]
  },
  {
   "cell_type": "code",
   "execution_count": 260,
   "metadata": {
    "scrolled": true
   },
   "outputs": [
    {
     "name": "stdout",
     "output_type": "stream",
     "text": [
      "|   iter    |  target   | colsam... |   gamma   | learni... | max_depth | min_ch... | n_esti... | reg_alpha | reg_la... |   seed    | subsample |\n",
      "-------------------------------------------------------------------------------------------------------------------------------------------------\n",
      "| \u001b[0m 1       \u001b[0m | \u001b[0m-8.862e+0\u001b[0m | \u001b[0m 0.4441  \u001b[0m | \u001b[0m 0.6882  \u001b[0m | \u001b[0m 0.04941 \u001b[0m | \u001b[0m 5.864   \u001b[0m | \u001b[0m 1.301   \u001b[0m | \u001b[0m 8.159e+0\u001b[0m | \u001b[0m 0.7123  \u001b[0m | \u001b[0m 0.3806  \u001b[0m | \u001b[0m 41.06   \u001b[0m | \u001b[0m 0.3587  \u001b[0m |\n",
      "| \u001b[95m 2       \u001b[0m | \u001b[95m-8.73e+05\u001b[0m | \u001b[95m 0.6479  \u001b[0m | \u001b[95m 0.3529  \u001b[0m | \u001b[95m 0.04546 \u001b[0m | \u001b[95m 5.359   \u001b[0m | \u001b[95m 1.227   \u001b[0m | \u001b[95m 7.129e+0\u001b[0m | \u001b[95m 0.2772  \u001b[0m | \u001b[95m 0.4825  \u001b[0m | \u001b[95m 25.03   \u001b[0m | \u001b[95m 0.3723  \u001b[0m |\n",
      "| \u001b[0m 3       \u001b[0m | \u001b[0m-8.795e+0\u001b[0m | \u001b[0m 0.7166  \u001b[0m | \u001b[0m 0.1181  \u001b[0m | \u001b[0m 0.06087 \u001b[0m | \u001b[0m 4.716   \u001b[0m | \u001b[0m 1.335   \u001b[0m | \u001b[0m 2.768e+0\u001b[0m | \u001b[0m 0.3284  \u001b[0m | \u001b[0m 0.6204  \u001b[0m | \u001b[0m 28.24   \u001b[0m | \u001b[0m 0.7622  \u001b[0m |\n",
      "| \u001b[0m 4       \u001b[0m | \u001b[0m-9.164e+0\u001b[0m | \u001b[0m 0.3032  \u001b[0m | \u001b[0m 0.363   \u001b[0m | \u001b[0m 0.04041 \u001b[0m | \u001b[0m 5.75    \u001b[0m | \u001b[0m 1.471   \u001b[0m | \u001b[0m 2.379e+0\u001b[0m | \u001b[0m 0.3376  \u001b[0m | \u001b[0m 0.5848  \u001b[0m | \u001b[0m 13.38   \u001b[0m | \u001b[0m 0.4531  \u001b[0m |\n",
      "| \u001b[0m 5       \u001b[0m | \u001b[0m-9.038e+0\u001b[0m | \u001b[0m 0.5957  \u001b[0m | \u001b[0m 0.6237  \u001b[0m | \u001b[0m 0.03195 \u001b[0m | \u001b[0m 5.573   \u001b[0m | \u001b[0m 1.326   \u001b[0m | \u001b[0m 6.333e+0\u001b[0m | \u001b[0m 0.4383  \u001b[0m | \u001b[0m 0.7137  \u001b[0m | \u001b[0m 42.15   \u001b[0m | \u001b[0m 0.7617  \u001b[0m |\n",
      "| \u001b[0m 6       \u001b[0m | \u001b[0m-9.335e+0\u001b[0m | \u001b[0m 0.7732  \u001b[0m | \u001b[0m 0.2367  \u001b[0m | \u001b[0m 0.05107 \u001b[0m | \u001b[0m 3.623   \u001b[0m | \u001b[0m 0.7041  \u001b[0m | \u001b[0m 4.635e+0\u001b[0m | \u001b[0m 0.4502  \u001b[0m | \u001b[0m 0.3296  \u001b[0m | \u001b[0m 16.55   \u001b[0m | \u001b[0m 0.6187  \u001b[0m |\n",
      "| \u001b[0m 7       \u001b[0m | \u001b[0m-9.796e+0\u001b[0m | \u001b[0m 0.3667  \u001b[0m | \u001b[0m 0.4705  \u001b[0m | \u001b[0m 0.04313 \u001b[0m | \u001b[0m 3.66    \u001b[0m | \u001b[0m 0.6288  \u001b[0m | \u001b[0m 1.187e+0\u001b[0m | \u001b[0m 0.4657  \u001b[0m | \u001b[0m 0.4266  \u001b[0m | \u001b[0m 12.47   \u001b[0m | \u001b[0m 0.5485  \u001b[0m |\n",
      "| \u001b[0m 8       \u001b[0m | \u001b[0m-9.45e+05\u001b[0m | \u001b[0m 0.3898  \u001b[0m | \u001b[0m 0.3252  \u001b[0m | \u001b[0m 0.05711 \u001b[0m | \u001b[0m 3.681   \u001b[0m | \u001b[0m 0.6063  \u001b[0m | \u001b[0m 6.917e+0\u001b[0m | \u001b[0m 0.6144  \u001b[0m | \u001b[0m 0.2906  \u001b[0m | \u001b[0m 43.65   \u001b[0m | \u001b[0m 0.7482  \u001b[0m |\n",
      "| \u001b[0m 9       \u001b[0m | \u001b[0m-1.192e+0\u001b[0m | \u001b[0m 0.8843  \u001b[0m | \u001b[0m 0.6149  \u001b[0m | \u001b[0m 0.01618 \u001b[0m | \u001b[0m 3.123   \u001b[0m | \u001b[0m 0.6266  \u001b[0m | \u001b[0m 5.655e+0\u001b[0m | \u001b[0m 0.6122  \u001b[0m | \u001b[0m 0.5452  \u001b[0m | \u001b[0m 49.25   \u001b[0m | \u001b[0m 0.5509  \u001b[0m |\n",
      "| \u001b[0m 10      \u001b[0m | \u001b[0m-8.818e+0\u001b[0m | \u001b[0m 0.8296  \u001b[0m | \u001b[0m 0.1555  \u001b[0m | \u001b[0m 0.06402 \u001b[0m | \u001b[0m 4.891   \u001b[0m | \u001b[0m 0.5885  \u001b[0m | \u001b[0m 9.889e+0\u001b[0m | \u001b[0m 0.5632  \u001b[0m | \u001b[0m 0.6929  \u001b[0m | \u001b[0m 46.04   \u001b[0m | \u001b[0m 0.377   \u001b[0m |\n",
      "| \u001b[95m 11      \u001b[0m | \u001b[95m-8.553e+0\u001b[0m | \u001b[95m 0.5543  \u001b[0m | \u001b[95m 0.7645  \u001b[0m | \u001b[95m 0.04954 \u001b[0m | \u001b[95m 6.499   \u001b[0m | \u001b[95m 0.9779  \u001b[0m | \u001b[95m 3.462e+0\u001b[0m | \u001b[95m 0.2156  \u001b[0m | \u001b[95m 0.4593  \u001b[0m | \u001b[95m 28.29   \u001b[0m | \u001b[95m 0.4852  \u001b[0m |\n",
      "| \u001b[0m 12      \u001b[0m | \u001b[0m-8.654e+0\u001b[0m | \u001b[0m 0.5335  \u001b[0m | \u001b[0m 0.9495  \u001b[0m | \u001b[0m 0.05807 \u001b[0m | \u001b[0m 5.78    \u001b[0m | \u001b[0m 0.4893  \u001b[0m | \u001b[0m 8.385e+0\u001b[0m | \u001b[0m 0.6099  \u001b[0m | \u001b[0m 0.7425  \u001b[0m | \u001b[0m 28.66   \u001b[0m | \u001b[0m 0.5626  \u001b[0m |\n",
      "| \u001b[0m 13      \u001b[0m | \u001b[0m-8.593e+0\u001b[0m | \u001b[0m 0.4191  \u001b[0m | \u001b[0m 0.02489 \u001b[0m | \u001b[0m 0.05177 \u001b[0m | \u001b[0m 6.867   \u001b[0m | \u001b[0m 1.426   \u001b[0m | \u001b[0m 7.444e+0\u001b[0m | \u001b[0m 0.5803  \u001b[0m | \u001b[0m 0.2534  \u001b[0m | \u001b[0m 30.97   \u001b[0m | \u001b[0m 0.5835  \u001b[0m |\n",
      "=================================================================================================================================================\n",
      "|   iter    |  target   | colsam... |   gamma   | learni... | max_depth | min_ch... | n_esti... | reg_alpha | reg_la... |   seed    | subsample |\n",
      "-------------------------------------------------------------------------------------------------------------------------------------------------\n",
      "| \u001b[0m 1       \u001b[0m | \u001b[0m-8.428e+0\u001b[0m | \u001b[0m 0.4064  \u001b[0m | \u001b[0m 0.1271  \u001b[0m | \u001b[0m 0.04527 \u001b[0m | \u001b[0m 6.37    \u001b[0m | \u001b[0m 0.5776  \u001b[0m | \u001b[0m 2.724e+0\u001b[0m | \u001b[0m 0.6699  \u001b[0m | \u001b[0m 0.6266  \u001b[0m | \u001b[0m 35.73   \u001b[0m | \u001b[0m 0.4808  \u001b[0m |\n",
      "| \u001b[95m 2       \u001b[0m | \u001b[95m-8.424e+0\u001b[0m | \u001b[95m 0.8278  \u001b[0m | \u001b[95m 0.2013  \u001b[0m | \u001b[95m 0.05388 \u001b[0m | \u001b[95m 5.438   \u001b[0m | \u001b[95m 1.154   \u001b[0m | \u001b[95m 8.509e+0\u001b[0m | \u001b[95m 0.3169  \u001b[0m | \u001b[95m 0.2298  \u001b[0m | \u001b[95m 35.29   \u001b[0m | \u001b[95m 0.462   \u001b[0m |\n",
      "| \u001b[0m 3       \u001b[0m | \u001b[0m-9.317e+0\u001b[0m | \u001b[0m 0.812   \u001b[0m | \u001b[0m 0.6107  \u001b[0m | \u001b[0m 0.04247 \u001b[0m | \u001b[0m 3.068   \u001b[0m | \u001b[0m 0.5594  \u001b[0m | \u001b[0m 7.463e+0\u001b[0m | \u001b[0m 0.3727  \u001b[0m | \u001b[0m 0.3055  \u001b[0m | \u001b[0m 34.89   \u001b[0m | \u001b[0m 0.4729  \u001b[0m |\n",
      "| \u001b[0m 4       \u001b[0m | \u001b[0m-8.754e+0\u001b[0m | \u001b[0m 0.7434  \u001b[0m | \u001b[0m 0.8143  \u001b[0m | \u001b[0m 0.03281 \u001b[0m | \u001b[0m 5.103   \u001b[0m | \u001b[0m 0.6679  \u001b[0m | \u001b[0m 9.008e+0\u001b[0m | \u001b[0m 0.4125  \u001b[0m | \u001b[0m 0.6957  \u001b[0m | \u001b[0m 29.5    \u001b[0m | \u001b[0m 0.3129  \u001b[0m |\n",
      "| \u001b[0m 5       \u001b[0m | \u001b[0m-9.976e+0\u001b[0m | \u001b[0m 0.5274  \u001b[0m | \u001b[0m 0.6139  \u001b[0m | \u001b[0m 0.02887 \u001b[0m | \u001b[0m 3.64    \u001b[0m | \u001b[0m 1.216   \u001b[0m | \u001b[0m 510.4   \u001b[0m | \u001b[0m 0.5938  \u001b[0m | \u001b[0m 0.5311  \u001b[0m | \u001b[0m 49.89   \u001b[0m | \u001b[0m 0.427   \u001b[0m |\n",
      "| \u001b[0m 6       \u001b[0m | \u001b[0m-1.001e+0\u001b[0m | \u001b[0m 0.6125  \u001b[0m | \u001b[0m 0.6595  \u001b[0m | \u001b[0m 0.01944 \u001b[0m | \u001b[0m 5.727   \u001b[0m | \u001b[0m 0.8594  \u001b[0m | \u001b[0m 8.523e+0\u001b[0m | \u001b[0m 0.2021  \u001b[0m | \u001b[0m 0.4847  \u001b[0m | \u001b[0m 36.09   \u001b[0m | \u001b[0m 0.4961  \u001b[0m |\n",
      "| \u001b[0m 7       \u001b[0m | \u001b[0m-8.762e+0\u001b[0m | \u001b[0m 0.8175  \u001b[0m | \u001b[0m 0.7807  \u001b[0m | \u001b[0m 0.03241 \u001b[0m | \u001b[0m 5.356   \u001b[0m | \u001b[0m 1.062   \u001b[0m | \u001b[0m 4.112e+0\u001b[0m | \u001b[0m 0.5496  \u001b[0m | \u001b[0m 0.6673  \u001b[0m | \u001b[0m 31.0    \u001b[0m | \u001b[0m 0.6472  \u001b[0m |\n",
      "| \u001b[0m 8       \u001b[0m | \u001b[0m-9.092e+0\u001b[0m | \u001b[0m 0.5614  \u001b[0m | \u001b[0m 0.4877  \u001b[0m | \u001b[0m 0.06016 \u001b[0m | \u001b[0m 3.957   \u001b[0m | \u001b[0m 1.357   \u001b[0m | \u001b[0m 2.251e+0\u001b[0m | \u001b[0m 0.7253  \u001b[0m | \u001b[0m 0.5888  \u001b[0m | \u001b[0m 22.64   \u001b[0m | \u001b[0m 0.333   \u001b[0m |\n",
      "| \u001b[95m 9       \u001b[0m | \u001b[95m-8.354e+0\u001b[0m | \u001b[95m 0.7232  \u001b[0m | \u001b[95m 0.9066  \u001b[0m | \u001b[95m 0.03833 \u001b[0m | \u001b[95m 6.448   \u001b[0m | \u001b[95m 0.9584  \u001b[0m | \u001b[95m 2.325e+0\u001b[0m | \u001b[95m 0.7003  \u001b[0m | \u001b[95m 0.2772  \u001b[0m | \u001b[95m 28.93   \u001b[0m | \u001b[95m 0.5839  \u001b[0m |\n",
      "| \u001b[0m 10      \u001b[0m | \u001b[0m-9.184e+0\u001b[0m | \u001b[0m 0.4625  \u001b[0m | \u001b[0m 0.6165  \u001b[0m | \u001b[0m 0.05551 \u001b[0m | \u001b[0m 3.607   \u001b[0m | \u001b[0m 0.9643  \u001b[0m | \u001b[0m 5.679e+0\u001b[0m | \u001b[0m 0.3052  \u001b[0m | \u001b[0m 0.4116  \u001b[0m | \u001b[0m 15.98   \u001b[0m | \u001b[0m 0.6175  \u001b[0m |\n",
      "| \u001b[95m 11      \u001b[0m | \u001b[95m-8.336e+0\u001b[0m | \u001b[95m 0.5494  \u001b[0m | \u001b[95m 0.5037  \u001b[0m | \u001b[95m 0.05114 \u001b[0m | \u001b[95m 6.862   \u001b[0m | \u001b[95m 0.5217  \u001b[0m | \u001b[95m 6.032e+0\u001b[0m | \u001b[95m 0.3422  \u001b[0m | \u001b[95m 0.7187  \u001b[0m | \u001b[95m 14.83   \u001b[0m | \u001b[95m 0.3154  \u001b[0m |\n",
      "| \u001b[0m 12      \u001b[0m | \u001b[0m-9.14e+05\u001b[0m | \u001b[0m 0.6266  \u001b[0m | \u001b[0m 0.2264  \u001b[0m | \u001b[0m 0.0325  \u001b[0m | \u001b[0m 4.131   \u001b[0m | \u001b[0m 0.8524  \u001b[0m | \u001b[0m 826.5   \u001b[0m | \u001b[0m 0.6782  \u001b[0m | \u001b[0m 0.2313  \u001b[0m | \u001b[0m 23.82   \u001b[0m | \u001b[0m 0.3082  \u001b[0m |\n",
      "| \u001b[0m 13      \u001b[0m | \u001b[0m-8.419e+0\u001b[0m | \u001b[0m 0.3944  \u001b[0m | \u001b[0m 0.8482  \u001b[0m | \u001b[0m 0.06713 \u001b[0m | \u001b[0m 5.293   \u001b[0m | \u001b[0m 1.048   \u001b[0m | \u001b[0m 5.898e+0\u001b[0m | \u001b[0m 0.5135  \u001b[0m | \u001b[0m 0.604   \u001b[0m | \u001b[0m 45.54   \u001b[0m | \u001b[0m 0.4763  \u001b[0m |\n",
      "=================================================================================================================================================\n",
      "|   iter    |  target   | colsam... |   gamma   | learni... | max_depth | min_ch... | n_esti... | reg_alpha | reg_la... |   seed    | subsample |\n",
      "-------------------------------------------------------------------------------------------------------------------------------------------------\n",
      "| \u001b[0m 1       \u001b[0m | \u001b[0m-9.439e+0\u001b[0m | \u001b[0m 0.5391  \u001b[0m | \u001b[0m 0.3062  \u001b[0m | \u001b[0m 0.06949 \u001b[0m | \u001b[0m 5.805   \u001b[0m | \u001b[0m 0.778   \u001b[0m | \u001b[0m 4.608e+0\u001b[0m | \u001b[0m 0.4905  \u001b[0m | \u001b[0m 0.6336  \u001b[0m | \u001b[0m 15.77   \u001b[0m | \u001b[0m 0.3074  \u001b[0m |\n",
      "| \u001b[0m 2       \u001b[0m | \u001b[0m-1.154e+0\u001b[0m | \u001b[0m 0.5293  \u001b[0m | \u001b[0m 0.04801 \u001b[0m | \u001b[0m 0.02038 \u001b[0m | \u001b[0m 4.071   \u001b[0m | \u001b[0m 0.6149  \u001b[0m | \u001b[0m 1.78e+03\u001b[0m | \u001b[0m 0.2156  \u001b[0m | \u001b[0m 0.6912  \u001b[0m | \u001b[0m 19.81   \u001b[0m | \u001b[0m 0.5029  \u001b[0m |\n",
      "| \u001b[0m 3       \u001b[0m | \u001b[0m-9.754e+0\u001b[0m | \u001b[0m 0.7833  \u001b[0m | \u001b[0m 0.522   \u001b[0m | \u001b[0m 0.05774 \u001b[0m | \u001b[0m 4.965   \u001b[0m | \u001b[0m 1.13    \u001b[0m | \u001b[0m 7.057e+0\u001b[0m | \u001b[0m 0.7034  \u001b[0m | \u001b[0m 0.2372  \u001b[0m | \u001b[0m 20.14   \u001b[0m | \u001b[0m 0.4766  \u001b[0m |\n"
     ]
    },
    {
     "name": "stdout",
     "output_type": "stream",
     "text": [
      "| \u001b[0m 4       \u001b[0m | \u001b[0m-9.728e+0\u001b[0m | \u001b[0m 0.4439  \u001b[0m | \u001b[0m 0.8922  \u001b[0m | \u001b[0m 0.0427  \u001b[0m | \u001b[0m 5.509   \u001b[0m | \u001b[0m 1.03    \u001b[0m | \u001b[0m 965.0   \u001b[0m | \u001b[0m 0.749   \u001b[0m | \u001b[0m 0.7312  \u001b[0m | \u001b[0m 21.1    \u001b[0m | \u001b[0m 0.6454  \u001b[0m |\n",
      "| \u001b[95m 5       \u001b[0m | \u001b[95m-9.232e+0\u001b[0m | \u001b[95m 0.717   \u001b[0m | \u001b[95m 0.5619  \u001b[0m | \u001b[95m 0.04889 \u001b[0m | \u001b[95m 6.527   \u001b[0m | \u001b[95m 1.203   \u001b[0m | \u001b[95m 111.3   \u001b[0m | \u001b[95m 0.6511  \u001b[0m | \u001b[95m 0.3612  \u001b[0m | \u001b[95m 19.06   \u001b[0m | \u001b[95m 0.7976  \u001b[0m |\n",
      "| \u001b[0m 6       \u001b[0m | \u001b[0m-9.649e+0\u001b[0m | \u001b[0m 0.5067  \u001b[0m | \u001b[0m 0.2845  \u001b[0m | \u001b[0m 0.04345 \u001b[0m | \u001b[0m 5.758   \u001b[0m | \u001b[0m 1.144   \u001b[0m | \u001b[0m 5.929e+0\u001b[0m | \u001b[0m 0.2273  \u001b[0m | \u001b[0m 0.2331  \u001b[0m | \u001b[0m 28.78   \u001b[0m | \u001b[0m 0.5094  \u001b[0m |\n",
      "| \u001b[0m 7       \u001b[0m | \u001b[0m-1.019e+0\u001b[0m | \u001b[0m 0.4393  \u001b[0m | \u001b[0m 0.4601  \u001b[0m | \u001b[0m 0.06556 \u001b[0m | \u001b[0m 3.353   \u001b[0m | \u001b[0m 1.277   \u001b[0m | \u001b[0m 2.859e+0\u001b[0m | \u001b[0m 0.2258  \u001b[0m | \u001b[0m 0.3602  \u001b[0m | \u001b[0m 19.75   \u001b[0m | \u001b[0m 0.3014  \u001b[0m |\n",
      "| \u001b[0m 8       \u001b[0m | \u001b[0m-9.258e+0\u001b[0m | \u001b[0m 0.4626  \u001b[0m | \u001b[0m 0.713   \u001b[0m | \u001b[0m 0.05847 \u001b[0m | \u001b[0m 6.923   \u001b[0m | \u001b[0m 0.6994  \u001b[0m | \u001b[0m 9.935e+0\u001b[0m | \u001b[0m 0.4273  \u001b[0m | \u001b[0m 0.2505  \u001b[0m | \u001b[0m 42.68   \u001b[0m | \u001b[0m 0.6172  \u001b[0m |\n",
      "| \u001b[0m 9       \u001b[0m | \u001b[0m-1.143e+0\u001b[0m | \u001b[0m 0.3266  \u001b[0m | \u001b[0m 0.8724  \u001b[0m | \u001b[0m 0.02944 \u001b[0m | \u001b[0m 3.267   \u001b[0m | \u001b[0m 1.319   \u001b[0m | \u001b[0m 6.808e+0\u001b[0m | \u001b[0m 0.5571  \u001b[0m | \u001b[0m 0.3734  \u001b[0m | \u001b[0m 17.71   \u001b[0m | \u001b[0m 0.5421  \u001b[0m |\n",
      "| \u001b[0m 10      \u001b[0m | \u001b[0m-1.185e+0\u001b[0m | \u001b[0m 0.6589  \u001b[0m | \u001b[0m 0.5673  \u001b[0m | \u001b[0m 0.01693 \u001b[0m | \u001b[0m 5.432   \u001b[0m | \u001b[0m 0.415   \u001b[0m | \u001b[0m 8.168e+0\u001b[0m | \u001b[0m 0.7106  \u001b[0m | \u001b[0m 0.5028  \u001b[0m | \u001b[0m 15.97   \u001b[0m | \u001b[0m 0.6955  \u001b[0m |\n",
      "| \u001b[0m 11      \u001b[0m | \u001b[0m-1.067e+0\u001b[0m | \u001b[0m 0.3793  \u001b[0m | \u001b[0m 0.003887\u001b[0m | \u001b[0m 0.04174 \u001b[0m | \u001b[0m 3.873   \u001b[0m | \u001b[0m 0.8755  \u001b[0m | \u001b[0m 3.424e+0\u001b[0m | \u001b[0m 0.3827  \u001b[0m | \u001b[0m 0.6417  \u001b[0m | \u001b[0m 36.16   \u001b[0m | \u001b[0m 0.7744  \u001b[0m |\n",
      "| \u001b[0m 12      \u001b[0m | \u001b[0m-9.569e+0\u001b[0m | \u001b[0m 0.8062  \u001b[0m | \u001b[0m 0.9208  \u001b[0m | \u001b[0m 0.04645 \u001b[0m | \u001b[0m 5.581   \u001b[0m | \u001b[0m 1.176   \u001b[0m | \u001b[0m 3.35e+03\u001b[0m | \u001b[0m 0.2512  \u001b[0m | \u001b[0m 0.5009  \u001b[0m | \u001b[0m 40.08   \u001b[0m | \u001b[0m 0.3946  \u001b[0m |\n",
      "| \u001b[0m 13      \u001b[0m | \u001b[0m-1.095e+0\u001b[0m | \u001b[0m 0.5791  \u001b[0m | \u001b[0m 0.8731  \u001b[0m | \u001b[0m 0.03244 \u001b[0m | \u001b[0m 3.821   \u001b[0m | \u001b[0m 0.6955  \u001b[0m | \u001b[0m 7.715e+0\u001b[0m | \u001b[0m 0.7353  \u001b[0m | \u001b[0m 0.4785  \u001b[0m | \u001b[0m 13.87   \u001b[0m | \u001b[0m 0.6229  \u001b[0m |\n",
      "=================================================================================================================================================\n",
      "|   iter    |  target   | colsam... |   gamma   | learni... | max_depth | min_ch... | n_esti... | reg_alpha | reg_la... |   seed    | subsample |\n",
      "-------------------------------------------------------------------------------------------------------------------------------------------------\n",
      "| \u001b[0m 1       \u001b[0m | \u001b[0m-9.653e+0\u001b[0m | \u001b[0m 0.6978  \u001b[0m | \u001b[0m 0.6352  \u001b[0m | \u001b[0m 0.05332 \u001b[0m | \u001b[0m 6.154   \u001b[0m | \u001b[0m 1.125   \u001b[0m | \u001b[0m 1.708e+0\u001b[0m | \u001b[0m 0.273   \u001b[0m | \u001b[0m 0.2287  \u001b[0m | \u001b[0m 25.22   \u001b[0m | \u001b[0m 0.6562  \u001b[0m |\n",
      "| \u001b[0m 2       \u001b[0m | \u001b[0m-1.034e+0\u001b[0m | \u001b[0m 0.5293  \u001b[0m | \u001b[0m 0.5811  \u001b[0m | \u001b[0m 0.03573 \u001b[0m | \u001b[0m 5.65    \u001b[0m | \u001b[0m 0.9096  \u001b[0m | \u001b[0m 2.771e+0\u001b[0m | \u001b[0m 0.5194  \u001b[0m | \u001b[0m 0.7997  \u001b[0m | \u001b[0m 25.1    \u001b[0m | \u001b[0m 0.5641  \u001b[0m |\n",
      "| \u001b[0m 3       \u001b[0m | \u001b[0m-1.136e+0\u001b[0m | \u001b[0m 0.3021  \u001b[0m | \u001b[0m 0.6597  \u001b[0m | \u001b[0m 0.03347 \u001b[0m | \u001b[0m 4.41    \u001b[0m | \u001b[0m 1.065   \u001b[0m | \u001b[0m 5.946e+0\u001b[0m | \u001b[0m 0.6025  \u001b[0m | \u001b[0m 0.5621  \u001b[0m | \u001b[0m 37.12   \u001b[0m | \u001b[0m 0.3948  \u001b[0m |\n",
      "| \u001b[0m 4       \u001b[0m | \u001b[0m-1.136e+0\u001b[0m | \u001b[0m 0.8743  \u001b[0m | \u001b[0m 0.4445  \u001b[0m | \u001b[0m 0.0375  \u001b[0m | \u001b[0m 3.18    \u001b[0m | \u001b[0m 1.211   \u001b[0m | \u001b[0m 8.734e+0\u001b[0m | \u001b[0m 0.5304  \u001b[0m | \u001b[0m 0.2658  \u001b[0m | \u001b[0m 21.15   \u001b[0m | \u001b[0m 0.3394  \u001b[0m |\n",
      "| \u001b[95m 5       \u001b[0m | \u001b[95m-9.647e+0\u001b[0m | \u001b[95m 0.7154  \u001b[0m | \u001b[95m 0.6386  \u001b[0m | \u001b[95m 0.05576 \u001b[0m | \u001b[95m 6.156   \u001b[0m | \u001b[95m 1.135   \u001b[0m | \u001b[95m 1.692e+0\u001b[0m | \u001b[95m 0.2751  \u001b[0m | \u001b[95m 0.2216  \u001b[0m | \u001b[95m 25.24   \u001b[0m | \u001b[95m 0.6554  \u001b[0m |\n",
      "| \u001b[0m 6       \u001b[0m | \u001b[0m-1.377e+0\u001b[0m | \u001b[0m 0.4048  \u001b[0m | \u001b[0m 0.1517  \u001b[0m | \u001b[0m 0.01893 \u001b[0m | \u001b[0m 3.04    \u001b[0m | \u001b[0m 0.5763  \u001b[0m | \u001b[0m 9.923e+0\u001b[0m | \u001b[0m 0.2365  \u001b[0m | \u001b[0m 0.6654  \u001b[0m | \u001b[0m 38.44   \u001b[0m | \u001b[0m 0.3938  \u001b[0m |\n",
      "| \u001b[0m 7       \u001b[0m | \u001b[0m-9.65e+05\u001b[0m | \u001b[0m 0.8003  \u001b[0m | \u001b[0m 0.6369  \u001b[0m | \u001b[0m 0.05607 \u001b[0m | \u001b[0m 6.14    \u001b[0m | \u001b[0m 1.186   \u001b[0m | \u001b[0m 1.627e+0\u001b[0m | \u001b[0m 0.2941  \u001b[0m | \u001b[0m 0.2     \u001b[0m | \u001b[0m 25.33   \u001b[0m | \u001b[0m 0.6345  \u001b[0m |\n",
      "| \u001b[0m 8       \u001b[0m | \u001b[0m-1.655e+0\u001b[0m | \u001b[0m 0.664   \u001b[0m | \u001b[0m 0.6858  \u001b[0m | \u001b[0m 0.01    \u001b[0m | \u001b[0m 6.282   \u001b[0m | \u001b[0m 1.134   \u001b[0m | \u001b[0m 1.664e+0\u001b[0m | \u001b[0m 0.2231  \u001b[0m | \u001b[0m 0.2     \u001b[0m | \u001b[0m 25.23   \u001b[0m | \u001b[0m 0.7672  \u001b[0m |\n",
      "| \u001b[0m 9       \u001b[0m | \u001b[0m-1.001e+0\u001b[0m | \u001b[0m 0.4989  \u001b[0m | \u001b[0m 0.986   \u001b[0m | \u001b[0m 0.0378  \u001b[0m | \u001b[0m 6.57    \u001b[0m | \u001b[0m 1.335   \u001b[0m | \u001b[0m 1.694e+0\u001b[0m | \u001b[0m 0.7333  \u001b[0m | \u001b[0m 0.468   \u001b[0m | \u001b[0m 24.83   \u001b[0m | \u001b[0m 0.3238  \u001b[0m |\n",
      "| \u001b[0m 10      \u001b[0m | \u001b[0m-1.073e+0\u001b[0m | \u001b[0m 0.3514  \u001b[0m | \u001b[0m 0.6872  \u001b[0m | \u001b[0m 0.04644 \u001b[0m | \u001b[0m 4.392   \u001b[0m | \u001b[0m 0.7586  \u001b[0m | \u001b[0m 4.378e+0\u001b[0m | \u001b[0m 0.3691  \u001b[0m | \u001b[0m 0.4561  \u001b[0m | \u001b[0m 41.07   \u001b[0m | \u001b[0m 0.6804  \u001b[0m |\n",
      "| \u001b[0m 11      \u001b[0m | \u001b[0m-9.886e+0\u001b[0m | \u001b[0m 0.358   \u001b[0m | \u001b[0m 0.5251  \u001b[0m | \u001b[0m 0.05575 \u001b[0m | \u001b[0m 6.07    \u001b[0m | \u001b[0m 0.7629  \u001b[0m | \u001b[0m 6.716e+0\u001b[0m | \u001b[0m 0.5482  \u001b[0m | \u001b[0m 0.3145  \u001b[0m | \u001b[0m 25.08   \u001b[0m | \u001b[0m 0.4533  \u001b[0m |\n",
      "| \u001b[0m 12      \u001b[0m | \u001b[0m-1.54e+06\u001b[0m | \u001b[0m 0.6588  \u001b[0m | \u001b[0m 0.873   \u001b[0m | \u001b[0m 0.01388 \u001b[0m | \u001b[0m 3.954   \u001b[0m | \u001b[0m 0.6772  \u001b[0m | \u001b[0m 9.262e+0\u001b[0m | \u001b[0m 0.2629  \u001b[0m | \u001b[0m 0.3283  \u001b[0m | \u001b[0m 15.26   \u001b[0m | \u001b[0m 0.6017  \u001b[0m |\n",
      "| \u001b[0m 13      \u001b[0m | \u001b[0m-1.146e+0\u001b[0m | \u001b[0m 0.4161  \u001b[0m | \u001b[0m 0.3977  \u001b[0m | \u001b[0m 0.02384 \u001b[0m | \u001b[0m 5.863   \u001b[0m | \u001b[0m 1.308   \u001b[0m | \u001b[0m 4.823e+0\u001b[0m | \u001b[0m 0.5398  \u001b[0m | \u001b[0m 0.7941  \u001b[0m | \u001b[0m 11.35   \u001b[0m | \u001b[0m 0.657   \u001b[0m |\n",
      "=================================================================================================================================================\n",
      "|   iter    |  target   | colsam... |   gamma   | learni... | max_depth | min_ch... | n_esti... | reg_alpha | reg_la... |   seed    | subsample |\n",
      "-------------------------------------------------------------------------------------------------------------------------------------------------\n",
      "| \u001b[0m 1       \u001b[0m | \u001b[0m-1.113e+0\u001b[0m | \u001b[0m 0.8079  \u001b[0m | \u001b[0m 0.2718  \u001b[0m | \u001b[0m 0.05712 \u001b[0m | \u001b[0m 4.775   \u001b[0m | \u001b[0m 1.345   \u001b[0m | \u001b[0m 6.426e+0\u001b[0m | \u001b[0m 0.6184  \u001b[0m | \u001b[0m 0.2904  \u001b[0m | \u001b[0m 36.22   \u001b[0m | \u001b[0m 0.3989  \u001b[0m |\n",
      "| \u001b[0m 2       \u001b[0m | \u001b[0m-1.185e+0\u001b[0m | \u001b[0m 0.843   \u001b[0m | \u001b[0m 0.2701  \u001b[0m | \u001b[0m 0.03251 \u001b[0m | \u001b[0m 4.64    \u001b[0m | \u001b[0m 0.4468  \u001b[0m | \u001b[0m 9.197e+0\u001b[0m | \u001b[0m 0.6646  \u001b[0m | \u001b[0m 0.7156  \u001b[0m | \u001b[0m 40.3    \u001b[0m | \u001b[0m 0.7418  \u001b[0m |\n",
      "| \u001b[95m 3       \u001b[0m | \u001b[95m-1.071e+0\u001b[0m | \u001b[95m 0.3021  \u001b[0m | \u001b[95m 0.3184  \u001b[0m | \u001b[95m 0.059   \u001b[0m | \u001b[95m 6.026   \u001b[0m | \u001b[95m 1.307   \u001b[0m | \u001b[95m 7.612e+0\u001b[0m | \u001b[95m 0.5825  \u001b[0m | \u001b[95m 0.2867  \u001b[0m | \u001b[95m 31.4    \u001b[0m | \u001b[95m 0.6252  \u001b[0m |\n",
      "| \u001b[0m 4       \u001b[0m | \u001b[0m-1.181e+0\u001b[0m | \u001b[0m 0.4884  \u001b[0m | \u001b[0m 0.9404  \u001b[0m | \u001b[0m 0.05597 \u001b[0m | \u001b[0m 3.624   \u001b[0m | \u001b[0m 1.414   \u001b[0m | \u001b[0m 9.629e+0\u001b[0m | \u001b[0m 0.478   \u001b[0m | \u001b[0m 0.6576  \u001b[0m | \u001b[0m 19.71   \u001b[0m | \u001b[0m 0.7089  \u001b[0m |\n",
      "| \u001b[95m 5       \u001b[0m | \u001b[95m-1.059e+0\u001b[0m | \u001b[95m 0.3     \u001b[0m | \u001b[95m 0.3085  \u001b[0m | \u001b[95m 0.06932 \u001b[0m | \u001b[95m 6.019   \u001b[0m | \u001b[95m 1.32    \u001b[0m | \u001b[95m 7.573e+0\u001b[0m | \u001b[95m 0.5834  \u001b[0m | \u001b[95m 0.2674  \u001b[0m | \u001b[95m 31.41   \u001b[0m | \u001b[95m 0.6228  \u001b[0m |\n",
      "| \u001b[0m 6       \u001b[0m | \u001b[0m-1.164e+0\u001b[0m | \u001b[0m 0.4969  \u001b[0m | \u001b[0m 0.8947  \u001b[0m | \u001b[0m 0.06608 \u001b[0m | \u001b[0m 3.186   \u001b[0m | \u001b[0m 1.259   \u001b[0m | \u001b[0m 5.827e+0\u001b[0m | \u001b[0m 0.6562  \u001b[0m | \u001b[0m 0.6877  \u001b[0m | \u001b[0m 37.48   \u001b[0m | \u001b[0m 0.7939  \u001b[0m |\n",
      "| \u001b[0m 7       \u001b[0m | \u001b[0m-1.088e+0\u001b[0m | \u001b[0m 0.8951  \u001b[0m | \u001b[0m 0.8111  \u001b[0m | \u001b[0m 0.04499 \u001b[0m | \u001b[0m 5.461   \u001b[0m | \u001b[0m 1.35    \u001b[0m | \u001b[0m 8.811e+0\u001b[0m | \u001b[0m 0.5933  \u001b[0m | \u001b[0m 0.2312  \u001b[0m | \u001b[0m 49.85   \u001b[0m | \u001b[0m 0.3324  \u001b[0m |\n",
      "| \u001b[0m 8       \u001b[0m | \u001b[0m-1.213e+0\u001b[0m | \u001b[0m 0.3246  \u001b[0m | \u001b[0m 0.2117  \u001b[0m | \u001b[0m 0.05124 \u001b[0m | \u001b[0m 3.028   \u001b[0m | \u001b[0m 1.323   \u001b[0m | \u001b[0m 7.763e+0\u001b[0m | \u001b[0m 0.2555  \u001b[0m | \u001b[0m 0.5733  \u001b[0m | \u001b[0m 42.63   \u001b[0m | \u001b[0m 0.4999  \u001b[0m |\n"
     ]
    },
    {
     "name": "stdout",
     "output_type": "stream",
     "text": [
      "| \u001b[0m 9       \u001b[0m | \u001b[0m-1.505e+0\u001b[0m | \u001b[0m 0.3946  \u001b[0m | \u001b[0m 0.7737  \u001b[0m | \u001b[0m 0.01477 \u001b[0m | \u001b[0m 6.03    \u001b[0m | \u001b[0m 0.6256  \u001b[0m | \u001b[0m 7.582e+0\u001b[0m | \u001b[0m 0.7055  \u001b[0m | \u001b[0m 0.5981  \u001b[0m | \u001b[0m 30.86   \u001b[0m | \u001b[0m 0.584   \u001b[0m |\n",
      "| \u001b[0m 10      \u001b[0m | \u001b[0m-1.144e+0\u001b[0m | \u001b[0m 0.3348  \u001b[0m | \u001b[0m 0.9027  \u001b[0m | \u001b[0m 0.03266 \u001b[0m | \u001b[0m 6.703   \u001b[0m | \u001b[0m 1.204   \u001b[0m | \u001b[0m 8.227e+0\u001b[0m | \u001b[0m 0.2855  \u001b[0m | \u001b[0m 0.4947  \u001b[0m | \u001b[0m 37.05   \u001b[0m | \u001b[0m 0.4449  \u001b[0m |\n",
      "| \u001b[0m 11      \u001b[0m | \u001b[0m-1.236e+0\u001b[0m | \u001b[0m 0.6269  \u001b[0m | \u001b[0m 0.5188  \u001b[0m | \u001b[0m 0.03825 \u001b[0m | \u001b[0m 3.038   \u001b[0m | \u001b[0m 0.5808  \u001b[0m | \u001b[0m 7.788e+0\u001b[0m | \u001b[0m 0.4467  \u001b[0m | \u001b[0m 0.2542  \u001b[0m | \u001b[0m 12.67   \u001b[0m | \u001b[0m 0.6322  \u001b[0m |\n",
      "| \u001b[0m 12      \u001b[0m | \u001b[0m-1.154e+0\u001b[0m | \u001b[0m 0.8981  \u001b[0m | \u001b[0m 0.297   \u001b[0m | \u001b[0m 0.06911 \u001b[0m | \u001b[0m 3.906   \u001b[0m | \u001b[0m 0.9029  \u001b[0m | \u001b[0m 4.14e+03\u001b[0m | \u001b[0m 0.7258  \u001b[0m | \u001b[0m 0.5883  \u001b[0m | \u001b[0m 17.33   \u001b[0m | \u001b[0m 0.6235  \u001b[0m |\n",
      "| \u001b[0m 13      \u001b[0m | \u001b[0m-1.119e+0\u001b[0m | \u001b[0m 0.6203  \u001b[0m | \u001b[0m 0.1221  \u001b[0m | \u001b[0m 0.02842 \u001b[0m | \u001b[0m 6.071   \u001b[0m | \u001b[0m 1.052   \u001b[0m | \u001b[0m 1.751e+0\u001b[0m | \u001b[0m 0.6864  \u001b[0m | \u001b[0m 0.635   \u001b[0m | \u001b[0m 43.22   \u001b[0m | \u001b[0m 0.4757  \u001b[0m |\n",
      "=================================================================================================================================================\n"
     ]
    }
   ],
   "source": [
    "dtrain = dtrain_2012\n",
    "params_2012 = optimize(dtrain_2012)\n",
    "dtrain = dtrain_2013\n",
    "params_2013 = optimize(dtrain_2013)\n",
    "dtrain = dtrain_2014\n",
    "params_2014 = optimize(dtrain_2014)\n",
    "dtrain = dtrain_2015\n",
    "params_2015 = optimize(dtrain_2015)\n",
    "dtrain = dtrain_2016\n",
    "params_2016 = optimize(dtrain_2016)"
   ]
  },
  {
   "cell_type": "markdown",
   "metadata": {},
   "source": [
    "### Probando"
   ]
  },
  {
   "cell_type": "code",
   "execution_count": 261,
   "metadata": {},
   "outputs": [],
   "source": [
    "def fabrica_XGB(params):\n",
    "    best_xgb_model = XGBRegressor(colsample_bytree=params[\"colsample_bytree\"],\n",
    "                 gamma=params[\"gamma\"],                 \n",
    "                 learning_rate=params[\"learning_rate\"],\n",
    "                 max_depth=params[\"max_depth\"],\n",
    "                 min_child_weight=params[\"min_child_weight\"],\n",
    "                 n_estimators=params[\"n_estimators\"],                                                                    \n",
    "                 reg_alpha=params[\"reg_alpha\"],\n",
    "                 reg_lambda=params[\"reg_lambda\"],\n",
    "                 subsample=params[\"subsample\"],\n",
    "                 seed=params[\"seed\"])\n",
    "    \n",
    "    return best_xgb_model"
   ]
  },
  {
   "cell_type": "code",
   "execution_count": 262,
   "metadata": {},
   "outputs": [],
   "source": [
    "XGB_2012 = fabrica_XGB(params_2012)\n",
    "XGB_2013 = fabrica_XGB(params_2013)\n",
    "XGB_2014 = fabrica_XGB(params_2014)\n",
    "XGB_2015 = fabrica_XGB(params_2015)\n",
    "XGB_2016 = fabrica_XGB(params_2016)"
   ]
  },
  {
   "cell_type": "code",
   "execution_count": 263,
   "metadata": {},
   "outputs": [
    {
     "name": "stderr",
     "output_type": "stream",
     "text": [
      "/usr/local/lib/python3.5/dist-packages/xgboost/core.py:587: FutureWarning: Series.base is deprecated and will be removed in a future version\n",
      "  if getattr(data, 'base', None) is not None and \\\n",
      "/usr/local/lib/python3.5/dist-packages/xgboost/core.py:588: FutureWarning: Series.base is deprecated and will be removed in a future version\n",
      "  data.base is not None and isinstance(data, np.ndarray) \\\n"
     ]
    },
    {
     "name": "stdout",
     "output_type": "stream",
     "text": [
      "[22:22:40] WARNING: /workspace/src/objective/regression_obj.cu:152: reg:linear is now deprecated in favor of reg:squarederror.\n",
      "MAE XGB: 176801.79285987423\n"
     ]
    }
   ],
   "source": [
    "XGB_2012.fit(x_2012,y_2012)\n",
    "XGB_pred_val = XGB_2012.predict(x_2012_val)\n",
    "XGB_mae = MAE(y_2012_val, XGB_pred_val)\n",
    "print(\"MAE XGB: \" + str(XGB_mae))"
   ]
  },
  {
   "cell_type": "code",
   "execution_count": 264,
   "metadata": {},
   "outputs": [
    {
     "name": "stdout",
     "output_type": "stream",
     "text": [
      "[22:26:08] WARNING: /workspace/src/objective/regression_obj.cu:152: reg:linear is now deprecated in favor of reg:squarederror.\n",
      "MAE XGB: 160516.67489017046\n"
     ]
    }
   ],
   "source": [
    "XGB_2013.fit(x_2013,y_2013)\n",
    "XGB_pred_val = XGB_2013.predict(x_2013_val)\n",
    "XGB_mae = MAE(y_2013_val, XGB_pred_val)\n",
    "print(\"MAE XGB: \" + str(XGB_mae))"
   ]
  },
  {
   "cell_type": "code",
   "execution_count": 265,
   "metadata": {},
   "outputs": [
    {
     "name": "stdout",
     "output_type": "stream",
     "text": [
      "[22:32:49] WARNING: /workspace/src/objective/regression_obj.cu:152: reg:linear is now deprecated in favor of reg:squarederror.\n",
      "MAE XGB: 508711.66124728875\n"
     ]
    }
   ],
   "source": [
    "XGB_2014.fit(x_2014,y_2014)\n",
    "XGB_pred_val = XGB_2014.predict(x_2014_val)\n",
    "XGB_mae = MAE(y_2014_val, XGB_pred_val)\n",
    "print(\"MAE XGB: \" + str(XGB_mae))"
   ]
  },
  {
   "cell_type": "code",
   "execution_count": 266,
   "metadata": {},
   "outputs": [
    {
     "name": "stdout",
     "output_type": "stream",
     "text": [
      "[22:33:01] WARNING: /workspace/src/objective/regression_obj.cu:152: reg:linear is now deprecated in favor of reg:squarederror.\n",
      "MAE XGB: 350874.9482388483\n"
     ]
    }
   ],
   "source": [
    "XGB_2015.fit(x_2015,y_2015)\n",
    "XGB_pred_val = XGB_2015.predict(x_2015_val)\n",
    "XGB_mae = MAE(y_2015_val, XGB_pred_val)\n",
    "print(\"MAE XGB: \" + str(XGB_mae))"
   ]
  },
  {
   "cell_type": "code",
   "execution_count": 267,
   "metadata": {},
   "outputs": [
    {
     "name": "stdout",
     "output_type": "stream",
     "text": [
      "[22:37:13] WARNING: /workspace/src/objective/regression_obj.cu:152: reg:linear is now deprecated in favor of reg:squarederror.\n",
      "MAE XGB: 318933.79442906607\n"
     ]
    }
   ],
   "source": [
    "XGB_2016.fit(x_2016,y_2016)\n",
    "XGB_pred_val = XGB_2016.predict(x_2016_val)\n",
    "XGB_mae = MAE(y_2016_val, XGB_pred_val)\n",
    "print(\"MAE XGB: \" + str(XGB_mae))"
   ]
  },
  {
   "cell_type": "code",
   "execution_count": 272,
   "metadata": {},
   "outputs": [
    {
     "name": "stdout",
     "output_type": "stream",
     "text": [
      "{'subsample': 0.48520193050269284, 'learning_rate': 0.04954389117285075, 'colsample_bytree': 0.5542596325423537, 'reg_alpha': 0.21562617860171035, 'reg_lambda': 0.45926838232016043, 'n_estimators': 3462, 'seed': 28, 'max_depth': 6, 'min_child_weight': 0.9778725480963207, 'gamma': 0.7645394638651799}\n"
     ]
    }
   ],
   "source": [
    "print(params_2012)"
   ]
  },
  {
   "cell_type": "code",
   "execution_count": 273,
   "metadata": {},
   "outputs": [
    {
     "name": "stdout",
     "output_type": "stream",
     "text": [
      "{'subsample': 0.31535915678487986, 'learning_rate': 0.05113657454540983, 'colsample_bytree': 0.5494091757771876, 'reg_alpha': 0.34224452560602836, 'reg_lambda': 0.7186831927674757, 'n_estimators': 6031, 'seed': 14, 'max_depth': 6, 'min_child_weight': 0.5216582305373545, 'gamma': 0.5036817452851475}\n"
     ]
    }
   ],
   "source": [
    "print(params_2013)"
   ]
  },
  {
   "cell_type": "markdown",
   "metadata": {},
   "source": [
    "## Random Forest"
   ]
  },
  {
   "cell_type": "code",
   "execution_count": 268,
   "metadata": {},
   "outputs": [],
   "source": [
    "def fabrica_RF(train, param_grid):\n",
    "    RF = RandomForestRegressor()\n",
    "    X = train.drop(['precio'], axis=1)\n",
    "    y = train['precio']\n",
    "    grid = GridSearchCV(RF, param_grid, cv=4, scoring='neg_mean_absolute_error')\n",
    "    grid.fit(X, y)\n",
    "    RF = grid.best_estimator_\n",
    "    print(grid.best_params_)\n",
    "    print(grid.best_score_)\n",
    "    return RF"
   ]
  },
  {
   "cell_type": "code",
   "execution_count": 276,
   "metadata": {},
   "outputs": [],
   "source": [
    "param_grid = {\n",
    "    'bootstrap': [True],\n",
    "    'max_depth': [80, 90, 100, 110],\n",
    "    'max_features': [2, 3],\n",
    "    'min_samples_leaf': [3, 4, 5],\n",
    "    'min_samples_split': [8, 10, 12],\n",
    "    'n_estimators': [100, 200, 300, 1000]\n",
    "    #'n_estimators': [200, 400]\n",
    "    \n",
    "}"
   ]
  },
  {
   "cell_type": "code",
   "execution_count": 277,
   "metadata": {},
   "outputs": [
    {
     "name": "stdout",
     "output_type": "stream",
     "text": [
      "{'bootstrap': True, 'n_estimators': 200, 'min_samples_leaf': 3, 'min_samples_split': 8, 'max_depth': 110, 'max_features': 3}\n",
      "-685222.7626369509\n",
      "{'bootstrap': True, 'n_estimators': 300, 'min_samples_leaf': 3, 'min_samples_split': 8, 'max_depth': 90, 'max_features': 3}\n",
      "-659846.7173177076\n",
      "{'bootstrap': True, 'n_estimators': 100, 'min_samples_leaf': 3, 'min_samples_split': 8, 'max_depth': 80, 'max_features': 3}\n",
      "-742149.026873734\n",
      "{'bootstrap': True, 'n_estimators': 300, 'min_samples_leaf': 3, 'min_samples_split': 8, 'max_depth': 80, 'max_features': 3}\n",
      "-808693.6945384506\n",
      "{'bootstrap': True, 'n_estimators': 200, 'min_samples_leaf': 3, 'min_samples_split': 8, 'max_depth': 100, 'max_features': 3}\n",
      "-845238.0721589796\n"
     ]
    }
   ],
   "source": [
    "rf_2012 = fabrica_RF(train_2012, param_grid)\n",
    "rf_2013 = fabrica_RF(train_2013, param_grid)\n",
    "rf_2014 = fabrica_RF(train_2014, param_grid)\n",
    "rf_2015 = fabrica_RF(train_2015, param_grid)\n",
    "rf_2016 = fabrica_RF(train_2016, param_grid)"
   ]
  },
  {
   "cell_type": "code",
   "execution_count": 278,
   "metadata": {},
   "outputs": [
    {
     "name": "stdout",
     "output_type": "stream",
     "text": [
      "MAE rf: 169648.08362038207\n"
     ]
    }
   ],
   "source": [
    "rf_2012 = RandomForestRegressor(n_estimators=200)\n",
    "rf_2012.fit(x_2012,y_2012)\n",
    "rf_pred_val = rf_2012.predict(x_2012_val)\n",
    "rf_mae = MAE(y_2012_val, rf_pred_val)\n",
    "print(\"MAE rf: \" + str(rf_mae))"
   ]
  },
  {
   "cell_type": "code",
   "execution_count": 280,
   "metadata": {},
   "outputs": [
    {
     "name": "stdout",
     "output_type": "stream",
     "text": [
      "MAE rf: 163430.72219079794\n"
     ]
    }
   ],
   "source": [
    "rf_2013 = RandomForestRegressor(n_estimators=200)\n",
    "rf_2013.fit(x_2013,y_2013)\n",
    "rf_pred_val = rf_2013.predict(x_2013_val)\n",
    "rf_mae = MAE(y_2013_val, rf_pred_val)\n",
    "print(\"MAE rf: \" + str(rf_mae))"
   ]
  },
  {
   "cell_type": "code",
   "execution_count": 281,
   "metadata": {},
   "outputs": [
    {
     "name": "stdout",
     "output_type": "stream",
     "text": [
      "MAE rf: 187213.09548688054\n"
     ]
    }
   ],
   "source": [
    "rf_2014 = RandomForestRegressor(n_estimators=200)\n",
    "rf_2014.fit(x_2014,y_2014)\n",
    "rf_pred_val = rf_2014.predict(x_2014_val)\n",
    "rf_mae = MAE(y_2014_val, rf_pred_val)\n",
    "print(\"MAE rf: \" + str(rf_mae))"
   ]
  },
  {
   "cell_type": "code",
   "execution_count": 282,
   "metadata": {},
   "outputs": [
    {
     "name": "stdout",
     "output_type": "stream",
     "text": [
      "MAE rf: 197270.41281697043\n"
     ]
    }
   ],
   "source": [
    "rf_2015 = RandomForestRegressor(n_estimators=200)\n",
    "rf_2015.fit(x_2015,y_2015)\n",
    "rf_pred_val = rf_2015.predict(x_2015_val)\n",
    "rf_mae = MAE(y_2015_val, rf_pred_val)\n",
    "print(\"MAE rf: \" + str(rf_mae))"
   ]
  },
  {
   "cell_type": "code",
   "execution_count": 283,
   "metadata": {},
   "outputs": [
    {
     "name": "stdout",
     "output_type": "stream",
     "text": [
      "MAE rf: 211741.1321400569\n"
     ]
    }
   ],
   "source": [
    "rf_2016 = RandomForestRegressor(n_estimators=200)\n",
    "rf_2016.fit(x_2016,y_2016)\n",
    "rf_pred_val = rf_2016.predict(x_2016_val)\n",
    "rf_mae = MAE(y_2016_val, rf_pred_val)\n",
    "print(\"MAE rf: \" + str(rf_mae))"
   ]
  },
  {
   "cell_type": "code",
   "execution_count": 105,
   "metadata": {},
   "outputs": [],
   "source": [
    "#res_2012 = rf_2012.predict(test_2012)\n",
    "#res_2013 = rf_2013.predict(test_2013)\n",
    "#res_2014 = rf_2014.predict(test_2014)\n",
    "#res_2015 = rf_2015.predict(test_2015)\n",
    "#res_2016 = rf_2016.predict(test_2016)"
   ]
  },
  {
   "cell_type": "markdown",
   "metadata": {},
   "source": [
    "## Ensembles"
   ]
  },
  {
   "cell_type": "code",
   "execution_count": 298,
   "metadata": {},
   "outputs": [],
   "source": [
    "ensemble2012 = VotingRegressor([('rf', rf_2012), ('lgbm', lgbm_2012)])\n",
    "ensemble2013 = VotingRegressor([('rf', rf_2013), ('lgbm', lgbm_2013)])\n",
    "ensemble2014 = VotingRegressor([('rf', rf_2014), ('lgbm', lgbm_2014)])\n",
    "ensemble2015 = VotingRegressor([('rf', rf_2015), ('lgbm', lgbm_2015)])\n",
    "ensemble2016 = VotingRegressor([('rf', rf_2016), ('lgbm', lgbm_2016)])"
   ]
  },
  {
   "cell_type": "code",
   "execution_count": 299,
   "metadata": {},
   "outputs": [
    {
     "name": "stdout",
     "output_type": "stream",
     "text": [
      "MAE Ensemble: 281303.0169945019\n"
     ]
    }
   ],
   "source": [
    "ensemble2012.fit(x_2012, y_2012)\n",
    "en_pred_val = ensemble2012.predict(x_2012_val)\n",
    "en_mae = MAE(y_2012_val, en_pred_val)\n",
    "print(\"MAE Ensemble: \" + str(en_mae))"
   ]
  },
  {
   "cell_type": "code",
   "execution_count": 300,
   "metadata": {},
   "outputs": [
    {
     "name": "stdout",
     "output_type": "stream",
     "text": [
      "MAE Ensemble: 279642.2977729409\n"
     ]
    }
   ],
   "source": [
    "ensemble2013.fit(x_2013, y_2013)\n",
    "en_pred_val = ensemble2013.predict(x_2013_val)\n",
    "en_mae = MAE(y_2013_val, en_pred_val)\n",
    "print(\"MAE Ensemble: \" + str(en_mae))"
   ]
  },
  {
   "cell_type": "code",
   "execution_count": 301,
   "metadata": {},
   "outputs": [
    {
     "name": "stdout",
     "output_type": "stream",
     "text": [
      "MAE Ensemble: 327702.9598104\n"
     ]
    }
   ],
   "source": [
    "ensemble2014.fit(x_2014, y_2014)\n",
    "en_pred_val = ensemble2014.predict(x_2014_val)\n",
    "en_mae = MAE(y_2014_val, en_pred_val)\n",
    "print(\"MAE Ensemble: \" + str(en_mae))"
   ]
  },
  {
   "cell_type": "code",
   "execution_count": 302,
   "metadata": {},
   "outputs": [
    {
     "name": "stdout",
     "output_type": "stream",
     "text": [
      "MAE Ensemble: 357964.5959041208\n"
     ]
    }
   ],
   "source": [
    "ensemble2015.fit(x_2015, y_2015)\n",
    "en_pred_val = ensemble2015.predict(x_2015_val)\n",
    "en_mae = MAE(y_2015_val, en_pred_val)\n",
    "print(\"MAE Ensemble: \" + str(en_mae))"
   ]
  },
  {
   "cell_type": "code",
   "execution_count": 303,
   "metadata": {},
   "outputs": [
    {
     "name": "stdout",
     "output_type": "stream",
     "text": [
      "MAE Ensemble: 394672.4225389817\n"
     ]
    }
   ],
   "source": [
    "ensemble2016.fit(x_2016, y_2016)\n",
    "en_pred_val = ensemble2016.predict(x_2016_val)\n",
    "en_mae = MAE(y_2016_val, en_pred_val)\n",
    "print(\"MAE Ensemble: \" + str(en_mae))"
   ]
  },
  {
   "cell_type": "code",
   "execution_count": 304,
   "metadata": {},
   "outputs": [],
   "source": [
    "res_2012 = ensemble2012.predict(test_2012)\n",
    "res_2013 = ensemble2013.predict(test_2013)\n",
    "res_2014 = ensemble2014.predict(test_2014)\n",
    "res_2015 = ensemble2015.predict(test_2015)\n",
    "res_2016 = ensemble2016.predict(test_2016)"
   ]
  },
  {
   "cell_type": "code",
   "execution_count": 305,
   "metadata": {},
   "outputs": [],
   "source": [
    "res_2012 = pd.DataFrame(res_2012, index=test_2012.index, columns=['precio'])\n",
    "res_2012 = res_2012.rename(columns={'precio':'target'})\n",
    "\n",
    "res_2013 = pd.DataFrame(res_2013, index=test_2013.index, columns=['precio'])\n",
    "res_2013 = res_2013.rename(columns={'precio':'target'})\n",
    "\n",
    "res_2014 = pd.DataFrame(res_2014, index=test_2014.index, columns=['precio'])\n",
    "res_2014 = res_2014.rename(columns={'precio':'target'})\n",
    "\n",
    "res_2015 = pd.DataFrame(res_2015, index=test_2015.index, columns=['precio'])\n",
    "res_2015 = res_2015.rename(columns={'precio':'target'})\n",
    "\n",
    "res_2016 = pd.DataFrame(res_2016, index=test_2016.index, columns=['precio'])\n",
    "res_2016 = res_2016.rename(columns={'precio':'target'})"
   ]
  },
  {
   "cell_type": "code",
   "execution_count": 306,
   "metadata": {},
   "outputs": [],
   "source": [
    "res = res_2012.append(res_2013).append(res_2014).append(res_2015).append(res_2016)\n",
    "res.to_csv(\"workshop-submission-rf.csv\", header=True)"
   ]
  }
 ],
 "metadata": {
  "kernelspec": {
   "display_name": "Python 3",
   "language": "python",
   "name": "python3"
  },
  "language_info": {
   "codemirror_mode": {
    "name": "ipython",
    "version": 3
   },
   "file_extension": ".py",
   "mimetype": "text/x-python",
   "name": "python",
   "nbconvert_exporter": "python",
   "pygments_lexer": "ipython3",
   "version": "3.5.2"
  }
 },
 "nbformat": 4,
 "nbformat_minor": 2
}
