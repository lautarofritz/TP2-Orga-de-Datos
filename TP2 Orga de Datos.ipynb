{
 "cells": [
  {
   "cell_type": "code",
   "execution_count": 1,
   "metadata": {},
   "outputs": [],
   "source": [
    "import pandas as pd\n",
    "import numpy as np\n",
    "import matplotlib as plt\n",
    "from sklearn import datasets\n",
    "from sklearn.preprocessing import LabelEncoder\n",
    "from sklearn.model_selection import train_test_split\n",
    "from sklearn.neighbors import KNeighborsRegressor\n",
    "from xgboost import XGBRegressor\n",
    "from sklearn.model_selection import GridSearchCV\n",
    "from bayes_opt import BayesianOptimization\n",
    "import category_encoders as ce\n",
    "from sklearn.ensemble import VotingRegressor"
   ]
  },
  {
   "cell_type": "code",
   "execution_count": 2,
   "metadata": {},
   "outputs": [],
   "source": [
    "train = pd.read_csv(r'Orga/train.csv', index_col=0)\n",
    "test = pd.read_csv(r'Orga/test.csv', index_col=0)"
   ]
  },
  {
   "cell_type": "code",
   "execution_count": 3,
   "metadata": {},
   "outputs": [],
   "source": [
    "#metrica\n",
    "def MAE(actual, pred):\n",
    "    return (np.mean(np.absolute(actual - pred)))"
   ]
  },
  {
   "cell_type": "markdown",
   "metadata": {},
   "source": [
    "## Preprocesamiento"
   ]
  },
  {
   "cell_type": "code",
   "execution_count": 4,
   "metadata": {},
   "outputs": [],
   "source": [
    "train = train.fillna(0)\n",
    "test = test.fillna(0)"
   ]
  },
  {
   "cell_type": "code",
   "execution_count": 5,
   "metadata": {},
   "outputs": [],
   "source": [
    "concat = pd.concat([train, test], sort=False)"
   ]
  },
  {
   "cell_type": "markdown",
   "metadata": {},
   "source": [
    "## Feature Engineering"
   ]
  },
  {
   "cell_type": "code",
   "execution_count": 6,
   "metadata": {},
   "outputs": [],
   "source": [
    "concat['cant_amenities'] = concat['usosmultiples'] + concat['piscina'] + concat['gimnasio']"
   ]
  },
  {
   "cell_type": "code",
   "execution_count": 7,
   "metadata": {},
   "outputs": [],
   "source": [
    "concat['fecha'] = pd.to_datetime(concat['fecha'])\n",
    "concat['año'] = concat['fecha'].dt.year"
   ]
  },
  {
   "cell_type": "code",
   "execution_count": 8,
   "metadata": {},
   "outputs": [],
   "source": [
    "def features_descripcion(lista_features, concat):\n",
    "    for i in range(len(lista_features)):\n",
    "        concat[lista_features[i]] = concat['descripcion'].str.contains(lista_features[i], regex=False).astype(bool)\n",
    "    return concat"
   ]
  },
  {
   "cell_type": "code",
   "execution_count": 9,
   "metadata": {},
   "outputs": [],
   "source": [
    "lista_features = ['luminoso', 'jardin', 'terraza', 'patio', 'balcón']\n",
    "concat = features_descripcion(lista_features, concat)"
   ]
  },
  {
   "cell_type": "code",
   "execution_count": 10,
   "metadata": {},
   "outputs": [],
   "source": [
    "concat['centroscomercialescercanos'] = concat['centroscomercialescercanos'].map({1:2, 0:0})"
   ]
  },
  {
   "cell_type": "code",
   "execution_count": 11,
   "metadata": {},
   "outputs": [],
   "source": [
    "concat['cercanias'] = concat['centroscomercialescercanos'] + concat['escuelascercanas']\n",
    "concat['cercanias'] = concat['cercanias'].astype(str)"
   ]
  },
  {
   "cell_type": "code",
   "execution_count": 12,
   "metadata": {},
   "outputs": [],
   "source": [
    "concat = concat.join(pd.get_dummies(concat['provincia'], prefix = 'prov'))\n",
    "del concat['provincia']\n",
    "del concat['prov_0']     #seria la provincia NaN"
   ]
  },
  {
   "cell_type": "code",
   "execution_count": 13,
   "metadata": {},
   "outputs": [],
   "source": [
    "#concat = concat.join(pd.get_dummies(concat['ciudad'], prefix = 'ciudad'))\n",
    "del concat['ciudad']"
   ]
  },
  {
   "cell_type": "code",
   "execution_count": 14,
   "metadata": {},
   "outputs": [],
   "source": [
    "concat = concat.join(pd.get_dummies(concat['tipodepropiedad'], prefix = 'tipo'))\n",
    "del concat['tipodepropiedad']\n",
    "del concat['tipo_0']     #seria el tipo NaN"
   ]
  },
  {
   "cell_type": "code",
   "execution_count": 15,
   "metadata": {},
   "outputs": [],
   "source": [
    "concat = concat.join(pd.get_dummies(concat['cercanias'], prefix = 'cercania'))\n",
    "del concat['cercanias']"
   ]
  },
  {
   "cell_type": "code",
   "execution_count": 16,
   "metadata": {},
   "outputs": [],
   "source": [
    "del concat['lat']\n",
    "del concat['lng']\n",
    "del concat['descripcion']\n",
    "del concat['titulo']\n",
    "del concat['direccion']\n",
    "del concat['fecha']"
   ]
  },
  {
   "cell_type": "code",
   "execution_count": 17,
   "metadata": {},
   "outputs": [],
   "source": [
    "concat['idzona'] = concat['idzona'].astype(str)"
   ]
  },
  {
   "cell_type": "code",
   "execution_count": 18,
   "metadata": {},
   "outputs": [],
   "source": [
    "train = concat.iloc[0:240000]\n",
    "test = concat.iloc[240000:300000]"
   ]
  },
  {
   "cell_type": "code",
   "execution_count": 19,
   "metadata": {},
   "outputs": [],
   "source": [
    "del test['precio']"
   ]
  },
  {
   "cell_type": "code",
   "execution_count": 20,
   "metadata": {},
   "outputs": [],
   "source": [
    "train_2012 = train[train['año'] == 2012]\n",
    "train_2013 = train[train['año'] == 2013]\n",
    "train_2014 = train[train['año'] == 2014]\n",
    "train_2015 = train[train['año'] == 2015]\n",
    "train_2016 = train[train['año'] == 2016]\n",
    "\n",
    "test_2012 = test[test['año'] == 2012]\n",
    "test_2013 = test[test['año'] == 2013]\n",
    "test_2014 = test[test['año'] == 2014]\n",
    "test_2015 = test[test['año'] == 2015]\n",
    "test_2016 = test[test['año'] == 2016]"
   ]
  },
  {
   "cell_type": "markdown",
   "metadata": {},
   "source": [
    "## KNN"
   ]
  },
  {
   "cell_type": "code",
   "execution_count": 21,
   "metadata": {},
   "outputs": [],
   "source": [
    "def KNN(train, param_grid):\n",
    "    KNN = KNeighborsRegressor()\n",
    "    X = train.drop(['precio'], axis=1)\n",
    "    y = train['precio']\n",
    "    grid = GridSearchCV(KNN, param_grid, cv=5, scoring='neg_mean_absolute_error')\n",
    "    grid.fit(X, y)\n",
    "    KNN = grid.best_estimator_\n",
    "    print(grid.best_params_)\n",
    "    print(grid.best_score_)\n",
    "    return KNN"
   ]
  },
  {
   "cell_type": "code",
   "execution_count": null,
   "metadata": {
    "scrolled": true
   },
   "outputs": [],
   "source": [
    "k_valores = list(range(1, 21))\n",
    "param_grid = dict(n_neighbors=k_valores)\n",
    "KNN_2012 = KNN(train_2012, param_grid)\n",
    "KNN_2013 = KNN(train_2013, param_grid)\n",
    "KNN_2014 = KNN(train_2014, param_grid)\n",
    "KNN_2015 = KNN(train_2015, param_grid)\n",
    "KNN_2016 = KNN(train_2016, param_grid)"
   ]
  },
  {
   "cell_type": "markdown",
   "metadata": {},
   "source": [
    "## Bayesian Opt"
   ]
  },
  {
   "cell_type": "code",
   "execution_count": 22,
   "metadata": {},
   "outputs": [],
   "source": [
    "#vuelo idzona porque xgboost no se lo banca, habria que encodearlo preferentemente\n",
    "del train_2012['idzona']\n",
    "del train_2013['idzona']\n",
    "del train_2014['idzona']\n",
    "del train_2015['idzona']\n",
    "del train_2016['idzona']\n",
    "\n",
    "del test_2012['idzona']\n",
    "del test_2013['idzona']\n",
    "del test_2014['idzona']\n",
    "del test_2015['idzona']\n",
    "del test_2016['idzona']"
   ]
  },
  {
   "cell_type": "code",
   "execution_count": 27,
   "metadata": {},
   "outputs": [],
   "source": [
    "def train_set(train,test):\n",
    "    X = train.drop(['precio'], axis=1)\n",
    "    y = train['precio']\n",
    "    X_train, X_val, y_train, y_val = train_test_split(X, y, test_size=0.4, random_state=1)\n",
    "    print(\"Train shapes: X = \" + str(X_train.shape) + \" y = \" + str(y_train.shape))\n",
    "    print(\"Validation shapes: X = \" + str(X_val.shape) +  \" y = \" + str(y_val.shape))\n",
    "    print(\"Test shape: \" + str(test.shape))\n",
    "    return X, y, X_val, y_val"
   ]
  },
  {
   "cell_type": "code",
   "execution_count": 28,
   "metadata": {},
   "outputs": [
    {
     "name": "stdout",
     "output_type": "stream",
     "text": [
      "Train shapes: X = (14120, 78) y = (14120,)\n",
      "Validation shapes: X = (9414, 78) y = (9414,)\n",
      "Test shape: (5899, 78)\n",
      "Train shapes: X = (18231, 78) y = (18231,)\n",
      "Validation shapes: X = (12155, 78) y = (12155,)\n",
      "Test shape: (7592, 78)\n",
      "Train shapes: X = (24343, 78) y = (24343,)\n",
      "Validation shapes: X = (16229, 78) y = (16229,)\n",
      "Test shape: (10018, 78)\n",
      "Train shapes: X = (30882, 78) y = (30882,)\n",
      "Validation shapes: X = (20588, 78) y = (20588,)\n",
      "Test shape: (13017, 78)\n",
      "Train shapes: X = (56422, 78) y = (56422,)\n",
      "Validation shapes: X = (37616, 78) y = (37616,)\n",
      "Test shape: (23474, 78)\n"
     ]
    }
   ],
   "source": [
    "x_2012, y_2012, x_2012_val, y_2012_val = train_set(train_2012,test_2012)\n",
    "x_2013, y_2013, x_2013_val, y_2013_val = train_set(train_2013,test_2013)\n",
    "x_2014, y_2014, x_2014_val, y_2014_val = train_set(train_2014,test_2014)\n",
    "x_2015, y_2015, x_2015_val, y_2015_val = train_set(train_2015,test_2015)\n",
    "x_2016, y_2016, x_2016_val, y_2016_val = train_set(train_2016,test_2016)"
   ]
  },
  {
   "cell_type": "code",
   "execution_count": 22,
   "metadata": {},
   "outputs": [],
   "source": [
    "def xgb_evaluate(max_depth, gamma, colsample_bytree,seed,min_child_weight,n_estimators,\n",
    "                  reg_alpha,reg_lambda,subsample,learning_rate):\n",
    "    params = {'eval_metric': 'rmse',\n",
    "              'max_depth': int(max_depth),\n",
    "              'subsample': subsample,\n",
    "              'eta': 0.1,\n",
    "              'gamma': gamma,\n",
    "              'colsample_bytree': colsample_bytree,\n",
    "              \"seed\": int(seed),\n",
    "              \"min_child_weight\": min_child_weight,\n",
    "              \"n_estimators\": n_estimators,\n",
    "              \"reg_alpha\": reg_alpha,\n",
    "              \"reg_lambda\": reg_lambda,\n",
    "              \"learning_rate\": learning_rate\n",
    "             }\n",
    "    # Used around 1000 boosting rounds in the full model\n",
    "    cv_result = xgb.cv(params, dtrain, num_boost_round=100, nfold=3)    \n",
    "    \n",
    "    # Bayesian optimization only knows how to maximize, not minimize, so return the negative RMSE\n",
    "    return -1.0 * cv_result['test-rmse-mean'].iloc[-1]"
   ]
  },
  {
   "cell_type": "code",
   "execution_count": 23,
   "metadata": {},
   "outputs": [],
   "source": [
    "def optimize(sett):\n",
    "    dtrain = sett\n",
    "    xgb_bo = BayesianOptimization(xgb_evaluate, {'max_depth': (3, 7), \n",
    "                                             'gamma': (0, 1),\n",
    "                                             'colsample_bytree': (0.3, 0.9),\n",
    "                                             \"seed\": (10,50),\n",
    "                                             \"min_child_weight\": (0.4,1.5),\n",
    "                                             \"n_estimators\":(100,10000),                                                                    \n",
    "                                             \"reg_alpha\":(0.2,0.75),\n",
    "                                             \"reg_lambda\": (0.2,0.8),\n",
    "                                             \"subsample\" : (0.3, 0.8),\n",
    "                                             \"learning_rate\": (0.01,0.07),\n",
    "                                            })\n",
    "    # Se probo con 3 puntos iniciales y 10 iteraciones, deberiamos probar con mas en ambas\n",
    "    # La prox iteracion en casa probar 100 y 10000\n",
    "    xgb_bo.maximize(init_points=3, n_iter=10, acq='ei')\n",
    "    params = xgb_bo.max['params']\n",
    "    params['max_depth'] = int(params['max_depth'])\n",
    "    params[\"seed\"] = int(params[\"seed\"])\n",
    "    params[\"n_estimators\"] = int(params[\"n_estimators\"])\n",
    "    return params"
   ]
  },
  {
   "cell_type": "code",
   "execution_count": 24,
   "metadata": {},
   "outputs": [
    {
     "name": "stderr",
     "output_type": "stream",
     "text": [
      "/home/lautaro/.local/lib/python3.6/site-packages/xgboost/core.py:587: FutureWarning: Series.base is deprecated and will be removed in a future version\n",
      "  if getattr(data, 'base', None) is not None and \\\n",
      "/home/lautaro/.local/lib/python3.6/site-packages/xgboost/core.py:588: FutureWarning: Series.base is deprecated and will be removed in a future version\n",
      "  data.base is not None and isinstance(data, np.ndarray) \\\n"
     ]
    }
   ],
   "source": [
    "import xgboost as xgb\n",
    "\n",
    "dtrain_2012 = xgb.DMatrix(x_2012, label=y_2012)\n",
    "dtrain_2013 = xgb.DMatrix(x_2013, label=y_2013)\n",
    "dtrain_2014 = xgb.DMatrix(x_2014, label=y_2014)\n",
    "dtrain_2015 = xgb.DMatrix(x_2015, label=y_2015)\n",
    "dtrain_2016 = xgb.DMatrix(x_2016, label=y_2016)"
   ]
  },
  {
   "cell_type": "code",
   "execution_count": 25,
   "metadata": {
    "scrolled": true
   },
   "outputs": [
    {
     "name": "stdout",
     "output_type": "stream",
     "text": [
      "|   iter    |  target   | colsam... |   gamma   | learni... | max_depth | min_ch... | n_esti... | reg_alpha | reg_la... |   seed    | subsample |\n",
      "-------------------------------------------------------------------------------------------------------------------------------------------------\n",
      "| \u001b[0m 1       \u001b[0m | \u001b[0m-9.531e+0\u001b[0m | \u001b[0m 0.8553  \u001b[0m | \u001b[0m 0.04483 \u001b[0m | \u001b[0m 0.06557 \u001b[0m | \u001b[0m 5.725   \u001b[0m | \u001b[0m 1.309   \u001b[0m | \u001b[0m 2.553e+0\u001b[0m | \u001b[0m 0.4146  \u001b[0m | \u001b[0m 0.3952  \u001b[0m | \u001b[0m 37.24   \u001b[0m | \u001b[0m 0.761   \u001b[0m |\n",
      "| \u001b[0m 2       \u001b[0m | \u001b[0m-9.717e+0\u001b[0m | \u001b[0m 0.8107  \u001b[0m | \u001b[0m 0.915   \u001b[0m | \u001b[0m 0.0402  \u001b[0m | \u001b[0m 5.642   \u001b[0m | \u001b[0m 0.7921  \u001b[0m | \u001b[0m 7.338e+0\u001b[0m | \u001b[0m 0.2416  \u001b[0m | \u001b[0m 0.6223  \u001b[0m | \u001b[0m 39.36   \u001b[0m | \u001b[0m 0.6778  \u001b[0m |\n",
      "| \u001b[0m 3       \u001b[0m | \u001b[0m-1.099e+0\u001b[0m | \u001b[0m 0.6051  \u001b[0m | \u001b[0m 0.8463  \u001b[0m | \u001b[0m 0.02905 \u001b[0m | \u001b[0m 3.279   \u001b[0m | \u001b[0m 1.478   \u001b[0m | \u001b[0m 6.187e+0\u001b[0m | \u001b[0m 0.227   \u001b[0m | \u001b[0m 0.7966  \u001b[0m | \u001b[0m 15.15   \u001b[0m | \u001b[0m 0.6591  \u001b[0m |\n",
      "| \u001b[0m 4       \u001b[0m | \u001b[0m-1.446e+0\u001b[0m | \u001b[0m 0.6017  \u001b[0m | \u001b[0m 0.2415  \u001b[0m | \u001b[0m 0.01041 \u001b[0m | \u001b[0m 4.238   \u001b[0m | \u001b[0m 0.5364  \u001b[0m | \u001b[0m 3.18e+03\u001b[0m | \u001b[0m 0.58    \u001b[0m | \u001b[0m 0.7773  \u001b[0m | \u001b[0m 41.35   \u001b[0m | \u001b[0m 0.4764  \u001b[0m |\n",
      "| \u001b[0m 5       \u001b[0m | \u001b[0m-1.007e+0\u001b[0m | \u001b[0m 0.3158  \u001b[0m | \u001b[0m 0.3629  \u001b[0m | \u001b[0m 0.06649 \u001b[0m | \u001b[0m 4.142   \u001b[0m | \u001b[0m 0.8408  \u001b[0m | \u001b[0m 8.397e+0\u001b[0m | \u001b[0m 0.7176  \u001b[0m | \u001b[0m 0.2885  \u001b[0m | \u001b[0m 42.1    \u001b[0m | \u001b[0m 0.7405  \u001b[0m |\n",
      "| \u001b[0m 6       \u001b[0m | \u001b[0m-1.013e+0\u001b[0m | \u001b[0m 0.6017  \u001b[0m | \u001b[0m 0.08597 \u001b[0m | \u001b[0m 0.06868 \u001b[0m | \u001b[0m 3.998   \u001b[0m | \u001b[0m 0.419   \u001b[0m | \u001b[0m 592.0   \u001b[0m | \u001b[0m 0.3904  \u001b[0m | \u001b[0m 0.5037  \u001b[0m | \u001b[0m 18.8    \u001b[0m | \u001b[0m 0.3227  \u001b[0m |\n",
      "| \u001b[95m 7       \u001b[0m | \u001b[95m-9.499e+0\u001b[0m | \u001b[95m 0.5406  \u001b[0m | \u001b[95m 0.07678 \u001b[0m | \u001b[95m 0.06412 \u001b[0m | \u001b[95m 6.669   \u001b[0m | \u001b[95m 0.4222  \u001b[0m | \u001b[95m 1.159e+0\u001b[0m | \u001b[95m 0.69    \u001b[0m | \u001b[95m 0.2224  \u001b[0m | \u001b[95m 43.15   \u001b[0m | \u001b[95m 0.5957  \u001b[0m |\n",
      "| \u001b[0m 8       \u001b[0m | \u001b[0m-9.664e+0\u001b[0m | \u001b[0m 0.8536  \u001b[0m | \u001b[0m 0.1456  \u001b[0m | \u001b[0m 0.0459  \u001b[0m | \u001b[0m 5.936   \u001b[0m | \u001b[0m 0.787   \u001b[0m | \u001b[0m 5.521e+0\u001b[0m | \u001b[0m 0.6631  \u001b[0m | \u001b[0m 0.4693  \u001b[0m | \u001b[0m 20.42   \u001b[0m | \u001b[0m 0.4431  \u001b[0m |\n",
      "| \u001b[0m 9       \u001b[0m | \u001b[0m-9.608e+0\u001b[0m | \u001b[0m 0.4115  \u001b[0m | \u001b[0m 0.0747  \u001b[0m | \u001b[0m 0.0654  \u001b[0m | \u001b[0m 6.992   \u001b[0m | \u001b[0m 0.5741  \u001b[0m | \u001b[0m 7.647e+0\u001b[0m | \u001b[0m 0.2746  \u001b[0m | \u001b[0m 0.3863  \u001b[0m | \u001b[0m 19.29   \u001b[0m | \u001b[0m 0.461   \u001b[0m |\n",
      "| \u001b[0m 10      \u001b[0m | \u001b[0m-1.001e+0\u001b[0m | \u001b[0m 0.5054  \u001b[0m | \u001b[0m 0.7914  \u001b[0m | \u001b[0m 0.02988 \u001b[0m | \u001b[0m 6.091   \u001b[0m | \u001b[0m 1.249   \u001b[0m | \u001b[0m 9.203e+0\u001b[0m | \u001b[0m 0.3919  \u001b[0m | \u001b[0m 0.2016  \u001b[0m | \u001b[0m 40.73   \u001b[0m | \u001b[0m 0.3169  \u001b[0m |\n",
      "| \u001b[95m 11      \u001b[0m | \u001b[95m-9.452e+0\u001b[0m | \u001b[95m 0.7312  \u001b[0m | \u001b[95m 0.3987  \u001b[0m | \u001b[95m 0.06728 \u001b[0m | \u001b[95m 6.623   \u001b[0m | \u001b[95m 1.368   \u001b[0m | \u001b[95m 1.231e+0\u001b[0m | \u001b[95m 0.3795  \u001b[0m | \u001b[95m 0.3612  \u001b[0m | \u001b[95m 19.63   \u001b[0m | \u001b[95m 0.4559  \u001b[0m |\n",
      "| \u001b[0m 12      \u001b[0m | \u001b[0m-9.583e+0\u001b[0m | \u001b[0m 0.5767  \u001b[0m | \u001b[0m 0.6817  \u001b[0m | \u001b[0m 0.05933 \u001b[0m | \u001b[0m 5.694   \u001b[0m | \u001b[0m 1.156   \u001b[0m | \u001b[0m 1.211e+0\u001b[0m | \u001b[0m 0.5021  \u001b[0m | \u001b[0m 0.615   \u001b[0m | \u001b[0m 27.28   \u001b[0m | \u001b[0m 0.6438  \u001b[0m |\n",
      "| \u001b[0m 13      \u001b[0m | \u001b[0m-9.797e+0\u001b[0m | \u001b[0m 0.6878  \u001b[0m | \u001b[0m 0.6756  \u001b[0m | \u001b[0m 0.03592 \u001b[0m | \u001b[0m 5.934   \u001b[0m | \u001b[0m 1.499   \u001b[0m | \u001b[0m 1.231e+0\u001b[0m | \u001b[0m 0.2528  \u001b[0m | \u001b[0m 0.2815  \u001b[0m | \u001b[0m 19.82   \u001b[0m | \u001b[0m 0.5606  \u001b[0m |\n",
      "=================================================================================================================================================\n",
      "|   iter    |  target   | colsam... |   gamma   | learni... | max_depth | min_ch... | n_esti... | reg_alpha | reg_la... |   seed    | subsample |\n",
      "-------------------------------------------------------------------------------------------------------------------------------------------------\n",
      "| \u001b[0m 1       \u001b[0m | \u001b[0m-1.017e+0\u001b[0m | \u001b[0m 0.7855  \u001b[0m | \u001b[0m 0.8269  \u001b[0m | \u001b[0m 0.02795 \u001b[0m | \u001b[0m 5.035   \u001b[0m | \u001b[0m 0.4435  \u001b[0m | \u001b[0m 3.842e+0\u001b[0m | \u001b[0m 0.7128  \u001b[0m | \u001b[0m 0.7293  \u001b[0m | \u001b[0m 28.08   \u001b[0m | \u001b[0m 0.5768  \u001b[0m |\n",
      "| \u001b[95m 2       \u001b[0m | \u001b[95m-1.007e+0\u001b[0m | \u001b[95m 0.4639  \u001b[0m | \u001b[95m 0.4211  \u001b[0m | \u001b[95m 0.04996 \u001b[0m | \u001b[95m 4.018   \u001b[0m | \u001b[95m 0.4478  \u001b[0m | \u001b[95m 4.55e+03\u001b[0m | \u001b[95m 0.6863  \u001b[0m | \u001b[95m 0.2865  \u001b[0m | \u001b[95m 44.94   \u001b[0m | \u001b[95m 0.4618  \u001b[0m |\n",
      "| \u001b[0m 3       \u001b[0m | \u001b[0m-1.077e+0\u001b[0m | \u001b[0m 0.3116  \u001b[0m | \u001b[0m 0.4799  \u001b[0m | \u001b[0m 0.05409 \u001b[0m | \u001b[0m 3.628   \u001b[0m | \u001b[0m 0.9688  \u001b[0m | \u001b[0m 5.923e+0\u001b[0m | \u001b[0m 0.544   \u001b[0m | \u001b[0m 0.3252  \u001b[0m | \u001b[0m 46.14   \u001b[0m | \u001b[0m 0.5395  \u001b[0m |\n",
      "| \u001b[0m 4       \u001b[0m | \u001b[0m-1.009e+0\u001b[0m | \u001b[0m 0.4974  \u001b[0m | \u001b[0m 0.4397  \u001b[0m | \u001b[0m 0.04915 \u001b[0m | \u001b[0m 4.086   \u001b[0m | \u001b[0m 0.4451  \u001b[0m | \u001b[0m 4.49e+03\u001b[0m | \u001b[0m 0.7013  \u001b[0m | \u001b[0m 0.3327  \u001b[0m | \u001b[0m 43.84   \u001b[0m | \u001b[0m 0.4782  \u001b[0m |\n",
      "| \u001b[95m 5       \u001b[0m | \u001b[95m-9.916e+0\u001b[0m | \u001b[95m 0.6536  \u001b[0m | \u001b[95m 0.9337  \u001b[0m | \u001b[95m 0.05694 \u001b[0m | \u001b[95m 4.367   \u001b[0m | \u001b[95m 0.746   \u001b[0m | \u001b[95m 8.641e+0\u001b[0m | \u001b[95m 0.4491  \u001b[0m | \u001b[95m 0.4607  \u001b[0m | \u001b[95m 31.45   \u001b[0m | \u001b[95m 0.7085  \u001b[0m |\n",
      "| \u001b[95m 6       \u001b[0m | \u001b[95m-9.436e+0\u001b[0m | \u001b[95m 0.731   \u001b[0m | \u001b[95m 0.9185  \u001b[0m | \u001b[95m 0.06204 \u001b[0m | \u001b[95m 6.301   \u001b[0m | \u001b[95m 0.5866  \u001b[0m | \u001b[95m 9.539e+0\u001b[0m | \u001b[95m 0.2067  \u001b[0m | \u001b[95m 0.6544  \u001b[0m | \u001b[95m 40.75   \u001b[0m | \u001b[95m 0.7361  \u001b[0m |\n",
      "| \u001b[0m 7       \u001b[0m | \u001b[0m-9.867e+0\u001b[0m | \u001b[0m 0.3373  \u001b[0m | \u001b[0m 0.9198  \u001b[0m | \u001b[0m 0.05366 \u001b[0m | \u001b[0m 6.183   \u001b[0m | \u001b[0m 0.5665  \u001b[0m | \u001b[0m 6.051e+0\u001b[0m | \u001b[0m 0.2927  \u001b[0m | \u001b[0m 0.5318  \u001b[0m | \u001b[0m 34.78   \u001b[0m | \u001b[0m 0.4013  \u001b[0m |\n",
      "| \u001b[0m 8       \u001b[0m | \u001b[0m-1.01e+06\u001b[0m | \u001b[0m 0.8426  \u001b[0m | \u001b[0m 0.1325  \u001b[0m | \u001b[0m 0.02504 \u001b[0m | \u001b[0m 6.926   \u001b[0m | \u001b[0m 1.492   \u001b[0m | \u001b[0m 6.586e+0\u001b[0m | \u001b[0m 0.5126  \u001b[0m | \u001b[0m 0.6301  \u001b[0m | \u001b[0m 36.93   \u001b[0m | \u001b[0m 0.4494  \u001b[0m |\n",
      "| \u001b[0m 9       \u001b[0m | \u001b[0m-9.671e+0\u001b[0m | \u001b[0m 0.5017  \u001b[0m | \u001b[0m 0.8163  \u001b[0m | \u001b[0m 0.05966 \u001b[0m | \u001b[0m 5.225   \u001b[0m | \u001b[0m 0.8713  \u001b[0m | \u001b[0m 4.683e+0\u001b[0m | \u001b[0m 0.2879  \u001b[0m | \u001b[0m 0.4937  \u001b[0m | \u001b[0m 21.26   \u001b[0m | \u001b[0m 0.799   \u001b[0m |\n",
      "| \u001b[0m 10      \u001b[0m | \u001b[0m-1.062e+0\u001b[0m | \u001b[0m 0.6908  \u001b[0m | \u001b[0m 0.3473  \u001b[0m | \u001b[0m 0.02697 \u001b[0m | \u001b[0m 4.064   \u001b[0m | \u001b[0m 1.066   \u001b[0m | \u001b[0m 548.5   \u001b[0m | \u001b[0m 0.5142  \u001b[0m | \u001b[0m 0.4237  \u001b[0m | \u001b[0m 48.11   \u001b[0m | \u001b[0m 0.3544  \u001b[0m |\n",
      "| \u001b[0m 11      \u001b[0m | \u001b[0m-9.695e+0\u001b[0m | \u001b[0m 0.3671  \u001b[0m | \u001b[0m 0.7462  \u001b[0m | \u001b[0m 0.05389 \u001b[0m | \u001b[0m 6.307   \u001b[0m | \u001b[0m 1.12    \u001b[0m | \u001b[0m 6.967e+0\u001b[0m | \u001b[0m 0.4003  \u001b[0m | \u001b[0m 0.7826  \u001b[0m | \u001b[0m 28.16   \u001b[0m | \u001b[0m 0.7811  \u001b[0m |\n",
      "| \u001b[0m 12      \u001b[0m | \u001b[0m-1.031e+0\u001b[0m | \u001b[0m 0.8455  \u001b[0m | \u001b[0m 0.609   \u001b[0m | \u001b[0m 0.05737 \u001b[0m | \u001b[0m 3.177   \u001b[0m | \u001b[0m 0.8388  \u001b[0m | \u001b[0m 8.901e+0\u001b[0m | \u001b[0m 0.2523  \u001b[0m | \u001b[0m 0.7921  \u001b[0m | \u001b[0m 36.14   \u001b[0m | \u001b[0m 0.6321  \u001b[0m |\n",
      "| \u001b[0m 13      \u001b[0m | \u001b[0m-1.003e+0\u001b[0m | \u001b[0m 0.3328  \u001b[0m | \u001b[0m 0.4079  \u001b[0m | \u001b[0m 0.04626 \u001b[0m | \u001b[0m 6.611   \u001b[0m | \u001b[0m 0.5799  \u001b[0m | \u001b[0m 7.032e+0\u001b[0m | \u001b[0m 0.4376  \u001b[0m | \u001b[0m 0.5358  \u001b[0m | \u001b[0m 10.36   \u001b[0m | \u001b[0m 0.7157  \u001b[0m |\n",
      "=================================================================================================================================================\n",
      "|   iter    |  target   | colsam... |   gamma   | learni... | max_depth | min_ch... | n_esti... | reg_alpha | reg_la... |   seed    | subsample |\n",
      "-------------------------------------------------------------------------------------------------------------------------------------------------\n",
      "| \u001b[0m 1       \u001b[0m | \u001b[0m-1.176e+0\u001b[0m | \u001b[0m 0.4428  \u001b[0m | \u001b[0m 0.1119  \u001b[0m | \u001b[0m 0.05632 \u001b[0m | \u001b[0m 3.417   \u001b[0m | \u001b[0m 1.198   \u001b[0m | \u001b[0m 8.186e+0\u001b[0m | \u001b[0m 0.7212  \u001b[0m | \u001b[0m 0.7718  \u001b[0m | \u001b[0m 22.3    \u001b[0m | \u001b[0m 0.3043  \u001b[0m |\n",
      "| \u001b[95m 2       \u001b[0m | \u001b[95m-1.086e+0\u001b[0m | \u001b[95m 0.7888  \u001b[0m | \u001b[95m 0.07775 \u001b[0m | \u001b[95m 0.03553 \u001b[0m | \u001b[95m 6.393   \u001b[0m | \u001b[95m 0.4574  \u001b[0m | \u001b[95m 2.515e+0\u001b[0m | \u001b[95m 0.4975  \u001b[0m | \u001b[95m 0.6067  \u001b[0m | \u001b[95m 48.64   \u001b[0m | \u001b[95m 0.3121  \u001b[0m |\n",
      "| \u001b[0m 3       \u001b[0m | \u001b[0m-1.124e+0\u001b[0m | \u001b[0m 0.7051  \u001b[0m | \u001b[0m 0.926   \u001b[0m | \u001b[0m 0.0315  \u001b[0m | \u001b[0m 5.329   \u001b[0m | \u001b[0m 1.414   \u001b[0m | \u001b[0m 8.087e+0\u001b[0m | \u001b[0m 0.3662  \u001b[0m | \u001b[0m 0.6022  \u001b[0m | \u001b[0m 22.93   \u001b[0m | \u001b[0m 0.6213  \u001b[0m |\n"
     ]
    },
    {
     "name": "stdout",
     "output_type": "stream",
     "text": [
      "| \u001b[0m 4       \u001b[0m | \u001b[0m-1.09e+06\u001b[0m | \u001b[0m 0.721   \u001b[0m | \u001b[0m 0.4999  \u001b[0m | \u001b[0m 0.04977 \u001b[0m | \u001b[0m 5.323   \u001b[0m | \u001b[0m 0.8275  \u001b[0m | \u001b[0m 6.577e+0\u001b[0m | \u001b[0m 0.7321  \u001b[0m | \u001b[0m 0.2222  \u001b[0m | \u001b[0m 28.42   \u001b[0m | \u001b[0m 0.3211  \u001b[0m |\n",
      "| \u001b[0m 5       \u001b[0m | \u001b[0m-1.223e+0\u001b[0m | \u001b[0m 0.8692  \u001b[0m | \u001b[0m 0.03066 \u001b[0m | \u001b[0m 0.03392 \u001b[0m | \u001b[0m 3.042   \u001b[0m | \u001b[0m 0.614   \u001b[0m | \u001b[0m 5.168e+0\u001b[0m | \u001b[0m 0.7349  \u001b[0m | \u001b[0m 0.2995  \u001b[0m | \u001b[0m 11.48   \u001b[0m | \u001b[0m 0.3311  \u001b[0m |\n",
      "| \u001b[0m 6       \u001b[0m | \u001b[0m-1.214e+0\u001b[0m | \u001b[0m 0.533   \u001b[0m | \u001b[0m 0.04458 \u001b[0m | \u001b[0m 0.03919 \u001b[0m | \u001b[0m 3.75    \u001b[0m | \u001b[0m 0.6772  \u001b[0m | \u001b[0m 1.854e+0\u001b[0m | \u001b[0m 0.2079  \u001b[0m | \u001b[0m 0.7529  \u001b[0m | \u001b[0m 40.29   \u001b[0m | \u001b[0m 0.5479  \u001b[0m |\n",
      "| \u001b[0m 7       \u001b[0m | \u001b[0m-1.106e+0\u001b[0m | \u001b[0m 0.6723  \u001b[0m | \u001b[0m 0.8756  \u001b[0m | \u001b[0m 0.06052 \u001b[0m | \u001b[0m 4.62    \u001b[0m | \u001b[0m 0.4274  \u001b[0m | \u001b[0m 9.467e+0\u001b[0m | \u001b[0m 0.2412  \u001b[0m | \u001b[0m 0.72    \u001b[0m | \u001b[0m 12.58   \u001b[0m | \u001b[0m 0.5859  \u001b[0m |\n",
      "| \u001b[0m 8       \u001b[0m | \u001b[0m-1.597e+0\u001b[0m | \u001b[0m 0.4637  \u001b[0m | \u001b[0m 0.1594  \u001b[0m | \u001b[0m 0.01085 \u001b[0m | \u001b[0m 6.34    \u001b[0m | \u001b[0m 0.505   \u001b[0m | \u001b[0m 3.712e+0\u001b[0m | \u001b[0m 0.5477  \u001b[0m | \u001b[0m 0.2693  \u001b[0m | \u001b[0m 18.04   \u001b[0m | \u001b[0m 0.7764  \u001b[0m |\n",
      "| \u001b[0m 9       \u001b[0m | \u001b[0m-1.46e+06\u001b[0m | \u001b[0m 0.8365  \u001b[0m | \u001b[0m 0.5405  \u001b[0m | \u001b[0m 0.01201 \u001b[0m | \u001b[0m 6.079   \u001b[0m | \u001b[0m 1.25    \u001b[0m | \u001b[0m 4.004e+0\u001b[0m | \u001b[0m 0.5105  \u001b[0m | \u001b[0m 0.5929  \u001b[0m | \u001b[0m 42.11   \u001b[0m | \u001b[0m 0.3616  \u001b[0m |\n",
      "| \u001b[95m 10      \u001b[0m | \u001b[95m-1.083e+0\u001b[0m | \u001b[95m 0.8073  \u001b[0m | \u001b[95m 0.2483  \u001b[0m | \u001b[95m 0.03474 \u001b[0m | \u001b[95m 6.698   \u001b[0m | \u001b[95m 1.491   \u001b[0m | \u001b[95m 2.513e+0\u001b[0m | \u001b[95m 0.6029  \u001b[0m | \u001b[95m 0.7583  \u001b[0m | \u001b[95m 47.3    \u001b[0m | \u001b[95m 0.5952  \u001b[0m |\n",
      "| \u001b[0m 11      \u001b[0m | \u001b[0m-1.479e+0\u001b[0m | \u001b[0m 0.9     \u001b[0m | \u001b[0m 1.0     \u001b[0m | \u001b[0m 0.01125 \u001b[0m | \u001b[0m 7.0     \u001b[0m | \u001b[0m 1.5     \u001b[0m | \u001b[0m 2.433e+0\u001b[0m | \u001b[0m 0.75    \u001b[0m | \u001b[0m 0.8     \u001b[0m | \u001b[0m 10.0    \u001b[0m | \u001b[0m 0.8     \u001b[0m |\n",
      "| \u001b[0m 12      \u001b[0m | \u001b[0m-1.283e+0\u001b[0m | \u001b[0m 0.377   \u001b[0m | \u001b[0m 0.01758 \u001b[0m | \u001b[0m 0.02167 \u001b[0m | \u001b[0m 5.262   \u001b[0m | \u001b[0m 0.4529  \u001b[0m | \u001b[0m 4.975e+0\u001b[0m | \u001b[0m 0.3988  \u001b[0m | \u001b[0m 0.2964  \u001b[0m | \u001b[0m 46.58   \u001b[0m | \u001b[0m 0.6494  \u001b[0m |\n",
      "| \u001b[0m 13      \u001b[0m | \u001b[0m-1.521e+0\u001b[0m | \u001b[0m 0.4599  \u001b[0m | \u001b[0m 0.558   \u001b[0m | \u001b[0m 0.01232 \u001b[0m | \u001b[0m 6.283   \u001b[0m | \u001b[0m 1.185   \u001b[0m | \u001b[0m 8.96e+03\u001b[0m | \u001b[0m 0.6336  \u001b[0m | \u001b[0m 0.6463  \u001b[0m | \u001b[0m 17.17   \u001b[0m | \u001b[0m 0.6819  \u001b[0m |\n",
      "=================================================================================================================================================\n",
      "|   iter    |  target   | colsam... |   gamma   | learni... | max_depth | min_ch... | n_esti... | reg_alpha | reg_la... |   seed    | subsample |\n",
      "-------------------------------------------------------------------------------------------------------------------------------------------------\n",
      "| \u001b[0m 1       \u001b[0m | \u001b[0m-1.284e+0\u001b[0m | \u001b[0m 0.374   \u001b[0m | \u001b[0m 0.1922  \u001b[0m | \u001b[0m 0.05972 \u001b[0m | \u001b[0m 3.899   \u001b[0m | \u001b[0m 0.5491  \u001b[0m | \u001b[0m 3.779e+0\u001b[0m | \u001b[0m 0.2617  \u001b[0m | \u001b[0m 0.6572  \u001b[0m | \u001b[0m 45.77   \u001b[0m | \u001b[0m 0.5903  \u001b[0m |\n",
      "| \u001b[95m 2       \u001b[0m | \u001b[95m-1.202e+0\u001b[0m | \u001b[95m 0.4673  \u001b[0m | \u001b[95m 0.7683  \u001b[0m | \u001b[95m 0.06577 \u001b[0m | \u001b[95m 4.664   \u001b[0m | \u001b[95m 0.736   \u001b[0m | \u001b[95m 6.732e+0\u001b[0m | \u001b[95m 0.374   \u001b[0m | \u001b[95m 0.5806  \u001b[0m | \u001b[95m 48.53   \u001b[0m | \u001b[95m 0.4228  \u001b[0m |\n",
      "| \u001b[0m 3       \u001b[0m | \u001b[0m-1.303e+0\u001b[0m | \u001b[0m 0.3405  \u001b[0m | \u001b[0m 0.005699\u001b[0m | \u001b[0m 0.0527  \u001b[0m | \u001b[0m 3.758   \u001b[0m | \u001b[0m 1.03    \u001b[0m | \u001b[0m 3.815e+0\u001b[0m | \u001b[0m 0.2715  \u001b[0m | \u001b[0m 0.3366  \u001b[0m | \u001b[0m 43.23   \u001b[0m | \u001b[0m 0.7662  \u001b[0m |\n",
      "| \u001b[0m 4       \u001b[0m | \u001b[0m-1.203e+0\u001b[0m | \u001b[0m 0.6552  \u001b[0m | \u001b[0m 0.5133  \u001b[0m | \u001b[0m 0.05775 \u001b[0m | \u001b[0m 4.032   \u001b[0m | \u001b[0m 0.8983  \u001b[0m | \u001b[0m 5.625e+0\u001b[0m | \u001b[0m 0.5145  \u001b[0m | \u001b[0m 0.2983  \u001b[0m | \u001b[0m 15.29   \u001b[0m | \u001b[0m 0.594   \u001b[0m |\n",
      "| \u001b[0m 5       \u001b[0m | \u001b[0m-1.253e+0\u001b[0m | \u001b[0m 0.7917  \u001b[0m | \u001b[0m 0.9327  \u001b[0m | \u001b[0m 0.06392 \u001b[0m | \u001b[0m 3.846   \u001b[0m | \u001b[0m 0.9408  \u001b[0m | \u001b[0m 5.528e+0\u001b[0m | \u001b[0m 0.4182  \u001b[0m | \u001b[0m 0.3995  \u001b[0m | \u001b[0m 41.12   \u001b[0m | \u001b[0m 0.7074  \u001b[0m |\n",
      "| \u001b[0m 6       \u001b[0m | \u001b[0m-1.277e+0\u001b[0m | \u001b[0m 0.7818  \u001b[0m | \u001b[0m 0.4189  \u001b[0m | \u001b[0m 0.0309  \u001b[0m | \u001b[0m 4.054   \u001b[0m | \u001b[0m 1.368   \u001b[0m | \u001b[0m 3.02e+03\u001b[0m | \u001b[0m 0.4623  \u001b[0m | \u001b[0m 0.7615  \u001b[0m | \u001b[0m 37.54   \u001b[0m | \u001b[0m 0.6286  \u001b[0m |\n",
      "| \u001b[95m 7       \u001b[0m | \u001b[95m-1.161e+0\u001b[0m | \u001b[95m 0.6379  \u001b[0m | \u001b[95m 0.8209  \u001b[0m | \u001b[95m 0.06898 \u001b[0m | \u001b[95m 5.003   \u001b[0m | \u001b[95m 0.6522  \u001b[0m | \u001b[95m 3.38e+03\u001b[0m | \u001b[95m 0.2176  \u001b[0m | \u001b[95m 0.7971  \u001b[0m | \u001b[95m 21.72   \u001b[0m | \u001b[95m 0.5083  \u001b[0m |\n",
      "| \u001b[0m 8       \u001b[0m | \u001b[0m-1.31e+06\u001b[0m | \u001b[0m 0.3282  \u001b[0m | \u001b[0m 0.1723  \u001b[0m | \u001b[0m 0.03192 \u001b[0m | \u001b[0m 5.09    \u001b[0m | \u001b[0m 1.22    \u001b[0m | \u001b[0m 1.442e+0\u001b[0m | \u001b[0m 0.4258  \u001b[0m | \u001b[0m 0.6754  \u001b[0m | \u001b[0m 23.82   \u001b[0m | \u001b[0m 0.3141  \u001b[0m |\n",
      "| \u001b[0m 9       \u001b[0m | \u001b[0m-1.3e+06 \u001b[0m | \u001b[0m 0.4339  \u001b[0m | \u001b[0m 0.2424  \u001b[0m | \u001b[0m 0.02617 \u001b[0m | \u001b[0m 5.307   \u001b[0m | \u001b[0m 1.405   \u001b[0m | \u001b[0m 6.571e+0\u001b[0m | \u001b[0m 0.2859  \u001b[0m | \u001b[0m 0.2334  \u001b[0m | \u001b[0m 23.9    \u001b[0m | \u001b[0m 0.4015  \u001b[0m |\n",
      "| \u001b[0m 10      \u001b[0m | \u001b[0m-1.165e+0\u001b[0m | \u001b[0m 0.8199  \u001b[0m | \u001b[0m 0.2475  \u001b[0m | \u001b[0m 0.06175 \u001b[0m | \u001b[0m 5.517   \u001b[0m | \u001b[0m 0.7467  \u001b[0m | \u001b[0m 4.863e+0\u001b[0m | \u001b[0m 0.6449  \u001b[0m | \u001b[0m 0.721   \u001b[0m | \u001b[0m 14.06   \u001b[0m | \u001b[0m 0.7218  \u001b[0m |\n",
      "| \u001b[0m 11      \u001b[0m | \u001b[0m-1.722e+0\u001b[0m | \u001b[0m 0.3898  \u001b[0m | \u001b[0m 0.4427  \u001b[0m | \u001b[0m 0.01307 \u001b[0m | \u001b[0m 4.771   \u001b[0m | \u001b[0m 1.238   \u001b[0m | \u001b[0m 6.587e+0\u001b[0m | \u001b[0m 0.3946  \u001b[0m | \u001b[0m 0.2371  \u001b[0m | \u001b[0m 39.33   \u001b[0m | \u001b[0m 0.7662  \u001b[0m |\n",
      "| \u001b[0m 12      \u001b[0m | \u001b[0m-1.252e+0\u001b[0m | \u001b[0m 0.72    \u001b[0m | \u001b[0m 0.4115  \u001b[0m | \u001b[0m 0.02684 \u001b[0m | \u001b[0m 5.811   \u001b[0m | \u001b[0m 0.6897  \u001b[0m | \u001b[0m 6.18e+03\u001b[0m | \u001b[0m 0.6601  \u001b[0m | \u001b[0m 0.5898  \u001b[0m | \u001b[0m 20.59   \u001b[0m | \u001b[0m 0.7772  \u001b[0m |\n",
      "| \u001b[0m 13      \u001b[0m | \u001b[0m-1.167e+0\u001b[0m | \u001b[0m 0.8877  \u001b[0m | \u001b[0m 0.4477  \u001b[0m | \u001b[0m 0.03811 \u001b[0m | \u001b[0m 6.231   \u001b[0m | \u001b[0m 1.488   \u001b[0m | \u001b[0m 7.382e+0\u001b[0m | \u001b[0m 0.2865  \u001b[0m | \u001b[0m 0.2231  \u001b[0m | \u001b[0m 45.14   \u001b[0m | \u001b[0m 0.4444  \u001b[0m |\n",
      "=================================================================================================================================================\n",
      "|   iter    |  target   | colsam... |   gamma   | learni... | max_depth | min_ch... | n_esti... | reg_alpha | reg_la... |   seed    | subsample |\n",
      "-------------------------------------------------------------------------------------------------------------------------------------------------\n",
      "| \u001b[0m 1       \u001b[0m | \u001b[0m-1.823e+0\u001b[0m | \u001b[0m 0.6891  \u001b[0m | \u001b[0m 0.4543  \u001b[0m | \u001b[0m 0.01137 \u001b[0m | \u001b[0m 5.036   \u001b[0m | \u001b[0m 0.8667  \u001b[0m | \u001b[0m 9.996e+0\u001b[0m | \u001b[0m 0.4822  \u001b[0m | \u001b[0m 0.7563  \u001b[0m | \u001b[0m 48.52   \u001b[0m | \u001b[0m 0.6446  \u001b[0m |\n",
      "| \u001b[95m 2       \u001b[0m | \u001b[95m-1.434e+0\u001b[0m | \u001b[95m 0.8765  \u001b[0m | \u001b[95m 0.5398  \u001b[0m | \u001b[95m 0.0397  \u001b[0m | \u001b[95m 3.778   \u001b[0m | \u001b[95m 0.8582  \u001b[0m | \u001b[95m 9.589e+0\u001b[0m | \u001b[95m 0.2788  \u001b[0m | \u001b[95m 0.5804  \u001b[0m | \u001b[95m 39.23   \u001b[0m | \u001b[95m 0.4143  \u001b[0m |\n",
      "| \u001b[95m 3       \u001b[0m | \u001b[95m-1.324e+0\u001b[0m | \u001b[95m 0.4453  \u001b[0m | \u001b[95m 0.2501  \u001b[0m | \u001b[95m 0.04047 \u001b[0m | \u001b[95m 5.666   \u001b[0m | \u001b[95m 1.05    \u001b[0m | \u001b[95m 4.795e+0\u001b[0m | \u001b[95m 0.3917  \u001b[0m | \u001b[95m 0.4351  \u001b[0m | \u001b[95m 47.97   \u001b[0m | \u001b[95m 0.4068  \u001b[0m |\n",
      "| \u001b[0m 4       \u001b[0m | \u001b[0m-1.655e+0\u001b[0m | \u001b[0m 0.7453  \u001b[0m | \u001b[0m 0.5032  \u001b[0m | \u001b[0m 0.01332 \u001b[0m | \u001b[0m 6.254   \u001b[0m | \u001b[0m 1.494   \u001b[0m | \u001b[0m 2.812e+0\u001b[0m | \u001b[0m 0.6569  \u001b[0m | \u001b[0m 0.3168  \u001b[0m | \u001b[0m 41.37   \u001b[0m | \u001b[0m 0.7523  \u001b[0m |\n",
      "| \u001b[0m 5       \u001b[0m | \u001b[0m-1.418e+0\u001b[0m | \u001b[0m 0.6367  \u001b[0m | \u001b[0m 0.5399  \u001b[0m | \u001b[0m 0.02811 \u001b[0m | \u001b[0m 4.291   \u001b[0m | \u001b[0m 1.489   \u001b[0m | \u001b[0m 2.433e+0\u001b[0m | \u001b[0m 0.7328  \u001b[0m | \u001b[0m 0.3013  \u001b[0m | \u001b[0m 27.0    \u001b[0m | \u001b[0m 0.7668  \u001b[0m |\n",
      "| \u001b[95m 6       \u001b[0m | \u001b[95m-1.244e+0\u001b[0m | \u001b[95m 0.5942  \u001b[0m | \u001b[95m 0.8298  \u001b[0m | \u001b[95m 0.06865 \u001b[0m | \u001b[95m 6.696   \u001b[0m | \u001b[95m 0.8954  \u001b[0m | \u001b[95m 8.793e+0\u001b[0m | \u001b[95m 0.6761  \u001b[0m | \u001b[95m 0.7602  \u001b[0m | \u001b[95m 34.28   \u001b[0m | \u001b[95m 0.4757  \u001b[0m |\n",
      "| \u001b[0m 7       \u001b[0m | \u001b[0m-1.349e+0\u001b[0m | \u001b[0m 0.4433  \u001b[0m | \u001b[0m 0.297   \u001b[0m | \u001b[0m 0.04679 \u001b[0m | \u001b[0m 4.123   \u001b[0m | \u001b[0m 0.6031  \u001b[0m | \u001b[0m 9.028e+0\u001b[0m | \u001b[0m 0.49    \u001b[0m | \u001b[0m 0.6488  \u001b[0m | \u001b[0m 24.26   \u001b[0m | \u001b[0m 0.4983  \u001b[0m |\n"
     ]
    },
    {
     "name": "stdout",
     "output_type": "stream",
     "text": [
      "| \u001b[0m 8       \u001b[0m | \u001b[0m-1.315e+0\u001b[0m | \u001b[0m 0.8897  \u001b[0m | \u001b[0m 0.8196  \u001b[0m | \u001b[0m 0.05851 \u001b[0m | \u001b[0m 4.478   \u001b[0m | \u001b[0m 0.6615  \u001b[0m | \u001b[0m 2.579e+0\u001b[0m | \u001b[0m 0.4508  \u001b[0m | \u001b[0m 0.764   \u001b[0m | \u001b[0m 22.26   \u001b[0m | \u001b[0m 0.5662  \u001b[0m |\n",
      "| \u001b[0m 9       \u001b[0m | \u001b[0m-1.87e+06\u001b[0m | \u001b[0m 0.8962  \u001b[0m | \u001b[0m 0.06821 \u001b[0m | \u001b[0m 0.01136 \u001b[0m | \u001b[0m 4.447   \u001b[0m | \u001b[0m 0.5413  \u001b[0m | \u001b[0m 9.471e+0\u001b[0m | \u001b[0m 0.5427  \u001b[0m | \u001b[0m 0.7309  \u001b[0m | \u001b[0m 26.56   \u001b[0m | \u001b[0m 0.5334  \u001b[0m |\n",
      "| \u001b[0m 10      \u001b[0m | \u001b[0m-1.291e+0\u001b[0m | \u001b[0m 0.8781  \u001b[0m | \u001b[0m 0.6667  \u001b[0m | \u001b[0m 0.047   \u001b[0m | \u001b[0m 5.475   \u001b[0m | \u001b[0m 0.7522  \u001b[0m | \u001b[0m 9.219e+0\u001b[0m | \u001b[0m 0.2723  \u001b[0m | \u001b[0m 0.3324  \u001b[0m | \u001b[0m 34.14   \u001b[0m | \u001b[0m 0.6861  \u001b[0m |\n",
      "| \u001b[0m 11      \u001b[0m | \u001b[0m-1.273e+0\u001b[0m | \u001b[0m 0.7127  \u001b[0m | \u001b[0m 0.1328  \u001b[0m | \u001b[0m 0.03867 \u001b[0m | \u001b[0m 6.221   \u001b[0m | \u001b[0m 1.185   \u001b[0m | \u001b[0m 3.333e+0\u001b[0m | \u001b[0m 0.2523  \u001b[0m | \u001b[0m 0.5919  \u001b[0m | \u001b[0m 35.37   \u001b[0m | \u001b[0m 0.744   \u001b[0m |\n",
      "| \u001b[0m 12      \u001b[0m | \u001b[0m-1.98e+06\u001b[0m | \u001b[0m 0.8935  \u001b[0m | \u001b[0m 0.1975  \u001b[0m | \u001b[0m 0.01111 \u001b[0m | \u001b[0m 3.419   \u001b[0m | \u001b[0m 0.6562  \u001b[0m | \u001b[0m 3.492e+0\u001b[0m | \u001b[0m 0.5272  \u001b[0m | \u001b[0m 0.6105  \u001b[0m | \u001b[0m 47.82   \u001b[0m | \u001b[0m 0.7238  \u001b[0m |\n",
      "| \u001b[0m 13      \u001b[0m | \u001b[0m-1.332e+0\u001b[0m | \u001b[0m 0.5622  \u001b[0m | \u001b[0m 0.4875  \u001b[0m | \u001b[0m 0.0337  \u001b[0m | \u001b[0m 5.394   \u001b[0m | \u001b[0m 1.418   \u001b[0m | \u001b[0m 1.588e+0\u001b[0m | \u001b[0m 0.5796  \u001b[0m | \u001b[0m 0.2975  \u001b[0m | \u001b[0m 13.01   \u001b[0m | \u001b[0m 0.5582  \u001b[0m |\n",
      "=================================================================================================================================================\n"
     ]
    }
   ],
   "source": [
    "dtrain = dtrain_2012\n",
    "params_2012 = optimize(dtrain_2012)\n",
    "dtrain = dtrain_2013\n",
    "params_2013 = optimize(dtrain_2013)\n",
    "dtrain = dtrain_2014\n",
    "params_2014 = optimize(dtrain_2014)\n",
    "dtrain = dtrain_2015\n",
    "params_2015 = optimize(dtrain_2015)\n",
    "dtrain = dtrain_2016\n",
    "params_2016 = optimize(dtrain_2016)"
   ]
  },
  {
   "cell_type": "markdown",
   "metadata": {},
   "source": [
    "## XGBoost"
   ]
  },
  {
   "cell_type": "code",
   "execution_count": null,
   "metadata": {},
   "outputs": [],
   "source": [
    "def xgboost(x,y,x_val,y_val, test, params):\n",
    "    best_xgb_model = XGBRegressor(colsample_bytree=params[\"colsample_bytree\"],\n",
    "                 gamma=params[\"gamma\"],                 \n",
    "                 learning_rate=params[\"learning_rate\"],\n",
    "                 max_depth=params[\"max_depth\"],\n",
    "                 min_child_weight=params[\"min_child_weight\"],\n",
    "                 n_estimators=params[\"n_estimators\"],                                                                    \n",
    "                 reg_alpha=params[\"reg_alpha\"],\n",
    "                 reg_lambda=params[\"reg_lambda\"],\n",
    "                 subsample=params[\"subsample\"],\n",
    "                 seed=params[\"seed\"])\n",
    "    best_xgb_model.fit(x,y)\n",
    "    XGB_pred_val = best_xgb_model.predict(x_val)\n",
    "    XGB_mae = MAE(y_val, XGB_pred_val)\n",
    "    print(\"MAE XGB: \" + str(XGB_mae))\n",
    "    XGB_pred_test = best_xgb_model.predict(test)\n",
    "    res = pd.DataFrame(XGB_pred_test, index=test.index, columns=['precio'])\n",
    "    res = res.rename(columns={'precio':'target'})\n",
    "    \n",
    "    return res, XGB_pred_val"
   ]
  },
  {
   "cell_type": "code",
   "execution_count": null,
   "metadata": {},
   "outputs": [],
   "source": [
    "res_2012, XGB_2012_pred_val = xgboost(x_2012, y_2012, x_2012_val, y_2012_val, test_2012, params_2012)\n",
    "res_2013, XGB_2013_pred_val = xgboost(x_2013, y_2013, x_2013_val, y_2013_val, test_2013, params_2013)\n",
    "res_2014, XGB_2014_pred_val = xgboost(x_2014, y_2014, x_2014_val, y_2014_val, test_2014, params_2014)\n",
    "res_2015, XGB_2015_pred_val = xgboost(x_2015, y_2015, x_2015_val, y_2015_val, test_2015, params_2015)\n",
    "res_2016, XGB_2016_pred_val = xgboost(x_2016, y_2016, x_2016_val, y_2016_val, test_2016, params_2016)\n"
   ]
  },
  {
   "cell_type": "code",
   "execution_count": 26,
   "metadata": {},
   "outputs": [],
   "source": [
    "def fabrica(params):\n",
    "    best_xgb_model = XGBRegressor(colsample_bytree=params[\"colsample_bytree\"],\n",
    "                 gamma=params[\"gamma\"],                 \n",
    "                 learning_rate=params[\"learning_rate\"],\n",
    "                 max_depth=params[\"max_depth\"],\n",
    "                 min_child_weight=params[\"min_child_weight\"],\n",
    "                 n_estimators=params[\"n_estimators\"],                                                                    \n",
    "                 reg_alpha=params[\"reg_alpha\"],\n",
    "                 reg_lambda=params[\"reg_lambda\"],\n",
    "                 subsample=params[\"subsample\"],\n",
    "                 seed=params[\"seed\"])\n",
    "    \n",
    "    return best_xgb_model"
   ]
  },
  {
   "cell_type": "code",
   "execution_count": 27,
   "metadata": {},
   "outputs": [],
   "source": [
    "XGB_2012 = fabrica(params_2012)\n",
    "XGB_2013 = fabrica(params_2013)\n",
    "XGB_2014 = fabrica(params_2014)\n",
    "XGB_2015 = fabrica(params_2015)\n",
    "XGB_2016 = fabrica(params_2016)"
   ]
  },
  {
   "cell_type": "code",
   "execution_count": null,
   "metadata": {},
   "outputs": [],
   "source": [
    "#ensamblo todo y comparo\n",
    "#XGB_mae = MAE(y_val_ensamblado, XGB_pred_val_ensamblado)\n",
    "#print(\"MAE XGB: \" + str(XGB_mae))\n",
    "\n",
    "res = res_2012.append(res_2013).append(res_2014).append(res_2015).append(res_2016)\n",
    "res.to_csv(\"workshop-submission-XGB_2.csv\", header=True)"
   ]
  },
  {
   "cell_type": "code",
   "execution_count": null,
   "metadata": {},
   "outputs": [],
   "source": [
    "import matplotlib.pyplot as plt\n",
    "fscores = pd.DataFrame({'X': list(best_xgb_model.get_fscore().keys()), 'Y': list(best_xgb_model.get_fscore().values())})\n",
    "fscores.sort_values(by='Y').plot.bar(x='X')"
   ]
  },
  {
   "cell_type": "code",
   "execution_count": 34,
   "metadata": {},
   "outputs": [],
   "source": [
    "ensemble2012 = VotingRegressor([('knn', KNN_2012), ('xgb', XGB_2012)])\n",
    "ensemble2013 = VotingRegressor([('knn', KNN_2013), ('xgb', XGB_2013)])\n",
    "ensemble2014 = VotingRegressor([('knn', KNN_2014), ('xgb', XGB_2014)])\n",
    "ensemble2015 = VotingRegressor([('knn', KNN_2015), ('xgb', XGB_2015)])\n",
    "ensemble2016 = VotingRegressor([('knn', KNN_2016), ('xgb', XGB_2016)])"
   ]
  },
  {
   "cell_type": "code",
   "execution_count": 33,
   "metadata": {},
   "outputs": [
    {
     "name": "stderr",
     "output_type": "stream",
     "text": [
      "/home/lautaro/.local/lib/python3.6/site-packages/xgboost/core.py:587: FutureWarning: Series.base is deprecated and will be removed in a future version\n",
      "  if getattr(data, 'base', None) is not None and \\\n",
      "/home/lautaro/.local/lib/python3.6/site-packages/xgboost/core.py:588: FutureWarning: Series.base is deprecated and will be removed in a future version\n",
      "  data.base is not None and isinstance(data, np.ndarray) \\\n"
     ]
    },
    {
     "name": "stdout",
     "output_type": "stream",
     "text": [
      "[02:00:12] WARNING: /workspace/src/objective/regression_obj.cu:152: reg:linear is now deprecated in favor of reg:squarederror.\n",
      "MAE XGB: 470149.80431839824\n"
     ]
    }
   ],
   "source": [
    "ensemble2012.fit(x_2012, y_2012)\n",
    "en_pred_val = ensemble2012.predict(x_2012_val)\n",
    "en_mae = MAE(y_2012_val, en_pred_val)\n",
    "print(\"MAE Ensemble: \" + str(en_mae))"
   ]
  },
  {
   "cell_type": "code",
   "execution_count": 35,
   "metadata": {},
   "outputs": [
    {
     "name": "stderr",
     "output_type": "stream",
     "text": [
      "/home/lautaro/.local/lib/python3.6/site-packages/xgboost/core.py:587: FutureWarning: Series.base is deprecated and will be removed in a future version\n",
      "  if getattr(data, 'base', None) is not None and \\\n",
      "/home/lautaro/.local/lib/python3.6/site-packages/xgboost/core.py:588: FutureWarning: Series.base is deprecated and will be removed in a future version\n",
      "  data.base is not None and isinstance(data, np.ndarray) \\\n"
     ]
    },
    {
     "name": "stdout",
     "output_type": "stream",
     "text": [
      "[02:07:03] WARNING: /workspace/src/objective/regression_obj.cu:152: reg:linear is now deprecated in favor of reg:squarederror.\n"
     ]
    },
    {
     "ename": "KeyboardInterrupt",
     "evalue": "",
     "output_type": "error",
     "traceback": [
      "\u001b[0;31m---------------------------------------------------------------------------\u001b[0m",
      "\u001b[0;31mKeyboardInterrupt\u001b[0m                         Traceback (most recent call last)",
      "\u001b[0;32m<ipython-input-35-84c0d67502be>\u001b[0m in \u001b[0;36m<module>\u001b[0;34m()\u001b[0m\n\u001b[1;32m      1\u001b[0m \u001b[0mensemble2013\u001b[0m\u001b[0;34m.\u001b[0m\u001b[0mfit\u001b[0m\u001b[0;34m(\u001b[0m\u001b[0mx_2013\u001b[0m\u001b[0;34m,\u001b[0m \u001b[0my_2013\u001b[0m\u001b[0;34m)\u001b[0m\u001b[0;34m\u001b[0m\u001b[0;34m\u001b[0m\u001b[0m\n\u001b[0;32m----> 2\u001b[0;31m \u001b[0men_pred_val\u001b[0m \u001b[0;34m=\u001b[0m \u001b[0mensemble2013\u001b[0m\u001b[0;34m.\u001b[0m\u001b[0mpredict\u001b[0m\u001b[0;34m(\u001b[0m\u001b[0mx_2013_val\u001b[0m\u001b[0;34m)\u001b[0m\u001b[0;34m\u001b[0m\u001b[0;34m\u001b[0m\u001b[0m\n\u001b[0m\u001b[1;32m      3\u001b[0m \u001b[0men_mae\u001b[0m \u001b[0;34m=\u001b[0m \u001b[0mMAE\u001b[0m\u001b[0;34m(\u001b[0m\u001b[0my_2013_val\u001b[0m\u001b[0;34m,\u001b[0m \u001b[0men_pred_val\u001b[0m\u001b[0;34m)\u001b[0m\u001b[0;34m\u001b[0m\u001b[0;34m\u001b[0m\u001b[0m\n\u001b[1;32m      4\u001b[0m \u001b[0mprint\u001b[0m\u001b[0;34m(\u001b[0m\u001b[0;34m\"MAE XGB: \"\u001b[0m \u001b[0;34m+\u001b[0m \u001b[0mstr\u001b[0m\u001b[0;34m(\u001b[0m\u001b[0men_mae\u001b[0m\u001b[0;34m)\u001b[0m\u001b[0;34m)\u001b[0m\u001b[0;34m\u001b[0m\u001b[0;34m\u001b[0m\u001b[0m\n",
      "\u001b[0;32m/home/lautaro/.local/lib/python3.6/site-packages/sklearn/ensemble/voting.py\u001b[0m in \u001b[0;36mpredict\u001b[0;34m(self, X)\u001b[0m\n\u001b[1;32m    474\u001b[0m         \"\"\"\n\u001b[1;32m    475\u001b[0m         \u001b[0mcheck_is_fitted\u001b[0m\u001b[0;34m(\u001b[0m\u001b[0mself\u001b[0m\u001b[0;34m,\u001b[0m \u001b[0;34m\"estimators_\"\u001b[0m\u001b[0;34m)\u001b[0m\u001b[0;34m\u001b[0m\u001b[0;34m\u001b[0m\u001b[0m\n\u001b[0;32m--> 476\u001b[0;31m         return np.average(self._predict(X), axis=1,\n\u001b[0m\u001b[1;32m    477\u001b[0m                           weights=self._weights_not_none)\n\u001b[1;32m    478\u001b[0m \u001b[0;34m\u001b[0m\u001b[0m\n",
      "\u001b[0;32m/home/lautaro/.local/lib/python3.6/site-packages/sklearn/ensemble/voting.py\u001b[0m in \u001b[0;36m_predict\u001b[0;34m(self, X)\u001b[0m\n\u001b[1;32m     67\u001b[0m     \u001b[0;32mdef\u001b[0m \u001b[0m_predict\u001b[0m\u001b[0;34m(\u001b[0m\u001b[0mself\u001b[0m\u001b[0;34m,\u001b[0m \u001b[0mX\u001b[0m\u001b[0;34m)\u001b[0m\u001b[0;34m:\u001b[0m\u001b[0;34m\u001b[0m\u001b[0;34m\u001b[0m\u001b[0m\n\u001b[1;32m     68\u001b[0m         \u001b[0;34m\"\"\"Collect results from clf.predict calls. \"\"\"\u001b[0m\u001b[0;34m\u001b[0m\u001b[0;34m\u001b[0m\u001b[0m\n\u001b[0;32m---> 69\u001b[0;31m         \u001b[0;32mreturn\u001b[0m \u001b[0mnp\u001b[0m\u001b[0;34m.\u001b[0m\u001b[0masarray\u001b[0m\u001b[0;34m(\u001b[0m\u001b[0;34m[\u001b[0m\u001b[0mclf\u001b[0m\u001b[0;34m.\u001b[0m\u001b[0mpredict\u001b[0m\u001b[0;34m(\u001b[0m\u001b[0mX\u001b[0m\u001b[0;34m)\u001b[0m \u001b[0;32mfor\u001b[0m \u001b[0mclf\u001b[0m \u001b[0;32min\u001b[0m \u001b[0mself\u001b[0m\u001b[0;34m.\u001b[0m\u001b[0mestimators_\u001b[0m\u001b[0;34m]\u001b[0m\u001b[0;34m)\u001b[0m\u001b[0;34m.\u001b[0m\u001b[0mT\u001b[0m\u001b[0;34m\u001b[0m\u001b[0;34m\u001b[0m\u001b[0m\n\u001b[0m\u001b[1;32m     70\u001b[0m \u001b[0;34m\u001b[0m\u001b[0m\n\u001b[1;32m     71\u001b[0m     \u001b[0;34m@\u001b[0m\u001b[0mabstractmethod\u001b[0m\u001b[0;34m\u001b[0m\u001b[0;34m\u001b[0m\u001b[0m\n",
      "\u001b[0;32m/home/lautaro/.local/lib/python3.6/site-packages/sklearn/ensemble/voting.py\u001b[0m in \u001b[0;36m<listcomp>\u001b[0;34m(.0)\u001b[0m\n\u001b[1;32m     67\u001b[0m     \u001b[0;32mdef\u001b[0m \u001b[0m_predict\u001b[0m\u001b[0;34m(\u001b[0m\u001b[0mself\u001b[0m\u001b[0;34m,\u001b[0m \u001b[0mX\u001b[0m\u001b[0;34m)\u001b[0m\u001b[0;34m:\u001b[0m\u001b[0;34m\u001b[0m\u001b[0;34m\u001b[0m\u001b[0m\n\u001b[1;32m     68\u001b[0m         \u001b[0;34m\"\"\"Collect results from clf.predict calls. \"\"\"\u001b[0m\u001b[0;34m\u001b[0m\u001b[0;34m\u001b[0m\u001b[0m\n\u001b[0;32m---> 69\u001b[0;31m         \u001b[0;32mreturn\u001b[0m \u001b[0mnp\u001b[0m\u001b[0;34m.\u001b[0m\u001b[0masarray\u001b[0m\u001b[0;34m(\u001b[0m\u001b[0;34m[\u001b[0m\u001b[0mclf\u001b[0m\u001b[0;34m.\u001b[0m\u001b[0mpredict\u001b[0m\u001b[0;34m(\u001b[0m\u001b[0mX\u001b[0m\u001b[0;34m)\u001b[0m \u001b[0;32mfor\u001b[0m \u001b[0mclf\u001b[0m \u001b[0;32min\u001b[0m \u001b[0mself\u001b[0m\u001b[0;34m.\u001b[0m\u001b[0mestimators_\u001b[0m\u001b[0;34m]\u001b[0m\u001b[0;34m)\u001b[0m\u001b[0;34m.\u001b[0m\u001b[0mT\u001b[0m\u001b[0;34m\u001b[0m\u001b[0;34m\u001b[0m\u001b[0m\n\u001b[0m\u001b[1;32m     70\u001b[0m \u001b[0;34m\u001b[0m\u001b[0m\n\u001b[1;32m     71\u001b[0m     \u001b[0;34m@\u001b[0m\u001b[0mabstractmethod\u001b[0m\u001b[0;34m\u001b[0m\u001b[0;34m\u001b[0m\u001b[0m\n",
      "\u001b[0;32m/home/lautaro/.local/lib/python3.6/site-packages/xgboost/sklearn.py\u001b[0m in \u001b[0;36mpredict\u001b[0;34m(self, data, output_margin, ntree_limit, validate_features)\u001b[0m\n\u001b[1;32m    454\u001b[0m                                           \u001b[0moutput_margin\u001b[0m\u001b[0;34m=\u001b[0m\u001b[0moutput_margin\u001b[0m\u001b[0;34m,\u001b[0m\u001b[0;34m\u001b[0m\u001b[0;34m\u001b[0m\u001b[0m\n\u001b[1;32m    455\u001b[0m                                           \u001b[0mntree_limit\u001b[0m\u001b[0;34m=\u001b[0m\u001b[0mntree_limit\u001b[0m\u001b[0;34m,\u001b[0m\u001b[0;34m\u001b[0m\u001b[0;34m\u001b[0m\u001b[0m\n\u001b[0;32m--> 456\u001b[0;31m                                           validate_features=validate_features)\n\u001b[0m\u001b[1;32m    457\u001b[0m \u001b[0;34m\u001b[0m\u001b[0m\n\u001b[1;32m    458\u001b[0m     \u001b[0;32mdef\u001b[0m \u001b[0mapply\u001b[0m\u001b[0;34m(\u001b[0m\u001b[0mself\u001b[0m\u001b[0;34m,\u001b[0m \u001b[0mX\u001b[0m\u001b[0;34m,\u001b[0m \u001b[0mntree_limit\u001b[0m\u001b[0;34m=\u001b[0m\u001b[0;36m0\u001b[0m\u001b[0;34m)\u001b[0m\u001b[0;34m:\u001b[0m\u001b[0;34m\u001b[0m\u001b[0;34m\u001b[0m\u001b[0m\n",
      "\u001b[0;32m/home/lautaro/.local/lib/python3.6/site-packages/xgboost/core.py\u001b[0m in \u001b[0;36mpredict\u001b[0;34m(self, data, output_margin, ntree_limit, pred_leaf, pred_contribs, approx_contribs, pred_interactions, validate_features)\u001b[0m\n\u001b[1;32m   1290\u001b[0m                                           \u001b[0mctypes\u001b[0m\u001b[0;34m.\u001b[0m\u001b[0mc_uint\u001b[0m\u001b[0;34m(\u001b[0m\u001b[0mntree_limit\u001b[0m\u001b[0;34m)\u001b[0m\u001b[0;34m,\u001b[0m\u001b[0;34m\u001b[0m\u001b[0;34m\u001b[0m\u001b[0m\n\u001b[1;32m   1291\u001b[0m                                           \u001b[0mctypes\u001b[0m\u001b[0;34m.\u001b[0m\u001b[0mbyref\u001b[0m\u001b[0;34m(\u001b[0m\u001b[0mlength\u001b[0m\u001b[0;34m)\u001b[0m\u001b[0;34m,\u001b[0m\u001b[0;34m\u001b[0m\u001b[0;34m\u001b[0m\u001b[0m\n\u001b[0;32m-> 1292\u001b[0;31m                                           ctypes.byref(preds)))\n\u001b[0m\u001b[1;32m   1293\u001b[0m         \u001b[0mpreds\u001b[0m \u001b[0;34m=\u001b[0m \u001b[0mctypes2numpy\u001b[0m\u001b[0;34m(\u001b[0m\u001b[0mpreds\u001b[0m\u001b[0;34m,\u001b[0m \u001b[0mlength\u001b[0m\u001b[0;34m.\u001b[0m\u001b[0mvalue\u001b[0m\u001b[0;34m,\u001b[0m \u001b[0mnp\u001b[0m\u001b[0;34m.\u001b[0m\u001b[0mfloat32\u001b[0m\u001b[0;34m)\u001b[0m\u001b[0;34m\u001b[0m\u001b[0;34m\u001b[0m\u001b[0m\n\u001b[1;32m   1294\u001b[0m         \u001b[0;32mif\u001b[0m \u001b[0mpred_leaf\u001b[0m\u001b[0;34m:\u001b[0m\u001b[0;34m\u001b[0m\u001b[0;34m\u001b[0m\u001b[0m\n",
      "\u001b[0;31mKeyboardInterrupt\u001b[0m: "
     ]
    }
   ],
   "source": [
    "ensemble2013.fit(x_2013, y_2013)\n",
    "en_pred_val = ensemble2013.predict(x_2013_val)\n",
    "en_mae = MAE(y_2013_val, en_pred_val)\n",
    "print(\"MAE Ensemble: \" + str(en_mae))"
   ]
  },
  {
   "cell_type": "code",
   "execution_count": null,
   "metadata": {},
   "outputs": [],
   "source": [
    "ensemble2014.fit(x_2014, y_2014)\n",
    "en_pred_val = ensemble2014.predict(x_2014_val)\n",
    "en_mae = MAE(y_2014_val, en_pred_val)\n",
    "print(\"MAE Ensemble: \" + str(en_mae))"
   ]
  },
  {
   "cell_type": "code",
   "execution_count": null,
   "metadata": {},
   "outputs": [],
   "source": [
    "ensemble2015.fit(x_2015, y_2015)\n",
    "en_pred_val = ensemble2015.predict(x_2015_val)\n",
    "en_mae = MAE(y_2015_val, en_pred_val)\n",
    "print(\"MAE Ensemble: \" + str(en_mae))"
   ]
  },
  {
   "cell_type": "code",
   "execution_count": null,
   "metadata": {},
   "outputs": [],
   "source": [
    "ensemble2016.fit(x_2016, y_2016)\n",
    "en_pred_val = ensemble2016.predict(x_2016_val)\n",
    "en_mae = MAE(y_2016_val, en_pred_val)\n",
    "print(\"MAE Ensemble: \" + str(en_mae))"
   ]
  },
  {
   "cell_type": "code",
   "execution_count": null,
   "metadata": {},
   "outputs": [],
   "source": [
    "res_2012 = ensemble2012.predict(test_2012)\n",
    "res_2013 = ensemble2013.predict(test_2013)\n",
    "res_2014 = ensemble2014.predict(test_2014)\n",
    "res_2015 = ensemble2015.predict(test_2015)\n",
    "res_2016 = ensemble2016.predict(test_2016)"
   ]
  }
 ],
 "metadata": {
  "kernelspec": {
   "display_name": "Python 3",
   "language": "python",
   "name": "python3"
  },
  "language_info": {
   "codemirror_mode": {
    "name": "ipython",
    "version": 3
   },
   "file_extension": ".py",
   "mimetype": "text/x-python",
   "name": "python",
   "nbconvert_exporter": "python",
   "pygments_lexer": "ipython3",
   "version": "3.6.8"
  }
 },
 "nbformat": 4,
 "nbformat_minor": 2
}
