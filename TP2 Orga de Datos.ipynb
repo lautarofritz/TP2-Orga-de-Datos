{
 "cells": [
  {
   "cell_type": "code",
   "execution_count": 1,
   "metadata": {},
   "outputs": [],
   "source": [
    "import pandas as pd\n",
    "import numpy as np\n",
    "from sklearn import datasets\n",
    "from sklearn.preprocessing import Imputer\n",
    "from sklearn.preprocessing import LabelEncoder\n",
    "from sklearn.model_selection import train_test_split\n",
    "from sklearn.dummy import DummyRegressor\n",
    "from sklearn.linear_model import LinearRegression\n",
    "from sklearn.tree import DecisionTreeRegressor\n",
    "from sklearn.neighbors import KNeighborsRegressor\n",
    "from xgboost import XGBRegressor"
   ]
  },
  {
   "cell_type": "code",
   "execution_count": 2,
   "metadata": {},
   "outputs": [],
   "source": [
    "train = pd.read_csv(r'Escritorio/Orga/train.csv', index_col=0)\n",
    "test = pd.read_csv(r'Escritorio/Orga/test.csv', index_col=0)\n",
    "rta = pd.read_csv(r'Escritorio/Orga/ejemploRespuesta.csv')"
   ]
  },
  {
   "cell_type": "code",
   "execution_count": 3,
   "metadata": {},
   "outputs": [],
   "source": [
    "#metrica\n",
    "def MAE(actual, pred):\n",
    "    return (np.mean(np.absolute(actual - pred)))"
   ]
  },
  {
   "cell_type": "markdown",
   "metadata": {},
   "source": [
    "## Preprocesamiento"
   ]
  },
  {
   "cell_type": "code",
   "execution_count": 4,
   "metadata": {},
   "outputs": [],
   "source": [
    "#habria que hacer otra cosa con los NaNs\n",
    "train = train.fillna(0)\n",
    "test = test.fillna(0)"
   ]
  },
  {
   "cell_type": "markdown",
   "metadata": {},
   "source": [
    "## Agregando algunas Features"
   ]
  },
  {
   "cell_type": "code",
   "execution_count": 5,
   "metadata": {},
   "outputs": [],
   "source": [
    "#hay que agregar los features al test set?\n",
    "train['cant_amenities'] = train['usosmultiples'] + train['piscina'] + train['gimnasio']\n",
    "test['cant_amenities'] = test['usosmultiples'] + test['piscina'] + test['gimnasio']"
   ]
  },
  {
   "cell_type": "code",
   "execution_count": 6,
   "metadata": {},
   "outputs": [],
   "source": [
    "train['luminoso'] = train['descripcion'].str.contains('luminoso', regex=False).astype(bool)\n",
    "test['luminoso'] = test['descripcion'].str.contains('luminoso', regex=False).astype(bool)"
   ]
  },
  {
   "cell_type": "code",
   "execution_count": 7,
   "metadata": {},
   "outputs": [],
   "source": [
    "encoder = LabelEncoder()"
   ]
  },
  {
   "cell_type": "code",
   "execution_count": 8,
   "metadata": {},
   "outputs": [],
   "source": [
    "encode_cols = ['tipodepropiedad', 'provincia', 'idzona', 'ciudad']"
   ]
  },
  {
   "cell_type": "code",
   "execution_count": 9,
   "metadata": {},
   "outputs": [],
   "source": [
    "train[encode_cols] = train[encode_cols].astype(str)\n",
    "test[encode_cols] = test[encode_cols].astype(str)"
   ]
  },
  {
   "cell_type": "code",
   "execution_count": 10,
   "metadata": {},
   "outputs": [],
   "source": [
    "encoded_train = train[encode_cols].apply(encoder.fit_transform)\n",
    "encoded_test = test[encode_cols].apply(encoder.fit_transform)"
   ]
  },
  {
   "cell_type": "code",
   "execution_count": 11,
   "metadata": {},
   "outputs": [
    {
     "data": {
      "text/html": [
       "<div>\n",
       "<style scoped>\n",
       "    .dataframe tbody tr th:only-of-type {\n",
       "        vertical-align: middle;\n",
       "    }\n",
       "\n",
       "    .dataframe tbody tr th {\n",
       "        vertical-align: top;\n",
       "    }\n",
       "\n",
       "    .dataframe thead th {\n",
       "        text-align: right;\n",
       "    }\n",
       "</style>\n",
       "<table border=\"1\" class=\"dataframe\">\n",
       "  <thead>\n",
       "    <tr style=\"text-align: right;\">\n",
       "      <th></th>\n",
       "      <th>tipo_encode</th>\n",
       "      <th>prov_encode</th>\n",
       "      <th>idzona_encode</th>\n",
       "      <th>ciudad_encode</th>\n",
       "    </tr>\n",
       "    <tr>\n",
       "      <th>id</th>\n",
       "      <th></th>\n",
       "      <th></th>\n",
       "      <th></th>\n",
       "      <th></th>\n",
       "    </tr>\n",
       "  </thead>\n",
       "  <tbody>\n",
       "    <tr>\n",
       "      <td>254099</td>\n",
       "      <td>1</td>\n",
       "      <td>9</td>\n",
       "      <td>4123</td>\n",
       "      <td>94</td>\n",
       "    </tr>\n",
       "    <tr>\n",
       "      <td>53461</td>\n",
       "      <td>4</td>\n",
       "      <td>9</td>\n",
       "      <td>4812</td>\n",
       "      <td>371</td>\n",
       "    </tr>\n",
       "    <tr>\n",
       "      <td>247984</td>\n",
       "      <td>3</td>\n",
       "      <td>15</td>\n",
       "      <td>9127</td>\n",
       "      <td>768</td>\n",
       "    </tr>\n",
       "    <tr>\n",
       "      <td>209067</td>\n",
       "      <td>3</td>\n",
       "      <td>11</td>\n",
       "      <td>10265</td>\n",
       "      <td>862</td>\n",
       "    </tr>\n",
       "    <tr>\n",
       "      <td>185997</td>\n",
       "      <td>1</td>\n",
       "      <td>15</td>\n",
       "      <td>8721</td>\n",
       "      <td>852</td>\n",
       "    </tr>\n",
       "    <tr>\n",
       "      <td>...</td>\n",
       "      <td>...</td>\n",
       "      <td>...</td>\n",
       "      <td>...</td>\n",
       "      <td>...</td>\n",
       "    </tr>\n",
       "    <tr>\n",
       "      <td>119879</td>\n",
       "      <td>3</td>\n",
       "      <td>11</td>\n",
       "      <td>10265</td>\n",
       "      <td>862</td>\n",
       "    </tr>\n",
       "    <tr>\n",
       "      <td>259178</td>\n",
       "      <td>3</td>\n",
       "      <td>11</td>\n",
       "      <td>10026</td>\n",
       "      <td>767</td>\n",
       "    </tr>\n",
       "    <tr>\n",
       "      <td>131932</td>\n",
       "      <td>1</td>\n",
       "      <td>9</td>\n",
       "      <td>9754</td>\n",
       "      <td>94</td>\n",
       "    </tr>\n",
       "    <tr>\n",
       "      <td>146867</td>\n",
       "      <td>3</td>\n",
       "      <td>9</td>\n",
       "      <td>4572</td>\n",
       "      <td>334</td>\n",
       "    </tr>\n",
       "    <tr>\n",
       "      <td>121958</td>\n",
       "      <td>1</td>\n",
       "      <td>9</td>\n",
       "      <td>4301</td>\n",
       "      <td>207</td>\n",
       "    </tr>\n",
       "  </tbody>\n",
       "</table>\n",
       "<p>240000 rows × 4 columns</p>\n",
       "</div>"
      ],
      "text/plain": [
       "        tipo_encode  prov_encode  idzona_encode  ciudad_encode\n",
       "id                                                            \n",
       "254099            1            9           4123             94\n",
       "53461             4            9           4812            371\n",
       "247984            3           15           9127            768\n",
       "209067            3           11          10265            862\n",
       "185997            1           15           8721            852\n",
       "...             ...          ...            ...            ...\n",
       "119879            3           11          10265            862\n",
       "259178            3           11          10026            767\n",
       "131932            1            9           9754             94\n",
       "146867            3            9           4572            334\n",
       "121958            1            9           4301            207\n",
       "\n",
       "[240000 rows x 4 columns]"
      ]
     },
     "execution_count": 11,
     "metadata": {},
     "output_type": "execute_result"
    }
   ],
   "source": [
    "encoded_train['tipo_encode'] = encoded_train['tipodepropiedad']\n",
    "encoded_train['prov_encode'] = encoded_train['provincia']\n",
    "encoded_train['idzona_encode'] = encoded_train['idzona']\n",
    "encoded_train['ciudad_encode'] = encoded_train['ciudad']\n",
    "del encoded_train['tipodepropiedad']\n",
    "del encoded_train['provincia']\n",
    "del encoded_train['idzona']\n",
    "del encoded_train['ciudad']\n",
    "encoded_train"
   ]
  },
  {
   "cell_type": "code",
   "execution_count": 12,
   "metadata": {},
   "outputs": [
    {
     "data": {
      "text/html": [
       "<div>\n",
       "<style scoped>\n",
       "    .dataframe tbody tr th:only-of-type {\n",
       "        vertical-align: middle;\n",
       "    }\n",
       "\n",
       "    .dataframe tbody tr th {\n",
       "        vertical-align: top;\n",
       "    }\n",
       "\n",
       "    .dataframe thead th {\n",
       "        text-align: right;\n",
       "    }\n",
       "</style>\n",
       "<table border=\"1\" class=\"dataframe\">\n",
       "  <thead>\n",
       "    <tr style=\"text-align: right;\">\n",
       "      <th></th>\n",
       "      <th>tipo_encode</th>\n",
       "      <th>prov_encode</th>\n",
       "      <th>idzona_encode</th>\n",
       "      <th>ciudad_encode</th>\n",
       "    </tr>\n",
       "    <tr>\n",
       "      <th>id</th>\n",
       "      <th></th>\n",
       "      <th></th>\n",
       "      <th></th>\n",
       "      <th></th>\n",
       "    </tr>\n",
       "  </thead>\n",
       "  <tbody>\n",
       "    <tr>\n",
       "      <td>4941</td>\n",
       "      <td>3</td>\n",
       "      <td>9</td>\n",
       "      <td>0</td>\n",
       "      <td>284</td>\n",
       "    </tr>\n",
       "    <tr>\n",
       "      <td>51775</td>\n",
       "      <td>1</td>\n",
       "      <td>31</td>\n",
       "      <td>673</td>\n",
       "      <td>299</td>\n",
       "    </tr>\n",
       "    <tr>\n",
       "      <td>115253</td>\n",
       "      <td>1</td>\n",
       "      <td>9</td>\n",
       "      <td>2166</td>\n",
       "      <td>138</td>\n",
       "    </tr>\n",
       "    <tr>\n",
       "      <td>299321</td>\n",
       "      <td>1</td>\n",
       "      <td>13</td>\n",
       "      <td>1444</td>\n",
       "      <td>6</td>\n",
       "    </tr>\n",
       "    <tr>\n",
       "      <td>173570</td>\n",
       "      <td>3</td>\n",
       "      <td>11</td>\n",
       "      <td>6673</td>\n",
       "      <td>517</td>\n",
       "    </tr>\n",
       "    <tr>\n",
       "      <td>...</td>\n",
       "      <td>...</td>\n",
       "      <td>...</td>\n",
       "      <td>...</td>\n",
       "      <td>...</td>\n",
       "    </tr>\n",
       "    <tr>\n",
       "      <td>75094</td>\n",
       "      <td>3</td>\n",
       "      <td>9</td>\n",
       "      <td>3355</td>\n",
       "      <td>532</td>\n",
       "    </tr>\n",
       "    <tr>\n",
       "      <td>171847</td>\n",
       "      <td>3</td>\n",
       "      <td>11</td>\n",
       "      <td>6787</td>\n",
       "      <td>162</td>\n",
       "    </tr>\n",
       "    <tr>\n",
       "      <td>138313</td>\n",
       "      <td>3</td>\n",
       "      <td>19</td>\n",
       "      <td>8905</td>\n",
       "      <td>188</td>\n",
       "    </tr>\n",
       "    <tr>\n",
       "      <td>271268</td>\n",
       "      <td>3</td>\n",
       "      <td>22</td>\n",
       "      <td>9859</td>\n",
       "      <td>352</td>\n",
       "    </tr>\n",
       "    <tr>\n",
       "      <td>72612</td>\n",
       "      <td>3</td>\n",
       "      <td>15</td>\n",
       "      <td>4857</td>\n",
       "      <td>564</td>\n",
       "    </tr>\n",
       "  </tbody>\n",
       "</table>\n",
       "<p>60000 rows × 4 columns</p>\n",
       "</div>"
      ],
      "text/plain": [
       "        tipo_encode  prov_encode  idzona_encode  ciudad_encode\n",
       "id                                                            \n",
       "4941              3            9              0            284\n",
       "51775             1           31            673            299\n",
       "115253            1            9           2166            138\n",
       "299321            1           13           1444              6\n",
       "173570            3           11           6673            517\n",
       "...             ...          ...            ...            ...\n",
       "75094             3            9           3355            532\n",
       "171847            3           11           6787            162\n",
       "138313            3           19           8905            188\n",
       "271268            3           22           9859            352\n",
       "72612             3           15           4857            564\n",
       "\n",
       "[60000 rows x 4 columns]"
      ]
     },
     "execution_count": 12,
     "metadata": {},
     "output_type": "execute_result"
    }
   ],
   "source": [
    "encoded_test['tipo_encode'] = encoded_test['tipodepropiedad']\n",
    "encoded_test['prov_encode'] = encoded_test['provincia']\n",
    "encoded_test['idzona_encode'] = encoded_test['idzona']\n",
    "encoded_test['ciudad_encode'] = encoded_test['ciudad']\n",
    "del encoded_test['tipodepropiedad']\n",
    "del encoded_test['provincia']\n",
    "del encoded_test['idzona']\n",
    "del encoded_test['ciudad']\n",
    "encoded_test"
   ]
  },
  {
   "cell_type": "code",
   "execution_count": 13,
   "metadata": {},
   "outputs": [],
   "source": [
    "train_final = train.join(encoded_train)\n",
    "test_final = test.join(encoded_test)"
   ]
  },
  {
   "cell_type": "code",
   "execution_count": 18,
   "metadata": {},
   "outputs": [
    {
     "name": "stdout",
     "output_type": "stream",
     "text": [
      "Train shapes: X=(180000, 19) y=(180000,)\n",
      "Validation shapes: X=(60000, 19)  y=(60000,)\n",
      "Test shape: (60000, 19)\n"
     ]
    }
   ],
   "source": [
    "drop_cols = ['fecha', 'ciudad', 'idzona', 'tipodepropiedad', 'provincia', 'titulo', 'descripcion', 'direccion']\n",
    "X = train_final.drop(['precio'] + drop_cols, axis=1)\n",
    "y = train_final['precio']\n",
    "X_train, X_val, y_train, y_val = train_test_split(X, y, test_size=0.25, random_state=1)\n",
    "test_final = test_final.drop(drop_cols, axis=1)\n",
    "print(f\"Train shapes: X={X_train.shape} y={y_train.shape}\")\n",
    "print(f\"Validation shapes: X={X_val.shape}  y={y_val.shape}\")\n",
    "print(f\"Test shape: {test_final.shape}\")"
   ]
  },
  {
   "cell_type": "markdown",
   "metadata": {},
   "source": [
    "## KNN "
   ]
  },
  {
   "cell_type": "code",
   "execution_count": 19,
   "metadata": {},
   "outputs": [
    {
     "data": {
      "text/plain": [
       "KNeighborsRegressor(algorithm='auto', leaf_size=30, metric='minkowski',\n",
       "                    metric_params=None, n_jobs=None, n_neighbors=12, p=2,\n",
       "                    weights='uniform')"
      ]
     },
     "execution_count": 19,
     "metadata": {},
     "output_type": "execute_result"
    }
   ],
   "source": [
    "neigh = KNeighborsRegressor(n_neighbors=12)\n",
    "neigh.fit(X_train, y_train) "
   ]
  },
  {
   "cell_type": "code",
   "execution_count": 20,
   "metadata": {},
   "outputs": [],
   "source": [
    "KNN_pred_val = neigh.predict(X_val)"
   ]
  },
  {
   "cell_type": "code",
   "execution_count": 21,
   "metadata": {},
   "outputs": [
    {
     "name": "stdout",
     "output_type": "stream",
     "text": [
      "MAE KNN: 749231.93077\n"
     ]
    }
   ],
   "source": [
    "KNN_mae = MAE(y_val, pred)\n",
    "print(f\"MAE KNN: {KNN_mae:.5f}\")"
   ]
  },
  {
   "cell_type": "code",
   "execution_count": 23,
   "metadata": {},
   "outputs": [],
   "source": [
    "KNN_pred_test = neigh.predict(test_final)"
   ]
  },
  {
   "cell_type": "code",
   "execution_count": 24,
   "metadata": {},
   "outputs": [
    {
     "data": {
      "text/html": [
       "<div>\n",
       "<style scoped>\n",
       "    .dataframe tbody tr th:only-of-type {\n",
       "        vertical-align: middle;\n",
       "    }\n",
       "\n",
       "    .dataframe tbody tr th {\n",
       "        vertical-align: top;\n",
       "    }\n",
       "\n",
       "    .dataframe thead th {\n",
       "        text-align: right;\n",
       "    }\n",
       "</style>\n",
       "<table border=\"1\" class=\"dataframe\">\n",
       "  <thead>\n",
       "    <tr style=\"text-align: right;\">\n",
       "      <th></th>\n",
       "      <th>target</th>\n",
       "    </tr>\n",
       "    <tr>\n",
       "      <th>id</th>\n",
       "      <th></th>\n",
       "    </tr>\n",
       "  </thead>\n",
       "  <tbody>\n",
       "    <tr>\n",
       "      <td>4941</td>\n",
       "      <td>3.771234e+06</td>\n",
       "    </tr>\n",
       "    <tr>\n",
       "      <td>51775</td>\n",
       "      <td>5.448333e+05</td>\n",
       "    </tr>\n",
       "    <tr>\n",
       "      <td>115253</td>\n",
       "      <td>1.145408e+06</td>\n",
       "    </tr>\n",
       "    <tr>\n",
       "      <td>299321</td>\n",
       "      <td>8.852073e+05</td>\n",
       "    </tr>\n",
       "    <tr>\n",
       "      <td>173570</td>\n",
       "      <td>6.623333e+05</td>\n",
       "    </tr>\n",
       "  </tbody>\n",
       "</table>\n",
       "</div>"
      ],
      "text/plain": [
       "              target\n",
       "id                  \n",
       "4941    3.771234e+06\n",
       "51775   5.448333e+05\n",
       "115253  1.145408e+06\n",
       "299321  8.852073e+05\n",
       "173570  6.623333e+05"
      ]
     },
     "metadata": {},
     "output_type": "display_data"
    }
   ],
   "source": [
    "res = pd.DataFrame(KNN_pred_test, index=test.index, columns=['precio'])\n",
    "res = res.rename(columns={'precio':'target'})\n",
    "display(res.head())\n",
    "res.to_csv(\"workshop-submission-KNN.csv\", header=True)"
   ]
  },
  {
   "cell_type": "markdown",
   "metadata": {},
   "source": [
    "## XGBoost"
   ]
  },
  {
   "cell_type": "code",
   "execution_count": 25,
   "metadata": {},
   "outputs": [
    {
     "name": "stderr",
     "output_type": "stream",
     "text": [
      "/home/lautaro/.local/lib/python3.6/site-packages/xgboost/core.py:587: FutureWarning: Series.base is deprecated and will be removed in a future version\n",
      "  if getattr(data, 'base', None) is not None and \\\n"
     ]
    },
    {
     "data": {
      "text/plain": [
       "XGBRegressor(base_score=0.5, booster='gbtree', colsample_bylevel=1,\n",
       "             colsample_bynode=1, colsample_bytree=0.4, gamma=0,\n",
       "             importance_type='gain', learning_rate=0.07, max_delta_step=0,\n",
       "             max_depth=3, min_child_weight=1.5, missing=None,\n",
       "             n_estimators=10000, n_jobs=1, nthread=None,\n",
       "             objective='reg:squarederror', random_state=0, reg_alpha=0.75,\n",
       "             reg_lambda=0.45, scale_pos_weight=1, seed=42, silent=None,\n",
       "             subsample=0.6, verbosity=1)"
      ]
     },
     "execution_count": 25,
     "metadata": {},
     "output_type": "execute_result"
    }
   ],
   "source": [
    "#tome los hiperparametros de una pagina cualquiera\n",
    "best_xgb_model = XGBRegressor(colsample_bytree=0.4,\n",
    "                 gamma=0,                 \n",
    "                 learning_rate=0.07,\n",
    "                 max_depth=3,\n",
    "                 min_child_weight=1.5,\n",
    "                 n_estimators=10000,                                                                    \n",
    "                 reg_alpha=0.75,\n",
    "                 reg_lambda=0.45,\n",
    "                 subsample=0.6,\n",
    "                 seed=42,\n",
    "                 objective ='reg:squarederror')\n",
    "best_xgb_model.fit(X_train,y_train)"
   ]
  },
  {
   "cell_type": "code",
   "execution_count": 30,
   "metadata": {},
   "outputs": [],
   "source": [
    "XGB_pred_val = best_xgb_model.predict(X_val)"
   ]
  },
  {
   "cell_type": "code",
   "execution_count": 31,
   "metadata": {},
   "outputs": [
    {
     "name": "stdout",
     "output_type": "stream",
     "text": [
      "MAE XGB: 606487.27956\n"
     ]
    }
   ],
   "source": [
    "XGB_mae = MAE(y_val, XGB_pred_val)\n",
    "print(f\"MAE XGB: {XGB_mae:.5f}\")"
   ]
  },
  {
   "cell_type": "code",
   "execution_count": 32,
   "metadata": {},
   "outputs": [],
   "source": [
    "XGB_pred_test = best_xgb_model.predict(test_final)"
   ]
  },
  {
   "cell_type": "code",
   "execution_count": 33,
   "metadata": {},
   "outputs": [
    {
     "data": {
      "text/html": [
       "<div>\n",
       "<style scoped>\n",
       "    .dataframe tbody tr th:only-of-type {\n",
       "        vertical-align: middle;\n",
       "    }\n",
       "\n",
       "    .dataframe tbody tr th {\n",
       "        vertical-align: top;\n",
       "    }\n",
       "\n",
       "    .dataframe thead th {\n",
       "        text-align: right;\n",
       "    }\n",
       "</style>\n",
       "<table border=\"1\" class=\"dataframe\">\n",
       "  <thead>\n",
       "    <tr style=\"text-align: right;\">\n",
       "      <th></th>\n",
       "      <th>target</th>\n",
       "    </tr>\n",
       "    <tr>\n",
       "      <th>id</th>\n",
       "      <th></th>\n",
       "    </tr>\n",
       "  </thead>\n",
       "  <tbody>\n",
       "    <tr>\n",
       "      <td>4941</td>\n",
       "      <td>6.163901e+06</td>\n",
       "    </tr>\n",
       "    <tr>\n",
       "      <td>51775</td>\n",
       "      <td>1.002955e+06</td>\n",
       "    </tr>\n",
       "    <tr>\n",
       "      <td>115253</td>\n",
       "      <td>2.177441e+06</td>\n",
       "    </tr>\n",
       "    <tr>\n",
       "      <td>299321</td>\n",
       "      <td>1.683117e+06</td>\n",
       "    </tr>\n",
       "    <tr>\n",
       "      <td>173570</td>\n",
       "      <td>8.430522e+05</td>\n",
       "    </tr>\n",
       "  </tbody>\n",
       "</table>\n",
       "</div>"
      ],
      "text/plain": [
       "              target\n",
       "id                  \n",
       "4941    6.163901e+06\n",
       "51775   1.002955e+06\n",
       "115253  2.177441e+06\n",
       "299321  1.683117e+06\n",
       "173570  8.430522e+05"
      ]
     },
     "metadata": {},
     "output_type": "display_data"
    }
   ],
   "source": [
    "res = pd.DataFrame(XGB_pred_test, index=test.index, columns=['precio'])\n",
    "res = res.rename(columns={'precio':'target'})\n",
    "display(res.head())\n",
    "res.to_csv(\"workshop-submission-XGB.csv\", header=True)"
   ]
  },
  {
   "cell_type": "code",
   "execution_count": null,
   "metadata": {},
   "outputs": [],
   "source": [
    "#a partir de aca no le den bola, copie y pegue cosas del notebook de Navent"
   ]
  },
  {
   "cell_type": "markdown",
   "metadata": {},
   "source": [
    "## DummyRegressor"
   ]
  },
  {
   "cell_type": "code",
   "execution_count": 4,
   "metadata": {},
   "outputs": [],
   "source": [
    "drop_cols = ['fecha', 'ciudad', 'idzona', 'tipodepropiedad', 'provincia', 'titulo', 'descripcion', 'direccion']\n",
    "X = train.drop(['precio'] + drop_cols, axis=1)\n",
    "y = train['precio']\n",
    "X_train, X_test, y_train, y_test = train_test_split(X, y, test_size=0.25, random_state=1)"
   ]
  },
  {
   "cell_type": "code",
   "execution_count": 12,
   "metadata": {},
   "outputs": [],
   "source": [
    "dummy = DummyRegressor(strategy='mean').fit(X_train, y_train)\n",
    "pred = dummy.predict(X_test)"
   ]
  },
  {
   "cell_type": "code",
   "execution_count": 13,
   "metadata": {},
   "outputs": [
    {
     "name": "stdout",
     "output_type": "stream",
     "text": [
      "Promedio de precios del train set: 2536913.142061111\n",
      "Primeras 3 predicciones: [2536913.14206111 2536913.14206111 2536913.14206111]\n"
     ]
    }
   ],
   "source": [
    "print(f\"Promedio de precios del train set: {y_train.mean()}\")\n",
    "print(f\"Primeras 3 predicciones: {pred[:3]}\")"
   ]
  },
  {
   "cell_type": "code",
   "execution_count": 16,
   "metadata": {},
   "outputs": [
    {
     "name": "stdout",
     "output_type": "stream",
     "text": [
      "MAE DummyRegressor: 1602549.96274\n"
     ]
    }
   ],
   "source": [
    "dummy_mae = MAE(y_test, pred)\n",
    "print(f\"MAE DummyRegressor: {dummy_mae:.5f}\")"
   ]
  },
  {
   "cell_type": "markdown",
   "metadata": {},
   "source": [
    "## Regresión Lineal"
   ]
  },
  {
   "cell_type": "code",
   "execution_count": 4,
   "metadata": {},
   "outputs": [
    {
     "name": "stdout",
     "output_type": "stream",
     "text": [
      "Train shapes: X=(180000, 1) y=(180000,)\n",
      "Test  shapes: X=(60000, 1)  y=(60000,)\n"
     ]
    }
   ],
   "source": [
    "X = train[['metroscubiertos']]\n",
    "y = train['precio']\n",
    "X_train, X_test, y_train, y_test = train_test_split(X, y, test_size=0.25, random_state=1)\n",
    "print(f\"Train shapes: X={X_train.shape} y={y_train.shape}\")\n",
    "print(f\"Test  shapes: X={X_test.shape}  y={y_test.shape}\")"
   ]
  },
  {
   "cell_type": "code",
   "execution_count": 12,
   "metadata": {},
   "outputs": [
    {
     "name": "stderr",
     "output_type": "stream",
     "text": [
      "/home/lautaro/.local/lib/python3.6/site-packages/sklearn/utils/deprecation.py:66: DeprecationWarning: Class Imputer is deprecated; Imputer was deprecated in version 0.20 and will be removed in 0.22. Import impute.SimpleImputer from sklearn instead.\n",
      "  warnings.warn(msg, category=DeprecationWarning)\n",
      "/usr/lib/python3/dist-packages/ipykernel_launcher.py:2: SettingWithCopyWarning: \n",
      "A value is trying to be set on a copy of a slice from a DataFrame.\n",
      "Try using .loc[row_indexer,col_indexer] = value instead\n",
      "\n",
      "See the caveats in the documentation: http://pandas.pydata.org/pandas-docs/stable/user_guide/indexing.html#returning-a-view-versus-a-copy\n",
      "  \n",
      "/usr/lib/python3/dist-packages/ipykernel_launcher.py:3: SettingWithCopyWarning: \n",
      "A value is trying to be set on a copy of a slice from a DataFrame.\n",
      "Try using .loc[row_indexer,col_indexer] = value instead\n",
      "\n",
      "See the caveats in the documentation: http://pandas.pydata.org/pandas-docs/stable/user_guide/indexing.html#returning-a-view-versus-a-copy\n",
      "  This is separate from the ipykernel package so we can avoid doing imports until\n"
     ]
    }
   ],
   "source": [
    "imp = Imputer()\n",
    "X_train['metroscubiertos'] = imp.fit_transform(X_train[['metroscubiertos']])\n",
    "X_test['metroscubiertos'] = imp.transform(X_test[['metroscubiertos']])"
   ]
  },
  {
   "cell_type": "code",
   "execution_count": 23,
   "metadata": {},
   "outputs": [],
   "source": [
    "linear_model = LinearRegression().fit(X_train, y_train)\n",
    "pred = linear_model.predict(X_test)"
   ]
  },
  {
   "cell_type": "code",
   "execution_count": 24,
   "metadata": {},
   "outputs": [
    {
     "name": "stdout",
     "output_type": "stream",
     "text": [
      "MAE Linear: 1191167.10603\n"
     ]
    }
   ],
   "source": [
    "linear_mae = MAE(y_test, pred)\n",
    "print(f\"MAE Linear: {linear_mae:.5f}\")"
   ]
  },
  {
   "cell_type": "code",
   "execution_count": null,
   "metadata": {},
   "outputs": [],
   "source": [
    "-------------------------------------------------------------------------------------------------------------------------"
   ]
  },
  {
   "cell_type": "code",
   "execution_count": 50,
   "metadata": {},
   "outputs": [
    {
     "name": "stderr",
     "output_type": "stream",
     "text": [
      "/home/lautaro/.local/lib/python3.6/site-packages/sklearn/utils/deprecation.py:66: DeprecationWarning: Class Imputer is deprecated; Imputer was deprecated in version 0.20 and will be removed in 0.22. Import impute.SimpleImputer from sklearn instead.\n",
      "  warnings.warn(msg, category=DeprecationWarning)\n"
     ]
    },
    {
     "data": {
      "text/html": [
       "<div>\n",
       "<style scoped>\n",
       "    .dataframe tbody tr th:only-of-type {\n",
       "        vertical-align: middle;\n",
       "    }\n",
       "\n",
       "    .dataframe tbody tr th {\n",
       "        vertical-align: top;\n",
       "    }\n",
       "\n",
       "    .dataframe thead th {\n",
       "        text-align: right;\n",
       "    }\n",
       "</style>\n",
       "<table border=\"1\" class=\"dataframe\">\n",
       "  <thead>\n",
       "    <tr style=\"text-align: right;\">\n",
       "      <th></th>\n",
       "      <th>target</th>\n",
       "    </tr>\n",
       "    <tr>\n",
       "      <th>id</th>\n",
       "      <th></th>\n",
       "    </tr>\n",
       "  </thead>\n",
       "  <tbody>\n",
       "    <tr>\n",
       "      <td>4941</td>\n",
       "      <td>4.200756e+06</td>\n",
       "    </tr>\n",
       "    <tr>\n",
       "      <td>51775</td>\n",
       "      <td>1.112322e+06</td>\n",
       "    </tr>\n",
       "    <tr>\n",
       "      <td>115253</td>\n",
       "      <td>1.377424e+06</td>\n",
       "    </tr>\n",
       "    <tr>\n",
       "      <td>299321</td>\n",
       "      <td>1.364169e+06</td>\n",
       "    </tr>\n",
       "    <tr>\n",
       "      <td>173570</td>\n",
       "      <td>1.284638e+06</td>\n",
       "    </tr>\n",
       "  </tbody>\n",
       "</table>\n",
       "</div>"
      ],
      "text/plain": [
       "              target\n",
       "id                  \n",
       "4941    4.200756e+06\n",
       "51775   1.112322e+06\n",
       "115253  1.377424e+06\n",
       "299321  1.364169e+06\n",
       "173570  1.284638e+06"
      ]
     },
     "metadata": {},
     "output_type": "display_data"
    }
   ],
   "source": [
    "# Imputamos los NaNs\n",
    "imp = Imputer()\n",
    "train['metroscubiertos'] = imp.fit_transform(train[['metroscubiertos']])\n",
    "test['metroscubiertos'] = imp.transform(test[['metroscubiertos']])\n",
    "\n",
    "linear_pred = LinearRegression()\\\n",
    "                    .fit(train[['metroscubiertos']], train['precio'])\\\n",
    "                    .predict(test[['metroscubiertos']])\n",
    "\n",
    "res = pd.DataFrame(linear_pred, index=test.index, columns=['precio'])\n",
    "res = res.rename(columns={'precio':'target'})\n",
    "display(res.head())\n",
    "res.to_csv(\"workshop-submission-linear.csv\", header=True) # RMSLE=0.65487"
   ]
  }
 ],
 "metadata": {
  "kernelspec": {
   "display_name": "Python 3",
   "language": "python",
   "name": "python3"
  },
  "language_info": {
   "codemirror_mode": {
    "name": "ipython",
    "version": 3
   },
   "file_extension": ".py",
   "mimetype": "text/x-python",
   "name": "python",
   "nbconvert_exporter": "python",
   "pygments_lexer": "ipython3",
   "version": "3.6.8"
  }
 },
 "nbformat": 4,
 "nbformat_minor": 2
}
