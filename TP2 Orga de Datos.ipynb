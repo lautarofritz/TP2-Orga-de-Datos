{
 "cells": [
  {
   "cell_type": "code",
   "execution_count": 91,
   "metadata": {},
   "outputs": [],
   "source": [
    "import pandas as pd\n",
    "import numpy as np\n",
    "import matplotlib as plt\n",
    "from sklearn import datasets\n",
    "from sklearn.preprocessing import LabelEncoder\n",
    "from sklearn.model_selection import train_test_split\n",
    "from sklearn.neighbors import KNeighborsRegressor\n",
    "from xgboost import XGBRegressor\n",
    "from sklearn.model_selection import GridSearchCV\n",
    "from sklearn.model_selection import RandomizedSearchCV\n",
    "from bayes_opt import BayesianOptimization\n",
    "import category_encoders as ce\n",
    "from sklearn.ensemble import VotingRegressor\n",
    "from sklearn.ensemble import RandomForestRegressor"
   ]
  },
  {
   "cell_type": "code",
   "execution_count": 92,
   "metadata": {},
   "outputs": [],
   "source": [
    "train = pd.read_csv(r'train.csv', index_col=0)\n",
    "test = pd.read_csv(r'test.csv', index_col=0)"
   ]
  },
  {
   "cell_type": "code",
   "execution_count": 93,
   "metadata": {},
   "outputs": [],
   "source": [
    "#metrica\n",
    "def MAE(actual, pred):\n",
    "    return (np.mean(np.absolute(actual - pred)))"
   ]
  },
  {
   "cell_type": "markdown",
   "metadata": {},
   "source": [
    "## Preprocesamiento"
   ]
  },
  {
   "cell_type": "code",
   "execution_count": 94,
   "metadata": {},
   "outputs": [
    {
     "data": {
      "text/plain": [
       "titulo                          5387\n",
       "descripcion                     1619\n",
       "tipodepropiedad                   46\n",
       "direccion                      53072\n",
       "ciudad                           372\n",
       "provincia                        155\n",
       "antiguedad                     43555\n",
       "habitaciones                   22471\n",
       "garages                        37765\n",
       "banos                          26221\n",
       "metroscubiertos                17400\n",
       "metrostotales                  51467\n",
       "idzona                         28621\n",
       "lat                           123488\n",
       "lng                           123488\n",
       "fecha                              0\n",
       "gimnasio                           0\n",
       "usosmultiples                      0\n",
       "piscina                            0\n",
       "escuelascercanas                   0\n",
       "centroscomercialescercanos         0\n",
       "precio                             0\n",
       "dtype: int64"
      ]
     },
     "execution_count": 94,
     "metadata": {},
     "output_type": "execute_result"
    }
   ],
   "source": [
    "train.isnull().sum()"
   ]
  },
  {
   "cell_type": "code",
   "execution_count": 95,
   "metadata": {},
   "outputs": [
    {
     "data": {
      "text/plain": [
       "titulo                         1378\n",
       "descripcion                     401\n",
       "tipodepropiedad                   7\n",
       "direccion                     13191\n",
       "ciudad                           83\n",
       "provincia                        42\n",
       "antiguedad                    10714\n",
       "habitaciones                   5628\n",
       "garages                        9323\n",
       "banos                          6554\n",
       "metroscubiertos                4299\n",
       "metrostotales                 12655\n",
       "idzona                         7179\n",
       "lat                           30695\n",
       "lng                           30695\n",
       "fecha                             0\n",
       "gimnasio                          0\n",
       "usosmultiples                     0\n",
       "piscina                           0\n",
       "escuelascercanas                  0\n",
       "centroscomercialescercanos        0\n",
       "dtype: int64"
      ]
     },
     "execution_count": 95,
     "metadata": {},
     "output_type": "execute_result"
    }
   ],
   "source": [
    "test.isnull().sum()"
   ]
  },
  {
   "cell_type": "code",
   "execution_count": 96,
   "metadata": {},
   "outputs": [],
   "source": [
    "train['provincia'] = train['provincia'].fillna('Distrito Federal') #valor mas frecuente\n",
    "test['provincia'] = test['provincia'].fillna('Distrito Federal')\n",
    "train['tipodepropiedad'] = train['tipodepropiedad'].fillna('Casa') #valor mas frecuente\n",
    "test['tipodepropiedad'] = test['tipodepropiedad'].fillna('Casa')\n",
    "\n",
    "train['descripcion'] = train['descripcion'].fillna('-')\n",
    "test['descripcion'] = test['descripcion'].fillna('-')\n",
    "\n",
    "train = train.fillna(0)\n",
    "test = test.fillna(0)"
   ]
  },
  {
   "cell_type": "code",
   "execution_count": 97,
   "metadata": {},
   "outputs": [
    {
     "name": "stdout",
     "output_type": "stream",
     "text": [
      "(240000, 22)\n",
      "(60000, 21)\n"
     ]
    }
   ],
   "source": [
    "print(train.shape)\n",
    "print(test.shape)"
   ]
  },
  {
   "cell_type": "markdown",
   "metadata": {},
   "source": [
    "## Feature Engineering"
   ]
  },
  {
   "cell_type": "markdown",
   "metadata": {},
   "source": [
    "### One Hot Encoding"
   ]
  },
  {
   "cell_type": "code",
   "execution_count": 98,
   "metadata": {},
   "outputs": [],
   "source": [
    "one_hot_enc = ce.OneHotEncoder()\n",
    "one_hot_encoded = one_hot_enc.fit_transform(train['provincia'])\n",
    "train = train.join(one_hot_encoded)\n",
    "del train['provincia']\n",
    "\n",
    "one_hot_encoded = one_hot_enc.transform(test['provincia'])\n",
    "test = test.join(one_hot_encoded)\n",
    "del test['provincia']"
   ]
  },
  {
   "cell_type": "code",
   "execution_count": 99,
   "metadata": {},
   "outputs": [],
   "source": [
    "one_hot_enc = ce.OneHotEncoder()\n",
    "one_hot_encoded = one_hot_enc.fit_transform(train['tipodepropiedad'])\n",
    "train = train.join(one_hot_encoded)\n",
    "del train['tipodepropiedad']\n",
    "\n",
    "one_hot_encoded = one_hot_enc.transform(test['tipodepropiedad'])\n",
    "test = test.join(one_hot_encoded)\n",
    "del test['tipodepropiedad']"
   ]
  },
  {
   "cell_type": "markdown",
   "metadata": {},
   "source": [
    "### Target Encoding"
   ]
  },
  {
   "cell_type": "code",
   "execution_count": 100,
   "metadata": {},
   "outputs": [
    {
     "name": "stdout",
     "output_type": "stream",
     "text": [
      "(240000, 76)\n",
      "(60000, 75)\n"
     ]
    }
   ],
   "source": [
    "print(train.shape)\n",
    "print(test.shape)"
   ]
  },
  {
   "cell_type": "code",
   "execution_count": 101,
   "metadata": {},
   "outputs": [],
   "source": [
    "X = train.drop('precio', axis = 1)\n",
    "y = train['precio']\n",
    "target_enc = ce.TargetEncoder(cols=['idzona', 'ciudad'])\n",
    "train = target_enc.fit_transform(X, y)\n",
    "train['precio'] = y"
   ]
  },
  {
   "cell_type": "code",
   "execution_count": 102,
   "metadata": {},
   "outputs": [],
   "source": [
    "test = target_enc.transform(test)"
   ]
  },
  {
   "cell_type": "code",
   "execution_count": 103,
   "metadata": {},
   "outputs": [
    {
     "name": "stdout",
     "output_type": "stream",
     "text": [
      "(240000, 76)\n",
      "(60000, 75)\n"
     ]
    }
   ],
   "source": [
    "print(train.shape)\n",
    "print(test.shape)"
   ]
  },
  {
   "cell_type": "markdown",
   "metadata": {},
   "source": [
    "### Agregando Features"
   ]
  },
  {
   "cell_type": "markdown",
   "metadata": {},
   "source": [
    "#### Avenida"
   ]
  },
  {
   "cell_type": "code",
   "execution_count": 104,
   "metadata": {},
   "outputs": [],
   "source": [
    "def avenida(st):\n",
    "    return (\"av.\" in st) or (\"avenida\" in st) or  (\"av \" in st)"
   ]
  },
  {
   "cell_type": "code",
   "execution_count": 105,
   "metadata": {
    "scrolled": true
   },
   "outputs": [],
   "source": [
    "test = test.astype({\"direccion\":\"str\"})\n",
    "train = train.astype({\"direccion\":\"str\"})\n",
    "\n",
    "test[\"direccion\"] = test[\"direccion\"].apply(str.lower)\n",
    "test[\"avenida\"] = test[\"direccion\"].map(avenida)\n",
    "\n",
    "train[\"direccion\"] = train[\"direccion\"].apply(str.lower)\n",
    "train[\"avenida\"] = train[\"direccion\"].map(avenida)\n",
    "\n",
    "test = test.astype({\"avenida\":\"uint8\"})\n",
    "train = train.astype({\"avenida\":\"uint8\"})"
   ]
  },
  {
   "cell_type": "markdown",
   "metadata": {},
   "source": [
    "#### Cantidad de amenities"
   ]
  },
  {
   "cell_type": "code",
   "execution_count": 106,
   "metadata": {},
   "outputs": [],
   "source": [
    "train['cant_amenities'] = train['usosmultiples'] + train['piscina'] + train['gimnasio']\n",
    "test['cant_amenities'] = test['usosmultiples'] + test['piscina'] + test['gimnasio']"
   ]
  },
  {
   "cell_type": "markdown",
   "metadata": {},
   "source": [
    "#### Año de publicación"
   ]
  },
  {
   "cell_type": "code",
   "execution_count": 107,
   "metadata": {},
   "outputs": [],
   "source": [
    "train['fecha'] = pd.to_datetime(train['fecha'])\n",
    "train['ano'] = train['fecha'].dt.year\n",
    "\n",
    "test['fecha'] = pd.to_datetime(test['fecha'])\n",
    "test['ano'] = test['fecha'].dt.year"
   ]
  },
  {
   "cell_type": "markdown",
   "metadata": {},
   "source": [
    "#### De la descripción"
   ]
  },
  {
   "cell_type": "code",
   "execution_count": 108,
   "metadata": {},
   "outputs": [],
   "source": [
    "buena_ubicacion = ['buena ubicacion', 'buena ubicación', 'excelente ubicación', 'excelente ubicacion', 'bien ubicada', 'bien ubicado']\n",
    "train['buena_ubicacion'] = train['descripcion'].apply(lambda x: 1 if any(word in x for word in buena_ubicacion ) else 0)\n",
    "test['buena_ubicacion'] = test['descripcion'].apply(lambda x: 1 if any(word in x for word in buena_ubicacion ) else 0)"
   ]
  },
  {
   "cell_type": "code",
   "execution_count": 109,
   "metadata": {},
   "outputs": [],
   "source": [
    "luminoso = ['luminoso', 'luminosa']\n",
    "train['luminoso'] = train['descripcion'].apply(lambda x: 1 if any(word in x for word in luminoso ) else 0)\n",
    "test['luminoso'] = test['descripcion'].apply(lambda x: 1 if any(word in x for word in luminoso ) else 0)"
   ]
  },
  {
   "cell_type": "code",
   "execution_count": 110,
   "metadata": {},
   "outputs": [],
   "source": [
    "jardin = ['jardin', 'jardín', 'parque', 'patio']\n",
    "train['jardin'] = train['descripcion'].apply(lambda x: 1 if any(word in x for word in luminoso ) else 0)\n",
    "test['jardin'] = test['descripcion'].apply(lambda x: 1 if any(word in x for word in luminoso ) else 0)"
   ]
  },
  {
   "cell_type": "code",
   "execution_count": 111,
   "metadata": {},
   "outputs": [],
   "source": [
    "balcon = ['balcon', 'balcón', 'terraza']\n",
    "train['balcon'] = train['descripcion'].apply(lambda x: 1 if any(word in x for word in luminoso ) else 0)\n",
    "test['balcon'] = test['descripcion'].apply(lambda x: 1 if any(word in x for word in luminoso ) else 0)"
   ]
  },
  {
   "cell_type": "markdown",
   "metadata": {},
   "source": [
    "#### Cercanías"
   ]
  },
  {
   "cell_type": "code",
   "execution_count": 112,
   "metadata": {},
   "outputs": [],
   "source": [
    "train['centroscomercialescercanos'] = train['centroscomercialescercanos'].map({1:2, 0:0})\n",
    "test['centroscomercialescercanos'] = test['centroscomercialescercanos'].map({1:2, 0:0})"
   ]
  },
  {
   "cell_type": "code",
   "execution_count": 113,
   "metadata": {},
   "outputs": [],
   "source": [
    "train['cercanias'] = train['centroscomercialescercanos'] + train['escuelascercanas']\n",
    "train['cercanias'] = train['cercanias'].astype(str)\n",
    "\n",
    "test['cercanias'] = test['centroscomercialescercanos'] + test['escuelascercanas']\n",
    "test['cercanias'] = test['cercanias'].astype(str)"
   ]
  },
  {
   "cell_type": "code",
   "execution_count": 114,
   "metadata": {},
   "outputs": [],
   "source": [
    "train = train.join(pd.get_dummies(train['cercanias'], prefix = 'cercania'))\n",
    "del train['cercanias']\n",
    "\n",
    "test = test.join(pd.get_dummies(test['cercanias'], prefix = 'cercania'))\n",
    "del test['cercanias']"
   ]
  },
  {
   "cell_type": "markdown",
   "metadata": {},
   "source": [
    "### Borrando columnas innecesarias"
   ]
  },
  {
   "cell_type": "code",
   "execution_count": 115,
   "metadata": {},
   "outputs": [],
   "source": [
    "del train['lat']\n",
    "del train['lng']\n",
    "del train['descripcion']\n",
    "del train['titulo']\n",
    "del train['direccion']\n",
    "del train['fecha']\n",
    "\n",
    "del test['lat']\n",
    "del test['lng']\n",
    "del test['descripcion']\n",
    "del test['titulo']\n",
    "del test['direccion']\n",
    "del test['fecha']"
   ]
  },
  {
   "cell_type": "code",
   "execution_count": 116,
   "metadata": {},
   "outputs": [
    {
     "name": "stdout",
     "output_type": "stream",
     "text": [
      "(240000, 81)\n",
      "(60000, 80)\n"
     ]
    }
   ],
   "source": [
    "print(train.shape)\n",
    "print(test.shape)"
   ]
  },
  {
   "cell_type": "markdown",
   "metadata": {},
   "source": [
    "### Dividiendo por año"
   ]
  },
  {
   "cell_type": "code",
   "execution_count": 117,
   "metadata": {},
   "outputs": [],
   "source": [
    "train_2012 = train[train['ano'] == 2012]\n",
    "train_2013 = train[train['ano'] == 2013]\n",
    "train_2014 = train[train['ano'] == 2014]\n",
    "train_2015 = train[train['ano'] == 2015]\n",
    "train_2016 = train[train['ano'] == 2016]\n",
    "\n",
    "test_2012 = test[test['ano'] == 2012]\n",
    "test_2013 = test[test['ano'] == 2013]\n",
    "test_2014 = test[test['ano'] == 2014]\n",
    "test_2015 = test[test['ano'] == 2015]\n",
    "test_2016 = test[test['ano'] == 2016]"
   ]
  },
  {
   "cell_type": "markdown",
   "metadata": {},
   "source": [
    "## KNN"
   ]
  },
  {
   "cell_type": "code",
   "execution_count": 118,
   "metadata": {},
   "outputs": [],
   "source": [
    "def KNN(train, param_grid):\n",
    "    KNN = KNeighborsRegressor()\n",
    "    X = train.drop(['precio'], axis=1)\n",
    "    y = train['precio']\n",
    "    grid = RandomizedSearchCV(KNN, param_grid, cv=5, scoring='neg_mean_absolute_error')\n",
    "    grid.fit(X, y)\n",
    "    KNN = grid.best_estimator_\n",
    "    print(grid.best_params_)\n",
    "    print(grid.best_score_)\n",
    "    return KNN"
   ]
  },
  {
   "cell_type": "code",
   "execution_count": 119,
   "metadata": {
    "scrolled": true
   },
   "outputs": [
    {
     "name": "stdout",
     "output_type": "stream",
     "text": [
      "{'n_neighbors': 1019}\n",
      "-895044.1554332726\n",
      "{'n_neighbors': 1000}\n",
      "-843143.7218726056\n",
      "{'n_neighbors': 1002}\n",
      "-941446.6852549951\n",
      "{'n_neighbors': 1018}\n",
      "-995635.9135645042\n",
      "{'n_neighbors': 1000}\n",
      "-1043076.1465007125\n"
     ]
    }
   ],
   "source": [
    "k_valores = list(range(1000, 1100))\n",
    "param_grid = dict(n_neighbors=k_valores)\n",
    "KNN_2012 = KNN(train_2012, param_grid)\n",
    "KNN_2013 = KNN(train_2013, param_grid)\n",
    "KNN_2014 = KNN(train_2014, param_grid)\n",
    "KNN_2015 = KNN(train_2015, param_grid)\n",
    "KNN_2016 = KNN(train_2016, param_grid)"
   ]
  },
  {
   "cell_type": "code",
   "execution_count": 120,
   "metadata": {},
   "outputs": [
    {
     "data": {
      "text/plain": [
       "['knn_2016.joblib']"
      ]
     },
     "execution_count": 120,
     "metadata": {},
     "output_type": "execute_result"
    }
   ],
   "source": [
    "from joblib import dump, load\n",
    "dump(KNN_2012,'knn_2012.joblib')\n",
    "dump(KNN_2013,'knn_2013.joblib')\n",
    "dump(KNN_2014,'knn_2014.joblib')\n",
    "dump(KNN_2015,'knn_2015.joblib')\n",
    "dump(KNN_2016,'knn_2016.joblib')"
   ]
  },
  {
   "cell_type": "code",
   "execution_count": 121,
   "metadata": {},
   "outputs": [],
   "source": [
    "knn_predict_2012 = KNN_2012.predict(test_2012)\n",
    "knn_predict_2013 = KNN_2013.predict(test_2013)\n",
    "knn_predict_2014 = KNN_2014.predict(test_2014)\n",
    "knn_predict_2015 = KNN_2015.predict(test_2015)\n",
    "knn_predict_2016 = KNN_2016.predict(test_2016)"
   ]
  },
  {
   "cell_type": "markdown",
   "metadata": {},
   "source": [
    "## Definiendo tamaños de los sets"
   ]
  },
  {
   "cell_type": "code",
   "execution_count": 122,
   "metadata": {},
   "outputs": [],
   "source": [
    "def train_set(train,test):\n",
    "    X = train.drop(['precio'], axis=1)\n",
    "    y = train['precio']\n",
    "    X_train, X_val, y_train, y_val = train_test_split(X, y, test_size=0.25, random_state=1)\n",
    "    print(\"Train shapes: X = \" + str(X_train.shape) + \" y = \" + str(y_train.shape))\n",
    "    print(\"Validation shapes: X = \" + str(X_val.shape) +  \" y = \" + str(y_val.shape))\n",
    "    print(\"Test shape: \" + str(test.shape))\n",
    "    return X, y, X_val, y_val"
   ]
  },
  {
   "cell_type": "code",
   "execution_count": 123,
   "metadata": {},
   "outputs": [
    {
     "name": "stdout",
     "output_type": "stream",
     "text": [
      "Train shapes: X = (17650, 80) y = (17650,)\n",
      "Validation shapes: X = (5884, 80) y = (5884,)\n",
      "Test shape: (5899, 80)\n",
      "Train shapes: X = (22789, 80) y = (22789,)\n",
      "Validation shapes: X = (7597, 80) y = (7597,)\n",
      "Test shape: (7592, 80)\n",
      "Train shapes: X = (30429, 80) y = (30429,)\n",
      "Validation shapes: X = (10143, 80) y = (10143,)\n",
      "Test shape: (10018, 80)\n",
      "Train shapes: X = (38602, 80) y = (38602,)\n",
      "Validation shapes: X = (12868, 80) y = (12868,)\n",
      "Test shape: (13017, 80)\n",
      "Train shapes: X = (70528, 80) y = (70528,)\n",
      "Validation shapes: X = (23510, 80) y = (23510,)\n",
      "Test shape: (23474, 80)\n"
     ]
    }
   ],
   "source": [
    "x_2012, y_2012, x_2012_val, y_2012_val = train_set(train_2012,test_2012)\n",
    "x_2013, y_2013, x_2013_val, y_2013_val = train_set(train_2013,test_2013)\n",
    "x_2014, y_2014, x_2014_val, y_2014_val = train_set(train_2014,test_2014)\n",
    "x_2015, y_2015, x_2015_val, y_2015_val = train_set(train_2015,test_2015)\n",
    "x_2016, y_2016, x_2016_val, y_2016_val = train_set(train_2016,test_2016)"
   ]
  },
  {
   "cell_type": "markdown",
   "metadata": {},
   "source": [
    "## LIGHTGBM"
   ]
  },
  {
   "cell_type": "markdown",
   "metadata": {},
   "source": [
    "### Tuneo de hiperparámetros"
   ]
  },
  {
   "cell_type": "code",
   "execution_count": 124,
   "metadata": {},
   "outputs": [],
   "source": [
    "import lightgbm\n",
    "def lgb_eval(num_leaves, feature_fraction, bagging_fraction, max_depth, min_split_gain, min_child_weight, learning_rate, seed,n_estimators):\n",
    "    params = {}\n",
    "    params['metric'] = 'rmse'\n",
    "    params[\"seed\"] = int(seed)\n",
    "    params[\"learning_rate\"] = learning_rate\n",
    "    params[\"num_leaves\"] = int(round(num_leaves))\n",
    "    params['feature_fraction'] = max(min(feature_fraction, 1), 0)\n",
    "    params['bagging_fraction'] = max(min(bagging_fraction, 1), 0)\n",
    "    params['max_depth'] = int(round(max_depth))\n",
    "    params['min_split_gain'] = min_split_gain\n",
    "    params['min_child_weight'] = min_child_weight\n",
    "    params[\"n_estimators\"] = int(n_estimators)\n",
    "    cv_result = lightgbm.cv(params, dtrain, nfold=5, num_boost_round=100)\n",
    "    # Used around 1000 boosting rounds in the full model\n",
    "    #cv_result = lightgbm.cv(params, dtrain, num_boost_round=100, nfold=3, seed=20)    \n",
    "    \n",
    "    # Bayesian optimization only knows how to maximize, not minimize, so return the negative RMSE\n",
    "    return max(cv_result['rmse-mean'])"
   ]
  },
  {
   "cell_type": "code",
   "execution_count": 125,
   "metadata": {},
   "outputs": [],
   "source": [
    "def optimize_lgbm(sett):\n",
    "    dtrain = sett\n",
    "    lightgbm_bo = BayesianOptimization(lgb_eval, {'num_leaves': (24, 45),\n",
    "                                        'feature_fraction': (0.1, 0.9),\n",
    "                                        'bagging_fraction': (0.8, 1),\n",
    "                                        'max_depth': (5, 9),\n",
    "                                        'min_split_gain': (0.001, 0.1),\n",
    "                                        'min_child_weight': (5, 50),\n",
    "                                        \"learning_rate\" : (0.01, 0.07),\n",
    "                                        \"seed\":(10,50),\n",
    "                                        \"n_estimators\":(1000,10000)          \n",
    "                                        }, random_state=0)\n",
    "    # Se probo con 3 puntos iniciales y 10 iteraciones, deberiamos probar con mas en ambas\n",
    "    # La prox iteracion en casa probar 100 y 10000\n",
    "    lightgbm_bo.maximize(init_points=5, n_iter=30, acq='ei')\n",
    "    params = lightgbm_bo.max['params']\n",
    "    params['max_depth'] = int(params['max_depth'])\n",
    "    params[\"seed\"] = int(params[\"seed\"])\n",
    "    params[\"n_estimators\"] = int(params[\"n_estimators\"])\n",
    "    return params"
   ]
  },
  {
   "cell_type": "code",
   "execution_count": 126,
   "metadata": {},
   "outputs": [],
   "source": [
    "feature_set = list(x_2012.columns)\n",
    "dtrain_2012 = lightgbm.Dataset(x_2012, label=y_2012,feature_name=feature_set)\n",
    "feature_set = list(x_2013.columns)\n",
    "dtrain_2013 = lightgbm.Dataset(x_2013, label=y_2013,feature_name=feature_set)\n",
    "feature_set = list(x_2014.columns)\n",
    "dtrain_2014 = lightgbm.Dataset(x_2014, label=y_2014,feature_name=feature_set)\n",
    "feature_set = list(x_2015.columns)\n",
    "dtrain_2015 = lightgbm.Dataset(x_2015, label=y_2015,feature_name=feature_set)\n",
    "feature_set = list(x_2016.columns)\n",
    "dtrain_2016 = lightgbm.Dataset(x_2016, label=y_2016,feature_name=feature_set)\n"
   ]
  },
  {
   "cell_type": "code",
   "execution_count": 127,
   "metadata": {},
   "outputs": [
    {
     "name": "stdout",
     "output_type": "stream",
     "text": [
      "|   iter    |  target   | baggin... | featur... | learni... | max_depth | min_ch... | min_sp... | n_esti... | num_le... |   seed    |\n",
      "-------------------------------------------------------------------------------------------------------------------------------------\n"
     ]
    },
    {
     "name": "stderr",
     "output_type": "stream",
     "text": [
      "/usr/local/lib/python3.5/dist-packages/lightgbm/engine.py:503: UserWarning: Found `n_estimators` in params. Will use it instead of argument\n",
      "  warnings.warn(\"Found `{}` in params. Will use it instead of argument\".format(alias))\n",
      "/usr/local/lib/python3.5/dist-packages/sklearn/model_selection/_split.py:657: Warning: The least populated class in y has only 1 members, which is too few. The minimum number of members in any class cannot be less than n_splits=5.\n",
      "  % (min_groups, self.n_splits)), Warning)\n"
     ]
    },
    {
     "name": "stdout",
     "output_type": "stream",
     "text": [
      "| \u001b[0m 1       \u001b[0m | \u001b[0m 1.727e+0\u001b[0m | \u001b[0m 0.9098  \u001b[0m | \u001b[0m 0.6722  \u001b[0m | \u001b[0m 0.04617 \u001b[0m | \u001b[0m 7.18    \u001b[0m | \u001b[0m 24.06   \u001b[0m | \u001b[0m 0.06494 \u001b[0m | \u001b[0m 4.938e+0\u001b[0m | \u001b[0m 42.73   \u001b[0m | \u001b[0m 48.55   \u001b[0m |\n"
     ]
    },
    {
     "name": "stderr",
     "output_type": "stream",
     "text": [
      "/usr/local/lib/python3.5/dist-packages/lightgbm/engine.py:503: UserWarning: Found `n_estimators` in params. Will use it instead of argument\n",
      "  warnings.warn(\"Found `{}` in params. Will use it instead of argument\".format(alias))\n",
      "/usr/local/lib/python3.5/dist-packages/sklearn/model_selection/_split.py:657: Warning: The least populated class in y has only 1 members, which is too few. The minimum number of members in any class cannot be less than n_splits=5.\n",
      "  % (min_groups, self.n_splits)), Warning)\n"
     ]
    },
    {
     "name": "stdout",
     "output_type": "stream",
     "text": [
      "| \u001b[95m 2       \u001b[0m | \u001b[95m 1.739e+0\u001b[0m | \u001b[95m 0.8767  \u001b[0m | \u001b[95m 0.7334  \u001b[0m | \u001b[95m 0.04173 \u001b[0m | \u001b[95m 7.272   \u001b[0m | \u001b[95m 46.65   \u001b[0m | \u001b[95m 0.008033\u001b[0m | \u001b[95m 1.784e+0\u001b[0m | \u001b[95m 24.42   \u001b[0m | \u001b[95m 43.3    \u001b[0m |\n"
     ]
    },
    {
     "name": "stderr",
     "output_type": "stream",
     "text": [
      "/usr/local/lib/python3.5/dist-packages/lightgbm/engine.py:503: UserWarning: Found `n_estimators` in params. Will use it instead of argument\n",
      "  warnings.warn(\"Found `{}` in params. Will use it instead of argument\".format(alias))\n",
      "/usr/local/lib/python3.5/dist-packages/sklearn/model_selection/_split.py:657: Warning: The least populated class in y has only 1 members, which is too few. The minimum number of members in any class cannot be less than n_splits=5.\n",
      "  % (min_groups, self.n_splits)), Warning)\n"
     ]
    },
    {
     "name": "stdout",
     "output_type": "stream",
     "text": [
      "| \u001b[0m 3       \u001b[0m | \u001b[0m 1.702e+0\u001b[0m | \u001b[0m 0.9556  \u001b[0m | \u001b[0m 0.796   \u001b[0m | \u001b[0m 0.06872 \u001b[0m | \u001b[0m 8.197   \u001b[0m | \u001b[0m 25.77   \u001b[0m | \u001b[0m 0.07827 \u001b[0m | \u001b[0m 2.064e+0\u001b[0m | \u001b[0m 37.44   \u001b[0m | \u001b[0m 15.73   \u001b[0m |\n"
     ]
    },
    {
     "name": "stderr",
     "output_type": "stream",
     "text": [
      "/usr/local/lib/python3.5/dist-packages/lightgbm/engine.py:503: UserWarning: Found `n_estimators` in params. Will use it instead of argument\n",
      "  warnings.warn(\"Found `{}` in params. Will use it instead of argument\".format(alias))\n",
      "/usr/local/lib/python3.5/dist-packages/sklearn/model_selection/_split.py:657: Warning: The least populated class in y has only 1 members, which is too few. The minimum number of members in any class cannot be less than n_splits=5.\n",
      "  % (min_groups, self.n_splits)), Warning)\n"
     ]
    },
    {
     "name": "stdout",
     "output_type": "stream",
     "text": [
      "| \u001b[95m 4       \u001b[0m | \u001b[95m 1.748e+0\u001b[0m | \u001b[95m 0.9889  \u001b[0m | \u001b[95m 0.5175  \u001b[0m | \u001b[95m 0.03488 \u001b[0m | \u001b[95m 6.058   \u001b[0m | \u001b[95m 39.84   \u001b[0m | \u001b[95m 0.04616 \u001b[0m | \u001b[95m 6.116e+0\u001b[0m | \u001b[95m 24.39   \u001b[0m | \u001b[95m 34.71   \u001b[0m |\n"
     ]
    },
    {
     "name": "stderr",
     "output_type": "stream",
     "text": [
      "/usr/local/lib/python3.5/dist-packages/lightgbm/engine.py:503: UserWarning: Found `n_estimators` in params. Will use it instead of argument\n",
      "  warnings.warn(\"Found `{}` in params. Will use it instead of argument\".format(alias))\n",
      "/usr/local/lib/python3.5/dist-packages/sklearn/model_selection/_split.py:657: Warning: The least populated class in y has only 1 members, which is too few. The minimum number of members in any class cannot be less than n_splits=5.\n",
      "  % (min_groups, self.n_splits)), Warning)\n"
     ]
    },
    {
     "name": "stdout",
     "output_type": "stream",
     "text": [
      "| \u001b[0m 5       \u001b[0m | \u001b[0m 1.716e+0\u001b[0m | \u001b[0m 0.9224  \u001b[0m | \u001b[0m 0.5935  \u001b[0m | \u001b[0m 0.06662 \u001b[0m | \u001b[0m 7.727   \u001b[0m | \u001b[0m 21.18   \u001b[0m | \u001b[0m 0.04427 \u001b[0m | \u001b[0m 7.279e+0\u001b[0m | \u001b[0m 25.26   \u001b[0m | \u001b[0m 36.67   \u001b[0m |\n"
     ]
    },
    {
     "name": "stderr",
     "output_type": "stream",
     "text": [
      "/usr/local/lib/python3.5/dist-packages/lightgbm/engine.py:503: UserWarning: Found `n_estimators` in params. Will use it instead of argument\n",
      "  warnings.warn(\"Found `{}` in params. Will use it instead of argument\".format(alias))\n",
      "/usr/local/lib/python3.5/dist-packages/sklearn/model_selection/_split.py:657: Warning: The least populated class in y has only 1 members, which is too few. The minimum number of members in any class cannot be less than n_splits=5.\n",
      "  % (min_groups, self.n_splits)), Warning)\n"
     ]
    },
    {
     "name": "stdout",
     "output_type": "stream",
     "text": [
      "| \u001b[95m 6       \u001b[0m | \u001b[95m 1.772e+0\u001b[0m | \u001b[95m 0.8844  \u001b[0m | \u001b[95m 0.2402  \u001b[0m | \u001b[95m 0.01921 \u001b[0m | \u001b[95m 8.233   \u001b[0m | \u001b[95m 9.211   \u001b[0m | \u001b[95m 0.001068\u001b[0m | \u001b[95m 7.493e+0\u001b[0m | \u001b[95m 30.28   \u001b[0m | \u001b[95m 39.33   \u001b[0m |\n"
     ]
    },
    {
     "name": "stderr",
     "output_type": "stream",
     "text": [
      "/usr/local/lib/python3.5/dist-packages/lightgbm/engine.py:503: UserWarning: Found `n_estimators` in params. Will use it instead of argument\n",
      "  warnings.warn(\"Found `{}` in params. Will use it instead of argument\".format(alias))\n",
      "/usr/local/lib/python3.5/dist-packages/sklearn/model_selection/_split.py:657: Warning: The least populated class in y has only 1 members, which is too few. The minimum number of members in any class cannot be less than n_splits=5.\n",
      "  % (min_groups, self.n_splits)), Warning)\n"
     ]
    },
    {
     "name": "stdout",
     "output_type": "stream",
     "text": [
      "| \u001b[0m 7       \u001b[0m | \u001b[0m 1.761e+0\u001b[0m | \u001b[0m 0.8595  \u001b[0m | \u001b[0m 0.843   \u001b[0m | \u001b[0m 0.01736 \u001b[0m | \u001b[0m 5.97    \u001b[0m | \u001b[0m 23.52   \u001b[0m | \u001b[0m 0.03308 \u001b[0m | \u001b[0m 6.152e+0\u001b[0m | \u001b[0m 28.82   \u001b[0m | \u001b[0m 47.88   \u001b[0m |\n"
     ]
    },
    {
     "name": "stderr",
     "output_type": "stream",
     "text": [
      "/usr/local/lib/python3.5/dist-packages/lightgbm/engine.py:503: UserWarning: Found `n_estimators` in params. Will use it instead of argument\n",
      "  warnings.warn(\"Found `{}` in params. Will use it instead of argument\".format(alias))\n",
      "/usr/local/lib/python3.5/dist-packages/sklearn/model_selection/_split.py:657: Warning: The least populated class in y has only 1 members, which is too few. The minimum number of members in any class cannot be less than n_splits=5.\n",
      "  % (min_groups, self.n_splits)), Warning)\n"
     ]
    },
    {
     "name": "stdout",
     "output_type": "stream",
     "text": [
      "| \u001b[0m 8       \u001b[0m | \u001b[0m 1.755e+0\u001b[0m | \u001b[0m 0.9116  \u001b[0m | \u001b[0m 0.6652  \u001b[0m | \u001b[0m 0.0291  \u001b[0m | \u001b[0m 6.537   \u001b[0m | \u001b[0m 18.14   \u001b[0m | \u001b[0m 0.06617 \u001b[0m | \u001b[0m 6.098e+0\u001b[0m | \u001b[0m 29.32   \u001b[0m | \u001b[0m 45.58   \u001b[0m |\n"
     ]
    },
    {
     "name": "stderr",
     "output_type": "stream",
     "text": [
      "/usr/local/lib/python3.5/dist-packages/lightgbm/engine.py:503: UserWarning: Found `n_estimators` in params. Will use it instead of argument\n",
      "  warnings.warn(\"Found `{}` in params. Will use it instead of argument\".format(alias))\n",
      "/usr/local/lib/python3.5/dist-packages/sklearn/model_selection/_split.py:657: Warning: The least populated class in y has only 1 members, which is too few. The minimum number of members in any class cannot be less than n_splits=5.\n",
      "  % (min_groups, self.n_splits)), Warning)\n"
     ]
    },
    {
     "name": "stdout",
     "output_type": "stream",
     "text": [
      "| \u001b[0m 9       \u001b[0m | \u001b[0m 1.711e+0\u001b[0m | \u001b[0m 0.9396  \u001b[0m | \u001b[0m 0.2106  \u001b[0m | \u001b[0m 0.06445 \u001b[0m | \u001b[0m 7.5     \u001b[0m | \u001b[0m 34.7    \u001b[0m | \u001b[0m 0.06542 \u001b[0m | \u001b[0m 6.628e+0\u001b[0m | \u001b[0m 28.8    \u001b[0m | \u001b[0m 36.39   \u001b[0m |\n"
     ]
    },
    {
     "name": "stderr",
     "output_type": "stream",
     "text": [
      "/usr/local/lib/python3.5/dist-packages/lightgbm/engine.py:503: UserWarning: Found `n_estimators` in params. Will use it instead of argument\n",
      "  warnings.warn(\"Found `{}` in params. Will use it instead of argument\".format(alias))\n",
      "/usr/local/lib/python3.5/dist-packages/sklearn/model_selection/_split.py:657: Warning: The least populated class in y has only 1 members, which is too few. The minimum number of members in any class cannot be less than n_splits=5.\n",
      "  % (min_groups, self.n_splits)), Warning)\n"
     ]
    },
    {
     "name": "stdout",
     "output_type": "stream",
     "text": [
      "| \u001b[0m 10      \u001b[0m | \u001b[0m 1.722e+0\u001b[0m | \u001b[0m 0.9603  \u001b[0m | \u001b[0m 0.865   \u001b[0m | \u001b[0m 0.05059 \u001b[0m | \u001b[0m 6.629   \u001b[0m | \u001b[0m 21.06   \u001b[0m | \u001b[0m 0.02608 \u001b[0m | \u001b[0m 1.416e+0\u001b[0m | \u001b[0m 36.43   \u001b[0m | \u001b[0m 18.61   \u001b[0m |\n"
     ]
    },
    {
     "name": "stderr",
     "output_type": "stream",
     "text": [
      "/usr/local/lib/python3.5/dist-packages/lightgbm/engine.py:503: UserWarning: Found `n_estimators` in params. Will use it instead of argument\n",
      "  warnings.warn(\"Found `{}` in params. Will use it instead of argument\".format(alias))\n",
      "/usr/local/lib/python3.5/dist-packages/sklearn/model_selection/_split.py:657: Warning: The least populated class in y has only 1 members, which is too few. The minimum number of members in any class cannot be less than n_splits=5.\n",
      "  % (min_groups, self.n_splits)), Warning)\n"
     ]
    },
    {
     "name": "stdout",
     "output_type": "stream",
     "text": [
      "| \u001b[0m 11      \u001b[0m | \u001b[0m 1.713e+0\u001b[0m | \u001b[0m 0.9577  \u001b[0m | \u001b[0m 0.6611  \u001b[0m | \u001b[0m 0.05888 \u001b[0m | \u001b[0m 7.256   \u001b[0m | \u001b[0m 41.3    \u001b[0m | \u001b[0m 0.07923 \u001b[0m | \u001b[0m 8.368e+0\u001b[0m | \u001b[0m 32.23   \u001b[0m | \u001b[0m 37.26   \u001b[0m |\n"
     ]
    },
    {
     "name": "stderr",
     "output_type": "stream",
     "text": [
      "/usr/local/lib/python3.5/dist-packages/lightgbm/engine.py:503: UserWarning: Found `n_estimators` in params. Will use it instead of argument\n",
      "  warnings.warn(\"Found `{}` in params. Will use it instead of argument\".format(alias))\n",
      "/usr/local/lib/python3.5/dist-packages/sklearn/model_selection/_split.py:657: Warning: The least populated class in y has only 1 members, which is too few. The minimum number of members in any class cannot be less than n_splits=5.\n",
      "  % (min_groups, self.n_splits)), Warning)\n"
     ]
    },
    {
     "name": "stdout",
     "output_type": "stream",
     "text": [
      "| \u001b[0m 12      \u001b[0m | \u001b[0m 1.758e+0\u001b[0m | \u001b[0m 0.8575  \u001b[0m | \u001b[0m 0.2975  \u001b[0m | \u001b[0m 0.03868 \u001b[0m | \u001b[0m 5.399   \u001b[0m | \u001b[0m 40.28   \u001b[0m | \u001b[0m 0.09882 \u001b[0m | \u001b[0m 1.793e+0\u001b[0m | \u001b[0m 25.36   \u001b[0m | \u001b[0m 38.65   \u001b[0m |\n"
     ]
    },
    {
     "name": "stderr",
     "output_type": "stream",
     "text": [
      "/usr/local/lib/python3.5/dist-packages/lightgbm/engine.py:503: UserWarning: Found `n_estimators` in params. Will use it instead of argument\n",
      "  warnings.warn(\"Found `{}` in params. Will use it instead of argument\".format(alias))\n",
      "/usr/local/lib/python3.5/dist-packages/sklearn/model_selection/_split.py:657: Warning: The least populated class in y has only 1 members, which is too few. The minimum number of members in any class cannot be less than n_splits=5.\n",
      "  % (min_groups, self.n_splits)), Warning)\n"
     ]
    },
    {
     "name": "stdout",
     "output_type": "stream",
     "text": [
      "| \u001b[0m 13      \u001b[0m | \u001b[0m 1.759e+0\u001b[0m | \u001b[0m 0.951   \u001b[0m | \u001b[0m 0.6561  \u001b[0m | \u001b[0m 0.02132 \u001b[0m | \u001b[0m 8.983   \u001b[0m | \u001b[0m 41.21   \u001b[0m | \u001b[0m 0.04594 \u001b[0m | \u001b[0m 2.894e+0\u001b[0m | \u001b[0m 26.45   \u001b[0m | \u001b[0m 28.42   \u001b[0m |\n"
     ]
    },
    {
     "name": "stderr",
     "output_type": "stream",
     "text": [
      "/usr/local/lib/python3.5/dist-packages/lightgbm/engine.py:503: UserWarning: Found `n_estimators` in params. Will use it instead of argument\n",
      "  warnings.warn(\"Found `{}` in params. Will use it instead of argument\".format(alias))\n",
      "/usr/local/lib/python3.5/dist-packages/sklearn/model_selection/_split.py:657: Warning: The least populated class in y has only 1 members, which is too few. The minimum number of members in any class cannot be less than n_splits=5.\n",
      "  % (min_groups, self.n_splits)), Warning)\n"
     ]
    },
    {
     "name": "stdout",
     "output_type": "stream",
     "text": [
      "| \u001b[0m 14      \u001b[0m | \u001b[0m 1.766e+0\u001b[0m | \u001b[0m 0.8457  \u001b[0m | \u001b[0m 0.4622  \u001b[0m | \u001b[0m 0.01581 \u001b[0m | \u001b[0m 6.113   \u001b[0m | \u001b[0m 28.36   \u001b[0m | \u001b[0m 0.05396 \u001b[0m | \u001b[0m 7.54e+03\u001b[0m | \u001b[0m 38.65   \u001b[0m | \u001b[0m 44.3    \u001b[0m |\n"
     ]
    },
    {
     "name": "stderr",
     "output_type": "stream",
     "text": [
      "/usr/local/lib/python3.5/dist-packages/lightgbm/engine.py:503: UserWarning: Found `n_estimators` in params. Will use it instead of argument\n",
      "  warnings.warn(\"Found `{}` in params. Will use it instead of argument\".format(alias))\n",
      "/usr/local/lib/python3.5/dist-packages/sklearn/model_selection/_split.py:657: Warning: The least populated class in y has only 1 members, which is too few. The minimum number of members in any class cannot be less than n_splits=5.\n",
      "  % (min_groups, self.n_splits)), Warning)\n"
     ]
    },
    {
     "name": "stdout",
     "output_type": "stream",
     "text": [
      "| \u001b[0m 15      \u001b[0m | \u001b[0m 1.73e+06\u001b[0m | \u001b[0m 0.853   \u001b[0m | \u001b[0m 0.4545  \u001b[0m | \u001b[0m 0.0522  \u001b[0m | \u001b[0m 5.428   \u001b[0m | \u001b[0m 38.43   \u001b[0m | \u001b[0m 0.001316\u001b[0m | \u001b[0m 1.039e+0\u001b[0m | \u001b[0m 33.05   \u001b[0m | \u001b[0m 13.05   \u001b[0m |\n"
     ]
    },
    {
     "name": "stderr",
     "output_type": "stream",
     "text": [
      "/usr/local/lib/python3.5/dist-packages/lightgbm/engine.py:503: UserWarning: Found `n_estimators` in params. Will use it instead of argument\n",
      "  warnings.warn(\"Found `{}` in params. Will use it instead of argument\".format(alias))\n",
      "/usr/local/lib/python3.5/dist-packages/sklearn/model_selection/_split.py:657: Warning: The least populated class in y has only 1 members, which is too few. The minimum number of members in any class cannot be less than n_splits=5.\n",
      "  % (min_groups, self.n_splits)), Warning)\n"
     ]
    },
    {
     "name": "stdout",
     "output_type": "stream",
     "text": [
      "| \u001b[0m 16      \u001b[0m | \u001b[0m 1.764e+0\u001b[0m | \u001b[0m 0.9359  \u001b[0m | \u001b[0m 0.8724  \u001b[0m | \u001b[0m 0.01431 \u001b[0m | \u001b[0m 7.418   \u001b[0m | \u001b[0m 8.735   \u001b[0m | \u001b[0m 0.09379 \u001b[0m | \u001b[0m 5.814e+0\u001b[0m | \u001b[0m 40.16   \u001b[0m | \u001b[0m 20.37   \u001b[0m |\n"
     ]
    },
    {
     "name": "stderr",
     "output_type": "stream",
     "text": [
      "/usr/local/lib/python3.5/dist-packages/lightgbm/engine.py:503: UserWarning: Found `n_estimators` in params. Will use it instead of argument\n",
      "  warnings.warn(\"Found `{}` in params. Will use it instead of argument\".format(alias))\n",
      "/usr/local/lib/python3.5/dist-packages/sklearn/model_selection/_split.py:657: Warning: The least populated class in y has only 1 members, which is too few. The minimum number of members in any class cannot be less than n_splits=5.\n",
      "  % (min_groups, self.n_splits)), Warning)\n"
     ]
    },
    {
     "name": "stdout",
     "output_type": "stream",
     "text": [
      "| \u001b[0m 17      \u001b[0m | \u001b[0m 1.738e+0\u001b[0m | \u001b[0m 0.9979  \u001b[0m | \u001b[0m 0.6439  \u001b[0m | \u001b[0m 0.03786 \u001b[0m | \u001b[0m 6.076   \u001b[0m | \u001b[0m 37.62   \u001b[0m | \u001b[0m 0.09645 \u001b[0m | \u001b[0m 7.331e+0\u001b[0m | \u001b[0m 32.11   \u001b[0m | \u001b[0m 10.71   \u001b[0m |\n"
     ]
    },
    {
     "name": "stderr",
     "output_type": "stream",
     "text": [
      "/usr/local/lib/python3.5/dist-packages/lightgbm/engine.py:503: UserWarning: Found `n_estimators` in params. Will use it instead of argument\n",
      "  warnings.warn(\"Found `{}` in params. Will use it instead of argument\".format(alias))\n",
      "/usr/local/lib/python3.5/dist-packages/sklearn/model_selection/_split.py:657: Warning: The least populated class in y has only 1 members, which is too few. The minimum number of members in any class cannot be less than n_splits=5.\n",
      "  % (min_groups, self.n_splits)), Warning)\n"
     ]
    },
    {
     "name": "stdout",
     "output_type": "stream",
     "text": [
      "| \u001b[0m 18      \u001b[0m | \u001b[0m 1.759e+0\u001b[0m | \u001b[0m 0.9918  \u001b[0m | \u001b[0m 0.2612  \u001b[0m | \u001b[0m 0.02321 \u001b[0m | \u001b[0m 5.548   \u001b[0m | \u001b[0m 9.812   \u001b[0m | \u001b[0m 0.09498 \u001b[0m | \u001b[0m 9.729e+0\u001b[0m | \u001b[0m 38.44   \u001b[0m | \u001b[0m 30.16   \u001b[0m |\n"
     ]
    },
    {
     "name": "stderr",
     "output_type": "stream",
     "text": [
      "/usr/local/lib/python3.5/dist-packages/lightgbm/engine.py:503: UserWarning: Found `n_estimators` in params. Will use it instead of argument\n",
      "  warnings.warn(\"Found `{}` in params. Will use it instead of argument\".format(alias))\n",
      "/usr/local/lib/python3.5/dist-packages/sklearn/model_selection/_split.py:657: Warning: The least populated class in y has only 1 members, which is too few. The minimum number of members in any class cannot be less than n_splits=5.\n",
      "  % (min_groups, self.n_splits)), Warning)\n"
     ]
    },
    {
     "name": "stdout",
     "output_type": "stream",
     "text": [
      "| \u001b[0m 19      \u001b[0m | \u001b[0m 1.744e+0\u001b[0m | \u001b[0m 0.8746  \u001b[0m | \u001b[0m 0.249   \u001b[0m | \u001b[0m 0.05375 \u001b[0m | \u001b[0m 8.143   \u001b[0m | \u001b[0m 33.56   \u001b[0m | \u001b[0m 0.04833 \u001b[0m | \u001b[0m 9.382e+0\u001b[0m | \u001b[0m 26.39   \u001b[0m | \u001b[0m 23.5    \u001b[0m |\n"
     ]
    },
    {
     "name": "stderr",
     "output_type": "stream",
     "text": [
      "/usr/local/lib/python3.5/dist-packages/lightgbm/engine.py:503: UserWarning: Found `n_estimators` in params. Will use it instead of argument\n",
      "  warnings.warn(\"Found `{}` in params. Will use it instead of argument\".format(alias))\n",
      "/usr/local/lib/python3.5/dist-packages/sklearn/model_selection/_split.py:657: Warning: The least populated class in y has only 1 members, which is too few. The minimum number of members in any class cannot be less than n_splits=5.\n",
      "  % (min_groups, self.n_splits)), Warning)\n"
     ]
    },
    {
     "name": "stdout",
     "output_type": "stream",
     "text": [
      "| \u001b[0m 20      \u001b[0m | \u001b[0m 1.759e+0\u001b[0m | \u001b[0m 0.8393  \u001b[0m | \u001b[0m 0.2402  \u001b[0m | \u001b[0m 0.03154 \u001b[0m | \u001b[0m 7.113   \u001b[0m | \u001b[0m 28.48   \u001b[0m | \u001b[0m 0.02748 \u001b[0m | \u001b[0m 5.279e+0\u001b[0m | \u001b[0m 30.63   \u001b[0m | \u001b[0m 48.16   \u001b[0m |\n"
     ]
    },
    {
     "name": "stderr",
     "output_type": "stream",
     "text": [
      "/usr/local/lib/python3.5/dist-packages/lightgbm/engine.py:503: UserWarning: Found `n_estimators` in params. Will use it instead of argument\n",
      "  warnings.warn(\"Found `{}` in params. Will use it instead of argument\".format(alias))\n",
      "/usr/local/lib/python3.5/dist-packages/sklearn/model_selection/_split.py:657: Warning: The least populated class in y has only 1 members, which is too few. The minimum number of members in any class cannot be less than n_splits=5.\n",
      "  % (min_groups, self.n_splits)), Warning)\n"
     ]
    },
    {
     "name": "stdout",
     "output_type": "stream",
     "text": [
      "| \u001b[0m 21      \u001b[0m | \u001b[0m 1.74e+06\u001b[0m | \u001b[0m 0.9968  \u001b[0m | \u001b[0m 0.8276  \u001b[0m | \u001b[0m 0.03609 \u001b[0m | \u001b[0m 5.922   \u001b[0m | \u001b[0m 15.33   \u001b[0m | \u001b[0m 0.03068 \u001b[0m | \u001b[0m 6.304e+0\u001b[0m | \u001b[0m 33.36   \u001b[0m | \u001b[0m 28.39   \u001b[0m |\n"
     ]
    },
    {
     "name": "stderr",
     "output_type": "stream",
     "text": [
      "/usr/local/lib/python3.5/dist-packages/lightgbm/engine.py:503: UserWarning: Found `n_estimators` in params. Will use it instead of argument\n",
      "  warnings.warn(\"Found `{}` in params. Will use it instead of argument\".format(alias))\n",
      "/usr/local/lib/python3.5/dist-packages/sklearn/model_selection/_split.py:657: Warning: The least populated class in y has only 1 members, which is too few. The minimum number of members in any class cannot be less than n_splits=5.\n",
      "  % (min_groups, self.n_splits)), Warning)\n"
     ]
    },
    {
     "name": "stdout",
     "output_type": "stream",
     "text": [
      "| \u001b[0m 22      \u001b[0m | \u001b[0m 1.737e+0\u001b[0m | \u001b[0m 0.9065  \u001b[0m | \u001b[0m 0.3233  \u001b[0m | \u001b[0m 0.04655 \u001b[0m | \u001b[0m 7.683   \u001b[0m | \u001b[0m 16.72   \u001b[0m | \u001b[0m 0.03542 \u001b[0m | \u001b[0m 5.198e+0\u001b[0m | \u001b[0m 28.84   \u001b[0m | \u001b[0m 16.14   \u001b[0m |\n"
     ]
    },
    {
     "name": "stderr",
     "output_type": "stream",
     "text": [
      "/usr/local/lib/python3.5/dist-packages/lightgbm/engine.py:503: UserWarning: Found `n_estimators` in params. Will use it instead of argument\n",
      "  warnings.warn(\"Found `{}` in params. Will use it instead of argument\".format(alias))\n",
      "/usr/local/lib/python3.5/dist-packages/sklearn/model_selection/_split.py:657: Warning: The least populated class in y has only 1 members, which is too few. The minimum number of members in any class cannot be less than n_splits=5.\n",
      "  % (min_groups, self.n_splits)), Warning)\n"
     ]
    },
    {
     "name": "stdout",
     "output_type": "stream",
     "text": [
      "| \u001b[0m 23      \u001b[0m | \u001b[0m 1.743e+0\u001b[0m | \u001b[0m 0.832   \u001b[0m | \u001b[0m 0.2657  \u001b[0m | \u001b[0m 0.04303 \u001b[0m | \u001b[0m 7.612   \u001b[0m | \u001b[0m 31.18   \u001b[0m | \u001b[0m 0.05258 \u001b[0m | \u001b[0m 8.944e+0\u001b[0m | \u001b[0m 33.68   \u001b[0m | \u001b[0m 40.89   \u001b[0m |\n"
     ]
    },
    {
     "name": "stderr",
     "output_type": "stream",
     "text": [
      "/usr/local/lib/python3.5/dist-packages/lightgbm/engine.py:503: UserWarning: Found `n_estimators` in params. Will use it instead of argument\n",
      "  warnings.warn(\"Found `{}` in params. Will use it instead of argument\".format(alias))\n",
      "/usr/local/lib/python3.5/dist-packages/sklearn/model_selection/_split.py:657: Warning: The least populated class in y has only 1 members, which is too few. The minimum number of members in any class cannot be less than n_splits=5.\n",
      "  % (min_groups, self.n_splits)), Warning)\n"
     ]
    },
    {
     "name": "stdout",
     "output_type": "stream",
     "text": [
      "| \u001b[0m 24      \u001b[0m | \u001b[0m 1.718e+0\u001b[0m | \u001b[0m 0.919   \u001b[0m | \u001b[0m 0.655   \u001b[0m | \u001b[0m 0.06459 \u001b[0m | \u001b[0m 7.205   \u001b[0m | \u001b[0m 39.19   \u001b[0m | \u001b[0m 0.01897 \u001b[0m | \u001b[0m 4.244e+0\u001b[0m | \u001b[0m 30.96   \u001b[0m | \u001b[0m 36.63   \u001b[0m |\n"
     ]
    },
    {
     "name": "stderr",
     "output_type": "stream",
     "text": [
      "/usr/local/lib/python3.5/dist-packages/lightgbm/engine.py:503: UserWarning: Found `n_estimators` in params. Will use it instead of argument\n",
      "  warnings.warn(\"Found `{}` in params. Will use it instead of argument\".format(alias))\n",
      "/usr/local/lib/python3.5/dist-packages/sklearn/model_selection/_split.py:657: Warning: The least populated class in y has only 1 members, which is too few. The minimum number of members in any class cannot be less than n_splits=5.\n",
      "  % (min_groups, self.n_splits)), Warning)\n"
     ]
    },
    {
     "name": "stdout",
     "output_type": "stream",
     "text": [
      "| \u001b[0m 25      \u001b[0m | \u001b[0m 1.706e+0\u001b[0m | \u001b[0m 0.8768  \u001b[0m | \u001b[0m 0.8819  \u001b[0m | \u001b[0m 0.06463 \u001b[0m | \u001b[0m 8.151   \u001b[0m | \u001b[0m 43.29   \u001b[0m | \u001b[0m 0.02874 \u001b[0m | \u001b[0m 9.494e+0\u001b[0m | \u001b[0m 41.24   \u001b[0m | \u001b[0m 10.5    \u001b[0m |\n"
     ]
    },
    {
     "name": "stderr",
     "output_type": "stream",
     "text": [
      "/usr/local/lib/python3.5/dist-packages/lightgbm/engine.py:503: UserWarning: Found `n_estimators` in params. Will use it instead of argument\n",
      "  warnings.warn(\"Found `{}` in params. Will use it instead of argument\".format(alias))\n",
      "/usr/local/lib/python3.5/dist-packages/sklearn/model_selection/_split.py:657: Warning: The least populated class in y has only 1 members, which is too few. The minimum number of members in any class cannot be less than n_splits=5.\n",
      "  % (min_groups, self.n_splits)), Warning)\n"
     ]
    },
    {
     "name": "stdout",
     "output_type": "stream",
     "text": [
      "| \u001b[0m 26      \u001b[0m | \u001b[0m 1.713e+0\u001b[0m | \u001b[0m 0.9563  \u001b[0m | \u001b[0m 0.4007  \u001b[0m | \u001b[0m 0.06042 \u001b[0m | \u001b[0m 7.337   \u001b[0m | \u001b[0m 49.21   \u001b[0m | \u001b[0m 0.08541 \u001b[0m | \u001b[0m 9.293e+0\u001b[0m | \u001b[0m 24.31   \u001b[0m | \u001b[0m 46.22   \u001b[0m |\n"
     ]
    },
    {
     "name": "stderr",
     "output_type": "stream",
     "text": [
      "/usr/local/lib/python3.5/dist-packages/lightgbm/engine.py:503: UserWarning: Found `n_estimators` in params. Will use it instead of argument\n",
      "  warnings.warn(\"Found `{}` in params. Will use it instead of argument\".format(alias))\n",
      "/usr/local/lib/python3.5/dist-packages/sklearn/model_selection/_split.py:657: Warning: The least populated class in y has only 1 members, which is too few. The minimum number of members in any class cannot be less than n_splits=5.\n",
      "  % (min_groups, self.n_splits)), Warning)\n"
     ]
    },
    {
     "name": "stdout",
     "output_type": "stream",
     "text": [
      "| \u001b[0m 27      \u001b[0m | \u001b[0m 1.748e+0\u001b[0m | \u001b[0m 0.9814  \u001b[0m | \u001b[0m 0.6478  \u001b[0m | \u001b[0m 0.02909 \u001b[0m | \u001b[0m 7.59    \u001b[0m | \u001b[0m 37.88   \u001b[0m | \u001b[0m 0.04443 \u001b[0m | \u001b[0m 2.525e+0\u001b[0m | \u001b[0m 29.46   \u001b[0m | \u001b[0m 24.38   \u001b[0m |\n"
     ]
    },
    {
     "name": "stderr",
     "output_type": "stream",
     "text": [
      "/usr/local/lib/python3.5/dist-packages/lightgbm/engine.py:503: UserWarning: Found `n_estimators` in params. Will use it instead of argument\n",
      "  warnings.warn(\"Found `{}` in params. Will use it instead of argument\".format(alias))\n",
      "/usr/local/lib/python3.5/dist-packages/sklearn/model_selection/_split.py:657: Warning: The least populated class in y has only 1 members, which is too few. The minimum number of members in any class cannot be less than n_splits=5.\n",
      "  % (min_groups, self.n_splits)), Warning)\n"
     ]
    },
    {
     "name": "stdout",
     "output_type": "stream",
     "text": [
      "| \u001b[0m 28      \u001b[0m | \u001b[0m 1.722e+0\u001b[0m | \u001b[0m 0.8901  \u001b[0m | \u001b[0m 0.8498  \u001b[0m | \u001b[0m 0.05063 \u001b[0m | \u001b[0m 7.725   \u001b[0m | \u001b[0m 42.41   \u001b[0m | \u001b[0m 0.05489 \u001b[0m | \u001b[0m 6.083e+0\u001b[0m | \u001b[0m 32.77   \u001b[0m | \u001b[0m 28.04   \u001b[0m |\n"
     ]
    },
    {
     "name": "stderr",
     "output_type": "stream",
     "text": [
      "/usr/local/lib/python3.5/dist-packages/lightgbm/engine.py:503: UserWarning: Found `n_estimators` in params. Will use it instead of argument\n",
      "  warnings.warn(\"Found `{}` in params. Will use it instead of argument\".format(alias))\n",
      "/usr/local/lib/python3.5/dist-packages/sklearn/model_selection/_split.py:657: Warning: The least populated class in y has only 1 members, which is too few. The minimum number of members in any class cannot be less than n_splits=5.\n",
      "  % (min_groups, self.n_splits)), Warning)\n"
     ]
    },
    {
     "name": "stdout",
     "output_type": "stream",
     "text": [
      "| \u001b[0m 29      \u001b[0m | \u001b[0m 1.752e+0\u001b[0m | \u001b[0m 0.8423  \u001b[0m | \u001b[0m 0.7492  \u001b[0m | \u001b[0m 0.02448 \u001b[0m | \u001b[0m 7.032   \u001b[0m | \u001b[0m 24.97   \u001b[0m | \u001b[0m 0.007552\u001b[0m | \u001b[0m 9.112e+0\u001b[0m | \u001b[0m 38.93   \u001b[0m | \u001b[0m 41.7    \u001b[0m |\n"
     ]
    },
    {
     "name": "stderr",
     "output_type": "stream",
     "text": [
      "/usr/local/lib/python3.5/dist-packages/lightgbm/engine.py:503: UserWarning: Found `n_estimators` in params. Will use it instead of argument\n",
      "  warnings.warn(\"Found `{}` in params. Will use it instead of argument\".format(alias))\n",
      "/usr/local/lib/python3.5/dist-packages/sklearn/model_selection/_split.py:657: Warning: The least populated class in y has only 1 members, which is too few. The minimum number of members in any class cannot be less than n_splits=5.\n",
      "  % (min_groups, self.n_splits)), Warning)\n"
     ]
    },
    {
     "name": "stdout",
     "output_type": "stream",
     "text": [
      "| \u001b[0m 30      \u001b[0m | \u001b[0m 1.737e+0\u001b[0m | \u001b[0m 0.9238  \u001b[0m | \u001b[0m 0.7257  \u001b[0m | \u001b[0m 0.0468  \u001b[0m | \u001b[0m 7.539   \u001b[0m | \u001b[0m 43.56   \u001b[0m | \u001b[0m 0.09135 \u001b[0m | \u001b[0m 5.11e+03\u001b[0m | \u001b[0m 27.45   \u001b[0m | \u001b[0m 19.34   \u001b[0m |\n"
     ]
    },
    {
     "name": "stderr",
     "output_type": "stream",
     "text": [
      "/usr/local/lib/python3.5/dist-packages/lightgbm/engine.py:503: UserWarning: Found `n_estimators` in params. Will use it instead of argument\n",
      "  warnings.warn(\"Found `{}` in params. Will use it instead of argument\".format(alias))\n",
      "/usr/local/lib/python3.5/dist-packages/sklearn/model_selection/_split.py:657: Warning: The least populated class in y has only 1 members, which is too few. The minimum number of members in any class cannot be less than n_splits=5.\n",
      "  % (min_groups, self.n_splits)), Warning)\n"
     ]
    },
    {
     "name": "stdout",
     "output_type": "stream",
     "text": [
      "| \u001b[0m 31      \u001b[0m | \u001b[0m 1.75e+06\u001b[0m | \u001b[0m 0.8325  \u001b[0m | \u001b[0m 0.6997  \u001b[0m | \u001b[0m 0.03203 \u001b[0m | \u001b[0m 7.334   \u001b[0m | \u001b[0m 45.26   \u001b[0m | \u001b[0m 0.09881 \u001b[0m | \u001b[0m 7.108e+0\u001b[0m | \u001b[0m 40.25   \u001b[0m | \u001b[0m 44.54   \u001b[0m |\n"
     ]
    },
    {
     "name": "stderr",
     "output_type": "stream",
     "text": [
      "/usr/local/lib/python3.5/dist-packages/lightgbm/engine.py:503: UserWarning: Found `n_estimators` in params. Will use it instead of argument\n",
      "  warnings.warn(\"Found `{}` in params. Will use it instead of argument\".format(alias))\n",
      "/usr/local/lib/python3.5/dist-packages/sklearn/model_selection/_split.py:657: Warning: The least populated class in y has only 1 members, which is too few. The minimum number of members in any class cannot be less than n_splits=5.\n",
      "  % (min_groups, self.n_splits)), Warning)\n"
     ]
    },
    {
     "name": "stdout",
     "output_type": "stream",
     "text": [
      "| \u001b[0m 32      \u001b[0m | \u001b[0m 1.757e+0\u001b[0m | \u001b[0m 0.9399  \u001b[0m | \u001b[0m 0.6704  \u001b[0m | \u001b[0m 0.02016 \u001b[0m | \u001b[0m 7.627   \u001b[0m | \u001b[0m 46.03   \u001b[0m | \u001b[0m 0.07006 \u001b[0m | \u001b[0m 5.124e+0\u001b[0m | \u001b[0m 42.86   \u001b[0m | \u001b[0m 15.52   \u001b[0m |\n"
     ]
    },
    {
     "name": "stderr",
     "output_type": "stream",
     "text": [
      "/usr/local/lib/python3.5/dist-packages/lightgbm/engine.py:503: UserWarning: Found `n_estimators` in params. Will use it instead of argument\n",
      "  warnings.warn(\"Found `{}` in params. Will use it instead of argument\".format(alias))\n",
      "/usr/local/lib/python3.5/dist-packages/sklearn/model_selection/_split.py:657: Warning: The least populated class in y has only 1 members, which is too few. The minimum number of members in any class cannot be less than n_splits=5.\n",
      "  % (min_groups, self.n_splits)), Warning)\n"
     ]
    },
    {
     "name": "stdout",
     "output_type": "stream",
     "text": [
      "| \u001b[0m 33      \u001b[0m | \u001b[0m 1.762e+0\u001b[0m | \u001b[0m 0.9433  \u001b[0m | \u001b[0m 0.4372  \u001b[0m | \u001b[0m 0.01855 \u001b[0m | \u001b[0m 5.133   \u001b[0m | \u001b[0m 31.74   \u001b[0m | \u001b[0m 0.03462 \u001b[0m | \u001b[0m 2.67e+03\u001b[0m | \u001b[0m 30.08   \u001b[0m | \u001b[0m 13.98   \u001b[0m |\n"
     ]
    },
    {
     "name": "stderr",
     "output_type": "stream",
     "text": [
      "/usr/local/lib/python3.5/dist-packages/lightgbm/engine.py:503: UserWarning: Found `n_estimators` in params. Will use it instead of argument\n",
      "  warnings.warn(\"Found `{}` in params. Will use it instead of argument\".format(alias))\n",
      "/usr/local/lib/python3.5/dist-packages/sklearn/model_selection/_split.py:657: Warning: The least populated class in y has only 1 members, which is too few. The minimum number of members in any class cannot be less than n_splits=5.\n",
      "  % (min_groups, self.n_splits)), Warning)\n"
     ]
    },
    {
     "name": "stdout",
     "output_type": "stream",
     "text": [
      "| \u001b[0m 34      \u001b[0m | \u001b[0m 1.746e+0\u001b[0m | \u001b[0m 0.9168  \u001b[0m | \u001b[0m 0.3403  \u001b[0m | \u001b[0m 0.03923 \u001b[0m | \u001b[0m 6.606   \u001b[0m | \u001b[0m 48.22   \u001b[0m | \u001b[0m 0.07475 \u001b[0m | \u001b[0m 4.257e+0\u001b[0m | \u001b[0m 34.42   \u001b[0m | \u001b[0m 47.41   \u001b[0m |\n"
     ]
    },
    {
     "name": "stderr",
     "output_type": "stream",
     "text": [
      "/usr/local/lib/python3.5/dist-packages/lightgbm/engine.py:503: UserWarning: Found `n_estimators` in params. Will use it instead of argument\n",
      "  warnings.warn(\"Found `{}` in params. Will use it instead of argument\".format(alias))\n",
      "/usr/local/lib/python3.5/dist-packages/sklearn/model_selection/_split.py:657: Warning: The least populated class in y has only 1 members, which is too few. The minimum number of members in any class cannot be less than n_splits=5.\n",
      "  % (min_groups, self.n_splits)), Warning)\n"
     ]
    },
    {
     "name": "stdout",
     "output_type": "stream",
     "text": [
      "| \u001b[0m 35      \u001b[0m | \u001b[0m 1.726e+0\u001b[0m | \u001b[0m 0.9534  \u001b[0m | \u001b[0m 0.2989  \u001b[0m | \u001b[0m 0.06107 \u001b[0m | \u001b[0m 7.595   \u001b[0m | \u001b[0m 9.873   \u001b[0m | \u001b[0m 0.09793 \u001b[0m | \u001b[0m 9.003e+0\u001b[0m | \u001b[0m 35.12   \u001b[0m | \u001b[0m 32.44   \u001b[0m |\n",
      "=====================================================================================================================================\n",
      "|   iter    |  target   | baggin... | featur... | learni... | max_depth | min_ch... | min_sp... | n_esti... | num_le... |   seed    |\n",
      "-------------------------------------------------------------------------------------------------------------------------------------\n"
     ]
    },
    {
     "name": "stderr",
     "output_type": "stream",
     "text": [
      "/usr/local/lib/python3.5/dist-packages/lightgbm/engine.py:503: UserWarning: Found `n_estimators` in params. Will use it instead of argument\n",
      "  warnings.warn(\"Found `{}` in params. Will use it instead of argument\".format(alias))\n",
      "/usr/local/lib/python3.5/dist-packages/sklearn/model_selection/_split.py:657: Warning: The least populated class in y has only 1 members, which is too few. The minimum number of members in any class cannot be less than n_splits=5.\n",
      "  % (min_groups, self.n_splits)), Warning)\n"
     ]
    },
    {
     "name": "stdout",
     "output_type": "stream",
     "text": [
      "| \u001b[0m 1       \u001b[0m | \u001b[0m 1.787e+0\u001b[0m | \u001b[0m 0.9098  \u001b[0m | \u001b[0m 0.6722  \u001b[0m | \u001b[0m 0.04617 \u001b[0m | \u001b[0m 7.18    \u001b[0m | \u001b[0m 24.06   \u001b[0m | \u001b[0m 0.06494 \u001b[0m | \u001b[0m 4.938e+0\u001b[0m | \u001b[0m 42.73   \u001b[0m | \u001b[0m 48.55   \u001b[0m |\n"
     ]
    },
    {
     "name": "stderr",
     "output_type": "stream",
     "text": [
      "/usr/local/lib/python3.5/dist-packages/lightgbm/engine.py:503: UserWarning: Found `n_estimators` in params. Will use it instead of argument\n",
      "  warnings.warn(\"Found `{}` in params. Will use it instead of argument\".format(alias))\n",
      "/usr/local/lib/python3.5/dist-packages/sklearn/model_selection/_split.py:657: Warning: The least populated class in y has only 1 members, which is too few. The minimum number of members in any class cannot be less than n_splits=5.\n",
      "  % (min_groups, self.n_splits)), Warning)\n"
     ]
    },
    {
     "name": "stdout",
     "output_type": "stream",
     "text": [
      "| \u001b[95m 2       \u001b[0m | \u001b[95m 1.801e+0\u001b[0m | \u001b[95m 0.8767  \u001b[0m | \u001b[95m 0.7334  \u001b[0m | \u001b[95m 0.04173 \u001b[0m | \u001b[95m 7.272   \u001b[0m | \u001b[95m 46.65   \u001b[0m | \u001b[95m 0.008033\u001b[0m | \u001b[95m 1.784e+0\u001b[0m | \u001b[95m 24.42   \u001b[0m | \u001b[95m 43.3    \u001b[0m |\n"
     ]
    },
    {
     "name": "stderr",
     "output_type": "stream",
     "text": [
      "/usr/local/lib/python3.5/dist-packages/lightgbm/engine.py:503: UserWarning: Found `n_estimators` in params. Will use it instead of argument\n",
      "  warnings.warn(\"Found `{}` in params. Will use it instead of argument\".format(alias))\n",
      "/usr/local/lib/python3.5/dist-packages/sklearn/model_selection/_split.py:657: Warning: The least populated class in y has only 1 members, which is too few. The minimum number of members in any class cannot be less than n_splits=5.\n",
      "  % (min_groups, self.n_splits)), Warning)\n"
     ]
    },
    {
     "name": "stdout",
     "output_type": "stream",
     "text": [
      "| \u001b[0m 3       \u001b[0m | \u001b[0m 1.76e+06\u001b[0m | \u001b[0m 0.9556  \u001b[0m | \u001b[0m 0.796   \u001b[0m | \u001b[0m 0.06872 \u001b[0m | \u001b[0m 8.197   \u001b[0m | \u001b[0m 25.77   \u001b[0m | \u001b[0m 0.07827 \u001b[0m | \u001b[0m 2.064e+0\u001b[0m | \u001b[0m 37.44   \u001b[0m | \u001b[0m 15.73   \u001b[0m |\n"
     ]
    },
    {
     "name": "stderr",
     "output_type": "stream",
     "text": [
      "/usr/local/lib/python3.5/dist-packages/lightgbm/engine.py:503: UserWarning: Found `n_estimators` in params. Will use it instead of argument\n",
      "  warnings.warn(\"Found `{}` in params. Will use it instead of argument\".format(alias))\n",
      "/usr/local/lib/python3.5/dist-packages/sklearn/model_selection/_split.py:657: Warning: The least populated class in y has only 1 members, which is too few. The minimum number of members in any class cannot be less than n_splits=5.\n",
      "  % (min_groups, self.n_splits)), Warning)\n"
     ]
    },
    {
     "name": "stdout",
     "output_type": "stream",
     "text": [
      "| \u001b[95m 4       \u001b[0m | \u001b[95m 1.813e+0\u001b[0m | \u001b[95m 0.9889  \u001b[0m | \u001b[95m 0.5175  \u001b[0m | \u001b[95m 0.03488 \u001b[0m | \u001b[95m 6.058   \u001b[0m | \u001b[95m 39.84   \u001b[0m | \u001b[95m 0.04616 \u001b[0m | \u001b[95m 6.116e+0\u001b[0m | \u001b[95m 24.39   \u001b[0m | \u001b[95m 34.71   \u001b[0m |\n"
     ]
    },
    {
     "name": "stderr",
     "output_type": "stream",
     "text": [
      "/usr/local/lib/python3.5/dist-packages/lightgbm/engine.py:503: UserWarning: Found `n_estimators` in params. Will use it instead of argument\n",
      "  warnings.warn(\"Found `{}` in params. Will use it instead of argument\".format(alias))\n",
      "/usr/local/lib/python3.5/dist-packages/sklearn/model_selection/_split.py:657: Warning: The least populated class in y has only 1 members, which is too few. The minimum number of members in any class cannot be less than n_splits=5.\n",
      "  % (min_groups, self.n_splits)), Warning)\n"
     ]
    },
    {
     "name": "stdout",
     "output_type": "stream",
     "text": [
      "| \u001b[0m 5       \u001b[0m | \u001b[0m 1.783e+0\u001b[0m | \u001b[0m 0.9224  \u001b[0m | \u001b[0m 0.5935  \u001b[0m | \u001b[0m 0.06662 \u001b[0m | \u001b[0m 7.727   \u001b[0m | \u001b[0m 21.18   \u001b[0m | \u001b[0m 0.04427 \u001b[0m | \u001b[0m 7.279e+0\u001b[0m | \u001b[0m 25.26   \u001b[0m | \u001b[0m 36.67   \u001b[0m |\n"
     ]
    },
    {
     "name": "stderr",
     "output_type": "stream",
     "text": [
      "/usr/local/lib/python3.5/dist-packages/lightgbm/engine.py:503: UserWarning: Found `n_estimators` in params. Will use it instead of argument\n",
      "  warnings.warn(\"Found `{}` in params. Will use it instead of argument\".format(alias))\n",
      "/usr/local/lib/python3.5/dist-packages/sklearn/model_selection/_split.py:657: Warning: The least populated class in y has only 1 members, which is too few. The minimum number of members in any class cannot be less than n_splits=5.\n",
      "  % (min_groups, self.n_splits)), Warning)\n"
     ]
    },
    {
     "name": "stdout",
     "output_type": "stream",
     "text": [
      "| \u001b[95m 6       \u001b[0m | \u001b[95m 1.839e+0\u001b[0m | \u001b[95m 0.8844  \u001b[0m | \u001b[95m 0.2402  \u001b[0m | \u001b[95m 0.01921 \u001b[0m | \u001b[95m 8.233   \u001b[0m | \u001b[95m 9.211   \u001b[0m | \u001b[95m 0.001068\u001b[0m | \u001b[95m 7.493e+0\u001b[0m | \u001b[95m 30.28   \u001b[0m | \u001b[95m 39.33   \u001b[0m |\n"
     ]
    },
    {
     "name": "stderr",
     "output_type": "stream",
     "text": [
      "/usr/local/lib/python3.5/dist-packages/lightgbm/engine.py:503: UserWarning: Found `n_estimators` in params. Will use it instead of argument\n",
      "  warnings.warn(\"Found `{}` in params. Will use it instead of argument\".format(alias))\n",
      "/usr/local/lib/python3.5/dist-packages/sklearn/model_selection/_split.py:657: Warning: The least populated class in y has only 1 members, which is too few. The minimum number of members in any class cannot be less than n_splits=5.\n",
      "  % (min_groups, self.n_splits)), Warning)\n"
     ]
    },
    {
     "name": "stdout",
     "output_type": "stream",
     "text": [
      "| \u001b[0m 7       \u001b[0m | \u001b[0m 1.826e+0\u001b[0m | \u001b[0m 0.8595  \u001b[0m | \u001b[0m 0.843   \u001b[0m | \u001b[0m 0.01736 \u001b[0m | \u001b[0m 5.97    \u001b[0m | \u001b[0m 23.52   \u001b[0m | \u001b[0m 0.03308 \u001b[0m | \u001b[0m 6.152e+0\u001b[0m | \u001b[0m 28.82   \u001b[0m | \u001b[0m 47.88   \u001b[0m |\n"
     ]
    },
    {
     "name": "stderr",
     "output_type": "stream",
     "text": [
      "/usr/local/lib/python3.5/dist-packages/lightgbm/engine.py:503: UserWarning: Found `n_estimators` in params. Will use it instead of argument\n",
      "  warnings.warn(\"Found `{}` in params. Will use it instead of argument\".format(alias))\n",
      "/usr/local/lib/python3.5/dist-packages/sklearn/model_selection/_split.py:657: Warning: The least populated class in y has only 1 members, which is too few. The minimum number of members in any class cannot be less than n_splits=5.\n",
      "  % (min_groups, self.n_splits)), Warning)\n"
     ]
    },
    {
     "name": "stdout",
     "output_type": "stream",
     "text": [
      "| \u001b[0m 8       \u001b[0m | \u001b[0m 1.819e+0\u001b[0m | \u001b[0m 0.9116  \u001b[0m | \u001b[0m 0.6652  \u001b[0m | \u001b[0m 0.0291  \u001b[0m | \u001b[0m 6.537   \u001b[0m | \u001b[0m 18.14   \u001b[0m | \u001b[0m 0.06617 \u001b[0m | \u001b[0m 6.098e+0\u001b[0m | \u001b[0m 29.32   \u001b[0m | \u001b[0m 45.58   \u001b[0m |\n"
     ]
    },
    {
     "name": "stderr",
     "output_type": "stream",
     "text": [
      "/usr/local/lib/python3.5/dist-packages/lightgbm/engine.py:503: UserWarning: Found `n_estimators` in params. Will use it instead of argument\n",
      "  warnings.warn(\"Found `{}` in params. Will use it instead of argument\".format(alias))\n",
      "/usr/local/lib/python3.5/dist-packages/sklearn/model_selection/_split.py:657: Warning: The least populated class in y has only 1 members, which is too few. The minimum number of members in any class cannot be less than n_splits=5.\n",
      "  % (min_groups, self.n_splits)), Warning)\n"
     ]
    },
    {
     "name": "stdout",
     "output_type": "stream",
     "text": [
      "| \u001b[0m 9       \u001b[0m | \u001b[0m 1.768e+0\u001b[0m | \u001b[0m 0.9396  \u001b[0m | \u001b[0m 0.2106  \u001b[0m | \u001b[0m 0.06445 \u001b[0m | \u001b[0m 7.5     \u001b[0m | \u001b[0m 34.7    \u001b[0m | \u001b[0m 0.06542 \u001b[0m | \u001b[0m 6.628e+0\u001b[0m | \u001b[0m 28.8    \u001b[0m | \u001b[0m 36.39   \u001b[0m |\n"
     ]
    },
    {
     "name": "stderr",
     "output_type": "stream",
     "text": [
      "/usr/local/lib/python3.5/dist-packages/lightgbm/engine.py:503: UserWarning: Found `n_estimators` in params. Will use it instead of argument\n",
      "  warnings.warn(\"Found `{}` in params. Will use it instead of argument\".format(alias))\n",
      "/usr/local/lib/python3.5/dist-packages/sklearn/model_selection/_split.py:657: Warning: The least populated class in y has only 1 members, which is too few. The minimum number of members in any class cannot be less than n_splits=5.\n",
      "  % (min_groups, self.n_splits)), Warning)\n"
     ]
    },
    {
     "name": "stdout",
     "output_type": "stream",
     "text": [
      "| \u001b[0m 10      \u001b[0m | \u001b[0m 1.783e+0\u001b[0m | \u001b[0m 0.9603  \u001b[0m | \u001b[0m 0.865   \u001b[0m | \u001b[0m 0.05059 \u001b[0m | \u001b[0m 6.629   \u001b[0m | \u001b[0m 21.06   \u001b[0m | \u001b[0m 0.02608 \u001b[0m | \u001b[0m 1.416e+0\u001b[0m | \u001b[0m 36.43   \u001b[0m | \u001b[0m 18.61   \u001b[0m |\n"
     ]
    },
    {
     "name": "stderr",
     "output_type": "stream",
     "text": [
      "/usr/local/lib/python3.5/dist-packages/lightgbm/engine.py:503: UserWarning: Found `n_estimators` in params. Will use it instead of argument\n",
      "  warnings.warn(\"Found `{}` in params. Will use it instead of argument\".format(alias))\n",
      "/usr/local/lib/python3.5/dist-packages/sklearn/model_selection/_split.py:657: Warning: The least populated class in y has only 1 members, which is too few. The minimum number of members in any class cannot be less than n_splits=5.\n",
      "  % (min_groups, self.n_splits)), Warning)\n"
     ]
    },
    {
     "name": "stdout",
     "output_type": "stream",
     "text": [
      "| \u001b[0m 11      \u001b[0m | \u001b[0m 1.774e+0\u001b[0m | \u001b[0m 0.9577  \u001b[0m | \u001b[0m 0.6611  \u001b[0m | \u001b[0m 0.05888 \u001b[0m | \u001b[0m 7.256   \u001b[0m | \u001b[0m 41.3    \u001b[0m | \u001b[0m 0.07923 \u001b[0m | \u001b[0m 8.368e+0\u001b[0m | \u001b[0m 32.23   \u001b[0m | \u001b[0m 37.26   \u001b[0m |\n"
     ]
    },
    {
     "name": "stderr",
     "output_type": "stream",
     "text": [
      "/usr/local/lib/python3.5/dist-packages/lightgbm/engine.py:503: UserWarning: Found `n_estimators` in params. Will use it instead of argument\n",
      "  warnings.warn(\"Found `{}` in params. Will use it instead of argument\".format(alias))\n",
      "/usr/local/lib/python3.5/dist-packages/sklearn/model_selection/_split.py:657: Warning: The least populated class in y has only 1 members, which is too few. The minimum number of members in any class cannot be less than n_splits=5.\n",
      "  % (min_groups, self.n_splits)), Warning)\n"
     ]
    },
    {
     "name": "stdout",
     "output_type": "stream",
     "text": [
      "| \u001b[0m 12      \u001b[0m | \u001b[0m 1.826e+0\u001b[0m | \u001b[0m 0.8575  \u001b[0m | \u001b[0m 0.2975  \u001b[0m | \u001b[0m 0.03868 \u001b[0m | \u001b[0m 5.399   \u001b[0m | \u001b[0m 40.28   \u001b[0m | \u001b[0m 0.09882 \u001b[0m | \u001b[0m 1.793e+0\u001b[0m | \u001b[0m 25.36   \u001b[0m | \u001b[0m 38.65   \u001b[0m |\n"
     ]
    },
    {
     "name": "stderr",
     "output_type": "stream",
     "text": [
      "/usr/local/lib/python3.5/dist-packages/lightgbm/engine.py:503: UserWarning: Found `n_estimators` in params. Will use it instead of argument\n",
      "  warnings.warn(\"Found `{}` in params. Will use it instead of argument\".format(alias))\n",
      "/usr/local/lib/python3.5/dist-packages/sklearn/model_selection/_split.py:657: Warning: The least populated class in y has only 1 members, which is too few. The minimum number of members in any class cannot be less than n_splits=5.\n",
      "  % (min_groups, self.n_splits)), Warning)\n"
     ]
    },
    {
     "name": "stdout",
     "output_type": "stream",
     "text": [
      "| \u001b[0m 13      \u001b[0m | \u001b[0m 1.823e+0\u001b[0m | \u001b[0m 0.951   \u001b[0m | \u001b[0m 0.6561  \u001b[0m | \u001b[0m 0.02132 \u001b[0m | \u001b[0m 8.983   \u001b[0m | \u001b[0m 41.21   \u001b[0m | \u001b[0m 0.04594 \u001b[0m | \u001b[0m 2.894e+0\u001b[0m | \u001b[0m 26.45   \u001b[0m | \u001b[0m 28.42   \u001b[0m |\n"
     ]
    },
    {
     "name": "stderr",
     "output_type": "stream",
     "text": [
      "/usr/local/lib/python3.5/dist-packages/lightgbm/engine.py:503: UserWarning: Found `n_estimators` in params. Will use it instead of argument\n",
      "  warnings.warn(\"Found `{}` in params. Will use it instead of argument\".format(alias))\n",
      "/usr/local/lib/python3.5/dist-packages/sklearn/model_selection/_split.py:657: Warning: The least populated class in y has only 1 members, which is too few. The minimum number of members in any class cannot be less than n_splits=5.\n",
      "  % (min_groups, self.n_splits)), Warning)\n"
     ]
    },
    {
     "name": "stdout",
     "output_type": "stream",
     "text": [
      "| \u001b[0m 14      \u001b[0m | \u001b[0m 1.83e+06\u001b[0m | \u001b[0m 0.8457  \u001b[0m | \u001b[0m 0.4622  \u001b[0m | \u001b[0m 0.01581 \u001b[0m | \u001b[0m 6.113   \u001b[0m | \u001b[0m 28.36   \u001b[0m | \u001b[0m 0.05396 \u001b[0m | \u001b[0m 7.54e+03\u001b[0m | \u001b[0m 38.65   \u001b[0m | \u001b[0m 44.3    \u001b[0m |\n"
     ]
    },
    {
     "name": "stderr",
     "output_type": "stream",
     "text": [
      "/usr/local/lib/python3.5/dist-packages/lightgbm/engine.py:503: UserWarning: Found `n_estimators` in params. Will use it instead of argument\n",
      "  warnings.warn(\"Found `{}` in params. Will use it instead of argument\".format(alias))\n",
      "/usr/local/lib/python3.5/dist-packages/sklearn/model_selection/_split.py:657: Warning: The least populated class in y has only 1 members, which is too few. The minimum number of members in any class cannot be less than n_splits=5.\n",
      "  % (min_groups, self.n_splits)), Warning)\n"
     ]
    },
    {
     "name": "stdout",
     "output_type": "stream",
     "text": [
      "| \u001b[0m 15      \u001b[0m | \u001b[0m 1.791e+0\u001b[0m | \u001b[0m 0.853   \u001b[0m | \u001b[0m 0.4545  \u001b[0m | \u001b[0m 0.0522  \u001b[0m | \u001b[0m 5.428   \u001b[0m | \u001b[0m 38.43   \u001b[0m | \u001b[0m 0.001316\u001b[0m | \u001b[0m 1.039e+0\u001b[0m | \u001b[0m 33.05   \u001b[0m | \u001b[0m 13.05   \u001b[0m |\n"
     ]
    },
    {
     "name": "stderr",
     "output_type": "stream",
     "text": [
      "/usr/local/lib/python3.5/dist-packages/lightgbm/engine.py:503: UserWarning: Found `n_estimators` in params. Will use it instead of argument\n",
      "  warnings.warn(\"Found `{}` in params. Will use it instead of argument\".format(alias))\n",
      "/usr/local/lib/python3.5/dist-packages/sklearn/model_selection/_split.py:657: Warning: The least populated class in y has only 1 members, which is too few. The minimum number of members in any class cannot be less than n_splits=5.\n",
      "  % (min_groups, self.n_splits)), Warning)\n"
     ]
    },
    {
     "name": "stdout",
     "output_type": "stream",
     "text": [
      "| \u001b[0m 16      \u001b[0m | \u001b[0m 1.829e+0\u001b[0m | \u001b[0m 0.9359  \u001b[0m | \u001b[0m 0.8724  \u001b[0m | \u001b[0m 0.01431 \u001b[0m | \u001b[0m 7.418   \u001b[0m | \u001b[0m 8.735   \u001b[0m | \u001b[0m 0.09379 \u001b[0m | \u001b[0m 5.814e+0\u001b[0m | \u001b[0m 40.16   \u001b[0m | \u001b[0m 20.37   \u001b[0m |\n"
     ]
    },
    {
     "name": "stderr",
     "output_type": "stream",
     "text": [
      "/usr/local/lib/python3.5/dist-packages/lightgbm/engine.py:503: UserWarning: Found `n_estimators` in params. Will use it instead of argument\n",
      "  warnings.warn(\"Found `{}` in params. Will use it instead of argument\".format(alias))\n",
      "/usr/local/lib/python3.5/dist-packages/sklearn/model_selection/_split.py:657: Warning: The least populated class in y has only 1 members, which is too few. The minimum number of members in any class cannot be less than n_splits=5.\n",
      "  % (min_groups, self.n_splits)), Warning)\n"
     ]
    },
    {
     "name": "stdout",
     "output_type": "stream",
     "text": [
      "| \u001b[0m 17      \u001b[0m | \u001b[0m 1.802e+0\u001b[0m | \u001b[0m 0.9979  \u001b[0m | \u001b[0m 0.6439  \u001b[0m | \u001b[0m 0.03786 \u001b[0m | \u001b[0m 6.076   \u001b[0m | \u001b[0m 37.62   \u001b[0m | \u001b[0m 0.09645 \u001b[0m | \u001b[0m 7.331e+0\u001b[0m | \u001b[0m 32.11   \u001b[0m | \u001b[0m 10.71   \u001b[0m |\n"
     ]
    },
    {
     "name": "stderr",
     "output_type": "stream",
     "text": [
      "/usr/local/lib/python3.5/dist-packages/lightgbm/engine.py:503: UserWarning: Found `n_estimators` in params. Will use it instead of argument\n",
      "  warnings.warn(\"Found `{}` in params. Will use it instead of argument\".format(alias))\n",
      "/usr/local/lib/python3.5/dist-packages/sklearn/model_selection/_split.py:657: Warning: The least populated class in y has only 1 members, which is too few. The minimum number of members in any class cannot be less than n_splits=5.\n",
      "  % (min_groups, self.n_splits)), Warning)\n"
     ]
    },
    {
     "name": "stdout",
     "output_type": "stream",
     "text": [
      "| \u001b[0m 18      \u001b[0m | \u001b[0m 1.824e+0\u001b[0m | \u001b[0m 0.9918  \u001b[0m | \u001b[0m 0.2612  \u001b[0m | \u001b[0m 0.02321 \u001b[0m | \u001b[0m 5.548   \u001b[0m | \u001b[0m 9.812   \u001b[0m | \u001b[0m 0.09498 \u001b[0m | \u001b[0m 9.729e+0\u001b[0m | \u001b[0m 38.44   \u001b[0m | \u001b[0m 30.16   \u001b[0m |\n"
     ]
    },
    {
     "name": "stderr",
     "output_type": "stream",
     "text": [
      "/usr/local/lib/python3.5/dist-packages/lightgbm/engine.py:503: UserWarning: Found `n_estimators` in params. Will use it instead of argument\n",
      "  warnings.warn(\"Found `{}` in params. Will use it instead of argument\".format(alias))\n",
      "/usr/local/lib/python3.5/dist-packages/sklearn/model_selection/_split.py:657: Warning: The least populated class in y has only 1 members, which is too few. The minimum number of members in any class cannot be less than n_splits=5.\n",
      "  % (min_groups, self.n_splits)), Warning)\n"
     ]
    },
    {
     "name": "stdout",
     "output_type": "stream",
     "text": [
      "| \u001b[0m 19      \u001b[0m | \u001b[0m 1.805e+0\u001b[0m | \u001b[0m 0.8746  \u001b[0m | \u001b[0m 0.249   \u001b[0m | \u001b[0m 0.05375 \u001b[0m | \u001b[0m 8.143   \u001b[0m | \u001b[0m 33.56   \u001b[0m | \u001b[0m 0.04833 \u001b[0m | \u001b[0m 9.382e+0\u001b[0m | \u001b[0m 26.39   \u001b[0m | \u001b[0m 23.5    \u001b[0m |\n"
     ]
    },
    {
     "name": "stderr",
     "output_type": "stream",
     "text": [
      "/usr/local/lib/python3.5/dist-packages/lightgbm/engine.py:503: UserWarning: Found `n_estimators` in params. Will use it instead of argument\n",
      "  warnings.warn(\"Found `{}` in params. Will use it instead of argument\".format(alias))\n",
      "/usr/local/lib/python3.5/dist-packages/sklearn/model_selection/_split.py:657: Warning: The least populated class in y has only 1 members, which is too few. The minimum number of members in any class cannot be less than n_splits=5.\n",
      "  % (min_groups, self.n_splits)), Warning)\n"
     ]
    },
    {
     "name": "stdout",
     "output_type": "stream",
     "text": [
      "| \u001b[0m 20      \u001b[0m | \u001b[0m 1.825e+0\u001b[0m | \u001b[0m 0.8393  \u001b[0m | \u001b[0m 0.2402  \u001b[0m | \u001b[0m 0.03154 \u001b[0m | \u001b[0m 7.113   \u001b[0m | \u001b[0m 28.48   \u001b[0m | \u001b[0m 0.02748 \u001b[0m | \u001b[0m 5.279e+0\u001b[0m | \u001b[0m 30.63   \u001b[0m | \u001b[0m 48.16   \u001b[0m |\n"
     ]
    },
    {
     "name": "stderr",
     "output_type": "stream",
     "text": [
      "/usr/local/lib/python3.5/dist-packages/lightgbm/engine.py:503: UserWarning: Found `n_estimators` in params. Will use it instead of argument\n",
      "  warnings.warn(\"Found `{}` in params. Will use it instead of argument\".format(alias))\n",
      "/usr/local/lib/python3.5/dist-packages/sklearn/model_selection/_split.py:657: Warning: The least populated class in y has only 1 members, which is too few. The minimum number of members in any class cannot be less than n_splits=5.\n",
      "  % (min_groups, self.n_splits)), Warning)\n"
     ]
    },
    {
     "name": "stdout",
     "output_type": "stream",
     "text": [
      "| \u001b[0m 21      \u001b[0m | \u001b[0m 1.802e+0\u001b[0m | \u001b[0m 0.9968  \u001b[0m | \u001b[0m 0.8276  \u001b[0m | \u001b[0m 0.03609 \u001b[0m | \u001b[0m 5.922   \u001b[0m | \u001b[0m 15.33   \u001b[0m | \u001b[0m 0.03068 \u001b[0m | \u001b[0m 6.304e+0\u001b[0m | \u001b[0m 33.36   \u001b[0m | \u001b[0m 28.39   \u001b[0m |\n"
     ]
    },
    {
     "name": "stderr",
     "output_type": "stream",
     "text": [
      "/usr/local/lib/python3.5/dist-packages/lightgbm/engine.py:503: UserWarning: Found `n_estimators` in params. Will use it instead of argument\n",
      "  warnings.warn(\"Found `{}` in params. Will use it instead of argument\".format(alias))\n",
      "/usr/local/lib/python3.5/dist-packages/sklearn/model_selection/_split.py:657: Warning: The least populated class in y has only 1 members, which is too few. The minimum number of members in any class cannot be less than n_splits=5.\n",
      "  % (min_groups, self.n_splits)), Warning)\n"
     ]
    },
    {
     "name": "stdout",
     "output_type": "stream",
     "text": [
      "| \u001b[0m 22      \u001b[0m | \u001b[0m 1.802e+0\u001b[0m | \u001b[0m 0.9065  \u001b[0m | \u001b[0m 0.3233  \u001b[0m | \u001b[0m 0.04655 \u001b[0m | \u001b[0m 7.683   \u001b[0m | \u001b[0m 16.72   \u001b[0m | \u001b[0m 0.03542 \u001b[0m | \u001b[0m 5.198e+0\u001b[0m | \u001b[0m 28.84   \u001b[0m | \u001b[0m 16.14   \u001b[0m |\n"
     ]
    },
    {
     "name": "stderr",
     "output_type": "stream",
     "text": [
      "/usr/local/lib/python3.5/dist-packages/lightgbm/engine.py:503: UserWarning: Found `n_estimators` in params. Will use it instead of argument\n",
      "  warnings.warn(\"Found `{}` in params. Will use it instead of argument\".format(alias))\n",
      "/usr/local/lib/python3.5/dist-packages/sklearn/model_selection/_split.py:657: Warning: The least populated class in y has only 1 members, which is too few. The minimum number of members in any class cannot be less than n_splits=5.\n",
      "  % (min_groups, self.n_splits)), Warning)\n"
     ]
    },
    {
     "name": "stdout",
     "output_type": "stream",
     "text": [
      "| \u001b[0m 23      \u001b[0m | \u001b[0m 1.8e+06 \u001b[0m | \u001b[0m 0.832   \u001b[0m | \u001b[0m 0.2657  \u001b[0m | \u001b[0m 0.04303 \u001b[0m | \u001b[0m 7.612   \u001b[0m | \u001b[0m 31.18   \u001b[0m | \u001b[0m 0.05258 \u001b[0m | \u001b[0m 8.944e+0\u001b[0m | \u001b[0m 33.68   \u001b[0m | \u001b[0m 40.89   \u001b[0m |\n"
     ]
    },
    {
     "name": "stderr",
     "output_type": "stream",
     "text": [
      "/usr/local/lib/python3.5/dist-packages/lightgbm/engine.py:503: UserWarning: Found `n_estimators` in params. Will use it instead of argument\n",
      "  warnings.warn(\"Found `{}` in params. Will use it instead of argument\".format(alias))\n",
      "/usr/local/lib/python3.5/dist-packages/sklearn/model_selection/_split.py:657: Warning: The least populated class in y has only 1 members, which is too few. The minimum number of members in any class cannot be less than n_splits=5.\n",
      "  % (min_groups, self.n_splits)), Warning)\n"
     ]
    },
    {
     "name": "stdout",
     "output_type": "stream",
     "text": [
      "| \u001b[0m 24      \u001b[0m | \u001b[0m 1.784e+0\u001b[0m | \u001b[0m 0.919   \u001b[0m | \u001b[0m 0.655   \u001b[0m | \u001b[0m 0.06459 \u001b[0m | \u001b[0m 7.205   \u001b[0m | \u001b[0m 39.19   \u001b[0m | \u001b[0m 0.01897 \u001b[0m | \u001b[0m 4.244e+0\u001b[0m | \u001b[0m 30.96   \u001b[0m | \u001b[0m 36.63   \u001b[0m |\n"
     ]
    },
    {
     "name": "stderr",
     "output_type": "stream",
     "text": [
      "/usr/local/lib/python3.5/dist-packages/lightgbm/engine.py:503: UserWarning: Found `n_estimators` in params. Will use it instead of argument\n",
      "  warnings.warn(\"Found `{}` in params. Will use it instead of argument\".format(alias))\n",
      "/usr/local/lib/python3.5/dist-packages/sklearn/model_selection/_split.py:657: Warning: The least populated class in y has only 1 members, which is too few. The minimum number of members in any class cannot be less than n_splits=5.\n",
      "  % (min_groups, self.n_splits)), Warning)\n"
     ]
    },
    {
     "name": "stdout",
     "output_type": "stream",
     "text": [
      "| \u001b[0m 25      \u001b[0m | \u001b[0m 1.764e+0\u001b[0m | \u001b[0m 0.8768  \u001b[0m | \u001b[0m 0.8819  \u001b[0m | \u001b[0m 0.06463 \u001b[0m | \u001b[0m 8.151   \u001b[0m | \u001b[0m 43.29   \u001b[0m | \u001b[0m 0.02874 \u001b[0m | \u001b[0m 9.494e+0\u001b[0m | \u001b[0m 41.24   \u001b[0m | \u001b[0m 10.5    \u001b[0m |\n"
     ]
    },
    {
     "name": "stderr",
     "output_type": "stream",
     "text": [
      "/usr/local/lib/python3.5/dist-packages/lightgbm/engine.py:503: UserWarning: Found `n_estimators` in params. Will use it instead of argument\n",
      "  warnings.warn(\"Found `{}` in params. Will use it instead of argument\".format(alias))\n",
      "/usr/local/lib/python3.5/dist-packages/sklearn/model_selection/_split.py:657: Warning: The least populated class in y has only 1 members, which is too few. The minimum number of members in any class cannot be less than n_splits=5.\n",
      "  % (min_groups, self.n_splits)), Warning)\n"
     ]
    },
    {
     "name": "stdout",
     "output_type": "stream",
     "text": [
      "| \u001b[0m 26      \u001b[0m | \u001b[0m 1.775e+0\u001b[0m | \u001b[0m 0.9563  \u001b[0m | \u001b[0m 0.4007  \u001b[0m | \u001b[0m 0.06042 \u001b[0m | \u001b[0m 7.337   \u001b[0m | \u001b[0m 49.21   \u001b[0m | \u001b[0m 0.08541 \u001b[0m | \u001b[0m 9.293e+0\u001b[0m | \u001b[0m 24.31   \u001b[0m | \u001b[0m 46.22   \u001b[0m |\n"
     ]
    },
    {
     "name": "stderr",
     "output_type": "stream",
     "text": [
      "/usr/local/lib/python3.5/dist-packages/lightgbm/engine.py:503: UserWarning: Found `n_estimators` in params. Will use it instead of argument\n",
      "  warnings.warn(\"Found `{}` in params. Will use it instead of argument\".format(alias))\n",
      "/usr/local/lib/python3.5/dist-packages/sklearn/model_selection/_split.py:657: Warning: The least populated class in y has only 1 members, which is too few. The minimum number of members in any class cannot be less than n_splits=5.\n",
      "  % (min_groups, self.n_splits)), Warning)\n"
     ]
    },
    {
     "name": "stdout",
     "output_type": "stream",
     "text": [
      "| \u001b[0m 27      \u001b[0m | \u001b[0m 1.811e+0\u001b[0m | \u001b[0m 0.9814  \u001b[0m | \u001b[0m 0.6478  \u001b[0m | \u001b[0m 0.02909 \u001b[0m | \u001b[0m 7.59    \u001b[0m | \u001b[0m 37.88   \u001b[0m | \u001b[0m 0.04443 \u001b[0m | \u001b[0m 2.525e+0\u001b[0m | \u001b[0m 29.46   \u001b[0m | \u001b[0m 24.38   \u001b[0m |\n"
     ]
    },
    {
     "name": "stderr",
     "output_type": "stream",
     "text": [
      "/usr/local/lib/python3.5/dist-packages/lightgbm/engine.py:503: UserWarning: Found `n_estimators` in params. Will use it instead of argument\n",
      "  warnings.warn(\"Found `{}` in params. Will use it instead of argument\".format(alias))\n",
      "/usr/local/lib/python3.5/dist-packages/sklearn/model_selection/_split.py:657: Warning: The least populated class in y has only 1 members, which is too few. The minimum number of members in any class cannot be less than n_splits=5.\n",
      "  % (min_groups, self.n_splits)), Warning)\n"
     ]
    },
    {
     "name": "stdout",
     "output_type": "stream",
     "text": [
      "| \u001b[0m 28      \u001b[0m | \u001b[0m 1.783e+0\u001b[0m | \u001b[0m 0.8901  \u001b[0m | \u001b[0m 0.8498  \u001b[0m | \u001b[0m 0.05063 \u001b[0m | \u001b[0m 7.725   \u001b[0m | \u001b[0m 42.41   \u001b[0m | \u001b[0m 0.05489 \u001b[0m | \u001b[0m 6.083e+0\u001b[0m | \u001b[0m 32.77   \u001b[0m | \u001b[0m 28.04   \u001b[0m |\n"
     ]
    },
    {
     "name": "stderr",
     "output_type": "stream",
     "text": [
      "/usr/local/lib/python3.5/dist-packages/lightgbm/engine.py:503: UserWarning: Found `n_estimators` in params. Will use it instead of argument\n",
      "  warnings.warn(\"Found `{}` in params. Will use it instead of argument\".format(alias))\n",
      "/usr/local/lib/python3.5/dist-packages/sklearn/model_selection/_split.py:657: Warning: The least populated class in y has only 1 members, which is too few. The minimum number of members in any class cannot be less than n_splits=5.\n",
      "  % (min_groups, self.n_splits)), Warning)\n"
     ]
    },
    {
     "name": "stdout",
     "output_type": "stream",
     "text": [
      "| \u001b[0m 29      \u001b[0m | \u001b[0m 1.816e+0\u001b[0m | \u001b[0m 0.8423  \u001b[0m | \u001b[0m 0.7492  \u001b[0m | \u001b[0m 0.02448 \u001b[0m | \u001b[0m 7.032   \u001b[0m | \u001b[0m 24.97   \u001b[0m | \u001b[0m 0.007552\u001b[0m | \u001b[0m 9.112e+0\u001b[0m | \u001b[0m 38.93   \u001b[0m | \u001b[0m 41.7    \u001b[0m |\n"
     ]
    },
    {
     "name": "stderr",
     "output_type": "stream",
     "text": [
      "/usr/local/lib/python3.5/dist-packages/lightgbm/engine.py:503: UserWarning: Found `n_estimators` in params. Will use it instead of argument\n",
      "  warnings.warn(\"Found `{}` in params. Will use it instead of argument\".format(alias))\n",
      "/usr/local/lib/python3.5/dist-packages/sklearn/model_selection/_split.py:657: Warning: The least populated class in y has only 1 members, which is too few. The minimum number of members in any class cannot be less than n_splits=5.\n",
      "  % (min_groups, self.n_splits)), Warning)\n"
     ]
    },
    {
     "name": "stdout",
     "output_type": "stream",
     "text": [
      "| \u001b[0m 30      \u001b[0m | \u001b[0m 1.797e+0\u001b[0m | \u001b[0m 0.9238  \u001b[0m | \u001b[0m 0.7257  \u001b[0m | \u001b[0m 0.0468  \u001b[0m | \u001b[0m 7.539   \u001b[0m | \u001b[0m 43.56   \u001b[0m | \u001b[0m 0.09135 \u001b[0m | \u001b[0m 5.11e+03\u001b[0m | \u001b[0m 27.45   \u001b[0m | \u001b[0m 19.34   \u001b[0m |\n"
     ]
    },
    {
     "name": "stderr",
     "output_type": "stream",
     "text": [
      "/usr/local/lib/python3.5/dist-packages/lightgbm/engine.py:503: UserWarning: Found `n_estimators` in params. Will use it instead of argument\n",
      "  warnings.warn(\"Found `{}` in params. Will use it instead of argument\".format(alias))\n",
      "/usr/local/lib/python3.5/dist-packages/sklearn/model_selection/_split.py:657: Warning: The least populated class in y has only 1 members, which is too few. The minimum number of members in any class cannot be less than n_splits=5.\n",
      "  % (min_groups, self.n_splits)), Warning)\n"
     ]
    },
    {
     "name": "stdout",
     "output_type": "stream",
     "text": [
      "| \u001b[0m 31      \u001b[0m | \u001b[0m 1.812e+0\u001b[0m | \u001b[0m 0.8325  \u001b[0m | \u001b[0m 0.6997  \u001b[0m | \u001b[0m 0.03203 \u001b[0m | \u001b[0m 7.334   \u001b[0m | \u001b[0m 45.26   \u001b[0m | \u001b[0m 0.09881 \u001b[0m | \u001b[0m 7.108e+0\u001b[0m | \u001b[0m 40.25   \u001b[0m | \u001b[0m 44.54   \u001b[0m |\n"
     ]
    },
    {
     "name": "stderr",
     "output_type": "stream",
     "text": [
      "/usr/local/lib/python3.5/dist-packages/lightgbm/engine.py:503: UserWarning: Found `n_estimators` in params. Will use it instead of argument\n",
      "  warnings.warn(\"Found `{}` in params. Will use it instead of argument\".format(alias))\n",
      "/usr/local/lib/python3.5/dist-packages/sklearn/model_selection/_split.py:657: Warning: The least populated class in y has only 1 members, which is too few. The minimum number of members in any class cannot be less than n_splits=5.\n",
      "  % (min_groups, self.n_splits)), Warning)\n"
     ]
    },
    {
     "name": "stdout",
     "output_type": "stream",
     "text": [
      "| \u001b[0m 32      \u001b[0m | \u001b[0m 1.821e+0\u001b[0m | \u001b[0m 0.9399  \u001b[0m | \u001b[0m 0.6704  \u001b[0m | \u001b[0m 0.02016 \u001b[0m | \u001b[0m 7.627   \u001b[0m | \u001b[0m 46.03   \u001b[0m | \u001b[0m 0.07006 \u001b[0m | \u001b[0m 5.124e+0\u001b[0m | \u001b[0m 42.86   \u001b[0m | \u001b[0m 15.52   \u001b[0m |\n"
     ]
    },
    {
     "name": "stderr",
     "output_type": "stream",
     "text": [
      "/usr/local/lib/python3.5/dist-packages/lightgbm/engine.py:503: UserWarning: Found `n_estimators` in params. Will use it instead of argument\n",
      "  warnings.warn(\"Found `{}` in params. Will use it instead of argument\".format(alias))\n",
      "/usr/local/lib/python3.5/dist-packages/sklearn/model_selection/_split.py:657: Warning: The least populated class in y has only 1 members, which is too few. The minimum number of members in any class cannot be less than n_splits=5.\n",
      "  % (min_groups, self.n_splits)), Warning)\n"
     ]
    },
    {
     "name": "stdout",
     "output_type": "stream",
     "text": [
      "| \u001b[0m 33      \u001b[0m | \u001b[0m 1.827e+0\u001b[0m | \u001b[0m 0.9433  \u001b[0m | \u001b[0m 0.4372  \u001b[0m | \u001b[0m 0.01855 \u001b[0m | \u001b[0m 5.133   \u001b[0m | \u001b[0m 31.74   \u001b[0m | \u001b[0m 0.03462 \u001b[0m | \u001b[0m 2.67e+03\u001b[0m | \u001b[0m 30.08   \u001b[0m | \u001b[0m 13.98   \u001b[0m |\n"
     ]
    },
    {
     "name": "stderr",
     "output_type": "stream",
     "text": [
      "/usr/local/lib/python3.5/dist-packages/lightgbm/engine.py:503: UserWarning: Found `n_estimators` in params. Will use it instead of argument\n",
      "  warnings.warn(\"Found `{}` in params. Will use it instead of argument\".format(alias))\n",
      "/usr/local/lib/python3.5/dist-packages/sklearn/model_selection/_split.py:657: Warning: The least populated class in y has only 1 members, which is too few. The minimum number of members in any class cannot be less than n_splits=5.\n",
      "  % (min_groups, self.n_splits)), Warning)\n"
     ]
    },
    {
     "name": "stdout",
     "output_type": "stream",
     "text": [
      "| \u001b[0m 34      \u001b[0m | \u001b[0m 1.812e+0\u001b[0m | \u001b[0m 0.9168  \u001b[0m | \u001b[0m 0.3403  \u001b[0m | \u001b[0m 0.03923 \u001b[0m | \u001b[0m 6.606   \u001b[0m | \u001b[0m 48.22   \u001b[0m | \u001b[0m 0.07475 \u001b[0m | \u001b[0m 4.257e+0\u001b[0m | \u001b[0m 34.42   \u001b[0m | \u001b[0m 47.41   \u001b[0m |\n"
     ]
    },
    {
     "name": "stderr",
     "output_type": "stream",
     "text": [
      "/usr/local/lib/python3.5/dist-packages/lightgbm/engine.py:503: UserWarning: Found `n_estimators` in params. Will use it instead of argument\n",
      "  warnings.warn(\"Found `{}` in params. Will use it instead of argument\".format(alias))\n",
      "/usr/local/lib/python3.5/dist-packages/sklearn/model_selection/_split.py:657: Warning: The least populated class in y has only 1 members, which is too few. The minimum number of members in any class cannot be less than n_splits=5.\n",
      "  % (min_groups, self.n_splits)), Warning)\n"
     ]
    },
    {
     "name": "stdout",
     "output_type": "stream",
     "text": [
      "| \u001b[0m 35      \u001b[0m | \u001b[0m 1.792e+0\u001b[0m | \u001b[0m 0.9534  \u001b[0m | \u001b[0m 0.2989  \u001b[0m | \u001b[0m 0.06107 \u001b[0m | \u001b[0m 7.595   \u001b[0m | \u001b[0m 9.873   \u001b[0m | \u001b[0m 0.09793 \u001b[0m | \u001b[0m 9.003e+0\u001b[0m | \u001b[0m 35.12   \u001b[0m | \u001b[0m 32.44   \u001b[0m |\n",
      "=====================================================================================================================================\n",
      "|   iter    |  target   | baggin... | featur... | learni... | max_depth | min_ch... | min_sp... | n_esti... | num_le... |   seed    |\n",
      "-------------------------------------------------------------------------------------------------------------------------------------\n"
     ]
    },
    {
     "name": "stderr",
     "output_type": "stream",
     "text": [
      "/usr/local/lib/python3.5/dist-packages/lightgbm/engine.py:503: UserWarning: Found `n_estimators` in params. Will use it instead of argument\n",
      "  warnings.warn(\"Found `{}` in params. Will use it instead of argument\".format(alias))\n",
      "/usr/local/lib/python3.5/dist-packages/sklearn/model_selection/_split.py:657: Warning: The least populated class in y has only 1 members, which is too few. The minimum number of members in any class cannot be less than n_splits=5.\n",
      "  % (min_groups, self.n_splits)), Warning)\n"
     ]
    },
    {
     "name": "stdout",
     "output_type": "stream",
     "text": [
      "| \u001b[0m 1       \u001b[0m | \u001b[0m 1.921e+0\u001b[0m | \u001b[0m 0.9098  \u001b[0m | \u001b[0m 0.6722  \u001b[0m | \u001b[0m 0.04617 \u001b[0m | \u001b[0m 7.18    \u001b[0m | \u001b[0m 24.06   \u001b[0m | \u001b[0m 0.06494 \u001b[0m | \u001b[0m 4.938e+0\u001b[0m | \u001b[0m 42.73   \u001b[0m | \u001b[0m 48.55   \u001b[0m |\n"
     ]
    },
    {
     "name": "stderr",
     "output_type": "stream",
     "text": [
      "/usr/local/lib/python3.5/dist-packages/lightgbm/engine.py:503: UserWarning: Found `n_estimators` in params. Will use it instead of argument\n",
      "  warnings.warn(\"Found `{}` in params. Will use it instead of argument\".format(alias))\n",
      "/usr/local/lib/python3.5/dist-packages/sklearn/model_selection/_split.py:657: Warning: The least populated class in y has only 1 members, which is too few. The minimum number of members in any class cannot be less than n_splits=5.\n",
      "  % (min_groups, self.n_splits)), Warning)\n"
     ]
    },
    {
     "name": "stdout",
     "output_type": "stream",
     "text": [
      "| \u001b[95m 2       \u001b[0m | \u001b[95m 1.934e+0\u001b[0m | \u001b[95m 0.8767  \u001b[0m | \u001b[95m 0.7334  \u001b[0m | \u001b[95m 0.04173 \u001b[0m | \u001b[95m 7.272   \u001b[0m | \u001b[95m 46.65   \u001b[0m | \u001b[95m 0.008033\u001b[0m | \u001b[95m 1.784e+0\u001b[0m | \u001b[95m 24.42   \u001b[0m | \u001b[95m 43.3    \u001b[0m |\n"
     ]
    },
    {
     "name": "stderr",
     "output_type": "stream",
     "text": [
      "/usr/local/lib/python3.5/dist-packages/lightgbm/engine.py:503: UserWarning: Found `n_estimators` in params. Will use it instead of argument\n",
      "  warnings.warn(\"Found `{}` in params. Will use it instead of argument\".format(alias))\n",
      "/usr/local/lib/python3.5/dist-packages/sklearn/model_selection/_split.py:657: Warning: The least populated class in y has only 1 members, which is too few. The minimum number of members in any class cannot be less than n_splits=5.\n",
      "  % (min_groups, self.n_splits)), Warning)\n"
     ]
    },
    {
     "name": "stdout",
     "output_type": "stream",
     "text": [
      "| \u001b[0m 3       \u001b[0m | \u001b[0m 1.893e+0\u001b[0m | \u001b[0m 0.9556  \u001b[0m | \u001b[0m 0.796   \u001b[0m | \u001b[0m 0.06872 \u001b[0m | \u001b[0m 8.197   \u001b[0m | \u001b[0m 25.77   \u001b[0m | \u001b[0m 0.07827 \u001b[0m | \u001b[0m 2.064e+0\u001b[0m | \u001b[0m 37.44   \u001b[0m | \u001b[0m 15.73   \u001b[0m |\n"
     ]
    },
    {
     "name": "stderr",
     "output_type": "stream",
     "text": [
      "/usr/local/lib/python3.5/dist-packages/lightgbm/engine.py:503: UserWarning: Found `n_estimators` in params. Will use it instead of argument\n",
      "  warnings.warn(\"Found `{}` in params. Will use it instead of argument\".format(alias))\n",
      "/usr/local/lib/python3.5/dist-packages/sklearn/model_selection/_split.py:657: Warning: The least populated class in y has only 1 members, which is too few. The minimum number of members in any class cannot be less than n_splits=5.\n",
      "  % (min_groups, self.n_splits)), Warning)\n"
     ]
    },
    {
     "name": "stdout",
     "output_type": "stream",
     "text": [
      "| \u001b[95m 4       \u001b[0m | \u001b[95m 1.947e+0\u001b[0m | \u001b[95m 0.9889  \u001b[0m | \u001b[95m 0.5175  \u001b[0m | \u001b[95m 0.03488 \u001b[0m | \u001b[95m 6.058   \u001b[0m | \u001b[95m 39.84   \u001b[0m | \u001b[95m 0.04616 \u001b[0m | \u001b[95m 6.116e+0\u001b[0m | \u001b[95m 24.39   \u001b[0m | \u001b[95m 34.71   \u001b[0m |\n"
     ]
    },
    {
     "name": "stderr",
     "output_type": "stream",
     "text": [
      "/usr/local/lib/python3.5/dist-packages/lightgbm/engine.py:503: UserWarning: Found `n_estimators` in params. Will use it instead of argument\n",
      "  warnings.warn(\"Found `{}` in params. Will use it instead of argument\".format(alias))\n",
      "/usr/local/lib/python3.5/dist-packages/sklearn/model_selection/_split.py:657: Warning: The least populated class in y has only 1 members, which is too few. The minimum number of members in any class cannot be less than n_splits=5.\n",
      "  % (min_groups, self.n_splits)), Warning)\n"
     ]
    },
    {
     "name": "stdout",
     "output_type": "stream",
     "text": [
      "| \u001b[0m 5       \u001b[0m | \u001b[0m 1.913e+0\u001b[0m | \u001b[0m 0.9224  \u001b[0m | \u001b[0m 0.5935  \u001b[0m | \u001b[0m 0.06662 \u001b[0m | \u001b[0m 7.727   \u001b[0m | \u001b[0m 21.18   \u001b[0m | \u001b[0m 0.04427 \u001b[0m | \u001b[0m 7.279e+0\u001b[0m | \u001b[0m 25.26   \u001b[0m | \u001b[0m 36.67   \u001b[0m |\n"
     ]
    },
    {
     "name": "stderr",
     "output_type": "stream",
     "text": [
      "/usr/local/lib/python3.5/dist-packages/lightgbm/engine.py:503: UserWarning: Found `n_estimators` in params. Will use it instead of argument\n",
      "  warnings.warn(\"Found `{}` in params. Will use it instead of argument\".format(alias))\n",
      "/usr/local/lib/python3.5/dist-packages/sklearn/model_selection/_split.py:657: Warning: The least populated class in y has only 1 members, which is too few. The minimum number of members in any class cannot be less than n_splits=5.\n",
      "  % (min_groups, self.n_splits)), Warning)\n"
     ]
    },
    {
     "name": "stdout",
     "output_type": "stream",
     "text": [
      "| \u001b[95m 6       \u001b[0m | \u001b[95m 1.98e+06\u001b[0m | \u001b[95m 0.8844  \u001b[0m | \u001b[95m 0.2402  \u001b[0m | \u001b[95m 0.01921 \u001b[0m | \u001b[95m 8.233   \u001b[0m | \u001b[95m 9.211   \u001b[0m | \u001b[95m 0.001068\u001b[0m | \u001b[95m 7.493e+0\u001b[0m | \u001b[95m 30.28   \u001b[0m | \u001b[95m 39.33   \u001b[0m |\n"
     ]
    },
    {
     "name": "stderr",
     "output_type": "stream",
     "text": [
      "/usr/local/lib/python3.5/dist-packages/lightgbm/engine.py:503: UserWarning: Found `n_estimators` in params. Will use it instead of argument\n",
      "  warnings.warn(\"Found `{}` in params. Will use it instead of argument\".format(alias))\n",
      "/usr/local/lib/python3.5/dist-packages/sklearn/model_selection/_split.py:657: Warning: The least populated class in y has only 1 members, which is too few. The minimum number of members in any class cannot be less than n_splits=5.\n",
      "  % (min_groups, self.n_splits)), Warning)\n"
     ]
    },
    {
     "name": "stdout",
     "output_type": "stream",
     "text": [
      "| \u001b[0m 7       \u001b[0m | \u001b[0m 1.959e+0\u001b[0m | \u001b[0m 0.8595  \u001b[0m | \u001b[0m 0.843   \u001b[0m | \u001b[0m 0.01736 \u001b[0m | \u001b[0m 5.97    \u001b[0m | \u001b[0m 23.52   \u001b[0m | \u001b[0m 0.03308 \u001b[0m | \u001b[0m 6.152e+0\u001b[0m | \u001b[0m 28.82   \u001b[0m | \u001b[0m 47.88   \u001b[0m |\n"
     ]
    },
    {
     "name": "stderr",
     "output_type": "stream",
     "text": [
      "/usr/local/lib/python3.5/dist-packages/lightgbm/engine.py:503: UserWarning: Found `n_estimators` in params. Will use it instead of argument\n",
      "  warnings.warn(\"Found `{}` in params. Will use it instead of argument\".format(alias))\n",
      "/usr/local/lib/python3.5/dist-packages/sklearn/model_selection/_split.py:657: Warning: The least populated class in y has only 1 members, which is too few. The minimum number of members in any class cannot be less than n_splits=5.\n",
      "  % (min_groups, self.n_splits)), Warning)\n"
     ]
    },
    {
     "name": "stdout",
     "output_type": "stream",
     "text": [
      "| \u001b[0m 8       \u001b[0m | \u001b[0m 1.953e+0\u001b[0m | \u001b[0m 0.9116  \u001b[0m | \u001b[0m 0.6652  \u001b[0m | \u001b[0m 0.0291  \u001b[0m | \u001b[0m 6.537   \u001b[0m | \u001b[0m 18.14   \u001b[0m | \u001b[0m 0.06617 \u001b[0m | \u001b[0m 6.098e+0\u001b[0m | \u001b[0m 29.32   \u001b[0m | \u001b[0m 45.58   \u001b[0m |\n"
     ]
    },
    {
     "name": "stderr",
     "output_type": "stream",
     "text": [
      "/usr/local/lib/python3.5/dist-packages/lightgbm/engine.py:503: UserWarning: Found `n_estimators` in params. Will use it instead of argument\n",
      "  warnings.warn(\"Found `{}` in params. Will use it instead of argument\".format(alias))\n",
      "/usr/local/lib/python3.5/dist-packages/sklearn/model_selection/_split.py:657: Warning: The least populated class in y has only 1 members, which is too few. The minimum number of members in any class cannot be less than n_splits=5.\n",
      "  % (min_groups, self.n_splits)), Warning)\n"
     ]
    },
    {
     "name": "stdout",
     "output_type": "stream",
     "text": [
      "| \u001b[0m 9       \u001b[0m | \u001b[0m 1.913e+0\u001b[0m | \u001b[0m 0.9396  \u001b[0m | \u001b[0m 0.2106  \u001b[0m | \u001b[0m 0.06445 \u001b[0m | \u001b[0m 7.5     \u001b[0m | \u001b[0m 34.7    \u001b[0m | \u001b[0m 0.06542 \u001b[0m | \u001b[0m 6.628e+0\u001b[0m | \u001b[0m 28.8    \u001b[0m | \u001b[0m 36.39   \u001b[0m |\n"
     ]
    },
    {
     "name": "stderr",
     "output_type": "stream",
     "text": [
      "/usr/local/lib/python3.5/dist-packages/lightgbm/engine.py:503: UserWarning: Found `n_estimators` in params. Will use it instead of argument\n",
      "  warnings.warn(\"Found `{}` in params. Will use it instead of argument\".format(alias))\n",
      "/usr/local/lib/python3.5/dist-packages/sklearn/model_selection/_split.py:657: Warning: The least populated class in y has only 1 members, which is too few. The minimum number of members in any class cannot be less than n_splits=5.\n",
      "  % (min_groups, self.n_splits)), Warning)\n"
     ]
    },
    {
     "name": "stdout",
     "output_type": "stream",
     "text": [
      "| \u001b[0m 10      \u001b[0m | \u001b[0m 1.916e+0\u001b[0m | \u001b[0m 0.9603  \u001b[0m | \u001b[0m 0.865   \u001b[0m | \u001b[0m 0.05059 \u001b[0m | \u001b[0m 6.629   \u001b[0m | \u001b[0m 21.06   \u001b[0m | \u001b[0m 0.02608 \u001b[0m | \u001b[0m 1.416e+0\u001b[0m | \u001b[0m 36.43   \u001b[0m | \u001b[0m 18.61   \u001b[0m |\n"
     ]
    },
    {
     "name": "stderr",
     "output_type": "stream",
     "text": [
      "/usr/local/lib/python3.5/dist-packages/lightgbm/engine.py:503: UserWarning: Found `n_estimators` in params. Will use it instead of argument\n",
      "  warnings.warn(\"Found `{}` in params. Will use it instead of argument\".format(alias))\n",
      "/usr/local/lib/python3.5/dist-packages/sklearn/model_selection/_split.py:657: Warning: The least populated class in y has only 1 members, which is too few. The minimum number of members in any class cannot be less than n_splits=5.\n",
      "  % (min_groups, self.n_splits)), Warning)\n"
     ]
    },
    {
     "name": "stdout",
     "output_type": "stream",
     "text": [
      "| \u001b[0m 11      \u001b[0m | \u001b[0m 1.907e+0\u001b[0m | \u001b[0m 0.9577  \u001b[0m | \u001b[0m 0.6611  \u001b[0m | \u001b[0m 0.05888 \u001b[0m | \u001b[0m 7.256   \u001b[0m | \u001b[0m 41.3    \u001b[0m | \u001b[0m 0.07923 \u001b[0m | \u001b[0m 8.368e+0\u001b[0m | \u001b[0m 32.23   \u001b[0m | \u001b[0m 37.26   \u001b[0m |\n"
     ]
    },
    {
     "name": "stderr",
     "output_type": "stream",
     "text": [
      "/usr/local/lib/python3.5/dist-packages/lightgbm/engine.py:503: UserWarning: Found `n_estimators` in params. Will use it instead of argument\n",
      "  warnings.warn(\"Found `{}` in params. Will use it instead of argument\".format(alias))\n",
      "/usr/local/lib/python3.5/dist-packages/sklearn/model_selection/_split.py:657: Warning: The least populated class in y has only 1 members, which is too few. The minimum number of members in any class cannot be less than n_splits=5.\n",
      "  % (min_groups, self.n_splits)), Warning)\n"
     ]
    },
    {
     "name": "stdout",
     "output_type": "stream",
     "text": [
      "| \u001b[0m 12      \u001b[0m | \u001b[0m 1.956e+0\u001b[0m | \u001b[0m 0.8575  \u001b[0m | \u001b[0m 0.2975  \u001b[0m | \u001b[0m 0.03868 \u001b[0m | \u001b[0m 5.399   \u001b[0m | \u001b[0m 40.28   \u001b[0m | \u001b[0m 0.09882 \u001b[0m | \u001b[0m 1.793e+0\u001b[0m | \u001b[0m 25.36   \u001b[0m | \u001b[0m 38.65   \u001b[0m |\n"
     ]
    },
    {
     "name": "stderr",
     "output_type": "stream",
     "text": [
      "/usr/local/lib/python3.5/dist-packages/lightgbm/engine.py:503: UserWarning: Found `n_estimators` in params. Will use it instead of argument\n",
      "  warnings.warn(\"Found `{}` in params. Will use it instead of argument\".format(alias))\n",
      "/usr/local/lib/python3.5/dist-packages/sklearn/model_selection/_split.py:657: Warning: The least populated class in y has only 1 members, which is too few. The minimum number of members in any class cannot be less than n_splits=5.\n",
      "  % (min_groups, self.n_splits)), Warning)\n"
     ]
    },
    {
     "name": "stdout",
     "output_type": "stream",
     "text": [
      "| \u001b[0m 13      \u001b[0m | \u001b[0m 1.956e+0\u001b[0m | \u001b[0m 0.951   \u001b[0m | \u001b[0m 0.6561  \u001b[0m | \u001b[0m 0.02132 \u001b[0m | \u001b[0m 8.983   \u001b[0m | \u001b[0m 41.21   \u001b[0m | \u001b[0m 0.04594 \u001b[0m | \u001b[0m 2.894e+0\u001b[0m | \u001b[0m 26.45   \u001b[0m | \u001b[0m 28.42   \u001b[0m |\n"
     ]
    },
    {
     "name": "stderr",
     "output_type": "stream",
     "text": [
      "/usr/local/lib/python3.5/dist-packages/lightgbm/engine.py:503: UserWarning: Found `n_estimators` in params. Will use it instead of argument\n",
      "  warnings.warn(\"Found `{}` in params. Will use it instead of argument\".format(alias))\n",
      "/usr/local/lib/python3.5/dist-packages/sklearn/model_selection/_split.py:657: Warning: The least populated class in y has only 1 members, which is too few. The minimum number of members in any class cannot be less than n_splits=5.\n",
      "  % (min_groups, self.n_splits)), Warning)\n"
     ]
    },
    {
     "name": "stdout",
     "output_type": "stream",
     "text": [
      "| \u001b[0m 14      \u001b[0m | \u001b[0m 1.963e+0\u001b[0m | \u001b[0m 0.8457  \u001b[0m | \u001b[0m 0.4622  \u001b[0m | \u001b[0m 0.01581 \u001b[0m | \u001b[0m 6.113   \u001b[0m | \u001b[0m 28.36   \u001b[0m | \u001b[0m 0.05396 \u001b[0m | \u001b[0m 7.54e+03\u001b[0m | \u001b[0m 38.65   \u001b[0m | \u001b[0m 44.3    \u001b[0m |\n"
     ]
    },
    {
     "name": "stderr",
     "output_type": "stream",
     "text": [
      "/usr/local/lib/python3.5/dist-packages/lightgbm/engine.py:503: UserWarning: Found `n_estimators` in params. Will use it instead of argument\n",
      "  warnings.warn(\"Found `{}` in params. Will use it instead of argument\".format(alias))\n",
      "/usr/local/lib/python3.5/dist-packages/sklearn/model_selection/_split.py:657: Warning: The least populated class in y has only 1 members, which is too few. The minimum number of members in any class cannot be less than n_splits=5.\n",
      "  % (min_groups, self.n_splits)), Warning)\n"
     ]
    },
    {
     "name": "stdout",
     "output_type": "stream",
     "text": [
      "| \u001b[0m 15      \u001b[0m | \u001b[0m 1.921e+0\u001b[0m | \u001b[0m 0.853   \u001b[0m | \u001b[0m 0.4545  \u001b[0m | \u001b[0m 0.0522  \u001b[0m | \u001b[0m 5.428   \u001b[0m | \u001b[0m 38.43   \u001b[0m | \u001b[0m 0.001316\u001b[0m | \u001b[0m 1.039e+0\u001b[0m | \u001b[0m 33.05   \u001b[0m | \u001b[0m 13.05   \u001b[0m |\n"
     ]
    },
    {
     "name": "stderr",
     "output_type": "stream",
     "text": [
      "/usr/local/lib/python3.5/dist-packages/lightgbm/engine.py:503: UserWarning: Found `n_estimators` in params. Will use it instead of argument\n",
      "  warnings.warn(\"Found `{}` in params. Will use it instead of argument\".format(alias))\n",
      "/usr/local/lib/python3.5/dist-packages/sklearn/model_selection/_split.py:657: Warning: The least populated class in y has only 1 members, which is too few. The minimum number of members in any class cannot be less than n_splits=5.\n",
      "  % (min_groups, self.n_splits)), Warning)\n"
     ]
    },
    {
     "name": "stdout",
     "output_type": "stream",
     "text": [
      "| \u001b[0m 16      \u001b[0m | \u001b[0m 1.962e+0\u001b[0m | \u001b[0m 0.9359  \u001b[0m | \u001b[0m 0.8724  \u001b[0m | \u001b[0m 0.01431 \u001b[0m | \u001b[0m 7.418   \u001b[0m | \u001b[0m 8.735   \u001b[0m | \u001b[0m 0.09379 \u001b[0m | \u001b[0m 5.814e+0\u001b[0m | \u001b[0m 40.16   \u001b[0m | \u001b[0m 20.37   \u001b[0m |\n"
     ]
    },
    {
     "name": "stderr",
     "output_type": "stream",
     "text": [
      "/usr/local/lib/python3.5/dist-packages/lightgbm/engine.py:503: UserWarning: Found `n_estimators` in params. Will use it instead of argument\n",
      "  warnings.warn(\"Found `{}` in params. Will use it instead of argument\".format(alias))\n",
      "/usr/local/lib/python3.5/dist-packages/sklearn/model_selection/_split.py:657: Warning: The least populated class in y has only 1 members, which is too few. The minimum number of members in any class cannot be less than n_splits=5.\n",
      "  % (min_groups, self.n_splits)), Warning)\n"
     ]
    },
    {
     "name": "stdout",
     "output_type": "stream",
     "text": [
      "| \u001b[0m 17      \u001b[0m | \u001b[0m 1.934e+0\u001b[0m | \u001b[0m 0.9979  \u001b[0m | \u001b[0m 0.6439  \u001b[0m | \u001b[0m 0.03786 \u001b[0m | \u001b[0m 6.076   \u001b[0m | \u001b[0m 37.62   \u001b[0m | \u001b[0m 0.09645 \u001b[0m | \u001b[0m 7.331e+0\u001b[0m | \u001b[0m 32.11   \u001b[0m | \u001b[0m 10.71   \u001b[0m |\n"
     ]
    },
    {
     "name": "stderr",
     "output_type": "stream",
     "text": [
      "/usr/local/lib/python3.5/dist-packages/lightgbm/engine.py:503: UserWarning: Found `n_estimators` in params. Will use it instead of argument\n",
      "  warnings.warn(\"Found `{}` in params. Will use it instead of argument\".format(alias))\n",
      "/usr/local/lib/python3.5/dist-packages/sklearn/model_selection/_split.py:657: Warning: The least populated class in y has only 1 members, which is too few. The minimum number of members in any class cannot be less than n_splits=5.\n",
      "  % (min_groups, self.n_splits)), Warning)\n"
     ]
    },
    {
     "name": "stdout",
     "output_type": "stream",
     "text": [
      "| \u001b[0m 18      \u001b[0m | \u001b[0m 1.958e+0\u001b[0m | \u001b[0m 0.9918  \u001b[0m | \u001b[0m 0.2612  \u001b[0m | \u001b[0m 0.02321 \u001b[0m | \u001b[0m 5.548   \u001b[0m | \u001b[0m 9.812   \u001b[0m | \u001b[0m 0.09498 \u001b[0m | \u001b[0m 9.729e+0\u001b[0m | \u001b[0m 38.44   \u001b[0m | \u001b[0m 30.16   \u001b[0m |\n"
     ]
    },
    {
     "name": "stderr",
     "output_type": "stream",
     "text": [
      "/usr/local/lib/python3.5/dist-packages/lightgbm/engine.py:503: UserWarning: Found `n_estimators` in params. Will use it instead of argument\n",
      "  warnings.warn(\"Found `{}` in params. Will use it instead of argument\".format(alias))\n",
      "/usr/local/lib/python3.5/dist-packages/sklearn/model_selection/_split.py:657: Warning: The least populated class in y has only 1 members, which is too few. The minimum number of members in any class cannot be less than n_splits=5.\n",
      "  % (min_groups, self.n_splits)), Warning)\n"
     ]
    },
    {
     "name": "stdout",
     "output_type": "stream",
     "text": [
      "| \u001b[0m 19      \u001b[0m | \u001b[0m 1.934e+0\u001b[0m | \u001b[0m 0.8746  \u001b[0m | \u001b[0m 0.249   \u001b[0m | \u001b[0m 0.05375 \u001b[0m | \u001b[0m 8.143   \u001b[0m | \u001b[0m 33.56   \u001b[0m | \u001b[0m 0.04833 \u001b[0m | \u001b[0m 9.382e+0\u001b[0m | \u001b[0m 26.39   \u001b[0m | \u001b[0m 23.5    \u001b[0m |\n"
     ]
    },
    {
     "name": "stderr",
     "output_type": "stream",
     "text": [
      "/usr/local/lib/python3.5/dist-packages/lightgbm/engine.py:503: UserWarning: Found `n_estimators` in params. Will use it instead of argument\n",
      "  warnings.warn(\"Found `{}` in params. Will use it instead of argument\".format(alias))\n",
      "/usr/local/lib/python3.5/dist-packages/sklearn/model_selection/_split.py:657: Warning: The least populated class in y has only 1 members, which is too few. The minimum number of members in any class cannot be less than n_splits=5.\n",
      "  % (min_groups, self.n_splits)), Warning)\n"
     ]
    },
    {
     "name": "stdout",
     "output_type": "stream",
     "text": [
      "| \u001b[0m 20      \u001b[0m | \u001b[0m 1.955e+0\u001b[0m | \u001b[0m 0.8393  \u001b[0m | \u001b[0m 0.2402  \u001b[0m | \u001b[0m 0.03154 \u001b[0m | \u001b[0m 7.113   \u001b[0m | \u001b[0m 28.48   \u001b[0m | \u001b[0m 0.02748 \u001b[0m | \u001b[0m 5.279e+0\u001b[0m | \u001b[0m 30.63   \u001b[0m | \u001b[0m 48.16   \u001b[0m |\n"
     ]
    },
    {
     "name": "stderr",
     "output_type": "stream",
     "text": [
      "/usr/local/lib/python3.5/dist-packages/lightgbm/engine.py:503: UserWarning: Found `n_estimators` in params. Will use it instead of argument\n",
      "  warnings.warn(\"Found `{}` in params. Will use it instead of argument\".format(alias))\n",
      "/usr/local/lib/python3.5/dist-packages/sklearn/model_selection/_split.py:657: Warning: The least populated class in y has only 1 members, which is too few. The minimum number of members in any class cannot be less than n_splits=5.\n",
      "  % (min_groups, self.n_splits)), Warning)\n"
     ]
    },
    {
     "name": "stdout",
     "output_type": "stream",
     "text": [
      "| \u001b[0m 21      \u001b[0m | \u001b[0m 1.935e+0\u001b[0m | \u001b[0m 0.9968  \u001b[0m | \u001b[0m 0.8276  \u001b[0m | \u001b[0m 0.03609 \u001b[0m | \u001b[0m 5.922   \u001b[0m | \u001b[0m 15.33   \u001b[0m | \u001b[0m 0.03068 \u001b[0m | \u001b[0m 6.304e+0\u001b[0m | \u001b[0m 33.36   \u001b[0m | \u001b[0m 28.39   \u001b[0m |\n"
     ]
    },
    {
     "name": "stderr",
     "output_type": "stream",
     "text": [
      "/usr/local/lib/python3.5/dist-packages/lightgbm/engine.py:503: UserWarning: Found `n_estimators` in params. Will use it instead of argument\n",
      "  warnings.warn(\"Found `{}` in params. Will use it instead of argument\".format(alias))\n",
      "/usr/local/lib/python3.5/dist-packages/sklearn/model_selection/_split.py:657: Warning: The least populated class in y has only 1 members, which is too few. The minimum number of members in any class cannot be less than n_splits=5.\n",
      "  % (min_groups, self.n_splits)), Warning)\n"
     ]
    },
    {
     "name": "stdout",
     "output_type": "stream",
     "text": [
      "| \u001b[0m 22      \u001b[0m | \u001b[0m 1.939e+0\u001b[0m | \u001b[0m 0.9065  \u001b[0m | \u001b[0m 0.3233  \u001b[0m | \u001b[0m 0.04655 \u001b[0m | \u001b[0m 7.683   \u001b[0m | \u001b[0m 16.72   \u001b[0m | \u001b[0m 0.03542 \u001b[0m | \u001b[0m 5.198e+0\u001b[0m | \u001b[0m 28.84   \u001b[0m | \u001b[0m 16.14   \u001b[0m |\n"
     ]
    },
    {
     "name": "stderr",
     "output_type": "stream",
     "text": [
      "/usr/local/lib/python3.5/dist-packages/lightgbm/engine.py:503: UserWarning: Found `n_estimators` in params. Will use it instead of argument\n",
      "  warnings.warn(\"Found `{}` in params. Will use it instead of argument\".format(alias))\n",
      "/usr/local/lib/python3.5/dist-packages/sklearn/model_selection/_split.py:657: Warning: The least populated class in y has only 1 members, which is too few. The minimum number of members in any class cannot be less than n_splits=5.\n",
      "  % (min_groups, self.n_splits)), Warning)\n"
     ]
    },
    {
     "name": "stdout",
     "output_type": "stream",
     "text": [
      "| \u001b[0m 23      \u001b[0m | \u001b[0m 1.933e+0\u001b[0m | \u001b[0m 0.832   \u001b[0m | \u001b[0m 0.2657  \u001b[0m | \u001b[0m 0.04303 \u001b[0m | \u001b[0m 7.612   \u001b[0m | \u001b[0m 31.18   \u001b[0m | \u001b[0m 0.05258 \u001b[0m | \u001b[0m 8.944e+0\u001b[0m | \u001b[0m 33.68   \u001b[0m | \u001b[0m 40.89   \u001b[0m |\n"
     ]
    },
    {
     "name": "stderr",
     "output_type": "stream",
     "text": [
      "/usr/local/lib/python3.5/dist-packages/lightgbm/engine.py:503: UserWarning: Found `n_estimators` in params. Will use it instead of argument\n",
      "  warnings.warn(\"Found `{}` in params. Will use it instead of argument\".format(alias))\n",
      "/usr/local/lib/python3.5/dist-packages/sklearn/model_selection/_split.py:657: Warning: The least populated class in y has only 1 members, which is too few. The minimum number of members in any class cannot be less than n_splits=5.\n",
      "  % (min_groups, self.n_splits)), Warning)\n"
     ]
    },
    {
     "name": "stdout",
     "output_type": "stream",
     "text": [
      "| \u001b[0m 24      \u001b[0m | \u001b[0m 1.914e+0\u001b[0m | \u001b[0m 0.919   \u001b[0m | \u001b[0m 0.655   \u001b[0m | \u001b[0m 0.06459 \u001b[0m | \u001b[0m 7.205   \u001b[0m | \u001b[0m 39.19   \u001b[0m | \u001b[0m 0.01897 \u001b[0m | \u001b[0m 4.244e+0\u001b[0m | \u001b[0m 30.96   \u001b[0m | \u001b[0m 36.63   \u001b[0m |\n"
     ]
    },
    {
     "name": "stderr",
     "output_type": "stream",
     "text": [
      "/usr/local/lib/python3.5/dist-packages/lightgbm/engine.py:503: UserWarning: Found `n_estimators` in params. Will use it instead of argument\n",
      "  warnings.warn(\"Found `{}` in params. Will use it instead of argument\".format(alias))\n",
      "/usr/local/lib/python3.5/dist-packages/sklearn/model_selection/_split.py:657: Warning: The least populated class in y has only 1 members, which is too few. The minimum number of members in any class cannot be less than n_splits=5.\n",
      "  % (min_groups, self.n_splits)), Warning)\n"
     ]
    },
    {
     "name": "stdout",
     "output_type": "stream",
     "text": [
      "| \u001b[0m 25      \u001b[0m | \u001b[0m 1.897e+0\u001b[0m | \u001b[0m 0.8768  \u001b[0m | \u001b[0m 0.8819  \u001b[0m | \u001b[0m 0.06463 \u001b[0m | \u001b[0m 8.151   \u001b[0m | \u001b[0m 43.29   \u001b[0m | \u001b[0m 0.02874 \u001b[0m | \u001b[0m 9.494e+0\u001b[0m | \u001b[0m 41.24   \u001b[0m | \u001b[0m 10.5    \u001b[0m |\n"
     ]
    },
    {
     "name": "stderr",
     "output_type": "stream",
     "text": [
      "/usr/local/lib/python3.5/dist-packages/lightgbm/engine.py:503: UserWarning: Found `n_estimators` in params. Will use it instead of argument\n",
      "  warnings.warn(\"Found `{}` in params. Will use it instead of argument\".format(alias))\n",
      "/usr/local/lib/python3.5/dist-packages/sklearn/model_selection/_split.py:657: Warning: The least populated class in y has only 1 members, which is too few. The minimum number of members in any class cannot be less than n_splits=5.\n",
      "  % (min_groups, self.n_splits)), Warning)\n"
     ]
    },
    {
     "name": "stdout",
     "output_type": "stream",
     "text": [
      "| \u001b[0m 26      \u001b[0m | \u001b[0m 1.907e+0\u001b[0m | \u001b[0m 0.9563  \u001b[0m | \u001b[0m 0.4007  \u001b[0m | \u001b[0m 0.06042 \u001b[0m | \u001b[0m 7.337   \u001b[0m | \u001b[0m 49.21   \u001b[0m | \u001b[0m 0.08541 \u001b[0m | \u001b[0m 9.293e+0\u001b[0m | \u001b[0m 24.31   \u001b[0m | \u001b[0m 46.22   \u001b[0m |\n"
     ]
    },
    {
     "name": "stderr",
     "output_type": "stream",
     "text": [
      "/usr/local/lib/python3.5/dist-packages/lightgbm/engine.py:503: UserWarning: Found `n_estimators` in params. Will use it instead of argument\n",
      "  warnings.warn(\"Found `{}` in params. Will use it instead of argument\".format(alias))\n",
      "/usr/local/lib/python3.5/dist-packages/sklearn/model_selection/_split.py:657: Warning: The least populated class in y has only 1 members, which is too few. The minimum number of members in any class cannot be less than n_splits=5.\n",
      "  % (min_groups, self.n_splits)), Warning)\n"
     ]
    },
    {
     "name": "stdout",
     "output_type": "stream",
     "text": [
      "| \u001b[0m 27      \u001b[0m | \u001b[0m 1.944e+0\u001b[0m | \u001b[0m 0.9814  \u001b[0m | \u001b[0m 0.6478  \u001b[0m | \u001b[0m 0.02909 \u001b[0m | \u001b[0m 7.59    \u001b[0m | \u001b[0m 37.88   \u001b[0m | \u001b[0m 0.04443 \u001b[0m | \u001b[0m 2.525e+0\u001b[0m | \u001b[0m 29.46   \u001b[0m | \u001b[0m 24.38   \u001b[0m |\n"
     ]
    },
    {
     "name": "stderr",
     "output_type": "stream",
     "text": [
      "/usr/local/lib/python3.5/dist-packages/lightgbm/engine.py:503: UserWarning: Found `n_estimators` in params. Will use it instead of argument\n",
      "  warnings.warn(\"Found `{}` in params. Will use it instead of argument\".format(alias))\n",
      "/usr/local/lib/python3.5/dist-packages/sklearn/model_selection/_split.py:657: Warning: The least populated class in y has only 1 members, which is too few. The minimum number of members in any class cannot be less than n_splits=5.\n",
      "  % (min_groups, self.n_splits)), Warning)\n"
     ]
    },
    {
     "name": "stdout",
     "output_type": "stream",
     "text": [
      "| \u001b[0m 28      \u001b[0m | \u001b[0m 1.916e+0\u001b[0m | \u001b[0m 0.8901  \u001b[0m | \u001b[0m 0.8498  \u001b[0m | \u001b[0m 0.05063 \u001b[0m | \u001b[0m 7.725   \u001b[0m | \u001b[0m 42.41   \u001b[0m | \u001b[0m 0.05489 \u001b[0m | \u001b[0m 6.083e+0\u001b[0m | \u001b[0m 32.77   \u001b[0m | \u001b[0m 28.04   \u001b[0m |\n"
     ]
    },
    {
     "name": "stderr",
     "output_type": "stream",
     "text": [
      "/usr/local/lib/python3.5/dist-packages/lightgbm/engine.py:503: UserWarning: Found `n_estimators` in params. Will use it instead of argument\n",
      "  warnings.warn(\"Found `{}` in params. Will use it instead of argument\".format(alias))\n",
      "/usr/local/lib/python3.5/dist-packages/sklearn/model_selection/_split.py:657: Warning: The least populated class in y has only 1 members, which is too few. The minimum number of members in any class cannot be less than n_splits=5.\n",
      "  % (min_groups, self.n_splits)), Warning)\n"
     ]
    },
    {
     "name": "stdout",
     "output_type": "stream",
     "text": [
      "| \u001b[0m 29      \u001b[0m | \u001b[0m 1.949e+0\u001b[0m | \u001b[0m 0.8423  \u001b[0m | \u001b[0m 0.7492  \u001b[0m | \u001b[0m 0.02448 \u001b[0m | \u001b[0m 7.032   \u001b[0m | \u001b[0m 24.97   \u001b[0m | \u001b[0m 0.007552\u001b[0m | \u001b[0m 9.112e+0\u001b[0m | \u001b[0m 38.93   \u001b[0m | \u001b[0m 41.7    \u001b[0m |\n"
     ]
    },
    {
     "name": "stderr",
     "output_type": "stream",
     "text": [
      "/usr/local/lib/python3.5/dist-packages/lightgbm/engine.py:503: UserWarning: Found `n_estimators` in params. Will use it instead of argument\n",
      "  warnings.warn(\"Found `{}` in params. Will use it instead of argument\".format(alias))\n",
      "/usr/local/lib/python3.5/dist-packages/sklearn/model_selection/_split.py:657: Warning: The least populated class in y has only 1 members, which is too few. The minimum number of members in any class cannot be less than n_splits=5.\n",
      "  % (min_groups, self.n_splits)), Warning)\n"
     ]
    },
    {
     "name": "stdout",
     "output_type": "stream",
     "text": [
      "| \u001b[0m 30      \u001b[0m | \u001b[0m 1.929e+0\u001b[0m | \u001b[0m 0.9238  \u001b[0m | \u001b[0m 0.7257  \u001b[0m | \u001b[0m 0.0468  \u001b[0m | \u001b[0m 7.539   \u001b[0m | \u001b[0m 43.56   \u001b[0m | \u001b[0m 0.09135 \u001b[0m | \u001b[0m 5.11e+03\u001b[0m | \u001b[0m 27.45   \u001b[0m | \u001b[0m 19.34   \u001b[0m |\n"
     ]
    },
    {
     "name": "stderr",
     "output_type": "stream",
     "text": [
      "/usr/local/lib/python3.5/dist-packages/lightgbm/engine.py:503: UserWarning: Found `n_estimators` in params. Will use it instead of argument\n",
      "  warnings.warn(\"Found `{}` in params. Will use it instead of argument\".format(alias))\n",
      "/usr/local/lib/python3.5/dist-packages/sklearn/model_selection/_split.py:657: Warning: The least populated class in y has only 1 members, which is too few. The minimum number of members in any class cannot be less than n_splits=5.\n",
      "  % (min_groups, self.n_splits)), Warning)\n"
     ]
    },
    {
     "name": "stdout",
     "output_type": "stream",
     "text": [
      "| \u001b[0m 31      \u001b[0m | \u001b[0m 1.944e+0\u001b[0m | \u001b[0m 0.8325  \u001b[0m | \u001b[0m 0.6997  \u001b[0m | \u001b[0m 0.03203 \u001b[0m | \u001b[0m 7.334   \u001b[0m | \u001b[0m 45.26   \u001b[0m | \u001b[0m 0.09881 \u001b[0m | \u001b[0m 7.108e+0\u001b[0m | \u001b[0m 40.25   \u001b[0m | \u001b[0m 44.54   \u001b[0m |\n"
     ]
    },
    {
     "name": "stderr",
     "output_type": "stream",
     "text": [
      "/usr/local/lib/python3.5/dist-packages/lightgbm/engine.py:503: UserWarning: Found `n_estimators` in params. Will use it instead of argument\n",
      "  warnings.warn(\"Found `{}` in params. Will use it instead of argument\".format(alias))\n",
      "/usr/local/lib/python3.5/dist-packages/sklearn/model_selection/_split.py:657: Warning: The least populated class in y has only 1 members, which is too few. The minimum number of members in any class cannot be less than n_splits=5.\n",
      "  % (min_groups, self.n_splits)), Warning)\n"
     ]
    },
    {
     "name": "stdout",
     "output_type": "stream",
     "text": [
      "| \u001b[0m 32      \u001b[0m | \u001b[0m 1.954e+0\u001b[0m | \u001b[0m 0.9399  \u001b[0m | \u001b[0m 0.6704  \u001b[0m | \u001b[0m 0.02016 \u001b[0m | \u001b[0m 7.627   \u001b[0m | \u001b[0m 46.03   \u001b[0m | \u001b[0m 0.07006 \u001b[0m | \u001b[0m 5.124e+0\u001b[0m | \u001b[0m 42.86   \u001b[0m | \u001b[0m 15.52   \u001b[0m |\n"
     ]
    },
    {
     "name": "stderr",
     "output_type": "stream",
     "text": [
      "/usr/local/lib/python3.5/dist-packages/lightgbm/engine.py:503: UserWarning: Found `n_estimators` in params. Will use it instead of argument\n",
      "  warnings.warn(\"Found `{}` in params. Will use it instead of argument\".format(alias))\n",
      "/usr/local/lib/python3.5/dist-packages/sklearn/model_selection/_split.py:657: Warning: The least populated class in y has only 1 members, which is too few. The minimum number of members in any class cannot be less than n_splits=5.\n",
      "  % (min_groups, self.n_splits)), Warning)\n"
     ]
    },
    {
     "name": "stdout",
     "output_type": "stream",
     "text": [
      "| \u001b[0m 33      \u001b[0m | \u001b[0m 1.96e+06\u001b[0m | \u001b[0m 0.9433  \u001b[0m | \u001b[0m 0.4372  \u001b[0m | \u001b[0m 0.01855 \u001b[0m | \u001b[0m 5.133   \u001b[0m | \u001b[0m 31.74   \u001b[0m | \u001b[0m 0.03462 \u001b[0m | \u001b[0m 2.67e+03\u001b[0m | \u001b[0m 30.08   \u001b[0m | \u001b[0m 13.98   \u001b[0m |\n"
     ]
    },
    {
     "name": "stderr",
     "output_type": "stream",
     "text": [
      "/usr/local/lib/python3.5/dist-packages/lightgbm/engine.py:503: UserWarning: Found `n_estimators` in params. Will use it instead of argument\n",
      "  warnings.warn(\"Found `{}` in params. Will use it instead of argument\".format(alias))\n",
      "/usr/local/lib/python3.5/dist-packages/sklearn/model_selection/_split.py:657: Warning: The least populated class in y has only 1 members, which is too few. The minimum number of members in any class cannot be less than n_splits=5.\n",
      "  % (min_groups, self.n_splits)), Warning)\n"
     ]
    },
    {
     "name": "stdout",
     "output_type": "stream",
     "text": [
      "| \u001b[0m 34      \u001b[0m | \u001b[0m 1.943e+0\u001b[0m | \u001b[0m 0.9168  \u001b[0m | \u001b[0m 0.3403  \u001b[0m | \u001b[0m 0.03923 \u001b[0m | \u001b[0m 6.606   \u001b[0m | \u001b[0m 48.22   \u001b[0m | \u001b[0m 0.07475 \u001b[0m | \u001b[0m 4.257e+0\u001b[0m | \u001b[0m 34.42   \u001b[0m | \u001b[0m 47.41   \u001b[0m |\n"
     ]
    },
    {
     "name": "stderr",
     "output_type": "stream",
     "text": [
      "/usr/local/lib/python3.5/dist-packages/lightgbm/engine.py:503: UserWarning: Found `n_estimators` in params. Will use it instead of argument\n",
      "  warnings.warn(\"Found `{}` in params. Will use it instead of argument\".format(alias))\n",
      "/usr/local/lib/python3.5/dist-packages/sklearn/model_selection/_split.py:657: Warning: The least populated class in y has only 1 members, which is too few. The minimum number of members in any class cannot be less than n_splits=5.\n",
      "  % (min_groups, self.n_splits)), Warning)\n"
     ]
    },
    {
     "name": "stdout",
     "output_type": "stream",
     "text": [
      "| \u001b[0m 35      \u001b[0m | \u001b[0m 1.923e+0\u001b[0m | \u001b[0m 0.9534  \u001b[0m | \u001b[0m 0.2989  \u001b[0m | \u001b[0m 0.06107 \u001b[0m | \u001b[0m 7.595   \u001b[0m | \u001b[0m 9.873   \u001b[0m | \u001b[0m 0.09793 \u001b[0m | \u001b[0m 9.003e+0\u001b[0m | \u001b[0m 35.12   \u001b[0m | \u001b[0m 32.44   \u001b[0m |\n",
      "=====================================================================================================================================\n",
      "|   iter    |  target   | baggin... | featur... | learni... | max_depth | min_ch... | min_sp... | n_esti... | num_le... |   seed    |\n",
      "-------------------------------------------------------------------------------------------------------------------------------------\n"
     ]
    },
    {
     "name": "stderr",
     "output_type": "stream",
     "text": [
      "/usr/local/lib/python3.5/dist-packages/lightgbm/engine.py:503: UserWarning: Found `n_estimators` in params. Will use it instead of argument\n",
      "  warnings.warn(\"Found `{}` in params. Will use it instead of argument\".format(alias))\n",
      "/usr/local/lib/python3.5/dist-packages/sklearn/model_selection/_split.py:657: Warning: The least populated class in y has only 1 members, which is too few. The minimum number of members in any class cannot be less than n_splits=5.\n",
      "  % (min_groups, self.n_splits)), Warning)\n"
     ]
    },
    {
     "name": "stdout",
     "output_type": "stream",
     "text": [
      "| \u001b[0m 1       \u001b[0m | \u001b[0m 2.121e+0\u001b[0m | \u001b[0m 0.9098  \u001b[0m | \u001b[0m 0.6722  \u001b[0m | \u001b[0m 0.04617 \u001b[0m | \u001b[0m 7.18    \u001b[0m | \u001b[0m 24.06   \u001b[0m | \u001b[0m 0.06494 \u001b[0m | \u001b[0m 4.938e+0\u001b[0m | \u001b[0m 42.73   \u001b[0m | \u001b[0m 48.55   \u001b[0m |\n"
     ]
    },
    {
     "name": "stderr",
     "output_type": "stream",
     "text": [
      "/usr/local/lib/python3.5/dist-packages/lightgbm/engine.py:503: UserWarning: Found `n_estimators` in params. Will use it instead of argument\n",
      "  warnings.warn(\"Found `{}` in params. Will use it instead of argument\".format(alias))\n",
      "/usr/local/lib/python3.5/dist-packages/sklearn/model_selection/_split.py:657: Warning: The least populated class in y has only 1 members, which is too few. The minimum number of members in any class cannot be less than n_splits=5.\n",
      "  % (min_groups, self.n_splits)), Warning)\n"
     ]
    },
    {
     "name": "stdout",
     "output_type": "stream",
     "text": [
      "| \u001b[95m 2       \u001b[0m | \u001b[95m 2.134e+0\u001b[0m | \u001b[95m 0.8767  \u001b[0m | \u001b[95m 0.7334  \u001b[0m | \u001b[95m 0.04173 \u001b[0m | \u001b[95m 7.272   \u001b[0m | \u001b[95m 46.65   \u001b[0m | \u001b[95m 0.008033\u001b[0m | \u001b[95m 1.784e+0\u001b[0m | \u001b[95m 24.42   \u001b[0m | \u001b[95m 43.3    \u001b[0m |\n"
     ]
    },
    {
     "name": "stderr",
     "output_type": "stream",
     "text": [
      "/usr/local/lib/python3.5/dist-packages/lightgbm/engine.py:503: UserWarning: Found `n_estimators` in params. Will use it instead of argument\n",
      "  warnings.warn(\"Found `{}` in params. Will use it instead of argument\".format(alias))\n",
      "/usr/local/lib/python3.5/dist-packages/sklearn/model_selection/_split.py:657: Warning: The least populated class in y has only 1 members, which is too few. The minimum number of members in any class cannot be less than n_splits=5.\n",
      "  % (min_groups, self.n_splits)), Warning)\n"
     ]
    },
    {
     "name": "stdout",
     "output_type": "stream",
     "text": [
      "| \u001b[0m 3       \u001b[0m | \u001b[0m 2.089e+0\u001b[0m | \u001b[0m 0.9556  \u001b[0m | \u001b[0m 0.796   \u001b[0m | \u001b[0m 0.06872 \u001b[0m | \u001b[0m 8.197   \u001b[0m | \u001b[0m 25.77   \u001b[0m | \u001b[0m 0.07827 \u001b[0m | \u001b[0m 2.064e+0\u001b[0m | \u001b[0m 37.44   \u001b[0m | \u001b[0m 15.73   \u001b[0m |\n"
     ]
    },
    {
     "name": "stderr",
     "output_type": "stream",
     "text": [
      "/usr/local/lib/python3.5/dist-packages/lightgbm/engine.py:503: UserWarning: Found `n_estimators` in params. Will use it instead of argument\n",
      "  warnings.warn(\"Found `{}` in params. Will use it instead of argument\".format(alias))\n",
      "/usr/local/lib/python3.5/dist-packages/sklearn/model_selection/_split.py:657: Warning: The least populated class in y has only 1 members, which is too few. The minimum number of members in any class cannot be less than n_splits=5.\n",
      "  % (min_groups, self.n_splits)), Warning)\n"
     ]
    },
    {
     "name": "stdout",
     "output_type": "stream",
     "text": [
      "| \u001b[95m 4       \u001b[0m | \u001b[95m 2.149e+0\u001b[0m | \u001b[95m 0.9889  \u001b[0m | \u001b[95m 0.5175  \u001b[0m | \u001b[95m 0.03488 \u001b[0m | \u001b[95m 6.058   \u001b[0m | \u001b[95m 39.84   \u001b[0m | \u001b[95m 0.04616 \u001b[0m | \u001b[95m 6.116e+0\u001b[0m | \u001b[95m 24.39   \u001b[0m | \u001b[95m 34.71   \u001b[0m |\n"
     ]
    },
    {
     "name": "stderr",
     "output_type": "stream",
     "text": [
      "/usr/local/lib/python3.5/dist-packages/lightgbm/engine.py:503: UserWarning: Found `n_estimators` in params. Will use it instead of argument\n",
      "  warnings.warn(\"Found `{}` in params. Will use it instead of argument\".format(alias))\n",
      "/usr/local/lib/python3.5/dist-packages/sklearn/model_selection/_split.py:657: Warning: The least populated class in y has only 1 members, which is too few. The minimum number of members in any class cannot be less than n_splits=5.\n",
      "  % (min_groups, self.n_splits)), Warning)\n"
     ]
    },
    {
     "name": "stdout",
     "output_type": "stream",
     "text": [
      "| \u001b[0m 5       \u001b[0m | \u001b[0m 2.111e+0\u001b[0m | \u001b[0m 0.9224  \u001b[0m | \u001b[0m 0.5935  \u001b[0m | \u001b[0m 0.06662 \u001b[0m | \u001b[0m 7.727   \u001b[0m | \u001b[0m 21.18   \u001b[0m | \u001b[0m 0.04427 \u001b[0m | \u001b[0m 7.279e+0\u001b[0m | \u001b[0m 25.26   \u001b[0m | \u001b[0m 36.67   \u001b[0m |\n"
     ]
    },
    {
     "name": "stderr",
     "output_type": "stream",
     "text": [
      "/usr/local/lib/python3.5/dist-packages/lightgbm/engine.py:503: UserWarning: Found `n_estimators` in params. Will use it instead of argument\n",
      "  warnings.warn(\"Found `{}` in params. Will use it instead of argument\".format(alias))\n",
      "/usr/local/lib/python3.5/dist-packages/sklearn/model_selection/_split.py:657: Warning: The least populated class in y has only 1 members, which is too few. The minimum number of members in any class cannot be less than n_splits=5.\n",
      "  % (min_groups, self.n_splits)), Warning)\n"
     ]
    },
    {
     "name": "stdout",
     "output_type": "stream",
     "text": [
      "| \u001b[95m 6       \u001b[0m | \u001b[95m 2.166e+0\u001b[0m | \u001b[95m 0.8844  \u001b[0m | \u001b[95m 0.2402  \u001b[0m | \u001b[95m 0.01921 \u001b[0m | \u001b[95m 8.233   \u001b[0m | \u001b[95m 9.211   \u001b[0m | \u001b[95m 0.001068\u001b[0m | \u001b[95m 7.493e+0\u001b[0m | \u001b[95m 30.28   \u001b[0m | \u001b[95m 39.33   \u001b[0m |\n"
     ]
    },
    {
     "name": "stderr",
     "output_type": "stream",
     "text": [
      "/usr/local/lib/python3.5/dist-packages/lightgbm/engine.py:503: UserWarning: Found `n_estimators` in params. Will use it instead of argument\n",
      "  warnings.warn(\"Found `{}` in params. Will use it instead of argument\".format(alias))\n",
      "/usr/local/lib/python3.5/dist-packages/sklearn/model_selection/_split.py:657: Warning: The least populated class in y has only 1 members, which is too few. The minimum number of members in any class cannot be less than n_splits=5.\n",
      "  % (min_groups, self.n_splits)), Warning)\n"
     ]
    },
    {
     "name": "stdout",
     "output_type": "stream",
     "text": [
      "| \u001b[0m 7       \u001b[0m | \u001b[0m 2.164e+0\u001b[0m | \u001b[0m 0.8595  \u001b[0m | \u001b[0m 0.843   \u001b[0m | \u001b[0m 0.01736 \u001b[0m | \u001b[0m 5.97    \u001b[0m | \u001b[0m 23.52   \u001b[0m | \u001b[0m 0.03308 \u001b[0m | \u001b[0m 6.152e+0\u001b[0m | \u001b[0m 28.82   \u001b[0m | \u001b[0m 47.88   \u001b[0m |\n"
     ]
    },
    {
     "name": "stderr",
     "output_type": "stream",
     "text": [
      "/usr/local/lib/python3.5/dist-packages/lightgbm/engine.py:503: UserWarning: Found `n_estimators` in params. Will use it instead of argument\n",
      "  warnings.warn(\"Found `{}` in params. Will use it instead of argument\".format(alias))\n",
      "/usr/local/lib/python3.5/dist-packages/sklearn/model_selection/_split.py:657: Warning: The least populated class in y has only 1 members, which is too few. The minimum number of members in any class cannot be less than n_splits=5.\n",
      "  % (min_groups, self.n_splits)), Warning)\n"
     ]
    },
    {
     "name": "stdout",
     "output_type": "stream",
     "text": [
      "| \u001b[0m 8       \u001b[0m | \u001b[0m 2.154e+0\u001b[0m | \u001b[0m 0.9116  \u001b[0m | \u001b[0m 0.6652  \u001b[0m | \u001b[0m 0.0291  \u001b[0m | \u001b[0m 6.537   \u001b[0m | \u001b[0m 18.14   \u001b[0m | \u001b[0m 0.06617 \u001b[0m | \u001b[0m 6.098e+0\u001b[0m | \u001b[0m 29.32   \u001b[0m | \u001b[0m 45.58   \u001b[0m |\n"
     ]
    },
    {
     "name": "stderr",
     "output_type": "stream",
     "text": [
      "/usr/local/lib/python3.5/dist-packages/lightgbm/engine.py:503: UserWarning: Found `n_estimators` in params. Will use it instead of argument\n",
      "  warnings.warn(\"Found `{}` in params. Will use it instead of argument\".format(alias))\n",
      "/usr/local/lib/python3.5/dist-packages/sklearn/model_selection/_split.py:657: Warning: The least populated class in y has only 1 members, which is too few. The minimum number of members in any class cannot be less than n_splits=5.\n",
      "  % (min_groups, self.n_splits)), Warning)\n"
     ]
    },
    {
     "name": "stdout",
     "output_type": "stream",
     "text": [
      "| \u001b[0m 9       \u001b[0m | \u001b[0m 2.146e+0\u001b[0m | \u001b[0m 0.9396  \u001b[0m | \u001b[0m 0.2106  \u001b[0m | \u001b[0m 0.06445 \u001b[0m | \u001b[0m 7.5     \u001b[0m | \u001b[0m 34.7    \u001b[0m | \u001b[0m 0.06542 \u001b[0m | \u001b[0m 6.628e+0\u001b[0m | \u001b[0m 28.8    \u001b[0m | \u001b[0m 36.39   \u001b[0m |\n"
     ]
    },
    {
     "name": "stderr",
     "output_type": "stream",
     "text": [
      "/usr/local/lib/python3.5/dist-packages/lightgbm/engine.py:503: UserWarning: Found `n_estimators` in params. Will use it instead of argument\n",
      "  warnings.warn(\"Found `{}` in params. Will use it instead of argument\".format(alias))\n",
      "/usr/local/lib/python3.5/dist-packages/sklearn/model_selection/_split.py:657: Warning: The least populated class in y has only 1 members, which is too few. The minimum number of members in any class cannot be less than n_splits=5.\n",
      "  % (min_groups, self.n_splits)), Warning)\n"
     ]
    },
    {
     "name": "stdout",
     "output_type": "stream",
     "text": [
      "| \u001b[0m 10      \u001b[0m | \u001b[0m 2.116e+0\u001b[0m | \u001b[0m 0.9603  \u001b[0m | \u001b[0m 0.865   \u001b[0m | \u001b[0m 0.05059 \u001b[0m | \u001b[0m 6.629   \u001b[0m | \u001b[0m 21.06   \u001b[0m | \u001b[0m 0.02608 \u001b[0m | \u001b[0m 1.416e+0\u001b[0m | \u001b[0m 36.43   \u001b[0m | \u001b[0m 18.61   \u001b[0m |\n"
     ]
    },
    {
     "name": "stderr",
     "output_type": "stream",
     "text": [
      "/usr/local/lib/python3.5/dist-packages/lightgbm/engine.py:503: UserWarning: Found `n_estimators` in params. Will use it instead of argument\n",
      "  warnings.warn(\"Found `{}` in params. Will use it instead of argument\".format(alias))\n",
      "/usr/local/lib/python3.5/dist-packages/sklearn/model_selection/_split.py:657: Warning: The least populated class in y has only 1 members, which is too few. The minimum number of members in any class cannot be less than n_splits=5.\n",
      "  % (min_groups, self.n_splits)), Warning)\n"
     ]
    },
    {
     "name": "stdout",
     "output_type": "stream",
     "text": [
      "| \u001b[0m 11      \u001b[0m | \u001b[0m 2.105e+0\u001b[0m | \u001b[0m 0.9577  \u001b[0m | \u001b[0m 0.6611  \u001b[0m | \u001b[0m 0.05888 \u001b[0m | \u001b[0m 7.256   \u001b[0m | \u001b[0m 41.3    \u001b[0m | \u001b[0m 0.07923 \u001b[0m | \u001b[0m 8.368e+0\u001b[0m | \u001b[0m 32.23   \u001b[0m | \u001b[0m 37.26   \u001b[0m |\n"
     ]
    },
    {
     "name": "stderr",
     "output_type": "stream",
     "text": [
      "/usr/local/lib/python3.5/dist-packages/lightgbm/engine.py:503: UserWarning: Found `n_estimators` in params. Will use it instead of argument\n",
      "  warnings.warn(\"Found `{}` in params. Will use it instead of argument\".format(alias))\n",
      "/usr/local/lib/python3.5/dist-packages/sklearn/model_selection/_split.py:657: Warning: The least populated class in y has only 1 members, which is too few. The minimum number of members in any class cannot be less than n_splits=5.\n",
      "  % (min_groups, self.n_splits)), Warning)\n"
     ]
    },
    {
     "name": "stdout",
     "output_type": "stream",
     "text": [
      "| \u001b[0m 12      \u001b[0m | \u001b[0m 2.162e+0\u001b[0m | \u001b[0m 0.8575  \u001b[0m | \u001b[0m 0.2975  \u001b[0m | \u001b[0m 0.03868 \u001b[0m | \u001b[0m 5.399   \u001b[0m | \u001b[0m 40.28   \u001b[0m | \u001b[0m 0.09882 \u001b[0m | \u001b[0m 1.793e+0\u001b[0m | \u001b[0m 25.36   \u001b[0m | \u001b[0m 38.65   \u001b[0m |\n"
     ]
    },
    {
     "name": "stderr",
     "output_type": "stream",
     "text": [
      "/usr/local/lib/python3.5/dist-packages/lightgbm/engine.py:503: UserWarning: Found `n_estimators` in params. Will use it instead of argument\n",
      "  warnings.warn(\"Found `{}` in params. Will use it instead of argument\".format(alias))\n",
      "/usr/local/lib/python3.5/dist-packages/sklearn/model_selection/_split.py:657: Warning: The least populated class in y has only 1 members, which is too few. The minimum number of members in any class cannot be less than n_splits=5.\n",
      "  % (min_groups, self.n_splits)), Warning)\n"
     ]
    },
    {
     "name": "stdout",
     "output_type": "stream",
     "text": [
      "| \u001b[0m 13      \u001b[0m | \u001b[0m 2.16e+06\u001b[0m | \u001b[0m 0.951   \u001b[0m | \u001b[0m 0.6561  \u001b[0m | \u001b[0m 0.02132 \u001b[0m | \u001b[0m 8.983   \u001b[0m | \u001b[0m 41.21   \u001b[0m | \u001b[0m 0.04594 \u001b[0m | \u001b[0m 2.894e+0\u001b[0m | \u001b[0m 26.45   \u001b[0m | \u001b[0m 28.42   \u001b[0m |\n"
     ]
    },
    {
     "name": "stderr",
     "output_type": "stream",
     "text": [
      "/usr/local/lib/python3.5/dist-packages/lightgbm/engine.py:503: UserWarning: Found `n_estimators` in params. Will use it instead of argument\n",
      "  warnings.warn(\"Found `{}` in params. Will use it instead of argument\".format(alias))\n",
      "/usr/local/lib/python3.5/dist-packages/sklearn/model_selection/_split.py:657: Warning: The least populated class in y has only 1 members, which is too few. The minimum number of members in any class cannot be less than n_splits=5.\n",
      "  % (min_groups, self.n_splits)), Warning)\n"
     ]
    },
    {
     "name": "stdout",
     "output_type": "stream",
     "text": [
      "| \u001b[95m 14      \u001b[0m | \u001b[95m 2.168e+0\u001b[0m | \u001b[95m 0.8457  \u001b[0m | \u001b[95m 0.4622  \u001b[0m | \u001b[95m 0.01581 \u001b[0m | \u001b[95m 6.113   \u001b[0m | \u001b[95m 28.36   \u001b[0m | \u001b[95m 0.05396 \u001b[0m | \u001b[95m 7.54e+03\u001b[0m | \u001b[95m 38.65   \u001b[0m | \u001b[95m 44.3    \u001b[0m |\n"
     ]
    },
    {
     "name": "stderr",
     "output_type": "stream",
     "text": [
      "/usr/local/lib/python3.5/dist-packages/lightgbm/engine.py:503: UserWarning: Found `n_estimators` in params. Will use it instead of argument\n",
      "  warnings.warn(\"Found `{}` in params. Will use it instead of argument\".format(alias))\n",
      "/usr/local/lib/python3.5/dist-packages/sklearn/model_selection/_split.py:657: Warning: The least populated class in y has only 1 members, which is too few. The minimum number of members in any class cannot be less than n_splits=5.\n",
      "  % (min_groups, self.n_splits)), Warning)\n"
     ]
    },
    {
     "name": "stdout",
     "output_type": "stream",
     "text": [
      "| \u001b[0m 15      \u001b[0m | \u001b[0m 2.122e+0\u001b[0m | \u001b[0m 0.853   \u001b[0m | \u001b[0m 0.4545  \u001b[0m | \u001b[0m 0.0522  \u001b[0m | \u001b[0m 5.428   \u001b[0m | \u001b[0m 38.43   \u001b[0m | \u001b[0m 0.001316\u001b[0m | \u001b[0m 1.039e+0\u001b[0m | \u001b[0m 33.05   \u001b[0m | \u001b[0m 13.05   \u001b[0m |\n"
     ]
    },
    {
     "name": "stderr",
     "output_type": "stream",
     "text": [
      "/usr/local/lib/python3.5/dist-packages/lightgbm/engine.py:503: UserWarning: Found `n_estimators` in params. Will use it instead of argument\n",
      "  warnings.warn(\"Found `{}` in params. Will use it instead of argument\".format(alias))\n",
      "/usr/local/lib/python3.5/dist-packages/sklearn/model_selection/_split.py:657: Warning: The least populated class in y has only 1 members, which is too few. The minimum number of members in any class cannot be less than n_splits=5.\n",
      "  % (min_groups, self.n_splits)), Warning)\n"
     ]
    },
    {
     "name": "stdout",
     "output_type": "stream",
     "text": [
      "| \u001b[0m 16      \u001b[0m | \u001b[0m 2.168e+0\u001b[0m | \u001b[0m 0.9359  \u001b[0m | \u001b[0m 0.8724  \u001b[0m | \u001b[0m 0.01431 \u001b[0m | \u001b[0m 7.418   \u001b[0m | \u001b[0m 8.735   \u001b[0m | \u001b[0m 0.09379 \u001b[0m | \u001b[0m 5.814e+0\u001b[0m | \u001b[0m 40.16   \u001b[0m | \u001b[0m 20.37   \u001b[0m |\n"
     ]
    },
    {
     "name": "stderr",
     "output_type": "stream",
     "text": [
      "/usr/local/lib/python3.5/dist-packages/lightgbm/engine.py:503: UserWarning: Found `n_estimators` in params. Will use it instead of argument\n",
      "  warnings.warn(\"Found `{}` in params. Will use it instead of argument\".format(alias))\n",
      "/usr/local/lib/python3.5/dist-packages/sklearn/model_selection/_split.py:657: Warning: The least populated class in y has only 1 members, which is too few. The minimum number of members in any class cannot be less than n_splits=5.\n",
      "  % (min_groups, self.n_splits)), Warning)\n"
     ]
    },
    {
     "name": "stdout",
     "output_type": "stream",
     "text": [
      "| \u001b[0m 17      \u001b[0m | \u001b[0m 2.136e+0\u001b[0m | \u001b[0m 0.9979  \u001b[0m | \u001b[0m 0.6439  \u001b[0m | \u001b[0m 0.03786 \u001b[0m | \u001b[0m 6.076   \u001b[0m | \u001b[0m 37.62   \u001b[0m | \u001b[0m 0.09645 \u001b[0m | \u001b[0m 7.331e+0\u001b[0m | \u001b[0m 32.11   \u001b[0m | \u001b[0m 10.71   \u001b[0m |\n"
     ]
    },
    {
     "name": "stderr",
     "output_type": "stream",
     "text": [
      "/usr/local/lib/python3.5/dist-packages/lightgbm/engine.py:503: UserWarning: Found `n_estimators` in params. Will use it instead of argument\n",
      "  warnings.warn(\"Found `{}` in params. Will use it instead of argument\".format(alias))\n",
      "/usr/local/lib/python3.5/dist-packages/sklearn/model_selection/_split.py:657: Warning: The least populated class in y has only 1 members, which is too few. The minimum number of members in any class cannot be less than n_splits=5.\n",
      "  % (min_groups, self.n_splits)), Warning)\n"
     ]
    },
    {
     "name": "stdout",
     "output_type": "stream",
     "text": [
      "| \u001b[0m 18      \u001b[0m | \u001b[0m 2.163e+0\u001b[0m | \u001b[0m 0.9918  \u001b[0m | \u001b[0m 0.2612  \u001b[0m | \u001b[0m 0.02321 \u001b[0m | \u001b[0m 5.548   \u001b[0m | \u001b[0m 9.812   \u001b[0m | \u001b[0m 0.09498 \u001b[0m | \u001b[0m 9.729e+0\u001b[0m | \u001b[0m 38.44   \u001b[0m | \u001b[0m 30.16   \u001b[0m |\n"
     ]
    },
    {
     "name": "stderr",
     "output_type": "stream",
     "text": [
      "/usr/local/lib/python3.5/dist-packages/lightgbm/engine.py:503: UserWarning: Found `n_estimators` in params. Will use it instead of argument\n",
      "  warnings.warn(\"Found `{}` in params. Will use it instead of argument\".format(alias))\n",
      "/usr/local/lib/python3.5/dist-packages/sklearn/model_selection/_split.py:657: Warning: The least populated class in y has only 1 members, which is too few. The minimum number of members in any class cannot be less than n_splits=5.\n",
      "  % (min_groups, self.n_splits)), Warning)\n"
     ]
    },
    {
     "name": "stdout",
     "output_type": "stream",
     "text": [
      "| \u001b[0m 19      \u001b[0m | \u001b[0m 2.114e+0\u001b[0m | \u001b[0m 0.8746  \u001b[0m | \u001b[0m 0.249   \u001b[0m | \u001b[0m 0.05375 \u001b[0m | \u001b[0m 8.143   \u001b[0m | \u001b[0m 33.56   \u001b[0m | \u001b[0m 0.04833 \u001b[0m | \u001b[0m 9.382e+0\u001b[0m | \u001b[0m 26.39   \u001b[0m | \u001b[0m 23.5    \u001b[0m |\n"
     ]
    },
    {
     "name": "stderr",
     "output_type": "stream",
     "text": [
      "/usr/local/lib/python3.5/dist-packages/lightgbm/engine.py:503: UserWarning: Found `n_estimators` in params. Will use it instead of argument\n",
      "  warnings.warn(\"Found `{}` in params. Will use it instead of argument\".format(alias))\n",
      "/usr/local/lib/python3.5/dist-packages/sklearn/model_selection/_split.py:657: Warning: The least populated class in y has only 1 members, which is too few. The minimum number of members in any class cannot be less than n_splits=5.\n",
      "  % (min_groups, self.n_splits)), Warning)\n"
     ]
    },
    {
     "name": "stdout",
     "output_type": "stream",
     "text": [
      "| \u001b[0m 20      \u001b[0m | \u001b[0m 2.165e+0\u001b[0m | \u001b[0m 0.8393  \u001b[0m | \u001b[0m 0.2402  \u001b[0m | \u001b[0m 0.03154 \u001b[0m | \u001b[0m 7.113   \u001b[0m | \u001b[0m 28.48   \u001b[0m | \u001b[0m 0.02748 \u001b[0m | \u001b[0m 5.279e+0\u001b[0m | \u001b[0m 30.63   \u001b[0m | \u001b[0m 48.16   \u001b[0m |\n"
     ]
    },
    {
     "name": "stderr",
     "output_type": "stream",
     "text": [
      "/usr/local/lib/python3.5/dist-packages/lightgbm/engine.py:503: UserWarning: Found `n_estimators` in params. Will use it instead of argument\n",
      "  warnings.warn(\"Found `{}` in params. Will use it instead of argument\".format(alias))\n",
      "/usr/local/lib/python3.5/dist-packages/sklearn/model_selection/_split.py:657: Warning: The least populated class in y has only 1 members, which is too few. The minimum number of members in any class cannot be less than n_splits=5.\n",
      "  % (min_groups, self.n_splits)), Warning)\n"
     ]
    },
    {
     "name": "stdout",
     "output_type": "stream",
     "text": [
      "| \u001b[0m 21      \u001b[0m | \u001b[0m 2.137e+0\u001b[0m | \u001b[0m 0.9968  \u001b[0m | \u001b[0m 0.8276  \u001b[0m | \u001b[0m 0.03609 \u001b[0m | \u001b[0m 5.922   \u001b[0m | \u001b[0m 15.33   \u001b[0m | \u001b[0m 0.03068 \u001b[0m | \u001b[0m 6.304e+0\u001b[0m | \u001b[0m 33.36   \u001b[0m | \u001b[0m 28.39   \u001b[0m |\n"
     ]
    },
    {
     "name": "stderr",
     "output_type": "stream",
     "text": [
      "/usr/local/lib/python3.5/dist-packages/lightgbm/engine.py:503: UserWarning: Found `n_estimators` in params. Will use it instead of argument\n",
      "  warnings.warn(\"Found `{}` in params. Will use it instead of argument\".format(alias))\n",
      "/usr/local/lib/python3.5/dist-packages/sklearn/model_selection/_split.py:657: Warning: The least populated class in y has only 1 members, which is too few. The minimum number of members in any class cannot be less than n_splits=5.\n",
      "  % (min_groups, self.n_splits)), Warning)\n"
     ]
    },
    {
     "name": "stdout",
     "output_type": "stream",
     "text": [
      "| \u001b[0m 22      \u001b[0m | \u001b[0m 2.135e+0\u001b[0m | \u001b[0m 0.9065  \u001b[0m | \u001b[0m 0.3233  \u001b[0m | \u001b[0m 0.04655 \u001b[0m | \u001b[0m 7.683   \u001b[0m | \u001b[0m 16.72   \u001b[0m | \u001b[0m 0.03542 \u001b[0m | \u001b[0m 5.198e+0\u001b[0m | \u001b[0m 28.84   \u001b[0m | \u001b[0m 16.14   \u001b[0m |\n"
     ]
    },
    {
     "name": "stderr",
     "output_type": "stream",
     "text": [
      "/usr/local/lib/python3.5/dist-packages/lightgbm/engine.py:503: UserWarning: Found `n_estimators` in params. Will use it instead of argument\n",
      "  warnings.warn(\"Found `{}` in params. Will use it instead of argument\".format(alias))\n",
      "/usr/local/lib/python3.5/dist-packages/sklearn/model_selection/_split.py:657: Warning: The least populated class in y has only 1 members, which is too few. The minimum number of members in any class cannot be less than n_splits=5.\n",
      "  % (min_groups, self.n_splits)), Warning)\n"
     ]
    },
    {
     "name": "stdout",
     "output_type": "stream",
     "text": [
      "| \u001b[0m 23      \u001b[0m | \u001b[0m 2.132e+0\u001b[0m | \u001b[0m 0.832   \u001b[0m | \u001b[0m 0.2657  \u001b[0m | \u001b[0m 0.04303 \u001b[0m | \u001b[0m 7.612   \u001b[0m | \u001b[0m 31.18   \u001b[0m | \u001b[0m 0.05258 \u001b[0m | \u001b[0m 8.944e+0\u001b[0m | \u001b[0m 33.68   \u001b[0m | \u001b[0m 40.89   \u001b[0m |\n"
     ]
    },
    {
     "name": "stderr",
     "output_type": "stream",
     "text": [
      "/usr/local/lib/python3.5/dist-packages/lightgbm/engine.py:503: UserWarning: Found `n_estimators` in params. Will use it instead of argument\n",
      "  warnings.warn(\"Found `{}` in params. Will use it instead of argument\".format(alias))\n",
      "/usr/local/lib/python3.5/dist-packages/sklearn/model_selection/_split.py:657: Warning: The least populated class in y has only 1 members, which is too few. The minimum number of members in any class cannot be less than n_splits=5.\n",
      "  % (min_groups, self.n_splits)), Warning)\n"
     ]
    },
    {
     "name": "stdout",
     "output_type": "stream",
     "text": [
      "| \u001b[0m 24      \u001b[0m | \u001b[0m 2.112e+0\u001b[0m | \u001b[0m 0.919   \u001b[0m | \u001b[0m 0.655   \u001b[0m | \u001b[0m 0.06459 \u001b[0m | \u001b[0m 7.205   \u001b[0m | \u001b[0m 39.19   \u001b[0m | \u001b[0m 0.01897 \u001b[0m | \u001b[0m 4.244e+0\u001b[0m | \u001b[0m 30.96   \u001b[0m | \u001b[0m 36.63   \u001b[0m |\n"
     ]
    },
    {
     "name": "stderr",
     "output_type": "stream",
     "text": [
      "/usr/local/lib/python3.5/dist-packages/lightgbm/engine.py:503: UserWarning: Found `n_estimators` in params. Will use it instead of argument\n",
      "  warnings.warn(\"Found `{}` in params. Will use it instead of argument\".format(alias))\n",
      "/usr/local/lib/python3.5/dist-packages/sklearn/model_selection/_split.py:657: Warning: The least populated class in y has only 1 members, which is too few. The minimum number of members in any class cannot be less than n_splits=5.\n",
      "  % (min_groups, self.n_splits)), Warning)\n"
     ]
    },
    {
     "name": "stdout",
     "output_type": "stream",
     "text": [
      "| \u001b[0m 25      \u001b[0m | \u001b[0m 2.094e+0\u001b[0m | \u001b[0m 0.8768  \u001b[0m | \u001b[0m 0.8819  \u001b[0m | \u001b[0m 0.06463 \u001b[0m | \u001b[0m 8.151   \u001b[0m | \u001b[0m 43.29   \u001b[0m | \u001b[0m 0.02874 \u001b[0m | \u001b[0m 9.494e+0\u001b[0m | \u001b[0m 41.24   \u001b[0m | \u001b[0m 10.5    \u001b[0m |\n"
     ]
    },
    {
     "name": "stderr",
     "output_type": "stream",
     "text": [
      "/usr/local/lib/python3.5/dist-packages/lightgbm/engine.py:503: UserWarning: Found `n_estimators` in params. Will use it instead of argument\n",
      "  warnings.warn(\"Found `{}` in params. Will use it instead of argument\".format(alias))\n",
      "/usr/local/lib/python3.5/dist-packages/sklearn/model_selection/_split.py:657: Warning: The least populated class in y has only 1 members, which is too few. The minimum number of members in any class cannot be less than n_splits=5.\n",
      "  % (min_groups, self.n_splits)), Warning)\n"
     ]
    },
    {
     "name": "stdout",
     "output_type": "stream",
     "text": [
      "| \u001b[0m 26      \u001b[0m | \u001b[0m 2.105e+0\u001b[0m | \u001b[0m 0.9563  \u001b[0m | \u001b[0m 0.4007  \u001b[0m | \u001b[0m 0.06042 \u001b[0m | \u001b[0m 7.337   \u001b[0m | \u001b[0m 49.21   \u001b[0m | \u001b[0m 0.08541 \u001b[0m | \u001b[0m 9.293e+0\u001b[0m | \u001b[0m 24.31   \u001b[0m | \u001b[0m 46.22   \u001b[0m |\n"
     ]
    },
    {
     "name": "stderr",
     "output_type": "stream",
     "text": [
      "/usr/local/lib/python3.5/dist-packages/lightgbm/engine.py:503: UserWarning: Found `n_estimators` in params. Will use it instead of argument\n",
      "  warnings.warn(\"Found `{}` in params. Will use it instead of argument\".format(alias))\n",
      "/usr/local/lib/python3.5/dist-packages/sklearn/model_selection/_split.py:657: Warning: The least populated class in y has only 1 members, which is too few. The minimum number of members in any class cannot be less than n_splits=5.\n",
      "  % (min_groups, self.n_splits)), Warning)\n"
     ]
    },
    {
     "name": "stdout",
     "output_type": "stream",
     "text": [
      "| \u001b[0m 27      \u001b[0m | \u001b[0m 2.147e+0\u001b[0m | \u001b[0m 0.9814  \u001b[0m | \u001b[0m 0.6478  \u001b[0m | \u001b[0m 0.02909 \u001b[0m | \u001b[0m 7.59    \u001b[0m | \u001b[0m 37.88   \u001b[0m | \u001b[0m 0.04443 \u001b[0m | \u001b[0m 2.525e+0\u001b[0m | \u001b[0m 29.46   \u001b[0m | \u001b[0m 24.38   \u001b[0m |\n"
     ]
    },
    {
     "name": "stderr",
     "output_type": "stream",
     "text": [
      "/usr/local/lib/python3.5/dist-packages/lightgbm/engine.py:503: UserWarning: Found `n_estimators` in params. Will use it instead of argument\n",
      "  warnings.warn(\"Found `{}` in params. Will use it instead of argument\".format(alias))\n",
      "/usr/local/lib/python3.5/dist-packages/sklearn/model_selection/_split.py:657: Warning: The least populated class in y has only 1 members, which is too few. The minimum number of members in any class cannot be less than n_splits=5.\n",
      "  % (min_groups, self.n_splits)), Warning)\n"
     ]
    },
    {
     "name": "stdout",
     "output_type": "stream",
     "text": [
      "| \u001b[0m 28      \u001b[0m | \u001b[0m 2.116e+0\u001b[0m | \u001b[0m 0.8901  \u001b[0m | \u001b[0m 0.8498  \u001b[0m | \u001b[0m 0.05063 \u001b[0m | \u001b[0m 7.725   \u001b[0m | \u001b[0m 42.41   \u001b[0m | \u001b[0m 0.05489 \u001b[0m | \u001b[0m 6.083e+0\u001b[0m | \u001b[0m 32.77   \u001b[0m | \u001b[0m 28.04   \u001b[0m |\n"
     ]
    },
    {
     "name": "stderr",
     "output_type": "stream",
     "text": [
      "/usr/local/lib/python3.5/dist-packages/lightgbm/engine.py:503: UserWarning: Found `n_estimators` in params. Will use it instead of argument\n",
      "  warnings.warn(\"Found `{}` in params. Will use it instead of argument\".format(alias))\n",
      "/usr/local/lib/python3.5/dist-packages/sklearn/model_selection/_split.py:657: Warning: The least populated class in y has only 1 members, which is too few. The minimum number of members in any class cannot be less than n_splits=5.\n",
      "  % (min_groups, self.n_splits)), Warning)\n"
     ]
    },
    {
     "name": "stdout",
     "output_type": "stream",
     "text": [
      "| \u001b[0m 29      \u001b[0m | \u001b[0m 2.153e+0\u001b[0m | \u001b[0m 0.8423  \u001b[0m | \u001b[0m 0.7492  \u001b[0m | \u001b[0m 0.02448 \u001b[0m | \u001b[0m 7.032   \u001b[0m | \u001b[0m 24.97   \u001b[0m | \u001b[0m 0.007552\u001b[0m | \u001b[0m 9.112e+0\u001b[0m | \u001b[0m 38.93   \u001b[0m | \u001b[0m 41.7    \u001b[0m |\n"
     ]
    },
    {
     "name": "stderr",
     "output_type": "stream",
     "text": [
      "/usr/local/lib/python3.5/dist-packages/lightgbm/engine.py:503: UserWarning: Found `n_estimators` in params. Will use it instead of argument\n",
      "  warnings.warn(\"Found `{}` in params. Will use it instead of argument\".format(alias))\n",
      "/usr/local/lib/python3.5/dist-packages/sklearn/model_selection/_split.py:657: Warning: The least populated class in y has only 1 members, which is too few. The minimum number of members in any class cannot be less than n_splits=5.\n",
      "  % (min_groups, self.n_splits)), Warning)\n"
     ]
    },
    {
     "name": "stdout",
     "output_type": "stream",
     "text": [
      "| \u001b[0m 30      \u001b[0m | \u001b[0m 2.128e+0\u001b[0m | \u001b[0m 0.9238  \u001b[0m | \u001b[0m 0.7257  \u001b[0m | \u001b[0m 0.0468  \u001b[0m | \u001b[0m 7.539   \u001b[0m | \u001b[0m 43.56   \u001b[0m | \u001b[0m 0.09135 \u001b[0m | \u001b[0m 5.11e+03\u001b[0m | \u001b[0m 27.45   \u001b[0m | \u001b[0m 19.34   \u001b[0m |\n"
     ]
    },
    {
     "name": "stderr",
     "output_type": "stream",
     "text": [
      "/usr/local/lib/python3.5/dist-packages/lightgbm/engine.py:503: UserWarning: Found `n_estimators` in params. Will use it instead of argument\n",
      "  warnings.warn(\"Found `{}` in params. Will use it instead of argument\".format(alias))\n",
      "/usr/local/lib/python3.5/dist-packages/sklearn/model_selection/_split.py:657: Warning: The least populated class in y has only 1 members, which is too few. The minimum number of members in any class cannot be less than n_splits=5.\n",
      "  % (min_groups, self.n_splits)), Warning)\n"
     ]
    },
    {
     "name": "stdout",
     "output_type": "stream",
     "text": [
      "| \u001b[0m 31      \u001b[0m | \u001b[0m 2.146e+0\u001b[0m | \u001b[0m 0.8325  \u001b[0m | \u001b[0m 0.6997  \u001b[0m | \u001b[0m 0.03203 \u001b[0m | \u001b[0m 7.334   \u001b[0m | \u001b[0m 45.26   \u001b[0m | \u001b[0m 0.09881 \u001b[0m | \u001b[0m 7.108e+0\u001b[0m | \u001b[0m 40.25   \u001b[0m | \u001b[0m 44.54   \u001b[0m |\n"
     ]
    },
    {
     "name": "stderr",
     "output_type": "stream",
     "text": [
      "/usr/local/lib/python3.5/dist-packages/lightgbm/engine.py:503: UserWarning: Found `n_estimators` in params. Will use it instead of argument\n",
      "  warnings.warn(\"Found `{}` in params. Will use it instead of argument\".format(alias))\n",
      "/usr/local/lib/python3.5/dist-packages/sklearn/model_selection/_split.py:657: Warning: The least populated class in y has only 1 members, which is too few. The minimum number of members in any class cannot be less than n_splits=5.\n",
      "  % (min_groups, self.n_splits)), Warning)\n"
     ]
    },
    {
     "name": "stdout",
     "output_type": "stream",
     "text": [
      "| \u001b[0m 32      \u001b[0m | \u001b[0m 2.159e+0\u001b[0m | \u001b[0m 0.9399  \u001b[0m | \u001b[0m 0.6704  \u001b[0m | \u001b[0m 0.02016 \u001b[0m | \u001b[0m 7.627   \u001b[0m | \u001b[0m 46.03   \u001b[0m | \u001b[0m 0.07006 \u001b[0m | \u001b[0m 5.124e+0\u001b[0m | \u001b[0m 42.86   \u001b[0m | \u001b[0m 15.52   \u001b[0m |\n"
     ]
    },
    {
     "name": "stderr",
     "output_type": "stream",
     "text": [
      "/usr/local/lib/python3.5/dist-packages/lightgbm/engine.py:503: UserWarning: Found `n_estimators` in params. Will use it instead of argument\n",
      "  warnings.warn(\"Found `{}` in params. Will use it instead of argument\".format(alias))\n",
      "/usr/local/lib/python3.5/dist-packages/sklearn/model_selection/_split.py:657: Warning: The least populated class in y has only 1 members, which is too few. The minimum number of members in any class cannot be less than n_splits=5.\n",
      "  % (min_groups, self.n_splits)), Warning)\n"
     ]
    },
    {
     "name": "stdout",
     "output_type": "stream",
     "text": [
      "| \u001b[0m 33      \u001b[0m | \u001b[0m 2.165e+0\u001b[0m | \u001b[0m 0.9433  \u001b[0m | \u001b[0m 0.4372  \u001b[0m | \u001b[0m 0.01855 \u001b[0m | \u001b[0m 5.133   \u001b[0m | \u001b[0m 31.74   \u001b[0m | \u001b[0m 0.03462 \u001b[0m | \u001b[0m 2.67e+03\u001b[0m | \u001b[0m 30.08   \u001b[0m | \u001b[0m 13.98   \u001b[0m |\n"
     ]
    },
    {
     "name": "stderr",
     "output_type": "stream",
     "text": [
      "/usr/local/lib/python3.5/dist-packages/lightgbm/engine.py:503: UserWarning: Found `n_estimators` in params. Will use it instead of argument\n",
      "  warnings.warn(\"Found `{}` in params. Will use it instead of argument\".format(alias))\n",
      "/usr/local/lib/python3.5/dist-packages/sklearn/model_selection/_split.py:657: Warning: The least populated class in y has only 1 members, which is too few. The minimum number of members in any class cannot be less than n_splits=5.\n",
      "  % (min_groups, self.n_splits)), Warning)\n"
     ]
    },
    {
     "name": "stdout",
     "output_type": "stream",
     "text": [
      "| \u001b[0m 34      \u001b[0m | \u001b[0m 2.156e+0\u001b[0m | \u001b[0m 0.9168  \u001b[0m | \u001b[0m 0.3403  \u001b[0m | \u001b[0m 0.03923 \u001b[0m | \u001b[0m 6.606   \u001b[0m | \u001b[0m 48.22   \u001b[0m | \u001b[0m 0.07475 \u001b[0m | \u001b[0m 4.257e+0\u001b[0m | \u001b[0m 34.42   \u001b[0m | \u001b[0m 47.41   \u001b[0m |\n"
     ]
    },
    {
     "name": "stderr",
     "output_type": "stream",
     "text": [
      "/usr/local/lib/python3.5/dist-packages/lightgbm/engine.py:503: UserWarning: Found `n_estimators` in params. Will use it instead of argument\n",
      "  warnings.warn(\"Found `{}` in params. Will use it instead of argument\".format(alias))\n",
      "/usr/local/lib/python3.5/dist-packages/sklearn/model_selection/_split.py:657: Warning: The least populated class in y has only 1 members, which is too few. The minimum number of members in any class cannot be less than n_splits=5.\n",
      "  % (min_groups, self.n_splits)), Warning)\n"
     ]
    },
    {
     "name": "stdout",
     "output_type": "stream",
     "text": [
      "| \u001b[0m 35      \u001b[0m | \u001b[0m 2.133e+0\u001b[0m | \u001b[0m 0.9534  \u001b[0m | \u001b[0m 0.2989  \u001b[0m | \u001b[0m 0.06107 \u001b[0m | \u001b[0m 7.595   \u001b[0m | \u001b[0m 9.873   \u001b[0m | \u001b[0m 0.09793 \u001b[0m | \u001b[0m 9.003e+0\u001b[0m | \u001b[0m 35.12   \u001b[0m | \u001b[0m 32.44   \u001b[0m |\n",
      "=====================================================================================================================================\n",
      "|   iter    |  target   | baggin... | featur... | learni... | max_depth | min_ch... | min_sp... | n_esti... | num_le... |   seed    |\n",
      "-------------------------------------------------------------------------------------------------------------------------------------\n"
     ]
    },
    {
     "name": "stderr",
     "output_type": "stream",
     "text": [
      "/usr/local/lib/python3.5/dist-packages/lightgbm/engine.py:503: UserWarning: Found `n_estimators` in params. Will use it instead of argument\n",
      "  warnings.warn(\"Found `{}` in params. Will use it instead of argument\".format(alias))\n",
      "/usr/local/lib/python3.5/dist-packages/sklearn/model_selection/_split.py:657: Warning: The least populated class in y has only 1 members, which is too few. The minimum number of members in any class cannot be less than n_splits=5.\n",
      "  % (min_groups, self.n_splits)), Warning)\n"
     ]
    },
    {
     "name": "stdout",
     "output_type": "stream",
     "text": [
      "| \u001b[0m 1       \u001b[0m | \u001b[0m 2.254e+0\u001b[0m | \u001b[0m 0.9098  \u001b[0m | \u001b[0m 0.6722  \u001b[0m | \u001b[0m 0.04617 \u001b[0m | \u001b[0m 7.18    \u001b[0m | \u001b[0m 24.06   \u001b[0m | \u001b[0m 0.06494 \u001b[0m | \u001b[0m 4.938e+0\u001b[0m | \u001b[0m 42.73   \u001b[0m | \u001b[0m 48.55   \u001b[0m |\n"
     ]
    },
    {
     "name": "stderr",
     "output_type": "stream",
     "text": [
      "/usr/local/lib/python3.5/dist-packages/lightgbm/engine.py:503: UserWarning: Found `n_estimators` in params. Will use it instead of argument\n",
      "  warnings.warn(\"Found `{}` in params. Will use it instead of argument\".format(alias))\n",
      "/usr/local/lib/python3.5/dist-packages/sklearn/model_selection/_split.py:657: Warning: The least populated class in y has only 1 members, which is too few. The minimum number of members in any class cannot be less than n_splits=5.\n",
      "  % (min_groups, self.n_splits)), Warning)\n"
     ]
    },
    {
     "name": "stdout",
     "output_type": "stream",
     "text": [
      "| \u001b[95m 2       \u001b[0m | \u001b[95m 2.267e+0\u001b[0m | \u001b[95m 0.8767  \u001b[0m | \u001b[95m 0.7334  \u001b[0m | \u001b[95m 0.04173 \u001b[0m | \u001b[95m 7.272   \u001b[0m | \u001b[95m 46.65   \u001b[0m | \u001b[95m 0.008033\u001b[0m | \u001b[95m 1.784e+0\u001b[0m | \u001b[95m 24.42   \u001b[0m | \u001b[95m 43.3    \u001b[0m |\n"
     ]
    },
    {
     "name": "stderr",
     "output_type": "stream",
     "text": [
      "/usr/local/lib/python3.5/dist-packages/lightgbm/engine.py:503: UserWarning: Found `n_estimators` in params. Will use it instead of argument\n",
      "  warnings.warn(\"Found `{}` in params. Will use it instead of argument\".format(alias))\n",
      "/usr/local/lib/python3.5/dist-packages/sklearn/model_selection/_split.py:657: Warning: The least populated class in y has only 1 members, which is too few. The minimum number of members in any class cannot be less than n_splits=5.\n",
      "  % (min_groups, self.n_splits)), Warning)\n"
     ]
    },
    {
     "name": "stdout",
     "output_type": "stream",
     "text": [
      "| \u001b[0m 3       \u001b[0m | \u001b[0m 2.22e+06\u001b[0m | \u001b[0m 0.9556  \u001b[0m | \u001b[0m 0.796   \u001b[0m | \u001b[0m 0.06872 \u001b[0m | \u001b[0m 8.197   \u001b[0m | \u001b[0m 25.77   \u001b[0m | \u001b[0m 0.07827 \u001b[0m | \u001b[0m 2.064e+0\u001b[0m | \u001b[0m 37.44   \u001b[0m | \u001b[0m 15.73   \u001b[0m |\n"
     ]
    },
    {
     "name": "stderr",
     "output_type": "stream",
     "text": [
      "/usr/local/lib/python3.5/dist-packages/lightgbm/engine.py:503: UserWarning: Found `n_estimators` in params. Will use it instead of argument\n",
      "  warnings.warn(\"Found `{}` in params. Will use it instead of argument\".format(alias))\n",
      "/usr/local/lib/python3.5/dist-packages/sklearn/model_selection/_split.py:657: Warning: The least populated class in y has only 1 members, which is too few. The minimum number of members in any class cannot be less than n_splits=5.\n",
      "  % (min_groups, self.n_splits)), Warning)\n"
     ]
    },
    {
     "name": "stdout",
     "output_type": "stream",
     "text": [
      "| \u001b[95m 4       \u001b[0m | \u001b[95m 2.284e+0\u001b[0m | \u001b[95m 0.9889  \u001b[0m | \u001b[95m 0.5175  \u001b[0m | \u001b[95m 0.03488 \u001b[0m | \u001b[95m 6.058   \u001b[0m | \u001b[95m 39.84   \u001b[0m | \u001b[95m 0.04616 \u001b[0m | \u001b[95m 6.116e+0\u001b[0m | \u001b[95m 24.39   \u001b[0m | \u001b[95m 34.71   \u001b[0m |\n"
     ]
    },
    {
     "name": "stderr",
     "output_type": "stream",
     "text": [
      "/usr/local/lib/python3.5/dist-packages/lightgbm/engine.py:503: UserWarning: Found `n_estimators` in params. Will use it instead of argument\n",
      "  warnings.warn(\"Found `{}` in params. Will use it instead of argument\".format(alias))\n",
      "/usr/local/lib/python3.5/dist-packages/sklearn/model_selection/_split.py:657: Warning: The least populated class in y has only 1 members, which is too few. The minimum number of members in any class cannot be less than n_splits=5.\n",
      "  % (min_groups, self.n_splits)), Warning)\n"
     ]
    },
    {
     "name": "stdout",
     "output_type": "stream",
     "text": [
      "| \u001b[0m 5       \u001b[0m | \u001b[0m 2.26e+06\u001b[0m | \u001b[0m 0.9224  \u001b[0m | \u001b[0m 0.5935  \u001b[0m | \u001b[0m 0.06662 \u001b[0m | \u001b[0m 7.727   \u001b[0m | \u001b[0m 21.18   \u001b[0m | \u001b[0m 0.04427 \u001b[0m | \u001b[0m 7.279e+0\u001b[0m | \u001b[0m 25.26   \u001b[0m | \u001b[0m 36.67   \u001b[0m |\n"
     ]
    },
    {
     "name": "stderr",
     "output_type": "stream",
     "text": [
      "/usr/local/lib/python3.5/dist-packages/lightgbm/engine.py:503: UserWarning: Found `n_estimators` in params. Will use it instead of argument\n",
      "  warnings.warn(\"Found `{}` in params. Will use it instead of argument\".format(alias))\n",
      "/usr/local/lib/python3.5/dist-packages/sklearn/model_selection/_split.py:657: Warning: The least populated class in y has only 1 members, which is too few. The minimum number of members in any class cannot be less than n_splits=5.\n",
      "  % (min_groups, self.n_splits)), Warning)\n"
     ]
    },
    {
     "name": "stdout",
     "output_type": "stream",
     "text": [
      "| \u001b[95m 6       \u001b[0m | \u001b[95m 2.313e+0\u001b[0m | \u001b[95m 0.8844  \u001b[0m | \u001b[95m 0.2402  \u001b[0m | \u001b[95m 0.01921 \u001b[0m | \u001b[95m 8.233   \u001b[0m | \u001b[95m 9.211   \u001b[0m | \u001b[95m 0.001068\u001b[0m | \u001b[95m 7.493e+0\u001b[0m | \u001b[95m 30.28   \u001b[0m | \u001b[95m 39.33   \u001b[0m |\n"
     ]
    },
    {
     "name": "stderr",
     "output_type": "stream",
     "text": [
      "/usr/local/lib/python3.5/dist-packages/lightgbm/engine.py:503: UserWarning: Found `n_estimators` in params. Will use it instead of argument\n",
      "  warnings.warn(\"Found `{}` in params. Will use it instead of argument\".format(alias))\n",
      "/usr/local/lib/python3.5/dist-packages/sklearn/model_selection/_split.py:657: Warning: The least populated class in y has only 1 members, which is too few. The minimum number of members in any class cannot be less than n_splits=5.\n",
      "  % (min_groups, self.n_splits)), Warning)\n"
     ]
    },
    {
     "name": "stdout",
     "output_type": "stream",
     "text": [
      "| \u001b[0m 7       \u001b[0m | \u001b[0m 2.299e+0\u001b[0m | \u001b[0m 0.8595  \u001b[0m | \u001b[0m 0.843   \u001b[0m | \u001b[0m 0.01736 \u001b[0m | \u001b[0m 5.97    \u001b[0m | \u001b[0m 23.52   \u001b[0m | \u001b[0m 0.03308 \u001b[0m | \u001b[0m 6.152e+0\u001b[0m | \u001b[0m 28.82   \u001b[0m | \u001b[0m 47.88   \u001b[0m |\n"
     ]
    },
    {
     "name": "stderr",
     "output_type": "stream",
     "text": [
      "/usr/local/lib/python3.5/dist-packages/lightgbm/engine.py:503: UserWarning: Found `n_estimators` in params. Will use it instead of argument\n",
      "  warnings.warn(\"Found `{}` in params. Will use it instead of argument\".format(alias))\n",
      "/usr/local/lib/python3.5/dist-packages/sklearn/model_selection/_split.py:657: Warning: The least populated class in y has only 1 members, which is too few. The minimum number of members in any class cannot be less than n_splits=5.\n",
      "  % (min_groups, self.n_splits)), Warning)\n"
     ]
    },
    {
     "name": "stdout",
     "output_type": "stream",
     "text": [
      "| \u001b[0m 8       \u001b[0m | \u001b[0m 2.291e+0\u001b[0m | \u001b[0m 0.9116  \u001b[0m | \u001b[0m 0.6652  \u001b[0m | \u001b[0m 0.0291  \u001b[0m | \u001b[0m 6.537   \u001b[0m | \u001b[0m 18.14   \u001b[0m | \u001b[0m 0.06617 \u001b[0m | \u001b[0m 6.098e+0\u001b[0m | \u001b[0m 29.32   \u001b[0m | \u001b[0m 45.58   \u001b[0m |\n"
     ]
    },
    {
     "name": "stderr",
     "output_type": "stream",
     "text": [
      "/usr/local/lib/python3.5/dist-packages/lightgbm/engine.py:503: UserWarning: Found `n_estimators` in params. Will use it instead of argument\n",
      "  warnings.warn(\"Found `{}` in params. Will use it instead of argument\".format(alias))\n",
      "/usr/local/lib/python3.5/dist-packages/sklearn/model_selection/_split.py:657: Warning: The least populated class in y has only 1 members, which is too few. The minimum number of members in any class cannot be less than n_splits=5.\n",
      "  % (min_groups, self.n_splits)), Warning)\n"
     ]
    },
    {
     "name": "stdout",
     "output_type": "stream",
     "text": [
      "| \u001b[0m 9       \u001b[0m | \u001b[0m 2.259e+0\u001b[0m | \u001b[0m 0.9396  \u001b[0m | \u001b[0m 0.2106  \u001b[0m | \u001b[0m 0.06445 \u001b[0m | \u001b[0m 7.5     \u001b[0m | \u001b[0m 34.7    \u001b[0m | \u001b[0m 0.06542 \u001b[0m | \u001b[0m 6.628e+0\u001b[0m | \u001b[0m 28.8    \u001b[0m | \u001b[0m 36.39   \u001b[0m |\n"
     ]
    },
    {
     "name": "stderr",
     "output_type": "stream",
     "text": [
      "/usr/local/lib/python3.5/dist-packages/lightgbm/engine.py:503: UserWarning: Found `n_estimators` in params. Will use it instead of argument\n",
      "  warnings.warn(\"Found `{}` in params. Will use it instead of argument\".format(alias))\n",
      "/usr/local/lib/python3.5/dist-packages/sklearn/model_selection/_split.py:657: Warning: The least populated class in y has only 1 members, which is too few. The minimum number of members in any class cannot be less than n_splits=5.\n",
      "  % (min_groups, self.n_splits)), Warning)\n"
     ]
    },
    {
     "name": "stdout",
     "output_type": "stream",
     "text": [
      "| \u001b[0m 10      \u001b[0m | \u001b[0m 2.248e+0\u001b[0m | \u001b[0m 0.9603  \u001b[0m | \u001b[0m 0.865   \u001b[0m | \u001b[0m 0.05059 \u001b[0m | \u001b[0m 6.629   \u001b[0m | \u001b[0m 21.06   \u001b[0m | \u001b[0m 0.02608 \u001b[0m | \u001b[0m 1.416e+0\u001b[0m | \u001b[0m 36.43   \u001b[0m | \u001b[0m 18.61   \u001b[0m |\n"
     ]
    },
    {
     "name": "stderr",
     "output_type": "stream",
     "text": [
      "/usr/local/lib/python3.5/dist-packages/lightgbm/engine.py:503: UserWarning: Found `n_estimators` in params. Will use it instead of argument\n",
      "  warnings.warn(\"Found `{}` in params. Will use it instead of argument\".format(alias))\n",
      "/usr/local/lib/python3.5/dist-packages/sklearn/model_selection/_split.py:657: Warning: The least populated class in y has only 1 members, which is too few. The minimum number of members in any class cannot be less than n_splits=5.\n",
      "  % (min_groups, self.n_splits)), Warning)\n"
     ]
    },
    {
     "name": "stdout",
     "output_type": "stream",
     "text": [
      "| \u001b[0m 11      \u001b[0m | \u001b[0m 2.237e+0\u001b[0m | \u001b[0m 0.9577  \u001b[0m | \u001b[0m 0.6611  \u001b[0m | \u001b[0m 0.05888 \u001b[0m | \u001b[0m 7.256   \u001b[0m | \u001b[0m 41.3    \u001b[0m | \u001b[0m 0.07923 \u001b[0m | \u001b[0m 8.368e+0\u001b[0m | \u001b[0m 32.23   \u001b[0m | \u001b[0m 37.26   \u001b[0m |\n"
     ]
    },
    {
     "name": "stderr",
     "output_type": "stream",
     "text": [
      "/usr/local/lib/python3.5/dist-packages/lightgbm/engine.py:503: UserWarning: Found `n_estimators` in params. Will use it instead of argument\n",
      "  warnings.warn(\"Found `{}` in params. Will use it instead of argument\".format(alias))\n",
      "/usr/local/lib/python3.5/dist-packages/sklearn/model_selection/_split.py:657: Warning: The least populated class in y has only 1 members, which is too few. The minimum number of members in any class cannot be less than n_splits=5.\n",
      "  % (min_groups, self.n_splits)), Warning)\n"
     ]
    },
    {
     "name": "stdout",
     "output_type": "stream",
     "text": [
      "| \u001b[0m 12      \u001b[0m | \u001b[0m 2.297e+0\u001b[0m | \u001b[0m 0.8575  \u001b[0m | \u001b[0m 0.2975  \u001b[0m | \u001b[0m 0.03868 \u001b[0m | \u001b[0m 5.399   \u001b[0m | \u001b[0m 40.28   \u001b[0m | \u001b[0m 0.09882 \u001b[0m | \u001b[0m 1.793e+0\u001b[0m | \u001b[0m 25.36   \u001b[0m | \u001b[0m 38.65   \u001b[0m |\n"
     ]
    },
    {
     "name": "stderr",
     "output_type": "stream",
     "text": [
      "/usr/local/lib/python3.5/dist-packages/lightgbm/engine.py:503: UserWarning: Found `n_estimators` in params. Will use it instead of argument\n",
      "  warnings.warn(\"Found `{}` in params. Will use it instead of argument\".format(alias))\n",
      "/usr/local/lib/python3.5/dist-packages/sklearn/model_selection/_split.py:657: Warning: The least populated class in y has only 1 members, which is too few. The minimum number of members in any class cannot be less than n_splits=5.\n",
      "  % (min_groups, self.n_splits)), Warning)\n"
     ]
    },
    {
     "name": "stdout",
     "output_type": "stream",
     "text": [
      "| \u001b[0m 13      \u001b[0m | \u001b[0m 2.295e+0\u001b[0m | \u001b[0m 0.951   \u001b[0m | \u001b[0m 0.6561  \u001b[0m | \u001b[0m 0.02132 \u001b[0m | \u001b[0m 8.983   \u001b[0m | \u001b[0m 41.21   \u001b[0m | \u001b[0m 0.04594 \u001b[0m | \u001b[0m 2.894e+0\u001b[0m | \u001b[0m 26.45   \u001b[0m | \u001b[0m 28.42   \u001b[0m |\n"
     ]
    },
    {
     "name": "stderr",
     "output_type": "stream",
     "text": [
      "/usr/local/lib/python3.5/dist-packages/lightgbm/engine.py:503: UserWarning: Found `n_estimators` in params. Will use it instead of argument\n",
      "  warnings.warn(\"Found `{}` in params. Will use it instead of argument\".format(alias))\n",
      "/usr/local/lib/python3.5/dist-packages/sklearn/model_selection/_split.py:657: Warning: The least populated class in y has only 1 members, which is too few. The minimum number of members in any class cannot be less than n_splits=5.\n",
      "  % (min_groups, self.n_splits)), Warning)\n"
     ]
    },
    {
     "name": "stdout",
     "output_type": "stream",
     "text": [
      "| \u001b[0m 14      \u001b[0m | \u001b[0m 2.303e+0\u001b[0m | \u001b[0m 0.8457  \u001b[0m | \u001b[0m 0.4622  \u001b[0m | \u001b[0m 0.01581 \u001b[0m | \u001b[0m 6.113   \u001b[0m | \u001b[0m 28.36   \u001b[0m | \u001b[0m 0.05396 \u001b[0m | \u001b[0m 7.54e+03\u001b[0m | \u001b[0m 38.65   \u001b[0m | \u001b[0m 44.3    \u001b[0m |\n"
     ]
    },
    {
     "name": "stderr",
     "output_type": "stream",
     "text": [
      "/usr/local/lib/python3.5/dist-packages/lightgbm/engine.py:503: UserWarning: Found `n_estimators` in params. Will use it instead of argument\n",
      "  warnings.warn(\"Found `{}` in params. Will use it instead of argument\".format(alias))\n",
      "/usr/local/lib/python3.5/dist-packages/sklearn/model_selection/_split.py:657: Warning: The least populated class in y has only 1 members, which is too few. The minimum number of members in any class cannot be less than n_splits=5.\n",
      "  % (min_groups, self.n_splits)), Warning)\n"
     ]
    },
    {
     "name": "stdout",
     "output_type": "stream",
     "text": [
      "| \u001b[0m 15      \u001b[0m | \u001b[0m 2.253e+0\u001b[0m | \u001b[0m 0.853   \u001b[0m | \u001b[0m 0.4545  \u001b[0m | \u001b[0m 0.0522  \u001b[0m | \u001b[0m 5.428   \u001b[0m | \u001b[0m 38.43   \u001b[0m | \u001b[0m 0.001316\u001b[0m | \u001b[0m 1.039e+0\u001b[0m | \u001b[0m 33.05   \u001b[0m | \u001b[0m 13.05   \u001b[0m |\n"
     ]
    },
    {
     "name": "stderr",
     "output_type": "stream",
     "text": [
      "/usr/local/lib/python3.5/dist-packages/lightgbm/engine.py:503: UserWarning: Found `n_estimators` in params. Will use it instead of argument\n",
      "  warnings.warn(\"Found `{}` in params. Will use it instead of argument\".format(alias))\n",
      "/usr/local/lib/python3.5/dist-packages/sklearn/model_selection/_split.py:657: Warning: The least populated class in y has only 1 members, which is too few. The minimum number of members in any class cannot be less than n_splits=5.\n",
      "  % (min_groups, self.n_splits)), Warning)\n"
     ]
    },
    {
     "name": "stdout",
     "output_type": "stream",
     "text": [
      "| \u001b[0m 16      \u001b[0m | \u001b[0m 2.303e+0\u001b[0m | \u001b[0m 0.9359  \u001b[0m | \u001b[0m 0.8724  \u001b[0m | \u001b[0m 0.01431 \u001b[0m | \u001b[0m 7.418   \u001b[0m | \u001b[0m 8.735   \u001b[0m | \u001b[0m 0.09379 \u001b[0m | \u001b[0m 5.814e+0\u001b[0m | \u001b[0m 40.16   \u001b[0m | \u001b[0m 20.37   \u001b[0m |\n"
     ]
    },
    {
     "name": "stderr",
     "output_type": "stream",
     "text": [
      "/usr/local/lib/python3.5/dist-packages/lightgbm/engine.py:503: UserWarning: Found `n_estimators` in params. Will use it instead of argument\n",
      "  warnings.warn(\"Found `{}` in params. Will use it instead of argument\".format(alias))\n",
      "/usr/local/lib/python3.5/dist-packages/sklearn/model_selection/_split.py:657: Warning: The least populated class in y has only 1 members, which is too few. The minimum number of members in any class cannot be less than n_splits=5.\n",
      "  % (min_groups, self.n_splits)), Warning)\n"
     ]
    },
    {
     "name": "stdout",
     "output_type": "stream",
     "text": [
      "| \u001b[0m 17      \u001b[0m | \u001b[0m 2.271e+0\u001b[0m | \u001b[0m 0.9979  \u001b[0m | \u001b[0m 0.6439  \u001b[0m | \u001b[0m 0.03786 \u001b[0m | \u001b[0m 6.076   \u001b[0m | \u001b[0m 37.62   \u001b[0m | \u001b[0m 0.09645 \u001b[0m | \u001b[0m 7.331e+0\u001b[0m | \u001b[0m 32.11   \u001b[0m | \u001b[0m 10.71   \u001b[0m |\n"
     ]
    },
    {
     "name": "stderr",
     "output_type": "stream",
     "text": [
      "/usr/local/lib/python3.5/dist-packages/lightgbm/engine.py:503: UserWarning: Found `n_estimators` in params. Will use it instead of argument\n",
      "  warnings.warn(\"Found `{}` in params. Will use it instead of argument\".format(alias))\n",
      "/usr/local/lib/python3.5/dist-packages/sklearn/model_selection/_split.py:657: Warning: The least populated class in y has only 1 members, which is too few. The minimum number of members in any class cannot be less than n_splits=5.\n",
      "  % (min_groups, self.n_splits)), Warning)\n"
     ]
    },
    {
     "name": "stdout",
     "output_type": "stream",
     "text": [
      "| \u001b[0m 18      \u001b[0m | \u001b[0m 2.3e+06 \u001b[0m | \u001b[0m 0.9918  \u001b[0m | \u001b[0m 0.2612  \u001b[0m | \u001b[0m 0.02321 \u001b[0m | \u001b[0m 5.548   \u001b[0m | \u001b[0m 9.812   \u001b[0m | \u001b[0m 0.09498 \u001b[0m | \u001b[0m 9.729e+0\u001b[0m | \u001b[0m 38.44   \u001b[0m | \u001b[0m 30.16   \u001b[0m |\n"
     ]
    },
    {
     "name": "stderr",
     "output_type": "stream",
     "text": [
      "/usr/local/lib/python3.5/dist-packages/lightgbm/engine.py:503: UserWarning: Found `n_estimators` in params. Will use it instead of argument\n",
      "  warnings.warn(\"Found `{}` in params. Will use it instead of argument\".format(alias))\n",
      "/usr/local/lib/python3.5/dist-packages/sklearn/model_selection/_split.py:657: Warning: The least populated class in y has only 1 members, which is too few. The minimum number of members in any class cannot be less than n_splits=5.\n",
      "  % (min_groups, self.n_splits)), Warning)\n"
     ]
    },
    {
     "name": "stdout",
     "output_type": "stream",
     "text": [
      "| \u001b[0m 19      \u001b[0m | \u001b[0m 2.267e+0\u001b[0m | \u001b[0m 0.8746  \u001b[0m | \u001b[0m 0.249   \u001b[0m | \u001b[0m 0.05375 \u001b[0m | \u001b[0m 8.143   \u001b[0m | \u001b[0m 33.56   \u001b[0m | \u001b[0m 0.04833 \u001b[0m | \u001b[0m 9.382e+0\u001b[0m | \u001b[0m 26.39   \u001b[0m | \u001b[0m 23.5    \u001b[0m |\n"
     ]
    },
    {
     "name": "stderr",
     "output_type": "stream",
     "text": [
      "/usr/local/lib/python3.5/dist-packages/lightgbm/engine.py:503: UserWarning: Found `n_estimators` in params. Will use it instead of argument\n",
      "  warnings.warn(\"Found `{}` in params. Will use it instead of argument\".format(alias))\n",
      "/usr/local/lib/python3.5/dist-packages/sklearn/model_selection/_split.py:657: Warning: The least populated class in y has only 1 members, which is too few. The minimum number of members in any class cannot be less than n_splits=5.\n",
      "  % (min_groups, self.n_splits)), Warning)\n"
     ]
    },
    {
     "name": "stdout",
     "output_type": "stream",
     "text": [
      "| \u001b[0m 20      \u001b[0m | \u001b[0m 2.281e+0\u001b[0m | \u001b[0m 0.8393  \u001b[0m | \u001b[0m 0.2402  \u001b[0m | \u001b[0m 0.03154 \u001b[0m | \u001b[0m 7.113   \u001b[0m | \u001b[0m 28.48   \u001b[0m | \u001b[0m 0.02748 \u001b[0m | \u001b[0m 5.279e+0\u001b[0m | \u001b[0m 30.63   \u001b[0m | \u001b[0m 48.16   \u001b[0m |\n"
     ]
    },
    {
     "name": "stderr",
     "output_type": "stream",
     "text": [
      "/usr/local/lib/python3.5/dist-packages/lightgbm/engine.py:503: UserWarning: Found `n_estimators` in params. Will use it instead of argument\n",
      "  warnings.warn(\"Found `{}` in params. Will use it instead of argument\".format(alias))\n",
      "/usr/local/lib/python3.5/dist-packages/sklearn/model_selection/_split.py:657: Warning: The least populated class in y has only 1 members, which is too few. The minimum number of members in any class cannot be less than n_splits=5.\n",
      "  % (min_groups, self.n_splits)), Warning)\n"
     ]
    },
    {
     "name": "stdout",
     "output_type": "stream",
     "text": [
      "| \u001b[0m 21      \u001b[0m | \u001b[0m 2.27e+06\u001b[0m | \u001b[0m 0.9968  \u001b[0m | \u001b[0m 0.8276  \u001b[0m | \u001b[0m 0.03609 \u001b[0m | \u001b[0m 5.922   \u001b[0m | \u001b[0m 15.33   \u001b[0m | \u001b[0m 0.03068 \u001b[0m | \u001b[0m 6.304e+0\u001b[0m | \u001b[0m 33.36   \u001b[0m | \u001b[0m 28.39   \u001b[0m |\n"
     ]
    },
    {
     "name": "stderr",
     "output_type": "stream",
     "text": [
      "/usr/local/lib/python3.5/dist-packages/lightgbm/engine.py:503: UserWarning: Found `n_estimators` in params. Will use it instead of argument\n",
      "  warnings.warn(\"Found `{}` in params. Will use it instead of argument\".format(alias))\n",
      "/usr/local/lib/python3.5/dist-packages/sklearn/model_selection/_split.py:657: Warning: The least populated class in y has only 1 members, which is too few. The minimum number of members in any class cannot be less than n_splits=5.\n",
      "  % (min_groups, self.n_splits)), Warning)\n"
     ]
    },
    {
     "name": "stdout",
     "output_type": "stream",
     "text": [
      "| \u001b[0m 22      \u001b[0m | \u001b[0m 2.282e+0\u001b[0m | \u001b[0m 0.9065  \u001b[0m | \u001b[0m 0.3233  \u001b[0m | \u001b[0m 0.04655 \u001b[0m | \u001b[0m 7.683   \u001b[0m | \u001b[0m 16.72   \u001b[0m | \u001b[0m 0.03542 \u001b[0m | \u001b[0m 5.198e+0\u001b[0m | \u001b[0m 28.84   \u001b[0m | \u001b[0m 16.14   \u001b[0m |\n"
     ]
    },
    {
     "name": "stderr",
     "output_type": "stream",
     "text": [
      "/usr/local/lib/python3.5/dist-packages/lightgbm/engine.py:503: UserWarning: Found `n_estimators` in params. Will use it instead of argument\n",
      "  warnings.warn(\"Found `{}` in params. Will use it instead of argument\".format(alias))\n",
      "/usr/local/lib/python3.5/dist-packages/sklearn/model_selection/_split.py:657: Warning: The least populated class in y has only 1 members, which is too few. The minimum number of members in any class cannot be less than n_splits=5.\n",
      "  % (min_groups, self.n_splits)), Warning)\n"
     ]
    },
    {
     "name": "stdout",
     "output_type": "stream",
     "text": [
      "| \u001b[0m 23      \u001b[0m | \u001b[0m 2.266e+0\u001b[0m | \u001b[0m 0.832   \u001b[0m | \u001b[0m 0.2657  \u001b[0m | \u001b[0m 0.04303 \u001b[0m | \u001b[0m 7.612   \u001b[0m | \u001b[0m 31.18   \u001b[0m | \u001b[0m 0.05258 \u001b[0m | \u001b[0m 8.944e+0\u001b[0m | \u001b[0m 33.68   \u001b[0m | \u001b[0m 40.89   \u001b[0m |\n"
     ]
    },
    {
     "name": "stderr",
     "output_type": "stream",
     "text": [
      "/usr/local/lib/python3.5/dist-packages/lightgbm/engine.py:503: UserWarning: Found `n_estimators` in params. Will use it instead of argument\n",
      "  warnings.warn(\"Found `{}` in params. Will use it instead of argument\".format(alias))\n",
      "/usr/local/lib/python3.5/dist-packages/sklearn/model_selection/_split.py:657: Warning: The least populated class in y has only 1 members, which is too few. The minimum number of members in any class cannot be less than n_splits=5.\n",
      "  % (min_groups, self.n_splits)), Warning)\n"
     ]
    },
    {
     "name": "stdout",
     "output_type": "stream",
     "text": [
      "| \u001b[0m 24      \u001b[0m | \u001b[0m 2.26e+06\u001b[0m | \u001b[0m 0.919   \u001b[0m | \u001b[0m 0.655   \u001b[0m | \u001b[0m 0.06459 \u001b[0m | \u001b[0m 7.205   \u001b[0m | \u001b[0m 39.19   \u001b[0m | \u001b[0m 0.01897 \u001b[0m | \u001b[0m 4.244e+0\u001b[0m | \u001b[0m 30.96   \u001b[0m | \u001b[0m 36.63   \u001b[0m |\n"
     ]
    },
    {
     "name": "stderr",
     "output_type": "stream",
     "text": [
      "/usr/local/lib/python3.5/dist-packages/lightgbm/engine.py:503: UserWarning: Found `n_estimators` in params. Will use it instead of argument\n",
      "  warnings.warn(\"Found `{}` in params. Will use it instead of argument\".format(alias))\n",
      "/usr/local/lib/python3.5/dist-packages/sklearn/model_selection/_split.py:657: Warning: The least populated class in y has only 1 members, which is too few. The minimum number of members in any class cannot be less than n_splits=5.\n",
      "  % (min_groups, self.n_splits)), Warning)\n"
     ]
    },
    {
     "name": "stdout",
     "output_type": "stream",
     "text": [
      "| \u001b[0m 25      \u001b[0m | \u001b[0m 2.225e+0\u001b[0m | \u001b[0m 0.8768  \u001b[0m | \u001b[0m 0.8819  \u001b[0m | \u001b[0m 0.06463 \u001b[0m | \u001b[0m 8.151   \u001b[0m | \u001b[0m 43.29   \u001b[0m | \u001b[0m 0.02874 \u001b[0m | \u001b[0m 9.494e+0\u001b[0m | \u001b[0m 41.24   \u001b[0m | \u001b[0m 10.5    \u001b[0m |\n"
     ]
    },
    {
     "name": "stderr",
     "output_type": "stream",
     "text": [
      "/usr/local/lib/python3.5/dist-packages/lightgbm/engine.py:503: UserWarning: Found `n_estimators` in params. Will use it instead of argument\n",
      "  warnings.warn(\"Found `{}` in params. Will use it instead of argument\".format(alias))\n",
      "/usr/local/lib/python3.5/dist-packages/sklearn/model_selection/_split.py:657: Warning: The least populated class in y has only 1 members, which is too few. The minimum number of members in any class cannot be less than n_splits=5.\n",
      "  % (min_groups, self.n_splits)), Warning)\n"
     ]
    },
    {
     "name": "stdout",
     "output_type": "stream",
     "text": [
      "| \u001b[0m 26      \u001b[0m | \u001b[0m 2.237e+0\u001b[0m | \u001b[0m 0.9563  \u001b[0m | \u001b[0m 0.4007  \u001b[0m | \u001b[0m 0.06042 \u001b[0m | \u001b[0m 7.337   \u001b[0m | \u001b[0m 49.21   \u001b[0m | \u001b[0m 0.08541 \u001b[0m | \u001b[0m 9.293e+0\u001b[0m | \u001b[0m 24.31   \u001b[0m | \u001b[0m 46.22   \u001b[0m |\n"
     ]
    },
    {
     "name": "stderr",
     "output_type": "stream",
     "text": [
      "/usr/local/lib/python3.5/dist-packages/lightgbm/engine.py:503: UserWarning: Found `n_estimators` in params. Will use it instead of argument\n",
      "  warnings.warn(\"Found `{}` in params. Will use it instead of argument\".format(alias))\n",
      "/usr/local/lib/python3.5/dist-packages/sklearn/model_selection/_split.py:657: Warning: The least populated class in y has only 1 members, which is too few. The minimum number of members in any class cannot be less than n_splits=5.\n",
      "  % (min_groups, self.n_splits)), Warning)\n"
     ]
    },
    {
     "name": "stdout",
     "output_type": "stream",
     "text": [
      "| \u001b[0m 27      \u001b[0m | \u001b[0m 2.281e+0\u001b[0m | \u001b[0m 0.9814  \u001b[0m | \u001b[0m 0.6478  \u001b[0m | \u001b[0m 0.02909 \u001b[0m | \u001b[0m 7.59    \u001b[0m | \u001b[0m 37.88   \u001b[0m | \u001b[0m 0.04443 \u001b[0m | \u001b[0m 2.525e+0\u001b[0m | \u001b[0m 29.46   \u001b[0m | \u001b[0m 24.38   \u001b[0m |\n"
     ]
    },
    {
     "name": "stderr",
     "output_type": "stream",
     "text": [
      "/usr/local/lib/python3.5/dist-packages/lightgbm/engine.py:503: UserWarning: Found `n_estimators` in params. Will use it instead of argument\n",
      "  warnings.warn(\"Found `{}` in params. Will use it instead of argument\".format(alias))\n",
      "/usr/local/lib/python3.5/dist-packages/sklearn/model_selection/_split.py:657: Warning: The least populated class in y has only 1 members, which is too few. The minimum number of members in any class cannot be less than n_splits=5.\n",
      "  % (min_groups, self.n_splits)), Warning)\n"
     ]
    },
    {
     "name": "stdout",
     "output_type": "stream",
     "text": [
      "| \u001b[0m 28      \u001b[0m | \u001b[0m 2.248e+0\u001b[0m | \u001b[0m 0.8901  \u001b[0m | \u001b[0m 0.8498  \u001b[0m | \u001b[0m 0.05063 \u001b[0m | \u001b[0m 7.725   \u001b[0m | \u001b[0m 42.41   \u001b[0m | \u001b[0m 0.05489 \u001b[0m | \u001b[0m 6.083e+0\u001b[0m | \u001b[0m 32.77   \u001b[0m | \u001b[0m 28.04   \u001b[0m |\n"
     ]
    },
    {
     "name": "stderr",
     "output_type": "stream",
     "text": [
      "/usr/local/lib/python3.5/dist-packages/lightgbm/engine.py:503: UserWarning: Found `n_estimators` in params. Will use it instead of argument\n",
      "  warnings.warn(\"Found `{}` in params. Will use it instead of argument\".format(alias))\n",
      "/usr/local/lib/python3.5/dist-packages/sklearn/model_selection/_split.py:657: Warning: The least populated class in y has only 1 members, which is too few. The minimum number of members in any class cannot be less than n_splits=5.\n",
      "  % (min_groups, self.n_splits)), Warning)\n"
     ]
    },
    {
     "name": "stdout",
     "output_type": "stream",
     "text": [
      "| \u001b[0m 29      \u001b[0m | \u001b[0m 2.287e+0\u001b[0m | \u001b[0m 0.8423  \u001b[0m | \u001b[0m 0.7492  \u001b[0m | \u001b[0m 0.02448 \u001b[0m | \u001b[0m 7.032   \u001b[0m | \u001b[0m 24.97   \u001b[0m | \u001b[0m 0.007552\u001b[0m | \u001b[0m 9.112e+0\u001b[0m | \u001b[0m 38.93   \u001b[0m | \u001b[0m 41.7    \u001b[0m |\n"
     ]
    },
    {
     "name": "stderr",
     "output_type": "stream",
     "text": [
      "/usr/local/lib/python3.5/dist-packages/lightgbm/engine.py:503: UserWarning: Found `n_estimators` in params. Will use it instead of argument\n",
      "  warnings.warn(\"Found `{}` in params. Will use it instead of argument\".format(alias))\n",
      "/usr/local/lib/python3.5/dist-packages/sklearn/model_selection/_split.py:657: Warning: The least populated class in y has only 1 members, which is too few. The minimum number of members in any class cannot be less than n_splits=5.\n",
      "  % (min_groups, self.n_splits)), Warning)\n"
     ]
    },
    {
     "name": "stdout",
     "output_type": "stream",
     "text": [
      "| \u001b[0m 30      \u001b[0m | \u001b[0m 2.26e+06\u001b[0m | \u001b[0m 0.9238  \u001b[0m | \u001b[0m 0.7257  \u001b[0m | \u001b[0m 0.0468  \u001b[0m | \u001b[0m 7.539   \u001b[0m | \u001b[0m 43.56   \u001b[0m | \u001b[0m 0.09135 \u001b[0m | \u001b[0m 5.11e+03\u001b[0m | \u001b[0m 27.45   \u001b[0m | \u001b[0m 19.34   \u001b[0m |\n"
     ]
    },
    {
     "name": "stderr",
     "output_type": "stream",
     "text": [
      "/usr/local/lib/python3.5/dist-packages/lightgbm/engine.py:503: UserWarning: Found `n_estimators` in params. Will use it instead of argument\n",
      "  warnings.warn(\"Found `{}` in params. Will use it instead of argument\".format(alias))\n",
      "/usr/local/lib/python3.5/dist-packages/sklearn/model_selection/_split.py:657: Warning: The least populated class in y has only 1 members, which is too few. The minimum number of members in any class cannot be less than n_splits=5.\n",
      "  % (min_groups, self.n_splits)), Warning)\n"
     ]
    },
    {
     "name": "stdout",
     "output_type": "stream",
     "text": [
      "| \u001b[0m 31      \u001b[0m | \u001b[0m 2.28e+06\u001b[0m | \u001b[0m 0.8325  \u001b[0m | \u001b[0m 0.6997  \u001b[0m | \u001b[0m 0.03203 \u001b[0m | \u001b[0m 7.334   \u001b[0m | \u001b[0m 45.26   \u001b[0m | \u001b[0m 0.09881 \u001b[0m | \u001b[0m 7.108e+0\u001b[0m | \u001b[0m 40.25   \u001b[0m | \u001b[0m 44.54   \u001b[0m |\n"
     ]
    },
    {
     "name": "stderr",
     "output_type": "stream",
     "text": [
      "/usr/local/lib/python3.5/dist-packages/lightgbm/engine.py:503: UserWarning: Found `n_estimators` in params. Will use it instead of argument\n",
      "  warnings.warn(\"Found `{}` in params. Will use it instead of argument\".format(alias))\n",
      "/usr/local/lib/python3.5/dist-packages/sklearn/model_selection/_split.py:657: Warning: The least populated class in y has only 1 members, which is too few. The minimum number of members in any class cannot be less than n_splits=5.\n",
      "  % (min_groups, self.n_splits)), Warning)\n"
     ]
    },
    {
     "name": "stdout",
     "output_type": "stream",
     "text": [
      "| \u001b[0m 32      \u001b[0m | \u001b[0m 2.294e+0\u001b[0m | \u001b[0m 0.9399  \u001b[0m | \u001b[0m 0.6704  \u001b[0m | \u001b[0m 0.02016 \u001b[0m | \u001b[0m 7.627   \u001b[0m | \u001b[0m 46.03   \u001b[0m | \u001b[0m 0.07006 \u001b[0m | \u001b[0m 5.124e+0\u001b[0m | \u001b[0m 42.86   \u001b[0m | \u001b[0m 15.52   \u001b[0m |\n"
     ]
    },
    {
     "name": "stderr",
     "output_type": "stream",
     "text": [
      "/usr/local/lib/python3.5/dist-packages/lightgbm/engine.py:503: UserWarning: Found `n_estimators` in params. Will use it instead of argument\n",
      "  warnings.warn(\"Found `{}` in params. Will use it instead of argument\".format(alias))\n",
      "/usr/local/lib/python3.5/dist-packages/sklearn/model_selection/_split.py:657: Warning: The least populated class in y has only 1 members, which is too few. The minimum number of members in any class cannot be less than n_splits=5.\n",
      "  % (min_groups, self.n_splits)), Warning)\n"
     ]
    },
    {
     "name": "stdout",
     "output_type": "stream",
     "text": [
      "| \u001b[0m 33      \u001b[0m | \u001b[0m 2.299e+0\u001b[0m | \u001b[0m 0.9433  \u001b[0m | \u001b[0m 0.4372  \u001b[0m | \u001b[0m 0.01855 \u001b[0m | \u001b[0m 5.133   \u001b[0m | \u001b[0m 31.74   \u001b[0m | \u001b[0m 0.03462 \u001b[0m | \u001b[0m 2.67e+03\u001b[0m | \u001b[0m 30.08   \u001b[0m | \u001b[0m 13.98   \u001b[0m |\n"
     ]
    },
    {
     "name": "stderr",
     "output_type": "stream",
     "text": [
      "/usr/local/lib/python3.5/dist-packages/lightgbm/engine.py:503: UserWarning: Found `n_estimators` in params. Will use it instead of argument\n",
      "  warnings.warn(\"Found `{}` in params. Will use it instead of argument\".format(alias))\n",
      "/usr/local/lib/python3.5/dist-packages/sklearn/model_selection/_split.py:657: Warning: The least populated class in y has only 1 members, which is too few. The minimum number of members in any class cannot be less than n_splits=5.\n",
      "  % (min_groups, self.n_splits)), Warning)\n"
     ]
    },
    {
     "name": "stdout",
     "output_type": "stream",
     "text": [
      "| \u001b[0m 34      \u001b[0m | \u001b[0m 2.289e+0\u001b[0m | \u001b[0m 0.9168  \u001b[0m | \u001b[0m 0.3403  \u001b[0m | \u001b[0m 0.03923 \u001b[0m | \u001b[0m 6.606   \u001b[0m | \u001b[0m 48.22   \u001b[0m | \u001b[0m 0.07475 \u001b[0m | \u001b[0m 4.257e+0\u001b[0m | \u001b[0m 34.42   \u001b[0m | \u001b[0m 47.41   \u001b[0m |\n"
     ]
    },
    {
     "name": "stderr",
     "output_type": "stream",
     "text": [
      "/usr/local/lib/python3.5/dist-packages/lightgbm/engine.py:503: UserWarning: Found `n_estimators` in params. Will use it instead of argument\n",
      "  warnings.warn(\"Found `{}` in params. Will use it instead of argument\".format(alias))\n",
      "/usr/local/lib/python3.5/dist-packages/sklearn/model_selection/_split.py:657: Warning: The least populated class in y has only 1 members, which is too few. The minimum number of members in any class cannot be less than n_splits=5.\n",
      "  % (min_groups, self.n_splits)), Warning)\n"
     ]
    },
    {
     "name": "stdout",
     "output_type": "stream",
     "text": [
      "| \u001b[0m 35      \u001b[0m | \u001b[0m 2.27e+06\u001b[0m | \u001b[0m 0.9534  \u001b[0m | \u001b[0m 0.2989  \u001b[0m | \u001b[0m 0.06107 \u001b[0m | \u001b[0m 7.595   \u001b[0m | \u001b[0m 9.873   \u001b[0m | \u001b[0m 0.09793 \u001b[0m | \u001b[0m 9.003e+0\u001b[0m | \u001b[0m 35.12   \u001b[0m | \u001b[0m 32.44   \u001b[0m |\n",
      "=====================================================================================================================================\n"
     ]
    }
   ],
   "source": [
    "dtrain = dtrain_2012\n",
    "params_2012 = optimize_lgbm(dtrain_2012)\n",
    "dtrain = dtrain_2013\n",
    "params_2013 = optimize_lgbm(dtrain_2013)\n",
    "dtrain = dtrain_2014\n",
    "params_2014 = optimize_lgbm(dtrain_2014)\n",
    "dtrain = dtrain_2015\n",
    "params_2015 = optimize_lgbm(dtrain_2015)\n",
    "dtrain = dtrain_2016\n",
    "params_2016 = optimize_lgbm(dtrain_2016)"
   ]
  },
  {
   "cell_type": "code",
   "execution_count": 128,
   "metadata": {},
   "outputs": [],
   "source": [
    "from lightgbm import LGBMRegressor as lgbm\n",
    "def fabrica_lgbm(params):\n",
    "    best_lgbm_model = lgbm(#colsample_bytree=params[\"colsample_bytree\"],\n",
    "                 bagging_fracion=params[\"bagging_fraction\"],\n",
    "                 num_leaves=int(params[\"num_leaves\"]),                 \n",
    "                 learning_rate=params[\"learning_rate\"],\n",
    "                 max_depth=params[\"max_depth\"],\n",
    "                 min_child_weight=params[\"min_child_weight\"],\n",
    "                 n_estimators=params[\"n_estimators\"],                                                                    \n",
    "                 #reg_alpha=params[\"reg_alpha\"],\n",
    "                 #reg_lambda=params[\"reg_lambda\"],\n",
    "                 #subsample=params[\"subsample\"],\n",
    "                 seed=params[\"seed\"])\n",
    "    \n",
    "    return best_lgbm_model"
   ]
  },
  {
   "cell_type": "code",
   "execution_count": 129,
   "metadata": {},
   "outputs": [],
   "source": [
    "lgbm_2012 = fabrica_lgbm(params_2012)\n",
    "lgbm_2013 = fabrica_lgbm(params_2013)\n",
    "lgbm_2014 = fabrica_lgbm(params_2014)\n",
    "lgbm_2015 = fabrica_lgbm(params_2015)\n",
    "lgbm_2016 = fabrica_lgbm(params_2016)"
   ]
  },
  {
   "cell_type": "code",
   "execution_count": 130,
   "metadata": {},
   "outputs": [
    {
     "name": "stdout",
     "output_type": "stream",
     "text": [
      "MAE XGB: 247969.11358115327\n"
     ]
    }
   ],
   "source": [
    "lgbm_2012.fit(x_2012,y_2012)\n",
    "lgbm_pred_val = lgbm_2012.predict(x_2012_val)\n",
    "lgbm_mae = MAE(y_2012_val, lgbm_pred_val)\n",
    "print(\"MAE XGB: \" + str(lgbm_mae))"
   ]
  },
  {
   "cell_type": "code",
   "execution_count": 131,
   "metadata": {},
   "outputs": [
    {
     "name": "stdout",
     "output_type": "stream",
     "text": [
      "MAE XGB: 252449.28368706707\n"
     ]
    }
   ],
   "source": [
    "lgbm_2013.fit(x_2013,y_2013)\n",
    "lgbm_pred_val = lgbm_2013.predict(x_2013_val)\n",
    "lgbm_mae = MAE(y_2013_val, lgbm_pred_val)\n",
    "print(\"MAE XGB: \" + str(lgbm_mae))"
   ]
  },
  {
   "cell_type": "code",
   "execution_count": 132,
   "metadata": {},
   "outputs": [
    {
     "name": "stdout",
     "output_type": "stream",
     "text": [
      "MAE XGB: 319839.37239779125\n"
     ]
    }
   ],
   "source": [
    "lgbm_2014.fit(x_2014,y_2014)\n",
    "lgbm_pred_val = lgbm_2014.predict(x_2014_val)\n",
    "lgbm_mae = MAE(y_2014_val, lgbm_pred_val)\n",
    "print(\"MAE XGB: \" + str(lgbm_mae))"
   ]
  },
  {
   "cell_type": "code",
   "execution_count": 133,
   "metadata": {},
   "outputs": [
    {
     "name": "stdout",
     "output_type": "stream",
     "text": [
      "MAE XGB: 411867.8950144341\n"
     ]
    }
   ],
   "source": [
    "lgbm_2015.fit(x_2015,y_2015)\n",
    "lgbm_pred_val = lgbm_2015.predict(x_2015_val)\n",
    "lgbm_mae = MAE(y_2015_val, lgbm_pred_val)\n",
    "print(\"MAE XGB: \" + str(lgbm_mae))"
   ]
  },
  {
   "cell_type": "code",
   "execution_count": 134,
   "metadata": {},
   "outputs": [
    {
     "name": "stdout",
     "output_type": "stream",
     "text": [
      "MAE XGB: 453748.5650848439\n"
     ]
    }
   ],
   "source": [
    "lgbm_2016.fit(x_2016,y_2016)\n",
    "lgbm_pred_val = lgbm_2016.predict(x_2016_val)\n",
    "lgbm_mae = MAE(y_2016_val, lgbm_pred_val)\n",
    "print(\"MAE XGB: \" + str(lgbm_mae))"
   ]
  },
  {
   "cell_type": "code",
   "execution_count": 135,
   "metadata": {},
   "outputs": [
    {
     "data": {
      "text/plain": [
       "['lgbm_2012.joblib']"
      ]
     },
     "execution_count": 135,
     "metadata": {},
     "output_type": "execute_result"
    }
   ],
   "source": [
    "dump(lgbm_2012,'lgbm_2012.joblib')\n",
    "dump(lgbm_2013,'lgbm_2012.joblib')\n",
    "dump(lgbm_2014,'lgbm_2012.joblib')\n",
    "dump(lgbm_2015,'lgbm_2012.joblib')\n",
    "dump(lgbm_2016,'lgbm_2012.joblib')"
   ]
  },
  {
   "cell_type": "markdown",
   "metadata": {},
   "source": [
    "## XGBoost"
   ]
  },
  {
   "cell_type": "markdown",
   "metadata": {},
   "source": [
    "### Tuneo de hiperparámetros"
   ]
  },
  {
   "cell_type": "code",
   "execution_count": 136,
   "metadata": {},
   "outputs": [
    {
     "name": "stderr",
     "output_type": "stream",
     "text": [
      "/usr/local/lib/python3.5/dist-packages/xgboost/core.py:587: FutureWarning: Series.base is deprecated and will be removed in a future version\n",
      "  if getattr(data, 'base', None) is not None and \\\n",
      "/usr/local/lib/python3.5/dist-packages/xgboost/core.py:588: FutureWarning: Series.base is deprecated and will be removed in a future version\n",
      "  data.base is not None and isinstance(data, np.ndarray) \\\n"
     ]
    }
   ],
   "source": [
    "import xgboost as xgb\n",
    "\n",
    "dtrain_2012 = xgb.DMatrix(x_2012, label=y_2012)\n",
    "dtrain_2013 = xgb.DMatrix(x_2013, label=y_2013)\n",
    "dtrain_2014 = xgb.DMatrix(x_2014, label=y_2014)\n",
    "dtrain_2015 = xgb.DMatrix(x_2015, label=y_2015)\n",
    "dtrain_2016 = xgb.DMatrix(x_2016, label=y_2016)"
   ]
  },
  {
   "cell_type": "code",
   "execution_count": 137,
   "metadata": {},
   "outputs": [],
   "source": [
    "def xgb_evaluate(max_depth, gamma, colsample_bytree,seed,min_child_weight,n_estimators,\n",
    "                  reg_alpha,reg_lambda,subsample,learning_rate):\n",
    "    params = {'eval_metric': 'rmse',\n",
    "              'max_depth': int(max_depth),\n",
    "              'subsample': subsample,\n",
    "              'eta': 0.1,\n",
    "              'gamma': gamma,\n",
    "              'colsample_bytree': colsample_bytree,\n",
    "              \"seed\": int(seed),\n",
    "              \"min_child_weight\": min_child_weight,\n",
    "              \"n_estimators\": n_estimators,\n",
    "              \"reg_alpha\": reg_alpha,\n",
    "              \"reg_lambda\": reg_lambda,\n",
    "              \"learning_rate\": learning_rate\n",
    "             }\n",
    "    # Used around 1000 boosting rounds in the full model\n",
    "    cv_result = xgb.cv(params, dtrain, num_boost_round=100, nfold=5)    \n",
    "    \n",
    "    # Bayesian optimization only knows how to maximize, not minimize, so return the negative RMSE\n",
    "    return -1.0 * cv_result['test-rmse-mean'].iloc[-1]"
   ]
  },
  {
   "cell_type": "code",
   "execution_count": 138,
   "metadata": {},
   "outputs": [],
   "source": [
    "def optimize(sett):\n",
    "    dtrain = sett\n",
    "    xgb_bo = BayesianOptimization(xgb_evaluate, {'max_depth': (3, 7), \n",
    "                                             'gamma': (0, 1),\n",
    "                                             'colsample_bytree': (0.3, 0.9),\n",
    "                                             \"seed\": (10,50),\n",
    "                                             \"min_child_weight\": (0.4,1.5),\n",
    "                                             \"n_estimators\":(1000,10000),                                                                    \n",
    "                                             \"reg_alpha\":(0.2,0.75),\n",
    "                                             \"reg_lambda\": (0.2,0.8),\n",
    "                                             \"subsample\" : (0.3, 0.8),\n",
    "                                             \"learning_rate\": (0.01,0.07),\n",
    "                                            })\n",
    "    # Se probo con 3 puntos iniciales y 10 iteraciones, deberiamos probar con mas en ambas\n",
    "    # La prox iteracion en casa probar 100 y 10000\n",
    "    xgb_bo.maximize(init_points=5, n_iter=30, acq='ei')\n",
    "    params = xgb_bo.max['params']\n",
    "    params['max_depth'] = int(params['max_depth'])\n",
    "    params[\"seed\"] = int(params[\"seed\"])\n",
    "    params[\"n_estimators\"] = int(params[\"n_estimators\"])\n",
    "    return params"
   ]
  },
  {
   "cell_type": "code",
   "execution_count": 139,
   "metadata": {
    "scrolled": true
   },
   "outputs": [
    {
     "name": "stdout",
     "output_type": "stream",
     "text": [
      "|   iter    |  target   | colsam... |   gamma   | learni... | max_depth | min_ch... | n_esti... | reg_alpha | reg_la... |   seed    | subsample |\n",
      "-------------------------------------------------------------------------------------------------------------------------------------------------\n",
      "| \u001b[0m 1       \u001b[0m | \u001b[0m-9.799e+0\u001b[0m | \u001b[0m 0.33    \u001b[0m | \u001b[0m 0.6134  \u001b[0m | \u001b[0m 0.04418 \u001b[0m | \u001b[0m 3.388   \u001b[0m | \u001b[0m 0.7952  \u001b[0m | \u001b[0m 1.21e+03\u001b[0m | \u001b[0m 0.6069  \u001b[0m | \u001b[0m 0.3696  \u001b[0m | \u001b[0m 37.06   \u001b[0m | \u001b[0m 0.3381  \u001b[0m |\n",
      "| \u001b[0m 2       \u001b[0m | \u001b[0m-1.169e+0\u001b[0m | \u001b[0m 0.6036  \u001b[0m | \u001b[0m 0.8619  \u001b[0m | \u001b[0m 0.01395 \u001b[0m | \u001b[0m 5.272   \u001b[0m | \u001b[0m 0.5719  \u001b[0m | \u001b[0m 9.46e+03\u001b[0m | \u001b[0m 0.2907  \u001b[0m | \u001b[0m 0.5295  \u001b[0m | \u001b[0m 24.83   \u001b[0m | \u001b[0m 0.5911  \u001b[0m |\n",
      "| \u001b[95m 3       \u001b[0m | \u001b[95m-8.893e+0\u001b[0m | \u001b[95m 0.5075  \u001b[0m | \u001b[95m 0.2933  \u001b[0m | \u001b[95m 0.05577 \u001b[0m | \u001b[95m 4.516   \u001b[0m | \u001b[95m 1.281   \u001b[0m | \u001b[95m 4.505e+0\u001b[0m | \u001b[95m 0.3232  \u001b[0m | \u001b[95m 0.5933  \u001b[0m | \u001b[95m 44.7    \u001b[0m | \u001b[95m 0.5866  \u001b[0m |\n",
      "| \u001b[95m 4       \u001b[0m | \u001b[95m-8.547e+0\u001b[0m | \u001b[95m 0.8566  \u001b[0m | \u001b[95m 0.9724  \u001b[0m | \u001b[95m 0.05677 \u001b[0m | \u001b[95m 5.618   \u001b[0m | \u001b[95m 1.498   \u001b[0m | \u001b[95m 9.382e+0\u001b[0m | \u001b[95m 0.4157  \u001b[0m | \u001b[95m 0.6381  \u001b[0m | \u001b[95m 32.88   \u001b[0m | \u001b[95m 0.72    \u001b[0m |\n",
      "| \u001b[0m 5       \u001b[0m | \u001b[0m-9.603e+0\u001b[0m | \u001b[0m 0.4696  \u001b[0m | \u001b[0m 0.6594  \u001b[0m | \u001b[0m 0.02955 \u001b[0m | \u001b[0m 4.711   \u001b[0m | \u001b[0m 0.6405  \u001b[0m | \u001b[0m 4.666e+0\u001b[0m | \u001b[0m 0.2144  \u001b[0m | \u001b[0m 0.3206  \u001b[0m | \u001b[0m 26.06   \u001b[0m | \u001b[0m 0.648   \u001b[0m |\n",
      "| \u001b[0m 6       \u001b[0m | \u001b[0m-9.381e+0\u001b[0m | \u001b[0m 0.6361  \u001b[0m | \u001b[0m 0.2416  \u001b[0m | \u001b[0m 0.03049 \u001b[0m | \u001b[0m 4.944   \u001b[0m | \u001b[0m 0.753   \u001b[0m | \u001b[0m 3.773e+0\u001b[0m | \u001b[0m 0.2494  \u001b[0m | \u001b[0m 0.4679  \u001b[0m | \u001b[0m 20.94   \u001b[0m | \u001b[0m 0.4871  \u001b[0m |\n",
      "| \u001b[0m 7       \u001b[0m | \u001b[0m-9.946e+0\u001b[0m | \u001b[0m 0.3157  \u001b[0m | \u001b[0m 0.3531  \u001b[0m | \u001b[0m 0.02517 \u001b[0m | \u001b[0m 5.219   \u001b[0m | \u001b[0m 0.6966  \u001b[0m | \u001b[0m 7.508e+0\u001b[0m | \u001b[0m 0.2164  \u001b[0m | \u001b[0m 0.251   \u001b[0m | \u001b[0m 42.7    \u001b[0m | \u001b[0m 0.5928  \u001b[0m |\n",
      "| \u001b[0m 8       \u001b[0m | \u001b[0m-9.836e+0\u001b[0m | \u001b[0m 0.4816  \u001b[0m | \u001b[0m 0.01561 \u001b[0m | \u001b[0m 0.03635 \u001b[0m | \u001b[0m 3.846   \u001b[0m | \u001b[0m 1.142   \u001b[0m | \u001b[0m 6.698e+0\u001b[0m | \u001b[0m 0.4953  \u001b[0m | \u001b[0m 0.3653  \u001b[0m | \u001b[0m 33.4    \u001b[0m | \u001b[0m 0.6559  \u001b[0m |\n",
      "| \u001b[0m 9       \u001b[0m | \u001b[0m-9.072e+0\u001b[0m | \u001b[0m 0.8496  \u001b[0m | \u001b[0m 0.2669  \u001b[0m | \u001b[0m 0.03869 \u001b[0m | \u001b[0m 4.953   \u001b[0m | \u001b[0m 0.7457  \u001b[0m | \u001b[0m 3.102e+0\u001b[0m | \u001b[0m 0.5761  \u001b[0m | \u001b[0m 0.3297  \u001b[0m | \u001b[0m 27.14   \u001b[0m | \u001b[0m 0.7944  \u001b[0m |\n",
      "| \u001b[95m 10      \u001b[0m | \u001b[95m-8.483e+0\u001b[0m | \u001b[95m 0.7188  \u001b[0m | \u001b[95m 0.9841  \u001b[0m | \u001b[95m 0.04328 \u001b[0m | \u001b[95m 6.08    \u001b[0m | \u001b[95m 1.272   \u001b[0m | \u001b[95m 6.597e+0\u001b[0m | \u001b[95m 0.4653  \u001b[0m | \u001b[95m 0.4694  \u001b[0m | \u001b[95m 43.46   \u001b[0m | \u001b[95m 0.7862  \u001b[0m |\n",
      "| \u001b[0m 11      \u001b[0m | \u001b[0m-9.133e+0\u001b[0m | \u001b[0m 0.8987  \u001b[0m | \u001b[0m 0.2891  \u001b[0m | \u001b[0m 0.06358 \u001b[0m | \u001b[0m 3.936   \u001b[0m | \u001b[0m 1.198   \u001b[0m | \u001b[0m 1.647e+0\u001b[0m | \u001b[0m 0.4934  \u001b[0m | \u001b[0m 0.3132  \u001b[0m | \u001b[0m 37.81   \u001b[0m | \u001b[0m 0.4231  \u001b[0m |\n",
      "| \u001b[0m 12      \u001b[0m | \u001b[0m-8.81e+05\u001b[0m | \u001b[0m 0.6911  \u001b[0m | \u001b[0m 0.1523  \u001b[0m | \u001b[0m 0.05983 \u001b[0m | \u001b[0m 4.646   \u001b[0m | \u001b[0m 1.435   \u001b[0m | \u001b[0m 8.625e+0\u001b[0m | \u001b[0m 0.2419  \u001b[0m | \u001b[0m 0.5784  \u001b[0m | \u001b[0m 13.95   \u001b[0m | \u001b[0m 0.3776  \u001b[0m |\n",
      "| \u001b[0m 13      \u001b[0m | \u001b[0m-1.104e+0\u001b[0m | \u001b[0m 0.8781  \u001b[0m | \u001b[0m 0.5636  \u001b[0m | \u001b[0m 0.01529 \u001b[0m | \u001b[0m 5.142   \u001b[0m | \u001b[0m 0.7874  \u001b[0m | \u001b[0m 7.245e+0\u001b[0m | \u001b[0m 0.2288  \u001b[0m | \u001b[0m 0.5956  \u001b[0m | \u001b[0m 46.53   \u001b[0m | \u001b[0m 0.4295  \u001b[0m |\n",
      "| \u001b[0m 14      \u001b[0m | \u001b[0m-8.655e+0\u001b[0m | \u001b[0m 0.4702  \u001b[0m | \u001b[0m 0.3359  \u001b[0m | \u001b[0m 0.0513  \u001b[0m | \u001b[0m 5.774   \u001b[0m | \u001b[0m 0.9114  \u001b[0m | \u001b[0m 9.573e+0\u001b[0m | \u001b[0m 0.5973  \u001b[0m | \u001b[0m 0.7306  \u001b[0m | \u001b[0m 34.54   \u001b[0m | \u001b[0m 0.602   \u001b[0m |\n",
      "| \u001b[95m 15      \u001b[0m | \u001b[95m-8.44e+05\u001b[0m | \u001b[95m 0.7927  \u001b[0m | \u001b[95m 0.8749  \u001b[0m | \u001b[95m 0.06718 \u001b[0m | \u001b[95m 6.295   \u001b[0m | \u001b[95m 0.435   \u001b[0m | \u001b[95m 7.699e+0\u001b[0m | \u001b[95m 0.6568  \u001b[0m | \u001b[95m 0.4588  \u001b[0m | \u001b[95m 27.04   \u001b[0m | \u001b[95m 0.3112  \u001b[0m |\n",
      "| \u001b[0m 16      \u001b[0m | \u001b[0m-8.449e+0\u001b[0m | \u001b[0m 0.5607  \u001b[0m | \u001b[0m 0.5006  \u001b[0m | \u001b[0m 0.05262 \u001b[0m | \u001b[0m 6.709   \u001b[0m | \u001b[0m 0.9322  \u001b[0m | \u001b[0m 4.785e+0\u001b[0m | \u001b[0m 0.5551  \u001b[0m | \u001b[0m 0.7621  \u001b[0m | \u001b[0m 48.64   \u001b[0m | \u001b[0m 0.5006  \u001b[0m |\n",
      "| \u001b[0m 17      \u001b[0m | \u001b[0m-9.055e+0\u001b[0m | \u001b[0m 0.4159  \u001b[0m | \u001b[0m 0.4132  \u001b[0m | \u001b[0m 0.05264 \u001b[0m | \u001b[0m 4.518   \u001b[0m | \u001b[0m 0.4967  \u001b[0m | \u001b[0m 7.044e+0\u001b[0m | \u001b[0m 0.2738  \u001b[0m | \u001b[0m 0.379   \u001b[0m | \u001b[0m 33.36   \u001b[0m | \u001b[0m 0.6086  \u001b[0m |\n",
      "| \u001b[0m 18      \u001b[0m | \u001b[0m-9.19e+05\u001b[0m | \u001b[0m 0.8527  \u001b[0m | \u001b[0m 0.9606  \u001b[0m | \u001b[0m 0.03448 \u001b[0m | \u001b[0m 4.376   \u001b[0m | \u001b[0m 1.177   \u001b[0m | \u001b[0m 2.915e+0\u001b[0m | \u001b[0m 0.659   \u001b[0m | \u001b[0m 0.5075  \u001b[0m | \u001b[0m 30.83   \u001b[0m | \u001b[0m 0.301   \u001b[0m |\n",
      "| \u001b[0m 19      \u001b[0m | \u001b[0m-9.07e+05\u001b[0m | \u001b[0m 0.3198  \u001b[0m | \u001b[0m 0.6594  \u001b[0m | \u001b[0m 0.04098 \u001b[0m | \u001b[0m 5.012   \u001b[0m | \u001b[0m 1.174   \u001b[0m | \u001b[0m 4.55e+03\u001b[0m | \u001b[0m 0.3992  \u001b[0m | \u001b[0m 0.6056  \u001b[0m | \u001b[0m 28.14   \u001b[0m | \u001b[0m 0.4444  \u001b[0m |\n",
      "| \u001b[0m 20      \u001b[0m | \u001b[0m-9.049e+0\u001b[0m | \u001b[0m 0.5784  \u001b[0m | \u001b[0m 0.08201 \u001b[0m | \u001b[0m 0.03063 \u001b[0m | \u001b[0m 5.976   \u001b[0m | \u001b[0m 0.7971  \u001b[0m | \u001b[0m 3.818e+0\u001b[0m | \u001b[0m 0.4313  \u001b[0m | \u001b[0m 0.7661  \u001b[0m | \u001b[0m 23.52   \u001b[0m | \u001b[0m 0.767   \u001b[0m |\n",
      "| \u001b[0m 21      \u001b[0m | \u001b[0m-9.854e+0\u001b[0m | \u001b[0m 0.7084  \u001b[0m | \u001b[0m 0.4504  \u001b[0m | \u001b[0m 0.0206  \u001b[0m | \u001b[0m 5.88    \u001b[0m | \u001b[0m 0.5273  \u001b[0m | \u001b[0m 4.722e+0\u001b[0m | \u001b[0m 0.6293  \u001b[0m | \u001b[0m 0.695   \u001b[0m | \u001b[0m 23.51   \u001b[0m | \u001b[0m 0.7826  \u001b[0m |\n",
      "| \u001b[0m 22      \u001b[0m | \u001b[0m-1.01e+06\u001b[0m | \u001b[0m 0.3561  \u001b[0m | \u001b[0m 0.6587  \u001b[0m | \u001b[0m 0.02582 \u001b[0m | \u001b[0m 4.504   \u001b[0m | \u001b[0m 0.8222  \u001b[0m | \u001b[0m 9.635e+0\u001b[0m | \u001b[0m 0.4488  \u001b[0m | \u001b[0m 0.2392  \u001b[0m | \u001b[0m 44.97   \u001b[0m | \u001b[0m 0.5595  \u001b[0m |\n",
      "| \u001b[0m 23      \u001b[0m | \u001b[0m-8.771e+0\u001b[0m | \u001b[0m 0.8726  \u001b[0m | \u001b[0m 0.1234  \u001b[0m | \u001b[0m 0.03791 \u001b[0m | \u001b[0m 5.642   \u001b[0m | \u001b[0m 1.102   \u001b[0m | \u001b[0m 1.886e+0\u001b[0m | \u001b[0m 0.3583  \u001b[0m | \u001b[0m 0.2883  \u001b[0m | \u001b[0m 22.68   \u001b[0m | \u001b[0m 0.72    \u001b[0m |\n",
      "| \u001b[0m 24      \u001b[0m | \u001b[0m-8.539e+0\u001b[0m | \u001b[0m 0.3948  \u001b[0m | \u001b[0m 0.8305  \u001b[0m | \u001b[0m 0.06425 \u001b[0m | \u001b[0m 6.841   \u001b[0m | \u001b[0m 1.418   \u001b[0m | \u001b[0m 3.963e+0\u001b[0m | \u001b[0m 0.403   \u001b[0m | \u001b[0m 0.422   \u001b[0m | \u001b[0m 10.53   \u001b[0m | \u001b[0m 0.3513  \u001b[0m |\n",
      "| \u001b[0m 25      \u001b[0m | \u001b[0m-9.159e+0\u001b[0m | \u001b[0m 0.5086  \u001b[0m | \u001b[0m 0.8757  \u001b[0m | \u001b[0m 0.04004 \u001b[0m | \u001b[0m 4.757   \u001b[0m | \u001b[0m 0.7473  \u001b[0m | \u001b[0m 2.169e+0\u001b[0m | \u001b[0m 0.5451  \u001b[0m | \u001b[0m 0.7008  \u001b[0m | \u001b[0m 32.22   \u001b[0m | \u001b[0m 0.3963  \u001b[0m |\n",
      "| \u001b[0m 26      \u001b[0m | \u001b[0m-1.118e+0\u001b[0m | \u001b[0m 0.3322  \u001b[0m | \u001b[0m 0.2999  \u001b[0m | \u001b[0m 0.01911 \u001b[0m | \u001b[0m 4.439   \u001b[0m | \u001b[0m 0.7323  \u001b[0m | \u001b[0m 9.998e+0\u001b[0m | \u001b[0m 0.2932  \u001b[0m | \u001b[0m 0.5155  \u001b[0m | \u001b[0m 11.52   \u001b[0m | \u001b[0m 0.7685  \u001b[0m |\n",
      "| \u001b[0m 27      \u001b[0m | \u001b[0m-1.154e+0\u001b[0m | \u001b[0m 0.563   \u001b[0m | \u001b[0m 0.6627  \u001b[0m | \u001b[0m 0.01818 \u001b[0m | \u001b[0m 3.292   \u001b[0m | \u001b[0m 1.49    \u001b[0m | \u001b[0m 3.402e+0\u001b[0m | \u001b[0m 0.5097  \u001b[0m | \u001b[0m 0.7959  \u001b[0m | \u001b[0m 42.57   \u001b[0m | \u001b[0m 0.7704  \u001b[0m |\n",
      "| \u001b[95m 28      \u001b[0m | \u001b[95m-8.401e+0\u001b[0m | \u001b[95m 0.8737  \u001b[0m | \u001b[95m 0.111   \u001b[0m | \u001b[95m 0.0628  \u001b[0m | \u001b[95m 6.643   \u001b[0m | \u001b[95m 1.081   \u001b[0m | \u001b[95m 1.302e+0\u001b[0m | \u001b[95m 0.4901  \u001b[0m | \u001b[95m 0.6955  \u001b[0m | \u001b[95m 25.32   \u001b[0m | \u001b[95m 0.4733  \u001b[0m |\n",
      "| \u001b[0m 29      \u001b[0m | \u001b[0m-8.536e+0\u001b[0m | \u001b[0m 0.7917  \u001b[0m | \u001b[0m 0.4605  \u001b[0m | \u001b[0m 0.06619 \u001b[0m | \u001b[0m 5.741   \u001b[0m | \u001b[0m 0.6233  \u001b[0m | \u001b[0m 7.321e+0\u001b[0m | \u001b[0m 0.3822  \u001b[0m | \u001b[0m 0.7008  \u001b[0m | \u001b[0m 13.64   \u001b[0m | \u001b[0m 0.3603  \u001b[0m |\n",
      "| \u001b[0m 30      \u001b[0m | \u001b[0m-8.728e+0\u001b[0m | \u001b[0m 0.3033  \u001b[0m | \u001b[0m 0.5416  \u001b[0m | \u001b[0m 0.06542 \u001b[0m | \u001b[0m 6.123   \u001b[0m | \u001b[0m 1.106   \u001b[0m | \u001b[0m 3.971e+0\u001b[0m | \u001b[0m 0.2949  \u001b[0m | \u001b[0m 0.5077  \u001b[0m | \u001b[0m 38.16   \u001b[0m | \u001b[0m 0.3065  \u001b[0m |\n",
      "| \u001b[0m 31      \u001b[0m | \u001b[0m-9.339e+0\u001b[0m | \u001b[0m 0.3398  \u001b[0m | \u001b[0m 0.3429  \u001b[0m | \u001b[0m 0.04336 \u001b[0m | \u001b[0m 4.176   \u001b[0m | \u001b[0m 0.5883  \u001b[0m | \u001b[0m 5.182e+0\u001b[0m | \u001b[0m 0.3022  \u001b[0m | \u001b[0m 0.4102  \u001b[0m | \u001b[0m 43.0    \u001b[0m | \u001b[0m 0.5636  \u001b[0m |\n",
      "| \u001b[0m 32      \u001b[0m | \u001b[0m-9.806e+0\u001b[0m | \u001b[0m 0.3734  \u001b[0m | \u001b[0m 0.4745  \u001b[0m | \u001b[0m 0.0248  \u001b[0m | \u001b[0m 5.061   \u001b[0m | \u001b[0m 0.6018  \u001b[0m | \u001b[0m 3.792e+0\u001b[0m | \u001b[0m 0.4193  \u001b[0m | \u001b[0m 0.6515  \u001b[0m | \u001b[0m 44.57   \u001b[0m | \u001b[0m 0.5749  \u001b[0m |\n",
      "| \u001b[0m 33      \u001b[0m | \u001b[0m-8.832e+0\u001b[0m | \u001b[0m 0.5688  \u001b[0m | \u001b[0m 0.3963  \u001b[0m | \u001b[0m 0.03691 \u001b[0m | \u001b[0m 5.285   \u001b[0m | \u001b[0m 0.8505  \u001b[0m | \u001b[0m 3.508e+0\u001b[0m | \u001b[0m 0.4105  \u001b[0m | \u001b[0m 0.2524  \u001b[0m | \u001b[0m 34.26   \u001b[0m | \u001b[0m 0.7671  \u001b[0m |\n"
     ]
    },
    {
     "name": "stdout",
     "output_type": "stream",
     "text": [
      "| \u001b[0m 34      \u001b[0m | \u001b[0m-1.213e+0\u001b[0m | \u001b[0m 0.8422  \u001b[0m | \u001b[0m 0.9059  \u001b[0m | \u001b[0m 0.01544 \u001b[0m | \u001b[0m 3.324   \u001b[0m | \u001b[0m 0.7214  \u001b[0m | \u001b[0m 1.753e+0\u001b[0m | \u001b[0m 0.376   \u001b[0m | \u001b[0m 0.2301  \u001b[0m | \u001b[0m 22.93   \u001b[0m | \u001b[0m 0.7682  \u001b[0m |\n",
      "| \u001b[95m 35      \u001b[0m | \u001b[95m-8.363e+0\u001b[0m | \u001b[95m 0.8621  \u001b[0m | \u001b[95m 0.000184\u001b[0m | \u001b[95m 0.06903 \u001b[0m | \u001b[95m 6.415   \u001b[0m | \u001b[95m 0.9722  \u001b[0m | \u001b[95m 8.96e+03\u001b[0m | \u001b[95m 0.7493  \u001b[0m | \u001b[95m 0.4027  \u001b[0m | \u001b[95m 43.32   \u001b[0m | \u001b[95m 0.5498  \u001b[0m |\n",
      "=================================================================================================================================================\n",
      "|   iter    |  target   | colsam... |   gamma   | learni... | max_depth | min_ch... | n_esti... | reg_alpha | reg_la... |   seed    | subsample |\n",
      "-------------------------------------------------------------------------------------------------------------------------------------------------\n",
      "| \u001b[0m 1       \u001b[0m | \u001b[0m-1.514e+0\u001b[0m | \u001b[0m 0.3258  \u001b[0m | \u001b[0m 0.301   \u001b[0m | \u001b[0m 0.01031 \u001b[0m | \u001b[0m 3.174   \u001b[0m | \u001b[0m 0.9539  \u001b[0m | \u001b[0m 5.301e+0\u001b[0m | \u001b[0m 0.4046  \u001b[0m | \u001b[0m 0.4079  \u001b[0m | \u001b[0m 15.26   \u001b[0m | \u001b[0m 0.3511  \u001b[0m |\n",
      "| \u001b[95m 2       \u001b[0m | \u001b[95m-9.141e+0\u001b[0m | \u001b[95m 0.4652  \u001b[0m | \u001b[95m 0.619   \u001b[0m | \u001b[95m 0.05894 \u001b[0m | \u001b[95m 3.917   \u001b[0m | \u001b[95m 1.062   \u001b[0m | \u001b[95m 9.616e+0\u001b[0m | \u001b[95m 0.7203  \u001b[0m | \u001b[95m 0.5882  \u001b[0m | \u001b[95m 40.17   \u001b[0m | \u001b[95m 0.4186  \u001b[0m |\n",
      "| \u001b[95m 3       \u001b[0m | \u001b[95m-8.391e+0\u001b[0m | \u001b[95m 0.7253  \u001b[0m | \u001b[95m 0.7629  \u001b[0m | \u001b[95m 0.05355 \u001b[0m | \u001b[95m 5.725   \u001b[0m | \u001b[95m 1.152   \u001b[0m | \u001b[95m 1.813e+0\u001b[0m | \u001b[95m 0.6543  \u001b[0m | \u001b[95m 0.7341  \u001b[0m | \u001b[95m 29.5    \u001b[0m | \u001b[95m 0.6878  \u001b[0m |\n",
      "| \u001b[0m 4       \u001b[0m | \u001b[0m-1.155e+0\u001b[0m | \u001b[0m 0.3914  \u001b[0m | \u001b[0m 0.5009  \u001b[0m | \u001b[0m 0.01857 \u001b[0m | \u001b[0m 3.958   \u001b[0m | \u001b[0m 1.191   \u001b[0m | \u001b[0m 6.306e+0\u001b[0m | \u001b[0m 0.6223  \u001b[0m | \u001b[0m 0.6729  \u001b[0m | \u001b[0m 40.61   \u001b[0m | \u001b[0m 0.5682  \u001b[0m |\n",
      "| \u001b[0m 5       \u001b[0m | \u001b[0m-8.655e+0\u001b[0m | \u001b[0m 0.4626  \u001b[0m | \u001b[0m 0.354   \u001b[0m | \u001b[0m 0.03206 \u001b[0m | \u001b[0m 6.365   \u001b[0m | \u001b[0m 0.9862  \u001b[0m | \u001b[0m 5.841e+0\u001b[0m | \u001b[0m 0.5073  \u001b[0m | \u001b[0m 0.3925  \u001b[0m | \u001b[0m 10.99   \u001b[0m | \u001b[0m 0.4314  \u001b[0m |\n",
      "| \u001b[95m 6       \u001b[0m | \u001b[95m-8.323e+0\u001b[0m | \u001b[95m 0.825   \u001b[0m | \u001b[95m 0.3609  \u001b[0m | \u001b[95m 0.06844 \u001b[0m | \u001b[95m 5.667   \u001b[0m | \u001b[95m 1.488   \u001b[0m | \u001b[95m 4.168e+0\u001b[0m | \u001b[95m 0.4304  \u001b[0m | \u001b[95m 0.6148  \u001b[0m | \u001b[95m 16.84   \u001b[0m | \u001b[95m 0.6254  \u001b[0m |\n",
      "| \u001b[0m 7       \u001b[0m | \u001b[0m-8.836e+0\u001b[0m | \u001b[0m 0.6497  \u001b[0m | \u001b[0m 0.0985  \u001b[0m | \u001b[0m 0.02613 \u001b[0m | \u001b[0m 6.216   \u001b[0m | \u001b[0m 0.7939  \u001b[0m | \u001b[0m 4.813e+0\u001b[0m | \u001b[0m 0.288   \u001b[0m | \u001b[0m 0.618   \u001b[0m | \u001b[0m 33.81   \u001b[0m | \u001b[0m 0.5857  \u001b[0m |\n",
      "| \u001b[0m 8       \u001b[0m | \u001b[0m-9.614e+0\u001b[0m | \u001b[0m 0.6373  \u001b[0m | \u001b[0m 0.01544 \u001b[0m | \u001b[0m 0.03526 \u001b[0m | \u001b[0m 3.409   \u001b[0m | \u001b[0m 1.373   \u001b[0m | \u001b[0m 8.164e+0\u001b[0m | \u001b[0m 0.4371  \u001b[0m | \u001b[0m 0.7713  \u001b[0m | \u001b[0m 37.47   \u001b[0m | \u001b[0m 0.4791  \u001b[0m |\n",
      "| \u001b[0m 9       \u001b[0m | \u001b[0m-8.648e+0\u001b[0m | \u001b[0m 0.392   \u001b[0m | \u001b[0m 0.2221  \u001b[0m | \u001b[0m 0.03566 \u001b[0m | \u001b[0m 6.03    \u001b[0m | \u001b[0m 0.8483  \u001b[0m | \u001b[0m 8.721e+0\u001b[0m | \u001b[0m 0.7209  \u001b[0m | \u001b[0m 0.2272  \u001b[0m | \u001b[0m 17.24   \u001b[0m | \u001b[0m 0.4766  \u001b[0m |\n",
      "| \u001b[0m 10      \u001b[0m | \u001b[0m-9.691e+0\u001b[0m | \u001b[0m 0.3381  \u001b[0m | \u001b[0m 0.7299  \u001b[0m | \u001b[0m 0.02827 \u001b[0m | \u001b[0m 4.407   \u001b[0m | \u001b[0m 1.205   \u001b[0m | \u001b[0m 6.521e+0\u001b[0m | \u001b[0m 0.4712  \u001b[0m | \u001b[0m 0.7196  \u001b[0m | \u001b[0m 37.51   \u001b[0m | \u001b[0m 0.7103  \u001b[0m |\n",
      "| \u001b[0m 11      \u001b[0m | \u001b[0m-9.909e+0\u001b[0m | \u001b[0m 0.365   \u001b[0m | \u001b[0m 0.2868  \u001b[0m | \u001b[0m 0.02161 \u001b[0m | \u001b[0m 6.94    \u001b[0m | \u001b[0m 1.041   \u001b[0m | \u001b[0m 1.315e+0\u001b[0m | \u001b[0m 0.5614  \u001b[0m | \u001b[0m 0.3392  \u001b[0m | \u001b[0m 38.87   \u001b[0m | \u001b[0m 0.7313  \u001b[0m |\n",
      "| \u001b[0m 12      \u001b[0m | \u001b[0m-1.389e+0\u001b[0m | \u001b[0m 0.5262  \u001b[0m | \u001b[0m 0.3388  \u001b[0m | \u001b[0m 0.01176 \u001b[0m | \u001b[0m 3.485   \u001b[0m | \u001b[0m 0.8991  \u001b[0m | \u001b[0m 2.699e+0\u001b[0m | \u001b[0m 0.2946  \u001b[0m | \u001b[0m 0.7425  \u001b[0m | \u001b[0m 36.49   \u001b[0m | \u001b[0m 0.7344  \u001b[0m |\n",
      "| \u001b[0m 13      \u001b[0m | \u001b[0m-1.111e+0\u001b[0m | \u001b[0m 0.4766  \u001b[0m | \u001b[0m 0.5127  \u001b[0m | \u001b[0m 0.01733 \u001b[0m | \u001b[0m 4.998   \u001b[0m | \u001b[0m 0.4013  \u001b[0m | \u001b[0m 1.2e+03 \u001b[0m | \u001b[0m 0.6152  \u001b[0m | \u001b[0m 0.2286  \u001b[0m | \u001b[0m 39.45   \u001b[0m | \u001b[0m 0.5324  \u001b[0m |\n",
      "| \u001b[0m 14      \u001b[0m | \u001b[0m-1.03e+06\u001b[0m | \u001b[0m 0.435   \u001b[0m | \u001b[0m 0.3487  \u001b[0m | \u001b[0m 0.01935 \u001b[0m | \u001b[0m 5.796   \u001b[0m | \u001b[0m 1.16    \u001b[0m | \u001b[0m 1.918e+0\u001b[0m | \u001b[0m 0.7499  \u001b[0m | \u001b[0m 0.3991  \u001b[0m | \u001b[0m 33.86   \u001b[0m | \u001b[0m 0.3625  \u001b[0m |\n",
      "| \u001b[0m 15      \u001b[0m | \u001b[0m-9.019e+0\u001b[0m | \u001b[0m 0.5819  \u001b[0m | \u001b[0m 0.6768  \u001b[0m | \u001b[0m 0.03528 \u001b[0m | \u001b[0m 4.729   \u001b[0m | \u001b[0m 0.7762  \u001b[0m | \u001b[0m 8.088e+0\u001b[0m | \u001b[0m 0.4087  \u001b[0m | \u001b[0m 0.5946  \u001b[0m | \u001b[0m 18.78   \u001b[0m | \u001b[0m 0.6536  \u001b[0m |\n",
      "| \u001b[0m 16      \u001b[0m | \u001b[0m-8.58e+05\u001b[0m | \u001b[0m 0.6806  \u001b[0m | \u001b[0m 0.8113  \u001b[0m | \u001b[0m 0.06909 \u001b[0m | \u001b[0m 4.152   \u001b[0m | \u001b[0m 0.4213  \u001b[0m | \u001b[0m 8.552e+0\u001b[0m | \u001b[0m 0.3925  \u001b[0m | \u001b[0m 0.441   \u001b[0m | \u001b[0m 34.68   \u001b[0m | \u001b[0m 0.6143  \u001b[0m |\n",
      "| \u001b[0m 17      \u001b[0m | \u001b[0m-8.62e+05\u001b[0m | \u001b[0m 0.8345  \u001b[0m | \u001b[0m 0.3315  \u001b[0m | \u001b[0m 0.03715 \u001b[0m | \u001b[0m 5.262   \u001b[0m | \u001b[0m 0.7112  \u001b[0m | \u001b[0m 8.882e+0\u001b[0m | \u001b[0m 0.2864  \u001b[0m | \u001b[0m 0.7731  \u001b[0m | \u001b[0m 45.43   \u001b[0m | \u001b[0m 0.5541  \u001b[0m |\n",
      "| \u001b[0m 18      \u001b[0m | \u001b[0m-9.328e+0\u001b[0m | \u001b[0m 0.8346  \u001b[0m | \u001b[0m 0.9779  \u001b[0m | \u001b[0m 0.04301 \u001b[0m | \u001b[0m 3.777   \u001b[0m | \u001b[0m 1.172   \u001b[0m | \u001b[0m 3.24e+03\u001b[0m | \u001b[0m 0.6932  \u001b[0m | \u001b[0m 0.7169  \u001b[0m | \u001b[0m 23.11   \u001b[0m | \u001b[0m 0.3488  \u001b[0m |\n",
      "| \u001b[95m 19      \u001b[0m | \u001b[95m-8.194e+0\u001b[0m | \u001b[95m 0.6989  \u001b[0m | \u001b[95m 0.7874  \u001b[0m | \u001b[95m 0.0549  \u001b[0m | \u001b[95m 6.816   \u001b[0m | \u001b[95m 0.7656  \u001b[0m | \u001b[95m 7.822e+0\u001b[0m | \u001b[95m 0.3399  \u001b[0m | \u001b[95m 0.2874  \u001b[0m | \u001b[95m 12.97   \u001b[0m | \u001b[95m 0.6155  \u001b[0m |\n",
      "| \u001b[0m 20      \u001b[0m | \u001b[0m-8.401e+0\u001b[0m | \u001b[0m 0.8473  \u001b[0m | \u001b[0m 0.1798  \u001b[0m | \u001b[0m 0.03671 \u001b[0m | \u001b[0m 6.794   \u001b[0m | \u001b[0m 0.4452  \u001b[0m | \u001b[0m 7.646e+0\u001b[0m | \u001b[0m 0.2482  \u001b[0m | \u001b[0m 0.6737  \u001b[0m | \u001b[0m 29.39   \u001b[0m | \u001b[0m 0.6085  \u001b[0m |\n",
      "| \u001b[0m 21      \u001b[0m | \u001b[0m-9.146e+0\u001b[0m | \u001b[0m 0.594   \u001b[0m | \u001b[0m 0.4701  \u001b[0m | \u001b[0m 0.05559 \u001b[0m | \u001b[0m 3.439   \u001b[0m | \u001b[0m 1.12    \u001b[0m | \u001b[0m 6.482e+0\u001b[0m | \u001b[0m 0.6341  \u001b[0m | \u001b[0m 0.6414  \u001b[0m | \u001b[0m 43.46   \u001b[0m | \u001b[0m 0.5098  \u001b[0m |\n",
      "| \u001b[0m 22      \u001b[0m | \u001b[0m-1.001e+0\u001b[0m | \u001b[0m 0.4233  \u001b[0m | \u001b[0m 0.1281  \u001b[0m | \u001b[0m 0.01947 \u001b[0m | \u001b[0m 6.521   \u001b[0m | \u001b[0m 0.9445  \u001b[0m | \u001b[0m 1.719e+0\u001b[0m | \u001b[0m 0.5764  \u001b[0m | \u001b[0m 0.2017  \u001b[0m | \u001b[0m 46.02   \u001b[0m | \u001b[0m 0.4814  \u001b[0m |\n",
      "| \u001b[0m 23      \u001b[0m | \u001b[0m-1.026e+0\u001b[0m | \u001b[0m 0.7562  \u001b[0m | \u001b[0m 0.03219 \u001b[0m | \u001b[0m 0.02014 \u001b[0m | \u001b[0m 4.638   \u001b[0m | \u001b[0m 0.556   \u001b[0m | \u001b[0m 4.292e+0\u001b[0m | \u001b[0m 0.5249  \u001b[0m | \u001b[0m 0.575   \u001b[0m | \u001b[0m 20.74   \u001b[0m | \u001b[0m 0.4504  \u001b[0m |\n",
      "| \u001b[0m 24      \u001b[0m | \u001b[0m-8.533e+0\u001b[0m | \u001b[0m 0.6793  \u001b[0m | \u001b[0m 0.8306  \u001b[0m | \u001b[0m 0.04158 \u001b[0m | \u001b[0m 5.71    \u001b[0m | \u001b[0m 1.223   \u001b[0m | \u001b[0m 3.34e+03\u001b[0m | \u001b[0m 0.3039  \u001b[0m | \u001b[0m 0.4941  \u001b[0m | \u001b[0m 26.68   \u001b[0m | \u001b[0m 0.357   \u001b[0m |\n",
      "| \u001b[0m 25      \u001b[0m | \u001b[0m-9.156e+0\u001b[0m | \u001b[0m 0.6327  \u001b[0m | \u001b[0m 0.5987  \u001b[0m | \u001b[0m 0.05262 \u001b[0m | \u001b[0m 3.572   \u001b[0m | \u001b[0m 1.13    \u001b[0m | \u001b[0m 1.397e+0\u001b[0m | \u001b[0m 0.6094  \u001b[0m | \u001b[0m 0.4632  \u001b[0m | \u001b[0m 11.07   \u001b[0m | \u001b[0m 0.7872  \u001b[0m |\n",
      "| \u001b[0m 26      \u001b[0m | \u001b[0m-9.383e+0\u001b[0m | \u001b[0m 0.612   \u001b[0m | \u001b[0m 0.7178  \u001b[0m | \u001b[0m 0.02136 \u001b[0m | \u001b[0m 6.806   \u001b[0m | \u001b[0m 0.7505  \u001b[0m | \u001b[0m 9.646e+0\u001b[0m | \u001b[0m 0.2279  \u001b[0m | \u001b[0m 0.5365  \u001b[0m | \u001b[0m 21.14   \u001b[0m | \u001b[0m 0.7537  \u001b[0m |\n",
      "| \u001b[0m 27      \u001b[0m | \u001b[0m-9.266e+0\u001b[0m | \u001b[0m 0.6716  \u001b[0m | \u001b[0m 0.8629  \u001b[0m | \u001b[0m 0.04498 \u001b[0m | \u001b[0m 3.879   \u001b[0m | \u001b[0m 1.034   \u001b[0m | \u001b[0m 3.386e+0\u001b[0m | \u001b[0m 0.3579  \u001b[0m | \u001b[0m 0.5102  \u001b[0m | \u001b[0m 45.78   \u001b[0m | \u001b[0m 0.5091  \u001b[0m |\n",
      "| \u001b[0m 28      \u001b[0m | \u001b[0m-9.405e+0\u001b[0m | \u001b[0m 0.6985  \u001b[0m | \u001b[0m 0.9606  \u001b[0m | \u001b[0m 0.04012 \u001b[0m | \u001b[0m 3.243   \u001b[0m | \u001b[0m 1.211   \u001b[0m | \u001b[0m 7.314e+0\u001b[0m | \u001b[0m 0.603   \u001b[0m | \u001b[0m 0.6027  \u001b[0m | \u001b[0m 22.88   \u001b[0m | \u001b[0m 0.6137  \u001b[0m |\n",
      "| \u001b[0m 29      \u001b[0m | \u001b[0m-1.008e+0\u001b[0m | \u001b[0m 0.4325  \u001b[0m | \u001b[0m 0.4865  \u001b[0m | \u001b[0m 0.02273 \u001b[0m | \u001b[0m 4.03    \u001b[0m | \u001b[0m 0.4642  \u001b[0m | \u001b[0m 8.368e+0\u001b[0m | \u001b[0m 0.5137  \u001b[0m | \u001b[0m 0.3683  \u001b[0m | \u001b[0m 25.47   \u001b[0m | \u001b[0m 0.3119  \u001b[0m |\n",
      "| \u001b[0m 30      \u001b[0m | \u001b[0m-8.495e+0\u001b[0m | \u001b[0m 0.4523  \u001b[0m | \u001b[0m 0.3136  \u001b[0m | \u001b[0m 0.05509 \u001b[0m | \u001b[0m 5.258   \u001b[0m | \u001b[0m 1.479   \u001b[0m | \u001b[0m 8.481e+0\u001b[0m | \u001b[0m 0.6544  \u001b[0m | \u001b[0m 0.5926  \u001b[0m | \u001b[0m 31.16   \u001b[0m | \u001b[0m 0.4034  \u001b[0m |\n"
     ]
    },
    {
     "name": "stdout",
     "output_type": "stream",
     "text": [
      "| \u001b[0m 31      \u001b[0m | \u001b[0m-9.256e+0\u001b[0m | \u001b[0m 0.6106  \u001b[0m | \u001b[0m 0.5236  \u001b[0m | \u001b[0m 0.04801 \u001b[0m | \u001b[0m 3.783   \u001b[0m | \u001b[0m 0.8867  \u001b[0m | \u001b[0m 2.602e+0\u001b[0m | \u001b[0m 0.5176  \u001b[0m | \u001b[0m 0.3084  \u001b[0m | \u001b[0m 41.58   \u001b[0m | \u001b[0m 0.3714  \u001b[0m |\n",
      "| \u001b[0m 32      \u001b[0m | \u001b[0m-9.258e+0\u001b[0m | \u001b[0m 0.5057  \u001b[0m | \u001b[0m 0.1809  \u001b[0m | \u001b[0m 0.02544 \u001b[0m | \u001b[0m 5.649   \u001b[0m | \u001b[0m 1.413   \u001b[0m | \u001b[0m 9.24e+03\u001b[0m | \u001b[0m 0.3045  \u001b[0m | \u001b[0m 0.3904  \u001b[0m | \u001b[0m 29.32   \u001b[0m | \u001b[0m 0.514   \u001b[0m |\n",
      "| \u001b[0m 33      \u001b[0m | \u001b[0m-9.156e+0\u001b[0m | \u001b[0m 0.3855  \u001b[0m | \u001b[0m 0.2763  \u001b[0m | \u001b[0m 0.06438 \u001b[0m | \u001b[0m 3.674   \u001b[0m | \u001b[0m 0.5347  \u001b[0m | \u001b[0m 6.453e+0\u001b[0m | \u001b[0m 0.3101  \u001b[0m | \u001b[0m 0.5107  \u001b[0m | \u001b[0m 35.45   \u001b[0m | \u001b[0m 0.6567  \u001b[0m |\n",
      "| \u001b[0m 34      \u001b[0m | \u001b[0m-9.797e+0\u001b[0m | \u001b[0m 0.3609  \u001b[0m | \u001b[0m 0.981   \u001b[0m | \u001b[0m 0.03504 \u001b[0m | \u001b[0m 3.806   \u001b[0m | \u001b[0m 1.223   \u001b[0m | \u001b[0m 4.365e+0\u001b[0m | \u001b[0m 0.5839  \u001b[0m | \u001b[0m 0.2792  \u001b[0m | \u001b[0m 40.22   \u001b[0m | \u001b[0m 0.5477  \u001b[0m |\n",
      "| \u001b[0m 35      \u001b[0m | \u001b[0m-9.03e+05\u001b[0m | \u001b[0m 0.6866  \u001b[0m | \u001b[0m 0.9159  \u001b[0m | \u001b[0m 0.06307 \u001b[0m | \u001b[0m 3.933   \u001b[0m | \u001b[0m 0.8697  \u001b[0m | \u001b[0m 3.118e+0\u001b[0m | \u001b[0m 0.3321  \u001b[0m | \u001b[0m 0.6944  \u001b[0m | \u001b[0m 15.6    \u001b[0m | \u001b[0m 0.3444  \u001b[0m |\n",
      "=================================================================================================================================================\n",
      "|   iter    |  target   | colsam... |   gamma   | learni... | max_depth | min_ch... | n_esti... | reg_alpha | reg_la... |   seed    | subsample |\n",
      "-------------------------------------------------------------------------------------------------------------------------------------------------\n",
      "| \u001b[0m 1       \u001b[0m | \u001b[0m-9.57e+05\u001b[0m | \u001b[0m 0.4421  \u001b[0m | \u001b[0m 0.1073  \u001b[0m | \u001b[0m 0.05105 \u001b[0m | \u001b[0m 5.311   \u001b[0m | \u001b[0m 1.215   \u001b[0m | \u001b[0m 5.804e+0\u001b[0m | \u001b[0m 0.6479  \u001b[0m | \u001b[0m 0.7499  \u001b[0m | \u001b[0m 31.51   \u001b[0m | \u001b[0m 0.4128  \u001b[0m |\n",
      "| \u001b[0m 2       \u001b[0m | \u001b[0m-1.029e+0\u001b[0m | \u001b[0m 0.5348  \u001b[0m | \u001b[0m 0.02515 \u001b[0m | \u001b[0m 0.02395 \u001b[0m | \u001b[0m 6.691   \u001b[0m | \u001b[0m 0.8334  \u001b[0m | \u001b[0m 2.677e+0\u001b[0m | \u001b[0m 0.577   \u001b[0m | \u001b[0m 0.4661  \u001b[0m | \u001b[0m 17.82   \u001b[0m | \u001b[0m 0.3216  \u001b[0m |\n",
      "| \u001b[0m 3       \u001b[0m | \u001b[0m-9.618e+0\u001b[0m | \u001b[0m 0.6167  \u001b[0m | \u001b[0m 0.3096  \u001b[0m | \u001b[0m 0.04293 \u001b[0m | \u001b[0m 5.815   \u001b[0m | \u001b[0m 0.7943  \u001b[0m | \u001b[0m 9.206e+0\u001b[0m | \u001b[0m 0.585   \u001b[0m | \u001b[0m 0.2147  \u001b[0m | \u001b[0m 17.21   \u001b[0m | \u001b[0m 0.4825  \u001b[0m |\n",
      "| \u001b[0m 4       \u001b[0m | \u001b[0m-1.033e+0\u001b[0m | \u001b[0m 0.8422  \u001b[0m | \u001b[0m 0.9374  \u001b[0m | \u001b[0m 0.04927 \u001b[0m | \u001b[0m 3.678   \u001b[0m | \u001b[0m 1.264   \u001b[0m | \u001b[0m 6.005e+0\u001b[0m | \u001b[0m 0.7006  \u001b[0m | \u001b[0m 0.2714  \u001b[0m | \u001b[0m 35.84   \u001b[0m | \u001b[0m 0.6482  \u001b[0m |\n",
      "| \u001b[0m 5       \u001b[0m | \u001b[0m-9.608e+0\u001b[0m | \u001b[0m 0.3065  \u001b[0m | \u001b[0m 0.495   \u001b[0m | \u001b[0m 0.06403 \u001b[0m | \u001b[0m 5.898   \u001b[0m | \u001b[0m 0.8701  \u001b[0m | \u001b[0m 7.929e+0\u001b[0m | \u001b[0m 0.5486  \u001b[0m | \u001b[0m 0.2331  \u001b[0m | \u001b[0m 35.18   \u001b[0m | \u001b[0m 0.694   \u001b[0m |\n",
      "| \u001b[95m 6       \u001b[0m | \u001b[95m-9.198e+0\u001b[0m | \u001b[95m 0.5666  \u001b[0m | \u001b[95m 0.7723  \u001b[0m | \u001b[95m 0.05979 \u001b[0m | \u001b[95m 6.052   \u001b[0m | \u001b[95m 1.196   \u001b[0m | \u001b[95m 9.44e+03\u001b[0m | \u001b[95m 0.6357  \u001b[0m | \u001b[95m 0.6846  \u001b[0m | \u001b[95m 18.6    \u001b[0m | \u001b[95m 0.681   \u001b[0m |\n",
      "| \u001b[0m 7       \u001b[0m | \u001b[0m-9.726e+0\u001b[0m | \u001b[0m 0.7261  \u001b[0m | \u001b[0m 0.3489  \u001b[0m | \u001b[0m 0.02868 \u001b[0m | \u001b[0m 6.716   \u001b[0m | \u001b[0m 1.447   \u001b[0m | \u001b[0m 6.752e+0\u001b[0m | \u001b[0m 0.6335  \u001b[0m | \u001b[0m 0.3226  \u001b[0m | \u001b[0m 25.25   \u001b[0m | \u001b[0m 0.6318  \u001b[0m |\n",
      "| \u001b[0m 8       \u001b[0m | \u001b[0m-1.144e+0\u001b[0m | \u001b[0m 0.4326  \u001b[0m | \u001b[0m 0.06679 \u001b[0m | \u001b[0m 0.01995 \u001b[0m | \u001b[0m 5.393   \u001b[0m | \u001b[0m 0.8175  \u001b[0m | \u001b[0m 4.769e+0\u001b[0m | \u001b[0m 0.461   \u001b[0m | \u001b[0m 0.7386  \u001b[0m | \u001b[0m 15.82   \u001b[0m | \u001b[0m 0.7986  \u001b[0m |\n",
      "| \u001b[95m 9       \u001b[0m | \u001b[95m-9.138e+0\u001b[0m | \u001b[95m 0.8467  \u001b[0m | \u001b[95m 0.6387  \u001b[0m | \u001b[95m 0.06051 \u001b[0m | \u001b[95m 6.282   \u001b[0m | \u001b[95m 0.8457  \u001b[0m | \u001b[95m 3.933e+0\u001b[0m | \u001b[95m 0.5864  \u001b[0m | \u001b[95m 0.5668  \u001b[0m | \u001b[95m 21.48   \u001b[0m | \u001b[95m 0.745   \u001b[0m |\n",
      "| \u001b[0m 10      \u001b[0m | \u001b[0m-1.334e+0\u001b[0m | \u001b[0m 0.3581  \u001b[0m | \u001b[0m 0.3081  \u001b[0m | \u001b[0m 0.01561 \u001b[0m | \u001b[0m 4.349   \u001b[0m | \u001b[0m 0.4431  \u001b[0m | \u001b[0m 3.419e+0\u001b[0m | \u001b[0m 0.3365  \u001b[0m | \u001b[0m 0.7415  \u001b[0m | \u001b[0m 34.78   \u001b[0m | \u001b[0m 0.696   \u001b[0m |\n",
      "| \u001b[0m 11      \u001b[0m | \u001b[0m-9.322e+0\u001b[0m | \u001b[0m 0.8781  \u001b[0m | \u001b[0m 0.9694  \u001b[0m | \u001b[0m 0.06873 \u001b[0m | \u001b[0m 5.227   \u001b[0m | \u001b[0m 1.459   \u001b[0m | \u001b[0m 3.668e+0\u001b[0m | \u001b[0m 0.3808  \u001b[0m | \u001b[0m 0.5532  \u001b[0m | \u001b[0m 21.37   \u001b[0m | \u001b[0m 0.768   \u001b[0m |\n",
      "| \u001b[0m 12      \u001b[0m | \u001b[0m-9.829e+0\u001b[0m | \u001b[0m 0.3599  \u001b[0m | \u001b[0m 0.399   \u001b[0m | \u001b[0m 0.0686  \u001b[0m | \u001b[0m 4.438   \u001b[0m | \u001b[0m 0.6613  \u001b[0m | \u001b[0m 5.682e+0\u001b[0m | \u001b[0m 0.4781  \u001b[0m | \u001b[0m 0.4907  \u001b[0m | \u001b[0m 30.52   \u001b[0m | \u001b[0m 0.6322  \u001b[0m |\n",
      "| \u001b[0m 13      \u001b[0m | \u001b[0m-9.586e+0\u001b[0m | \u001b[0m 0.3899  \u001b[0m | \u001b[0m 0.9177  \u001b[0m | \u001b[0m 0.04223 \u001b[0m | \u001b[0m 6.718   \u001b[0m | \u001b[0m 0.6888  \u001b[0m | \u001b[0m 6.612e+0\u001b[0m | \u001b[0m 0.5507  \u001b[0m | \u001b[0m 0.6595  \u001b[0m | \u001b[0m 14.72   \u001b[0m | \u001b[0m 0.3347  \u001b[0m |\n",
      "| \u001b[0m 14      \u001b[0m | \u001b[0m-1.033e+0\u001b[0m | \u001b[0m 0.5206  \u001b[0m | \u001b[0m 0.7646  \u001b[0m | \u001b[0m 0.0528  \u001b[0m | \u001b[0m 3.017   \u001b[0m | \u001b[0m 0.9533  \u001b[0m | \u001b[0m 8.884e+0\u001b[0m | \u001b[0m 0.7061  \u001b[0m | \u001b[0m 0.6013  \u001b[0m | \u001b[0m 36.8    \u001b[0m | \u001b[0m 0.4205  \u001b[0m |\n",
      "| \u001b[0m 15      \u001b[0m | \u001b[0m-1.552e+0\u001b[0m | \u001b[0m 0.4813  \u001b[0m | \u001b[0m 0.5485  \u001b[0m | \u001b[0m 0.01161 \u001b[0m | \u001b[0m 3.223   \u001b[0m | \u001b[0m 1.365   \u001b[0m | \u001b[0m 3.384e+0\u001b[0m | \u001b[0m 0.478   \u001b[0m | \u001b[0m 0.6589  \u001b[0m | \u001b[0m 19.09   \u001b[0m | \u001b[0m 0.6805  \u001b[0m |\n",
      "| \u001b[0m 16      \u001b[0m | \u001b[0m-9.703e+0\u001b[0m | \u001b[0m 0.419   \u001b[0m | \u001b[0m 0.08917 \u001b[0m | \u001b[0m 0.04558 \u001b[0m | \u001b[0m 5.01    \u001b[0m | \u001b[0m 0.6039  \u001b[0m | \u001b[0m 6.211e+0\u001b[0m | \u001b[0m 0.4708  \u001b[0m | \u001b[0m 0.3795  \u001b[0m | \u001b[0m 34.91   \u001b[0m | \u001b[0m 0.4322  \u001b[0m |\n",
      "| \u001b[0m 17      \u001b[0m | \u001b[0m-1.076e+0\u001b[0m | \u001b[0m 0.5562  \u001b[0m | \u001b[0m 0.4525  \u001b[0m | \u001b[0m 0.02235 \u001b[0m | \u001b[0m 5.432   \u001b[0m | \u001b[0m 0.5007  \u001b[0m | \u001b[0m 5.362e+0\u001b[0m | \u001b[0m 0.2492  \u001b[0m | \u001b[0m 0.5269  \u001b[0m | \u001b[0m 17.32   \u001b[0m | \u001b[0m 0.6542  \u001b[0m |\n",
      "| \u001b[0m 18      \u001b[0m | \u001b[0m-9.471e+0\u001b[0m | \u001b[0m 0.5896  \u001b[0m | \u001b[0m 0.9424  \u001b[0m | \u001b[0m 0.05415 \u001b[0m | \u001b[0m 5.102   \u001b[0m | \u001b[0m 0.8041  \u001b[0m | \u001b[0m 6.11e+03\u001b[0m | \u001b[0m 0.5949  \u001b[0m | \u001b[0m 0.478   \u001b[0m | \u001b[0m 33.36   \u001b[0m | \u001b[0m 0.4566  \u001b[0m |\n",
      "| \u001b[0m 19      \u001b[0m | \u001b[0m-9.966e+0\u001b[0m | \u001b[0m 0.3325  \u001b[0m | \u001b[0m 0.8923  \u001b[0m | \u001b[0m 0.05581 \u001b[0m | \u001b[0m 4.204   \u001b[0m | \u001b[0m 1.146   \u001b[0m | \u001b[0m 3.439e+0\u001b[0m | \u001b[0m 0.5592  \u001b[0m | \u001b[0m 0.7104  \u001b[0m | \u001b[0m 20.57   \u001b[0m | \u001b[0m 0.7351  \u001b[0m |\n",
      "| \u001b[0m 20      \u001b[0m | \u001b[0m-1.124e+0\u001b[0m | \u001b[0m 0.3628  \u001b[0m | \u001b[0m 0.6147  \u001b[0m | \u001b[0m 0.03095 \u001b[0m | \u001b[0m 3.745   \u001b[0m | \u001b[0m 0.6756  \u001b[0m | \u001b[0m 8.717e+0\u001b[0m | \u001b[0m 0.4269  \u001b[0m | \u001b[0m 0.3683  \u001b[0m | \u001b[0m 44.04   \u001b[0m | \u001b[0m 0.5043  \u001b[0m |\n",
      "| \u001b[0m 21      \u001b[0m | \u001b[0m-1.224e+0\u001b[0m | \u001b[0m 0.7153  \u001b[0m | \u001b[0m 0.5572  \u001b[0m | \u001b[0m 0.01556 \u001b[0m | \u001b[0m 5.883   \u001b[0m | \u001b[0m 1.15    \u001b[0m | \u001b[0m 5.721e+0\u001b[0m | \u001b[0m 0.353   \u001b[0m | \u001b[0m 0.2352  \u001b[0m | \u001b[0m 37.4    \u001b[0m | \u001b[0m 0.7211  \u001b[0m |\n",
      "| \u001b[0m 22      \u001b[0m | \u001b[0m-9.426e+0\u001b[0m | \u001b[0m 0.8589  \u001b[0m | \u001b[0m 0.6347  \u001b[0m | \u001b[0m 0.05675 \u001b[0m | \u001b[0m 5.387   \u001b[0m | \u001b[0m 0.8805  \u001b[0m | \u001b[0m 9.102e+0\u001b[0m | \u001b[0m 0.2583  \u001b[0m | \u001b[0m 0.7287  \u001b[0m | \u001b[0m 23.5    \u001b[0m | \u001b[0m 0.5619  \u001b[0m |\n",
      "| \u001b[0m 23      \u001b[0m | \u001b[0m-1.013e+0\u001b[0m | \u001b[0m 0.8152  \u001b[0m | \u001b[0m 0.8866  \u001b[0m | \u001b[0m 0.06712 \u001b[0m | \u001b[0m 3.485   \u001b[0m | \u001b[0m 0.4433  \u001b[0m | \u001b[0m 9.232e+0\u001b[0m | \u001b[0m 0.3395  \u001b[0m | \u001b[0m 0.4363  \u001b[0m | \u001b[0m 44.95   \u001b[0m | \u001b[0m 0.694   \u001b[0m |\n",
      "| \u001b[0m 24      \u001b[0m | \u001b[0m-1.071e+0\u001b[0m | \u001b[0m 0.8179  \u001b[0m | \u001b[0m 0.91    \u001b[0m | \u001b[0m 0.03638 \u001b[0m | \u001b[0m 3.289   \u001b[0m | \u001b[0m 1.443   \u001b[0m | \u001b[0m 7.368e+0\u001b[0m | \u001b[0m 0.3853  \u001b[0m | \u001b[0m 0.3466  \u001b[0m | \u001b[0m 19.87   \u001b[0m | \u001b[0m 0.7541  \u001b[0m |\n",
      "| \u001b[0m 25      \u001b[0m | \u001b[0m-9.525e+0\u001b[0m | \u001b[0m 0.3481  \u001b[0m | \u001b[0m 0.9162  \u001b[0m | \u001b[0m 0.04719 \u001b[0m | \u001b[0m 6.806   \u001b[0m | \u001b[0m 1.381   \u001b[0m | \u001b[0m 3.67e+03\u001b[0m | \u001b[0m 0.2834  \u001b[0m | \u001b[0m 0.6856  \u001b[0m | \u001b[0m 37.18   \u001b[0m | \u001b[0m 0.8     \u001b[0m |\n",
      "| \u001b[0m 26      \u001b[0m | \u001b[0m-9.755e+0\u001b[0m | \u001b[0m 0.8266  \u001b[0m | \u001b[0m 0.6173  \u001b[0m | \u001b[0m 0.05463 \u001b[0m | \u001b[0m 4.698   \u001b[0m | \u001b[0m 0.4137  \u001b[0m | \u001b[0m 6.33e+03\u001b[0m | \u001b[0m 0.7483  \u001b[0m | \u001b[0m 0.2987  \u001b[0m | \u001b[0m 35.38   \u001b[0m | \u001b[0m 0.6014  \u001b[0m |\n",
      "| \u001b[0m 27      \u001b[0m | \u001b[0m-1.32e+06\u001b[0m | \u001b[0m 0.6809  \u001b[0m | \u001b[0m 0.6416  \u001b[0m | \u001b[0m 0.0145  \u001b[0m | \u001b[0m 4.323   \u001b[0m | \u001b[0m 1.362   \u001b[0m | \u001b[0m 9.655e+0\u001b[0m | \u001b[0m 0.5253  \u001b[0m | \u001b[0m 0.411   \u001b[0m | \u001b[0m 16.83   \u001b[0m | \u001b[0m 0.4741  \u001b[0m |\n"
     ]
    },
    {
     "name": "stdout",
     "output_type": "stream",
     "text": [
      "| \u001b[0m 28      \u001b[0m | \u001b[0m-1.476e+0\u001b[0m | \u001b[0m 0.626   \u001b[0m | \u001b[0m 0.7546  \u001b[0m | \u001b[0m 0.01156 \u001b[0m | \u001b[0m 4.392   \u001b[0m | \u001b[0m 1.224   \u001b[0m | \u001b[0m 6.687e+0\u001b[0m | \u001b[0m 0.5905  \u001b[0m | \u001b[0m 0.723   \u001b[0m | \u001b[0m 47.15   \u001b[0m | \u001b[0m 0.794   \u001b[0m |\n",
      "| \u001b[0m 29      \u001b[0m | \u001b[0m-9.142e+0\u001b[0m | \u001b[0m 0.6628  \u001b[0m | \u001b[0m 0.002656\u001b[0m | \u001b[0m 0.06633 \u001b[0m | \u001b[0m 6.68    \u001b[0m | \u001b[0m 1.338   \u001b[0m | \u001b[0m 5.166e+0\u001b[0m | \u001b[0m 0.5872  \u001b[0m | \u001b[0m 0.474   \u001b[0m | \u001b[0m 19.6    \u001b[0m | \u001b[0m 0.5989  \u001b[0m |\n",
      "| \u001b[0m 30      \u001b[0m | \u001b[0m-1.037e+0\u001b[0m | \u001b[0m 0.4712  \u001b[0m | \u001b[0m 0.2619  \u001b[0m | \u001b[0m 0.05231 \u001b[0m | \u001b[0m 3.508   \u001b[0m | \u001b[0m 0.9434  \u001b[0m | \u001b[0m 7.083e+0\u001b[0m | \u001b[0m 0.3728  \u001b[0m | \u001b[0m 0.4555  \u001b[0m | \u001b[0m 26.63   \u001b[0m | \u001b[0m 0.6674  \u001b[0m |\n",
      "| \u001b[0m 31      \u001b[0m | \u001b[0m-1.036e+0\u001b[0m | \u001b[0m 0.661   \u001b[0m | \u001b[0m 0.5199  \u001b[0m | \u001b[0m 0.04926 \u001b[0m | \u001b[0m 3.038   \u001b[0m | \u001b[0m 0.7764  \u001b[0m | \u001b[0m 1.824e+0\u001b[0m | \u001b[0m 0.4262  \u001b[0m | \u001b[0m 0.5909  \u001b[0m | \u001b[0m 44.36   \u001b[0m | \u001b[0m 0.7205  \u001b[0m |\n",
      "| \u001b[0m 32      \u001b[0m | \u001b[0m-1.019e+0\u001b[0m | \u001b[0m 0.5049  \u001b[0m | \u001b[0m 0.115   \u001b[0m | \u001b[0m 0.06283 \u001b[0m | \u001b[0m 3.352   \u001b[0m | \u001b[0m 0.9651  \u001b[0m | \u001b[0m 9.449e+0\u001b[0m | \u001b[0m 0.4317  \u001b[0m | \u001b[0m 0.2304  \u001b[0m | \u001b[0m 41.04   \u001b[0m | \u001b[0m 0.4966  \u001b[0m |\n",
      "| \u001b[0m 33      \u001b[0m | \u001b[0m-9.43e+05\u001b[0m | \u001b[0m 0.7439  \u001b[0m | \u001b[0m 0.4285  \u001b[0m | \u001b[0m 0.0374  \u001b[0m | \u001b[0m 6.007   \u001b[0m | \u001b[0m 0.5914  \u001b[0m | \u001b[0m 1.108e+0\u001b[0m | \u001b[0m 0.3453  \u001b[0m | \u001b[0m 0.3414  \u001b[0m | \u001b[0m 24.28   \u001b[0m | \u001b[0m 0.3982  \u001b[0m |\n",
      "| \u001b[0m 34      \u001b[0m | \u001b[0m-1.017e+0\u001b[0m | \u001b[0m 0.513   \u001b[0m | \u001b[0m 0.00957 \u001b[0m | \u001b[0m 0.06883 \u001b[0m | \u001b[0m 3.179   \u001b[0m | \u001b[0m 0.8616  \u001b[0m | \u001b[0m 7.046e+0\u001b[0m | \u001b[0m 0.6424  \u001b[0m | \u001b[0m 0.2549  \u001b[0m | \u001b[0m 15.17   \u001b[0m | \u001b[0m 0.3687  \u001b[0m |\n",
      "| \u001b[0m 35      \u001b[0m | \u001b[0m-9.22e+05\u001b[0m | \u001b[0m 0.5126  \u001b[0m | \u001b[0m 0.6925  \u001b[0m | \u001b[0m 0.05388 \u001b[0m | \u001b[0m 6.351   \u001b[0m | \u001b[0m 1.332   \u001b[0m | \u001b[0m 7.356e+0\u001b[0m | \u001b[0m 0.621   \u001b[0m | \u001b[0m 0.4991  \u001b[0m | \u001b[0m 26.78   \u001b[0m | \u001b[0m 0.7778  \u001b[0m |\n",
      "=================================================================================================================================================\n",
      "|   iter    |  target   | colsam... |   gamma   | learni... | max_depth | min_ch... | n_esti... | reg_alpha | reg_la... |   seed    | subsample |\n",
      "-------------------------------------------------------------------------------------------------------------------------------------------------\n",
      "| \u001b[0m 1       \u001b[0m | \u001b[0m-1.713e+0\u001b[0m | \u001b[0m 0.8023  \u001b[0m | \u001b[0m 0.3018  \u001b[0m | \u001b[0m 0.01017 \u001b[0m | \u001b[0m 4.724   \u001b[0m | \u001b[0m 0.6449  \u001b[0m | \u001b[0m 5.939e+0\u001b[0m | \u001b[0m 0.4734  \u001b[0m | \u001b[0m 0.6991  \u001b[0m | \u001b[0m 46.77   \u001b[0m | \u001b[0m 0.7851  \u001b[0m |\n",
      "| \u001b[95m 2       \u001b[0m | \u001b[95m-1.28e+06\u001b[0m | \u001b[95m 0.5776  \u001b[0m | \u001b[95m 0.4773  \u001b[0m | \u001b[95m 0.016   \u001b[0m | \u001b[95m 6.756   \u001b[0m | \u001b[95m 1.476   \u001b[0m | \u001b[95m 7.613e+0\u001b[0m | \u001b[95m 0.2228  \u001b[0m | \u001b[95m 0.3722  \u001b[0m | \u001b[95m 24.8    \u001b[0m | \u001b[95m 0.6077  \u001b[0m |\n",
      "| \u001b[95m 3       \u001b[0m | \u001b[95m-1.23e+06\u001b[0m | \u001b[95m 0.6947  \u001b[0m | \u001b[95m 0.4726  \u001b[0m | \u001b[95m 0.01827 \u001b[0m | \u001b[95m 5.933   \u001b[0m | \u001b[95m 1.235   \u001b[0m | \u001b[95m 4.983e+0\u001b[0m | \u001b[95m 0.2781  \u001b[0m | \u001b[95m 0.3198  \u001b[0m | \u001b[95m 13.06   \u001b[0m | \u001b[95m 0.5657  \u001b[0m |\n",
      "| \u001b[95m 4       \u001b[0m | \u001b[95m-1.079e+0\u001b[0m | \u001b[95m 0.5382  \u001b[0m | \u001b[95m 0.9083  \u001b[0m | \u001b[95m 0.06234 \u001b[0m | \u001b[95m 3.409   \u001b[0m | \u001b[95m 1.223   \u001b[0m | \u001b[95m 3.326e+0\u001b[0m | \u001b[95m 0.2673  \u001b[0m | \u001b[95m 0.2619  \u001b[0m | \u001b[95m 23.99   \u001b[0m | \u001b[95m 0.6547  \u001b[0m |\n",
      "| \u001b[0m 5       \u001b[0m | \u001b[0m-1.345e+0\u001b[0m | \u001b[0m 0.3609  \u001b[0m | \u001b[0m 0.9146  \u001b[0m | \u001b[0m 0.0183  \u001b[0m | \u001b[0m 4.331   \u001b[0m | \u001b[0m 1.349   \u001b[0m | \u001b[0m 9.548e+0\u001b[0m | \u001b[0m 0.4833  \u001b[0m | \u001b[0m 0.5787  \u001b[0m | \u001b[0m 44.75   \u001b[0m | \u001b[0m 0.758   \u001b[0m |\n",
      "| \u001b[95m 6       \u001b[0m | \u001b[95m-9.654e+0\u001b[0m | \u001b[95m 0.4087  \u001b[0m | \u001b[95m 0.3493  \u001b[0m | \u001b[95m 0.06737 \u001b[0m | \u001b[95m 6.155   \u001b[0m | \u001b[95m 1.274   \u001b[0m | \u001b[95m 3.188e+0\u001b[0m | \u001b[95m 0.6638  \u001b[0m | \u001b[95m 0.7296  \u001b[0m | \u001b[95m 18.26   \u001b[0m | \u001b[95m 0.524   \u001b[0m |\n",
      "| \u001b[0m 7       \u001b[0m | \u001b[0m-1.095e+0\u001b[0m | \u001b[0m 0.3544  \u001b[0m | \u001b[0m 0.7128  \u001b[0m | \u001b[0m 0.06152 \u001b[0m | \u001b[0m 3.385   \u001b[0m | \u001b[0m 0.7437  \u001b[0m | \u001b[0m 8.895e+0\u001b[0m | \u001b[0m 0.436   \u001b[0m | \u001b[0m 0.2494  \u001b[0m | \u001b[0m 18.2    \u001b[0m | \u001b[0m 0.567   \u001b[0m |\n",
      "| \u001b[0m 8       \u001b[0m | \u001b[0m-1.327e+0\u001b[0m | \u001b[0m 0.776   \u001b[0m | \u001b[0m 0.7567  \u001b[0m | \u001b[0m 0.02012 \u001b[0m | \u001b[0m 3.247   \u001b[0m | \u001b[0m 1.269   \u001b[0m | \u001b[0m 3.481e+0\u001b[0m | \u001b[0m 0.5707  \u001b[0m | \u001b[0m 0.5343  \u001b[0m | \u001b[0m 33.61   \u001b[0m | \u001b[0m 0.5564  \u001b[0m |\n",
      "| \u001b[0m 9       \u001b[0m | \u001b[0m-1.073e+0\u001b[0m | \u001b[0m 0.4966  \u001b[0m | \u001b[0m 0.3976  \u001b[0m | \u001b[0m 0.02986 \u001b[0m | \u001b[0m 5.452   \u001b[0m | \u001b[0m 0.4986  \u001b[0m | \u001b[0m 3.202e+0\u001b[0m | \u001b[0m 0.5908  \u001b[0m | \u001b[0m 0.6838  \u001b[0m | \u001b[0m 20.51   \u001b[0m | \u001b[0m 0.6333  \u001b[0m |\n",
      "| \u001b[0m 10      \u001b[0m | \u001b[0m-1.199e+0\u001b[0m | \u001b[0m 0.6698  \u001b[0m | \u001b[0m 0.9757  \u001b[0m | \u001b[0m 0.0222  \u001b[0m | \u001b[0m 4.406   \u001b[0m | \u001b[0m 0.9925  \u001b[0m | \u001b[0m 1.286e+0\u001b[0m | \u001b[0m 0.3655  \u001b[0m | \u001b[0m 0.5865  \u001b[0m | \u001b[0m 40.35   \u001b[0m | \u001b[0m 0.4508  \u001b[0m |\n",
      "| \u001b[0m 11      \u001b[0m | \u001b[0m-9.929e+0\u001b[0m | \u001b[0m 0.3955  \u001b[0m | \u001b[0m 0.489   \u001b[0m | \u001b[0m 0.06927 \u001b[0m | \u001b[0m 5.687   \u001b[0m | \u001b[0m 0.4446  \u001b[0m | \u001b[0m 7.342e+0\u001b[0m | \u001b[0m 0.3203  \u001b[0m | \u001b[0m 0.2856  \u001b[0m | \u001b[0m 14.85   \u001b[0m | \u001b[0m 0.6621  \u001b[0m |\n",
      "| \u001b[0m 12      \u001b[0m | \u001b[0m-1.025e+0\u001b[0m | \u001b[0m 0.4701  \u001b[0m | \u001b[0m 0.04161 \u001b[0m | \u001b[0m 0.06039 \u001b[0m | \u001b[0m 4.593   \u001b[0m | \u001b[0m 1.064   \u001b[0m | \u001b[0m 1.845e+0\u001b[0m | \u001b[0m 0.255   \u001b[0m | \u001b[0m 0.4827  \u001b[0m | \u001b[0m 31.73   \u001b[0m | \u001b[0m 0.7419  \u001b[0m |\n",
      "| \u001b[0m 13      \u001b[0m | \u001b[0m-1.087e+0\u001b[0m | \u001b[0m 0.7956  \u001b[0m | \u001b[0m 0.2131  \u001b[0m | \u001b[0m 0.05501 \u001b[0m | \u001b[0m 3.475   \u001b[0m | \u001b[0m 0.8753  \u001b[0m | \u001b[0m 1.241e+0\u001b[0m | \u001b[0m 0.3635  \u001b[0m | \u001b[0m 0.6089  \u001b[0m | \u001b[0m 37.62   \u001b[0m | \u001b[0m 0.367   \u001b[0m |\n",
      "| \u001b[95m 14      \u001b[0m | \u001b[95m-9.613e+0\u001b[0m | \u001b[95m 0.6358  \u001b[0m | \u001b[95m 0.93    \u001b[0m | \u001b[95m 0.06463 \u001b[0m | \u001b[95m 6.218   \u001b[0m | \u001b[95m 0.4054  \u001b[0m | \u001b[95m 2.436e+0\u001b[0m | \u001b[95m 0.3529  \u001b[0m | \u001b[95m 0.7751  \u001b[0m | \u001b[95m 30.47   \u001b[0m | \u001b[95m 0.4742  \u001b[0m |\n",
      "| \u001b[0m 15      \u001b[0m | \u001b[0m-1.024e+0\u001b[0m | \u001b[0m 0.5947  \u001b[0m | \u001b[0m 0.6357  \u001b[0m | \u001b[0m 0.03755 \u001b[0m | \u001b[0m 5.299   \u001b[0m | \u001b[0m 0.4006  \u001b[0m | \u001b[0m 8.44e+03\u001b[0m | \u001b[0m 0.2824  \u001b[0m | \u001b[0m 0.2991  \u001b[0m | \u001b[0m 12.77   \u001b[0m | \u001b[0m 0.7952  \u001b[0m |\n",
      "| \u001b[0m 16      \u001b[0m | \u001b[0m-1.071e+0\u001b[0m | \u001b[0m 0.8375  \u001b[0m | \u001b[0m 0.08258 \u001b[0m | \u001b[0m 0.06663 \u001b[0m | \u001b[0m 3.228   \u001b[0m | \u001b[0m 0.9358  \u001b[0m | \u001b[0m 1.576e+0\u001b[0m | \u001b[0m 0.4921  \u001b[0m | \u001b[0m 0.3782  \u001b[0m | \u001b[0m 14.76   \u001b[0m | \u001b[0m 0.5724  \u001b[0m |\n",
      "| \u001b[0m 17      \u001b[0m | \u001b[0m-1.139e+0\u001b[0m | \u001b[0m 0.8886  \u001b[0m | \u001b[0m 0.2189  \u001b[0m | \u001b[0m 0.02679 \u001b[0m | \u001b[0m 4.398   \u001b[0m | \u001b[0m 0.5821  \u001b[0m | \u001b[0m 4.406e+0\u001b[0m | \u001b[0m 0.3578  \u001b[0m | \u001b[0m 0.6879  \u001b[0m | \u001b[0m 48.57   \u001b[0m | \u001b[0m 0.647   \u001b[0m |\n",
      "| \u001b[0m 18      \u001b[0m | \u001b[0m-1.091e+0\u001b[0m | \u001b[0m 0.8317  \u001b[0m | \u001b[0m 0.9244  \u001b[0m | \u001b[0m 0.05266 \u001b[0m | \u001b[0m 3.959   \u001b[0m | \u001b[0m 0.8281  \u001b[0m | \u001b[0m 6.884e+0\u001b[0m | \u001b[0m 0.2038  \u001b[0m | \u001b[0m 0.4394  \u001b[0m | \u001b[0m 33.84   \u001b[0m | \u001b[0m 0.5093  \u001b[0m |\n",
      "| \u001b[0m 19      \u001b[0m | \u001b[0m-1.176e+0\u001b[0m | \u001b[0m 0.692   \u001b[0m | \u001b[0m 0.6838  \u001b[0m | \u001b[0m 0.03161 \u001b[0m | \u001b[0m 3.233   \u001b[0m | \u001b[0m 1.117   \u001b[0m | \u001b[0m 1.022e+0\u001b[0m | \u001b[0m 0.2247  \u001b[0m | \u001b[0m 0.4771  \u001b[0m | \u001b[0m 44.68   \u001b[0m | \u001b[0m 0.6175  \u001b[0m |\n",
      "| \u001b[0m 20      \u001b[0m | \u001b[0m-1.109e+0\u001b[0m | \u001b[0m 0.6778  \u001b[0m | \u001b[0m 0.5875  \u001b[0m | \u001b[0m 0.0303  \u001b[0m | \u001b[0m 4.703   \u001b[0m | \u001b[0m 1.154   \u001b[0m | \u001b[0m 9.745e+0\u001b[0m | \u001b[0m 0.5592  \u001b[0m | \u001b[0m 0.6926  \u001b[0m | \u001b[0m 37.66   \u001b[0m | \u001b[0m 0.7222  \u001b[0m |\n",
      "| \u001b[0m 21      \u001b[0m | \u001b[0m-1.066e+0\u001b[0m | \u001b[0m 0.3772  \u001b[0m | \u001b[0m 0.6876  \u001b[0m | \u001b[0m 0.0463  \u001b[0m | \u001b[0m 4.723   \u001b[0m | \u001b[0m 1.134   \u001b[0m | \u001b[0m 2.751e+0\u001b[0m | \u001b[0m 0.2439  \u001b[0m | \u001b[0m 0.4684  \u001b[0m | \u001b[0m 48.79   \u001b[0m | \u001b[0m 0.795   \u001b[0m |\n",
      "| \u001b[0m 22      \u001b[0m | \u001b[0m-1.014e+0\u001b[0m | \u001b[0m 0.5454  \u001b[0m | \u001b[0m 0.4438  \u001b[0m | \u001b[0m 0.04285 \u001b[0m | \u001b[0m 5.052   \u001b[0m | \u001b[0m 1.357   \u001b[0m | \u001b[0m 3.152e+0\u001b[0m | \u001b[0m 0.528   \u001b[0m | \u001b[0m 0.7658  \u001b[0m | \u001b[0m 13.81   \u001b[0m | \u001b[0m 0.5167  \u001b[0m |\n",
      "| \u001b[0m 23      \u001b[0m | \u001b[0m-1.087e+0\u001b[0m | \u001b[0m 0.6598  \u001b[0m | \u001b[0m 0.3913  \u001b[0m | \u001b[0m 0.05527 \u001b[0m | \u001b[0m 3.015   \u001b[0m | \u001b[0m 0.7958  \u001b[0m | \u001b[0m 7.284e+0\u001b[0m | \u001b[0m 0.3411  \u001b[0m | \u001b[0m 0.7612  \u001b[0m | \u001b[0m 45.97   \u001b[0m | \u001b[0m 0.6675  \u001b[0m |\n",
      "| \u001b[0m 24      \u001b[0m | \u001b[0m-1.322e+0\u001b[0m | \u001b[0m 0.6625  \u001b[0m | \u001b[0m 0.6109  \u001b[0m | \u001b[0m 0.01487 \u001b[0m | \u001b[0m 6.638   \u001b[0m | \u001b[0m 0.4425  \u001b[0m | \u001b[0m 6.042e+0\u001b[0m | \u001b[0m 0.2674  \u001b[0m | \u001b[0m 0.5696  \u001b[0m | \u001b[0m 28.55   \u001b[0m | \u001b[0m 0.472   \u001b[0m |\n"
     ]
    },
    {
     "name": "stdout",
     "output_type": "stream",
     "text": [
      "| \u001b[0m 25      \u001b[0m | \u001b[0m-9.89e+05\u001b[0m | \u001b[0m 0.6347  \u001b[0m | \u001b[0m 0.8975  \u001b[0m | \u001b[0m 0.03869 \u001b[0m | \u001b[0m 6.462   \u001b[0m | \u001b[0m 0.4468  \u001b[0m | \u001b[0m 3.183e+0\u001b[0m | \u001b[0m 0.5279  \u001b[0m | \u001b[0m 0.6201  \u001b[0m | \u001b[0m 16.96   \u001b[0m | \u001b[0m 0.6738  \u001b[0m |\n",
      "| \u001b[0m 26      \u001b[0m | \u001b[0m-1.423e+0\u001b[0m | \u001b[0m 0.5879  \u001b[0m | \u001b[0m 0.2565  \u001b[0m | \u001b[0m 0.01668 \u001b[0m | \u001b[0m 3.828   \u001b[0m | \u001b[0m 0.7494  \u001b[0m | \u001b[0m 9.168e+0\u001b[0m | \u001b[0m 0.6896  \u001b[0m | \u001b[0m 0.3265  \u001b[0m | \u001b[0m 43.59   \u001b[0m | \u001b[0m 0.6099  \u001b[0m |\n",
      "| \u001b[0m 27      \u001b[0m | \u001b[0m-1.04e+06\u001b[0m | \u001b[0m 0.83    \u001b[0m | \u001b[0m 0.4012  \u001b[0m | \u001b[0m 0.04845 \u001b[0m | \u001b[0m 4.115   \u001b[0m | \u001b[0m 1.432   \u001b[0m | \u001b[0m 3.419e+0\u001b[0m | \u001b[0m 0.7473  \u001b[0m | \u001b[0m 0.7367  \u001b[0m | \u001b[0m 48.04   \u001b[0m | \u001b[0m 0.4922  \u001b[0m |\n",
      "| \u001b[0m 28      \u001b[0m | \u001b[0m-9.984e+0\u001b[0m | \u001b[0m 0.3584  \u001b[0m | \u001b[0m 0.7111  \u001b[0m | \u001b[0m 0.04886 \u001b[0m | \u001b[0m 6.799   \u001b[0m | \u001b[0m 0.5711  \u001b[0m | \u001b[0m 9.91e+03\u001b[0m | \u001b[0m 0.6735  \u001b[0m | \u001b[0m 0.3839  \u001b[0m | \u001b[0m 48.52   \u001b[0m | \u001b[0m 0.4528  \u001b[0m |\n",
      "| \u001b[0m 29      \u001b[0m | \u001b[0m-1.149e+0\u001b[0m | \u001b[0m 0.3218  \u001b[0m | \u001b[0m 0.1915  \u001b[0m | \u001b[0m 0.02683 \u001b[0m | \u001b[0m 5.874   \u001b[0m | \u001b[0m 1.495   \u001b[0m | \u001b[0m 3.549e+0\u001b[0m | \u001b[0m 0.538   \u001b[0m | \u001b[0m 0.7285  \u001b[0m | \u001b[0m 35.43   \u001b[0m | \u001b[0m 0.6004  \u001b[0m |\n",
      "| \u001b[0m 30      \u001b[0m | \u001b[0m-9.87e+05\u001b[0m | \u001b[0m 0.6213  \u001b[0m | \u001b[0m 0.3266  \u001b[0m | \u001b[0m 0.06197 \u001b[0m | \u001b[0m 5.061   \u001b[0m | \u001b[0m 0.5473  \u001b[0m | \u001b[0m 9.218e+0\u001b[0m | \u001b[0m 0.7005  \u001b[0m | \u001b[0m 0.6207  \u001b[0m | \u001b[0m 15.54   \u001b[0m | \u001b[0m 0.4619  \u001b[0m |\n",
      "| \u001b[0m 31      \u001b[0m | \u001b[0m-1.026e+0\u001b[0m | \u001b[0m 0.4338  \u001b[0m | \u001b[0m 0.06392 \u001b[0m | \u001b[0m 0.06569 \u001b[0m | \u001b[0m 4.106   \u001b[0m | \u001b[0m 0.8056  \u001b[0m | \u001b[0m 8.34e+03\u001b[0m | \u001b[0m 0.2473  \u001b[0m | \u001b[0m 0.3109  \u001b[0m | \u001b[0m 18.25   \u001b[0m | \u001b[0m 0.7184  \u001b[0m |\n",
      "| \u001b[0m 32      \u001b[0m | \u001b[0m-1.039e+0\u001b[0m | \u001b[0m 0.5213  \u001b[0m | \u001b[0m 0.9462  \u001b[0m | \u001b[0m 0.03545 \u001b[0m | \u001b[0m 5.641   \u001b[0m | \u001b[0m 0.9773  \u001b[0m | \u001b[0m 2.739e+0\u001b[0m | \u001b[0m 0.6195  \u001b[0m | \u001b[0m 0.6318  \u001b[0m | \u001b[0m 30.41   \u001b[0m | \u001b[0m 0.5117  \u001b[0m |\n",
      "| \u001b[0m 33      \u001b[0m | \u001b[0m-1.142e+0\u001b[0m | \u001b[0m 0.7535  \u001b[0m | \u001b[0m 0.1621  \u001b[0m | \u001b[0m 0.03694 \u001b[0m | \u001b[0m 3.2     \u001b[0m | \u001b[0m 1.458   \u001b[0m | \u001b[0m 5.2e+03 \u001b[0m | \u001b[0m 0.3455  \u001b[0m | \u001b[0m 0.7481  \u001b[0m | \u001b[0m 31.39   \u001b[0m | \u001b[0m 0.5197  \u001b[0m |\n",
      "| \u001b[0m 34      \u001b[0m | \u001b[0m-1.086e+0\u001b[0m | \u001b[0m 0.3516  \u001b[0m | \u001b[0m 0.8182  \u001b[0m | \u001b[0m 0.03169 \u001b[0m | \u001b[0m 5.17    \u001b[0m | \u001b[0m 1.462   \u001b[0m | \u001b[0m 7.57e+03\u001b[0m | \u001b[0m 0.6458  \u001b[0m | \u001b[0m 0.4809  \u001b[0m | \u001b[0m 42.62   \u001b[0m | \u001b[0m 0.488   \u001b[0m |\n",
      "| \u001b[0m 35      \u001b[0m | \u001b[0m-1.23e+06\u001b[0m | \u001b[0m 0.6722  \u001b[0m | \u001b[0m 0.02893 \u001b[0m | \u001b[0m 0.02625 \u001b[0m | \u001b[0m 3.966   \u001b[0m | \u001b[0m 0.435   \u001b[0m | \u001b[0m 5.774e+0\u001b[0m | \u001b[0m 0.6273  \u001b[0m | \u001b[0m 0.2079  \u001b[0m | \u001b[0m 38.2    \u001b[0m | \u001b[0m 0.6796  \u001b[0m |\n",
      "=================================================================================================================================================\n",
      "|   iter    |  target   | colsam... |   gamma   | learni... | max_depth | min_ch... | n_esti... | reg_alpha | reg_la... |   seed    | subsample |\n",
      "-------------------------------------------------------------------------------------------------------------------------------------------------\n",
      "| \u001b[0m 1       \u001b[0m | \u001b[0m-1.29e+06\u001b[0m | \u001b[0m 0.3812  \u001b[0m | \u001b[0m 0.4944  \u001b[0m | \u001b[0m 0.02476 \u001b[0m | \u001b[0m 4.167   \u001b[0m | \u001b[0m 1.468   \u001b[0m | \u001b[0m 6.577e+0\u001b[0m | \u001b[0m 0.204   \u001b[0m | \u001b[0m 0.7455  \u001b[0m | \u001b[0m 17.27   \u001b[0m | \u001b[0m 0.4992  \u001b[0m |\n",
      "| \u001b[95m 2       \u001b[0m | \u001b[95m-1.104e+0\u001b[0m | \u001b[95m 0.818   \u001b[0m | \u001b[95m 0.1078  \u001b[0m | \u001b[95m 0.06397 \u001b[0m | \u001b[95m 4.339   \u001b[0m | \u001b[95m 0.8773  \u001b[0m | \u001b[95m 1.388e+0\u001b[0m | \u001b[95m 0.4435  \u001b[0m | \u001b[95m 0.6748  \u001b[0m | \u001b[95m 23.61   \u001b[0m | \u001b[95m 0.4226  \u001b[0m |\n",
      "| \u001b[0m 3       \u001b[0m | \u001b[0m-1.118e+0\u001b[0m | \u001b[0m 0.8609  \u001b[0m | \u001b[0m 0.8992  \u001b[0m | \u001b[0m 0.03487 \u001b[0m | \u001b[0m 5.908   \u001b[0m | \u001b[0m 1.1     \u001b[0m | \u001b[0m 4.296e+0\u001b[0m | \u001b[0m 0.2173  \u001b[0m | \u001b[0m 0.6123  \u001b[0m | \u001b[0m 26.24   \u001b[0m | \u001b[0m 0.6243  \u001b[0m |\n",
      "| \u001b[95m 4       \u001b[0m | \u001b[95m-1.063e+0\u001b[0m | \u001b[95m 0.6257  \u001b[0m | \u001b[95m 0.000484\u001b[0m | \u001b[95m 0.06567 \u001b[0m | \u001b[95m 5.375   \u001b[0m | \u001b[95m 0.9612  \u001b[0m | \u001b[95m 4.607e+0\u001b[0m | \u001b[95m 0.3844  \u001b[0m | \u001b[95m 0.6983  \u001b[0m | \u001b[95m 17.39   \u001b[0m | \u001b[95m 0.7524  \u001b[0m |\n",
      "| \u001b[0m 5       \u001b[0m | \u001b[0m-1.083e+0\u001b[0m | \u001b[0m 0.535   \u001b[0m | \u001b[0m 0.9543  \u001b[0m | \u001b[0m 0.0501  \u001b[0m | \u001b[0m 5.961   \u001b[0m | \u001b[0m 0.6096  \u001b[0m | \u001b[0m 3.684e+0\u001b[0m | \u001b[0m 0.7101  \u001b[0m | \u001b[0m 0.7078  \u001b[0m | \u001b[0m 45.56   \u001b[0m | \u001b[0m 0.799   \u001b[0m |\n",
      "| \u001b[95m 6       \u001b[0m | \u001b[95m-1.061e+0\u001b[0m | \u001b[95m 0.6623  \u001b[0m | \u001b[95m 0.6283  \u001b[0m | \u001b[95m 0.06715 \u001b[0m | \u001b[95m 5.281   \u001b[0m | \u001b[95m 1.099   \u001b[0m | \u001b[95m 1.267e+0\u001b[0m | \u001b[95m 0.5738  \u001b[0m | \u001b[95m 0.3839  \u001b[0m | \u001b[95m 26.7    \u001b[0m | \u001b[95m 0.4333  \u001b[0m |\n",
      "| \u001b[0m 7       \u001b[0m | \u001b[0m-1.218e+0\u001b[0m | \u001b[0m 0.6818  \u001b[0m | \u001b[0m 0.4232  \u001b[0m | \u001b[0m 0.04148 \u001b[0m | \u001b[0m 3.522   \u001b[0m | \u001b[0m 0.9608  \u001b[0m | \u001b[0m 7.969e+0\u001b[0m | \u001b[0m 0.7273  \u001b[0m | \u001b[0m 0.4553  \u001b[0m | \u001b[0m 49.32   \u001b[0m | \u001b[0m 0.3309  \u001b[0m |\n",
      "| \u001b[0m 8       \u001b[0m | \u001b[0m-1.12e+06\u001b[0m | \u001b[0m 0.7585  \u001b[0m | \u001b[0m 0.1443  \u001b[0m | \u001b[0m 0.03439 \u001b[0m | \u001b[0m 5.996   \u001b[0m | \u001b[0m 0.6355  \u001b[0m | \u001b[0m 9.871e+0\u001b[0m | \u001b[0m 0.7128  \u001b[0m | \u001b[0m 0.2087  \u001b[0m | \u001b[0m 29.61   \u001b[0m | \u001b[0m 0.5888  \u001b[0m |\n",
      "| \u001b[0m 9       \u001b[0m | \u001b[0m-1.101e+0\u001b[0m | \u001b[0m 0.56    \u001b[0m | \u001b[0m 0.04065 \u001b[0m | \u001b[0m 0.06989 \u001b[0m | \u001b[0m 4.37    \u001b[0m | \u001b[0m 0.9152  \u001b[0m | \u001b[0m 1.266e+0\u001b[0m | \u001b[0m 0.5946  \u001b[0m | \u001b[0m 0.6407  \u001b[0m | \u001b[0m 26.91   \u001b[0m | \u001b[0m 0.3959  \u001b[0m |\n",
      "| \u001b[0m 10      \u001b[0m | \u001b[0m-1.319e+0\u001b[0m | \u001b[0m 0.5202  \u001b[0m | \u001b[0m 0.4454  \u001b[0m | \u001b[0m 0.02738 \u001b[0m | \u001b[0m 3.831   \u001b[0m | \u001b[0m 0.9793  \u001b[0m | \u001b[0m 3.872e+0\u001b[0m | \u001b[0m 0.5445  \u001b[0m | \u001b[0m 0.6651  \u001b[0m | \u001b[0m 28.15   \u001b[0m | \u001b[0m 0.6159  \u001b[0m |\n",
      "| \u001b[0m 11      \u001b[0m | \u001b[0m-1.081e+0\u001b[0m | \u001b[0m 0.4992  \u001b[0m | \u001b[0m 0.6475  \u001b[0m | \u001b[0m 0.03749 \u001b[0m | \u001b[0m 6.363   \u001b[0m | \u001b[0m 1.356   \u001b[0m | \u001b[0m 1.39e+03\u001b[0m | \u001b[0m 0.3282  \u001b[0m | \u001b[0m 0.2527  \u001b[0m | \u001b[0m 48.07   \u001b[0m | \u001b[0m 0.7793  \u001b[0m |\n",
      "| \u001b[0m 12      \u001b[0m | \u001b[0m-1.183e+0\u001b[0m | \u001b[0m 0.4162  \u001b[0m | \u001b[0m 0.9583  \u001b[0m | \u001b[0m 0.05807 \u001b[0m | \u001b[0m 3.142   \u001b[0m | \u001b[0m 0.8739  \u001b[0m | \u001b[0m 1.134e+0\u001b[0m | \u001b[0m 0.4446  \u001b[0m | \u001b[0m 0.4619  \u001b[0m | \u001b[0m 26.75   \u001b[0m | \u001b[0m 0.5796  \u001b[0m |\n",
      "| \u001b[0m 13      \u001b[0m | \u001b[0m-1.162e+0\u001b[0m | \u001b[0m 0.8041  \u001b[0m | \u001b[0m 0.09721 \u001b[0m | \u001b[0m 0.0647  \u001b[0m | \u001b[0m 3.629   \u001b[0m | \u001b[0m 1.05    \u001b[0m | \u001b[0m 5.334e+0\u001b[0m | \u001b[0m 0.6153  \u001b[0m | \u001b[0m 0.7423  \u001b[0m | \u001b[0m 23.96   \u001b[0m | \u001b[0m 0.4622  \u001b[0m |\n",
      "| \u001b[0m 14      \u001b[0m | \u001b[0m-1.132e+0\u001b[0m | \u001b[0m 0.8293  \u001b[0m | \u001b[0m 0.5855  \u001b[0m | \u001b[0m 0.04665 \u001b[0m | \u001b[0m 4.294   \u001b[0m | \u001b[0m 0.4212  \u001b[0m | \u001b[0m 4.866e+0\u001b[0m | \u001b[0m 0.6977  \u001b[0m | \u001b[0m 0.7412  \u001b[0m | \u001b[0m 36.19   \u001b[0m | \u001b[0m 0.406   \u001b[0m |\n",
      "| \u001b[0m 15      \u001b[0m | \u001b[0m-1.507e+0\u001b[0m | \u001b[0m 0.4847  \u001b[0m | \u001b[0m 0.0217  \u001b[0m | \u001b[0m 0.01394 \u001b[0m | \u001b[0m 6.652   \u001b[0m | \u001b[0m 0.9344  \u001b[0m | \u001b[0m 5.983e+0\u001b[0m | \u001b[0m 0.2135  \u001b[0m | \u001b[0m 0.7975  \u001b[0m | \u001b[0m 40.96   \u001b[0m | \u001b[0m 0.305   \u001b[0m |\n",
      "| \u001b[0m 16      \u001b[0m | \u001b[0m-1.339e+0\u001b[0m | \u001b[0m 0.5654  \u001b[0m | \u001b[0m 0.6085  \u001b[0m | \u001b[0m 0.02513 \u001b[0m | \u001b[0m 3.054   \u001b[0m | \u001b[0m 0.9724  \u001b[0m | \u001b[0m 2.597e+0\u001b[0m | \u001b[0m 0.4987  \u001b[0m | \u001b[0m 0.4447  \u001b[0m | \u001b[0m 47.36   \u001b[0m | \u001b[0m 0.357   \u001b[0m |\n",
      "| \u001b[0m 17      \u001b[0m | \u001b[0m-1.216e+0\u001b[0m | \u001b[0m 0.5348  \u001b[0m | \u001b[0m 0.3457  \u001b[0m | \u001b[0m 0.0427  \u001b[0m | \u001b[0m 3.582   \u001b[0m | \u001b[0m 1.094   \u001b[0m | \u001b[0m 1.187e+0\u001b[0m | \u001b[0m 0.4816  \u001b[0m | \u001b[0m 0.6228  \u001b[0m | \u001b[0m 44.89   \u001b[0m | \u001b[0m 0.7071  \u001b[0m |\n",
      "| \u001b[0m 18      \u001b[0m | \u001b[0m-1.478e+0\u001b[0m | \u001b[0m 0.6137  \u001b[0m | \u001b[0m 0.1311  \u001b[0m | \u001b[0m 0.01583 \u001b[0m | \u001b[0m 4.079   \u001b[0m | \u001b[0m 1.491   \u001b[0m | \u001b[0m 1.943e+0\u001b[0m | \u001b[0m 0.3645  \u001b[0m | \u001b[0m 0.574   \u001b[0m | \u001b[0m 29.8    \u001b[0m | \u001b[0m 0.4898  \u001b[0m |\n",
      "| \u001b[0m 19      \u001b[0m | \u001b[0m-1.44e+06\u001b[0m | \u001b[0m 0.3017  \u001b[0m | \u001b[0m 0.1699  \u001b[0m | \u001b[0m 0.01983 \u001b[0m | \u001b[0m 4.243   \u001b[0m | \u001b[0m 1.089   \u001b[0m | \u001b[0m 9.969e+0\u001b[0m | \u001b[0m 0.6675  \u001b[0m | \u001b[0m 0.3134  \u001b[0m | \u001b[0m 13.94   \u001b[0m | \u001b[0m 0.4576  \u001b[0m |\n",
      "| \u001b[0m 20      \u001b[0m | \u001b[0m-1.277e+0\u001b[0m | \u001b[0m 0.8114  \u001b[0m | \u001b[0m 0.9017  \u001b[0m | \u001b[0m 0.03107 \u001b[0m | \u001b[0m 3.348   \u001b[0m | \u001b[0m 0.7332  \u001b[0m | \u001b[0m 2.223e+0\u001b[0m | \u001b[0m 0.2249  \u001b[0m | \u001b[0m 0.7155  \u001b[0m | \u001b[0m 45.5    \u001b[0m | \u001b[0m 0.3197  \u001b[0m |\n",
      "| \u001b[0m 21      \u001b[0m | \u001b[0m-1.178e+0\u001b[0m | \u001b[0m 0.3502  \u001b[0m | \u001b[0m 0.4762  \u001b[0m | \u001b[0m 0.0642  \u001b[0m | \u001b[0m 3.025   \u001b[0m | \u001b[0m 0.8496  \u001b[0m | \u001b[0m 4.302e+0\u001b[0m | \u001b[0m 0.6862  \u001b[0m | \u001b[0m 0.7484  \u001b[0m | \u001b[0m 24.68   \u001b[0m | \u001b[0m 0.3273  \u001b[0m |\n"
     ]
    },
    {
     "name": "stdout",
     "output_type": "stream",
     "text": [
      "| \u001b[0m 22      \u001b[0m | \u001b[0m-1.201e+0\u001b[0m | \u001b[0m 0.6057  \u001b[0m | \u001b[0m 0.8759  \u001b[0m | \u001b[0m 0.04654 \u001b[0m | \u001b[0m 3.291   \u001b[0m | \u001b[0m 1.472   \u001b[0m | \u001b[0m 8.458e+0\u001b[0m | \u001b[0m 0.4841  \u001b[0m | \u001b[0m 0.5775  \u001b[0m | \u001b[0m 38.45   \u001b[0m | \u001b[0m 0.5372  \u001b[0m |\n",
      "| \u001b[95m 23      \u001b[0m | \u001b[95m-1.034e+0\u001b[0m | \u001b[95m 0.6537  \u001b[0m | \u001b[95m 0.7161  \u001b[0m | \u001b[95m 0.06311 \u001b[0m | \u001b[95m 6.249   \u001b[0m | \u001b[95m 1.301   \u001b[0m | \u001b[95m 2.836e+0\u001b[0m | \u001b[95m 0.3031  \u001b[0m | \u001b[95m 0.2388  \u001b[0m | \u001b[95m 24.98   \u001b[0m | \u001b[95m 0.4471  \u001b[0m |\n",
      "| \u001b[0m 24      \u001b[0m | \u001b[0m-1.183e+0\u001b[0m | \u001b[0m 0.7785  \u001b[0m | \u001b[0m 0.01139 \u001b[0m | \u001b[0m 0.03286 \u001b[0m | \u001b[0m 4.834   \u001b[0m | \u001b[0m 1.13    \u001b[0m | \u001b[0m 3.069e+0\u001b[0m | \u001b[0m 0.4318  \u001b[0m | \u001b[0m 0.2395  \u001b[0m | \u001b[0m 37.91   \u001b[0m | \u001b[0m 0.7445  \u001b[0m |\n",
      "| \u001b[95m 25      \u001b[0m | \u001b[95m-1.034e+0\u001b[0m | \u001b[95m 0.5858  \u001b[0m | \u001b[95m 0.7602  \u001b[0m | \u001b[95m 0.06276 \u001b[0m | \u001b[95m 6.686   \u001b[0m | \u001b[95m 1.443   \u001b[0m | \u001b[95m 1.257e+0\u001b[0m | \u001b[95m 0.532   \u001b[0m | \u001b[95m 0.7023  \u001b[0m | \u001b[95m 23.04   \u001b[0m | \u001b[95m 0.7581  \u001b[0m |\n",
      "| \u001b[0m 26      \u001b[0m | \u001b[0m-1.176e+0\u001b[0m | \u001b[0m 0.5205  \u001b[0m | \u001b[0m 0.5936  \u001b[0m | \u001b[0m 0.05772 \u001b[0m | \u001b[0m 3.363   \u001b[0m | \u001b[0m 0.6131  \u001b[0m | \u001b[0m 2.148e+0\u001b[0m | \u001b[0m 0.6591  \u001b[0m | \u001b[0m 0.4763  \u001b[0m | \u001b[0m 48.38   \u001b[0m | \u001b[0m 0.4295  \u001b[0m |\n",
      "| \u001b[0m 27      \u001b[0m | \u001b[0m-1.225e+0\u001b[0m | \u001b[0m 0.6038  \u001b[0m | \u001b[0m 0.4153  \u001b[0m | \u001b[0m 0.04053 \u001b[0m | \u001b[0m 3.393   \u001b[0m | \u001b[0m 0.412   \u001b[0m | \u001b[0m 2.625e+0\u001b[0m | \u001b[0m 0.3473  \u001b[0m | \u001b[0m 0.4176  \u001b[0m | \u001b[0m 35.25   \u001b[0m | \u001b[0m 0.5101  \u001b[0m |\n",
      "| \u001b[0m 28      \u001b[0m | \u001b[0m-1.053e+0\u001b[0m | \u001b[0m 0.4189  \u001b[0m | \u001b[0m 0.7089  \u001b[0m | \u001b[0m 0.06161 \u001b[0m | \u001b[0m 6.023   \u001b[0m | \u001b[0m 1.442   \u001b[0m | \u001b[0m 7.155e+0\u001b[0m | \u001b[0m 0.3842  \u001b[0m | \u001b[0m 0.5817  \u001b[0m | \u001b[0m 38.75   \u001b[0m | \u001b[0m 0.3464  \u001b[0m |\n",
      "| \u001b[0m 29      \u001b[0m | \u001b[0m-1.468e+0\u001b[0m | \u001b[0m 0.6519  \u001b[0m | \u001b[0m 0.8107  \u001b[0m | \u001b[0m 0.01613 \u001b[0m | \u001b[0m 4.433   \u001b[0m | \u001b[0m 0.6847  \u001b[0m | \u001b[0m 6.907e+0\u001b[0m | \u001b[0m 0.3298  \u001b[0m | \u001b[0m 0.6605  \u001b[0m | \u001b[0m 21.28   \u001b[0m | \u001b[0m 0.6805  \u001b[0m |\n",
      "| \u001b[0m 30      \u001b[0m | \u001b[0m-1.185e+0\u001b[0m | \u001b[0m 0.8905  \u001b[0m | \u001b[0m 0.8973  \u001b[0m | \u001b[0m 0.05085 \u001b[0m | \u001b[0m 3.378   \u001b[0m | \u001b[0m 0.6049  \u001b[0m | \u001b[0m 2.864e+0\u001b[0m | \u001b[0m 0.5415  \u001b[0m | \u001b[0m 0.7751  \u001b[0m | \u001b[0m 21.18   \u001b[0m | \u001b[0m 0.3204  \u001b[0m |\n",
      "| \u001b[0m 31      \u001b[0m | \u001b[0m-1.249e+0\u001b[0m | \u001b[0m 0.8785  \u001b[0m | \u001b[0m 0.7859  \u001b[0m | \u001b[0m 0.03487 \u001b[0m | \u001b[0m 3.186   \u001b[0m | \u001b[0m 1.276   \u001b[0m | \u001b[0m 3.97e+03\u001b[0m | \u001b[0m 0.2883  \u001b[0m | \u001b[0m 0.2613  \u001b[0m | \u001b[0m 17.06   \u001b[0m | \u001b[0m 0.5317  \u001b[0m |\n",
      "| \u001b[0m 32      \u001b[0m | \u001b[0m-1.079e+0\u001b[0m | \u001b[0m 0.6792  \u001b[0m | \u001b[0m 0.3742  \u001b[0m | \u001b[0m 0.05211 \u001b[0m | \u001b[0m 5.154   \u001b[0m | \u001b[0m 1.108   \u001b[0m | \u001b[0m 4.163e+0\u001b[0m | \u001b[0m 0.2376  \u001b[0m | \u001b[0m 0.2701  \u001b[0m | \u001b[0m 28.65   \u001b[0m | \u001b[0m 0.3535  \u001b[0m |\n",
      "| \u001b[0m 33      \u001b[0m | \u001b[0m-1.129e+0\u001b[0m | \u001b[0m 0.6037  \u001b[0m | \u001b[0m 0.9212  \u001b[0m | \u001b[0m 0.03275 \u001b[0m | \u001b[0m 5.857   \u001b[0m | \u001b[0m 0.7686  \u001b[0m | \u001b[0m 4.171e+0\u001b[0m | \u001b[0m 0.5771  \u001b[0m | \u001b[0m 0.274   \u001b[0m | \u001b[0m 13.24   \u001b[0m | \u001b[0m 0.6583  \u001b[0m |\n",
      "| \u001b[0m 34      \u001b[0m | \u001b[0m-1.109e+0\u001b[0m | \u001b[0m 0.5996  \u001b[0m | \u001b[0m 0.1065  \u001b[0m | \u001b[0m 0.03774 \u001b[0m | \u001b[0m 5.548   \u001b[0m | \u001b[0m 0.4987  \u001b[0m | \u001b[0m 8.282e+0\u001b[0m | \u001b[0m 0.6521  \u001b[0m | \u001b[0m 0.3825  \u001b[0m | \u001b[0m 19.11   \u001b[0m | \u001b[0m 0.5724  \u001b[0m |\n",
      "| \u001b[0m 35      \u001b[0m | \u001b[0m-1.288e+0\u001b[0m | \u001b[0m 0.6221  \u001b[0m | \u001b[0m 0.8465  \u001b[0m | \u001b[0m 0.01967 \u001b[0m | \u001b[0m 5.54    \u001b[0m | \u001b[0m 0.8527  \u001b[0m | \u001b[0m 2.806e+0\u001b[0m | \u001b[0m 0.5102  \u001b[0m | \u001b[0m 0.2897  \u001b[0m | \u001b[0m 31.14   \u001b[0m | \u001b[0m 0.437   \u001b[0m |\n",
      "=================================================================================================================================================\n"
     ]
    }
   ],
   "source": [
    "dtrain = dtrain_2012\n",
    "params_2012 = optimize(dtrain_2012)\n",
    "dtrain = dtrain_2013\n",
    "params_2013 = optimize(dtrain_2013)\n",
    "dtrain = dtrain_2014\n",
    "params_2014 = optimize(dtrain_2014)\n",
    "dtrain = dtrain_2015\n",
    "params_2015 = optimize(dtrain_2015)\n",
    "dtrain = dtrain_2016\n",
    "params_2016 = optimize(dtrain_2016)"
   ]
  },
  {
   "cell_type": "markdown",
   "metadata": {},
   "source": [
    "### Probando"
   ]
  },
  {
   "cell_type": "code",
   "execution_count": 140,
   "metadata": {},
   "outputs": [],
   "source": [
    "def fabrica_XGB(params):\n",
    "    best_xgb_model = XGBRegressor(colsample_bytree=params[\"colsample_bytree\"],\n",
    "                 gamma=params[\"gamma\"],                 \n",
    "                 learning_rate=params[\"learning_rate\"],\n",
    "                 max_depth=params[\"max_depth\"],\n",
    "                 min_child_weight=params[\"min_child_weight\"],\n",
    "                 n_estimators=params[\"n_estimators\"],                                                                    \n",
    "                 reg_alpha=params[\"reg_alpha\"],\n",
    "                 reg_lambda=params[\"reg_lambda\"],\n",
    "                 subsample=params[\"subsample\"],\n",
    "                 seed=params[\"seed\"])\n",
    "    \n",
    "    return best_xgb_model"
   ]
  },
  {
   "cell_type": "code",
   "execution_count": 141,
   "metadata": {},
   "outputs": [],
   "source": [
    "XGB_2012 = fabrica_XGB(params_2012)\n",
    "XGB_2013 = fabrica_XGB(params_2013)\n",
    "XGB_2014 = fabrica_XGB(params_2014)\n",
    "XGB_2015 = fabrica_XGB(params_2015)\n",
    "XGB_2016 = fabrica_XGB(params_2016)"
   ]
  },
  {
   "cell_type": "code",
   "execution_count": 142,
   "metadata": {},
   "outputs": [
    {
     "name": "stderr",
     "output_type": "stream",
     "text": [
      "/usr/local/lib/python3.5/dist-packages/xgboost/core.py:587: FutureWarning: Series.base is deprecated and will be removed in a future version\n",
      "  if getattr(data, 'base', None) is not None and \\\n",
      "/usr/local/lib/python3.5/dist-packages/xgboost/core.py:588: FutureWarning: Series.base is deprecated and will be removed in a future version\n",
      "  data.base is not None and isinstance(data, np.ndarray) \\\n"
     ]
    },
    {
     "name": "stdout",
     "output_type": "stream",
     "text": [
      "[09:16:25] WARNING: /workspace/src/objective/regression_obj.cu:152: reg:linear is now deprecated in favor of reg:squarederror.\n",
      "MAE XGB: 43567.16273209127\n"
     ]
    }
   ],
   "source": [
    "XGB_2012.fit(x_2012,y_2012)\n",
    "XGB_pred_val = XGB_2012.predict(x_2012_val)\n",
    "XGB_mae = MAE(y_2012_val, XGB_pred_val)\n",
    "print(\"MAE XGB: \" + str(XGB_mae))"
   ]
  },
  {
   "cell_type": "code",
   "execution_count": 143,
   "metadata": {},
   "outputs": [
    {
     "name": "stdout",
     "output_type": "stream",
     "text": [
      "[09:28:27] WARNING: /workspace/src/objective/regression_obj.cu:152: reg:linear is now deprecated in favor of reg:squarederror.\n",
      "MAE XGB: 81822.89305811505\n"
     ]
    }
   ],
   "source": [
    "XGB_2013.fit(x_2013,y_2013)\n",
    "XGB_pred_val = XGB_2013.predict(x_2013_val)\n",
    "XGB_mae = MAE(y_2013_val, XGB_pred_val)\n",
    "print(\"MAE XGB: \" + str(XGB_mae))"
   ]
  },
  {
   "cell_type": "code",
   "execution_count": 144,
   "metadata": {},
   "outputs": [
    {
     "name": "stdout",
     "output_type": "stream",
     "text": [
      "[09:39:34] WARNING: /workspace/src/objective/regression_obj.cu:152: reg:linear is now deprecated in favor of reg:squarederror.\n",
      "MAE XGB: 185198.6652709997\n"
     ]
    }
   ],
   "source": [
    "XGB_2014.fit(x_2014,y_2014)\n",
    "XGB_pred_val = XGB_2014.predict(x_2014_val)\n",
    "XGB_mae = MAE(y_2014_val, XGB_pred_val)\n",
    "print(\"MAE XGB: \" + str(XGB_mae))"
   ]
  },
  {
   "cell_type": "code",
   "execution_count": 145,
   "metadata": {},
   "outputs": [
    {
     "name": "stdout",
     "output_type": "stream",
     "text": [
      "[09:47:24] WARNING: /workspace/src/objective/regression_obj.cu:152: reg:linear is now deprecated in favor of reg:squarederror.\n",
      "MAE XGB: 313417.72488774237\n"
     ]
    }
   ],
   "source": [
    "XGB_2015.fit(x_2015,y_2015)\n",
    "XGB_pred_val = XGB_2015.predict(x_2015_val)\n",
    "XGB_mae = MAE(y_2015_val, XGB_pred_val)\n",
    "print(\"MAE XGB: \" + str(XGB_mae))"
   ]
  },
  {
   "cell_type": "code",
   "execution_count": 146,
   "metadata": {},
   "outputs": [
    {
     "name": "stdout",
     "output_type": "stream",
     "text": [
      "[09:52:56] WARNING: /workspace/src/objective/regression_obj.cu:152: reg:linear is now deprecated in favor of reg:squarederror.\n",
      "MAE XGB: 477785.6354546602\n"
     ]
    }
   ],
   "source": [
    "XGB_2016.fit(x_2016,y_2016)\n",
    "XGB_pred_val = XGB_2016.predict(x_2016_val)\n",
    "XGB_mae = MAE(y_2016_val, XGB_pred_val)\n",
    "print(\"MAE XGB: \" + str(XGB_mae))"
   ]
  },
  {
   "cell_type": "code",
   "execution_count": 147,
   "metadata": {},
   "outputs": [
    {
     "name": "stdout",
     "output_type": "stream",
     "text": [
      "{'reg_alpha': 0.7492613379332995, 'subsample': 0.549819547636903, 'learning_rate': 0.06902992131997886, 'reg_lambda': 0.4026904141760629, 'n_estimators': 8959, 'gamma': 0.0001848966185690193, 'max_depth': 6, 'colsample_bytree': 0.8620504809076188, 'min_child_weight': 0.972238560837862, 'seed': 43}\n"
     ]
    }
   ],
   "source": [
    "print(params_2012)"
   ]
  },
  {
   "cell_type": "code",
   "execution_count": 148,
   "metadata": {},
   "outputs": [
    {
     "name": "stdout",
     "output_type": "stream",
     "text": [
      "{'reg_alpha': 0.3398912503161785, 'subsample': 0.6154682173990349, 'learning_rate': 0.05490288395872875, 'reg_lambda': 0.2873771021668522, 'n_estimators': 7821, 'gamma': 0.787421721969423, 'max_depth': 6, 'colsample_bytree': 0.6988824677203593, 'min_child_weight': 0.7655660848020114, 'seed': 12}\n"
     ]
    }
   ],
   "source": [
    "print(params_2013)"
   ]
  },
  {
   "cell_type": "code",
   "execution_count": 149,
   "metadata": {},
   "outputs": [
    {
     "data": {
      "text/plain": [
       "['XGB_2016.joblib']"
      ]
     },
     "execution_count": 149,
     "metadata": {},
     "output_type": "execute_result"
    }
   ],
   "source": [
    "dump(XGB_2012,'XGB_2012.joblib')\n",
    "dump(XGB_2013,'XGB_2013.joblib')\n",
    "dump(XGB_2014,'XGB_2014.joblib')\n",
    "dump(XGB_2015,'XGB_2015.joblib')\n",
    "dump(XGB_2016,'XGB_2016.joblib')"
   ]
  },
  {
   "cell_type": "markdown",
   "metadata": {},
   "source": [
    "## Random Forest"
   ]
  },
  {
   "cell_type": "code",
   "execution_count": 150,
   "metadata": {},
   "outputs": [],
   "source": [
    "def fabrica_RF(train, param_grid):\n",
    "    RF = RandomForestRegressor()\n",
    "    X = train.drop(['precio'], axis=1)\n",
    "    y = train['precio']\n",
    "    grid = RandomizedSearchCV(RF, param_grid, cv=4, scoring='neg_mean_absolute_error')\n",
    "    grid.fit(X, y)\n",
    "    RF = grid.best_estimator_\n",
    "    print(grid.best_params_)\n",
    "    print(grid.best_score_)\n",
    "    return RF"
   ]
  },
  {
   "cell_type": "code",
   "execution_count": 151,
   "metadata": {},
   "outputs": [],
   "source": [
    "param_grid = {\n",
    "    'bootstrap': [True],\n",
    "    'max_depth': [80, 90, 100, 110],\n",
    "    'max_features': [\"auto\"],\n",
    "    \"random_state\" : [42],\n",
    "    'min_samples_leaf': [3, 4, 5],\n",
    "    'min_samples_split': [8, 10, 12],\n",
    "    'n_estimators': [100, 200, 300, 400]    \n",
    "}"
   ]
  },
  {
   "cell_type": "code",
   "execution_count": null,
   "metadata": {
    "scrolled": false
   },
   "outputs": [
    {
     "name": "stdout",
     "output_type": "stream",
     "text": [
      "{'n_estimators': 300, 'max_features': 'auto', 'min_samples_leaf': 3, 'max_depth': 80, 'bootstrap': True, 'min_samples_split': 8, 'random_state': 42}\n",
      "-466700.37794187496\n",
      "{'n_estimators': 400, 'max_features': 'auto', 'min_samples_leaf': 3, 'max_depth': 110, 'bootstrap': True, 'min_samples_split': 10, 'random_state': 42}\n",
      "-459819.2504903971\n",
      "{'n_estimators': 200, 'max_features': 'auto', 'min_samples_leaf': 3, 'max_depth': 100, 'bootstrap': True, 'min_samples_split': 8, 'random_state': 42}\n",
      "-523897.9070279283\n",
      "{'n_estimators': 400, 'max_features': 'auto', 'min_samples_leaf': 4, 'max_depth': 100, 'bootstrap': True, 'min_samples_split': 8, 'random_state': 42}\n",
      "-558125.3993231788\n"
     ]
    }
   ],
   "source": [
    "rf_2012 = fabrica_RF(train_2012, param_grid)\n",
    "rf_2013 = fabrica_RF(train_2013, param_grid)\n",
    "rf_2014 = fabrica_RF(train_2014, param_grid)\n",
    "rf_2015 = fabrica_RF(train_2015, param_grid)\n",
    "rf_2016 = fabrica_RF(train_2016, param_grid)"
   ]
  },
  {
   "cell_type": "code",
   "execution_count": null,
   "metadata": {},
   "outputs": [],
   "source": [
    "#rf_2012 = RandomForestRegressor(n_estimators=200)\n",
    "rf_2012.fit(x_2012,y_2012)\n",
    "rf_pred_val = rf_2012.predict(x_2012_val)\n",
    "rf_mae = MAE(y_2012_val, rf_pred_val)\n",
    "print(\"MAE rf: \" + str(rf_mae))"
   ]
  },
  {
   "cell_type": "code",
   "execution_count": null,
   "metadata": {},
   "outputs": [],
   "source": [
    "#rf_2013 = RandomForestRegressor(n_estimators=200)\n",
    "rf_2013.fit(x_2013,y_2013)\n",
    "rf_pred_val = rf_2013.predict(x_2013_val)\n",
    "rf_mae = MAE(y_2013_val, rf_pred_val)\n",
    "print(\"MAE rf: \" + str(rf_mae))"
   ]
  },
  {
   "cell_type": "code",
   "execution_count": null,
   "metadata": {},
   "outputs": [],
   "source": [
    "#rf_2014 = RandomForestRegressor(n_estimators=200)\n",
    "rf_2014.fit(x_2014,y_2014)\n",
    "rf_pred_val = rf_2014.predict(x_2014_val)\n",
    "rf_mae = MAE(y_2014_val, rf_pred_val)\n",
    "print(\"MAE rf: \" + str(rf_mae))"
   ]
  },
  {
   "cell_type": "code",
   "execution_count": null,
   "metadata": {},
   "outputs": [],
   "source": [
    "#rf_2015 = RandomForestRegressor(n_estimators=200)\n",
    "rf_2015.fit(x_2015,y_2015)\n",
    "rf_pred_val = rf_2015.predict(x_2015_val)\n",
    "rf_mae = MAE(y_2015_val, rf_pred_val)\n",
    "print(\"MAE rf: \" + str(rf_mae))"
   ]
  },
  {
   "cell_type": "code",
   "execution_count": null,
   "metadata": {},
   "outputs": [],
   "source": [
    "#rf_2016 = RandomForestRegressor(n_estimators=200)\n",
    "rf_2016.fit(x_2016,y_2016)\n",
    "rf_pred_val = rf_2016.predict(x_2016_val)\n",
    "rf_mae = MAE(y_2016_val, rf_pred_val)\n",
    "print(\"MAE rf: \" + str(rf_mae))"
   ]
  },
  {
   "cell_type": "code",
   "execution_count": null,
   "metadata": {},
   "outputs": [],
   "source": [
    "#res_2012 = rf_2012.predict(test_2012)\n",
    "#res_2013 = rf_2013.predict(test_2013)\n",
    "#res_2014 = rf_2014.predict(test_2014)\n",
    "#res_2015 = rf_2015.predict(test_2015)\n",
    "#res_2016 = rf_2016.predict(test_2016)"
   ]
  },
  {
   "cell_type": "markdown",
   "metadata": {},
   "source": [
    "## Ensembles"
   ]
  },
  {
   "cell_type": "markdown",
   "metadata": {},
   "source": [
    "#### Voting Ensemble"
   ]
  },
  {
   "cell_type": "code",
   "execution_count": 298,
   "metadata": {},
   "outputs": [],
   "source": [
    "ensemble2012 = VotingRegressor([('rf', rf_2012), ('xgb', XGB_2012),('lgbm', lgbm_2012)])\n",
    "ensemble2013 = VotingRegressor([('rf', rf_2013), ('xgb', XGB_2013),('lgbm', lgbm_2013)])\n",
    "ensemble2014 = VotingRegressor([('rf', rf_2014), ('xgb', XGB_2014),('lgbm', lgbm_2014)])\n",
    "ensemble2015 = VotingRegressor([('rf', rf_2015), ('xgb', XGB_2015),('lgbm', lgbm_2015)])\n",
    "ensemble2016 = VotingRegressor([('rf', rf_2016), ('xgb', XGB_2016),('lgbm', lgbm_2016)])"
   ]
  },
  {
   "cell_type": "code",
   "execution_count": 299,
   "metadata": {},
   "outputs": [
    {
     "name": "stdout",
     "output_type": "stream",
     "text": [
      "MAE Ensemble: 281303.0169945019\n"
     ]
    }
   ],
   "source": [
    "ensemble2012.fit(x_2012, y_2012)\n",
    "en_pred_val = ensemble2012.predict(x_2012_val)\n",
    "en_mae = MAE(y_2012_val, en_pred_val)\n",
    "print(\"MAE Ensemble: \" + str(en_mae))"
   ]
  },
  {
   "cell_type": "code",
   "execution_count": 300,
   "metadata": {},
   "outputs": [
    {
     "name": "stdout",
     "output_type": "stream",
     "text": [
      "MAE Ensemble: 279642.2977729409\n"
     ]
    }
   ],
   "source": [
    "ensemble2013.fit(x_2013, y_2013)\n",
    "en_pred_val = ensemble2013.predict(x_2013_val)\n",
    "en_mae = MAE(y_2013_val, en_pred_val)\n",
    "print(\"MAE Ensemble: \" + str(en_mae))"
   ]
  },
  {
   "cell_type": "code",
   "execution_count": 301,
   "metadata": {},
   "outputs": [
    {
     "name": "stdout",
     "output_type": "stream",
     "text": [
      "MAE Ensemble: 327702.9598104\n"
     ]
    }
   ],
   "source": [
    "ensemble2014.fit(x_2014, y_2014)\n",
    "en_pred_val = ensemble2014.predict(x_2014_val)\n",
    "en_mae = MAE(y_2014_val, en_pred_val)\n",
    "print(\"MAE Ensemble: \" + str(en_mae))"
   ]
  },
  {
   "cell_type": "code",
   "execution_count": 302,
   "metadata": {},
   "outputs": [
    {
     "name": "stdout",
     "output_type": "stream",
     "text": [
      "MAE Ensemble: 357964.5959041208\n"
     ]
    }
   ],
   "source": [
    "ensemble2015.fit(x_2015, y_2015)\n",
    "en_pred_val = ensemble2015.predict(x_2015_val)\n",
    "en_mae = MAE(y_2015_val, en_pred_val)\n",
    "print(\"MAE Ensemble: \" + str(en_mae))"
   ]
  },
  {
   "cell_type": "code",
   "execution_count": 303,
   "metadata": {},
   "outputs": [
    {
     "name": "stdout",
     "output_type": "stream",
     "text": [
      "MAE Ensemble: 394672.4225389817\n"
     ]
    }
   ],
   "source": [
    "ensemble2016.fit(x_2016, y_2016)\n",
    "en_pred_val = ensemble2016.predict(x_2016_val)\n",
    "en_mae = MAE(y_2016_val, en_pred_val)\n",
    "print(\"MAE Ensemble: \" + str(en_mae))"
   ]
  },
  {
   "cell_type": "code",
   "execution_count": 304,
   "metadata": {},
   "outputs": [],
   "source": [
    "res_2012 = ensemble2012.predict(test_2012)\n",
    "res_2013 = ensemble2013.predict(test_2013)\n",
    "res_2014 = ensemble2014.predict(test_2014)\n",
    "res_2015 = ensemble2015.predict(test_2015)\n",
    "res_2016 = ensemble2016.predict(test_2016)"
   ]
  },
  {
   "cell_type": "code",
   "execution_count": 305,
   "metadata": {},
   "outputs": [],
   "source": [
    "res_2012 = pd.DataFrame(res_2012, index=test_2012.index, columns=['precio'])\n",
    "res_2012 = res_2012.rename(columns={'precio':'target'})\n",
    "\n",
    "res_2013 = pd.DataFrame(res_2013, index=test_2013.index, columns=['precio'])\n",
    "res_2013 = res_2013.rename(columns={'precio':'target'})\n",
    "\n",
    "res_2014 = pd.DataFrame(res_2014, index=test_2014.index, columns=['precio'])\n",
    "res_2014 = res_2014.rename(columns={'precio':'target'})\n",
    "\n",
    "res_2015 = pd.DataFrame(res_2015, index=test_2015.index, columns=['precio'])\n",
    "res_2015 = res_2015.rename(columns={'precio':'target'})\n",
    "\n",
    "res_2016 = pd.DataFrame(res_2016, index=test_2016.index, columns=['precio'])\n",
    "res_2016 = res_2016.rename(columns={'precio':'target'})"
   ]
  },
  {
   "cell_type": "code",
   "execution_count": 306,
   "metadata": {},
   "outputs": [],
   "source": [
    "res = res_2012.append(res_2013).append(res_2014).append(res_2015).append(res_2016)\n",
    "res.to_csv(\"workshop-submission-rf.csv\", header=True)"
   ]
  },
  {
   "cell_type": "markdown",
   "metadata": {},
   "source": [
    "#### Stacking Ensemble"
   ]
  },
  {
   "cell_type": "code",
   "execution_count": 363,
   "metadata": {},
   "outputs": [],
   "source": [
    "from mlxtend.classifier import StackingClassifier"
   ]
  },
  {
   "cell_type": "code",
   "execution_count": 362,
   "metadata": {},
   "outputs": [
    {
     "name": "stderr",
     "output_type": "stream",
     "text": [
      "/usr/local/lib/python3.5/dist-packages/xgboost/core.py:587: FutureWarning: Series.base is deprecated and will be removed in a future version\n",
      "  if getattr(data, 'base', None) is not None and \\\n",
      "/usr/local/lib/python3.5/dist-packages/xgboost/core.py:588: FutureWarning: Series.base is deprecated and will be removed in a future version\n",
      "  data.base is not None and isinstance(data, np.ndarray) \\\n"
     ]
    },
    {
     "name": "stdout",
     "output_type": "stream",
     "text": [
      "[03:36:53] WARNING: /workspace/src/objective/regression_obj.cu:152: reg:linear is now deprecated in favor of reg:squarederror.\n"
     ]
    },
    {
     "name": "stderr",
     "output_type": "stream",
     "text": [
      "/usr/local/lib/python3.5/dist-packages/xgboost/core.py:587: FutureWarning: Series.base is deprecated and will be removed in a future version\n",
      "  if getattr(data, 'base', None) is not None and \\\n",
      "/usr/local/lib/python3.5/dist-packages/xgboost/core.py:588: FutureWarning: Series.base is deprecated and will be removed in a future version\n",
      "  data.base is not None and isinstance(data, np.ndarray) \\\n"
     ]
    },
    {
     "name": "stdout",
     "output_type": "stream",
     "text": [
      "[03:40:50] WARNING: /workspace/src/objective/regression_obj.cu:152: reg:linear is now deprecated in favor of reg:squarederror.\n",
      "MAE Ensemble: 120533.24237604096\n"
     ]
    }
   ],
   "source": [
    "stack_2012 = StackingClassifier(classifiers=[lgbm_2012, KNN_2012, XGB_2012], meta_classifier=XGB_2012)\n",
    "stack_2012.fit(x_2012, y_2012)\n",
    "en_pred_val = stack_2012.predict(x_2012_val)\n",
    "en_mae = MAE(y_2012_val, en_pred_val)\n",
    "print(\"MAE Ensemble: \" + str(en_mae))"
   ]
  },
  {
   "cell_type": "code",
   "execution_count": 365,
   "metadata": {},
   "outputs": [
    {
     "name": "stderr",
     "output_type": "stream",
     "text": [
      "/usr/local/lib/python3.5/dist-packages/xgboost/core.py:587: FutureWarning: Series.base is deprecated and will be removed in a future version\n",
      "  if getattr(data, 'base', None) is not None and \\\n",
      "/usr/local/lib/python3.5/dist-packages/xgboost/core.py:588: FutureWarning: Series.base is deprecated and will be removed in a future version\n",
      "  data.base is not None and isinstance(data, np.ndarray) \\\n"
     ]
    },
    {
     "name": "stdout",
     "output_type": "stream",
     "text": [
      "[03:42:18] WARNING: /workspace/src/objective/regression_obj.cu:152: reg:linear is now deprecated in favor of reg:squarederror.\n"
     ]
    },
    {
     "name": "stderr",
     "output_type": "stream",
     "text": [
      "/usr/local/lib/python3.5/dist-packages/xgboost/core.py:587: FutureWarning: Series.base is deprecated and will be removed in a future version\n",
      "  if getattr(data, 'base', None) is not None and \\\n",
      "/usr/local/lib/python3.5/dist-packages/xgboost/core.py:588: FutureWarning: Series.base is deprecated and will be removed in a future version\n",
      "  data.base is not None and isinstance(data, np.ndarray) \\\n"
     ]
    },
    {
     "name": "stdout",
     "output_type": "stream",
     "text": [
      "[03:49:45] WARNING: /workspace/src/objective/regression_obj.cu:152: reg:linear is now deprecated in favor of reg:squarederror.\n",
      "MAE Ensemble: 107420.7633194024\n"
     ]
    }
   ],
   "source": [
    "stack_2013 = StackingClassifier(classifiers=[lgbm_2013, KNN_2013, XGB_2013], meta_classifier=XGB_2013)\n",
    "stack_2013.fit(x_2013, y_2013)\n",
    "en_pred_val = stack_2013.predict(x_2013_val)\n",
    "en_mae = MAE(y_2013_val, en_pred_val)\n",
    "print(\"MAE Ensemble: \" + str(en_mae))"
   ]
  },
  {
   "cell_type": "code",
   "execution_count": 367,
   "metadata": {},
   "outputs": [
    {
     "name": "stderr",
     "output_type": "stream",
     "text": [
      "/usr/local/lib/python3.5/dist-packages/xgboost/core.py:587: FutureWarning: Series.base is deprecated and will be removed in a future version\n",
      "  if getattr(data, 'base', None) is not None and \\\n",
      "/usr/local/lib/python3.5/dist-packages/xgboost/core.py:588: FutureWarning: Series.base is deprecated and will be removed in a future version\n",
      "  data.base is not None and isinstance(data, np.ndarray) \\\n"
     ]
    },
    {
     "name": "stdout",
     "output_type": "stream",
     "text": [
      "[03:53:40] WARNING: /workspace/src/objective/regression_obj.cu:152: reg:linear is now deprecated in favor of reg:squarederror.\n"
     ]
    },
    {
     "ename": "MemoryError",
     "evalue": "",
     "output_type": "error",
     "traceback": [
      "\u001b[0;31m---------------------------------------------------------------------------\u001b[0m",
      "\u001b[0;31mMemoryError\u001b[0m                               Traceback (most recent call last)",
      "\u001b[0;32m<ipython-input-367-6fe77db192db>\u001b[0m in \u001b[0;36m<module>\u001b[0;34m\u001b[0m\n\u001b[1;32m      1\u001b[0m \u001b[0mstack_2014\u001b[0m \u001b[0;34m=\u001b[0m \u001b[0mStackingClassifier\u001b[0m\u001b[0;34m(\u001b[0m\u001b[0mclassifiers\u001b[0m\u001b[0;34m=\u001b[0m\u001b[0;34m[\u001b[0m\u001b[0mlgbm_2014\u001b[0m\u001b[0;34m,\u001b[0m \u001b[0mKNN_2014\u001b[0m\u001b[0;34m,\u001b[0m \u001b[0mXGB_2014\u001b[0m\u001b[0;34m]\u001b[0m\u001b[0;34m,\u001b[0m \u001b[0mmeta_classifier\u001b[0m\u001b[0;34m=\u001b[0m\u001b[0mXGB_2014\u001b[0m\u001b[0;34m)\u001b[0m\u001b[0;34m\u001b[0m\u001b[0m\n\u001b[0;32m----> 2\u001b[0;31m \u001b[0mstack_2014\u001b[0m\u001b[0;34m.\u001b[0m\u001b[0mfit\u001b[0m\u001b[0;34m(\u001b[0m\u001b[0mx_2014\u001b[0m\u001b[0;34m,\u001b[0m \u001b[0my_2014\u001b[0m\u001b[0;34m)\u001b[0m\u001b[0;34m\u001b[0m\u001b[0m\n\u001b[0m\u001b[1;32m      3\u001b[0m \u001b[0men_pred_val\u001b[0m \u001b[0;34m=\u001b[0m \u001b[0mstack_2014\u001b[0m\u001b[0;34m.\u001b[0m\u001b[0mpredict\u001b[0m\u001b[0;34m(\u001b[0m\u001b[0mx_2014_val\u001b[0m\u001b[0;34m)\u001b[0m\u001b[0;34m\u001b[0m\u001b[0m\n\u001b[1;32m      4\u001b[0m \u001b[0men_mae\u001b[0m \u001b[0;34m=\u001b[0m \u001b[0mMAE\u001b[0m\u001b[0;34m(\u001b[0m\u001b[0my_2014_val\u001b[0m\u001b[0;34m,\u001b[0m \u001b[0men_pred_val\u001b[0m\u001b[0;34m)\u001b[0m\u001b[0;34m\u001b[0m\u001b[0m\n\u001b[1;32m      5\u001b[0m \u001b[0mprint\u001b[0m\u001b[0;34m(\u001b[0m\u001b[0;34m\"MAE Ensemble: \"\u001b[0m \u001b[0;34m+\u001b[0m \u001b[0mstr\u001b[0m\u001b[0;34m(\u001b[0m\u001b[0men_mae\u001b[0m\u001b[0;34m)\u001b[0m\u001b[0;34m)\u001b[0m\u001b[0;34m\u001b[0m\u001b[0m\n",
      "\u001b[0;32m/usr/local/lib/python3.5/dist-packages/mlxtend/classifier/stacking_classification.py\u001b[0m in \u001b[0;36mfit\u001b[0;34m(self, X, y, sample_weight)\u001b[0m\n\u001b[1;32m    163\u001b[0m                 \u001b[0mclf\u001b[0m\u001b[0;34m.\u001b[0m\u001b[0mfit\u001b[0m\u001b[0;34m(\u001b[0m\u001b[0mX\u001b[0m\u001b[0;34m,\u001b[0m \u001b[0my\u001b[0m\u001b[0;34m,\u001b[0m \u001b[0msample_weight\u001b[0m\u001b[0;34m=\u001b[0m\u001b[0msample_weight\u001b[0m\u001b[0;34m)\u001b[0m\u001b[0;34m\u001b[0m\u001b[0m\n\u001b[1;32m    164\u001b[0m \u001b[0;34m\u001b[0m\u001b[0m\n\u001b[0;32m--> 165\u001b[0;31m         \u001b[0mmeta_features\u001b[0m \u001b[0;34m=\u001b[0m \u001b[0mself\u001b[0m\u001b[0;34m.\u001b[0m\u001b[0mpredict_meta_features\u001b[0m\u001b[0;34m(\u001b[0m\u001b[0mX\u001b[0m\u001b[0;34m)\u001b[0m\u001b[0;34m\u001b[0m\u001b[0m\n\u001b[0m\u001b[1;32m    166\u001b[0m \u001b[0;34m\u001b[0m\u001b[0m\n\u001b[1;32m    167\u001b[0m         \u001b[0;32mif\u001b[0m \u001b[0mself\u001b[0m\u001b[0;34m.\u001b[0m\u001b[0mstore_train_meta_features\u001b[0m\u001b[0;34m:\u001b[0m\u001b[0;34m\u001b[0m\u001b[0m\n",
      "\u001b[0;32m/usr/local/lib/python3.5/dist-packages/mlxtend/classifier/stacking_classification.py\u001b[0m in \u001b[0;36mpredict_meta_features\u001b[0;34m(self, X)\u001b[0m\n\u001b[1;32m    226\u001b[0m                 \u001b[0mvals\u001b[0m \u001b[0;34m=\u001b[0m \u001b[0mnp\u001b[0m\u001b[0;34m.\u001b[0m\u001b[0mconcatenate\u001b[0m\u001b[0;34m(\u001b[0m\u001b[0mprobas\u001b[0m\u001b[0;34m,\u001b[0m \u001b[0maxis\u001b[0m\u001b[0;34m=\u001b[0m\u001b[0;36m1\u001b[0m\u001b[0;34m)\u001b[0m\u001b[0;34m\u001b[0m\u001b[0m\n\u001b[1;32m    227\u001b[0m         \u001b[0;32melse\u001b[0m\u001b[0;34m:\u001b[0m\u001b[0;34m\u001b[0m\u001b[0m\n\u001b[0;32m--> 228\u001b[0;31m             \u001b[0mvals\u001b[0m \u001b[0;34m=\u001b[0m \u001b[0mnp\u001b[0m\u001b[0;34m.\u001b[0m\u001b[0mcolumn_stack\u001b[0m\u001b[0;34m(\u001b[0m\u001b[0;34m[\u001b[0m\u001b[0mclf\u001b[0m\u001b[0;34m.\u001b[0m\u001b[0mpredict\u001b[0m\u001b[0;34m(\u001b[0m\u001b[0mX\u001b[0m\u001b[0;34m)\u001b[0m \u001b[0;32mfor\u001b[0m \u001b[0mclf\u001b[0m \u001b[0;32min\u001b[0m \u001b[0mself\u001b[0m\u001b[0;34m.\u001b[0m\u001b[0mclfs_\u001b[0m\u001b[0;34m]\u001b[0m\u001b[0;34m)\u001b[0m\u001b[0;34m\u001b[0m\u001b[0m\n\u001b[0m\u001b[1;32m    229\u001b[0m         \u001b[0;32mreturn\u001b[0m \u001b[0mvals\u001b[0m\u001b[0;34m\u001b[0m\u001b[0m\n\u001b[1;32m    230\u001b[0m \u001b[0;34m\u001b[0m\u001b[0m\n",
      "\u001b[0;32m/usr/local/lib/python3.5/dist-packages/mlxtend/classifier/stacking_classification.py\u001b[0m in \u001b[0;36m<listcomp>\u001b[0;34m(.0)\u001b[0m\n\u001b[1;32m    226\u001b[0m                 \u001b[0mvals\u001b[0m \u001b[0;34m=\u001b[0m \u001b[0mnp\u001b[0m\u001b[0;34m.\u001b[0m\u001b[0mconcatenate\u001b[0m\u001b[0;34m(\u001b[0m\u001b[0mprobas\u001b[0m\u001b[0;34m,\u001b[0m \u001b[0maxis\u001b[0m\u001b[0;34m=\u001b[0m\u001b[0;36m1\u001b[0m\u001b[0;34m)\u001b[0m\u001b[0;34m\u001b[0m\u001b[0m\n\u001b[1;32m    227\u001b[0m         \u001b[0;32melse\u001b[0m\u001b[0;34m:\u001b[0m\u001b[0;34m\u001b[0m\u001b[0m\n\u001b[0;32m--> 228\u001b[0;31m             \u001b[0mvals\u001b[0m \u001b[0;34m=\u001b[0m \u001b[0mnp\u001b[0m\u001b[0;34m.\u001b[0m\u001b[0mcolumn_stack\u001b[0m\u001b[0;34m(\u001b[0m\u001b[0;34m[\u001b[0m\u001b[0mclf\u001b[0m\u001b[0;34m.\u001b[0m\u001b[0mpredict\u001b[0m\u001b[0;34m(\u001b[0m\u001b[0mX\u001b[0m\u001b[0;34m)\u001b[0m \u001b[0;32mfor\u001b[0m \u001b[0mclf\u001b[0m \u001b[0;32min\u001b[0m \u001b[0mself\u001b[0m\u001b[0;34m.\u001b[0m\u001b[0mclfs_\u001b[0m\u001b[0;34m]\u001b[0m\u001b[0;34m)\u001b[0m\u001b[0;34m\u001b[0m\u001b[0m\n\u001b[0m\u001b[1;32m    229\u001b[0m         \u001b[0;32mreturn\u001b[0m \u001b[0mvals\u001b[0m\u001b[0;34m\u001b[0m\u001b[0m\n\u001b[1;32m    230\u001b[0m \u001b[0;34m\u001b[0m\u001b[0m\n",
      "\u001b[0;32m/usr/local/lib/python3.5/dist-packages/sklearn/neighbors/regression.py\u001b[0m in \u001b[0;36mpredict\u001b[0;34m(self, X)\u001b[0m\n\u001b[1;32m    155\u001b[0m         \u001b[0mX\u001b[0m \u001b[0;34m=\u001b[0m \u001b[0mcheck_array\u001b[0m\u001b[0;34m(\u001b[0m\u001b[0mX\u001b[0m\u001b[0;34m,\u001b[0m \u001b[0maccept_sparse\u001b[0m\u001b[0;34m=\u001b[0m\u001b[0;34m'csr'\u001b[0m\u001b[0;34m)\u001b[0m\u001b[0;34m\u001b[0m\u001b[0m\n\u001b[1;32m    156\u001b[0m \u001b[0;34m\u001b[0m\u001b[0m\n\u001b[0;32m--> 157\u001b[0;31m         \u001b[0mneigh_dist\u001b[0m\u001b[0;34m,\u001b[0m \u001b[0mneigh_ind\u001b[0m \u001b[0;34m=\u001b[0m \u001b[0mself\u001b[0m\u001b[0;34m.\u001b[0m\u001b[0mkneighbors\u001b[0m\u001b[0;34m(\u001b[0m\u001b[0mX\u001b[0m\u001b[0;34m)\u001b[0m\u001b[0;34m\u001b[0m\u001b[0m\n\u001b[0m\u001b[1;32m    158\u001b[0m \u001b[0;34m\u001b[0m\u001b[0m\n\u001b[1;32m    159\u001b[0m         \u001b[0mweights\u001b[0m \u001b[0;34m=\u001b[0m \u001b[0m_get_weights\u001b[0m\u001b[0;34m(\u001b[0m\u001b[0mneigh_dist\u001b[0m\u001b[0;34m,\u001b[0m \u001b[0mself\u001b[0m\u001b[0;34m.\u001b[0m\u001b[0mweights\u001b[0m\u001b[0;34m)\u001b[0m\u001b[0;34m\u001b[0m\u001b[0m\n",
      "\u001b[0;32m/usr/local/lib/python3.5/dist-packages/sklearn/neighbors/base.py\u001b[0m in \u001b[0;36mkneighbors\u001b[0;34m(self, X, n_neighbors, return_distance)\u001b[0m\n\u001b[1;32m    452\u001b[0m                 delayed_query(\n\u001b[1;32m    453\u001b[0m                     self._tree, X[s], n_neighbors, return_distance)\n\u001b[0;32m--> 454\u001b[0;31m                 \u001b[0;32mfor\u001b[0m \u001b[0ms\u001b[0m \u001b[0;32min\u001b[0m \u001b[0mgen_even_slices\u001b[0m\u001b[0;34m(\u001b[0m\u001b[0mX\u001b[0m\u001b[0;34m.\u001b[0m\u001b[0mshape\u001b[0m\u001b[0;34m[\u001b[0m\u001b[0;36m0\u001b[0m\u001b[0;34m]\u001b[0m\u001b[0;34m,\u001b[0m \u001b[0mn_jobs\u001b[0m\u001b[0;34m)\u001b[0m\u001b[0;34m\u001b[0m\u001b[0m\n\u001b[0m\u001b[1;32m    455\u001b[0m             )\n\u001b[1;32m    456\u001b[0m         \u001b[0;32melse\u001b[0m\u001b[0;34m:\u001b[0m\u001b[0;34m\u001b[0m\u001b[0m\n",
      "\u001b[0;32m/usr/local/lib/python3.5/dist-packages/joblib/parallel.py\u001b[0m in \u001b[0;36m__call__\u001b[0;34m(self, iterable)\u001b[0m\n\u001b[1;32m   1001\u001b[0m             \u001b[0;31m# remaining jobs.\u001b[0m\u001b[0;34m\u001b[0m\u001b[0;34m\u001b[0m\u001b[0m\n\u001b[1;32m   1002\u001b[0m             \u001b[0mself\u001b[0m\u001b[0;34m.\u001b[0m\u001b[0m_iterating\u001b[0m \u001b[0;34m=\u001b[0m \u001b[0;32mFalse\u001b[0m\u001b[0;34m\u001b[0m\u001b[0m\n\u001b[0;32m-> 1003\u001b[0;31m             \u001b[0;32mif\u001b[0m \u001b[0mself\u001b[0m\u001b[0;34m.\u001b[0m\u001b[0mdispatch_one_batch\u001b[0m\u001b[0;34m(\u001b[0m\u001b[0miterator\u001b[0m\u001b[0;34m)\u001b[0m\u001b[0;34m:\u001b[0m\u001b[0;34m\u001b[0m\u001b[0m\n\u001b[0m\u001b[1;32m   1004\u001b[0m                 \u001b[0mself\u001b[0m\u001b[0;34m.\u001b[0m\u001b[0m_iterating\u001b[0m \u001b[0;34m=\u001b[0m \u001b[0mself\u001b[0m\u001b[0;34m.\u001b[0m\u001b[0m_original_iterator\u001b[0m \u001b[0;32mis\u001b[0m \u001b[0;32mnot\u001b[0m \u001b[0;32mNone\u001b[0m\u001b[0;34m\u001b[0m\u001b[0m\n\u001b[1;32m   1005\u001b[0m \u001b[0;34m\u001b[0m\u001b[0m\n",
      "\u001b[0;32m/usr/local/lib/python3.5/dist-packages/joblib/parallel.py\u001b[0m in \u001b[0;36mdispatch_one_batch\u001b[0;34m(self, iterator)\u001b[0m\n\u001b[1;32m    832\u001b[0m                 \u001b[0;32mreturn\u001b[0m \u001b[0;32mFalse\u001b[0m\u001b[0;34m\u001b[0m\u001b[0m\n\u001b[1;32m    833\u001b[0m             \u001b[0;32melse\u001b[0m\u001b[0;34m:\u001b[0m\u001b[0;34m\u001b[0m\u001b[0m\n\u001b[0;32m--> 834\u001b[0;31m                 \u001b[0mself\u001b[0m\u001b[0;34m.\u001b[0m\u001b[0m_dispatch\u001b[0m\u001b[0;34m(\u001b[0m\u001b[0mtasks\u001b[0m\u001b[0;34m)\u001b[0m\u001b[0;34m\u001b[0m\u001b[0m\n\u001b[0m\u001b[1;32m    835\u001b[0m                 \u001b[0;32mreturn\u001b[0m \u001b[0;32mTrue\u001b[0m\u001b[0;34m\u001b[0m\u001b[0m\n\u001b[1;32m    836\u001b[0m \u001b[0;34m\u001b[0m\u001b[0m\n",
      "\u001b[0;32m/usr/local/lib/python3.5/dist-packages/joblib/parallel.py\u001b[0m in \u001b[0;36m_dispatch\u001b[0;34m(self, batch)\u001b[0m\n\u001b[1;32m    751\u001b[0m         \u001b[0;32mwith\u001b[0m \u001b[0mself\u001b[0m\u001b[0;34m.\u001b[0m\u001b[0m_lock\u001b[0m\u001b[0;34m:\u001b[0m\u001b[0;34m\u001b[0m\u001b[0m\n\u001b[1;32m    752\u001b[0m             \u001b[0mjob_idx\u001b[0m \u001b[0;34m=\u001b[0m \u001b[0mlen\u001b[0m\u001b[0;34m(\u001b[0m\u001b[0mself\u001b[0m\u001b[0;34m.\u001b[0m\u001b[0m_jobs\u001b[0m\u001b[0;34m)\u001b[0m\u001b[0;34m\u001b[0m\u001b[0m\n\u001b[0;32m--> 753\u001b[0;31m             \u001b[0mjob\u001b[0m \u001b[0;34m=\u001b[0m \u001b[0mself\u001b[0m\u001b[0;34m.\u001b[0m\u001b[0m_backend\u001b[0m\u001b[0;34m.\u001b[0m\u001b[0mapply_async\u001b[0m\u001b[0;34m(\u001b[0m\u001b[0mbatch\u001b[0m\u001b[0;34m,\u001b[0m \u001b[0mcallback\u001b[0m\u001b[0;34m=\u001b[0m\u001b[0mcb\u001b[0m\u001b[0;34m)\u001b[0m\u001b[0;34m\u001b[0m\u001b[0m\n\u001b[0m\u001b[1;32m    754\u001b[0m             \u001b[0;31m# A job can complete so quickly than its callback is\u001b[0m\u001b[0;34m\u001b[0m\u001b[0;34m\u001b[0m\u001b[0m\n\u001b[1;32m    755\u001b[0m             \u001b[0;31m# called before we get here, causing self._jobs to\u001b[0m\u001b[0;34m\u001b[0m\u001b[0;34m\u001b[0m\u001b[0m\n",
      "\u001b[0;32m/usr/local/lib/python3.5/dist-packages/joblib/_parallel_backends.py\u001b[0m in \u001b[0;36mapply_async\u001b[0;34m(self, func, callback)\u001b[0m\n\u001b[1;32m    199\u001b[0m     \u001b[0;32mdef\u001b[0m \u001b[0mapply_async\u001b[0m\u001b[0;34m(\u001b[0m\u001b[0mself\u001b[0m\u001b[0;34m,\u001b[0m \u001b[0mfunc\u001b[0m\u001b[0;34m,\u001b[0m \u001b[0mcallback\u001b[0m\u001b[0;34m=\u001b[0m\u001b[0;32mNone\u001b[0m\u001b[0;34m)\u001b[0m\u001b[0;34m:\u001b[0m\u001b[0;34m\u001b[0m\u001b[0m\n\u001b[1;32m    200\u001b[0m         \u001b[0;34m\"\"\"Schedule a func to be run\"\"\"\u001b[0m\u001b[0;34m\u001b[0m\u001b[0m\n\u001b[0;32m--> 201\u001b[0;31m         \u001b[0mresult\u001b[0m \u001b[0;34m=\u001b[0m \u001b[0mImmediateResult\u001b[0m\u001b[0;34m(\u001b[0m\u001b[0mfunc\u001b[0m\u001b[0;34m)\u001b[0m\u001b[0;34m\u001b[0m\u001b[0m\n\u001b[0m\u001b[1;32m    202\u001b[0m         \u001b[0;32mif\u001b[0m \u001b[0mcallback\u001b[0m\u001b[0;34m:\u001b[0m\u001b[0;34m\u001b[0m\u001b[0m\n\u001b[1;32m    203\u001b[0m             \u001b[0mcallback\u001b[0m\u001b[0;34m(\u001b[0m\u001b[0mresult\u001b[0m\u001b[0;34m)\u001b[0m\u001b[0;34m\u001b[0m\u001b[0m\n",
      "\u001b[0;32m/usr/local/lib/python3.5/dist-packages/joblib/_parallel_backends.py\u001b[0m in \u001b[0;36m__init__\u001b[0;34m(self, batch)\u001b[0m\n\u001b[1;32m    580\u001b[0m         \u001b[0;31m# Don't delay the application, to avoid keeping the input\u001b[0m\u001b[0;34m\u001b[0m\u001b[0;34m\u001b[0m\u001b[0m\n\u001b[1;32m    581\u001b[0m         \u001b[0;31m# arguments in memory\u001b[0m\u001b[0;34m\u001b[0m\u001b[0;34m\u001b[0m\u001b[0m\n\u001b[0;32m--> 582\u001b[0;31m         \u001b[0mself\u001b[0m\u001b[0;34m.\u001b[0m\u001b[0mresults\u001b[0m \u001b[0;34m=\u001b[0m \u001b[0mbatch\u001b[0m\u001b[0;34m(\u001b[0m\u001b[0;34m)\u001b[0m\u001b[0;34m\u001b[0m\u001b[0m\n\u001b[0m\u001b[1;32m    583\u001b[0m \u001b[0;34m\u001b[0m\u001b[0m\n\u001b[1;32m    584\u001b[0m     \u001b[0;32mdef\u001b[0m \u001b[0mget\u001b[0m\u001b[0;34m(\u001b[0m\u001b[0mself\u001b[0m\u001b[0;34m)\u001b[0m\u001b[0;34m:\u001b[0m\u001b[0;34m\u001b[0m\u001b[0m\n",
      "\u001b[0;32m/usr/local/lib/python3.5/dist-packages/joblib/parallel.py\u001b[0m in \u001b[0;36m__call__\u001b[0;34m(self)\u001b[0m\n\u001b[1;32m    254\u001b[0m         \u001b[0;32mwith\u001b[0m \u001b[0mparallel_backend\u001b[0m\u001b[0;34m(\u001b[0m\u001b[0mself\u001b[0m\u001b[0;34m.\u001b[0m\u001b[0m_backend\u001b[0m\u001b[0;34m,\u001b[0m \u001b[0mn_jobs\u001b[0m\u001b[0;34m=\u001b[0m\u001b[0mself\u001b[0m\u001b[0;34m.\u001b[0m\u001b[0m_n_jobs\u001b[0m\u001b[0;34m)\u001b[0m\u001b[0;34m:\u001b[0m\u001b[0;34m\u001b[0m\u001b[0m\n\u001b[1;32m    255\u001b[0m             return [func(*args, **kwargs)\n\u001b[0;32m--> 256\u001b[0;31m                     for func, args, kwargs in self.items]\n\u001b[0m\u001b[1;32m    257\u001b[0m \u001b[0;34m\u001b[0m\u001b[0m\n\u001b[1;32m    258\u001b[0m     \u001b[0;32mdef\u001b[0m \u001b[0m__len__\u001b[0m\u001b[0;34m(\u001b[0m\u001b[0mself\u001b[0m\u001b[0;34m)\u001b[0m\u001b[0;34m:\u001b[0m\u001b[0;34m\u001b[0m\u001b[0m\n",
      "\u001b[0;32m/usr/local/lib/python3.5/dist-packages/joblib/parallel.py\u001b[0m in \u001b[0;36m<listcomp>\u001b[0;34m(.0)\u001b[0m\n\u001b[1;32m    254\u001b[0m         \u001b[0;32mwith\u001b[0m \u001b[0mparallel_backend\u001b[0m\u001b[0;34m(\u001b[0m\u001b[0mself\u001b[0m\u001b[0;34m.\u001b[0m\u001b[0m_backend\u001b[0m\u001b[0;34m,\u001b[0m \u001b[0mn_jobs\u001b[0m\u001b[0;34m=\u001b[0m\u001b[0mself\u001b[0m\u001b[0;34m.\u001b[0m\u001b[0m_n_jobs\u001b[0m\u001b[0;34m)\u001b[0m\u001b[0;34m:\u001b[0m\u001b[0;34m\u001b[0m\u001b[0m\n\u001b[1;32m    255\u001b[0m             return [func(*args, **kwargs)\n\u001b[0;32m--> 256\u001b[0;31m                     for func, args, kwargs in self.items]\n\u001b[0m\u001b[1;32m    257\u001b[0m \u001b[0;34m\u001b[0m\u001b[0m\n\u001b[1;32m    258\u001b[0m     \u001b[0;32mdef\u001b[0m \u001b[0m__len__\u001b[0m\u001b[0;34m(\u001b[0m\u001b[0mself\u001b[0m\u001b[0;34m)\u001b[0m\u001b[0;34m:\u001b[0m\u001b[0;34m\u001b[0m\u001b[0m\n",
      "\u001b[0;32m/usr/local/lib/python3.5/dist-packages/sklearn/neighbors/base.py\u001b[0m in \u001b[0;36m_tree_query_parallel_helper\u001b[0;34m(tree, data, n_neighbors, return_distance)\u001b[0m\n\u001b[1;32m    289\u001b[0m     \u001b[0munder\u001b[0m \u001b[0mPyPy\u001b[0m\u001b[0;34m.\u001b[0m\u001b[0;34m\u001b[0m\u001b[0m\n\u001b[1;32m    290\u001b[0m     \"\"\"\n\u001b[0;32m--> 291\u001b[0;31m     \u001b[0;32mreturn\u001b[0m \u001b[0mtree\u001b[0m\u001b[0;34m.\u001b[0m\u001b[0mquery\u001b[0m\u001b[0;34m(\u001b[0m\u001b[0mdata\u001b[0m\u001b[0;34m,\u001b[0m \u001b[0mn_neighbors\u001b[0m\u001b[0;34m,\u001b[0m \u001b[0mreturn_distance\u001b[0m\u001b[0;34m)\u001b[0m\u001b[0;34m\u001b[0m\u001b[0m\n\u001b[0m\u001b[1;32m    292\u001b[0m \u001b[0;34m\u001b[0m\u001b[0m\n\u001b[1;32m    293\u001b[0m \u001b[0;34m\u001b[0m\u001b[0m\n",
      "\u001b[0;32msklearn/neighbors/binary_tree.pxi\u001b[0m in \u001b[0;36msklearn.neighbors.kd_tree.BinaryTree.query\u001b[0;34m()\u001b[0m\n",
      "\u001b[0;32msklearn/neighbors/binary_tree.pxi\u001b[0m in \u001b[0;36msklearn.neighbors.kd_tree.NeighborsHeap.__init__\u001b[0;34m()\u001b[0m\n",
      "\u001b[0;32m/usr/local/lib/python3.5/dist-packages/numpy/core/numeric.py\u001b[0m in \u001b[0;36mfull\u001b[0;34m(shape, fill_value, dtype, order)\u001b[0m\n\u001b[1;32m    307\u001b[0m \u001b[0;34m\u001b[0m\u001b[0m\n\u001b[1;32m    308\u001b[0m     \u001b[0mReturns\u001b[0m\u001b[0;34m\u001b[0m\u001b[0m\n\u001b[0;32m--> 309\u001b[0;31m     \u001b[0;34m-\u001b[0m\u001b[0;34m-\u001b[0m\u001b[0;34m-\u001b[0m\u001b[0;34m-\u001b[0m\u001b[0;34m-\u001b[0m\u001b[0;34m-\u001b[0m\u001b[0;34m-\u001b[0m\u001b[0;34m\u001b[0m\u001b[0m\n\u001b[0m\u001b[1;32m    310\u001b[0m     \u001b[0mout\u001b[0m \u001b[0;34m:\u001b[0m \u001b[0mndarray\u001b[0m\u001b[0;34m\u001b[0m\u001b[0m\n\u001b[1;32m    311\u001b[0m         \u001b[0mArray\u001b[0m \u001b[0mof\u001b[0m\u001b[0;31m \u001b[0m\u001b[0;31m`\u001b[0m\u001b[0mfill_value\u001b[0m\u001b[0;31m`\u001b[0m \u001b[0;32mwith\u001b[0m \u001b[0mthe\u001b[0m \u001b[0mgiven\u001b[0m \u001b[0mshape\u001b[0m\u001b[0;34m,\u001b[0m \u001b[0mdtype\u001b[0m\u001b[0;34m,\u001b[0m \u001b[0;32mand\u001b[0m \u001b[0morder\u001b[0m\u001b[0;34m.\u001b[0m\u001b[0;34m\u001b[0m\u001b[0m\n",
      "\u001b[0;31mMemoryError\u001b[0m: "
     ]
    }
   ],
   "source": [
    "stack_2014 = StackingClassifier(classifiers=[lgbm_2014, KNN_2014, XGB_2014], meta_classifier=XGB_2014)\n",
    "stack_2014.fit(x_2014, y_2014)\n",
    "en_pred_val = stack_2014.predict(x_2014_val)\n",
    "en_mae = MAE(y_2014_val, en_pred_val)\n",
    "print(\"MAE Ensemble: \" + str(en_mae))"
   ]
  },
  {
   "cell_type": "code",
   "execution_count": null,
   "metadata": {},
   "outputs": [
    {
     "name": "stderr",
     "output_type": "stream",
     "text": [
      "/usr/local/lib/python3.5/dist-packages/xgboost/core.py:587: FutureWarning: Series.base is deprecated and will be removed in a future version\n",
      "  if getattr(data, 'base', None) is not None and \\\n",
      "/usr/local/lib/python3.5/dist-packages/xgboost/core.py:588: FutureWarning: Series.base is deprecated and will be removed in a future version\n",
      "  data.base is not None and isinstance(data, np.ndarray) \\\n"
     ]
    },
    {
     "name": "stdout",
     "output_type": "stream",
     "text": [
      "[03:54:32] WARNING: /workspace/src/objective/regression_obj.cu:152: reg:linear is now deprecated in favor of reg:squarederror.\n"
     ]
    }
   ],
   "source": [
    "stack_2015 = StackingClassifier(classifiers=[lgbm_2015, KNN_2015, XGB_2015], meta_classifier=XGB_2015)\n",
    "stack_2015.fit(x_2015, y_2015)\n",
    "en_pred_val = stack_2015.predict(x_2015_val)\n",
    "en_mae = MAE(y_2015_val, en_pred_val)\n",
    "print(\"MAE Ensemble: \" + str(en_mae))"
   ]
  },
  {
   "cell_type": "code",
   "execution_count": 1,
   "metadata": {},
   "outputs": [
    {
     "ename": "NameError",
     "evalue": "name 'StackingClassifier' is not defined",
     "output_type": "error",
     "traceback": [
      "\u001b[0;31m---------------------------------------------------------------------------\u001b[0m",
      "\u001b[0;31mNameError\u001b[0m                                 Traceback (most recent call last)",
      "\u001b[0;32m<ipython-input-1-ed93233c7147>\u001b[0m in \u001b[0;36m<module>\u001b[0;34m\u001b[0m\n\u001b[0;32m----> 1\u001b[0;31m \u001b[0mstack_2016\u001b[0m \u001b[0;34m=\u001b[0m \u001b[0mStackingClassifier\u001b[0m\u001b[0;34m(\u001b[0m\u001b[0mclassifiers\u001b[0m\u001b[0;34m=\u001b[0m\u001b[0;34m[\u001b[0m\u001b[0mlgbm_2016\u001b[0m\u001b[0;34m,\u001b[0m \u001b[0mKNN_2016\u001b[0m\u001b[0;34m,\u001b[0m \u001b[0mXGB_2016\u001b[0m\u001b[0;34m]\u001b[0m\u001b[0;34m,\u001b[0m \u001b[0mmeta_classifier\u001b[0m\u001b[0;34m=\u001b[0m\u001b[0mXGB_2016\u001b[0m\u001b[0;34m)\u001b[0m\u001b[0;34m\u001b[0m\u001b[0m\n\u001b[0m\u001b[1;32m      2\u001b[0m \u001b[0mstack_2016\u001b[0m\u001b[0;34m.\u001b[0m\u001b[0mfit\u001b[0m\u001b[0;34m(\u001b[0m\u001b[0mx_2016\u001b[0m\u001b[0;34m,\u001b[0m \u001b[0my_2016\u001b[0m\u001b[0;34m)\u001b[0m\u001b[0;34m\u001b[0m\u001b[0m\n\u001b[1;32m      3\u001b[0m \u001b[0men_pred_val\u001b[0m \u001b[0;34m=\u001b[0m \u001b[0mstack_2012\u001b[0m\u001b[0;34m.\u001b[0m\u001b[0mpredict\u001b[0m\u001b[0;34m(\u001b[0m\u001b[0mx_2016_val\u001b[0m\u001b[0;34m)\u001b[0m\u001b[0;34m\u001b[0m\u001b[0m\n\u001b[1;32m      4\u001b[0m \u001b[0men_mae\u001b[0m \u001b[0;34m=\u001b[0m \u001b[0mMAE\u001b[0m\u001b[0;34m(\u001b[0m\u001b[0my_2016_val\u001b[0m\u001b[0;34m,\u001b[0m \u001b[0men_pred_val\u001b[0m\u001b[0;34m)\u001b[0m\u001b[0;34m\u001b[0m\u001b[0m\n\u001b[1;32m      5\u001b[0m \u001b[0mprint\u001b[0m\u001b[0;34m(\u001b[0m\u001b[0;34m\"MAE Ensemble: \"\u001b[0m \u001b[0;34m+\u001b[0m \u001b[0mstr\u001b[0m\u001b[0;34m(\u001b[0m\u001b[0men_mae\u001b[0m\u001b[0;34m)\u001b[0m\u001b[0;34m)\u001b[0m\u001b[0;34m\u001b[0m\u001b[0m\n",
      "\u001b[0;31mNameError\u001b[0m: name 'StackingClassifier' is not defined"
     ]
    }
   ],
   "source": [
    "stack_2016 = StackingClassifier(classifiers=[lgbm_2016, KNN_2016, XGB_2016], meta_classifier=XGB_2016)\n",
    "stack_2016.fit(x_2016, y_2016)\n",
    "en_pred_val = stack_2012.predict(x_2016_val)\n",
    "en_mae = MAE(y_2016_val, en_pred_val)\n",
    "print(\"MAE Ensemble: \" + str(en_mae))"
   ]
  },
  {
   "cell_type": "code",
   "execution_count": null,
   "metadata": {},
   "outputs": [],
   "source": [
    "stack_res_2012 = stack_2012.predict(test_2012)\n",
    "stack_res_2013 = stack_2013.predict(test_2013)\n",
    "stack_res_2014 = stack_2014.predict(test_2014)\n",
    "stack_res_2015 = stack_2015.predict(test_2015)\n",
    "stack_res_2016 = stack_2016.predict(test_2016)"
   ]
  },
  {
   "cell_type": "code",
   "execution_count": null,
   "metadata": {},
   "outputs": [],
   "source": [
    "stack_res_2012 = pd.DataFrame(stack_res_2012, index=test_2012.index, columns=['precio'])\n",
    "stack_res_2012 = stack_res_2012.rename(columns={'precio':'target'})\n",
    "\n",
    "stack_res_2013 = pd.DataFrame(stack_res_2013, index=test_2013.index, columns=['precio'])\n",
    "stack_res_2013 = stack_res_2013.rename(columns={'precio':'target'})\n",
    "\n",
    "stack_res_2014 = pd.DataFrame(stack_res_2014, index=test_2014.index, columns=['precio'])\n",
    "stack_res_2014 = stack_res_2014.rename(columns={'precio':'target'})\n",
    "\n",
    "stack_res_2015 = pd.DataFrame(stack_res_2015, index=test_2015.index, columns=['precio'])\n",
    "stack_res_2015 = stack_res_2015.rename(columns={'precio':'target'})\n",
    "\n",
    "stack_res_2016 = pd.DataFrame(stack_res_2016, index=test_2016.index, columns=['precio'])\n",
    "stack_res_2016 = stack_res_2016.rename(columns={'precio':'target'})"
   ]
  },
  {
   "cell_type": "code",
   "execution_count": null,
   "metadata": {},
   "outputs": [],
   "source": [
    "stack_res = stack_res_2012.append(stack_res_2013).append(stack_res_2014).append(stack_res_2015).append(stack_res_2016)\n",
    "stack_res.to_csv(\"workshop-submission-stacking.csv\", header=True)"
   ]
  }
 ],
 "metadata": {
  "kernelspec": {
   "display_name": "Python 3",
   "language": "python",
   "name": "python3"
  },
  "language_info": {
   "codemirror_mode": {
    "name": "ipython",
    "version": 3
   },
   "file_extension": ".py",
   "mimetype": "text/x-python",
   "name": "python",
   "nbconvert_exporter": "python",
   "pygments_lexer": "ipython3",
   "version": "3.5.2"
  }
 },
 "nbformat": 4,
 "nbformat_minor": 2
}
